from numpy.lib.function_base import place
import pandas as pd
import matplotlib.pyplot as plt 
d = pd.read_csv('./data/train_wf.csv')
d.groupby(by=['date','post_id'], as_index=False)['amount'].agg('sum')
d_a = d[d['post_id'] == 'A']
d_b = d[d['post_id'] == 'B']
plt.figure()
d_a.plot(x='date',y='amount')
