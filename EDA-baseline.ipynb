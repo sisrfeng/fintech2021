{
 "cells": [
  {
   "cell_type": "code",
   "execution_count": null,
   "metadata": {},
   "outputs": [],
   "source": [
    "import pandas as pd\n",
    "import numpy as np\n",
    "import os\n",
    "import matplotlib.pyplot as plt\n",
    "plt.close(\"all\")\n",
    "from distributed import Client\n",
    "client = Client()"
   ]
  },
  {
   "cell_type": "code",
   "execution_count": null,
   "metadata": {},
   "outputs": [],
   "source": [
    "train_df=pd.read_csv('./data/train_wf.csv')\n",
    "test_df=pd.read_csv('./data/wf_test_Nov_peri.csv')#按0.5h计算\n",
    "wkd_df=pd.read_csv('./data/wkd_v1.csv')\n",
    "wkd_df=wkd_df.rename(columns={'ORIG_DT':'date'})\n",
    "train_df=train_df.merge(wkd_df)"
   ]
  },
  {
   "cell_type": "code",
   "execution_count": null,
   "metadata": {},
   "outputs": [],
   "source": [
    "#将A/B岗位拆分出来分别分析，以天为粒度\n",
    "tmp=train_df[['date','post_id','amount']].groupby(['date','post_id'],sort=False).agg('sum')"
   ]
  },
  {
   "cell_type": "code",
   "execution_count": null,
   "metadata": {},
   "outputs": [],
   "source": [
    "train_day_df=tmp.reset_index()\n",
    "train_day_df_A=train_day_df[train_day_df['post_id']=='A'].reset_index(drop=True)\n",
    "train_day_df_B=train_day_df[train_day_df['post_id']=='B'].reset_index(drop=True)\n",
    "train_day_df_A=train_day_df_A.merge(wkd_df)\n",
    "train_day_df_B=train_day_df_B.merge(wkd_df)\n",
    "#\n",
    "def get_frt(df):\n",
    "    df['WKD_TYP_CD']=df['WKD_TYP_CD'].map({'WN':0,'SN': 1, 'NH': 1, 'SS': 1, 'WS': 0})\n",
    "    month=[]\n",
    "    day=[]\n",
    "    year=[]\n",
    "    for date in df['date'].values:\n",
    "        year.append(int(date.split('/')[0]))\n",
    "        month.append(int(date.split('/')[1]))\n",
    "        day.append(int(date.split('/')[2]))\n",
    "    df['year']=year\n",
    "    df['month']=month\n",
    "    df['day']=day\n",
    "    df.drop(['date','post_id'],axis=1,inplace=True)\n",
    "    return df\n",
    "train_day_df_A=get_frt(train_day_df_A)\n",
    "train_day_df_B=get_frt(train_day_df_B)\n",
    "train_day_df_A['amount']=train_day_df_A['amount']/1e4\n",
    "train_day_df_B['amount']=train_day_df_B['amount']/1e4"
   ]
  },
  {
   "cell_type": "code",
   "execution_count": null,
   "metadata": {},
   "outputs": [],
   "source": [
    "watch_week = train_day_df_A[85:200]\n",
    "pd.Series(watch_week['amount'].values, index=pd.date_range(\"2018-1-1\", periods=len(watch_week['amount'].values))).plot()\n",
    "watch_week = train_day_df_B[85:200]\n",
    "pd.Series(watch_week['amount'].values, index=pd.date_range(\"2018-1-1\", periods=len(watch_week['amount'].values))).plot()"
   ]
  },
  {
   "cell_type": "markdown",
   "metadata": {},
   "source": [
    "对于A：\n",
    "- 可以看到18/10--18/11月增加了(59.1890-54.6016)/54.6016=8.4%\n",
    "- 可以看到19/10--19/11月增加了(46.6275-44.9047)/44.9047=3.8%\n",
    "\n",
    "对于B:\n",
    "- 可以看到18/10--18/11月增加了(12.88-11.72)/11.72=9.9%\n",
    "- 可以看到19/10--19/11月增加了(3.793-3.625)/3.625=4.6%  \n",
    "18-19年月份之间的趋势变化基本一致，20年因为疫情影响，数值的绝对值在变化，\n",
    "但是趋势并未变化，如果以年份来看的话周期性十分明显。"
   ]
  },
  {
   "cell_type": "code",
   "execution_count": null,
   "metadata": {},
   "outputs": [],
   "source": [
    "#A: 看看每一年中每一个月的变化\n",
    "group_year_month_A=train_day_df_A[['year','month','amount']].groupby(['year','month'],sort=False).agg(['sum'])\n",
    "group_year_month_A=pd.DataFrame(group_year_month_A).reset_index()\n",
    "#agg(['sum'])会让'amount'变'amount sum'\n",
    "group_year_month_A.columns=['year','month','amount']"
   ]
  },
  {
   "cell_type": "code",
   "execution_count": 13,
   "metadata": {},
   "outputs": [
    {
     "output_type": "execute_result",
     "data": {
      "text/plain": [
       "<AxesSubplot:>"
      ]
     },
     "metadata": {},
     "execution_count": 13
    },
    {
     "output_type": "display_data",
     "data": {
      "text/plain": "<Figure size 432x288 with 1 Axes>",
      "image/svg+xml": "<?xml version=\"1.0\" encoding=\"utf-8\" standalone=\"no\"?>\n<!DOCTYPE svg PUBLIC \"-//W3C//DTD SVG 1.1//EN\"\n  \"http://www.w3.org/Graphics/SVG/1.1/DTD/svg11.dtd\">\n<!-- Created with matplotlib (https://matplotlib.org/) -->\n<svg height=\"259.715937pt\" version=\"1.1\" viewBox=\"0 0 368.925 259.715937\" width=\"368.925pt\" xmlns=\"http://www.w3.org/2000/svg\" xmlns:xlink=\"http://www.w3.org/1999/xlink\">\n <metadata>\n  <rdf:RDF xmlns:cc=\"http://creativecommons.org/ns#\" xmlns:dc=\"http://purl.org/dc/elements/1.1/\" xmlns:rdf=\"http://www.w3.org/1999/02/22-rdf-syntax-ns#\">\n   <cc:Work>\n    <dc:type rdf:resource=\"http://purl.org/dc/dcmitype/StillImage\"/>\n    <dc:date>2021-06-01T15:39:57.019832</dc:date>\n    <dc:format>image/svg+xml</dc:format>\n    <dc:creator>\n     <cc:Agent>\n      <dc:title>Matplotlib v3.3.4, https://matplotlib.org/</dc:title>\n     </cc:Agent>\n    </dc:creator>\n   </cc:Work>\n  </rdf:RDF>\n </metadata>\n <defs>\n  <style type=\"text/css\">*{stroke-linecap:butt;stroke-linejoin:round;}</style>\n </defs>\n <g id=\"figure_1\">\n  <g id=\"patch_1\">\n   <path d=\"M -0 259.715937 \nL 368.925 259.715937 \nL 368.925 0 \nL -0 0 \nz\n\" style=\"fill:none;\"/>\n  </g>\n  <g id=\"axes_1\">\n   <g id=\"patch_2\">\n    <path d=\"M 26.925 224.64 \nL 361.725 224.64 \nL 361.725 7.2 \nL 26.925 7.2 \nz\n\" style=\"fill:#ffffff;\"/>\n   </g>\n   <g id=\"matplotlib.axis_1\">\n    <g id=\"xtick_1\">\n     <g id=\"line2d_1\">\n      <defs>\n       <path d=\"M 0 0 \nL 0 3.5 \n\" id=\"m404b1e25a5\" style=\"stroke:#000000;stroke-width:0.8;\"/>\n      </defs>\n      <g>\n       <use style=\"stroke:#000000;stroke-width:0.8;\" x=\"26.925\" xlink:href=\"#m404b1e25a5\" y=\"224.64\"/>\n      </g>\n     </g>\n     <g id=\"text_1\">\n      <!-- Jan -->\n      <g transform=\"translate(19.217188 239.238438)scale(0.1 -0.1)\">\n       <defs>\n        <path d=\"M 9.8125 72.90625 \nL 19.671875 72.90625 \nL 19.671875 5.078125 \nQ 19.671875 -8.109375 14.671875 -14.0625 \nQ 9.671875 -20.015625 -1.421875 -20.015625 \nL -5.171875 -20.015625 \nL -5.171875 -11.71875 \nL -2.09375 -11.71875 \nQ 4.4375 -11.71875 7.125 -8.046875 \nQ 9.8125 -4.390625 9.8125 5.078125 \nz\n\" id=\"DejaVuSans-74\"/>\n        <path d=\"M 34.28125 27.484375 \nQ 23.390625 27.484375 19.1875 25 \nQ 14.984375 22.515625 14.984375 16.5 \nQ 14.984375 11.71875 18.140625 8.90625 \nQ 21.296875 6.109375 26.703125 6.109375 \nQ 34.1875 6.109375 38.703125 11.40625 \nQ 43.21875 16.703125 43.21875 25.484375 \nL 43.21875 27.484375 \nz\nM 52.203125 31.203125 \nL 52.203125 0 \nL 43.21875 0 \nL 43.21875 8.296875 \nQ 40.140625 3.328125 35.546875 0.953125 \nQ 30.953125 -1.421875 24.3125 -1.421875 \nQ 15.921875 -1.421875 10.953125 3.296875 \nQ 6 8.015625 6 15.921875 \nQ 6 25.140625 12.171875 29.828125 \nQ 18.359375 34.515625 30.609375 34.515625 \nL 43.21875 34.515625 \nL 43.21875 35.40625 \nQ 43.21875 41.609375 39.140625 45 \nQ 35.0625 48.390625 27.6875 48.390625 \nQ 23 48.390625 18.546875 47.265625 \nQ 14.109375 46.140625 10.015625 43.890625 \nL 10.015625 52.203125 \nQ 14.9375 54.109375 19.578125 55.046875 \nQ 24.21875 56 28.609375 56 \nQ 40.484375 56 46.34375 49.84375 \nQ 52.203125 43.703125 52.203125 31.203125 \nz\n\" id=\"DejaVuSans-97\"/>\n        <path d=\"M 54.890625 33.015625 \nL 54.890625 0 \nL 45.90625 0 \nL 45.90625 32.71875 \nQ 45.90625 40.484375 42.875 44.328125 \nQ 39.84375 48.1875 33.796875 48.1875 \nQ 26.515625 48.1875 22.3125 43.546875 \nQ 18.109375 38.921875 18.109375 30.90625 \nL 18.109375 0 \nL 9.078125 0 \nL 9.078125 54.6875 \nL 18.109375 54.6875 \nL 18.109375 46.1875 \nQ 21.34375 51.125 25.703125 53.5625 \nQ 30.078125 56 35.796875 56 \nQ 45.21875 56 50.046875 50.171875 \nQ 54.890625 44.34375 54.890625 33.015625 \nz\n\" id=\"DejaVuSans-110\"/>\n       </defs>\n       <use xlink:href=\"#DejaVuSans-74\"/>\n       <use x=\"29.492188\" xlink:href=\"#DejaVuSans-97\"/>\n       <use x=\"90.771484\" xlink:href=\"#DejaVuSans-110\"/>\n      </g>\n      <!-- 2018 -->\n      <g transform=\"translate(14.2 250.43625)scale(0.1 -0.1)\">\n       <defs>\n        <path d=\"M 19.1875 8.296875 \nL 53.609375 8.296875 \nL 53.609375 0 \nL 7.328125 0 \nL 7.328125 8.296875 \nQ 12.9375 14.109375 22.625 23.890625 \nQ 32.328125 33.6875 34.8125 36.53125 \nQ 39.546875 41.84375 41.421875 45.53125 \nQ 43.3125 49.21875 43.3125 52.78125 \nQ 43.3125 58.59375 39.234375 62.25 \nQ 35.15625 65.921875 28.609375 65.921875 \nQ 23.96875 65.921875 18.8125 64.3125 \nQ 13.671875 62.703125 7.8125 59.421875 \nL 7.8125 69.390625 \nQ 13.765625 71.78125 18.9375 73 \nQ 24.125 74.21875 28.421875 74.21875 \nQ 39.75 74.21875 46.484375 68.546875 \nQ 53.21875 62.890625 53.21875 53.421875 \nQ 53.21875 48.921875 51.53125 44.890625 \nQ 49.859375 40.875 45.40625 35.40625 \nQ 44.1875 33.984375 37.640625 27.21875 \nQ 31.109375 20.453125 19.1875 8.296875 \nz\n\" id=\"DejaVuSans-50\"/>\n        <path d=\"M 31.78125 66.40625 \nQ 24.171875 66.40625 20.328125 58.90625 \nQ 16.5 51.421875 16.5 36.375 \nQ 16.5 21.390625 20.328125 13.890625 \nQ 24.171875 6.390625 31.78125 6.390625 \nQ 39.453125 6.390625 43.28125 13.890625 \nQ 47.125 21.390625 47.125 36.375 \nQ 47.125 51.421875 43.28125 58.90625 \nQ 39.453125 66.40625 31.78125 66.40625 \nz\nM 31.78125 74.21875 \nQ 44.046875 74.21875 50.515625 64.515625 \nQ 56.984375 54.828125 56.984375 36.375 \nQ 56.984375 17.96875 50.515625 8.265625 \nQ 44.046875 -1.421875 31.78125 -1.421875 \nQ 19.53125 -1.421875 13.0625 8.265625 \nQ 6.59375 17.96875 6.59375 36.375 \nQ 6.59375 54.828125 13.0625 64.515625 \nQ 19.53125 74.21875 31.78125 74.21875 \nz\n\" id=\"DejaVuSans-48\"/>\n        <path d=\"M 12.40625 8.296875 \nL 28.515625 8.296875 \nL 28.515625 63.921875 \nL 10.984375 60.40625 \nL 10.984375 69.390625 \nL 28.421875 72.90625 \nL 38.28125 72.90625 \nL 38.28125 8.296875 \nL 54.390625 8.296875 \nL 54.390625 0 \nL 12.40625 0 \nz\n\" id=\"DejaVuSans-49\"/>\n        <path d=\"M 31.78125 34.625 \nQ 24.75 34.625 20.71875 30.859375 \nQ 16.703125 27.09375 16.703125 20.515625 \nQ 16.703125 13.921875 20.71875 10.15625 \nQ 24.75 6.390625 31.78125 6.390625 \nQ 38.8125 6.390625 42.859375 10.171875 \nQ 46.921875 13.96875 46.921875 20.515625 \nQ 46.921875 27.09375 42.890625 30.859375 \nQ 38.875 34.625 31.78125 34.625 \nz\nM 21.921875 38.8125 \nQ 15.578125 40.375 12.03125 44.71875 \nQ 8.5 49.078125 8.5 55.328125 \nQ 8.5 64.0625 14.71875 69.140625 \nQ 20.953125 74.21875 31.78125 74.21875 \nQ 42.671875 74.21875 48.875 69.140625 \nQ 55.078125 64.0625 55.078125 55.328125 \nQ 55.078125 49.078125 51.53125 44.71875 \nQ 48 40.375 41.703125 38.8125 \nQ 48.828125 37.15625 52.796875 32.3125 \nQ 56.78125 27.484375 56.78125 20.515625 \nQ 56.78125 9.90625 50.3125 4.234375 \nQ 43.84375 -1.421875 31.78125 -1.421875 \nQ 19.734375 -1.421875 13.25 4.234375 \nQ 6.78125 9.90625 6.78125 20.515625 \nQ 6.78125 27.484375 10.78125 32.3125 \nQ 14.796875 37.15625 21.921875 38.8125 \nz\nM 18.3125 54.390625 \nQ 18.3125 48.734375 21.84375 45.5625 \nQ 25.390625 42.390625 31.78125 42.390625 \nQ 38.140625 42.390625 41.71875 45.5625 \nQ 45.3125 48.734375 45.3125 54.390625 \nQ 45.3125 60.0625 41.71875 63.234375 \nQ 38.140625 66.40625 31.78125 66.40625 \nQ 25.390625 66.40625 21.84375 63.234375 \nQ 18.3125 60.0625 18.3125 54.390625 \nz\n\" id=\"DejaVuSans-56\"/>\n       </defs>\n       <use xlink:href=\"#DejaVuSans-50\"/>\n       <use x=\"63.623047\" xlink:href=\"#DejaVuSans-48\"/>\n       <use x=\"127.246094\" xlink:href=\"#DejaVuSans-49\"/>\n       <use x=\"190.869141\" xlink:href=\"#DejaVuSans-56\"/>\n      </g>\n     </g>\n    </g>\n    <g id=\"xtick_2\">\n     <g id=\"line2d_2\">\n      <g>\n       <use style=\"stroke:#000000;stroke-width:0.8;\" x=\"148.670455\" xlink:href=\"#m404b1e25a5\" y=\"224.64\"/>\n      </g>\n     </g>\n     <g id=\"text_2\">\n      <!-- Jan -->\n      <g transform=\"translate(140.962642 239.238438)scale(0.1 -0.1)\">\n       <use xlink:href=\"#DejaVuSans-74\"/>\n       <use x=\"29.492188\" xlink:href=\"#DejaVuSans-97\"/>\n       <use x=\"90.771484\" xlink:href=\"#DejaVuSans-110\"/>\n      </g>\n      <!-- 2019 -->\n      <g transform=\"translate(135.945455 250.43625)scale(0.1 -0.1)\">\n       <defs>\n        <path d=\"M 10.984375 1.515625 \nL 10.984375 10.5 \nQ 14.703125 8.734375 18.5 7.8125 \nQ 22.3125 6.890625 25.984375 6.890625 \nQ 35.75 6.890625 40.890625 13.453125 \nQ 46.046875 20.015625 46.78125 33.40625 \nQ 43.953125 29.203125 39.59375 26.953125 \nQ 35.25 24.703125 29.984375 24.703125 \nQ 19.046875 24.703125 12.671875 31.3125 \nQ 6.296875 37.9375 6.296875 49.421875 \nQ 6.296875 60.640625 12.9375 67.421875 \nQ 19.578125 74.21875 30.609375 74.21875 \nQ 43.265625 74.21875 49.921875 64.515625 \nQ 56.59375 54.828125 56.59375 36.375 \nQ 56.59375 19.140625 48.40625 8.859375 \nQ 40.234375 -1.421875 26.421875 -1.421875 \nQ 22.703125 -1.421875 18.890625 -0.6875 \nQ 15.09375 0.046875 10.984375 1.515625 \nz\nM 30.609375 32.421875 \nQ 37.25 32.421875 41.125 36.953125 \nQ 45.015625 41.5 45.015625 49.421875 \nQ 45.015625 57.28125 41.125 61.84375 \nQ 37.25 66.40625 30.609375 66.40625 \nQ 23.96875 66.40625 20.09375 61.84375 \nQ 16.21875 57.28125 16.21875 49.421875 \nQ 16.21875 41.5 20.09375 36.953125 \nQ 23.96875 32.421875 30.609375 32.421875 \nz\n\" id=\"DejaVuSans-57\"/>\n       </defs>\n       <use xlink:href=\"#DejaVuSans-50\"/>\n       <use x=\"63.623047\" xlink:href=\"#DejaVuSans-48\"/>\n       <use x=\"127.246094\" xlink:href=\"#DejaVuSans-49\"/>\n       <use x=\"190.869141\" xlink:href=\"#DejaVuSans-57\"/>\n      </g>\n     </g>\n    </g>\n    <g id=\"xtick_3\">\n     <g id=\"line2d_3\">\n      <g>\n       <use style=\"stroke:#000000;stroke-width:0.8;\" x=\"270.415909\" xlink:href=\"#m404b1e25a5\" y=\"224.64\"/>\n      </g>\n     </g>\n     <g id=\"text_3\">\n      <!-- Jan -->\n      <g transform=\"translate(262.708097 239.238438)scale(0.1 -0.1)\">\n       <use xlink:href=\"#DejaVuSans-74\"/>\n       <use x=\"29.492188\" xlink:href=\"#DejaVuSans-97\"/>\n       <use x=\"90.771484\" xlink:href=\"#DejaVuSans-110\"/>\n      </g>\n      <!-- 2020 -->\n      <g transform=\"translate(257.690909 250.43625)scale(0.1 -0.1)\">\n       <use xlink:href=\"#DejaVuSans-50\"/>\n       <use x=\"63.623047\" xlink:href=\"#DejaVuSans-48\"/>\n       <use x=\"127.246094\" xlink:href=\"#DejaVuSans-50\"/>\n       <use x=\"190.869141\" xlink:href=\"#DejaVuSans-48\"/>\n      </g>\n     </g>\n    </g>\n    <g id=\"xtick_4\">\n     <g id=\"line2d_4\">\n      <defs>\n       <path d=\"M 0 0 \nL 0 2 \n\" id=\"ma0751f586a\" style=\"stroke:#000000;stroke-width:0.6;\"/>\n      </defs>\n      <g>\n       <use style=\"stroke:#000000;stroke-width:0.6;\" x=\"37.070455\" xlink:href=\"#ma0751f586a\" y=\"224.64\"/>\n      </g>\n     </g>\n    </g>\n    <g id=\"xtick_5\">\n     <g id=\"line2d_5\">\n      <g>\n       <use style=\"stroke:#000000;stroke-width:0.6;\" x=\"47.215909\" xlink:href=\"#ma0751f586a\" y=\"224.64\"/>\n      </g>\n     </g>\n    </g>\n    <g id=\"xtick_6\">\n     <g id=\"line2d_6\">\n      <g>\n       <use style=\"stroke:#000000;stroke-width:0.6;\" x=\"57.361364\" xlink:href=\"#ma0751f586a\" y=\"224.64\"/>\n      </g>\n     </g>\n    </g>\n    <g id=\"xtick_7\">\n     <g id=\"line2d_7\">\n      <g>\n       <use style=\"stroke:#000000;stroke-width:0.6;\" x=\"67.506818\" xlink:href=\"#ma0751f586a\" y=\"224.64\"/>\n      </g>\n     </g>\n    </g>\n    <g id=\"xtick_8\">\n     <g id=\"line2d_8\">\n      <g>\n       <use style=\"stroke:#000000;stroke-width:0.6;\" x=\"77.652273\" xlink:href=\"#ma0751f586a\" y=\"224.64\"/>\n      </g>\n     </g>\n    </g>\n    <g id=\"xtick_9\">\n     <g id=\"line2d_9\">\n      <g>\n       <use style=\"stroke:#000000;stroke-width:0.6;\" x=\"87.797727\" xlink:href=\"#ma0751f586a\" y=\"224.64\"/>\n      </g>\n     </g>\n     <g id=\"text_4\">\n      <!-- Jul -->\n      <g transform=\"translate(81.764915 237.638438)scale(0.1 -0.1)\">\n       <defs>\n        <path d=\"M 8.5 21.578125 \nL 8.5 54.6875 \nL 17.484375 54.6875 \nL 17.484375 21.921875 \nQ 17.484375 14.15625 20.5 10.265625 \nQ 23.53125 6.390625 29.59375 6.390625 \nQ 36.859375 6.390625 41.078125 11.03125 \nQ 45.3125 15.671875 45.3125 23.6875 \nL 45.3125 54.6875 \nL 54.296875 54.6875 \nL 54.296875 0 \nL 45.3125 0 \nL 45.3125 8.40625 \nQ 42.046875 3.421875 37.71875 1 \nQ 33.40625 -1.421875 27.6875 -1.421875 \nQ 18.265625 -1.421875 13.375 4.4375 \nQ 8.5 10.296875 8.5 21.578125 \nz\nM 31.109375 56 \nz\n\" id=\"DejaVuSans-117\"/>\n        <path d=\"M 9.421875 75.984375 \nL 18.40625 75.984375 \nL 18.40625 0 \nL 9.421875 0 \nz\n\" id=\"DejaVuSans-108\"/>\n       </defs>\n       <use xlink:href=\"#DejaVuSans-74\"/>\n       <use x=\"29.492188\" xlink:href=\"#DejaVuSans-117\"/>\n       <use x=\"92.871094\" xlink:href=\"#DejaVuSans-108\"/>\n      </g>\n     </g>\n    </g>\n    <g id=\"xtick_10\">\n     <g id=\"line2d_10\">\n      <g>\n       <use style=\"stroke:#000000;stroke-width:0.6;\" x=\"97.943182\" xlink:href=\"#ma0751f586a\" y=\"224.64\"/>\n      </g>\n     </g>\n    </g>\n    <g id=\"xtick_11\">\n     <g id=\"line2d_11\">\n      <g>\n       <use style=\"stroke:#000000;stroke-width:0.6;\" x=\"108.088636\" xlink:href=\"#ma0751f586a\" y=\"224.64\"/>\n      </g>\n     </g>\n    </g>\n    <g id=\"xtick_12\">\n     <g id=\"line2d_12\">\n      <g>\n       <use style=\"stroke:#000000;stroke-width:0.6;\" x=\"118.234091\" xlink:href=\"#ma0751f586a\" y=\"224.64\"/>\n      </g>\n     </g>\n    </g>\n    <g id=\"xtick_13\">\n     <g id=\"line2d_13\">\n      <g>\n       <use style=\"stroke:#000000;stroke-width:0.6;\" x=\"128.379545\" xlink:href=\"#ma0751f586a\" y=\"224.64\"/>\n      </g>\n     </g>\n    </g>\n    <g id=\"xtick_14\">\n     <g id=\"line2d_14\">\n      <g>\n       <use style=\"stroke:#000000;stroke-width:0.6;\" x=\"138.525\" xlink:href=\"#ma0751f586a\" y=\"224.64\"/>\n      </g>\n     </g>\n    </g>\n    <g id=\"xtick_15\">\n     <g id=\"line2d_15\">\n      <g>\n       <use style=\"stroke:#000000;stroke-width:0.6;\" x=\"158.815909\" xlink:href=\"#ma0751f586a\" y=\"224.64\"/>\n      </g>\n     </g>\n    </g>\n    <g id=\"xtick_16\">\n     <g id=\"line2d_16\">\n      <g>\n       <use style=\"stroke:#000000;stroke-width:0.6;\" x=\"168.961364\" xlink:href=\"#ma0751f586a\" y=\"224.64\"/>\n      </g>\n     </g>\n    </g>\n    <g id=\"xtick_17\">\n     <g id=\"line2d_17\">\n      <g>\n       <use style=\"stroke:#000000;stroke-width:0.6;\" x=\"179.106818\" xlink:href=\"#ma0751f586a\" y=\"224.64\"/>\n      </g>\n     </g>\n    </g>\n    <g id=\"xtick_18\">\n     <g id=\"line2d_18\">\n      <g>\n       <use style=\"stroke:#000000;stroke-width:0.6;\" x=\"189.252273\" xlink:href=\"#ma0751f586a\" y=\"224.64\"/>\n      </g>\n     </g>\n    </g>\n    <g id=\"xtick_19\">\n     <g id=\"line2d_19\">\n      <g>\n       <use style=\"stroke:#000000;stroke-width:0.6;\" x=\"199.397727\" xlink:href=\"#ma0751f586a\" y=\"224.64\"/>\n      </g>\n     </g>\n    </g>\n    <g id=\"xtick_20\">\n     <g id=\"line2d_20\">\n      <g>\n       <use style=\"stroke:#000000;stroke-width:0.6;\" x=\"209.543182\" xlink:href=\"#ma0751f586a\" y=\"224.64\"/>\n      </g>\n     </g>\n     <g id=\"text_5\">\n      <!-- Jul -->\n      <g transform=\"translate(203.510369 237.638438)scale(0.1 -0.1)\">\n       <use xlink:href=\"#DejaVuSans-74\"/>\n       <use x=\"29.492188\" xlink:href=\"#DejaVuSans-117\"/>\n       <use x=\"92.871094\" xlink:href=\"#DejaVuSans-108\"/>\n      </g>\n     </g>\n    </g>\n    <g id=\"xtick_21\">\n     <g id=\"line2d_21\">\n      <g>\n       <use style=\"stroke:#000000;stroke-width:0.6;\" x=\"219.688636\" xlink:href=\"#ma0751f586a\" y=\"224.64\"/>\n      </g>\n     </g>\n    </g>\n    <g id=\"xtick_22\">\n     <g id=\"line2d_22\">\n      <g>\n       <use style=\"stroke:#000000;stroke-width:0.6;\" x=\"229.834091\" xlink:href=\"#ma0751f586a\" y=\"224.64\"/>\n      </g>\n     </g>\n    </g>\n    <g id=\"xtick_23\">\n     <g id=\"line2d_23\">\n      <g>\n       <use style=\"stroke:#000000;stroke-width:0.6;\" x=\"239.979545\" xlink:href=\"#ma0751f586a\" y=\"224.64\"/>\n      </g>\n     </g>\n    </g>\n    <g id=\"xtick_24\">\n     <g id=\"line2d_24\">\n      <g>\n       <use style=\"stroke:#000000;stroke-width:0.6;\" x=\"250.125\" xlink:href=\"#ma0751f586a\" y=\"224.64\"/>\n      </g>\n     </g>\n    </g>\n    <g id=\"xtick_25\">\n     <g id=\"line2d_25\">\n      <g>\n       <use style=\"stroke:#000000;stroke-width:0.6;\" x=\"260.270455\" xlink:href=\"#ma0751f586a\" y=\"224.64\"/>\n      </g>\n     </g>\n    </g>\n    <g id=\"xtick_26\">\n     <g id=\"line2d_26\">\n      <g>\n       <use style=\"stroke:#000000;stroke-width:0.6;\" x=\"280.561364\" xlink:href=\"#ma0751f586a\" y=\"224.64\"/>\n      </g>\n     </g>\n    </g>\n    <g id=\"xtick_27\">\n     <g id=\"line2d_27\">\n      <g>\n       <use style=\"stroke:#000000;stroke-width:0.6;\" x=\"290.706818\" xlink:href=\"#ma0751f586a\" y=\"224.64\"/>\n      </g>\n     </g>\n    </g>\n    <g id=\"xtick_28\">\n     <g id=\"line2d_28\">\n      <g>\n       <use style=\"stroke:#000000;stroke-width:0.6;\" x=\"300.852273\" xlink:href=\"#ma0751f586a\" y=\"224.64\"/>\n      </g>\n     </g>\n    </g>\n    <g id=\"xtick_29\">\n     <g id=\"line2d_29\">\n      <g>\n       <use style=\"stroke:#000000;stroke-width:0.6;\" x=\"310.997727\" xlink:href=\"#ma0751f586a\" y=\"224.64\"/>\n      </g>\n     </g>\n    </g>\n    <g id=\"xtick_30\">\n     <g id=\"line2d_30\">\n      <g>\n       <use style=\"stroke:#000000;stroke-width:0.6;\" x=\"321.143182\" xlink:href=\"#ma0751f586a\" y=\"224.64\"/>\n      </g>\n     </g>\n    </g>\n    <g id=\"xtick_31\">\n     <g id=\"line2d_31\">\n      <g>\n       <use style=\"stroke:#000000;stroke-width:0.6;\" x=\"331.288636\" xlink:href=\"#ma0751f586a\" y=\"224.64\"/>\n      </g>\n     </g>\n     <g id=\"text_6\">\n      <!-- Jul -->\n      <g transform=\"translate(325.255824 237.638438)scale(0.1 -0.1)\">\n       <use xlink:href=\"#DejaVuSans-74\"/>\n       <use x=\"29.492188\" xlink:href=\"#DejaVuSans-117\"/>\n       <use x=\"92.871094\" xlink:href=\"#DejaVuSans-108\"/>\n      </g>\n     </g>\n    </g>\n    <g id=\"xtick_32\">\n     <g id=\"line2d_32\">\n      <g>\n       <use style=\"stroke:#000000;stroke-width:0.6;\" x=\"341.434091\" xlink:href=\"#ma0751f586a\" y=\"224.64\"/>\n      </g>\n     </g>\n    </g>\n    <g id=\"xtick_33\">\n     <g id=\"line2d_33\">\n      <g>\n       <use style=\"stroke:#000000;stroke-width:0.6;\" x=\"351.579545\" xlink:href=\"#ma0751f586a\" y=\"224.64\"/>\n      </g>\n     </g>\n    </g>\n    <g id=\"xtick_34\">\n     <g id=\"line2d_34\">\n      <g>\n       <use style=\"stroke:#000000;stroke-width:0.6;\" x=\"361.725\" xlink:href=\"#ma0751f586a\" y=\"224.64\"/>\n      </g>\n     </g>\n    </g>\n   </g>\n   <g id=\"matplotlib.axis_2\">\n    <g id=\"ytick_1\">\n     <g id=\"line2d_35\">\n      <defs>\n       <path d=\"M 0 0 \nL -3.5 0 \n\" id=\"m4f6a0e3744\" style=\"stroke:#000000;stroke-width:0.8;\"/>\n      </defs>\n      <g>\n       <use style=\"stroke:#000000;stroke-width:0.8;\" x=\"26.925\" xlink:href=\"#m4f6a0e3744\" y=\"213.311217\"/>\n      </g>\n     </g>\n     <g id=\"text_7\">\n      <!-- 10 -->\n      <g transform=\"translate(7.2 217.110436)scale(0.1 -0.1)\">\n       <use xlink:href=\"#DejaVuSans-49\"/>\n       <use x=\"63.623047\" xlink:href=\"#DejaVuSans-48\"/>\n      </g>\n     </g>\n    </g>\n    <g id=\"ytick_2\">\n     <g id=\"line2d_36\">\n      <g>\n       <use style=\"stroke:#000000;stroke-width:0.8;\" x=\"26.925\" xlink:href=\"#m4f6a0e3744\" y=\"185.789856\"/>\n      </g>\n     </g>\n     <g id=\"text_8\">\n      <!-- 20 -->\n      <g transform=\"translate(7.2 189.589075)scale(0.1 -0.1)\">\n       <use xlink:href=\"#DejaVuSans-50\"/>\n       <use x=\"63.623047\" xlink:href=\"#DejaVuSans-48\"/>\n      </g>\n     </g>\n    </g>\n    <g id=\"ytick_3\">\n     <g id=\"line2d_37\">\n      <g>\n       <use style=\"stroke:#000000;stroke-width:0.8;\" x=\"26.925\" xlink:href=\"#m4f6a0e3744\" y=\"158.268495\"/>\n      </g>\n     </g>\n     <g id=\"text_9\">\n      <!-- 30 -->\n      <g transform=\"translate(7.2 162.067713)scale(0.1 -0.1)\">\n       <defs>\n        <path d=\"M 40.578125 39.3125 \nQ 47.65625 37.796875 51.625 33 \nQ 55.609375 28.21875 55.609375 21.1875 \nQ 55.609375 10.40625 48.1875 4.484375 \nQ 40.765625 -1.421875 27.09375 -1.421875 \nQ 22.515625 -1.421875 17.65625 -0.515625 \nQ 12.796875 0.390625 7.625 2.203125 \nL 7.625 11.71875 \nQ 11.71875 9.328125 16.59375 8.109375 \nQ 21.484375 6.890625 26.8125 6.890625 \nQ 36.078125 6.890625 40.9375 10.546875 \nQ 45.796875 14.203125 45.796875 21.1875 \nQ 45.796875 27.640625 41.28125 31.265625 \nQ 36.765625 34.90625 28.71875 34.90625 \nL 20.21875 34.90625 \nL 20.21875 43.015625 \nL 29.109375 43.015625 \nQ 36.375 43.015625 40.234375 45.921875 \nQ 44.09375 48.828125 44.09375 54.296875 \nQ 44.09375 59.90625 40.109375 62.90625 \nQ 36.140625 65.921875 28.71875 65.921875 \nQ 24.65625 65.921875 20.015625 65.03125 \nQ 15.375 64.15625 9.8125 62.3125 \nL 9.8125 71.09375 \nQ 15.4375 72.65625 20.34375 73.4375 \nQ 25.25 74.21875 29.59375 74.21875 \nQ 40.828125 74.21875 47.359375 69.109375 \nQ 53.90625 64.015625 53.90625 55.328125 \nQ 53.90625 49.265625 50.4375 45.09375 \nQ 46.96875 40.921875 40.578125 39.3125 \nz\n\" id=\"DejaVuSans-51\"/>\n       </defs>\n       <use xlink:href=\"#DejaVuSans-51\"/>\n       <use x=\"63.623047\" xlink:href=\"#DejaVuSans-48\"/>\n      </g>\n     </g>\n    </g>\n    <g id=\"ytick_4\">\n     <g id=\"line2d_38\">\n      <g>\n       <use style=\"stroke:#000000;stroke-width:0.8;\" x=\"26.925\" xlink:href=\"#m4f6a0e3744\" y=\"130.747133\"/>\n      </g>\n     </g>\n     <g id=\"text_10\">\n      <!-- 40 -->\n      <g transform=\"translate(7.2 134.546352)scale(0.1 -0.1)\">\n       <defs>\n        <path d=\"M 37.796875 64.3125 \nL 12.890625 25.390625 \nL 37.796875 25.390625 \nz\nM 35.203125 72.90625 \nL 47.609375 72.90625 \nL 47.609375 25.390625 \nL 58.015625 25.390625 \nL 58.015625 17.1875 \nL 47.609375 17.1875 \nL 47.609375 0 \nL 37.796875 0 \nL 37.796875 17.1875 \nL 4.890625 17.1875 \nL 4.890625 26.703125 \nz\n\" id=\"DejaVuSans-52\"/>\n       </defs>\n       <use xlink:href=\"#DejaVuSans-52\"/>\n       <use x=\"63.623047\" xlink:href=\"#DejaVuSans-48\"/>\n      </g>\n     </g>\n    </g>\n    <g id=\"ytick_5\">\n     <g id=\"line2d_39\">\n      <g>\n       <use style=\"stroke:#000000;stroke-width:0.8;\" x=\"26.925\" xlink:href=\"#m4f6a0e3744\" y=\"103.225772\"/>\n      </g>\n     </g>\n     <g id=\"text_11\">\n      <!-- 50 -->\n      <g transform=\"translate(7.2 107.024991)scale(0.1 -0.1)\">\n       <defs>\n        <path d=\"M 10.796875 72.90625 \nL 49.515625 72.90625 \nL 49.515625 64.59375 \nL 19.828125 64.59375 \nL 19.828125 46.734375 \nQ 21.96875 47.46875 24.109375 47.828125 \nQ 26.265625 48.1875 28.421875 48.1875 \nQ 40.625 48.1875 47.75 41.5 \nQ 54.890625 34.8125 54.890625 23.390625 \nQ 54.890625 11.625 47.5625 5.09375 \nQ 40.234375 -1.421875 26.90625 -1.421875 \nQ 22.3125 -1.421875 17.546875 -0.640625 \nQ 12.796875 0.140625 7.71875 1.703125 \nL 7.71875 11.625 \nQ 12.109375 9.234375 16.796875 8.0625 \nQ 21.484375 6.890625 26.703125 6.890625 \nQ 35.15625 6.890625 40.078125 11.328125 \nQ 45.015625 15.765625 45.015625 23.390625 \nQ 45.015625 31 40.078125 35.4375 \nQ 35.15625 39.890625 26.703125 39.890625 \nQ 22.75 39.890625 18.8125 39.015625 \nQ 14.890625 38.140625 10.796875 36.28125 \nz\n\" id=\"DejaVuSans-53\"/>\n       </defs>\n       <use xlink:href=\"#DejaVuSans-53\"/>\n       <use x=\"63.623047\" xlink:href=\"#DejaVuSans-48\"/>\n      </g>\n     </g>\n    </g>\n    <g id=\"ytick_6\">\n     <g id=\"line2d_40\">\n      <g>\n       <use style=\"stroke:#000000;stroke-width:0.8;\" x=\"26.925\" xlink:href=\"#m4f6a0e3744\" y=\"75.704411\"/>\n      </g>\n     </g>\n     <g id=\"text_12\">\n      <!-- 60 -->\n      <g transform=\"translate(7.2 79.50363)scale(0.1 -0.1)\">\n       <defs>\n        <path d=\"M 33.015625 40.375 \nQ 26.375 40.375 22.484375 35.828125 \nQ 18.609375 31.296875 18.609375 23.390625 \nQ 18.609375 15.53125 22.484375 10.953125 \nQ 26.375 6.390625 33.015625 6.390625 \nQ 39.65625 6.390625 43.53125 10.953125 \nQ 47.40625 15.53125 47.40625 23.390625 \nQ 47.40625 31.296875 43.53125 35.828125 \nQ 39.65625 40.375 33.015625 40.375 \nz\nM 52.59375 71.296875 \nL 52.59375 62.3125 \nQ 48.875 64.0625 45.09375 64.984375 \nQ 41.3125 65.921875 37.59375 65.921875 \nQ 27.828125 65.921875 22.671875 59.328125 \nQ 17.53125 52.734375 16.796875 39.40625 \nQ 19.671875 43.65625 24.015625 45.921875 \nQ 28.375 48.1875 33.59375 48.1875 \nQ 44.578125 48.1875 50.953125 41.515625 \nQ 57.328125 34.859375 57.328125 23.390625 \nQ 57.328125 12.15625 50.6875 5.359375 \nQ 44.046875 -1.421875 33.015625 -1.421875 \nQ 20.359375 -1.421875 13.671875 8.265625 \nQ 6.984375 17.96875 6.984375 36.375 \nQ 6.984375 53.65625 15.1875 63.9375 \nQ 23.390625 74.21875 37.203125 74.21875 \nQ 40.921875 74.21875 44.703125 73.484375 \nQ 48.484375 72.75 52.59375 71.296875 \nz\n\" id=\"DejaVuSans-54\"/>\n       </defs>\n       <use xlink:href=\"#DejaVuSans-54\"/>\n       <use x=\"63.623047\" xlink:href=\"#DejaVuSans-48\"/>\n      </g>\n     </g>\n    </g>\n    <g id=\"ytick_7\">\n     <g id=\"line2d_41\">\n      <g>\n       <use style=\"stroke:#000000;stroke-width:0.8;\" x=\"26.925\" xlink:href=\"#m4f6a0e3744\" y=\"48.18305\"/>\n      </g>\n     </g>\n     <g id=\"text_13\">\n      <!-- 70 -->\n      <g transform=\"translate(7.2 51.982268)scale(0.1 -0.1)\">\n       <defs>\n        <path d=\"M 8.203125 72.90625 \nL 55.078125 72.90625 \nL 55.078125 68.703125 \nL 28.609375 0 \nL 18.3125 0 \nL 43.21875 64.59375 \nL 8.203125 64.59375 \nz\n\" id=\"DejaVuSans-55\"/>\n       </defs>\n       <use xlink:href=\"#DejaVuSans-55\"/>\n       <use x=\"63.623047\" xlink:href=\"#DejaVuSans-48\"/>\n      </g>\n     </g>\n    </g>\n    <g id=\"ytick_8\">\n     <g id=\"line2d_42\">\n      <g>\n       <use style=\"stroke:#000000;stroke-width:0.8;\" x=\"26.925\" xlink:href=\"#m4f6a0e3744\" y=\"20.661689\"/>\n      </g>\n     </g>\n     <g id=\"text_14\">\n      <!-- 80 -->\n      <g transform=\"translate(7.2 24.460907)scale(0.1 -0.1)\">\n       <use xlink:href=\"#DejaVuSans-56\"/>\n       <use x=\"63.623047\" xlink:href=\"#DejaVuSans-48\"/>\n      </g>\n     </g>\n    </g>\n   </g>\n   <g id=\"line2d_43\">\n    <path clip-path=\"url(#p7ad46e5a89)\" d=\"M 26.925 17.083636 \nL 37.070455 43.606798 \nL 47.215909 32.072871 \nL 57.361364 57.966618 \nL 67.506818 51.808714 \nL 77.652273 65.37702 \nL 87.797727 64.10113 \nL 97.943182 68.489136 \nL 108.088636 66.320452 \nL 118.234091 90.561543 \nL 128.379545 77.936393 \nL 138.525 64.408819 \nL 148.670455 31.562624 \nL 158.815909 114.660898 \nL 168.961364 80.389097 \nL 179.106818 90.629245 \nL 189.252273 100.015681 \nL 199.397727 107.401863 \nL 209.543182 99.527176 \nL 219.688636 101.624304 \nL 229.834091 97.27758 \nL 239.979545 140.30255 \nL 250.125 117.248731 \nL 260.270455 112.507351 \nL 270.415909 118.792129 \nL 280.561364 214.756364 \nL 290.706818 146.617326 \nL 300.852273 125.715128 \nL 310.997727 130.892446 \nL 321.143182 121.74297 \nL 331.288636 115.429294 \nL 341.434091 124.675921 \nL 351.579545 103.890963 \nL 361.725 132.066507 \n\" style=\"fill:none;stroke:#1f77b4;stroke-linecap:square;stroke-width:1.5;\"/>\n   </g>\n   <g id=\"patch_3\">\n    <path d=\"M 26.925 224.64 \nL 26.925 7.2 \n\" style=\"fill:none;stroke:#000000;stroke-linecap:square;stroke-linejoin:miter;stroke-width:0.8;\"/>\n   </g>\n   <g id=\"patch_4\">\n    <path d=\"M 361.725 224.64 \nL 361.725 7.2 \n\" style=\"fill:none;stroke:#000000;stroke-linecap:square;stroke-linejoin:miter;stroke-width:0.8;\"/>\n   </g>\n   <g id=\"patch_5\">\n    <path d=\"M 26.925 224.64 \nL 361.725 224.64 \n\" style=\"fill:none;stroke:#000000;stroke-linecap:square;stroke-linejoin:miter;stroke-width:0.8;\"/>\n   </g>\n   <g id=\"patch_6\">\n    <path d=\"M 26.925 7.2 \nL 361.725 7.2 \n\" style=\"fill:none;stroke:#000000;stroke-linecap:square;stroke-linejoin:miter;stroke-width:0.8;\"/>\n   </g>\n  </g>\n </g>\n <defs>\n  <clipPath id=\"p7ad46e5a89\">\n   <rect height=\"217.44\" width=\"334.8\" x=\"26.925\" y=\"7.2\"/>\n  </clipPath>\n </defs>\n</svg>\n",
      "image/png": "[encoded data removed]"
     },
     "metadata": {
      "needs_background": "light"
     }
    }
   ],
   "source": [
    "ts = pd.Series(group_year_month_A['amount'].values, index=pd.date_range(\"1/2018\", periods=len(group_year_month_A['amount'].values),freq=\"M\"))\n",
    "ts.plot()"
   ]
  },
  {
   "cell_type": "code",
   "execution_count": 14,
   "metadata": {},
   "outputs": [
    {
     "output_type": "execute_result",
     "data": {
      "text/plain": [
       "<AxesSubplot:>"
      ]
     },
     "metadata": {},
     "execution_count": 14
    },
    {
     "output_type": "display_data",
     "data": {
      "text/plain": "<Figure size 432x288 with 1 Axes>",
      "image/svg+xml": "<?xml version=\"1.0\" encoding=\"utf-8\" standalone=\"no\"?>\n<!DOCTYPE svg PUBLIC \"-//W3C//DTD SVG 1.1//EN\"\n  \"http://www.w3.org/Graphics/SVG/1.1/DTD/svg11.dtd\">\n<!-- Created with matplotlib (https://matplotlib.org/) -->\n<svg height=\"259.715937pt\" version=\"1.1\" viewBox=\"0 0 368.925 259.715937\" width=\"368.925pt\" xmlns=\"http://www.w3.org/2000/svg\" xmlns:xlink=\"http://www.w3.org/1999/xlink\">\n <metadata>\n  <rdf:RDF xmlns:cc=\"http://creativecommons.org/ns#\" xmlns:dc=\"http://purl.org/dc/elements/1.1/\" xmlns:rdf=\"http://www.w3.org/1999/02/22-rdf-syntax-ns#\">\n   <cc:Work>\n    <dc:type rdf:resource=\"http://purl.org/dc/dcmitype/StillImage\"/>\n    <dc:date>2021-06-01T15:40:02.989652</dc:date>\n    <dc:format>image/svg+xml</dc:format>\n    <dc:creator>\n     <cc:Agent>\n      <dc:title>Matplotlib v3.3.4, https://matplotlib.org/</dc:title>\n     </cc:Agent>\n    </dc:creator>\n   </cc:Work>\n  </rdf:RDF>\n </metadata>\n <defs>\n  <style type=\"text/css\">*{stroke-linecap:butt;stroke-linejoin:round;}</style>\n </defs>\n <g id=\"figure_1\">\n  <g id=\"patch_1\">\n   <path d=\"M -0 259.715937 \nL 368.925 259.715937 \nL 368.925 0 \nL -0 0 \nz\n\" style=\"fill:none;\"/>\n  </g>\n  <g id=\"axes_1\">\n   <g id=\"patch_2\">\n    <path d=\"M 26.925 224.64 \nL 361.725 224.64 \nL 361.725 7.2 \nL 26.925 7.2 \nz\n\" style=\"fill:#ffffff;\"/>\n   </g>\n   <g id=\"matplotlib.axis_1\">\n    <g id=\"xtick_1\">\n     <g id=\"line2d_1\">\n      <defs>\n       <path d=\"M 0 0 \nL 0 3.5 \n\" id=\"m14197de34b\" style=\"stroke:#000000;stroke-width:0.8;\"/>\n      </defs>\n      <g>\n       <use style=\"stroke:#000000;stroke-width:0.8;\" x=\"26.925\" xlink:href=\"#m14197de34b\" y=\"224.64\"/>\n      </g>\n     </g>\n     <g id=\"text_1\">\n      <!-- Jan -->\n      <g transform=\"translate(19.217188 239.238438)scale(0.1 -0.1)\">\n       <defs>\n        <path d=\"M 9.8125 72.90625 \nL 19.671875 72.90625 \nL 19.671875 5.078125 \nQ 19.671875 -8.109375 14.671875 -14.0625 \nQ 9.671875 -20.015625 -1.421875 -20.015625 \nL -5.171875 -20.015625 \nL -5.171875 -11.71875 \nL -2.09375 -11.71875 \nQ 4.4375 -11.71875 7.125 -8.046875 \nQ 9.8125 -4.390625 9.8125 5.078125 \nz\n\" id=\"DejaVuSans-74\"/>\n        <path d=\"M 34.28125 27.484375 \nQ 23.390625 27.484375 19.1875 25 \nQ 14.984375 22.515625 14.984375 16.5 \nQ 14.984375 11.71875 18.140625 8.90625 \nQ 21.296875 6.109375 26.703125 6.109375 \nQ 34.1875 6.109375 38.703125 11.40625 \nQ 43.21875 16.703125 43.21875 25.484375 \nL 43.21875 27.484375 \nz\nM 52.203125 31.203125 \nL 52.203125 0 \nL 43.21875 0 \nL 43.21875 8.296875 \nQ 40.140625 3.328125 35.546875 0.953125 \nQ 30.953125 -1.421875 24.3125 -1.421875 \nQ 15.921875 -1.421875 10.953125 3.296875 \nQ 6 8.015625 6 15.921875 \nQ 6 25.140625 12.171875 29.828125 \nQ 18.359375 34.515625 30.609375 34.515625 \nL 43.21875 34.515625 \nL 43.21875 35.40625 \nQ 43.21875 41.609375 39.140625 45 \nQ 35.0625 48.390625 27.6875 48.390625 \nQ 23 48.390625 18.546875 47.265625 \nQ 14.109375 46.140625 10.015625 43.890625 \nL 10.015625 52.203125 \nQ 14.9375 54.109375 19.578125 55.046875 \nQ 24.21875 56 28.609375 56 \nQ 40.484375 56 46.34375 49.84375 \nQ 52.203125 43.703125 52.203125 31.203125 \nz\n\" id=\"DejaVuSans-97\"/>\n        <path d=\"M 54.890625 33.015625 \nL 54.890625 0 \nL 45.90625 0 \nL 45.90625 32.71875 \nQ 45.90625 40.484375 42.875 44.328125 \nQ 39.84375 48.1875 33.796875 48.1875 \nQ 26.515625 48.1875 22.3125 43.546875 \nQ 18.109375 38.921875 18.109375 30.90625 \nL 18.109375 0 \nL 9.078125 0 \nL 9.078125 54.6875 \nL 18.109375 54.6875 \nL 18.109375 46.1875 \nQ 21.34375 51.125 25.703125 53.5625 \nQ 30.078125 56 35.796875 56 \nQ 45.21875 56 50.046875 50.171875 \nQ 54.890625 44.34375 54.890625 33.015625 \nz\n\" id=\"DejaVuSans-110\"/>\n       </defs>\n       <use xlink:href=\"#DejaVuSans-74\"/>\n       <use x=\"29.492188\" xlink:href=\"#DejaVuSans-97\"/>\n       <use x=\"90.771484\" xlink:href=\"#DejaVuSans-110\"/>\n      </g>\n      <!-- 2018 -->\n      <g transform=\"translate(14.2 250.43625)scale(0.1 -0.1)\">\n       <defs>\n        <path d=\"M 19.1875 8.296875 \nL 53.609375 8.296875 \nL 53.609375 0 \nL 7.328125 0 \nL 7.328125 8.296875 \nQ 12.9375 14.109375 22.625 23.890625 \nQ 32.328125 33.6875 34.8125 36.53125 \nQ 39.546875 41.84375 41.421875 45.53125 \nQ 43.3125 49.21875 43.3125 52.78125 \nQ 43.3125 58.59375 39.234375 62.25 \nQ 35.15625 65.921875 28.609375 65.921875 \nQ 23.96875 65.921875 18.8125 64.3125 \nQ 13.671875 62.703125 7.8125 59.421875 \nL 7.8125 69.390625 \nQ 13.765625 71.78125 18.9375 73 \nQ 24.125 74.21875 28.421875 74.21875 \nQ 39.75 74.21875 46.484375 68.546875 \nQ 53.21875 62.890625 53.21875 53.421875 \nQ 53.21875 48.921875 51.53125 44.890625 \nQ 49.859375 40.875 45.40625 35.40625 \nQ 44.1875 33.984375 37.640625 27.21875 \nQ 31.109375 20.453125 19.1875 8.296875 \nz\n\" id=\"DejaVuSans-50\"/>\n        <path d=\"M 31.78125 66.40625 \nQ 24.171875 66.40625 20.328125 58.90625 \nQ 16.5 51.421875 16.5 36.375 \nQ 16.5 21.390625 20.328125 13.890625 \nQ 24.171875 6.390625 31.78125 6.390625 \nQ 39.453125 6.390625 43.28125 13.890625 \nQ 47.125 21.390625 47.125 36.375 \nQ 47.125 51.421875 43.28125 58.90625 \nQ 39.453125 66.40625 31.78125 66.40625 \nz\nM 31.78125 74.21875 \nQ 44.046875 74.21875 50.515625 64.515625 \nQ 56.984375 54.828125 56.984375 36.375 \nQ 56.984375 17.96875 50.515625 8.265625 \nQ 44.046875 -1.421875 31.78125 -1.421875 \nQ 19.53125 -1.421875 13.0625 8.265625 \nQ 6.59375 17.96875 6.59375 36.375 \nQ 6.59375 54.828125 13.0625 64.515625 \nQ 19.53125 74.21875 31.78125 74.21875 \nz\n\" id=\"DejaVuSans-48\"/>\n        <path d=\"M 12.40625 8.296875 \nL 28.515625 8.296875 \nL 28.515625 63.921875 \nL 10.984375 60.40625 \nL 10.984375 69.390625 \nL 28.421875 72.90625 \nL 38.28125 72.90625 \nL 38.28125 8.296875 \nL 54.390625 8.296875 \nL 54.390625 0 \nL 12.40625 0 \nz\n\" id=\"DejaVuSans-49\"/>\n        <path d=\"M 31.78125 34.625 \nQ 24.75 34.625 20.71875 30.859375 \nQ 16.703125 27.09375 16.703125 20.515625 \nQ 16.703125 13.921875 20.71875 10.15625 \nQ 24.75 6.390625 31.78125 6.390625 \nQ 38.8125 6.390625 42.859375 10.171875 \nQ 46.921875 13.96875 46.921875 20.515625 \nQ 46.921875 27.09375 42.890625 30.859375 \nQ 38.875 34.625 31.78125 34.625 \nz\nM 21.921875 38.8125 \nQ 15.578125 40.375 12.03125 44.71875 \nQ 8.5 49.078125 8.5 55.328125 \nQ 8.5 64.0625 14.71875 69.140625 \nQ 20.953125 74.21875 31.78125 74.21875 \nQ 42.671875 74.21875 48.875 69.140625 \nQ 55.078125 64.0625 55.078125 55.328125 \nQ 55.078125 49.078125 51.53125 44.71875 \nQ 48 40.375 41.703125 38.8125 \nQ 48.828125 37.15625 52.796875 32.3125 \nQ 56.78125 27.484375 56.78125 20.515625 \nQ 56.78125 9.90625 50.3125 4.234375 \nQ 43.84375 -1.421875 31.78125 -1.421875 \nQ 19.734375 -1.421875 13.25 4.234375 \nQ 6.78125 9.90625 6.78125 20.515625 \nQ 6.78125 27.484375 10.78125 32.3125 \nQ 14.796875 37.15625 21.921875 38.8125 \nz\nM 18.3125 54.390625 \nQ 18.3125 48.734375 21.84375 45.5625 \nQ 25.390625 42.390625 31.78125 42.390625 \nQ 38.140625 42.390625 41.71875 45.5625 \nQ 45.3125 48.734375 45.3125 54.390625 \nQ 45.3125 60.0625 41.71875 63.234375 \nQ 38.140625 66.40625 31.78125 66.40625 \nQ 25.390625 66.40625 21.84375 63.234375 \nQ 18.3125 60.0625 18.3125 54.390625 \nz\n\" id=\"DejaVuSans-56\"/>\n       </defs>\n       <use xlink:href=\"#DejaVuSans-50\"/>\n       <use x=\"63.623047\" xlink:href=\"#DejaVuSans-48\"/>\n       <use x=\"127.246094\" xlink:href=\"#DejaVuSans-49\"/>\n       <use x=\"190.869141\" xlink:href=\"#DejaVuSans-56\"/>\n      </g>\n     </g>\n    </g>\n    <g id=\"xtick_2\">\n     <g id=\"line2d_2\">\n      <g>\n       <use style=\"stroke:#000000;stroke-width:0.8;\" x=\"148.670455\" xlink:href=\"#m14197de34b\" y=\"224.64\"/>\n      </g>\n     </g>\n     <g id=\"text_2\">\n      <!-- Jan -->\n      <g transform=\"translate(140.962642 239.238438)scale(0.1 -0.1)\">\n       <use xlink:href=\"#DejaVuSans-74\"/>\n       <use x=\"29.492188\" xlink:href=\"#DejaVuSans-97\"/>\n       <use x=\"90.771484\" xlink:href=\"#DejaVuSans-110\"/>\n      </g>\n      <!-- 2019 -->\n      <g transform=\"translate(135.945455 250.43625)scale(0.1 -0.1)\">\n       <defs>\n        <path d=\"M 10.984375 1.515625 \nL 10.984375 10.5 \nQ 14.703125 8.734375 18.5 7.8125 \nQ 22.3125 6.890625 25.984375 6.890625 \nQ 35.75 6.890625 40.890625 13.453125 \nQ 46.046875 20.015625 46.78125 33.40625 \nQ 43.953125 29.203125 39.59375 26.953125 \nQ 35.25 24.703125 29.984375 24.703125 \nQ 19.046875 24.703125 12.671875 31.3125 \nQ 6.296875 37.9375 6.296875 49.421875 \nQ 6.296875 60.640625 12.9375 67.421875 \nQ 19.578125 74.21875 30.609375 74.21875 \nQ 43.265625 74.21875 49.921875 64.515625 \nQ 56.59375 54.828125 56.59375 36.375 \nQ 56.59375 19.140625 48.40625 8.859375 \nQ 40.234375 -1.421875 26.421875 -1.421875 \nQ 22.703125 -1.421875 18.890625 -0.6875 \nQ 15.09375 0.046875 10.984375 1.515625 \nz\nM 30.609375 32.421875 \nQ 37.25 32.421875 41.125 36.953125 \nQ 45.015625 41.5 45.015625 49.421875 \nQ 45.015625 57.28125 41.125 61.84375 \nQ 37.25 66.40625 30.609375 66.40625 \nQ 23.96875 66.40625 20.09375 61.84375 \nQ 16.21875 57.28125 16.21875 49.421875 \nQ 16.21875 41.5 20.09375 36.953125 \nQ 23.96875 32.421875 30.609375 32.421875 \nz\n\" id=\"DejaVuSans-57\"/>\n       </defs>\n       <use xlink:href=\"#DejaVuSans-50\"/>\n       <use x=\"63.623047\" xlink:href=\"#DejaVuSans-48\"/>\n       <use x=\"127.246094\" xlink:href=\"#DejaVuSans-49\"/>\n       <use x=\"190.869141\" xlink:href=\"#DejaVuSans-57\"/>\n      </g>\n     </g>\n    </g>\n    <g id=\"xtick_3\">\n     <g id=\"line2d_3\">\n      <g>\n       <use style=\"stroke:#000000;stroke-width:0.8;\" x=\"270.415909\" xlink:href=\"#m14197de34b\" y=\"224.64\"/>\n      </g>\n     </g>\n     <g id=\"text_3\">\n      <!-- Jan -->\n      <g transform=\"translate(262.708097 239.238438)scale(0.1 -0.1)\">\n       <use xlink:href=\"#DejaVuSans-74\"/>\n       <use x=\"29.492188\" xlink:href=\"#DejaVuSans-97\"/>\n       <use x=\"90.771484\" xlink:href=\"#DejaVuSans-110\"/>\n      </g>\n      <!-- 2020 -->\n      <g transform=\"translate(257.690909 250.43625)scale(0.1 -0.1)\">\n       <use xlink:href=\"#DejaVuSans-50\"/>\n       <use x=\"63.623047\" xlink:href=\"#DejaVuSans-48\"/>\n       <use x=\"127.246094\" xlink:href=\"#DejaVuSans-50\"/>\n       <use x=\"190.869141\" xlink:href=\"#DejaVuSans-48\"/>\n      </g>\n     </g>\n    </g>\n    <g id=\"xtick_4\">\n     <g id=\"line2d_4\">\n      <defs>\n       <path d=\"M 0 0 \nL 0 2 \n\" id=\"m63e1a36fff\" style=\"stroke:#000000;stroke-width:0.6;\"/>\n      </defs>\n      <g>\n       <use style=\"stroke:#000000;stroke-width:0.6;\" x=\"37.070455\" xlink:href=\"#m63e1a36fff\" y=\"224.64\"/>\n      </g>\n     </g>\n    </g>\n    <g id=\"xtick_5\">\n     <g id=\"line2d_5\">\n      <g>\n       <use style=\"stroke:#000000;stroke-width:0.6;\" x=\"47.215909\" xlink:href=\"#m63e1a36fff\" y=\"224.64\"/>\n      </g>\n     </g>\n    </g>\n    <g id=\"xtick_6\">\n     <g id=\"line2d_6\">\n      <g>\n       <use style=\"stroke:#000000;stroke-width:0.6;\" x=\"57.361364\" xlink:href=\"#m63e1a36fff\" y=\"224.64\"/>\n      </g>\n     </g>\n    </g>\n    <g id=\"xtick_7\">\n     <g id=\"line2d_7\">\n      <g>\n       <use style=\"stroke:#000000;stroke-width:0.6;\" x=\"67.506818\" xlink:href=\"#m63e1a36fff\" y=\"224.64\"/>\n      </g>\n     </g>\n    </g>\n    <g id=\"xtick_8\">\n     <g id=\"line2d_8\">\n      <g>\n       <use style=\"stroke:#000000;stroke-width:0.6;\" x=\"77.652273\" xlink:href=\"#m63e1a36fff\" y=\"224.64\"/>\n      </g>\n     </g>\n    </g>\n    <g id=\"xtick_9\">\n     <g id=\"line2d_9\">\n      <g>\n       <use style=\"stroke:#000000;stroke-width:0.6;\" x=\"87.797727\" xlink:href=\"#m63e1a36fff\" y=\"224.64\"/>\n      </g>\n     </g>\n     <g id=\"text_4\">\n      <!-- Jul -->\n      <g transform=\"translate(81.764915 237.638438)scale(0.1 -0.1)\">\n       <defs>\n        <path d=\"M 8.5 21.578125 \nL 8.5 54.6875 \nL 17.484375 54.6875 \nL 17.484375 21.921875 \nQ 17.484375 14.15625 20.5 10.265625 \nQ 23.53125 6.390625 29.59375 6.390625 \nQ 36.859375 6.390625 41.078125 11.03125 \nQ 45.3125 15.671875 45.3125 23.6875 \nL 45.3125 54.6875 \nL 54.296875 54.6875 \nL 54.296875 0 \nL 45.3125 0 \nL 45.3125 8.40625 \nQ 42.046875 3.421875 37.71875 1 \nQ 33.40625 -1.421875 27.6875 -1.421875 \nQ 18.265625 -1.421875 13.375 4.4375 \nQ 8.5 10.296875 8.5 21.578125 \nz\nM 31.109375 56 \nz\n\" id=\"DejaVuSans-117\"/>\n        <path d=\"M 9.421875 75.984375 \nL 18.40625 75.984375 \nL 18.40625 0 \nL 9.421875 0 \nz\n\" id=\"DejaVuSans-108\"/>\n       </defs>\n       <use xlink:href=\"#DejaVuSans-74\"/>\n       <use x=\"29.492188\" xlink:href=\"#DejaVuSans-117\"/>\n       <use x=\"92.871094\" xlink:href=\"#DejaVuSans-108\"/>\n      </g>\n     </g>\n    </g>\n    <g id=\"xtick_10\">\n     <g id=\"line2d_10\">\n      <g>\n       <use style=\"stroke:#000000;stroke-width:0.6;\" x=\"97.943182\" xlink:href=\"#m63e1a36fff\" y=\"224.64\"/>\n      </g>\n     </g>\n    </g>\n    <g id=\"xtick_11\">\n     <g id=\"line2d_11\">\n      <g>\n       <use style=\"stroke:#000000;stroke-width:0.6;\" x=\"108.088636\" xlink:href=\"#m63e1a36fff\" y=\"224.64\"/>\n      </g>\n     </g>\n    </g>\n    <g id=\"xtick_12\">\n     <g id=\"line2d_12\">\n      <g>\n       <use style=\"stroke:#000000;stroke-width:0.6;\" x=\"118.234091\" xlink:href=\"#m63e1a36fff\" y=\"224.64\"/>\n      </g>\n     </g>\n    </g>\n    <g id=\"xtick_13\">\n     <g id=\"line2d_13\">\n      <g>\n       <use style=\"stroke:#000000;stroke-width:0.6;\" x=\"128.379545\" xlink:href=\"#m63e1a36fff\" y=\"224.64\"/>\n      </g>\n     </g>\n    </g>\n    <g id=\"xtick_14\">\n     <g id=\"line2d_14\">\n      <g>\n       <use style=\"stroke:#000000;stroke-width:0.6;\" x=\"138.525\" xlink:href=\"#m63e1a36fff\" y=\"224.64\"/>\n      </g>\n     </g>\n    </g>\n    <g id=\"xtick_15\">\n     <g id=\"line2d_15\">\n      <g>\n       <use style=\"stroke:#000000;stroke-width:0.6;\" x=\"158.815909\" xlink:href=\"#m63e1a36fff\" y=\"224.64\"/>\n      </g>\n     </g>\n    </g>\n    <g id=\"xtick_16\">\n     <g id=\"line2d_16\">\n      <g>\n       <use style=\"stroke:#000000;stroke-width:0.6;\" x=\"168.961364\" xlink:href=\"#m63e1a36fff\" y=\"224.64\"/>\n      </g>\n     </g>\n    </g>\n    <g id=\"xtick_17\">\n     <g id=\"line2d_17\">\n      <g>\n       <use style=\"stroke:#000000;stroke-width:0.6;\" x=\"179.106818\" xlink:href=\"#m63e1a36fff\" y=\"224.64\"/>\n      </g>\n     </g>\n    </g>\n    <g id=\"xtick_18\">\n     <g id=\"line2d_18\">\n      <g>\n       <use style=\"stroke:#000000;stroke-width:0.6;\" x=\"189.252273\" xlink:href=\"#m63e1a36fff\" y=\"224.64\"/>\n      </g>\n     </g>\n    </g>\n    <g id=\"xtick_19\">\n     <g id=\"line2d_19\">\n      <g>\n       <use style=\"stroke:#000000;stroke-width:0.6;\" x=\"199.397727\" xlink:href=\"#m63e1a36fff\" y=\"224.64\"/>\n      </g>\n     </g>\n    </g>\n    <g id=\"xtick_20\">\n     <g id=\"line2d_20\">\n      <g>\n       <use style=\"stroke:#000000;stroke-width:0.6;\" x=\"209.543182\" xlink:href=\"#m63e1a36fff\" y=\"224.64\"/>\n      </g>\n     </g>\n     <g id=\"text_5\">\n      <!-- Jul -->\n      <g transform=\"translate(203.510369 237.638438)scale(0.1 -0.1)\">\n       <use xlink:href=\"#DejaVuSans-74\"/>\n       <use x=\"29.492188\" xlink:href=\"#DejaVuSans-117\"/>\n       <use x=\"92.871094\" xlink:href=\"#DejaVuSans-108\"/>\n      </g>\n     </g>\n    </g>\n    <g id=\"xtick_21\">\n     <g id=\"line2d_21\">\n      <g>\n       <use style=\"stroke:#000000;stroke-width:0.6;\" x=\"219.688636\" xlink:href=\"#m63e1a36fff\" y=\"224.64\"/>\n      </g>\n     </g>\n    </g>\n    <g id=\"xtick_22\">\n     <g id=\"line2d_22\">\n      <g>\n       <use style=\"stroke:#000000;stroke-width:0.6;\" x=\"229.834091\" xlink:href=\"#m63e1a36fff\" y=\"224.64\"/>\n      </g>\n     </g>\n    </g>\n    <g id=\"xtick_23\">\n     <g id=\"line2d_23\">\n      <g>\n       <use style=\"stroke:#000000;stroke-width:0.6;\" x=\"239.979545\" xlink:href=\"#m63e1a36fff\" y=\"224.64\"/>\n      </g>\n     </g>\n    </g>\n    <g id=\"xtick_24\">\n     <g id=\"line2d_24\">\n      <g>\n       <use style=\"stroke:#000000;stroke-width:0.6;\" x=\"250.125\" xlink:href=\"#m63e1a36fff\" y=\"224.64\"/>\n      </g>\n     </g>\n    </g>\n    <g id=\"xtick_25\">\n     <g id=\"line2d_25\">\n      <g>\n       <use style=\"stroke:#000000;stroke-width:0.6;\" x=\"260.270455\" xlink:href=\"#m63e1a36fff\" y=\"224.64\"/>\n      </g>\n     </g>\n    </g>\n    <g id=\"xtick_26\">\n     <g id=\"line2d_26\">\n      <g>\n       <use style=\"stroke:#000000;stroke-width:0.6;\" x=\"280.561364\" xlink:href=\"#m63e1a36fff\" y=\"224.64\"/>\n      </g>\n     </g>\n    </g>\n    <g id=\"xtick_27\">\n     <g id=\"line2d_27\">\n      <g>\n       <use style=\"stroke:#000000;stroke-width:0.6;\" x=\"290.706818\" xlink:href=\"#m63e1a36fff\" y=\"224.64\"/>\n      </g>\n     </g>\n    </g>\n    <g id=\"xtick_28\">\n     <g id=\"line2d_28\">\n      <g>\n       <use style=\"stroke:#000000;stroke-width:0.6;\" x=\"300.852273\" xlink:href=\"#m63e1a36fff\" y=\"224.64\"/>\n      </g>\n     </g>\n    </g>\n    <g id=\"xtick_29\">\n     <g id=\"line2d_29\">\n      <g>\n       <use style=\"stroke:#000000;stroke-width:0.6;\" x=\"310.997727\" xlink:href=\"#m63e1a36fff\" y=\"224.64\"/>\n      </g>\n     </g>\n    </g>\n    <g id=\"xtick_30\">\n     <g id=\"line2d_30\">\n      <g>\n       <use style=\"stroke:#000000;stroke-width:0.6;\" x=\"321.143182\" xlink:href=\"#m63e1a36fff\" y=\"224.64\"/>\n      </g>\n     </g>\n    </g>\n    <g id=\"xtick_31\">\n     <g id=\"line2d_31\">\n      <g>\n       <use style=\"stroke:#000000;stroke-width:0.6;\" x=\"331.288636\" xlink:href=\"#m63e1a36fff\" y=\"224.64\"/>\n      </g>\n     </g>\n     <g id=\"text_6\">\n      <!-- Jul -->\n      <g transform=\"translate(325.255824 237.638438)scale(0.1 -0.1)\">\n       <use xlink:href=\"#DejaVuSans-74\"/>\n       <use x=\"29.492188\" xlink:href=\"#DejaVuSans-117\"/>\n       <use x=\"92.871094\" xlink:href=\"#DejaVuSans-108\"/>\n      </g>\n     </g>\n    </g>\n    <g id=\"xtick_32\">\n     <g id=\"line2d_32\">\n      <g>\n       <use style=\"stroke:#000000;stroke-width:0.6;\" x=\"341.434091\" xlink:href=\"#m63e1a36fff\" y=\"224.64\"/>\n      </g>\n     </g>\n    </g>\n    <g id=\"xtick_33\">\n     <g id=\"line2d_33\">\n      <g>\n       <use style=\"stroke:#000000;stroke-width:0.6;\" x=\"351.579545\" xlink:href=\"#m63e1a36fff\" y=\"224.64\"/>\n      </g>\n     </g>\n    </g>\n    <g id=\"xtick_34\">\n     <g id=\"line2d_34\">\n      <g>\n       <use style=\"stroke:#000000;stroke-width:0.6;\" x=\"361.725\" xlink:href=\"#m63e1a36fff\" y=\"224.64\"/>\n      </g>\n     </g>\n    </g>\n   </g>\n   <g id=\"matplotlib.axis_2\">\n    <g id=\"ytick_1\">\n     <g id=\"line2d_35\">\n      <defs>\n       <path d=\"M 0 0 \nL -3.5 0 \n\" id=\"m75dd7ca27a\" style=\"stroke:#000000;stroke-width:0.8;\"/>\n      </defs>\n      <g>\n       <use style=\"stroke:#000000;stroke-width:0.8;\" x=\"26.925\" xlink:href=\"#m75dd7ca27a\" y=\"201.499722\"/>\n      </g>\n     </g>\n     <g id=\"text_7\">\n      <!-- 2 -->\n      <g transform=\"translate(13.5625 205.298941)scale(0.1 -0.1)\">\n       <use xlink:href=\"#DejaVuSans-50\"/>\n      </g>\n     </g>\n    </g>\n    <g id=\"ytick_2\">\n     <g id=\"line2d_36\">\n      <g>\n       <use style=\"stroke:#000000;stroke-width:0.8;\" x=\"26.925\" xlink:href=\"#m75dd7ca27a\" y=\"174.933307\"/>\n      </g>\n     </g>\n     <g id=\"text_8\">\n      <!-- 4 -->\n      <g transform=\"translate(13.5625 178.732526)scale(0.1 -0.1)\">\n       <defs>\n        <path d=\"M 37.796875 64.3125 \nL 12.890625 25.390625 \nL 37.796875 25.390625 \nz\nM 35.203125 72.90625 \nL 47.609375 72.90625 \nL 47.609375 25.390625 \nL 58.015625 25.390625 \nL 58.015625 17.1875 \nL 47.609375 17.1875 \nL 47.609375 0 \nL 37.796875 0 \nL 37.796875 17.1875 \nL 4.890625 17.1875 \nL 4.890625 26.703125 \nz\n\" id=\"DejaVuSans-52\"/>\n       </defs>\n       <use xlink:href=\"#DejaVuSans-52\"/>\n      </g>\n     </g>\n    </g>\n    <g id=\"ytick_3\">\n     <g id=\"line2d_37\">\n      <g>\n       <use style=\"stroke:#000000;stroke-width:0.8;\" x=\"26.925\" xlink:href=\"#m75dd7ca27a\" y=\"148.366891\"/>\n      </g>\n     </g>\n     <g id=\"text_9\">\n      <!-- 6 -->\n      <g transform=\"translate(13.5625 152.16611)scale(0.1 -0.1)\">\n       <defs>\n        <path d=\"M 33.015625 40.375 \nQ 26.375 40.375 22.484375 35.828125 \nQ 18.609375 31.296875 18.609375 23.390625 \nQ 18.609375 15.53125 22.484375 10.953125 \nQ 26.375 6.390625 33.015625 6.390625 \nQ 39.65625 6.390625 43.53125 10.953125 \nQ 47.40625 15.53125 47.40625 23.390625 \nQ 47.40625 31.296875 43.53125 35.828125 \nQ 39.65625 40.375 33.015625 40.375 \nz\nM 52.59375 71.296875 \nL 52.59375 62.3125 \nQ 48.875 64.0625 45.09375 64.984375 \nQ 41.3125 65.921875 37.59375 65.921875 \nQ 27.828125 65.921875 22.671875 59.328125 \nQ 17.53125 52.734375 16.796875 39.40625 \nQ 19.671875 43.65625 24.015625 45.921875 \nQ 28.375 48.1875 33.59375 48.1875 \nQ 44.578125 48.1875 50.953125 41.515625 \nQ 57.328125 34.859375 57.328125 23.390625 \nQ 57.328125 12.15625 50.6875 5.359375 \nQ 44.046875 -1.421875 33.015625 -1.421875 \nQ 20.359375 -1.421875 13.671875 8.265625 \nQ 6.984375 17.96875 6.984375 36.375 \nQ 6.984375 53.65625 15.1875 63.9375 \nQ 23.390625 74.21875 37.203125 74.21875 \nQ 40.921875 74.21875 44.703125 73.484375 \nQ 48.484375 72.75 52.59375 71.296875 \nz\n\" id=\"DejaVuSans-54\"/>\n       </defs>\n       <use xlink:href=\"#DejaVuSans-54\"/>\n      </g>\n     </g>\n    </g>\n    <g id=\"ytick_4\">\n     <g id=\"line2d_38\">\n      <g>\n       <use style=\"stroke:#000000;stroke-width:0.8;\" x=\"26.925\" xlink:href=\"#m75dd7ca27a\" y=\"121.800476\"/>\n      </g>\n     </g>\n     <g id=\"text_10\">\n      <!-- 8 -->\n      <g transform=\"translate(13.5625 125.599695)scale(0.1 -0.1)\">\n       <use xlink:href=\"#DejaVuSans-56\"/>\n      </g>\n     </g>\n    </g>\n    <g id=\"ytick_5\">\n     <g id=\"line2d_39\">\n      <g>\n       <use style=\"stroke:#000000;stroke-width:0.8;\" x=\"26.925\" xlink:href=\"#m75dd7ca27a\" y=\"95.234061\"/>\n      </g>\n     </g>\n     <g id=\"text_11\">\n      <!-- 10 -->\n      <g transform=\"translate(7.2 99.033279)scale(0.1 -0.1)\">\n       <use xlink:href=\"#DejaVuSans-49\"/>\n       <use x=\"63.623047\" xlink:href=\"#DejaVuSans-48\"/>\n      </g>\n     </g>\n    </g>\n    <g id=\"ytick_6\">\n     <g id=\"line2d_40\">\n      <g>\n       <use style=\"stroke:#000000;stroke-width:0.8;\" x=\"26.925\" xlink:href=\"#m75dd7ca27a\" y=\"68.667645\"/>\n      </g>\n     </g>\n     <g id=\"text_12\">\n      <!-- 12 -->\n      <g transform=\"translate(7.2 72.466864)scale(0.1 -0.1)\">\n       <use xlink:href=\"#DejaVuSans-49\"/>\n       <use x=\"63.623047\" xlink:href=\"#DejaVuSans-50\"/>\n      </g>\n     </g>\n    </g>\n    <g id=\"ytick_7\">\n     <g id=\"line2d_41\">\n      <g>\n       <use style=\"stroke:#000000;stroke-width:0.8;\" x=\"26.925\" xlink:href=\"#m75dd7ca27a\" y=\"42.10123\"/>\n      </g>\n     </g>\n     <g id=\"text_13\">\n      <!-- 14 -->\n      <g transform=\"translate(7.2 45.900449)scale(0.1 -0.1)\">\n       <use xlink:href=\"#DejaVuSans-49\"/>\n       <use x=\"63.623047\" xlink:href=\"#DejaVuSans-52\"/>\n      </g>\n     </g>\n    </g>\n    <g id=\"ytick_8\">\n     <g id=\"line2d_42\">\n      <g>\n       <use style=\"stroke:#000000;stroke-width:0.8;\" x=\"26.925\" xlink:href=\"#m75dd7ca27a\" y=\"15.534814\"/>\n      </g>\n     </g>\n     <g id=\"text_14\">\n      <!-- 16 -->\n      <g transform=\"translate(7.2 19.334033)scale(0.1 -0.1)\">\n       <use xlink:href=\"#DejaVuSans-49\"/>\n       <use x=\"63.623047\" xlink:href=\"#DejaVuSans-54\"/>\n      </g>\n     </g>\n    </g>\n   </g>\n   <g id=\"line2d_43\">\n    <path clip-path=\"url(#p68cc7c73bf)\" d=\"M 26.925 17.083636 \nL 37.070455 66.630001 \nL 47.215909 51.383535 \nL 57.361364 57.598748 \nL 67.506818 42.644513 \nL 77.652273 53.779826 \nL 87.797727 43.476042 \nL 97.943182 58.747746 \nL 108.088636 54.588773 \nL 118.234091 72.40554 \nL 128.379545 56.966468 \nL 138.525 34.038323 \nL 148.670455 40.792834 \nL 158.815909 146.499272 \nL 168.961364 109.94787 \nL 179.106818 98.015564 \nL 189.252273 105.82609 \nL 199.397727 112.045288 \nL 209.543182 94.116943 \nL 219.688636 140.839298 \nL 229.834091 161.259573 \nL 239.979545 179.913181 \nL 250.125 177.682931 \nL 260.270455 176.771703 \nL 270.415909 189.330976 \nL 280.561364 214.756364 \nL 290.706818 195.365537 \nL 300.852273 179.636891 \nL 310.997727 175.986665 \nL 321.143182 165.410575 \nL 331.288636 158.418295 \nL 341.434091 176.475487 \nL 351.579545 154.87832 \nL 361.725 166.733583 \n\" style=\"fill:none;stroke:#1f77b4;stroke-linecap:square;stroke-width:1.5;\"/>\n   </g>\n   <g id=\"patch_3\">\n    <path d=\"M 26.925 224.64 \nL 26.925 7.2 \n\" style=\"fill:none;stroke:#000000;stroke-linecap:square;stroke-linejoin:miter;stroke-width:0.8;\"/>\n   </g>\n   <g id=\"patch_4\">\n    <path d=\"M 361.725 224.64 \nL 361.725 7.2 \n\" style=\"fill:none;stroke:#000000;stroke-linecap:square;stroke-linejoin:miter;stroke-width:0.8;\"/>\n   </g>\n   <g id=\"patch_5\">\n    <path d=\"M 26.925 224.64 \nL 361.725 224.64 \n\" style=\"fill:none;stroke:#000000;stroke-linecap:square;stroke-linejoin:miter;stroke-width:0.8;\"/>\n   </g>\n   <g id=\"patch_6\">\n    <path d=\"M 26.925 7.2 \nL 361.725 7.2 \n\" style=\"fill:none;stroke:#000000;stroke-linecap:square;stroke-linejoin:miter;stroke-width:0.8;\"/>\n   </g>\n  </g>\n </g>\n <defs>\n  <clipPath id=\"p68cc7c73bf\">\n   <rect height=\"217.44\" width=\"334.8\" x=\"26.925\" y=\"7.2\"/>\n  </clipPath>\n </defs>\n</svg>\n",
      "image/png": "[encoded data removed]"
     },
     "metadata": {
      "needs_background": "light"
     }
    }
   ],
   "source": [
    "#B: 看看每一年中每一个月的变化\n",
    "group_year_month_B=train_day_df_B[['year','month','amount']].groupby(['year','month'],sort=False).agg(['sum'])\n",
    "group_year_month_B=pd.DataFrame(group_year_month_B).reset_index()\n",
    "group_year_month_B.columns=['year','month','amount']\n",
    "ts = pd.Series(group_year_month_B['amount'].values, index=pd.date_range(\"1/2018\", periods=len(group_year_month_B['amount'].values),freq=\"M\"))\n",
    "ts.plot()"
   ]
  },
  {
   "source": [
    "## 分析18/19两年11月份的每一天的趋势\n",
    "\n",
    "- 如果只看day和amount的趋势，18/19各自11月份的变化趋势和天数关系其实不大\n",
    "- 但通过分析WKD_TYP_CD可以明显看到，11月份只有两种WKD_TYP_CD:WN/SN，当为WN时，业务量明显高于SN.这也是符合常识的\n",
    "- 20年11月份的WKD_TYP_CD也只有WN/SN两种情形，所以我们只需要考虑WN和SN对amount的影响\n",
    "  - 这里最朴素的想法是统计18，19年11月0,1对应的每一天的amount占一个月的比例"
   ],
   "cell_type": "markdown",
   "metadata": {}
  },
  {
   "cell_type": "code",
   "execution_count": 15,
   "metadata": {},
   "outputs": [
    {
     "output_type": "display_data",
     "data": {
      "text/plain": "<IPython.core.display.Javascript object>",
      "application/javascript": "\n        if (window._pyforest_update_imports_cell) { window._pyforest_update_imports_cell('from sklearn.ensemble import GradientBoostingClassifier'); }\n    "
     },
     "metadata": {}
    },
    {
     "output_type": "display_data",
     "data": {
      "text/plain": "<IPython.core.display.Javascript object>",
      "application/javascript": "\n        if (window._pyforest_update_imports_cell) { window._pyforest_update_imports_cell('from sklearn.ensemble import GradientBoostingClassifier'); }\n    "
     },
     "metadata": {}
    },
    {
     "output_type": "display_data",
     "data": {
      "text/plain": "<IPython.core.display.Javascript object>",
      "application/javascript": "\n        if (window._pyforest_update_imports_cell) { window._pyforest_update_imports_cell('from sklearn.ensemble import GradientBoostingClassifier\\nfrom sklearn.ensemble import GradientBoostingRegressor'); }\n    "
     },
     "metadata": {}
    },
    {
     "output_type": "display_data",
     "data": {
      "text/plain": "<IPython.core.display.Javascript object>",
      "application/javascript": "\n        if (window._pyforest_update_imports_cell) { window._pyforest_update_imports_cell('from sklearn.ensemble import GradientBoostingClassifier\\nfrom sklearn.ensemble import GradientBoostingRegressor'); }\n    "
     },
     "metadata": {}
    },
    {
     "output_type": "display_data",
     "data": {
      "text/plain": "<IPython.core.display.Javascript object>",
      "application/javascript": "\n        if (window._pyforest_update_imports_cell) { window._pyforest_update_imports_cell('from sklearn.ensemble import GradientBoostingClassifier\\nfrom sklearn.preprocessing import OneHotEncoder\\nfrom sklearn.ensemble import GradientBoostingRegressor'); }\n    "
     },
     "metadata": {}
    },
    {
     "output_type": "display_data",
     "data": {
      "text/plain": "<IPython.core.display.Javascript object>",
      "application/javascript": "\n        if (window._pyforest_update_imports_cell) { window._pyforest_update_imports_cell('from sklearn.ensemble import GradientBoostingClassifier\\nfrom sklearn.preprocessing import OneHotEncoder\\nfrom sklearn.ensemble import GradientBoostingRegressor'); }\n    "
     },
     "metadata": {}
    },
    {
     "output_type": "display_data",
     "data": {
      "text/plain": "<IPython.core.display.Javascript object>",
      "application/javascript": "\n        if (window._pyforest_update_imports_cell) { window._pyforest_update_imports_cell('from sklearn.ensemble import GradientBoostingClassifier\\nfrom sklearn.preprocessing import OneHotEncoder\\nfrom sklearn.ensemble import GradientBoostingRegressor\\nfrom pathlib import Path'); }\n    "
     },
     "metadata": {}
    },
    {
     "output_type": "display_data",
     "data": {
      "text/plain": "<IPython.core.display.Javascript object>",
      "application/javascript": "\n        if (window._pyforest_update_imports_cell) { window._pyforest_update_imports_cell('from sklearn.ensemble import GradientBoostingClassifier\\nfrom sklearn.preprocessing import OneHotEncoder\\nfrom sklearn.ensemble import GradientBoostingRegressor\\nfrom pathlib import Path'); }\n    "
     },
     "metadata": {}
    },
    {
     "output_type": "display_data",
     "data": {
      "text/plain": "<IPython.core.display.Javascript object>",
      "application/javascript": "\n        if (window._pyforest_update_imports_cell) { window._pyforest_update_imports_cell('from sklearn.ensemble import RandomForestClassifier\\nfrom pathlib import Path\\nfrom sklearn.ensemble import GradientBoostingRegressor\\nfrom sklearn.preprocessing import OneHotEncoder\\nfrom sklearn.ensemble import GradientBoostingClassifier'); }\n    "
     },
     "metadata": {}
    },
    {
     "output_type": "display_data",
     "data": {
      "text/plain": "<IPython.core.display.Javascript object>",
      "application/javascript": "\n        if (window._pyforest_update_imports_cell) { window._pyforest_update_imports_cell('from sklearn.ensemble import RandomForestClassifier\\nfrom pathlib import Path\\nfrom sklearn.ensemble import GradientBoostingRegressor\\nfrom sklearn.preprocessing import OneHotEncoder\\nfrom sklearn.ensemble import GradientBoostingClassifier'); }\n    "
     },
     "metadata": {}
    },
    {
     "output_type": "display_data",
     "data": {
      "text/plain": "<IPython.core.display.Javascript object>",
      "application/javascript": "\n        if (window._pyforest_update_imports_cell) { window._pyforest_update_imports_cell('from sklearn.ensemble import RandomForestClassifier\\nfrom sklearn.ensemble import RandomForestRegressor\\nfrom pathlib import Path\\nfrom sklearn.ensemble import GradientBoostingRegressor\\nfrom sklearn.preprocessing import OneHotEncoder\\nfrom sklearn.ensemble import GradientBoostingClassifier'); }\n    "
     },
     "metadata": {}
    },
    {
     "output_type": "display_data",
     "data": {
      "text/plain": "<IPython.core.display.Javascript object>",
      "application/javascript": "\n        if (window._pyforest_update_imports_cell) { window._pyforest_update_imports_cell('from sklearn.ensemble import RandomForestClassifier\\nfrom sklearn.ensemble import RandomForestRegressor\\nfrom pathlib import Path\\nfrom sklearn.ensemble import GradientBoostingRegressor\\nfrom sklearn.preprocessing import OneHotEncoder\\nfrom sklearn.ensemble import GradientBoostingClassifier'); }\n    "
     },
     "metadata": {}
    },
    {
     "output_type": "display_data",
     "data": {
      "text/plain": "<IPython.core.display.Javascript object>",
      "application/javascript": "\n        if (window._pyforest_update_imports_cell) { window._pyforest_update_imports_cell('from sklearn.ensemble import RandomForestClassifier\\nfrom sklearn.ensemble import RandomForestRegressor\\nfrom pathlib import Path\\nfrom sklearn.ensemble import GradientBoostingRegressor\\nfrom sklearn.preprocessing import OneHotEncoder\\nfrom sklearn.ensemble import GradientBoostingClassifier\\nfrom sklearn.manifold import TSNE'); }\n    "
     },
     "metadata": {}
    },
    {
     "output_type": "display_data",
     "data": {
      "text/plain": "<IPython.core.display.Javascript object>",
      "application/javascript": "\n        if (window._pyforest_update_imports_cell) { window._pyforest_update_imports_cell('from sklearn.ensemble import RandomForestClassifier\\nfrom sklearn.ensemble import RandomForestRegressor\\nfrom pathlib import Path\\nfrom sklearn.ensemble import GradientBoostingRegressor\\nfrom sklearn.preprocessing import OneHotEncoder\\nfrom sklearn.ensemble import GradientBoostingClassifier\\nfrom sklearn.manifold import TSNE'); }\n    "
     },
     "metadata": {}
    },
    {
     "output_type": "display_data",
     "data": {
      "text/plain": "<IPython.core.display.Javascript object>",
      "application/javascript": "\n        if (window._pyforest_update_imports_cell) { window._pyforest_update_imports_cell('from sklearn.ensemble import RandomForestClassifier\\nfrom sklearn.ensemble import RandomForestRegressor\\nfrom pathlib import Path\\nfrom sklearn.feature_extraction.text import TfidfVectorizer\\nfrom sklearn.ensemble import GradientBoostingRegressor\\nfrom sklearn.preprocessing import OneHotEncoder\\nfrom sklearn.ensemble import GradientBoostingClassifier\\nfrom sklearn.manifold import TSNE'); }\n    "
     },
     "metadata": {}
    },
    {
     "output_type": "display_data",
     "data": {
      "text/plain": "<IPython.core.display.Javascript object>",
      "application/javascript": "\n        if (window._pyforest_update_imports_cell) { window._pyforest_update_imports_cell('from sklearn.ensemble import RandomForestClassifier\\nfrom sklearn.ensemble import RandomForestRegressor\\nfrom pathlib import Path\\nfrom sklearn.feature_extraction.text import TfidfVectorizer\\nfrom sklearn.ensemble import GradientBoostingRegressor\\nfrom sklearn.preprocessing import OneHotEncoder\\nfrom sklearn.ensemble import GradientBoostingClassifier\\nfrom sklearn.manifold import TSNE'); }\n    "
     },
     "metadata": {}
    },
    {
     "output_type": "display_data",
     "data": {
      "text/plain": "<IPython.core.display.Javascript object>",
      "application/javascript": "\n        if (window._pyforest_update_imports_cell) { window._pyforest_update_imports_cell('from sklearn.ensemble import RandomForestClassifier\\nfrom sklearn.ensemble import RandomForestRegressor\\nfrom pathlib import Path\\nimport bokeh\\nfrom sklearn.feature_extraction.text import TfidfVectorizer\\nfrom sklearn.ensemble import GradientBoostingRegressor\\nfrom sklearn.preprocessing import OneHotEncoder\\nfrom sklearn.ensemble import GradientBoostingClassifier\\nfrom sklearn.manifold import TSNE'); }\n    "
     },
     "metadata": {}
    },
    {
     "output_type": "display_data",
     "data": {
      "text/plain": "<IPython.core.display.Javascript object>",
      "application/javascript": "\n        if (window._pyforest_update_imports_cell) { window._pyforest_update_imports_cell('from sklearn.ensemble import RandomForestClassifier\\nfrom sklearn.ensemble import RandomForestRegressor\\nfrom pathlib import Path\\nimport bokeh\\nfrom sklearn.feature_extraction.text import TfidfVectorizer\\nfrom sklearn.ensemble import GradientBoostingRegressor\\nfrom sklearn.preprocessing import OneHotEncoder\\nfrom sklearn.ensemble import GradientBoostingClassifier\\nfrom sklearn.manifold import TSNE'); }\n    "
     },
     "metadata": {}
    },
    {
     "output_type": "display_data",
     "data": {
      "text/plain": "<IPython.core.display.Javascript object>",
      "application/javascript": "\n        if (window._pyforest_update_imports_cell) { window._pyforest_update_imports_cell('from sklearn.ensemble import RandomForestClassifier\\nfrom sklearn.ensemble import RandomForestRegressor\\nfrom pathlib import Path\\nimport bokeh\\nfrom sklearn.feature_extraction.text import TfidfVectorizer\\nfrom sklearn.ensemble import GradientBoostingRegressor\\nfrom sklearn.preprocessing import OneHotEncoder\\nfrom dask import dataframe as dd\\nfrom sklearn.ensemble import GradientBoostingClassifier\\nfrom sklearn.manifold import TSNE'); }\n    "
     },
     "metadata": {}
    },
    {
     "output_type": "display_data",
     "data": {
      "text/plain": "<IPython.core.display.Javascript object>",
      "application/javascript": "\n        if (window._pyforest_update_imports_cell) { window._pyforest_update_imports_cell('from sklearn.ensemble import RandomForestClassifier\\nfrom sklearn.ensemble import RandomForestRegressor\\nfrom pathlib import Path\\nimport bokeh\\nfrom sklearn.feature_extraction.text import TfidfVectorizer\\nfrom sklearn.ensemble import GradientBoostingRegressor\\nfrom sklearn.preprocessing import OneHotEncoder\\nfrom dask import dataframe as dd\\nfrom sklearn.ensemble import GradientBoostingClassifier\\nfrom sklearn.manifold import TSNE'); }\n    "
     },
     "metadata": {}
    },
    {
     "output_type": "display_data",
     "data": {
      "text/plain": "<IPython.core.display.Javascript object>",
      "application/javascript": "\n        if (window._pyforest_update_imports_cell) { window._pyforest_update_imports_cell('from sklearn.ensemble import RandomForestClassifier\\nimport datetime as dt\\nfrom sklearn.ensemble import RandomForestRegressor\\nfrom pathlib import Path\\nimport bokeh\\nfrom sklearn.feature_extraction.text import TfidfVectorizer\\nfrom sklearn.ensemble import GradientBoostingRegressor\\nfrom sklearn.preprocessing import OneHotEncoder\\nfrom dask import dataframe as dd\\nfrom sklearn.ensemble import GradientBoostingClassifier\\nfrom sklearn.manifold import TSNE'); }\n    "
     },
     "metadata": {}
    },
    {
     "output_type": "display_data",
     "data": {
      "text/plain": "<IPython.core.display.Javascript object>",
      "application/javascript": "\n        if (window._pyforest_update_imports_cell) { window._pyforest_update_imports_cell('from sklearn.ensemble import RandomForestClassifier\\nimport datetime as dt\\nfrom sklearn.ensemble import RandomForestRegressor\\nfrom pathlib import Path\\nimport bokeh\\nfrom sklearn.feature_extraction.text import TfidfVectorizer\\nfrom sklearn.ensemble import GradientBoostingRegressor\\nfrom sklearn.preprocessing import OneHotEncoder\\nfrom dask import dataframe as dd\\nfrom sklearn.ensemble import GradientBoostingClassifier\\nfrom sklearn.manifold import TSNE'); }\n    "
     },
     "metadata": {}
    },
    {
     "output_type": "display_data",
     "data": {
      "text/plain": "<IPython.core.display.Javascript object>",
      "application/javascript": "\n        if (window._pyforest_update_imports_cell) { window._pyforest_update_imports_cell('from sklearn.ensemble import RandomForestClassifier\\nimport datetime as dt\\nfrom sklearn.ensemble import RandomForestRegressor\\nfrom pathlib import Path\\nimport gensim\\nimport bokeh\\nfrom sklearn.feature_extraction.text import TfidfVectorizer\\nfrom sklearn.ensemble import GradientBoostingRegressor\\nfrom sklearn.preprocessing import OneHotEncoder\\nfrom dask import dataframe as dd\\nfrom sklearn.ensemble import GradientBoostingClassifier\\nfrom sklearn.manifold import TSNE'); }\n    "
     },
     "metadata": {}
    },
    {
     "output_type": "display_data",
     "data": {
      "text/plain": "<IPython.core.display.Javascript object>",
      "application/javascript": "\n        if (window._pyforest_update_imports_cell) { window._pyforest_update_imports_cell('from sklearn.ensemble import RandomForestClassifier\\nimport datetime as dt\\nfrom sklearn.ensemble import RandomForestRegressor\\nfrom pathlib import Path\\nimport gensim\\nimport bokeh\\nfrom sklearn.feature_extraction.text import TfidfVectorizer\\nfrom sklearn.ensemble import GradientBoostingRegressor\\nfrom sklearn.preprocessing import OneHotEncoder\\nfrom dask import dataframe as dd\\nfrom sklearn.ensemble import GradientBoostingClassifier\\nfrom sklearn.manifold import TSNE'); }\n    "
     },
     "metadata": {}
    },
    {
     "output_type": "display_data",
     "data": {
      "text/plain": "<IPython.core.display.Javascript object>",
      "application/javascript": "\n        if (window._pyforest_update_imports_cell) { window._pyforest_update_imports_cell('from sklearn.ensemble import RandomForestClassifier\\nimport datetime as dt\\nfrom sklearn.ensemble import RandomForestRegressor\\nfrom pathlib import Path\\nimport gensim\\nimport bokeh\\nfrom sklearn.feature_extraction.text import TfidfVectorizer\\nimport glob\\nfrom sklearn.ensemble import GradientBoostingRegressor\\nfrom sklearn.preprocessing import OneHotEncoder\\nfrom dask import dataframe as dd\\nfrom sklearn.ensemble import GradientBoostingClassifier\\nfrom sklearn.manifold import TSNE'); }\n    "
     },
     "metadata": {}
    },
    {
     "output_type": "display_data",
     "data": {
      "text/plain": "<IPython.core.display.Javascript object>",
      "application/javascript": "\n        if (window._pyforest_update_imports_cell) { window._pyforest_update_imports_cell('from sklearn.ensemble import RandomForestClassifier\\nimport datetime as dt\\nfrom sklearn.ensemble import RandomForestRegressor\\nfrom pathlib import Path\\nimport gensim\\nimport bokeh\\nfrom sklearn.feature_extraction.text import TfidfVectorizer\\nimport glob\\nfrom sklearn.ensemble import GradientBoostingRegressor\\nfrom sklearn.preprocessing import OneHotEncoder\\nfrom dask import dataframe as dd\\nfrom sklearn.ensemble import GradientBoostingClassifier\\nfrom sklearn.manifold import TSNE'); }\n    "
     },
     "metadata": {}
    },
    {
     "output_type": "display_data",
     "data": {
      "text/plain": "<IPython.core.display.Javascript object>",
      "application/javascript": "\n        if (window._pyforest_update_imports_cell) { window._pyforest_update_imports_cell('from sklearn.ensemble import RandomForestClassifier\\nimport datetime as dt\\nfrom sklearn.ensemble import RandomForestRegressor\\nfrom pathlib import Path\\nimport gensim\\nimport bokeh\\nfrom sklearn.feature_extraction.text import TfidfVectorizer\\nimport glob\\nfrom sklearn.ensemble import GradientBoostingRegressor\\nfrom sklearn.preprocessing import OneHotEncoder\\nimport plotly.graph_objs as go\\nfrom dask import dataframe as dd\\nfrom sklearn.ensemble import GradientBoostingClassifier\\nfrom sklearn.manifold import TSNE'); }\n    "
     },
     "metadata": {}
    },
    {
     "output_type": "display_data",
     "data": {
      "text/plain": "<IPython.core.display.Javascript object>",
      "application/javascript": "\n        if (window._pyforest_update_imports_cell) { window._pyforest_update_imports_cell('from sklearn.ensemble import RandomForestClassifier\\nimport datetime as dt\\nfrom sklearn.ensemble import RandomForestRegressor\\nfrom pathlib import Path\\nimport gensim\\nimport bokeh\\nfrom sklearn.feature_extraction.text import TfidfVectorizer\\nimport glob\\nfrom sklearn.ensemble import GradientBoostingRegressor\\nfrom sklearn.preprocessing import OneHotEncoder\\nimport plotly.graph_objs as go\\nfrom dask import dataframe as dd\\nfrom sklearn.ensemble import GradientBoostingClassifier\\nfrom sklearn.manifold import TSNE'); }\n    "
     },
     "metadata": {}
    },
    {
     "output_type": "display_data",
     "data": {
      "text/plain": "<IPython.core.display.Javascript object>",
      "application/javascript": "\n        if (window._pyforest_update_imports_cell) { window._pyforest_update_imports_cell('from sklearn.ensemble import RandomForestClassifier\\nimport datetime as dt\\nfrom sklearn.ensemble import RandomForestRegressor\\nfrom pathlib import Path\\nimport gensim\\nimport bokeh\\nfrom sklearn.feature_extraction.text import TfidfVectorizer\\nimport glob\\nfrom sklearn.ensemble import GradientBoostingRegressor\\nfrom sklearn.preprocessing import OneHotEncoder\\nimport plotly.graph_objs as go\\nfrom dask import dataframe as dd\\nfrom sklearn.ensemble import GradientBoostingClassifier\\nimport lightgbm as lgb\\nfrom sklearn.manifold import TSNE'); }\n    "
     },
     "metadata": {}
    },
    {
     "output_type": "display_data",
     "data": {
      "text/plain": "<IPython.core.display.Javascript object>",
      "application/javascript": "\n        if (window._pyforest_update_imports_cell) { window._pyforest_update_imports_cell('from sklearn.ensemble import RandomForestClassifier\\nimport datetime as dt\\nfrom sklearn.ensemble import RandomForestRegressor\\nfrom pathlib import Path\\nimport gensim\\nimport bokeh\\nfrom sklearn.feature_extraction.text import TfidfVectorizer\\nimport glob\\nfrom sklearn.ensemble import GradientBoostingRegressor\\nfrom sklearn.preprocessing import OneHotEncoder\\nimport plotly.graph_objs as go\\nfrom dask import dataframe as dd\\nfrom sklearn.ensemble import GradientBoostingClassifier\\nimport lightgbm as lgb\\nfrom sklearn.manifold import TSNE'); }\n    "
     },
     "metadata": {}
    },
    {
     "output_type": "display_data",
     "data": {
      "text/plain": "<IPython.core.display.Javascript object>",
      "application/javascript": "\n        if (window._pyforest_update_imports_cell) { window._pyforest_update_imports_cell('from sklearn.ensemble import RandomForestClassifier\\nimport datetime as dt\\nfrom openpyxl import load_workbook\\nfrom sklearn.ensemble import RandomForestRegressor\\nfrom pathlib import Path\\nimport gensim\\nimport bokeh\\nfrom sklearn.feature_extraction.text import TfidfVectorizer\\nimport glob\\nfrom sklearn.ensemble import GradientBoostingRegressor\\nfrom sklearn.preprocessing import OneHotEncoder\\nimport plotly.graph_objs as go\\nfrom dask import dataframe as dd\\nfrom sklearn.ensemble import GradientBoostingClassifier\\nimport lightgbm as lgb\\nfrom sklearn.manifold import TSNE'); }\n    "
     },
     "metadata": {}
    },
    {
     "output_type": "display_data",
     "data": {
      "text/plain": "<IPython.core.display.Javascript object>",
      "application/javascript": "\n        if (window._pyforest_update_imports_cell) { window._pyforest_update_imports_cell('from sklearn.ensemble import RandomForestClassifier\\nimport datetime as dt\\nfrom openpyxl import load_workbook\\nfrom sklearn.ensemble import RandomForestRegressor\\nfrom pathlib import Path\\nimport gensim\\nimport bokeh\\nfrom sklearn.feature_extraction.text import TfidfVectorizer\\nimport glob\\nfrom sklearn.ensemble import GradientBoostingRegressor\\nfrom sklearn.preprocessing import OneHotEncoder\\nimport plotly.graph_objs as go\\nfrom dask import dataframe as dd\\nfrom sklearn.ensemble import GradientBoostingClassifier\\nimport lightgbm as lgb\\nfrom sklearn.manifold import TSNE'); }\n    "
     },
     "metadata": {}
    },
    {
     "output_type": "display_data",
     "data": {
      "text/plain": "<IPython.core.display.Javascript object>",
      "application/javascript": "\n        if (window._pyforest_update_imports_cell) { window._pyforest_update_imports_cell('from sklearn.ensemble import RandomForestClassifier\\nimport datetime as dt\\nfrom openpyxl import load_workbook\\nfrom sklearn.ensemble import RandomForestRegressor\\nfrom pathlib import Path\\nimport gensim\\nimport matplotlib as mpl\\nimport bokeh\\nfrom sklearn.feature_extraction.text import TfidfVectorizer\\nimport glob\\nfrom sklearn.ensemble import GradientBoostingRegressor\\nfrom sklearn.preprocessing import OneHotEncoder\\nimport plotly.graph_objs as go\\nfrom dask import dataframe as dd\\nfrom sklearn.ensemble import GradientBoostingClassifier\\nimport lightgbm as lgb\\nfrom sklearn.manifold import TSNE'); }\n    "
     },
     "metadata": {}
    },
    {
     "output_type": "display_data",
     "data": {
      "text/plain": "<IPython.core.display.Javascript object>",
      "application/javascript": "\n        if (window._pyforest_update_imports_cell) { window._pyforest_update_imports_cell('from sklearn.ensemble import RandomForestClassifier\\nimport datetime as dt\\nfrom openpyxl import load_workbook\\nfrom sklearn.ensemble import RandomForestRegressor\\nfrom pathlib import Path\\nimport gensim\\nimport matplotlib as mpl\\nimport bokeh\\nfrom sklearn.feature_extraction.text import TfidfVectorizer\\nimport glob\\nfrom sklearn.ensemble import GradientBoostingRegressor\\nfrom sklearn.preprocessing import OneHotEncoder\\nimport plotly.graph_objs as go\\nfrom dask import dataframe as dd\\nfrom sklearn.ensemble import GradientBoostingClassifier\\nimport lightgbm as lgb\\nfrom sklearn.manifold import TSNE'); }\n    "
     },
     "metadata": {}
    },
    {
     "output_type": "display_data",
     "data": {
      "text/plain": "<IPython.core.display.Javascript object>",
      "application/javascript": "\n        if (window._pyforest_update_imports_cell) { window._pyforest_update_imports_cell('from sklearn.ensemble import RandomForestClassifier\\nimport datetime as dt\\nfrom openpyxl import load_workbook\\nfrom sklearn.ensemble import RandomForestRegressor\\nfrom pathlib import Path\\nimport gensim\\nimport matplotlib as mpl\\nimport bokeh\\nfrom sklearn.feature_extraction.text import TfidfVectorizer\\nimport glob\\nfrom sklearn.ensemble import GradientBoostingRegressor\\nfrom sklearn.preprocessing import OneHotEncoder\\nimport plotly.graph_objs as go\\nimport nltk\\nfrom dask import dataframe as dd\\nfrom sklearn.ensemble import GradientBoostingClassifier\\nimport lightgbm as lgb\\nfrom sklearn.manifold import TSNE'); }\n    "
     },
     "metadata": {}
    },
    {
     "output_type": "display_data",
     "data": {
      "text/plain": "<IPython.core.display.Javascript object>",
      "application/javascript": "\n        if (window._pyforest_update_imports_cell) { window._pyforest_update_imports_cell('from sklearn.ensemble import RandomForestClassifier\\nimport datetime as dt\\nfrom openpyxl import load_workbook\\nfrom sklearn.ensemble import RandomForestRegressor\\nfrom pathlib import Path\\nimport gensim\\nimport matplotlib as mpl\\nimport bokeh\\nfrom sklearn.feature_extraction.text import TfidfVectorizer\\nimport glob\\nfrom sklearn.ensemble import GradientBoostingRegressor\\nfrom sklearn.preprocessing import OneHotEncoder\\nimport plotly.graph_objs as go\\nimport nltk\\nfrom dask import dataframe as dd\\nfrom sklearn.ensemble import GradientBoostingClassifier\\nimport lightgbm as lgb\\nfrom sklearn.manifold import TSNE'); }\n    "
     },
     "metadata": {}
    },
    {
     "output_type": "display_data",
     "data": {
      "text/plain": "<IPython.core.display.Javascript object>",
      "application/javascript": "\n        if (window._pyforest_update_imports_cell) { window._pyforest_update_imports_cell('from sklearn.ensemble import RandomForestClassifier\\nimport datetime as dt\\nfrom pathlib import Path\\nimport gensim\\nfrom sklearn.ensemble import GradientBoostingRegressor\\nfrom dask import dataframe as dd\\nimport pickle\\nfrom openpyxl import load_workbook\\nfrom sklearn.preprocessing import OneHotEncoder\\nimport plotly.graph_objs as go\\nfrom sklearn.ensemble import RandomForestRegressor\\nimport matplotlib as mpl\\nimport bokeh\\nfrom sklearn.feature_extraction.text import TfidfVectorizer\\nimport glob\\nimport nltk\\nfrom sklearn.ensemble import GradientBoostingClassifier\\nfrom sklearn.manifold import TSNE\\nimport lightgbm as lgb'); }\n    "
     },
     "metadata": {}
    },
    {
     "output_type": "display_data",
     "data": {
      "text/plain": "<IPython.core.display.Javascript object>",
      "application/javascript": "\n        if (window._pyforest_update_imports_cell) { window._pyforest_update_imports_cell('from sklearn.ensemble import RandomForestClassifier\\nimport datetime as dt\\nfrom pathlib import Path\\nimport gensim\\nfrom sklearn.ensemble import GradientBoostingRegressor\\nfrom dask import dataframe as dd\\nimport pickle\\nfrom openpyxl import load_workbook\\nfrom sklearn.preprocessing import OneHotEncoder\\nimport plotly.graph_objs as go\\nfrom sklearn.ensemble import RandomForestRegressor\\nimport matplotlib as mpl\\nimport bokeh\\nfrom sklearn.feature_extraction.text import TfidfVectorizer\\nimport glob\\nimport nltk\\nfrom sklearn.ensemble import GradientBoostingClassifier\\nfrom sklearn.manifold import TSNE\\nimport lightgbm as lgb'); }\n    "
     },
     "metadata": {}
    },
    {
     "output_type": "display_data",
     "data": {
      "text/plain": "<IPython.core.display.Javascript object>",
      "application/javascript": "\n        if (window._pyforest_update_imports_cell) { window._pyforest_update_imports_cell('from sklearn.ensemble import RandomForestClassifier\\nimport datetime as dt\\nfrom pathlib import Path\\nimport gensim\\nfrom sklearn.ensemble import GradientBoostingRegressor\\nfrom dask import dataframe as dd\\nimport plotly.express as px\\nimport pickle\\nfrom openpyxl import load_workbook\\nfrom sklearn.preprocessing import OneHotEncoder\\nimport plotly.graph_objs as go\\nfrom sklearn.ensemble import RandomForestRegressor\\nimport matplotlib as mpl\\nimport bokeh\\nfrom sklearn.feature_extraction.text import TfidfVectorizer\\nimport glob\\nimport nltk\\nfrom sklearn.ensemble import GradientBoostingClassifier\\nfrom sklearn.manifold import TSNE\\nimport lightgbm as lgb'); }\n    "
     },
     "metadata": {}
    },
    {
     "output_type": "display_data",
     "data": {
      "text/plain": "<IPython.core.display.Javascript object>",
      "application/javascript": "\n        if (window._pyforest_update_imports_cell) { window._pyforest_update_imports_cell('from sklearn.ensemble import RandomForestClassifier\\nimport datetime as dt\\nfrom pathlib import Path\\nimport gensim\\nfrom sklearn.ensemble import GradientBoostingRegressor\\nfrom dask import dataframe as dd\\nimport plotly.express as px\\nimport pickle\\nfrom openpyxl import load_workbook\\nfrom sklearn.preprocessing import OneHotEncoder\\nimport plotly.graph_objs as go\\nfrom sklearn.ensemble import RandomForestRegressor\\nimport matplotlib as mpl\\nimport bokeh\\nfrom sklearn.feature_extraction.text import TfidfVectorizer\\nimport glob\\nimport nltk\\nfrom sklearn.ensemble import GradientBoostingClassifier\\nfrom sklearn.manifold import TSNE\\nimport lightgbm as lgb'); }\n    "
     },
     "metadata": {}
    },
    {
     "output_type": "display_data",
     "data": {
      "text/plain": "<IPython.core.display.Javascript object>",
      "application/javascript": "\n        if (window._pyforest_update_imports_cell) { window._pyforest_update_imports_cell('from sklearn.ensemble import RandomForestClassifier\\nimport datetime as dt\\nfrom pathlib import Path\\nimport gensim\\nfrom sklearn.ensemble import GradientBoostingRegressor\\nfrom dask import dataframe as dd\\nimport plotly.express as px\\nimport pickle\\nfrom openpyxl import load_workbook\\nfrom sklearn.preprocessing import OneHotEncoder\\nimport plotly.graph_objs as go\\nimport plotly as py\\nfrom sklearn.ensemble import RandomForestRegressor\\nimport matplotlib as mpl\\nimport bokeh\\nfrom sklearn.feature_extraction.text import TfidfVectorizer\\nimport glob\\nimport nltk\\nfrom sklearn.ensemble import GradientBoostingClassifier\\nfrom sklearn.manifold import TSNE\\nimport lightgbm as lgb'); }\n    "
     },
     "metadata": {}
    },
    {
     "output_type": "display_data",
     "data": {
      "text/plain": "<IPython.core.display.Javascript object>",
      "application/javascript": "\n        if (window._pyforest_update_imports_cell) { window._pyforest_update_imports_cell('from sklearn.ensemble import RandomForestClassifier\\nimport datetime as dt\\nfrom pathlib import Path\\nimport gensim\\nfrom sklearn.ensemble import GradientBoostingRegressor\\nfrom dask import dataframe as dd\\nimport plotly.express as px\\nimport pickle\\nfrom openpyxl import load_workbook\\nfrom sklearn.preprocessing import OneHotEncoder\\nimport plotly.graph_objs as go\\nimport plotly as py\\nfrom sklearn.ensemble import RandomForestRegressor\\nimport matplotlib as mpl\\nimport bokeh\\nfrom sklearn.feature_extraction.text import TfidfVectorizer\\nimport glob\\nimport nltk\\nfrom sklearn.ensemble import GradientBoostingClassifier\\nfrom sklearn.manifold import TSNE\\nimport lightgbm as lgb'); }\n    "
     },
     "metadata": {}
    },
    {
     "output_type": "display_data",
     "data": {
      "text/plain": "<IPython.core.display.Javascript object>",
      "application/javascript": "\n        if (window._pyforest_update_imports_cell) { window._pyforest_update_imports_cell('from sklearn.ensemble import RandomForestClassifier\\nimport datetime as dt\\nfrom pathlib import Path\\nimport gensim\\nfrom sklearn.ensemble import GradientBoostingRegressor\\nfrom dask import dataframe as dd\\nimport plotly.express as px\\nimport pickle\\nfrom openpyxl import load_workbook\\nfrom sklearn.preprocessing import OneHotEncoder\\nimport plotly.graph_objs as go\\nimport plotly as py\\nimport sklearn\\nfrom sklearn.ensemble import RandomForestRegressor\\nimport matplotlib as mpl\\nimport bokeh\\nfrom sklearn.feature_extraction.text import TfidfVectorizer\\nimport glob\\nimport nltk\\nfrom sklearn.ensemble import GradientBoostingClassifier\\nfrom sklearn.manifold import TSNE\\nimport lightgbm as lgb'); }\n    "
     },
     "metadata": {}
    },
    {
     "output_type": "display_data",
     "data": {
      "text/plain": "<IPython.core.display.Javascript object>",
      "application/javascript": "\n        if (window._pyforest_update_imports_cell) { window._pyforest_update_imports_cell('from sklearn.ensemble import RandomForestClassifier\\nimport datetime as dt\\nfrom pathlib import Path\\nimport gensim\\nfrom sklearn.ensemble import GradientBoostingRegressor\\nfrom dask import dataframe as dd\\nimport plotly.express as px\\nimport pickle\\nfrom openpyxl import load_workbook\\nfrom sklearn.preprocessing import OneHotEncoder\\nimport plotly.graph_objs as go\\nimport plotly as py\\nimport sklearn\\nfrom sklearn.ensemble import RandomForestRegressor\\nimport matplotlib as mpl\\nimport bokeh\\nfrom sklearn.feature_extraction.text import TfidfVectorizer\\nimport glob\\nimport nltk\\nfrom sklearn.ensemble import GradientBoostingClassifier\\nfrom sklearn.manifold import TSNE\\nimport lightgbm as lgb'); }\n    "
     },
     "metadata": {}
    },
    {
     "output_type": "display_data",
     "data": {
      "text/plain": "<IPython.core.display.Javascript object>",
      "application/javascript": "\n        if (window._pyforest_update_imports_cell) { window._pyforest_update_imports_cell('from sklearn.ensemble import RandomForestClassifier\\nimport datetime as dt\\nfrom pathlib import Path\\nimport gensim\\nfrom sklearn.ensemble import GradientBoostingRegressor\\nfrom dask import dataframe as dd\\nimport plotly.express as px\\nimport pickle\\nfrom openpyxl import load_workbook\\nfrom sklearn.preprocessing import OneHotEncoder\\nimport plotly.graph_objs as go\\nimport plotly as py\\nimport sklearn\\nfrom sklearn.ensemble import RandomForestRegressor\\nimport matplotlib as mpl\\nimport bokeh\\nfrom sklearn.feature_extraction.text import TfidfVectorizer\\nimport seaborn as sns\\nimport glob\\nimport nltk\\nfrom sklearn.ensemble import GradientBoostingClassifier\\nfrom sklearn.manifold import TSNE\\nimport lightgbm as lgb'); }\n    "
     },
     "metadata": {}
    },
    {
     "output_type": "display_data",
     "data": {
      "text/plain": "<IPython.core.display.Javascript object>",
      "application/javascript": "\n        if (window._pyforest_update_imports_cell) { window._pyforest_update_imports_cell('from sklearn.ensemble import RandomForestClassifier\\nimport datetime as dt\\nfrom pathlib import Path\\nimport gensim\\nfrom sklearn.ensemble import GradientBoostingRegressor\\nfrom dask import dataframe as dd\\nimport plotly.express as px\\nimport pickle\\nfrom openpyxl import load_workbook\\nfrom sklearn.preprocessing import OneHotEncoder\\nimport plotly.graph_objs as go\\nimport plotly as py\\nimport sklearn\\nfrom sklearn.ensemble import RandomForestRegressor\\nimport matplotlib as mpl\\nimport bokeh\\nfrom sklearn.feature_extraction.text import TfidfVectorizer\\nimport seaborn as sns\\nimport glob\\nimport nltk\\nfrom sklearn.ensemble import GradientBoostingClassifier\\nfrom sklearn.manifold import TSNE\\nimport lightgbm as lgb'); }\n    "
     },
     "metadata": {}
    },
    {
     "output_type": "display_data",
     "data": {
      "text/plain": "<IPython.core.display.Javascript object>",
      "application/javascript": "\n        if (window._pyforest_update_imports_cell) { window._pyforest_update_imports_cell('from sklearn.ensemble import RandomForestClassifier\\nimport datetime as dt\\nfrom pathlib import Path\\nimport gensim\\nfrom sklearn.ensemble import GradientBoostingRegressor\\nfrom dask import dataframe as dd\\nimport plotly.express as px\\nimport pickle\\nfrom openpyxl import load_workbook\\nfrom sklearn.preprocessing import OneHotEncoder\\nimport plotly.graph_objs as go\\nimport spacy\\nimport plotly as py\\nimport sklearn\\nfrom sklearn.ensemble import RandomForestRegressor\\nimport matplotlib as mpl\\nimport bokeh\\nfrom sklearn.feature_extraction.text import TfidfVectorizer\\nimport seaborn as sns\\nimport glob\\nimport nltk\\nfrom sklearn.ensemble import GradientBoostingClassifier\\nfrom sklearn.manifold import TSNE\\nimport lightgbm as lgb'); }\n    "
     },
     "metadata": {}
    },
    {
     "output_type": "display_data",
     "data": {
      "text/plain": "<IPython.core.display.Javascript object>",
      "application/javascript": "\n        if (window._pyforest_update_imports_cell) { window._pyforest_update_imports_cell('from sklearn.ensemble import RandomForestClassifier\\nimport datetime as dt\\nfrom pathlib import Path\\nimport gensim\\nfrom sklearn.ensemble import GradientBoostingRegressor\\nfrom dask import dataframe as dd\\nimport plotly.express as px\\nimport pickle\\nfrom openpyxl import load_workbook\\nfrom sklearn.preprocessing import OneHotEncoder\\nimport plotly.graph_objs as go\\nimport spacy\\nimport plotly as py\\nimport sklearn\\nfrom sklearn.ensemble import RandomForestRegressor\\nimport matplotlib as mpl\\nimport bokeh\\nfrom sklearn.feature_extraction.text import TfidfVectorizer\\nimport seaborn as sns\\nimport glob\\nimport nltk\\nfrom sklearn.ensemble import GradientBoostingClassifier\\nfrom sklearn.manifold import TSNE\\nimport lightgbm as lgb'); }\n    "
     },
     "metadata": {}
    },
    {
     "output_type": "display_data",
     "data": {
      "text/plain": "<IPython.core.display.Javascript object>",
      "application/javascript": "\n        if (window._pyforest_update_imports_cell) { window._pyforest_update_imports_cell('from sklearn.ensemble import RandomForestClassifier\\nimport datetime as dt\\nfrom pathlib import Path\\nimport gensim\\nfrom sklearn.ensemble import GradientBoostingRegressor\\nfrom dask import dataframe as dd\\nimport plotly.express as px\\nimport pickle\\nfrom openpyxl import load_workbook\\nfrom sklearn.preprocessing import OneHotEncoder\\nimport plotly.graph_objs as go\\nimport spacy\\nimport plotly as py\\nimport sklearn\\nfrom sklearn.ensemble import RandomForestRegressor\\nimport matplotlib as mpl\\nimport bokeh\\nfrom sklearn.feature_extraction.text import TfidfVectorizer\\nimport seaborn as sns\\nimport glob\\nimport nltk\\nfrom sklearn.ensemble import GradientBoostingClassifier\\nimport statistics\\nfrom sklearn.manifold import TSNE\\nimport lightgbm as lgb'); }\n    "
     },
     "metadata": {}
    },
    {
     "output_type": "display_data",
     "data": {
      "text/plain": "<IPython.core.display.Javascript object>",
      "application/javascript": "\n        if (window._pyforest_update_imports_cell) { window._pyforest_update_imports_cell('from sklearn.ensemble import RandomForestClassifier\\nimport datetime as dt\\nfrom pathlib import Path\\nimport gensim\\nfrom sklearn.ensemble import GradientBoostingRegressor\\nfrom dask import dataframe as dd\\nimport plotly.express as px\\nimport pickle\\nfrom openpyxl import load_workbook\\nfrom sklearn.preprocessing import OneHotEncoder\\nimport plotly.graph_objs as go\\nimport spacy\\nimport plotly as py\\nimport sklearn\\nfrom sklearn.ensemble import RandomForestRegressor\\nimport matplotlib as mpl\\nimport bokeh\\nfrom sklearn.feature_extraction.text import TfidfVectorizer\\nimport seaborn as sns\\nimport glob\\nimport nltk\\nfrom sklearn.ensemble import GradientBoostingClassifier\\nimport statistics\\nfrom sklearn.manifold import TSNE\\nimport lightgbm as lgb'); }\n    "
     },
     "metadata": {}
    },
    {
     "output_type": "display_data",
     "data": {
      "text/plain": "<IPython.core.display.Javascript object>",
      "application/javascript": "\n        if (window._pyforest_update_imports_cell) { window._pyforest_update_imports_cell('from sklearn.ensemble import RandomForestClassifier\\nimport datetime as dt\\nfrom pathlib import Path\\nimport gensim\\nfrom sklearn.ensemble import GradientBoostingRegressor\\nfrom dask import dataframe as dd\\nimport plotly.express as px\\nimport pickle\\nfrom openpyxl import load_workbook\\nfrom sklearn.preprocessing import OneHotEncoder\\nimport plotly.graph_objs as go\\nimport spacy\\nimport plotly as py\\nimport sklearn\\nfrom sklearn.ensemble import RandomForestRegressor\\nimport matplotlib as mpl\\nimport bokeh\\nfrom sklearn.feature_extraction.text import TfidfVectorizer\\nimport seaborn as sns\\nimport glob\\nimport nltk\\nfrom sklearn.ensemble import GradientBoostingClassifier\\nimport statistics\\nfrom sklearn.manifold import TSNE\\nfrom sklearn import svm\\nimport lightgbm as lgb'); }\n    "
     },
     "metadata": {}
    },
    {
     "output_type": "display_data",
     "data": {
      "text/plain": "<IPython.core.display.Javascript object>",
      "application/javascript": "\n        if (window._pyforest_update_imports_cell) { window._pyforest_update_imports_cell('from sklearn.ensemble import RandomForestClassifier\\nimport datetime as dt\\nfrom pathlib import Path\\nimport gensim\\nfrom sklearn.ensemble import GradientBoostingRegressor\\nfrom dask import dataframe as dd\\nimport plotly.express as px\\nimport pickle\\nfrom openpyxl import load_workbook\\nfrom sklearn.preprocessing import OneHotEncoder\\nimport plotly.graph_objs as go\\nimport spacy\\nimport plotly as py\\nimport sklearn\\nfrom sklearn.ensemble import RandomForestRegressor\\nimport matplotlib as mpl\\nimport bokeh\\nfrom sklearn.feature_extraction.text import TfidfVectorizer\\nimport seaborn as sns\\nimport glob\\nimport nltk\\nfrom sklearn.ensemble import GradientBoostingClassifier\\nimport statistics\\nfrom sklearn.manifold import TSNE\\nfrom sklearn import svm\\nimport lightgbm as lgb'); }\n    "
     },
     "metadata": {}
    },
    {
     "output_type": "display_data",
     "data": {
      "text/plain": "<IPython.core.display.Javascript object>",
      "application/javascript": "\n        if (window._pyforest_update_imports_cell) { window._pyforest_update_imports_cell('from sklearn.ensemble import RandomForestClassifier\\nimport datetime as dt\\nfrom pathlib import Path\\nimport gensim\\nfrom sklearn.ensemble import GradientBoostingRegressor\\nfrom dask import dataframe as dd\\nimport plotly.express as px\\nimport tqdm\\nimport pickle\\nfrom openpyxl import load_workbook\\nfrom sklearn.preprocessing import OneHotEncoder\\nimport plotly.graph_objs as go\\nimport spacy\\nimport plotly as py\\nimport sklearn\\nfrom sklearn.ensemble import RandomForestRegressor\\nimport matplotlib as mpl\\nimport bokeh\\nfrom sklearn.feature_extraction.text import TfidfVectorizer\\nimport seaborn as sns\\nimport glob\\nimport nltk\\nfrom sklearn.ensemble import GradientBoostingClassifier\\nimport statistics\\nfrom sklearn.manifold import TSNE\\nfrom sklearn import svm\\nimport lightgbm as lgb'); }\n    "
     },
     "metadata": {}
    },
    {
     "output_type": "display_data",
     "data": {
      "text/plain": "<IPython.core.display.Javascript object>",
      "application/javascript": "\n        if (window._pyforest_update_imports_cell) { window._pyforest_update_imports_cell('from sklearn.ensemble import RandomForestClassifier\\nimport datetime as dt\\nfrom pathlib import Path\\nimport gensim\\nfrom sklearn.ensemble import GradientBoostingRegressor\\nfrom dask import dataframe as dd\\nimport plotly.express as px\\nimport tqdm\\nimport pickle\\nfrom openpyxl import load_workbook\\nfrom sklearn.preprocessing import OneHotEncoder\\nimport plotly.graph_objs as go\\nimport spacy\\nimport plotly as py\\nimport sklearn\\nfrom sklearn.ensemble import RandomForestRegressor\\nimport matplotlib as mpl\\nimport bokeh\\nfrom sklearn.feature_extraction.text import TfidfVectorizer\\nimport seaborn as sns\\nimport glob\\nimport nltk\\nfrom sklearn.ensemble import GradientBoostingClassifier\\nimport statistics\\nfrom sklearn.manifold import TSNE\\nfrom sklearn import svm\\nimport lightgbm as lgb'); }\n    "
     },
     "metadata": {}
    },
    {
     "output_type": "display_data",
     "data": {
      "text/plain": "<IPython.core.display.Javascript object>",
      "application/javascript": "\n        if (window._pyforest_update_imports_cell) { window._pyforest_update_imports_cell('from sklearn.ensemble import RandomForestClassifier\\nimport datetime as dt\\nfrom pathlib import Path\\nimport gensim\\nfrom sklearn.ensemble import GradientBoostingRegressor\\nfrom dask import dataframe as dd\\nimport plotly.express as px\\nimport tqdm\\nimport pickle\\nfrom openpyxl import load_workbook\\nfrom sklearn.preprocessing import OneHotEncoder\\nimport plotly.graph_objs as go\\nimport spacy\\nimport plotly as py\\nimport sklearn\\nfrom sklearn.ensemble import RandomForestRegressor\\nimport matplotlib as mpl\\nimport bokeh\\nfrom sklearn.feature_extraction.text import TfidfVectorizer\\nimport seaborn as sns\\nimport glob\\nimport nltk\\nfrom sklearn.ensemble import GradientBoostingClassifier\\nimport statistics\\nfrom sklearn.model_selection import train_test_split\\nfrom sklearn.manifold import TSNE\\nfrom sklearn import svm\\nimport lightgbm as lgb'); }\n    "
     },
     "metadata": {}
    },
    {
     "output_type": "display_data",
     "data": {
      "text/plain": "<IPython.core.display.Javascript object>",
      "application/javascript": "\n        if (window._pyforest_update_imports_cell) { window._pyforest_update_imports_cell('from sklearn.ensemble import RandomForestClassifier\\nimport datetime as dt\\nfrom pathlib import Path\\nimport gensim\\nfrom sklearn.ensemble import GradientBoostingRegressor\\nfrom dask import dataframe as dd\\nimport plotly.express as px\\nimport tqdm\\nimport pickle\\nfrom openpyxl import load_workbook\\nfrom sklearn.preprocessing import OneHotEncoder\\nimport plotly.graph_objs as go\\nimport spacy\\nimport plotly as py\\nimport sklearn\\nfrom sklearn.ensemble import RandomForestRegressor\\nimport matplotlib as mpl\\nimport bokeh\\nfrom sklearn.feature_extraction.text import TfidfVectorizer\\nimport seaborn as sns\\nimport glob\\nimport nltk\\nfrom sklearn.ensemble import GradientBoostingClassifier\\nimport statistics\\nfrom sklearn.model_selection import train_test_split\\nfrom sklearn.manifold import TSNE\\nfrom sklearn import svm\\nimport lightgbm as lgb'); }\n    "
     },
     "metadata": {}
    },
    {
     "output_type": "display_data",
     "data": {
      "text/plain": "<IPython.core.display.Javascript object>",
      "application/javascript": "\n        if (window._pyforest_update_imports_cell) { window._pyforest_update_imports_cell('from sklearn.ensemble import RandomForestClassifier\\nimport datetime as dt\\nfrom pathlib import Path\\nimport gensim\\nfrom sklearn.ensemble import GradientBoostingRegressor\\nfrom dask import dataframe as dd\\nimport plotly.express as px\\nimport tqdm\\nimport pickle\\nfrom openpyxl import load_workbook\\nfrom sklearn.preprocessing import OneHotEncoder\\nimport plotly.graph_objs as go\\nimport spacy\\nimport xgboost as xgb\\nimport plotly as py\\nimport sklearn\\nfrom sklearn.ensemble import RandomForestRegressor\\nimport matplotlib as mpl\\nimport bokeh\\nfrom sklearn.feature_extraction.text import TfidfVectorizer\\nimport seaborn as sns\\nimport glob\\nimport nltk\\nfrom sklearn.ensemble import GradientBoostingClassifier\\nimport statistics\\nfrom sklearn.model_selection import train_test_split\\nfrom sklearn.manifold import TSNE\\nfrom sklearn import svm\\nimport lightgbm as lgb'); }\n    "
     },
     "metadata": {}
    },
    {
     "output_type": "display_data",
     "data": {
      "text/plain": "<IPython.core.display.Javascript object>",
      "application/javascript": "\n        if (window._pyforest_update_imports_cell) { window._pyforest_update_imports_cell('from sklearn.ensemble import RandomForestClassifier\\nimport datetime as dt\\nfrom pathlib import Path\\nimport gensim\\nfrom sklearn.ensemble import GradientBoostingRegressor\\nfrom dask import dataframe as dd\\nimport plotly.express as px\\nimport tqdm\\nimport pickle\\nfrom openpyxl import load_workbook\\nfrom sklearn.preprocessing import OneHotEncoder\\nimport plotly.graph_objs as go\\nimport spacy\\nimport xgboost as xgb\\nimport plotly as py\\nimport sklearn\\nfrom sklearn.ensemble import RandomForestRegressor\\nimport matplotlib as mpl\\nimport bokeh\\nfrom sklearn.feature_extraction.text import TfidfVectorizer\\nimport seaborn as sns\\nimport glob\\nimport nltk\\nfrom sklearn.ensemble import GradientBoostingClassifier\\nimport statistics\\nfrom sklearn.model_selection import train_test_split\\nfrom sklearn.manifold import TSNE\\nfrom sklearn import svm\\nimport lightgbm as lgb'); }\n    "
     },
     "metadata": {}
    },
    {
     "output_type": "display_data",
     "data": {
      "text/plain": "<IPython.core.display.Javascript object>",
      "application/javascript": "\n        if (window._pyforest_update_imports_cell) { window._pyforest_update_imports_cell('from sklearn.ensemble import RandomForestClassifier\\nimport datetime as dt\\nfrom pathlib import Path\\nimport gensim\\nfrom sklearn.ensemble import GradientBoostingRegressor\\nfrom dask import dataframe as dd\\nimport plotly.express as px\\nimport tqdm\\nimport pickle\\nfrom openpyxl import load_workbook\\nfrom sklearn.preprocessing import OneHotEncoder\\nimport plotly.graph_objs as go\\nimport spacy\\nimport xgboost as xgb\\nimport plotly as py\\nimport sklearn\\nfrom sklearn.ensemble import RandomForestRegressor\\nimport matplotlib as mpl\\nimport bokeh\\nfrom sklearn.feature_extraction.text import TfidfVectorizer\\nimport seaborn as sns\\nimport glob\\nimport nltk\\nfrom sklearn.ensemble import GradientBoostingClassifier\\nimport statistics\\nfrom sklearn.model_selection import train_test_split\\nfrom sklearn.manifold import TSNE\\nfrom sklearn import svm\\nimport lightgbm as lgb'); }\n    "
     },
     "metadata": {}
    },
    {
     "output_type": "display_data",
     "data": {
      "text/plain": "<IPython.core.display.Javascript object>",
      "application/javascript": "\n        if (window._pyforest_update_imports_cell) { window._pyforest_update_imports_cell('from sklearn.ensemble import RandomForestClassifier\\nimport datetime as dt\\nfrom pathlib import Path\\nimport gensim\\nfrom sklearn.ensemble import GradientBoostingRegressor\\nfrom dask import dataframe as dd\\nimport plotly.express as px\\nimport tqdm\\nimport pickle\\nfrom openpyxl import load_workbook\\nfrom sklearn.preprocessing import OneHotEncoder\\nimport plotly.graph_objs as go\\nimport spacy\\nimport xgboost as xgb\\nimport plotly as py\\nimport sklearn\\nfrom sklearn.ensemble import RandomForestRegressor\\nimport matplotlib as mpl\\nimport bokeh\\nfrom sklearn.feature_extraction.text import TfidfVectorizer\\nimport seaborn as sns\\nimport glob\\nimport nltk\\nfrom sklearn.ensemble import GradientBoostingClassifier\\nimport statistics\\nfrom sklearn.model_selection import train_test_split\\nfrom sklearn.manifold import TSNE\\nfrom sklearn import svm\\nimport lightgbm as lgb'); }\n    "
     },
     "metadata": {}
    },
    {
     "output_type": "display_data",
     "data": {
      "text/plain": "<IPython.core.display.Javascript object>",
      "application/javascript": "\n        if (window._pyforest_update_imports_cell) { window._pyforest_update_imports_cell('from sklearn.ensemble import RandomForestClassifier\\nimport datetime as dt\\nfrom pathlib import Path\\nimport gensim\\nfrom sklearn.ensemble import GradientBoostingRegressor\\nfrom dask import dataframe as dd\\nimport plotly.express as px\\nimport tqdm\\nimport pickle\\nfrom openpyxl import load_workbook\\nfrom sklearn.preprocessing import OneHotEncoder\\nimport plotly.graph_objs as go\\nimport spacy\\nimport xgboost as xgb\\nimport plotly as py\\nimport sklearn\\nfrom sklearn.ensemble import RandomForestRegressor\\nimport matplotlib as mpl\\nimport bokeh\\nfrom sklearn.feature_extraction.text import TfidfVectorizer\\nimport seaborn as sns\\nimport glob\\nimport nltk\\nfrom sklearn.ensemble import GradientBoostingClassifier\\nimport statistics\\nfrom sklearn.model_selection import train_test_split\\nfrom sklearn.manifold import TSNE\\nfrom sklearn import svm\\nimport lightgbm as lgb'); }\n    "
     },
     "metadata": {}
    },
    {
     "output_type": "display_data",
     "data": {
      "text/plain": "<IPython.core.display.Javascript object>",
      "application/javascript": "\n        if (window._pyforest_update_imports_cell) { window._pyforest_update_imports_cell('from sklearn.ensemble import RandomForestClassifier\\nimport datetime as dt\\nfrom pathlib import Path\\nimport gensim\\nfrom sklearn.ensemble import GradientBoostingRegressor\\nfrom dask import dataframe as dd\\nimport plotly.express as px\\nimport tqdm\\nimport pickle\\nfrom openpyxl import load_workbook\\nfrom sklearn.preprocessing import OneHotEncoder\\nimport plotly.graph_objs as go\\nimport spacy\\nimport xgboost as xgb\\nimport plotly as py\\nimport sklearn\\nfrom sklearn.ensemble import RandomForestRegressor\\nimport matplotlib as mpl\\nimport bokeh\\nfrom sklearn.feature_extraction.text import TfidfVectorizer\\nimport seaborn as sns\\nimport glob\\nimport nltk\\nfrom sklearn.ensemble import GradientBoostingClassifier\\nimport statistics\\nfrom sklearn.model_selection import train_test_split\\nfrom sklearn.manifold import TSNE\\nfrom sklearn import svm\\nimport lightgbm as lgb'); }\n    "
     },
     "metadata": {}
    },
    {
     "output_type": "display_data",
     "data": {
      "text/plain": "<IPython.core.display.Javascript object>",
      "application/javascript": "\n        if (window._pyforest_update_imports_cell) { window._pyforest_update_imports_cell('from sklearn.ensemble import RandomForestClassifier\\nimport datetime as dt\\nfrom pathlib import Path\\nimport gensim\\nfrom sklearn.ensemble import GradientBoostingRegressor\\nfrom dask import dataframe as dd\\nimport plotly.express as px\\nimport tqdm\\nimport pickle\\nfrom openpyxl import load_workbook\\nfrom sklearn.preprocessing import OneHotEncoder\\nimport plotly.graph_objs as go\\nimport spacy\\nimport xgboost as xgb\\nimport plotly as py\\nimport sklearn\\nfrom sklearn.ensemble import RandomForestRegressor\\nimport matplotlib as mpl\\nimport bokeh\\nfrom sklearn.feature_extraction.text import TfidfVectorizer\\nimport seaborn as sns\\nimport glob\\nimport nltk\\nfrom sklearn.ensemble import GradientBoostingClassifier\\nimport statistics\\nfrom sklearn.model_selection import train_test_split\\nfrom sklearn.manifold import TSNE\\nfrom sklearn import svm\\nimport lightgbm as lgb'); }\n    "
     },
     "metadata": {}
    },
    {
     "output_type": "display_data",
     "data": {
      "text/plain": "<IPython.core.display.Javascript object>",
      "application/javascript": "\n        if (window._pyforest_update_imports_cell) { window._pyforest_update_imports_cell('from sklearn.ensemble import RandomForestClassifier\\nimport datetime as dt\\nfrom pathlib import Path\\nimport gensim\\nfrom sklearn.ensemble import GradientBoostingRegressor\\nfrom dask import dataframe as dd\\nimport plotly.express as px\\nimport tqdm\\nimport pickle\\nfrom openpyxl import load_workbook\\nfrom sklearn.preprocessing import OneHotEncoder\\nimport plotly.graph_objs as go\\nimport spacy\\nimport xgboost as xgb\\nimport plotly as py\\nimport sklearn\\nfrom sklearn.ensemble import RandomForestRegressor\\nimport matplotlib as mpl\\nimport bokeh\\nfrom sklearn.feature_extraction.text import TfidfVectorizer\\nimport seaborn as sns\\nimport glob\\nimport nltk\\nfrom sklearn.ensemble import GradientBoostingClassifier\\nimport statistics\\nfrom sklearn.model_selection import train_test_split\\nfrom sklearn.manifold import TSNE\\nfrom sklearn import svm\\nimport lightgbm as lgb'); }\n    "
     },
     "metadata": {}
    },
    {
     "output_type": "display_data",
     "data": {
      "text/plain": "<IPython.core.display.Javascript object>",
      "application/javascript": "\n        if (window._pyforest_update_imports_cell) { window._pyforest_update_imports_cell('from sklearn.ensemble import RandomForestClassifier\\nimport datetime as dt\\nfrom pathlib import Path\\nimport gensim\\nfrom sklearn.ensemble import GradientBoostingRegressor\\nfrom dask import dataframe as dd\\nimport plotly.express as px\\nimport tqdm\\nimport pickle\\nfrom openpyxl import load_workbook\\nfrom sklearn.preprocessing import OneHotEncoder\\nimport plotly.graph_objs as go\\nimport spacy\\nimport xgboost as xgb\\nimport plotly as py\\nimport sklearn\\nfrom sklearn.ensemble import RandomForestRegressor\\nimport matplotlib as mpl\\nimport bokeh\\nfrom sklearn.feature_extraction.text import TfidfVectorizer\\nimport seaborn as sns\\nimport glob\\nimport nltk\\nfrom sklearn.ensemble import GradientBoostingClassifier\\nimport statistics\\nfrom sklearn.model_selection import train_test_split\\nfrom sklearn.manifold import TSNE\\nfrom sklearn import svm\\nimport lightgbm as lgb'); }\n    "
     },
     "metadata": {}
    },
    {
     "output_type": "display_data",
     "data": {
      "text/plain": "<IPython.core.display.Javascript object>",
      "application/javascript": "\n        if (window._pyforest_update_imports_cell) { window._pyforest_update_imports_cell('from sklearn.ensemble import RandomForestClassifier\\nimport datetime as dt\\nfrom pathlib import Path\\nimport gensim\\nfrom sklearn.ensemble import GradientBoostingRegressor\\nfrom dask import dataframe as dd\\nimport plotly.express as px\\nimport tqdm\\nimport pickle\\nfrom openpyxl import load_workbook\\nfrom sklearn.preprocessing import OneHotEncoder\\nimport plotly.graph_objs as go\\nimport spacy\\nimport xgboost as xgb\\nimport plotly as py\\nimport sklearn\\nfrom sklearn.ensemble import RandomForestRegressor\\nimport matplotlib as mpl\\nimport bokeh\\nfrom sklearn.feature_extraction.text import TfidfVectorizer\\nimport seaborn as sns\\nimport glob\\nimport nltk\\nfrom sklearn.ensemble import GradientBoostingClassifier\\nimport statistics\\nfrom sklearn.model_selection import train_test_split\\nfrom sklearn.manifold import TSNE\\nfrom sklearn import svm\\nimport lightgbm as lgb'); }\n    "
     },
     "metadata": {}
    },
    {
     "output_type": "display_data",
     "data": {
      "text/plain": "<IPython.core.display.Javascript object>",
      "application/javascript": "\n        if (window._pyforest_update_imports_cell) { window._pyforest_update_imports_cell('from sklearn.ensemble import RandomForestClassifier\\nimport datetime as dt\\nfrom pathlib import Path\\nimport gensim\\nfrom sklearn.ensemble import GradientBoostingRegressor\\nfrom dask import dataframe as dd\\nimport plotly.express as px\\nimport tqdm\\nimport pickle\\nfrom openpyxl import load_workbook\\nfrom sklearn.preprocessing import OneHotEncoder\\nimport plotly.graph_objs as go\\nimport spacy\\nimport xgboost as xgb\\nimport plotly as py\\nimport sklearn\\nfrom sklearn.ensemble import RandomForestRegressor\\nimport matplotlib as mpl\\nimport bokeh\\nfrom sklearn.feature_extraction.text import TfidfVectorizer\\nimport seaborn as sns\\nimport glob\\nimport nltk\\nfrom sklearn.ensemble import GradientBoostingClassifier\\nimport statistics\\nfrom sklearn.model_selection import train_test_split\\nfrom sklearn.manifold import TSNE\\nfrom sklearn import svm\\nimport lightgbm as lgb'); }\n    "
     },
     "metadata": {}
    },
    {
     "output_type": "display_data",
     "data": {
      "text/plain": "<IPython.core.display.Javascript object>",
      "application/javascript": "\n        if (window._pyforest_update_imports_cell) { window._pyforest_update_imports_cell('from sklearn.ensemble import RandomForestClassifier\\nimport datetime as dt\\nfrom pathlib import Path\\nimport gensim\\nfrom sklearn.ensemble import GradientBoostingRegressor\\nfrom dask import dataframe as dd\\nimport plotly.express as px\\nimport tqdm\\nimport pickle\\nfrom openpyxl import load_workbook\\nfrom sklearn.preprocessing import OneHotEncoder\\nimport plotly.graph_objs as go\\nimport spacy\\nimport xgboost as xgb\\nimport plotly as py\\nimport sklearn\\nfrom sklearn.ensemble import RandomForestRegressor\\nimport matplotlib as mpl\\nimport bokeh\\nfrom sklearn.feature_extraction.text import TfidfVectorizer\\nimport seaborn as sns\\nimport glob\\nimport nltk\\nfrom sklearn.ensemble import GradientBoostingClassifier\\nimport statistics\\nfrom sklearn.model_selection import train_test_split\\nfrom sklearn.manifold import TSNE\\nfrom sklearn import svm\\nimport lightgbm as lgb'); }\n    "
     },
     "metadata": {}
    },
    {
     "output_type": "display_data",
     "data": {
      "text/plain": "<IPython.core.display.Javascript object>",
      "application/javascript": "\n        if (window._pyforest_update_imports_cell) { window._pyforest_update_imports_cell('from sklearn.ensemble import RandomForestClassifier\\nimport datetime as dt\\nfrom pathlib import Path\\nimport gensim\\nfrom sklearn.ensemble import GradientBoostingRegressor\\nfrom dask import dataframe as dd\\nimport plotly.express as px\\nimport tqdm\\nimport pickle\\nfrom openpyxl import load_workbook\\nfrom sklearn.preprocessing import OneHotEncoder\\nimport plotly.graph_objs as go\\nimport spacy\\nimport xgboost as xgb\\nimport plotly as py\\nimport sklearn\\nfrom sklearn.ensemble import RandomForestRegressor\\nimport matplotlib as mpl\\nimport bokeh\\nfrom sklearn.feature_extraction.text import TfidfVectorizer\\nimport seaborn as sns\\nimport glob\\nimport nltk\\nfrom sklearn.ensemble import GradientBoostingClassifier\\nimport statistics\\nfrom sklearn.model_selection import train_test_split\\nfrom sklearn.manifold import TSNE\\nfrom sklearn import svm\\nimport lightgbm as lgb'); }\n    "
     },
     "metadata": {}
    },
    {
     "output_type": "display_data",
     "data": {
      "text/plain": "<IPython.core.display.Javascript object>",
      "application/javascript": "\n        if (window._pyforest_update_imports_cell) { window._pyforest_update_imports_cell('from sklearn.ensemble import RandomForestClassifier\\nimport datetime as dt\\nfrom pathlib import Path\\nimport gensim\\nfrom sklearn.ensemble import GradientBoostingRegressor\\nfrom dask import dataframe as dd\\nimport plotly.express as px\\nimport tqdm\\nimport pickle\\nfrom openpyxl import load_workbook\\nfrom sklearn.preprocessing import OneHotEncoder\\nimport plotly.graph_objs as go\\nimport spacy\\nimport xgboost as xgb\\nimport plotly as py\\nimport sklearn\\nfrom sklearn.ensemble import RandomForestRegressor\\nimport matplotlib as mpl\\nimport bokeh\\nfrom sklearn.feature_extraction.text import TfidfVectorizer\\nimport seaborn as sns\\nimport glob\\nimport nltk\\nfrom sklearn.ensemble import GradientBoostingClassifier\\nimport statistics\\nfrom sklearn.model_selection import train_test_split\\nfrom sklearn.manifold import TSNE\\nfrom sklearn import svm\\nimport lightgbm as lgb'); }\n    "
     },
     "metadata": {}
    },
    {
     "output_type": "display_data",
     "data": {
      "text/plain": "<IPython.core.display.Javascript object>",
      "application/javascript": "\n        if (window._pyforest_update_imports_cell) { window._pyforest_update_imports_cell('from sklearn.ensemble import RandomForestClassifier\\nimport datetime as dt\\nfrom pathlib import Path\\nimport gensim\\nfrom sklearn.ensemble import GradientBoostingRegressor\\nfrom dask import dataframe as dd\\nimport plotly.express as px\\nimport tqdm\\nimport pickle\\nfrom openpyxl import load_workbook\\nfrom sklearn.preprocessing import OneHotEncoder\\nimport plotly.graph_objs as go\\nimport spacy\\nimport xgboost as xgb\\nimport plotly as py\\nimport sklearn\\nfrom sklearn.ensemble import RandomForestRegressor\\nimport matplotlib as mpl\\nimport bokeh\\nfrom sklearn.feature_extraction.text import TfidfVectorizer\\nimport seaborn as sns\\nimport glob\\nimport nltk\\nfrom sklearn.ensemble import GradientBoostingClassifier\\nimport statistics\\nfrom sklearn.model_selection import train_test_split\\nfrom sklearn.manifold import TSNE\\nfrom sklearn import svm\\nimport lightgbm as lgb'); }\n    "
     },
     "metadata": {}
    },
    {
     "output_type": "display_data",
     "data": {
      "text/plain": "<IPython.core.display.Javascript object>",
      "application/javascript": "\n        if (window._pyforest_update_imports_cell) { window._pyforest_update_imports_cell('from sklearn.ensemble import RandomForestClassifier\\nimport datetime as dt\\nfrom pathlib import Path\\nimport gensim\\nfrom sklearn.ensemble import GradientBoostingRegressor\\nfrom dask import dataframe as dd\\nimport plotly.express as px\\nimport tqdm\\nimport pickle\\nfrom openpyxl import load_workbook\\nfrom sklearn.preprocessing import OneHotEncoder\\nimport plotly.graph_objs as go\\nimport spacy\\nimport xgboost as xgb\\nimport plotly as py\\nimport sklearn\\nfrom sklearn.ensemble import RandomForestRegressor\\nimport matplotlib as mpl\\nimport bokeh\\nfrom sklearn.feature_extraction.text import TfidfVectorizer\\nimport seaborn as sns\\nimport glob\\nimport nltk\\nfrom sklearn.ensemble import GradientBoostingClassifier\\nimport statistics\\nfrom sklearn.model_selection import train_test_split\\nfrom sklearn.manifold import TSNE\\nfrom sklearn import svm\\nimport lightgbm as lgb'); }\n    "
     },
     "metadata": {}
    },
    {
     "output_type": "display_data",
     "data": {
      "text/plain": "<IPython.core.display.Javascript object>",
      "application/javascript": "\n        if (window._pyforest_update_imports_cell) { window._pyforest_update_imports_cell('from sklearn.ensemble import RandomForestClassifier\\nimport datetime as dt\\nfrom pathlib import Path\\nimport gensim\\nfrom sklearn.ensemble import GradientBoostingRegressor\\nfrom dask import dataframe as dd\\nimport plotly.express as px\\nimport tqdm\\nimport pickle\\nfrom openpyxl import load_workbook\\nfrom sklearn.preprocessing import OneHotEncoder\\nimport plotly.graph_objs as go\\nimport spacy\\nimport xgboost as xgb\\nimport plotly as py\\nimport sklearn\\nfrom sklearn.ensemble import RandomForestRegressor\\nimport matplotlib as mpl\\nimport bokeh\\nfrom sklearn.feature_extraction.text import TfidfVectorizer\\nimport seaborn as sns\\nimport glob\\nimport nltk\\nfrom sklearn.ensemble import GradientBoostingClassifier\\nimport statistics\\nfrom sklearn.model_selection import train_test_split\\nfrom sklearn.manifold import TSNE\\nfrom sklearn import svm\\nimport lightgbm as lgb'); }\n    "
     },
     "metadata": {}
    },
    {
     "output_type": "display_data",
     "data": {
      "text/plain": "<IPython.core.display.Javascript object>",
      "application/javascript": "\n        if (window._pyforest_update_imports_cell) { window._pyforest_update_imports_cell('from sklearn.ensemble import RandomForestClassifier\\nimport datetime as dt\\nfrom pathlib import Path\\nimport gensim\\nfrom sklearn.ensemble import GradientBoostingRegressor\\nfrom dask import dataframe as dd\\nimport plotly.express as px\\nimport tqdm\\nimport pickle\\nfrom openpyxl import load_workbook\\nfrom sklearn.preprocessing import OneHotEncoder\\nimport plotly.graph_objs as go\\nimport spacy\\nimport xgboost as xgb\\nimport plotly as py\\nimport sklearn\\nfrom sklearn.ensemble import RandomForestRegressor\\nimport matplotlib as mpl\\nimport bokeh\\nfrom sklearn.feature_extraction.text import TfidfVectorizer\\nimport seaborn as sns\\nimport glob\\nimport nltk\\nfrom sklearn.ensemble import GradientBoostingClassifier\\nimport statistics\\nfrom sklearn.model_selection import train_test_split\\nfrom sklearn.manifold import TSNE\\nfrom sklearn import svm\\nimport lightgbm as lgb'); }\n    "
     },
     "metadata": {}
    },
    {
     "output_type": "display_data",
     "data": {
      "text/plain": "<IPython.core.display.Javascript object>",
      "application/javascript": "\n        if (window._pyforest_update_imports_cell) { window._pyforest_update_imports_cell('from sklearn.ensemble import RandomForestClassifier\\nimport datetime as dt\\nfrom pathlib import Path\\nimport gensim\\nfrom sklearn.ensemble import GradientBoostingRegressor\\nfrom dask import dataframe as dd\\nimport plotly.express as px\\nimport tqdm\\nimport pickle\\nfrom openpyxl import load_workbook\\nfrom sklearn.preprocessing import OneHotEncoder\\nimport plotly.graph_objs as go\\nimport spacy\\nimport xgboost as xgb\\nimport plotly as py\\nimport sklearn\\nfrom sklearn.ensemble import RandomForestRegressor\\nimport matplotlib as mpl\\nimport bokeh\\nfrom sklearn.feature_extraction.text import TfidfVectorizer\\nimport seaborn as sns\\nimport glob\\nimport nltk\\nfrom sklearn.ensemble import GradientBoostingClassifier\\nimport statistics\\nfrom sklearn.model_selection import train_test_split\\nfrom sklearn.manifold import TSNE\\nfrom sklearn import svm\\nimport lightgbm as lgb'); }\n    "
     },
     "metadata": {}
    },
    {
     "output_type": "display_data",
     "data": {
      "text/plain": "<IPython.core.display.Javascript object>",
      "application/javascript": "\n        if (window._pyforest_update_imports_cell) { window._pyforest_update_imports_cell('from sklearn.ensemble import RandomForestClassifier\\nimport datetime as dt\\nfrom pathlib import Path\\nimport gensim\\nfrom sklearn.ensemble import GradientBoostingRegressor\\nfrom dask import dataframe as dd\\nimport plotly.express as px\\nimport tqdm\\nimport pickle\\nfrom openpyxl import load_workbook\\nfrom sklearn.preprocessing import OneHotEncoder\\nimport plotly.graph_objs as go\\nimport spacy\\nimport xgboost as xgb\\nimport plotly as py\\nimport sklearn\\nfrom sklearn.ensemble import RandomForestRegressor\\nimport matplotlib as mpl\\nimport bokeh\\nfrom sklearn.feature_extraction.text import TfidfVectorizer\\nimport seaborn as sns\\nimport glob\\nimport nltk\\nfrom sklearn.ensemble import GradientBoostingClassifier\\nimport statistics\\nfrom sklearn.model_selection import train_test_split\\nfrom sklearn.manifold import TSNE\\nfrom sklearn import svm\\nimport lightgbm as lgb'); }\n    "
     },
     "metadata": {}
    },
    {
     "output_type": "display_data",
     "data": {
      "text/plain": "<IPython.core.display.Javascript object>",
      "application/javascript": "\n        if (window._pyforest_update_imports_cell) { window._pyforest_update_imports_cell('from sklearn.ensemble import RandomForestClassifier\\nimport datetime as dt\\nfrom pathlib import Path\\nimport gensim\\nfrom sklearn.ensemble import GradientBoostingRegressor\\nfrom dask import dataframe as dd\\nimport plotly.express as px\\nimport tqdm\\nimport pickle\\nfrom openpyxl import load_workbook\\nfrom sklearn.preprocessing import OneHotEncoder\\nimport plotly.graph_objs as go\\nimport spacy\\nimport xgboost as xgb\\nimport plotly as py\\nimport sklearn\\nfrom sklearn.ensemble import RandomForestRegressor\\nimport matplotlib as mpl\\nimport bokeh\\nfrom sklearn.feature_extraction.text import TfidfVectorizer\\nimport seaborn as sns\\nimport glob\\nimport nltk\\nfrom sklearn.ensemble import GradientBoostingClassifier\\nimport statistics\\nfrom sklearn.model_selection import train_test_split\\nfrom sklearn.manifold import TSNE\\nfrom sklearn import svm\\nimport lightgbm as lgb'); }\n    "
     },
     "metadata": {}
    },
    {
     "output_type": "display_data",
     "data": {
      "text/plain": "<IPython.core.display.Javascript object>",
      "application/javascript": "\n        if (window._pyforest_update_imports_cell) { window._pyforest_update_imports_cell('from sklearn.ensemble import RandomForestClassifier\\nimport datetime as dt\\nfrom pathlib import Path\\nimport gensim\\nfrom sklearn.ensemble import GradientBoostingRegressor\\nfrom dask import dataframe as dd\\nimport plotly.express as px\\nimport tqdm\\nimport pickle\\nfrom openpyxl import load_workbook\\nfrom sklearn.preprocessing import OneHotEncoder\\nimport plotly.graph_objs as go\\nimport spacy\\nimport xgboost as xgb\\nimport plotly as py\\nimport sklearn\\nfrom sklearn.ensemble import RandomForestRegressor\\nimport matplotlib as mpl\\nimport bokeh\\nfrom sklearn.feature_extraction.text import TfidfVectorizer\\nimport seaborn as sns\\nimport glob\\nimport nltk\\nfrom sklearn.ensemble import GradientBoostingClassifier\\nimport statistics\\nfrom sklearn.model_selection import train_test_split\\nfrom sklearn.manifold import TSNE\\nfrom sklearn import svm\\nimport lightgbm as lgb'); }\n    "
     },
     "metadata": {}
    },
    {
     "output_type": "display_data",
     "data": {
      "text/plain": "<IPython.core.display.Javascript object>",
      "application/javascript": "\n        if (window._pyforest_update_imports_cell) { window._pyforest_update_imports_cell('from sklearn.ensemble import RandomForestClassifier\\nimport datetime as dt\\nfrom pathlib import Path\\nimport gensim\\nfrom sklearn.ensemble import GradientBoostingRegressor\\nfrom dask import dataframe as dd\\nimport plotly.express as px\\nimport tqdm\\nimport pickle\\nfrom openpyxl import load_workbook\\nfrom sklearn.preprocessing import OneHotEncoder\\nimport plotly.graph_objs as go\\nimport spacy\\nimport xgboost as xgb\\nimport plotly as py\\nimport sklearn\\nfrom sklearn.ensemble import RandomForestRegressor\\nimport matplotlib as mpl\\nimport bokeh\\nfrom sklearn.feature_extraction.text import TfidfVectorizer\\nimport seaborn as sns\\nimport glob\\nimport nltk\\nfrom sklearn.ensemble import GradientBoostingClassifier\\nimport statistics\\nfrom sklearn.model_selection import train_test_split\\nfrom sklearn.manifold import TSNE\\nfrom sklearn import svm\\nimport lightgbm as lgb'); }\n    "
     },
     "metadata": {}
    },
    {
     "output_type": "display_data",
     "data": {
      "text/plain": "<IPython.core.display.Javascript object>",
      "application/javascript": "\n        if (window._pyforest_update_imports_cell) { window._pyforest_update_imports_cell('from sklearn.ensemble import RandomForestClassifier\\nimport datetime as dt\\nfrom pathlib import Path\\nimport gensim\\nfrom sklearn.ensemble import GradientBoostingRegressor\\nfrom dask import dataframe as dd\\nimport plotly.express as px\\nimport tqdm\\nimport pickle\\nfrom openpyxl import load_workbook\\nfrom sklearn.preprocessing import OneHotEncoder\\nimport plotly.graph_objs as go\\nimport spacy\\nimport xgboost as xgb\\nimport plotly as py\\nimport sklearn\\nfrom sklearn.ensemble import RandomForestRegressor\\nimport matplotlib as mpl\\nimport bokeh\\nfrom sklearn.feature_extraction.text import TfidfVectorizer\\nimport seaborn as sns\\nimport glob\\nimport nltk\\nfrom sklearn.ensemble import GradientBoostingClassifier\\nimport statistics\\nfrom sklearn.model_selection import train_test_split\\nfrom sklearn.manifold import TSNE\\nfrom sklearn import svm\\nimport lightgbm as lgb'); }\n    "
     },
     "metadata": {}
    },
    {
     "output_type": "display_data",
     "data": {
      "text/plain": "<IPython.core.display.Javascript object>",
      "application/javascript": "\n        if (window._pyforest_update_imports_cell) { window._pyforest_update_imports_cell('from sklearn.ensemble import RandomForestClassifier\\nimport datetime as dt\\nfrom pathlib import Path\\nimport gensim\\nfrom sklearn.ensemble import GradientBoostingRegressor\\nfrom dask import dataframe as dd\\nimport plotly.express as px\\nimport tqdm\\nimport pickle\\nfrom openpyxl import load_workbook\\nfrom sklearn.preprocessing import OneHotEncoder\\nimport plotly.graph_objs as go\\nimport spacy\\nimport xgboost as xgb\\nimport plotly as py\\nimport sklearn\\nfrom sklearn.ensemble import RandomForestRegressor\\nimport matplotlib as mpl\\nimport bokeh\\nfrom sklearn.feature_extraction.text import TfidfVectorizer\\nimport seaborn as sns\\nimport glob\\nimport nltk\\nfrom sklearn.ensemble import GradientBoostingClassifier\\nimport statistics\\nfrom sklearn.model_selection import train_test_split\\nfrom sklearn.manifold import TSNE\\nfrom sklearn import svm\\nimport lightgbm as lgb'); }\n    "
     },
     "metadata": {}
    },
    {
     "output_type": "display_data",
     "data": {
      "text/plain": "<IPython.core.display.Javascript object>",
      "application/javascript": "\n        if (window._pyforest_update_imports_cell) { window._pyforest_update_imports_cell('from sklearn.ensemble import RandomForestClassifier\\nimport datetime as dt\\nfrom pathlib import Path\\nimport gensim\\nfrom sklearn.ensemble import GradientBoostingRegressor\\nfrom dask import dataframe as dd\\nimport plotly.express as px\\nimport tqdm\\nimport pickle\\nfrom openpyxl import load_workbook\\nfrom sklearn.preprocessing import OneHotEncoder\\nimport plotly.graph_objs as go\\nimport spacy\\nimport xgboost as xgb\\nimport plotly as py\\nimport sklearn\\nfrom sklearn.ensemble import RandomForestRegressor\\nimport matplotlib as mpl\\nimport bokeh\\nfrom sklearn.feature_extraction.text import TfidfVectorizer\\nimport seaborn as sns\\nimport glob\\nimport nltk\\nfrom sklearn.ensemble import GradientBoostingClassifier\\nimport statistics\\nfrom sklearn.model_selection import train_test_split\\nfrom sklearn.manifold import TSNE\\nfrom sklearn import svm\\nimport lightgbm as lgb'); }\n    "
     },
     "metadata": {}
    },
    {
     "output_type": "display_data",
     "data": {
      "text/plain": "<IPython.core.display.Javascript object>",
      "application/javascript": "\n        if (window._pyforest_update_imports_cell) { window._pyforest_update_imports_cell('from sklearn.ensemble import RandomForestClassifier\\nimport datetime as dt\\nfrom pathlib import Path\\nimport gensim\\nfrom sklearn.ensemble import GradientBoostingRegressor\\nfrom dask import dataframe as dd\\nimport plotly.express as px\\nimport tqdm\\nimport pickle\\nfrom openpyxl import load_workbook\\nfrom sklearn.preprocessing import OneHotEncoder\\nimport plotly.graph_objs as go\\nimport spacy\\nimport xgboost as xgb\\nimport plotly as py\\nimport sklearn\\nfrom sklearn.ensemble import RandomForestRegressor\\nimport matplotlib as mpl\\nimport bokeh\\nfrom sklearn.feature_extraction.text import TfidfVectorizer\\nimport seaborn as sns\\nimport glob\\nimport nltk\\nfrom sklearn.ensemble import GradientBoostingClassifier\\nimport statistics\\nfrom sklearn.model_selection import train_test_split\\nfrom sklearn.manifold import TSNE\\nfrom sklearn import svm\\nimport lightgbm as lgb'); }\n    "
     },
     "metadata": {}
    },
    {
     "output_type": "display_data",
     "data": {
      "text/plain": "<IPython.core.display.Javascript object>",
      "application/javascript": "\n        if (window._pyforest_update_imports_cell) { window._pyforest_update_imports_cell('from sklearn.ensemble import RandomForestClassifier\\nimport datetime as dt\\nfrom pathlib import Path\\nimport gensim\\nfrom sklearn.ensemble import GradientBoostingRegressor\\nfrom dask import dataframe as dd\\nimport plotly.express as px\\nimport tqdm\\nimport pickle\\nfrom openpyxl import load_workbook\\nfrom sklearn.preprocessing import OneHotEncoder\\nimport plotly.graph_objs as go\\nimport spacy\\nimport xgboost as xgb\\nimport plotly as py\\nimport sklearn\\nfrom sklearn.ensemble import RandomForestRegressor\\nimport matplotlib as mpl\\nimport bokeh\\nfrom sklearn.feature_extraction.text import TfidfVectorizer\\nimport seaborn as sns\\nimport glob\\nimport nltk\\nfrom sklearn.ensemble import GradientBoostingClassifier\\nimport statistics\\nfrom sklearn.model_selection import train_test_split\\nfrom sklearn.manifold import TSNE\\nfrom sklearn import svm\\nimport lightgbm as lgb'); }\n    "
     },
     "metadata": {}
    },
    {
     "output_type": "display_data",
     "data": {
      "text/plain": "<IPython.core.display.Javascript object>",
      "application/javascript": "\n        if (window._pyforest_update_imports_cell) { window._pyforest_update_imports_cell('from sklearn.ensemble import RandomForestClassifier\\nimport datetime as dt\\nfrom pathlib import Path\\nimport gensim\\nfrom sklearn.ensemble import GradientBoostingRegressor\\nfrom dask import dataframe as dd\\nimport plotly.express as px\\nimport tqdm\\nimport pickle\\nfrom openpyxl import load_workbook\\nfrom sklearn.preprocessing import OneHotEncoder\\nimport plotly.graph_objs as go\\nimport spacy\\nimport xgboost as xgb\\nimport plotly as py\\nimport sklearn\\nfrom sklearn.ensemble import RandomForestRegressor\\nimport matplotlib as mpl\\nimport bokeh\\nfrom sklearn.feature_extraction.text import TfidfVectorizer\\nimport seaborn as sns\\nimport glob\\nimport nltk\\nfrom sklearn.ensemble import GradientBoostingClassifier\\nimport statistics\\nfrom sklearn.model_selection import train_test_split\\nfrom sklearn.manifold import TSNE\\nfrom sklearn import svm\\nimport lightgbm as lgb'); }\n    "
     },
     "metadata": {}
    },
    {
     "output_type": "display_data",
     "data": {
      "text/plain": "<IPython.core.display.Javascript object>",
      "application/javascript": "\n        if (window._pyforest_update_imports_cell) { window._pyforest_update_imports_cell('from sklearn.ensemble import RandomForestClassifier\\nimport datetime as dt\\nfrom pathlib import Path\\nimport gensim\\nfrom sklearn.ensemble import GradientBoostingRegressor\\nfrom dask import dataframe as dd\\nimport plotly.express as px\\nimport tqdm\\nimport pickle\\nfrom openpyxl import load_workbook\\nfrom sklearn.preprocessing import OneHotEncoder\\nimport plotly.graph_objs as go\\nimport spacy\\nimport xgboost as xgb\\nimport plotly as py\\nimport sklearn\\nfrom sklearn.ensemble import RandomForestRegressor\\nimport matplotlib as mpl\\nimport bokeh\\nfrom sklearn.feature_extraction.text import TfidfVectorizer\\nimport seaborn as sns\\nimport glob\\nimport nltk\\nfrom sklearn.ensemble import GradientBoostingClassifier\\nimport statistics\\nfrom sklearn.model_selection import train_test_split\\nfrom sklearn.manifold import TSNE\\nfrom sklearn import svm\\nimport lightgbm as lgb'); }\n    "
     },
     "metadata": {}
    },
    {
     "output_type": "display_data",
     "data": {
      "text/plain": "<IPython.core.display.Javascript object>",
      "application/javascript": "\n        if (window._pyforest_update_imports_cell) { window._pyforest_update_imports_cell('from sklearn.ensemble import RandomForestClassifier\\nimport datetime as dt\\nfrom pathlib import Path\\nimport gensim\\nfrom sklearn.ensemble import GradientBoostingRegressor\\nfrom dask import dataframe as dd\\nimport plotly.express as px\\nimport tqdm\\nimport pickle\\nfrom openpyxl import load_workbook\\nfrom sklearn.preprocessing import OneHotEncoder\\nimport plotly.graph_objs as go\\nimport spacy\\nimport xgboost as xgb\\nimport plotly as py\\nimport sklearn\\nfrom sklearn.ensemble import RandomForestRegressor\\nimport matplotlib as mpl\\nimport bokeh\\nfrom sklearn.feature_extraction.text import TfidfVectorizer\\nimport seaborn as sns\\nimport glob\\nimport nltk\\nfrom sklearn.ensemble import GradientBoostingClassifier\\nimport statistics\\nfrom sklearn.model_selection import train_test_split\\nfrom sklearn.manifold import TSNE\\nfrom sklearn import svm\\nimport lightgbm as lgb'); }\n    "
     },
     "metadata": {}
    },
    {
     "output_type": "display_data",
     "data": {
      "text/plain": "<IPython.core.display.Javascript object>",
      "application/javascript": "\n        if (window._pyforest_update_imports_cell) { window._pyforest_update_imports_cell('from sklearn.ensemble import RandomForestClassifier\\nimport datetime as dt\\nfrom pathlib import Path\\nimport gensim\\nfrom sklearn.ensemble import GradientBoostingRegressor\\nfrom dask import dataframe as dd\\nimport plotly.express as px\\nimport tqdm\\nimport pickle\\nfrom openpyxl import load_workbook\\nfrom sklearn.preprocessing import OneHotEncoder\\nimport plotly.graph_objs as go\\nimport spacy\\nimport xgboost as xgb\\nimport plotly as py\\nimport sklearn\\nfrom sklearn.ensemble import RandomForestRegressor\\nimport matplotlib as mpl\\nimport bokeh\\nfrom sklearn.feature_extraction.text import TfidfVectorizer\\nimport seaborn as sns\\nimport glob\\nimport nltk\\nfrom sklearn.ensemble import GradientBoostingClassifier\\nimport statistics\\nfrom sklearn.model_selection import train_test_split\\nfrom sklearn.manifold import TSNE\\nfrom sklearn import svm\\nimport lightgbm as lgb'); }\n    "
     },
     "metadata": {}
    },
    {
     "output_type": "display_data",
     "data": {
      "text/plain": "<IPython.core.display.Javascript object>",
      "application/javascript": "\n        if (window._pyforest_update_imports_cell) { window._pyforest_update_imports_cell('from sklearn.ensemble import RandomForestClassifier\\nimport datetime as dt\\nfrom pathlib import Path\\nimport gensim\\nfrom sklearn.ensemble import GradientBoostingRegressor\\nfrom dask import dataframe as dd\\nimport plotly.express as px\\nimport tqdm\\nimport pickle\\nfrom openpyxl import load_workbook\\nfrom sklearn.preprocessing import OneHotEncoder\\nimport plotly.graph_objs as go\\nimport spacy\\nimport xgboost as xgb\\nimport plotly as py\\nimport sklearn\\nfrom sklearn.ensemble import RandomForestRegressor\\nimport matplotlib as mpl\\nimport bokeh\\nfrom sklearn.feature_extraction.text import TfidfVectorizer\\nimport seaborn as sns\\nimport glob\\nimport nltk\\nfrom sklearn.ensemble import GradientBoostingClassifier\\nimport statistics\\nfrom sklearn.model_selection import train_test_split\\nfrom sklearn.manifold import TSNE\\nfrom sklearn import svm\\nimport lightgbm as lgb'); }\n    "
     },
     "metadata": {}
    },
    {
     "output_type": "display_data",
     "data": {
      "text/plain": "<IPython.core.display.Javascript object>",
      "application/javascript": "\n        if (window._pyforest_update_imports_cell) { window._pyforest_update_imports_cell('from sklearn.ensemble import RandomForestClassifier\\nimport datetime as dt\\nfrom pathlib import Path\\nimport gensim\\nfrom sklearn.ensemble import GradientBoostingRegressor\\nfrom dask import dataframe as dd\\nimport plotly.express as px\\nimport tqdm\\nimport pickle\\nfrom openpyxl import load_workbook\\nfrom sklearn.preprocessing import OneHotEncoder\\nimport plotly.graph_objs as go\\nimport spacy\\nimport xgboost as xgb\\nimport plotly as py\\nimport sklearn\\nfrom sklearn.ensemble import RandomForestRegressor\\nimport matplotlib as mpl\\nimport bokeh\\nfrom sklearn.feature_extraction.text import TfidfVectorizer\\nimport seaborn as sns\\nimport glob\\nimport nltk\\nfrom sklearn.ensemble import GradientBoostingClassifier\\nimport statistics\\nfrom sklearn.model_selection import train_test_split\\nfrom sklearn.manifold import TSNE\\nfrom sklearn import svm\\nimport lightgbm as lgb'); }\n    "
     },
     "metadata": {}
    },
    {
     "output_type": "display_data",
     "data": {
      "text/plain": "<IPython.core.display.Javascript object>",
      "application/javascript": "\n        if (window._pyforest_update_imports_cell) { window._pyforest_update_imports_cell('from sklearn.ensemble import RandomForestClassifier\\nimport datetime as dt\\nfrom pathlib import Path\\nimport gensim\\nfrom sklearn.ensemble import GradientBoostingRegressor\\nfrom dask import dataframe as dd\\nimport plotly.express as px\\nimport tqdm\\nimport pickle\\nfrom openpyxl import load_workbook\\nfrom sklearn.preprocessing import OneHotEncoder\\nimport plotly.graph_objs as go\\nimport spacy\\nimport xgboost as xgb\\nimport plotly as py\\nimport sklearn\\nfrom sklearn.ensemble import RandomForestRegressor\\nimport matplotlib as mpl\\nimport bokeh\\nfrom sklearn.feature_extraction.text import TfidfVectorizer\\nimport seaborn as sns\\nimport glob\\nimport nltk\\nfrom sklearn.ensemble import GradientBoostingClassifier\\nimport statistics\\nfrom sklearn.model_selection import train_test_split\\nfrom sklearn.manifold import TSNE\\nfrom sklearn import svm\\nimport lightgbm as lgb'); }\n    "
     },
     "metadata": {}
    },
    {
     "output_type": "display_data",
     "data": {
      "text/plain": "<IPython.core.display.Javascript object>",
      "application/javascript": "\n        if (window._pyforest_update_imports_cell) { window._pyforest_update_imports_cell('from sklearn.ensemble import RandomForestClassifier\\nimport datetime as dt\\nfrom pathlib import Path\\nimport gensim\\nfrom sklearn.ensemble import GradientBoostingRegressor\\nfrom dask import dataframe as dd\\nimport plotly.express as px\\nimport tqdm\\nimport pickle\\nfrom openpyxl import load_workbook\\nfrom sklearn.preprocessing import OneHotEncoder\\nimport plotly.graph_objs as go\\nimport spacy\\nimport xgboost as xgb\\nimport plotly as py\\nimport sklearn\\nfrom sklearn.ensemble import RandomForestRegressor\\nimport matplotlib as mpl\\nimport bokeh\\nfrom sklearn.feature_extraction.text import TfidfVectorizer\\nimport seaborn as sns\\nimport glob\\nimport nltk\\nfrom sklearn.ensemble import GradientBoostingClassifier\\nimport statistics\\nfrom sklearn.model_selection import train_test_split\\nfrom sklearn.manifold import TSNE\\nfrom sklearn import svm\\nimport lightgbm as lgb'); }\n    "
     },
     "metadata": {}
    },
    {
     "output_type": "display_data",
     "data": {
      "text/plain": "<IPython.core.display.Javascript object>",
      "application/javascript": "\n        if (window._pyforest_update_imports_cell) { window._pyforest_update_imports_cell('from sklearn.ensemble import RandomForestClassifier\\nimport datetime as dt\\nfrom pathlib import Path\\nimport gensim\\nfrom sklearn.ensemble import GradientBoostingRegressor\\nfrom dask import dataframe as dd\\nimport plotly.express as px\\nimport tqdm\\nimport pickle\\nfrom openpyxl import load_workbook\\nfrom sklearn.preprocessing import OneHotEncoder\\nimport plotly.graph_objs as go\\nimport spacy\\nimport xgboost as xgb\\nimport plotly as py\\nimport sklearn\\nfrom sklearn.ensemble import RandomForestRegressor\\nimport matplotlib as mpl\\nimport bokeh\\nfrom sklearn.feature_extraction.text import TfidfVectorizer\\nimport seaborn as sns\\nimport glob\\nimport nltk\\nfrom sklearn.ensemble import GradientBoostingClassifier\\nimport statistics\\nfrom sklearn.model_selection import train_test_split\\nfrom sklearn.manifold import TSNE\\nfrom sklearn import svm\\nimport lightgbm as lgb'); }\n    "
     },
     "metadata": {}
    },
    {
     "output_type": "display_data",
     "data": {
      "text/plain": "<IPython.core.display.Javascript object>",
      "application/javascript": "\n        if (window._pyforest_update_imports_cell) { window._pyforest_update_imports_cell('from sklearn.ensemble import RandomForestClassifier\\nimport datetime as dt\\nfrom pathlib import Path\\nimport gensim\\nfrom sklearn.ensemble import GradientBoostingRegressor\\nfrom dask import dataframe as dd\\nimport plotly.express as px\\nimport tqdm\\nimport pickle\\nfrom openpyxl import load_workbook\\nfrom sklearn.preprocessing import OneHotEncoder\\nimport plotly.graph_objs as go\\nimport spacy\\nimport xgboost as xgb\\nimport plotly as py\\nimport sklearn\\nfrom sklearn.ensemble import RandomForestRegressor\\nimport matplotlib as mpl\\nimport bokeh\\nfrom sklearn.feature_extraction.text import TfidfVectorizer\\nimport seaborn as sns\\nimport glob\\nimport nltk\\nfrom sklearn.ensemble import GradientBoostingClassifier\\nimport statistics\\nfrom sklearn.model_selection import train_test_split\\nfrom sklearn.manifold import TSNE\\nfrom sklearn import svm\\nimport lightgbm as lgb'); }\n    "
     },
     "metadata": {}
    },
    {
     "output_type": "display_data",
     "data": {
      "text/plain": "<IPython.core.display.Javascript object>",
      "application/javascript": "\n        if (window._pyforest_update_imports_cell) { window._pyforest_update_imports_cell('from sklearn.ensemble import RandomForestClassifier\\nimport datetime as dt\\nfrom pathlib import Path\\nimport gensim\\nfrom sklearn.ensemble import GradientBoostingRegressor\\nfrom dask import dataframe as dd\\nimport plotly.express as px\\nimport tqdm\\nimport pickle\\nfrom openpyxl import load_workbook\\nfrom sklearn.preprocessing import OneHotEncoder\\nimport plotly.graph_objs as go\\nimport spacy\\nimport xgboost as xgb\\nimport plotly as py\\nimport sklearn\\nfrom sklearn.ensemble import RandomForestRegressor\\nimport matplotlib as mpl\\nimport bokeh\\nfrom sklearn.feature_extraction.text import TfidfVectorizer\\nimport seaborn as sns\\nimport glob\\nimport nltk\\nfrom sklearn.ensemble import GradientBoostingClassifier\\nimport statistics\\nfrom sklearn.model_selection import train_test_split\\nfrom sklearn.manifold import TSNE\\nfrom sklearn import svm\\nimport lightgbm as lgb'); }\n    "
     },
     "metadata": {}
    },
    {
     "output_type": "display_data",
     "data": {
      "text/plain": "<IPython.core.display.Javascript object>",
      "application/javascript": "\n        if (window._pyforest_update_imports_cell) { window._pyforest_update_imports_cell('from sklearn.ensemble import RandomForestClassifier\\nimport datetime as dt\\nfrom pathlib import Path\\nimport gensim\\nfrom sklearn.ensemble import GradientBoostingRegressor\\nfrom dask import dataframe as dd\\nimport plotly.express as px\\nimport tqdm\\nimport pickle\\nfrom openpyxl import load_workbook\\nfrom sklearn.preprocessing import OneHotEncoder\\nimport plotly.graph_objs as go\\nimport spacy\\nimport xgboost as xgb\\nimport plotly as py\\nimport sklearn\\nfrom sklearn.ensemble import RandomForestRegressor\\nimport matplotlib as mpl\\nimport bokeh\\nfrom sklearn.feature_extraction.text import TfidfVectorizer\\nimport seaborn as sns\\nimport glob\\nimport nltk\\nfrom sklearn.ensemble import GradientBoostingClassifier\\nimport statistics\\nfrom sklearn.model_selection import train_test_split\\nfrom sklearn.manifold import TSNE\\nfrom sklearn import svm\\nimport lightgbm as lgb'); }\n    "
     },
     "metadata": {}
    },
    {
     "output_type": "display_data",
     "data": {
      "text/plain": "<IPython.core.display.Javascript object>",
      "application/javascript": "\n        if (window._pyforest_update_imports_cell) { window._pyforest_update_imports_cell('from sklearn.ensemble import RandomForestClassifier\\nimport datetime as dt\\nfrom pathlib import Path\\nimport gensim\\nfrom sklearn.ensemble import GradientBoostingRegressor\\nfrom dask import dataframe as dd\\nimport plotly.express as px\\nimport tqdm\\nimport pickle\\nfrom openpyxl import load_workbook\\nfrom sklearn.preprocessing import OneHotEncoder\\nimport plotly.graph_objs as go\\nimport spacy\\nimport xgboost as xgb\\nimport plotly as py\\nimport sklearn\\nfrom sklearn.ensemble import RandomForestRegressor\\nimport matplotlib as mpl\\nimport bokeh\\nfrom sklearn.feature_extraction.text import TfidfVectorizer\\nimport seaborn as sns\\nimport glob\\nimport nltk\\nfrom sklearn.ensemble import GradientBoostingClassifier\\nimport statistics\\nfrom sklearn.model_selection import train_test_split\\nfrom sklearn.manifold import TSNE\\nfrom sklearn import svm\\nimport lightgbm as lgb'); }\n    "
     },
     "metadata": {}
    },
    {
     "output_type": "display_data",
     "data": {
      "text/plain": "<IPython.core.display.Javascript object>",
      "application/javascript": "\n        if (window._pyforest_update_imports_cell) { window._pyforest_update_imports_cell('from sklearn.ensemble import RandomForestClassifier\\nimport datetime as dt\\nfrom pathlib import Path\\nimport gensim\\nfrom sklearn.ensemble import GradientBoostingRegressor\\nfrom dask import dataframe as dd\\nimport plotly.express as px\\nimport tqdm\\nimport pickle\\nfrom openpyxl import load_workbook\\nfrom sklearn.preprocessing import OneHotEncoder\\nimport plotly.graph_objs as go\\nimport spacy\\nimport xgboost as xgb\\nimport plotly as py\\nimport sklearn\\nfrom sklearn.ensemble import RandomForestRegressor\\nimport matplotlib as mpl\\nimport bokeh\\nfrom sklearn.feature_extraction.text import TfidfVectorizer\\nimport seaborn as sns\\nimport glob\\nimport nltk\\nfrom sklearn.ensemble import GradientBoostingClassifier\\nimport statistics\\nfrom sklearn.model_selection import train_test_split\\nfrom sklearn.manifold import TSNE\\nfrom sklearn import svm\\nimport lightgbm as lgb'); }\n    "
     },
     "metadata": {}
    },
    {
     "output_type": "display_data",
     "data": {
      "text/plain": "<IPython.core.display.Javascript object>",
      "application/javascript": "\n        if (window._pyforest_update_imports_cell) { window._pyforest_update_imports_cell('from sklearn.ensemble import RandomForestClassifier\\nimport datetime as dt\\nfrom pathlib import Path\\nimport gensim\\nfrom sklearn.ensemble import GradientBoostingRegressor\\nfrom dask import dataframe as dd\\nimport plotly.express as px\\nimport tqdm\\nimport pickle\\nfrom openpyxl import load_workbook\\nfrom sklearn.preprocessing import OneHotEncoder\\nimport plotly.graph_objs as go\\nimport spacy\\nimport xgboost as xgb\\nimport plotly as py\\nimport sklearn\\nfrom sklearn.ensemble import RandomForestRegressor\\nimport matplotlib as mpl\\nimport bokeh\\nfrom sklearn.feature_extraction.text import TfidfVectorizer\\nimport seaborn as sns\\nimport glob\\nimport nltk\\nfrom sklearn.ensemble import GradientBoostingClassifier\\nimport statistics\\nfrom sklearn.model_selection import train_test_split\\nfrom sklearn.manifold import TSNE\\nfrom sklearn import svm\\nimport lightgbm as lgb'); }\n    "
     },
     "metadata": {}
    },
    {
     "output_type": "display_data",
     "data": {
      "text/plain": "<IPython.core.display.Javascript object>",
      "application/javascript": "\n        if (window._pyforest_update_imports_cell) { window._pyforest_update_imports_cell('from sklearn.ensemble import RandomForestClassifier\\nimport datetime as dt\\nfrom pathlib import Path\\nimport gensim\\nfrom sklearn.ensemble import GradientBoostingRegressor\\nfrom dask import dataframe as dd\\nimport plotly.express as px\\nimport tqdm\\nimport pickle\\nfrom openpyxl import load_workbook\\nfrom sklearn.preprocessing import OneHotEncoder\\nimport plotly.graph_objs as go\\nimport spacy\\nimport xgboost as xgb\\nimport plotly as py\\nimport sklearn\\nfrom sklearn.ensemble import RandomForestRegressor\\nimport matplotlib as mpl\\nimport bokeh\\nfrom sklearn.feature_extraction.text import TfidfVectorizer\\nimport seaborn as sns\\nimport glob\\nimport nltk\\nfrom sklearn.ensemble import GradientBoostingClassifier\\nimport statistics\\nfrom sklearn.model_selection import train_test_split\\nfrom sklearn.manifold import TSNE\\nfrom sklearn import svm\\nimport lightgbm as lgb'); }\n    "
     },
     "metadata": {}
    },
    {
     "output_type": "display_data",
     "data": {
      "text/plain": "<IPython.core.display.Javascript object>",
      "application/javascript": "\n        if (window._pyforest_update_imports_cell) { window._pyforest_update_imports_cell('from sklearn.ensemble import RandomForestClassifier\\nimport datetime as dt\\nfrom pathlib import Path\\nimport gensim\\nfrom sklearn.ensemble import GradientBoostingRegressor\\nfrom dask import dataframe as dd\\nimport plotly.express as px\\nimport tqdm\\nimport pickle\\nfrom openpyxl import load_workbook\\nfrom sklearn.preprocessing import OneHotEncoder\\nimport plotly.graph_objs as go\\nimport spacy\\nimport xgboost as xgb\\nimport plotly as py\\nimport sklearn\\nfrom sklearn.ensemble import RandomForestRegressor\\nimport matplotlib as mpl\\nimport bokeh\\nfrom sklearn.feature_extraction.text import TfidfVectorizer\\nimport seaborn as sns\\nimport glob\\nimport nltk\\nfrom sklearn.ensemble import GradientBoostingClassifier\\nimport statistics\\nfrom sklearn.model_selection import train_test_split\\nfrom sklearn.manifold import TSNE\\nfrom sklearn import svm\\nimport lightgbm as lgb'); }\n    "
     },
     "metadata": {}
    },
    {
     "output_type": "display_data",
     "data": {
      "text/plain": "<IPython.core.display.Javascript object>",
      "application/javascript": "\n        if (window._pyforest_update_imports_cell) { window._pyforest_update_imports_cell('from sklearn.ensemble import RandomForestClassifier\\nimport datetime as dt\\nfrom pathlib import Path\\nimport gensim\\nfrom sklearn.ensemble import GradientBoostingRegressor\\nfrom dask import dataframe as dd\\nimport plotly.express as px\\nimport tqdm\\nimport pickle\\nfrom openpyxl import load_workbook\\nfrom sklearn.preprocessing import OneHotEncoder\\nimport plotly.graph_objs as go\\nimport spacy\\nimport xgboost as xgb\\nimport plotly as py\\nimport sklearn\\nfrom sklearn.ensemble import RandomForestRegressor\\nimport matplotlib as mpl\\nimport bokeh\\nfrom sklearn.feature_extraction.text import TfidfVectorizer\\nimport seaborn as sns\\nimport glob\\nimport nltk\\nfrom sklearn.ensemble import GradientBoostingClassifier\\nimport statistics\\nfrom sklearn.model_selection import train_test_split\\nfrom sklearn.manifold import TSNE\\nfrom sklearn import svm\\nimport lightgbm as lgb'); }\n    "
     },
     "metadata": {}
    },
    {
     "output_type": "display_data",
     "data": {
      "text/plain": "<IPython.core.display.Javascript object>",
      "application/javascript": "\n        if (window._pyforest_update_imports_cell) { window._pyforest_update_imports_cell('from sklearn.ensemble import RandomForestClassifier\\nimport datetime as dt\\nfrom pathlib import Path\\nimport gensim\\nfrom sklearn.ensemble import GradientBoostingRegressor\\nfrom dask import dataframe as dd\\nimport plotly.express as px\\nimport tqdm\\nimport pickle\\nfrom openpyxl import load_workbook\\nfrom sklearn.preprocessing import OneHotEncoder\\nimport plotly.graph_objs as go\\nimport spacy\\nimport xgboost as xgb\\nimport plotly as py\\nimport sklearn\\nfrom sklearn.ensemble import RandomForestRegressor\\nimport matplotlib as mpl\\nimport bokeh\\nfrom sklearn.feature_extraction.text import TfidfVectorizer\\nimport seaborn as sns\\nimport glob\\nimport nltk\\nfrom sklearn.ensemble import GradientBoostingClassifier\\nimport statistics\\nfrom sklearn.model_selection import train_test_split\\nfrom sklearn.manifold import TSNE\\nfrom sklearn import svm\\nimport lightgbm as lgb'); }\n    "
     },
     "metadata": {}
    },
    {
     "output_type": "display_data",
     "data": {
      "text/plain": "<IPython.core.display.Javascript object>",
      "application/javascript": "\n        if (window._pyforest_update_imports_cell) { window._pyforest_update_imports_cell('from sklearn.ensemble import RandomForestClassifier\\nimport datetime as dt\\nfrom pathlib import Path\\nimport gensim\\nfrom sklearn.ensemble import GradientBoostingRegressor\\nfrom dask import dataframe as dd\\nimport plotly.express as px\\nimport tqdm\\nimport pickle\\nfrom openpyxl import load_workbook\\nfrom sklearn.preprocessing import OneHotEncoder\\nimport plotly.graph_objs as go\\nimport spacy\\nimport xgboost as xgb\\nimport plotly as py\\nimport sklearn\\nfrom sklearn.ensemble import RandomForestRegressor\\nimport matplotlib as mpl\\nimport bokeh\\nfrom sklearn.feature_extraction.text import TfidfVectorizer\\nimport seaborn as sns\\nimport glob\\nimport nltk\\nfrom sklearn.ensemble import GradientBoostingClassifier\\nimport statistics\\nfrom sklearn.model_selection import train_test_split\\nfrom sklearn.manifold import TSNE\\nfrom sklearn import svm\\nimport lightgbm as lgb'); }\n    "
     },
     "metadata": {}
    },
    {
     "output_type": "display_data",
     "data": {
      "text/plain": "<IPython.core.display.Javascript object>",
      "application/javascript": "\n        if (window._pyforest_update_imports_cell) { window._pyforest_update_imports_cell('from sklearn.ensemble import RandomForestClassifier\\nimport datetime as dt\\nfrom pathlib import Path\\nimport gensim\\nfrom sklearn.ensemble import GradientBoostingRegressor\\nfrom dask import dataframe as dd\\nimport plotly.express as px\\nimport tqdm\\nimport pickle\\nfrom openpyxl import load_workbook\\nfrom sklearn.preprocessing import OneHotEncoder\\nimport plotly.graph_objs as go\\nimport spacy\\nimport xgboost as xgb\\nimport plotly as py\\nimport sklearn\\nfrom sklearn.ensemble import RandomForestRegressor\\nimport matplotlib as mpl\\nimport bokeh\\nfrom sklearn.feature_extraction.text import TfidfVectorizer\\nimport seaborn as sns\\nimport glob\\nimport nltk\\nfrom sklearn.ensemble import GradientBoostingClassifier\\nimport statistics\\nfrom sklearn.model_selection import train_test_split\\nfrom sklearn.manifold import TSNE\\nfrom sklearn import svm\\nimport lightgbm as lgb'); }\n    "
     },
     "metadata": {}
    },
    {
     "output_type": "display_data",
     "data": {
      "text/plain": "<IPython.core.display.Javascript object>",
      "application/javascript": "\n        if (window._pyforest_update_imports_cell) { window._pyforest_update_imports_cell('from sklearn.ensemble import RandomForestClassifier\\nimport datetime as dt\\nfrom pathlib import Path\\nimport gensim\\nfrom sklearn.ensemble import GradientBoostingRegressor\\nfrom dask import dataframe as dd\\nimport plotly.express as px\\nimport tqdm\\nimport pickle\\nfrom openpyxl import load_workbook\\nfrom sklearn.preprocessing import OneHotEncoder\\nimport plotly.graph_objs as go\\nimport spacy\\nimport xgboost as xgb\\nimport plotly as py\\nimport sklearn\\nfrom sklearn.ensemble import RandomForestRegressor\\nimport matplotlib as mpl\\nimport bokeh\\nfrom sklearn.feature_extraction.text import TfidfVectorizer\\nimport seaborn as sns\\nimport glob\\nimport nltk\\nfrom sklearn.ensemble import GradientBoostingClassifier\\nimport statistics\\nfrom sklearn.model_selection import train_test_split\\nfrom sklearn.manifold import TSNE\\nfrom sklearn import svm\\nimport lightgbm as lgb'); }\n    "
     },
     "metadata": {}
    },
    {
     "output_type": "display_data",
     "data": {
      "text/plain": "<IPython.core.display.Javascript object>",
      "application/javascript": "\n        if (window._pyforest_update_imports_cell) { window._pyforest_update_imports_cell('from sklearn.ensemble import RandomForestClassifier\\nimport datetime as dt\\nfrom pathlib import Path\\nimport gensim\\nfrom sklearn.ensemble import GradientBoostingRegressor\\nfrom dask import dataframe as dd\\nimport plotly.express as px\\nimport tqdm\\nimport pickle\\nfrom openpyxl import load_workbook\\nfrom sklearn.preprocessing import OneHotEncoder\\nimport plotly.graph_objs as go\\nimport spacy\\nimport xgboost as xgb\\nimport plotly as py\\nimport sklearn\\nfrom sklearn.ensemble import RandomForestRegressor\\nimport matplotlib as mpl\\nimport bokeh\\nfrom sklearn.feature_extraction.text import TfidfVectorizer\\nimport seaborn as sns\\nimport glob\\nimport nltk\\nfrom sklearn.ensemble import GradientBoostingClassifier\\nimport statistics\\nfrom sklearn.model_selection import train_test_split\\nfrom sklearn.manifold import TSNE\\nfrom sklearn import svm\\nimport lightgbm as lgb'); }\n    "
     },
     "metadata": {}
    },
    {
     "output_type": "display_data",
     "data": {
      "text/plain": "<IPython.core.display.Javascript object>",
      "application/javascript": "\n        if (window._pyforest_update_imports_cell) { window._pyforest_update_imports_cell('from sklearn.ensemble import RandomForestClassifier\\nimport datetime as dt\\nfrom pathlib import Path\\nimport gensim\\nfrom sklearn.ensemble import GradientBoostingRegressor\\nfrom dask import dataframe as dd\\nimport plotly.express as px\\nimport tqdm\\nimport pickle\\nfrom openpyxl import load_workbook\\nfrom sklearn.preprocessing import OneHotEncoder\\nimport plotly.graph_objs as go\\nimport spacy\\nimport xgboost as xgb\\nimport plotly as py\\nimport sklearn\\nfrom sklearn.ensemble import RandomForestRegressor\\nimport matplotlib as mpl\\nimport bokeh\\nfrom sklearn.feature_extraction.text import TfidfVectorizer\\nimport seaborn as sns\\nimport glob\\nimport nltk\\nfrom sklearn.ensemble import GradientBoostingClassifier\\nimport statistics\\nfrom sklearn.model_selection import train_test_split\\nfrom sklearn.manifold import TSNE\\nfrom sklearn import svm\\nimport lightgbm as lgb'); }\n    "
     },
     "metadata": {}
    },
    {
     "output_type": "display_data",
     "data": {
      "text/plain": "<IPython.core.display.Javascript object>",
      "application/javascript": "\n        if (window._pyforest_update_imports_cell) { window._pyforest_update_imports_cell('from sklearn.ensemble import RandomForestClassifier\\nimport datetime as dt\\nfrom pathlib import Path\\nimport gensim\\nfrom sklearn.ensemble import GradientBoostingRegressor\\nfrom dask import dataframe as dd\\nimport plotly.express as px\\nimport tqdm\\nimport pickle\\nfrom openpyxl import load_workbook\\nfrom sklearn.preprocessing import OneHotEncoder\\nimport plotly.graph_objs as go\\nimport spacy\\nimport xgboost as xgb\\nimport plotly as py\\nimport sklearn\\nfrom sklearn.ensemble import RandomForestRegressor\\nimport matplotlib as mpl\\nimport bokeh\\nfrom sklearn.feature_extraction.text import TfidfVectorizer\\nimport seaborn as sns\\nimport glob\\nimport nltk\\nfrom sklearn.ensemble import GradientBoostingClassifier\\nimport statistics\\nfrom sklearn.model_selection import train_test_split\\nfrom sklearn.manifold import TSNE\\nfrom sklearn import svm\\nimport lightgbm as lgb'); }\n    "
     },
     "metadata": {}
    },
    {
     "output_type": "display_data",
     "data": {
      "text/plain": "<IPython.core.display.Javascript object>",
      "application/javascript": "\n        if (window._pyforest_update_imports_cell) { window._pyforest_update_imports_cell('from sklearn.ensemble import RandomForestClassifier\\nimport datetime as dt\\nfrom pathlib import Path\\nimport gensim\\nfrom sklearn.ensemble import GradientBoostingRegressor\\nfrom dask import dataframe as dd\\nimport plotly.express as px\\nimport tqdm\\nimport pickle\\nfrom openpyxl import load_workbook\\nfrom sklearn.preprocessing import OneHotEncoder\\nimport plotly.graph_objs as go\\nimport spacy\\nimport xgboost as xgb\\nimport plotly as py\\nimport sklearn\\nfrom sklearn.ensemble import RandomForestRegressor\\nimport matplotlib as mpl\\nimport bokeh\\nfrom sklearn.feature_extraction.text import TfidfVectorizer\\nimport seaborn as sns\\nimport glob\\nimport nltk\\nfrom sklearn.ensemble import GradientBoostingClassifier\\nimport statistics\\nfrom sklearn.model_selection import train_test_split\\nfrom sklearn.manifold import TSNE\\nfrom sklearn import svm\\nimport lightgbm as lgb'); }\n    "
     },
     "metadata": {}
    },
    {
     "output_type": "display_data",
     "data": {
      "text/plain": "<IPython.core.display.Javascript object>",
      "application/javascript": "\n        if (window._pyforest_update_imports_cell) { window._pyforest_update_imports_cell('from sklearn.ensemble import RandomForestClassifier\\nimport datetime as dt\\nfrom pathlib import Path\\nimport gensim\\nfrom sklearn.ensemble import GradientBoostingRegressor\\nfrom dask import dataframe as dd\\nimport plotly.express as px\\nimport tqdm\\nimport pickle\\nfrom openpyxl import load_workbook\\nfrom sklearn.preprocessing import OneHotEncoder\\nimport plotly.graph_objs as go\\nimport spacy\\nimport xgboost as xgb\\nimport plotly as py\\nimport sklearn\\nfrom sklearn.ensemble import RandomForestRegressor\\nimport matplotlib as mpl\\nimport bokeh\\nfrom sklearn.feature_extraction.text import TfidfVectorizer\\nimport seaborn as sns\\nimport glob\\nimport nltk\\nfrom sklearn.ensemble import GradientBoostingClassifier\\nimport statistics\\nfrom sklearn.model_selection import train_test_split\\nfrom sklearn.manifold import TSNE\\nfrom sklearn import svm\\nimport lightgbm as lgb'); }\n    "
     },
     "metadata": {}
    },
    {
     "output_type": "display_data",
     "data": {
      "text/plain": "<IPython.core.display.Javascript object>",
      "application/javascript": "\n        if (window._pyforest_update_imports_cell) { window._pyforest_update_imports_cell('from sklearn.ensemble import RandomForestClassifier\\nimport datetime as dt\\nfrom pathlib import Path\\nimport gensim\\nfrom sklearn.ensemble import GradientBoostingRegressor\\nfrom dask import dataframe as dd\\nimport plotly.express as px\\nimport tqdm\\nimport pickle\\nfrom openpyxl import load_workbook\\nfrom sklearn.preprocessing import OneHotEncoder\\nimport plotly.graph_objs as go\\nimport spacy\\nimport xgboost as xgb\\nimport plotly as py\\nimport sklearn\\nfrom sklearn.ensemble import RandomForestRegressor\\nimport matplotlib as mpl\\nimport bokeh\\nfrom sklearn.feature_extraction.text import TfidfVectorizer\\nimport seaborn as sns\\nimport glob\\nimport nltk\\nfrom sklearn.ensemble import GradientBoostingClassifier\\nimport statistics\\nfrom sklearn.model_selection import train_test_split\\nfrom sklearn.manifold import TSNE\\nfrom sklearn import svm\\nimport lightgbm as lgb'); }\n    "
     },
     "metadata": {}
    },
    {
     "output_type": "display_data",
     "data": {
      "text/plain": "<IPython.core.display.Javascript object>",
      "application/javascript": "\n        if (window._pyforest_update_imports_cell) { window._pyforest_update_imports_cell('from sklearn.ensemble import RandomForestClassifier\\nimport datetime as dt\\nfrom pathlib import Path\\nimport gensim\\nfrom sklearn.ensemble import GradientBoostingRegressor\\nfrom dask import dataframe as dd\\nimport plotly.express as px\\nimport tqdm\\nimport pickle\\nfrom openpyxl import load_workbook\\nfrom sklearn.preprocessing import OneHotEncoder\\nimport plotly.graph_objs as go\\nimport spacy\\nimport xgboost as xgb\\nimport plotly as py\\nimport sklearn\\nfrom sklearn.ensemble import RandomForestRegressor\\nimport matplotlib as mpl\\nimport bokeh\\nfrom sklearn.feature_extraction.text import TfidfVectorizer\\nimport seaborn as sns\\nimport glob\\nimport nltk\\nfrom sklearn.ensemble import GradientBoostingClassifier\\nimport statistics\\nfrom sklearn.model_selection import train_test_split\\nfrom sklearn.manifold import TSNE\\nfrom sklearn import svm\\nimport lightgbm as lgb'); }\n    "
     },
     "metadata": {}
    },
    {
     "output_type": "display_data",
     "data": {
      "text/plain": "<IPython.core.display.Javascript object>",
      "application/javascript": "\n        if (window._pyforest_update_imports_cell) { window._pyforest_update_imports_cell('from sklearn.ensemble import RandomForestClassifier\\nimport datetime as dt\\nfrom pathlib import Path\\nimport gensim\\nfrom sklearn.ensemble import GradientBoostingRegressor\\nfrom dask import dataframe as dd\\nimport plotly.express as px\\nimport tqdm\\nimport pickle\\nfrom openpyxl import load_workbook\\nfrom sklearn.preprocessing import OneHotEncoder\\nimport plotly.graph_objs as go\\nimport spacy\\nimport xgboost as xgb\\nimport plotly as py\\nimport sklearn\\nfrom sklearn.ensemble import RandomForestRegressor\\nimport matplotlib as mpl\\nimport bokeh\\nfrom sklearn.feature_extraction.text import TfidfVectorizer\\nimport seaborn as sns\\nimport glob\\nimport nltk\\nfrom sklearn.ensemble import GradientBoostingClassifier\\nimport statistics\\nfrom sklearn.model_selection import train_test_split\\nfrom sklearn.manifold import TSNE\\nfrom sklearn import svm\\nimport lightgbm as lgb'); }\n    "
     },
     "metadata": {}
    },
    {
     "output_type": "display_data",
     "data": {
      "text/plain": "<IPython.core.display.Javascript object>",
      "application/javascript": "\n        if (window._pyforest_update_imports_cell) { window._pyforest_update_imports_cell('from sklearn.ensemble import RandomForestClassifier\\nimport datetime as dt\\nfrom pathlib import Path\\nimport gensim\\nfrom sklearn.ensemble import GradientBoostingRegressor\\nfrom dask import dataframe as dd\\nimport plotly.express as px\\nimport tqdm\\nimport pickle\\nfrom openpyxl import load_workbook\\nfrom sklearn.preprocessing import OneHotEncoder\\nimport plotly.graph_objs as go\\nimport spacy\\nimport xgboost as xgb\\nimport plotly as py\\nimport sklearn\\nfrom sklearn.ensemble import RandomForestRegressor\\nimport matplotlib as mpl\\nimport bokeh\\nfrom sklearn.feature_extraction.text import TfidfVectorizer\\nimport seaborn as sns\\nimport glob\\nimport nltk\\nfrom sklearn.ensemble import GradientBoostingClassifier\\nimport statistics\\nfrom sklearn.model_selection import train_test_split\\nfrom sklearn.manifold import TSNE\\nfrom sklearn import svm\\nimport lightgbm as lgb'); }\n    "
     },
     "metadata": {}
    },
    {
     "output_type": "display_data",
     "data": {
      "text/plain": "<IPython.core.display.Javascript object>",
      "application/javascript": "\n        if (window._pyforest_update_imports_cell) { window._pyforest_update_imports_cell('from sklearn.ensemble import RandomForestClassifier\\nimport datetime as dt\\nfrom pathlib import Path\\nimport gensim\\nfrom sklearn.ensemble import GradientBoostingRegressor\\nfrom dask import dataframe as dd\\nimport plotly.express as px\\nimport tqdm\\nimport pickle\\nfrom openpyxl import load_workbook\\nfrom sklearn.preprocessing import OneHotEncoder\\nimport plotly.graph_objs as go\\nimport spacy\\nimport xgboost as xgb\\nimport plotly as py\\nimport sklearn\\nfrom sklearn.ensemble import RandomForestRegressor\\nimport matplotlib as mpl\\nimport bokeh\\nfrom sklearn.feature_extraction.text import TfidfVectorizer\\nimport seaborn as sns\\nimport glob\\nimport nltk\\nfrom sklearn.ensemble import GradientBoostingClassifier\\nimport statistics\\nfrom sklearn.model_selection import train_test_split\\nfrom sklearn.manifold import TSNE\\nfrom sklearn import svm\\nimport lightgbm as lgb'); }\n    "
     },
     "metadata": {}
    },
    {
     "output_type": "display_data",
     "data": {
      "text/plain": "<IPython.core.display.Javascript object>",
      "application/javascript": "\n        if (window._pyforest_update_imports_cell) { window._pyforest_update_imports_cell('from sklearn.ensemble import RandomForestClassifier\\nimport datetime as dt\\nfrom pathlib import Path\\nimport gensim\\nfrom sklearn.ensemble import GradientBoostingRegressor\\nfrom dask import dataframe as dd\\nimport plotly.express as px\\nimport tqdm\\nimport pickle\\nfrom openpyxl import load_workbook\\nfrom sklearn.preprocessing import OneHotEncoder\\nimport plotly.graph_objs as go\\nimport spacy\\nimport xgboost as xgb\\nimport plotly as py\\nimport sklearn\\nfrom sklearn.ensemble import RandomForestRegressor\\nimport matplotlib as mpl\\nimport bokeh\\nfrom sklearn.feature_extraction.text import TfidfVectorizer\\nimport seaborn as sns\\nimport glob\\nimport nltk\\nfrom sklearn.ensemble import GradientBoostingClassifier\\nimport statistics\\nfrom sklearn.model_selection import train_test_split\\nfrom sklearn.manifold import TSNE\\nfrom sklearn import svm\\nimport lightgbm as lgb'); }\n    "
     },
     "metadata": {}
    },
    {
     "output_type": "display_data",
     "data": {
      "text/plain": "<IPython.core.display.Javascript object>",
      "application/javascript": "\n        if (window._pyforest_update_imports_cell) { window._pyforest_update_imports_cell('from sklearn.ensemble import RandomForestClassifier\\nimport datetime as dt\\nfrom pathlib import Path\\nimport gensim\\nfrom sklearn.ensemble import GradientBoostingRegressor\\nfrom dask import dataframe as dd\\nimport plotly.express as px\\nimport tqdm\\nimport pickle\\nfrom openpyxl import load_workbook\\nfrom sklearn.preprocessing import OneHotEncoder\\nimport plotly.graph_objs as go\\nimport spacy\\nimport xgboost as xgb\\nimport plotly as py\\nimport sklearn\\nfrom sklearn.ensemble import RandomForestRegressor\\nimport matplotlib as mpl\\nimport bokeh\\nfrom sklearn.feature_extraction.text import TfidfVectorizer\\nimport seaborn as sns\\nimport glob\\nimport nltk\\nfrom sklearn.ensemble import GradientBoostingClassifier\\nimport statistics\\nfrom sklearn.model_selection import train_test_split\\nfrom sklearn.manifold import TSNE\\nfrom sklearn import svm\\nimport lightgbm as lgb'); }\n    "
     },
     "metadata": {}
    },
    {
     "output_type": "display_data",
     "data": {
      "text/plain": "<IPython.core.display.Javascript object>",
      "application/javascript": "\n        if (window._pyforest_update_imports_cell) { window._pyforest_update_imports_cell('from sklearn.ensemble import RandomForestClassifier\\nimport datetime as dt\\nfrom pathlib import Path\\nimport gensim\\nfrom sklearn.ensemble import GradientBoostingRegressor\\nfrom dask import dataframe as dd\\nimport plotly.express as px\\nimport tqdm\\nimport pickle\\nfrom openpyxl import load_workbook\\nfrom sklearn.preprocessing import OneHotEncoder\\nimport plotly.graph_objs as go\\nimport spacy\\nimport xgboost as xgb\\nimport plotly as py\\nimport sklearn\\nfrom sklearn.ensemble import RandomForestRegressor\\nimport matplotlib as mpl\\nimport bokeh\\nfrom sklearn.feature_extraction.text import TfidfVectorizer\\nimport seaborn as sns\\nimport glob\\nimport nltk\\nfrom sklearn.ensemble import GradientBoostingClassifier\\nimport statistics\\nfrom sklearn.model_selection import train_test_split\\nfrom sklearn.manifold import TSNE\\nfrom sklearn import svm\\nimport lightgbm as lgb'); }\n    "
     },
     "metadata": {}
    },
    {
     "output_type": "display_data",
     "data": {
      "text/plain": "<IPython.core.display.Javascript object>",
      "application/javascript": "\n        if (window._pyforest_update_imports_cell) { window._pyforest_update_imports_cell('from sklearn.ensemble import RandomForestClassifier\\nimport datetime as dt\\nfrom pathlib import Path\\nimport gensim\\nfrom sklearn.ensemble import GradientBoostingRegressor\\nfrom dask import dataframe as dd\\nimport plotly.express as px\\nimport tqdm\\nimport pickle\\nfrom openpyxl import load_workbook\\nfrom sklearn.preprocessing import OneHotEncoder\\nimport plotly.graph_objs as go\\nimport spacy\\nimport xgboost as xgb\\nimport plotly as py\\nimport sklearn\\nfrom sklearn.ensemble import RandomForestRegressor\\nimport matplotlib as mpl\\nimport bokeh\\nfrom sklearn.feature_extraction.text import TfidfVectorizer\\nimport seaborn as sns\\nimport glob\\nimport nltk\\nfrom sklearn.ensemble import GradientBoostingClassifier\\nimport statistics\\nfrom sklearn.model_selection import train_test_split\\nfrom sklearn.manifold import TSNE\\nfrom sklearn import svm\\nimport lightgbm as lgb'); }\n    "
     },
     "metadata": {}
    },
    {
     "output_type": "display_data",
     "data": {
      "text/plain": "<IPython.core.display.Javascript object>",
      "application/javascript": "\n        if (window._pyforest_update_imports_cell) { window._pyforest_update_imports_cell('from sklearn.ensemble import RandomForestClassifier\\nimport datetime as dt\\nfrom pathlib import Path\\nimport gensim\\nfrom sklearn.ensemble import GradientBoostingRegressor\\nfrom dask import dataframe as dd\\nimport plotly.express as px\\nimport tqdm\\nimport pickle\\nfrom openpyxl import load_workbook\\nfrom sklearn.preprocessing import OneHotEncoder\\nimport plotly.graph_objs as go\\nimport spacy\\nimport xgboost as xgb\\nimport plotly as py\\nimport sklearn\\nfrom sklearn.ensemble import RandomForestRegressor\\nimport matplotlib as mpl\\nimport bokeh\\nfrom sklearn.feature_extraction.text import TfidfVectorizer\\nimport seaborn as sns\\nimport glob\\nimport nltk\\nfrom sklearn.ensemble import GradientBoostingClassifier\\nimport statistics\\nfrom sklearn.model_selection import train_test_split\\nfrom sklearn.manifold import TSNE\\nfrom sklearn import svm\\nimport lightgbm as lgb'); }\n    "
     },
     "metadata": {}
    },
    {
     "output_type": "display_data",
     "data": {
      "text/plain": "<IPython.core.display.Javascript object>",
      "application/javascript": "\n        if (window._pyforest_update_imports_cell) { window._pyforest_update_imports_cell('from sklearn.ensemble import RandomForestClassifier\\nimport datetime as dt\\nfrom pathlib import Path\\nimport gensim\\nfrom sklearn.ensemble import GradientBoostingRegressor\\nfrom dask import dataframe as dd\\nimport plotly.express as px\\nimport tqdm\\nimport pickle\\nfrom openpyxl import load_workbook\\nfrom sklearn.preprocessing import OneHotEncoder\\nimport plotly.graph_objs as go\\nimport spacy\\nimport xgboost as xgb\\nimport plotly as py\\nimport sklearn\\nfrom sklearn.ensemble import RandomForestRegressor\\nimport matplotlib as mpl\\nimport bokeh\\nfrom sklearn.feature_extraction.text import TfidfVectorizer\\nimport seaborn as sns\\nimport glob\\nimport nltk\\nfrom sklearn.ensemble import GradientBoostingClassifier\\nimport statistics\\nfrom sklearn.model_selection import train_test_split\\nfrom sklearn.manifold import TSNE\\nfrom sklearn import svm\\nimport lightgbm as lgb'); }\n    "
     },
     "metadata": {}
    },
    {
     "output_type": "display_data",
     "data": {
      "text/plain": "<IPython.core.display.Javascript object>",
      "application/javascript": "\n        if (window._pyforest_update_imports_cell) { window._pyforest_update_imports_cell('from sklearn.ensemble import RandomForestClassifier\\nimport datetime as dt\\nfrom pathlib import Path\\nimport gensim\\nfrom sklearn.ensemble import GradientBoostingRegressor\\nfrom dask import dataframe as dd\\nimport plotly.express as px\\nimport tqdm\\nimport pickle\\nfrom openpyxl import load_workbook\\nfrom sklearn.preprocessing import OneHotEncoder\\nimport plotly.graph_objs as go\\nimport spacy\\nimport xgboost as xgb\\nimport plotly as py\\nimport sklearn\\nfrom sklearn.ensemble import RandomForestRegressor\\nimport matplotlib as mpl\\nimport bokeh\\nfrom sklearn.feature_extraction.text import TfidfVectorizer\\nimport seaborn as sns\\nimport glob\\nimport nltk\\nfrom sklearn.ensemble import GradientBoostingClassifier\\nimport statistics\\nfrom sklearn.model_selection import train_test_split\\nfrom sklearn.manifold import TSNE\\nfrom sklearn import svm\\nimport lightgbm as lgb'); }\n    "
     },
     "metadata": {}
    },
    {
     "output_type": "display_data",
     "data": {
      "text/plain": "<IPython.core.display.Javascript object>",
      "application/javascript": "\n        if (window._pyforest_update_imports_cell) { window._pyforest_update_imports_cell('from sklearn.ensemble import RandomForestClassifier\\nimport datetime as dt\\nfrom pathlib import Path\\nimport gensim\\nfrom sklearn.ensemble import GradientBoostingRegressor\\nfrom dask import dataframe as dd\\nimport plotly.express as px\\nimport tqdm\\nimport pickle\\nfrom openpyxl import load_workbook\\nfrom sklearn.preprocessing import OneHotEncoder\\nimport plotly.graph_objs as go\\nimport spacy\\nimport xgboost as xgb\\nimport plotly as py\\nimport sklearn\\nfrom sklearn.ensemble import RandomForestRegressor\\nimport matplotlib as mpl\\nimport bokeh\\nfrom sklearn.feature_extraction.text import TfidfVectorizer\\nimport seaborn as sns\\nimport glob\\nimport nltk\\nfrom sklearn.ensemble import GradientBoostingClassifier\\nimport statistics\\nfrom sklearn.model_selection import train_test_split\\nfrom sklearn.manifold import TSNE\\nfrom sklearn import svm\\nimport lightgbm as lgb'); }\n    "
     },
     "metadata": {}
    },
    {
     "output_type": "display_data",
     "data": {
      "text/plain": "<IPython.core.display.Javascript object>",
      "application/javascript": "\n        if (window._pyforest_update_imports_cell) { window._pyforest_update_imports_cell('from sklearn.ensemble import RandomForestClassifier\\nimport datetime as dt\\nfrom pathlib import Path\\nimport gensim\\nfrom sklearn.ensemble import GradientBoostingRegressor\\nfrom dask import dataframe as dd\\nimport plotly.express as px\\nimport tqdm\\nimport pickle\\nfrom openpyxl import load_workbook\\nfrom sklearn.preprocessing import OneHotEncoder\\nimport plotly.graph_objs as go\\nimport spacy\\nimport xgboost as xgb\\nimport plotly as py\\nimport sklearn\\nfrom sklearn.ensemble import RandomForestRegressor\\nimport matplotlib as mpl\\nimport bokeh\\nfrom sklearn.feature_extraction.text import TfidfVectorizer\\nimport seaborn as sns\\nimport glob\\nimport nltk\\nfrom sklearn.ensemble import GradientBoostingClassifier\\nimport statistics\\nfrom sklearn.model_selection import train_test_split\\nfrom sklearn.manifold import TSNE\\nfrom sklearn import svm\\nimport lightgbm as lgb'); }\n    "
     },
     "metadata": {}
    },
    {
     "output_type": "display_data",
     "data": {
      "text/plain": "<IPython.core.display.Javascript object>",
      "application/javascript": "\n        if (window._pyforest_update_imports_cell) { window._pyforest_update_imports_cell('from sklearn.ensemble import RandomForestClassifier\\nimport datetime as dt\\nfrom pathlib import Path\\nimport gensim\\nfrom sklearn.ensemble import GradientBoostingRegressor\\nfrom dask import dataframe as dd\\nimport plotly.express as px\\nimport tqdm\\nimport pickle\\nfrom openpyxl import load_workbook\\nfrom sklearn.preprocessing import OneHotEncoder\\nimport plotly.graph_objs as go\\nimport spacy\\nimport xgboost as xgb\\nimport plotly as py\\nimport sklearn\\nfrom sklearn.ensemble import RandomForestRegressor\\nimport matplotlib as mpl\\nimport bokeh\\nfrom sklearn.feature_extraction.text import TfidfVectorizer\\nimport seaborn as sns\\nimport glob\\nimport nltk\\nfrom sklearn.ensemble import GradientBoostingClassifier\\nimport statistics\\nfrom sklearn.model_selection import train_test_split\\nfrom sklearn.manifold import TSNE\\nfrom sklearn import svm\\nimport lightgbm as lgb'); }\n    "
     },
     "metadata": {}
    },
    {
     "output_type": "display_data",
     "data": {
      "text/plain": "<IPython.core.display.Javascript object>",
      "application/javascript": "\n        if (window._pyforest_update_imports_cell) { window._pyforest_update_imports_cell('from sklearn.ensemble import RandomForestClassifier\\nimport datetime as dt\\nfrom pathlib import Path\\nimport gensim\\nfrom sklearn.ensemble import GradientBoostingRegressor\\nfrom dask import dataframe as dd\\nimport plotly.express as px\\nimport tqdm\\nimport pickle\\nfrom openpyxl import load_workbook\\nfrom sklearn.preprocessing import OneHotEncoder\\nimport plotly.graph_objs as go\\nimport spacy\\nimport xgboost as xgb\\nimport plotly as py\\nimport sklearn\\nfrom sklearn.ensemble import RandomForestRegressor\\nimport matplotlib as mpl\\nimport bokeh\\nfrom sklearn.feature_extraction.text import TfidfVectorizer\\nimport seaborn as sns\\nimport glob\\nimport nltk\\nfrom sklearn.ensemble import GradientBoostingClassifier\\nimport statistics\\nfrom sklearn.model_selection import train_test_split\\nfrom sklearn.manifold import TSNE\\nfrom sklearn import svm\\nimport lightgbm as lgb'); }\n    "
     },
     "metadata": {}
    },
    {
     "output_type": "display_data",
     "data": {
      "text/plain": "<IPython.core.display.Javascript object>",
      "application/javascript": "\n        if (window._pyforest_update_imports_cell) { window._pyforest_update_imports_cell('from sklearn.ensemble import RandomForestClassifier\\nimport datetime as dt\\nfrom pathlib import Path\\nimport gensim\\nfrom sklearn.ensemble import GradientBoostingRegressor\\nfrom dask import dataframe as dd\\nimport plotly.express as px\\nimport tqdm\\nimport pickle\\nfrom openpyxl import load_workbook\\nfrom sklearn.preprocessing import OneHotEncoder\\nimport plotly.graph_objs as go\\nimport spacy\\nimport xgboost as xgb\\nimport plotly as py\\nimport sklearn\\nfrom sklearn.ensemble import RandomForestRegressor\\nimport matplotlib as mpl\\nimport bokeh\\nfrom sklearn.feature_extraction.text import TfidfVectorizer\\nimport seaborn as sns\\nimport glob\\nimport nltk\\nfrom sklearn.ensemble import GradientBoostingClassifier\\nimport statistics\\nfrom sklearn.model_selection import train_test_split\\nfrom sklearn.manifold import TSNE\\nfrom sklearn import svm\\nimport lightgbm as lgb'); }\n    "
     },
     "metadata": {}
    },
    {
     "output_type": "display_data",
     "data": {
      "text/plain": "<IPython.core.display.Javascript object>",
      "application/javascript": "\n        if (window._pyforest_update_imports_cell) { window._pyforest_update_imports_cell('from sklearn.ensemble import RandomForestClassifier\\nimport datetime as dt\\nfrom pathlib import Path\\nimport gensim\\nfrom sklearn.ensemble import GradientBoostingRegressor\\nfrom dask import dataframe as dd\\nimport plotly.express as px\\nimport tqdm\\nimport pickle\\nfrom openpyxl import load_workbook\\nfrom sklearn.preprocessing import OneHotEncoder\\nimport plotly.graph_objs as go\\nimport spacy\\nimport xgboost as xgb\\nimport plotly as py\\nimport sklearn\\nfrom sklearn.ensemble import RandomForestRegressor\\nimport matplotlib as mpl\\nimport bokeh\\nfrom sklearn.feature_extraction.text import TfidfVectorizer\\nimport seaborn as sns\\nimport glob\\nimport nltk\\nfrom sklearn.ensemble import GradientBoostingClassifier\\nimport statistics\\nfrom sklearn.model_selection import train_test_split\\nfrom sklearn.manifold import TSNE\\nfrom sklearn import svm\\nimport lightgbm as lgb'); }\n    "
     },
     "metadata": {}
    },
    {
     "output_type": "display_data",
     "data": {
      "text/plain": "<IPython.core.display.Javascript object>",
      "application/javascript": "\n        if (window._pyforest_update_imports_cell) { window._pyforest_update_imports_cell('from sklearn.ensemble import RandomForestClassifier\\nimport datetime as dt\\nfrom pathlib import Path\\nimport gensim\\nfrom sklearn.ensemble import GradientBoostingRegressor\\nfrom dask import dataframe as dd\\nimport plotly.express as px\\nimport tqdm\\nimport pickle\\nfrom openpyxl import load_workbook\\nfrom sklearn.preprocessing import OneHotEncoder\\nimport plotly.graph_objs as go\\nimport spacy\\nimport xgboost as xgb\\nimport plotly as py\\nimport sklearn\\nfrom sklearn.ensemble import RandomForestRegressor\\nimport matplotlib as mpl\\nimport bokeh\\nfrom sklearn.feature_extraction.text import TfidfVectorizer\\nimport seaborn as sns\\nimport glob\\nimport nltk\\nfrom sklearn.ensemble import GradientBoostingClassifier\\nimport statistics\\nfrom sklearn.model_selection import train_test_split\\nfrom sklearn.manifold import TSNE\\nfrom sklearn import svm\\nimport lightgbm as lgb'); }\n    "
     },
     "metadata": {}
    },
    {
     "output_type": "display_data",
     "data": {
      "text/plain": "<IPython.core.display.Javascript object>",
      "application/javascript": "\n        if (window._pyforest_update_imports_cell) { window._pyforest_update_imports_cell('from sklearn.ensemble import RandomForestClassifier\\nimport datetime as dt\\nfrom pathlib import Path\\nimport gensim\\nfrom sklearn.ensemble import GradientBoostingRegressor\\nfrom dask import dataframe as dd\\nimport plotly.express as px\\nimport tqdm\\nimport pickle\\nfrom openpyxl import load_workbook\\nfrom sklearn.preprocessing import OneHotEncoder\\nimport plotly.graph_objs as go\\nimport spacy\\nimport xgboost as xgb\\nimport plotly as py\\nimport sklearn\\nfrom sklearn.ensemble import RandomForestRegressor\\nimport matplotlib as mpl\\nimport bokeh\\nfrom sklearn.feature_extraction.text import TfidfVectorizer\\nimport seaborn as sns\\nimport glob\\nimport nltk\\nfrom sklearn.ensemble import GradientBoostingClassifier\\nimport statistics\\nfrom sklearn.model_selection import train_test_split\\nfrom sklearn.manifold import TSNE\\nfrom sklearn import svm\\nimport lightgbm as lgb'); }\n    "
     },
     "metadata": {}
    },
    {
     "output_type": "display_data",
     "data": {
      "text/plain": "<IPython.core.display.Javascript object>",
      "application/javascript": "\n        if (window._pyforest_update_imports_cell) { window._pyforest_update_imports_cell('from sklearn.ensemble import RandomForestClassifier\\nimport datetime as dt\\nfrom pathlib import Path\\nimport gensim\\nfrom sklearn.ensemble import GradientBoostingRegressor\\nfrom dask import dataframe as dd\\nimport plotly.express as px\\nimport tqdm\\nimport pickle\\nfrom openpyxl import load_workbook\\nfrom sklearn.preprocessing import OneHotEncoder\\nimport plotly.graph_objs as go\\nimport spacy\\nimport xgboost as xgb\\nimport plotly as py\\nimport sklearn\\nfrom sklearn.ensemble import RandomForestRegressor\\nimport matplotlib as mpl\\nimport bokeh\\nfrom sklearn.feature_extraction.text import TfidfVectorizer\\nimport seaborn as sns\\nimport glob\\nimport nltk\\nfrom sklearn.ensemble import GradientBoostingClassifier\\nimport statistics\\nfrom sklearn.model_selection import train_test_split\\nfrom sklearn.manifold import TSNE\\nfrom sklearn import svm\\nimport lightgbm as lgb'); }\n    "
     },
     "metadata": {}
    },
    {
     "output_type": "display_data",
     "data": {
      "text/plain": "<IPython.core.display.Javascript object>",
      "application/javascript": "\n        if (window._pyforest_update_imports_cell) { window._pyforest_update_imports_cell('from sklearn.ensemble import RandomForestClassifier\\nimport datetime as dt\\nfrom pathlib import Path\\nimport gensim\\nfrom sklearn.ensemble import GradientBoostingRegressor\\nfrom dask import dataframe as dd\\nimport plotly.express as px\\nimport tqdm\\nimport pickle\\nfrom openpyxl import load_workbook\\nfrom sklearn.preprocessing import OneHotEncoder\\nimport plotly.graph_objs as go\\nimport spacy\\nimport xgboost as xgb\\nimport plotly as py\\nimport sklearn\\nfrom sklearn.ensemble import RandomForestRegressor\\nimport matplotlib as mpl\\nimport bokeh\\nfrom sklearn.feature_extraction.text import TfidfVectorizer\\nimport seaborn as sns\\nimport glob\\nimport nltk\\nfrom sklearn.ensemble import GradientBoostingClassifier\\nimport statistics\\nfrom sklearn.model_selection import train_test_split\\nfrom sklearn.manifold import TSNE\\nfrom sklearn import svm\\nimport lightgbm as lgb'); }\n    "
     },
     "metadata": {}
    },
    {
     "output_type": "display_data",
     "data": {
      "text/plain": "<IPython.core.display.Javascript object>",
      "application/javascript": "\n        if (window._pyforest_update_imports_cell) { window._pyforest_update_imports_cell('from sklearn.ensemble import RandomForestClassifier\\nimport datetime as dt\\nfrom pathlib import Path\\nimport gensim\\nfrom sklearn.ensemble import GradientBoostingRegressor\\nfrom dask import dataframe as dd\\nimport plotly.express as px\\nimport tqdm\\nimport pickle\\nfrom openpyxl import load_workbook\\nfrom sklearn.preprocessing import OneHotEncoder\\nimport plotly.graph_objs as go\\nimport spacy\\nimport xgboost as xgb\\nimport plotly as py\\nimport sklearn\\nfrom sklearn.ensemble import RandomForestRegressor\\nimport matplotlib as mpl\\nimport bokeh\\nfrom sklearn.feature_extraction.text import TfidfVectorizer\\nimport seaborn as sns\\nimport glob\\nimport nltk\\nfrom sklearn.ensemble import GradientBoostingClassifier\\nimport statistics\\nfrom sklearn.model_selection import train_test_split\\nfrom sklearn.manifold import TSNE\\nfrom sklearn import svm\\nimport lightgbm as lgb'); }\n    "
     },
     "metadata": {}
    },
    {
     "output_type": "display_data",
     "data": {
      "text/plain": "<IPython.core.display.Javascript object>",
      "application/javascript": "\n        if (window._pyforest_update_imports_cell) { window._pyforest_update_imports_cell('from sklearn.ensemble import RandomForestClassifier\\nimport datetime as dt\\nfrom pathlib import Path\\nimport gensim\\nfrom sklearn.ensemble import GradientBoostingRegressor\\nfrom dask import dataframe as dd\\nimport plotly.express as px\\nimport tqdm\\nimport pickle\\nfrom openpyxl import load_workbook\\nfrom sklearn.preprocessing import OneHotEncoder\\nimport plotly.graph_objs as go\\nimport spacy\\nimport xgboost as xgb\\nimport plotly as py\\nimport sklearn\\nfrom sklearn.ensemble import RandomForestRegressor\\nimport matplotlib as mpl\\nimport bokeh\\nfrom sklearn.feature_extraction.text import TfidfVectorizer\\nimport seaborn as sns\\nimport glob\\nimport nltk\\nfrom sklearn.ensemble import GradientBoostingClassifier\\nimport statistics\\nfrom sklearn.model_selection import train_test_split\\nfrom sklearn.manifold import TSNE\\nfrom sklearn import svm\\nimport lightgbm as lgb'); }\n    "
     },
     "metadata": {}
    },
    {
     "output_type": "display_data",
     "data": {
      "text/plain": "<IPython.core.display.Javascript object>",
      "application/javascript": "\n        if (window._pyforest_update_imports_cell) { window._pyforest_update_imports_cell('from sklearn.ensemble import RandomForestClassifier\\nimport datetime as dt\\nfrom pathlib import Path\\nimport gensim\\nfrom sklearn.ensemble import GradientBoostingRegressor\\nfrom dask import dataframe as dd\\nimport plotly.express as px\\nimport tqdm\\nimport pickle\\nfrom openpyxl import load_workbook\\nfrom sklearn.preprocessing import OneHotEncoder\\nimport plotly.graph_objs as go\\nimport spacy\\nimport xgboost as xgb\\nimport plotly as py\\nimport sklearn\\nfrom sklearn.ensemble import RandomForestRegressor\\nimport matplotlib as mpl\\nimport bokeh\\nfrom sklearn.feature_extraction.text import TfidfVectorizer\\nimport seaborn as sns\\nimport glob\\nimport nltk\\nfrom sklearn.ensemble import GradientBoostingClassifier\\nimport statistics\\nfrom sklearn.model_selection import train_test_split\\nfrom sklearn.manifold import TSNE\\nfrom sklearn import svm\\nimport lightgbm as lgb'); }\n    "
     },
     "metadata": {}
    },
    {
     "output_type": "display_data",
     "data": {
      "text/plain": "<IPython.core.display.Javascript object>",
      "application/javascript": "\n        if (window._pyforest_update_imports_cell) { window._pyforest_update_imports_cell('from sklearn.ensemble import RandomForestClassifier\\nimport datetime as dt\\nfrom pathlib import Path\\nimport gensim\\nfrom sklearn.ensemble import GradientBoostingRegressor\\nfrom dask import dataframe as dd\\nimport plotly.express as px\\nimport tqdm\\nimport pickle\\nfrom openpyxl import load_workbook\\nfrom sklearn.preprocessing import OneHotEncoder\\nimport plotly.graph_objs as go\\nimport spacy\\nimport xgboost as xgb\\nimport plotly as py\\nimport sklearn\\nfrom sklearn.ensemble import RandomForestRegressor\\nimport matplotlib as mpl\\nimport bokeh\\nfrom sklearn.feature_extraction.text import TfidfVectorizer\\nimport seaborn as sns\\nimport glob\\nimport nltk\\nfrom sklearn.ensemble import GradientBoostingClassifier\\nimport statistics\\nfrom sklearn.model_selection import train_test_split\\nfrom sklearn.manifold import TSNE\\nfrom sklearn import svm\\nimport lightgbm as lgb'); }\n    "
     },
     "metadata": {}
    },
    {
     "output_type": "display_data",
     "data": {
      "text/plain": "<IPython.core.display.Javascript object>",
      "application/javascript": "\n        if (window._pyforest_update_imports_cell) { window._pyforest_update_imports_cell('from sklearn.ensemble import RandomForestClassifier\\nimport datetime as dt\\nfrom pathlib import Path\\nimport gensim\\nfrom sklearn.ensemble import GradientBoostingRegressor\\nfrom dask import dataframe as dd\\nimport plotly.express as px\\nimport tqdm\\nimport pickle\\nfrom openpyxl import load_workbook\\nfrom sklearn.preprocessing import OneHotEncoder\\nimport plotly.graph_objs as go\\nimport spacy\\nimport xgboost as xgb\\nimport plotly as py\\nimport sklearn\\nfrom sklearn.ensemble import RandomForestRegressor\\nimport matplotlib as mpl\\nimport bokeh\\nfrom sklearn.feature_extraction.text import TfidfVectorizer\\nimport seaborn as sns\\nimport glob\\nimport nltk\\nfrom sklearn.ensemble import GradientBoostingClassifier\\nimport statistics\\nfrom sklearn.model_selection import train_test_split\\nfrom sklearn.manifold import TSNE\\nfrom sklearn import svm\\nimport lightgbm as lgb'); }\n    "
     },
     "metadata": {}
    },
    {
     "output_type": "display_data",
     "data": {
      "text/plain": "<IPython.core.display.Javascript object>",
      "application/javascript": "\n        if (window._pyforest_update_imports_cell) { window._pyforest_update_imports_cell('from sklearn.ensemble import RandomForestClassifier\\nimport datetime as dt\\nfrom pathlib import Path\\nimport gensim\\nfrom sklearn.ensemble import GradientBoostingRegressor\\nfrom dask import dataframe as dd\\nimport plotly.express as px\\nimport tqdm\\nimport pickle\\nfrom openpyxl import load_workbook\\nfrom sklearn.preprocessing import OneHotEncoder\\nimport plotly.graph_objs as go\\nimport spacy\\nimport xgboost as xgb\\nimport plotly as py\\nimport sklearn\\nfrom sklearn.ensemble import RandomForestRegressor\\nimport matplotlib as mpl\\nimport bokeh\\nfrom sklearn.feature_extraction.text import TfidfVectorizer\\nimport seaborn as sns\\nimport glob\\nimport nltk\\nfrom sklearn.ensemble import GradientBoostingClassifier\\nimport statistics\\nfrom sklearn.model_selection import train_test_split\\nfrom sklearn.manifold import TSNE\\nfrom sklearn import svm\\nimport lightgbm as lgb'); }\n    "
     },
     "metadata": {}
    },
    {
     "output_type": "display_data",
     "data": {
      "text/plain": "<IPython.core.display.Javascript object>",
      "application/javascript": "\n        if (window._pyforest_update_imports_cell) { window._pyforest_update_imports_cell('from sklearn.ensemble import RandomForestClassifier\\nimport datetime as dt\\nfrom pathlib import Path\\nimport gensim\\nfrom sklearn.ensemble import GradientBoostingRegressor\\nfrom dask import dataframe as dd\\nimport plotly.express as px\\nimport tqdm\\nimport pickle\\nfrom openpyxl import load_workbook\\nfrom sklearn.preprocessing import OneHotEncoder\\nimport plotly.graph_objs as go\\nimport spacy\\nimport xgboost as xgb\\nimport plotly as py\\nimport sklearn\\nfrom sklearn.ensemble import RandomForestRegressor\\nimport matplotlib as mpl\\nimport bokeh\\nfrom sklearn.feature_extraction.text import TfidfVectorizer\\nimport seaborn as sns\\nimport glob\\nimport nltk\\nfrom sklearn.ensemble import GradientBoostingClassifier\\nimport statistics\\nfrom sklearn.model_selection import train_test_split\\nfrom sklearn.manifold import TSNE\\nfrom sklearn import svm\\nimport lightgbm as lgb'); }\n    "
     },
     "metadata": {}
    },
    {
     "output_type": "display_data",
     "data": {
      "text/plain": "<IPython.core.display.Javascript object>",
      "application/javascript": "\n        if (window._pyforest_update_imports_cell) { window._pyforest_update_imports_cell('from sklearn.ensemble import RandomForestClassifier\\nimport datetime as dt\\nfrom pathlib import Path\\nimport gensim\\nfrom sklearn.ensemble import GradientBoostingRegressor\\nfrom dask import dataframe as dd\\nimport plotly.express as px\\nimport tqdm\\nimport pickle\\nfrom openpyxl import load_workbook\\nfrom sklearn.preprocessing import OneHotEncoder\\nimport plotly.graph_objs as go\\nimport spacy\\nimport xgboost as xgb\\nimport plotly as py\\nimport sklearn\\nfrom sklearn.ensemble import RandomForestRegressor\\nimport matplotlib as mpl\\nimport bokeh\\nfrom sklearn.feature_extraction.text import TfidfVectorizer\\nimport seaborn as sns\\nimport glob\\nimport nltk\\nfrom sklearn.ensemble import GradientBoostingClassifier\\nimport statistics\\nfrom sklearn.model_selection import train_test_split\\nfrom sklearn.manifold import TSNE\\nfrom sklearn import svm\\nimport lightgbm as lgb'); }\n    "
     },
     "metadata": {}
    },
    {
     "output_type": "display_data",
     "data": {
      "text/plain": "<IPython.core.display.Javascript object>",
      "application/javascript": "\n        if (window._pyforest_update_imports_cell) { window._pyforest_update_imports_cell('from sklearn.ensemble import RandomForestClassifier\\nimport datetime as dt\\nfrom pathlib import Path\\nimport gensim\\nfrom sklearn.ensemble import GradientBoostingRegressor\\nfrom dask import dataframe as dd\\nimport plotly.express as px\\nimport tqdm\\nimport pickle\\nfrom openpyxl import load_workbook\\nfrom sklearn.preprocessing import OneHotEncoder\\nimport plotly.graph_objs as go\\nimport spacy\\nimport xgboost as xgb\\nimport plotly as py\\nimport sklearn\\nfrom sklearn.ensemble import RandomForestRegressor\\nimport matplotlib as mpl\\nimport bokeh\\nfrom sklearn.feature_extraction.text import TfidfVectorizer\\nimport seaborn as sns\\nimport glob\\nimport nltk\\nfrom sklearn.ensemble import GradientBoostingClassifier\\nimport statistics\\nfrom sklearn.model_selection import train_test_split\\nfrom sklearn.manifold import TSNE\\nfrom sklearn import svm\\nimport lightgbm as lgb'); }\n    "
     },
     "metadata": {}
    },
    {
     "output_type": "display_data",
     "data": {
      "text/plain": "<IPython.core.display.Javascript object>",
      "application/javascript": "\n        if (window._pyforest_update_imports_cell) { window._pyforest_update_imports_cell('from sklearn.ensemble import RandomForestClassifier\\nimport datetime as dt\\nfrom pathlib import Path\\nimport gensim\\nfrom sklearn.ensemble import GradientBoostingRegressor\\nfrom dask import dataframe as dd\\nimport plotly.express as px\\nimport tqdm\\nimport pickle\\nfrom openpyxl import load_workbook\\nfrom sklearn.preprocessing import OneHotEncoder\\nimport plotly.graph_objs as go\\nimport spacy\\nimport xgboost as xgb\\nimport plotly as py\\nimport sklearn\\nfrom sklearn.ensemble import RandomForestRegressor\\nimport matplotlib as mpl\\nimport bokeh\\nfrom sklearn.feature_extraction.text import TfidfVectorizer\\nimport seaborn as sns\\nimport glob\\nimport nltk\\nfrom sklearn.ensemble import GradientBoostingClassifier\\nimport statistics\\nfrom sklearn.model_selection import train_test_split\\nfrom sklearn.manifold import TSNE\\nfrom sklearn import svm\\nimport lightgbm as lgb'); }\n    "
     },
     "metadata": {}
    },
    {
     "output_type": "display_data",
     "data": {
      "text/plain": "<IPython.core.display.Javascript object>",
      "application/javascript": "\n        if (window._pyforest_update_imports_cell) { window._pyforest_update_imports_cell('from sklearn.ensemble import RandomForestClassifier\\nimport datetime as dt\\nfrom pathlib import Path\\nimport gensim\\nfrom sklearn.ensemble import GradientBoostingRegressor\\nfrom dask import dataframe as dd\\nimport plotly.express as px\\nimport tqdm\\nimport pickle\\nfrom openpyxl import load_workbook\\nfrom sklearn.preprocessing import OneHotEncoder\\nimport plotly.graph_objs as go\\nimport spacy\\nimport xgboost as xgb\\nimport plotly as py\\nimport sklearn\\nfrom sklearn.ensemble import RandomForestRegressor\\nimport matplotlib as mpl\\nimport bokeh\\nfrom sklearn.feature_extraction.text import TfidfVectorizer\\nimport seaborn as sns\\nimport glob\\nimport nltk\\nfrom sklearn.ensemble import GradientBoostingClassifier\\nimport statistics\\nfrom sklearn.model_selection import train_test_split\\nfrom sklearn.manifold import TSNE\\nfrom sklearn import svm\\nimport lightgbm as lgb'); }\n    "
     },
     "metadata": {}
    },
    {
     "output_type": "display_data",
     "data": {
      "text/plain": "<IPython.core.display.Javascript object>",
      "application/javascript": "\n        if (window._pyforest_update_imports_cell) { window._pyforest_update_imports_cell('from sklearn.ensemble import RandomForestClassifier\\nimport datetime as dt\\nfrom pathlib import Path\\nimport gensim\\nfrom sklearn.ensemble import GradientBoostingRegressor\\nfrom dask import dataframe as dd\\nimport plotly.express as px\\nimport tqdm\\nimport pickle\\nfrom openpyxl import load_workbook\\nfrom sklearn.preprocessing import OneHotEncoder\\nimport plotly.graph_objs as go\\nimport spacy\\nimport xgboost as xgb\\nimport plotly as py\\nimport sklearn\\nfrom sklearn.ensemble import RandomForestRegressor\\nimport matplotlib as mpl\\nimport bokeh\\nfrom sklearn.feature_extraction.text import TfidfVectorizer\\nimport seaborn as sns\\nimport glob\\nimport nltk\\nfrom sklearn.ensemble import GradientBoostingClassifier\\nimport statistics\\nfrom sklearn.model_selection import train_test_split\\nfrom sklearn.manifold import TSNE\\nfrom sklearn import svm\\nimport lightgbm as lgb'); }\n    "
     },
     "metadata": {}
    },
    {
     "output_type": "display_data",
     "data": {
      "text/plain": "<IPython.core.display.Javascript object>",
      "application/javascript": "\n        if (window._pyforest_update_imports_cell) { window._pyforest_update_imports_cell('from sklearn.ensemble import RandomForestClassifier\\nimport datetime as dt\\nfrom pathlib import Path\\nimport gensim\\nfrom sklearn.ensemble import GradientBoostingRegressor\\nfrom dask import dataframe as dd\\nimport plotly.express as px\\nimport tqdm\\nimport pickle\\nfrom openpyxl import load_workbook\\nfrom sklearn.preprocessing import OneHotEncoder\\nimport plotly.graph_objs as go\\nimport spacy\\nimport xgboost as xgb\\nimport plotly as py\\nimport sklearn\\nfrom sklearn.ensemble import RandomForestRegressor\\nimport matplotlib as mpl\\nimport bokeh\\nfrom sklearn.feature_extraction.text import TfidfVectorizer\\nimport seaborn as sns\\nimport glob\\nimport nltk\\nfrom sklearn.ensemble import GradientBoostingClassifier\\nimport statistics\\nfrom sklearn.model_selection import train_test_split\\nfrom sklearn.manifold import TSNE\\nfrom sklearn import svm\\nimport lightgbm as lgb'); }\n    "
     },
     "metadata": {}
    },
    {
     "output_type": "display_data",
     "data": {
      "text/plain": "<IPython.core.display.Javascript object>",
      "application/javascript": "\n        if (window._pyforest_update_imports_cell) { window._pyforest_update_imports_cell('from sklearn.ensemble import RandomForestClassifier\\nimport datetime as dt\\nfrom pathlib import Path\\nimport gensim\\nfrom sklearn.ensemble import GradientBoostingRegressor\\nfrom dask import dataframe as dd\\nimport plotly.express as px\\nimport tqdm\\nimport pickle\\nfrom openpyxl import load_workbook\\nfrom sklearn.preprocessing import OneHotEncoder\\nimport plotly.graph_objs as go\\nimport spacy\\nimport xgboost as xgb\\nimport plotly as py\\nimport sklearn\\nfrom sklearn.ensemble import RandomForestRegressor\\nimport matplotlib as mpl\\nimport bokeh\\nfrom sklearn.feature_extraction.text import TfidfVectorizer\\nimport seaborn as sns\\nimport glob\\nimport nltk\\nfrom sklearn.ensemble import GradientBoostingClassifier\\nimport statistics\\nfrom sklearn.model_selection import train_test_split\\nfrom sklearn.manifold import TSNE\\nfrom sklearn import svm\\nimport lightgbm as lgb'); }\n    "
     },
     "metadata": {}
    },
    {
     "output_type": "display_data",
     "data": {
      "text/plain": "<IPython.core.display.Javascript object>",
      "application/javascript": "\n        if (window._pyforest_update_imports_cell) { window._pyforest_update_imports_cell('from sklearn.ensemble import RandomForestClassifier\\nimport datetime as dt\\nfrom pathlib import Path\\nimport gensim\\nfrom sklearn.ensemble import GradientBoostingRegressor\\nfrom dask import dataframe as dd\\nimport plotly.express as px\\nimport tqdm\\nimport pickle\\nfrom openpyxl import load_workbook\\nfrom sklearn.preprocessing import OneHotEncoder\\nimport plotly.graph_objs as go\\nimport spacy\\nimport xgboost as xgb\\nimport plotly as py\\nimport sklearn\\nfrom sklearn.ensemble import RandomForestRegressor\\nimport matplotlib as mpl\\nimport bokeh\\nfrom sklearn.feature_extraction.text import TfidfVectorizer\\nimport seaborn as sns\\nimport glob\\nimport nltk\\nfrom sklearn.ensemble import GradientBoostingClassifier\\nimport statistics\\nfrom sklearn.model_selection import train_test_split\\nfrom sklearn.manifold import TSNE\\nfrom sklearn import svm\\nimport lightgbm as lgb'); }\n    "
     },
     "metadata": {}
    },
    {
     "output_type": "display_data",
     "data": {
      "text/plain": "<IPython.core.display.Javascript object>",
      "application/javascript": "\n        if (window._pyforest_update_imports_cell) { window._pyforest_update_imports_cell('from sklearn.ensemble import RandomForestClassifier\\nimport datetime as dt\\nfrom pathlib import Path\\nimport gensim\\nfrom sklearn.ensemble import GradientBoostingRegressor\\nfrom dask import dataframe as dd\\nimport plotly.express as px\\nimport tqdm\\nimport pickle\\nfrom openpyxl import load_workbook\\nfrom sklearn.preprocessing import OneHotEncoder\\nimport plotly.graph_objs as go\\nimport spacy\\nimport xgboost as xgb\\nimport plotly as py\\nimport sklearn\\nfrom sklearn.ensemble import RandomForestRegressor\\nimport matplotlib as mpl\\nimport bokeh\\nfrom sklearn.feature_extraction.text import TfidfVectorizer\\nimport seaborn as sns\\nimport glob\\nimport nltk\\nfrom sklearn.ensemble import GradientBoostingClassifier\\nimport statistics\\nfrom sklearn.model_selection import train_test_split\\nfrom sklearn.manifold import TSNE\\nfrom sklearn import svm\\nimport lightgbm as lgb'); }\n    "
     },
     "metadata": {}
    },
    {
     "output_type": "display_data",
     "data": {
      "text/plain": "<IPython.core.display.Javascript object>",
      "application/javascript": "\n        if (window._pyforest_update_imports_cell) { window._pyforest_update_imports_cell('from sklearn.ensemble import RandomForestClassifier\\nimport datetime as dt\\nfrom pathlib import Path\\nimport gensim\\nfrom sklearn.ensemble import GradientBoostingRegressor\\nfrom dask import dataframe as dd\\nimport plotly.express as px\\nimport tqdm\\nimport pickle\\nfrom openpyxl import load_workbook\\nfrom sklearn.preprocessing import OneHotEncoder\\nimport plotly.graph_objs as go\\nimport spacy\\nimport xgboost as xgb\\nimport plotly as py\\nimport sklearn\\nfrom sklearn.ensemble import RandomForestRegressor\\nimport matplotlib as mpl\\nimport bokeh\\nfrom sklearn.feature_extraction.text import TfidfVectorizer\\nimport seaborn as sns\\nimport glob\\nimport nltk\\nfrom sklearn.ensemble import GradientBoostingClassifier\\nimport statistics\\nfrom sklearn.model_selection import train_test_split\\nfrom sklearn.manifold import TSNE\\nfrom sklearn import svm\\nimport lightgbm as lgb'); }\n    "
     },
     "metadata": {}
    },
    {
     "output_type": "display_data",
     "data": {
      "text/plain": "<IPython.core.display.Javascript object>",
      "application/javascript": "\n        if (window._pyforest_update_imports_cell) { window._pyforest_update_imports_cell('from sklearn.ensemble import RandomForestClassifier\\nimport datetime as dt\\nfrom pathlib import Path\\nimport gensim\\nfrom sklearn.ensemble import GradientBoostingRegressor\\nfrom dask import dataframe as dd\\nimport plotly.express as px\\nimport tqdm\\nimport pickle\\nfrom openpyxl import load_workbook\\nfrom sklearn.preprocessing import OneHotEncoder\\nimport plotly.graph_objs as go\\nimport spacy\\nimport xgboost as xgb\\nimport plotly as py\\nimport sklearn\\nfrom sklearn.ensemble import RandomForestRegressor\\nimport matplotlib as mpl\\nimport bokeh\\nfrom sklearn.feature_extraction.text import TfidfVectorizer\\nimport seaborn as sns\\nimport glob\\nimport nltk\\nfrom sklearn.ensemble import GradientBoostingClassifier\\nimport statistics\\nfrom sklearn.model_selection import train_test_split\\nfrom sklearn.manifold import TSNE\\nfrom sklearn import svm\\nimport lightgbm as lgb'); }\n    "
     },
     "metadata": {}
    },
    {
     "output_type": "display_data",
     "data": {
      "text/plain": "<IPython.core.display.Javascript object>",
      "application/javascript": "\n        if (window._pyforest_update_imports_cell) { window._pyforest_update_imports_cell('from sklearn.ensemble import RandomForestClassifier\\nimport datetime as dt\\nfrom pathlib import Path\\nimport gensim\\nfrom sklearn.ensemble import GradientBoostingRegressor\\nfrom dask import dataframe as dd\\nimport plotly.express as px\\nimport tqdm\\nimport pickle\\nfrom openpyxl import load_workbook\\nfrom sklearn.preprocessing import OneHotEncoder\\nimport plotly.graph_objs as go\\nimport spacy\\nimport xgboost as xgb\\nimport plotly as py\\nimport sklearn\\nfrom sklearn.ensemble import RandomForestRegressor\\nimport matplotlib as mpl\\nimport bokeh\\nfrom sklearn.feature_extraction.text import TfidfVectorizer\\nimport seaborn as sns\\nimport glob\\nimport nltk\\nfrom sklearn.ensemble import GradientBoostingClassifier\\nimport statistics\\nfrom sklearn.model_selection import train_test_split\\nfrom sklearn.manifold import TSNE\\nfrom sklearn import svm\\nimport lightgbm as lgb'); }\n    "
     },
     "metadata": {}
    },
    {
     "output_type": "display_data",
     "data": {
      "text/plain": "<IPython.core.display.Javascript object>",
      "application/javascript": "\n        if (window._pyforest_update_imports_cell) { window._pyforest_update_imports_cell('from sklearn.ensemble import RandomForestClassifier\\nimport datetime as dt\\nfrom pathlib import Path\\nimport gensim\\nfrom sklearn.ensemble import GradientBoostingRegressor\\nfrom dask import dataframe as dd\\nimport plotly.express as px\\nimport tqdm\\nimport pickle\\nfrom openpyxl import load_workbook\\nfrom sklearn.preprocessing import OneHotEncoder\\nimport plotly.graph_objs as go\\nimport spacy\\nimport xgboost as xgb\\nimport plotly as py\\nimport sklearn\\nfrom sklearn.ensemble import RandomForestRegressor\\nimport matplotlib as mpl\\nimport bokeh\\nfrom sklearn.feature_extraction.text import TfidfVectorizer\\nimport seaborn as sns\\nimport glob\\nimport nltk\\nfrom sklearn.ensemble import GradientBoostingClassifier\\nimport statistics\\nfrom sklearn.model_selection import train_test_split\\nfrom sklearn.manifold import TSNE\\nfrom sklearn import svm\\nimport lightgbm as lgb'); }\n    "
     },
     "metadata": {}
    },
    {
     "output_type": "display_data",
     "data": {
      "text/plain": "<IPython.core.display.Javascript object>",
      "application/javascript": "\n        if (window._pyforest_update_imports_cell) { window._pyforest_update_imports_cell('from sklearn.ensemble import RandomForestClassifier\\nimport datetime as dt\\nfrom pathlib import Path\\nimport gensim\\nfrom sklearn.ensemble import GradientBoostingRegressor\\nfrom dask import dataframe as dd\\nimport plotly.express as px\\nimport tqdm\\nimport pickle\\nfrom openpyxl import load_workbook\\nfrom sklearn.preprocessing import OneHotEncoder\\nimport plotly.graph_objs as go\\nimport spacy\\nimport xgboost as xgb\\nimport plotly as py\\nimport sklearn\\nfrom sklearn.ensemble import RandomForestRegressor\\nimport matplotlib as mpl\\nimport bokeh\\nfrom sklearn.feature_extraction.text import TfidfVectorizer\\nimport seaborn as sns\\nimport glob\\nimport nltk\\nfrom sklearn.ensemble import GradientBoostingClassifier\\nimport statistics\\nfrom sklearn.model_selection import train_test_split\\nfrom sklearn.manifold import TSNE\\nfrom sklearn import svm\\nimport lightgbm as lgb'); }\n    "
     },
     "metadata": {}
    },
    {
     "output_type": "display_data",
     "data": {
      "text/plain": "<IPython.core.display.Javascript object>",
      "application/javascript": "\n        if (window._pyforest_update_imports_cell) { window._pyforest_update_imports_cell('from sklearn.ensemble import RandomForestClassifier\\nimport datetime as dt\\nfrom pathlib import Path\\nimport gensim\\nfrom sklearn.ensemble import GradientBoostingRegressor\\nfrom dask import dataframe as dd\\nimport plotly.express as px\\nimport tqdm\\nimport pickle\\nfrom openpyxl import load_workbook\\nfrom sklearn.preprocessing import OneHotEncoder\\nimport plotly.graph_objs as go\\nimport spacy\\nimport xgboost as xgb\\nimport plotly as py\\nimport sklearn\\nfrom sklearn.ensemble import RandomForestRegressor\\nimport matplotlib as mpl\\nimport bokeh\\nfrom sklearn.feature_extraction.text import TfidfVectorizer\\nimport seaborn as sns\\nimport glob\\nimport nltk\\nfrom sklearn.ensemble import GradientBoostingClassifier\\nimport statistics\\nfrom sklearn.model_selection import train_test_split\\nfrom sklearn.manifold import TSNE\\nfrom sklearn import svm\\nimport lightgbm as lgb'); }\n    "
     },
     "metadata": {}
    },
    {
     "output_type": "display_data",
     "data": {
      "text/plain": "<IPython.core.display.Javascript object>",
      "application/javascript": "\n        if (window._pyforest_update_imports_cell) { window._pyforest_update_imports_cell('from sklearn.ensemble import RandomForestClassifier\\nimport datetime as dt\\nfrom pathlib import Path\\nimport gensim\\nfrom sklearn.ensemble import GradientBoostingRegressor\\nfrom dask import dataframe as dd\\nimport plotly.express as px\\nimport tqdm\\nimport pickle\\nfrom openpyxl import load_workbook\\nfrom sklearn.preprocessing import OneHotEncoder\\nimport plotly.graph_objs as go\\nimport spacy\\nimport xgboost as xgb\\nimport plotly as py\\nimport sklearn\\nfrom sklearn.ensemble import RandomForestRegressor\\nimport matplotlib as mpl\\nimport bokeh\\nfrom sklearn.feature_extraction.text import TfidfVectorizer\\nimport seaborn as sns\\nimport glob\\nimport nltk\\nfrom sklearn.ensemble import GradientBoostingClassifier\\nimport statistics\\nfrom sklearn.model_selection import train_test_split\\nfrom sklearn.manifold import TSNE\\nfrom sklearn import svm\\nimport lightgbm as lgb'); }\n    "
     },
     "metadata": {}
    },
    {
     "output_type": "display_data",
     "data": {
      "text/plain": "<IPython.core.display.Javascript object>",
      "application/javascript": "\n        if (window._pyforest_update_imports_cell) { window._pyforest_update_imports_cell('from sklearn.ensemble import RandomForestClassifier\\nimport datetime as dt\\nfrom pathlib import Path\\nimport gensim\\nfrom sklearn.ensemble import GradientBoostingRegressor\\nfrom dask import dataframe as dd\\nimport plotly.express as px\\nimport tqdm\\nimport pickle\\nfrom openpyxl import load_workbook\\nfrom sklearn.preprocessing import OneHotEncoder\\nimport plotly.graph_objs as go\\nimport spacy\\nimport xgboost as xgb\\nimport plotly as py\\nimport sklearn\\nfrom sklearn.ensemble import RandomForestRegressor\\nimport matplotlib as mpl\\nimport bokeh\\nfrom sklearn.feature_extraction.text import TfidfVectorizer\\nimport seaborn as sns\\nimport glob\\nimport nltk\\nfrom sklearn.ensemble import GradientBoostingClassifier\\nimport statistics\\nfrom sklearn.model_selection import train_test_split\\nfrom sklearn.manifold import TSNE\\nfrom sklearn import svm\\nimport lightgbm as lgb'); }\n    "
     },
     "metadata": {}
    },
    {
     "output_type": "display_data",
     "data": {
      "text/plain": "<IPython.core.display.Javascript object>",
      "application/javascript": "\n        if (window._pyforest_update_imports_cell) { window._pyforest_update_imports_cell('from sklearn.ensemble import RandomForestClassifier\\nimport datetime as dt\\nfrom pathlib import Path\\nimport gensim\\nfrom sklearn.ensemble import GradientBoostingRegressor\\nfrom dask import dataframe as dd\\nimport plotly.express as px\\nimport tqdm\\nimport pickle\\nfrom openpyxl import load_workbook\\nfrom sklearn.preprocessing import OneHotEncoder\\nimport plotly.graph_objs as go\\nimport spacy\\nimport xgboost as xgb\\nimport plotly as py\\nimport sklearn\\nfrom sklearn.ensemble import RandomForestRegressor\\nimport matplotlib as mpl\\nimport bokeh\\nfrom sklearn.feature_extraction.text import TfidfVectorizer\\nimport seaborn as sns\\nimport glob\\nimport nltk\\nfrom sklearn.ensemble import GradientBoostingClassifier\\nimport statistics\\nfrom sklearn.model_selection import train_test_split\\nfrom sklearn.manifold import TSNE\\nfrom sklearn import svm\\nimport lightgbm as lgb'); }\n    "
     },
     "metadata": {}
    },
    {
     "output_type": "display_data",
     "data": {
      "text/plain": "<IPython.core.display.Javascript object>",
      "application/javascript": "\n        if (window._pyforest_update_imports_cell) { window._pyforest_update_imports_cell('from sklearn.ensemble import RandomForestClassifier\\nimport datetime as dt\\nfrom pathlib import Path\\nimport gensim\\nfrom sklearn.ensemble import GradientBoostingRegressor\\nfrom dask import dataframe as dd\\nimport plotly.express as px\\nimport tqdm\\nimport pickle\\nfrom openpyxl import load_workbook\\nfrom sklearn.preprocessing import OneHotEncoder\\nimport plotly.graph_objs as go\\nimport spacy\\nimport xgboost as xgb\\nimport plotly as py\\nimport sklearn\\nfrom sklearn.ensemble import RandomForestRegressor\\nimport matplotlib as mpl\\nimport bokeh\\nfrom sklearn.feature_extraction.text import TfidfVectorizer\\nimport seaborn as sns\\nimport glob\\nimport nltk\\nfrom sklearn.ensemble import GradientBoostingClassifier\\nimport statistics\\nfrom sklearn.model_selection import train_test_split\\nfrom sklearn.manifold import TSNE\\nfrom sklearn import svm\\nimport lightgbm as lgb'); }\n    "
     },
     "metadata": {}
    },
    {
     "output_type": "display_data",
     "data": {
      "text/plain": "<IPython.core.display.Javascript object>",
      "application/javascript": "\n        if (window._pyforest_update_imports_cell) { window._pyforest_update_imports_cell('from sklearn.ensemble import RandomForestClassifier\\nimport datetime as dt\\nfrom pathlib import Path\\nimport gensim\\nfrom sklearn.ensemble import GradientBoostingRegressor\\nfrom dask import dataframe as dd\\nimport plotly.express as px\\nimport tqdm\\nimport pickle\\nfrom openpyxl import load_workbook\\nfrom sklearn.preprocessing import OneHotEncoder\\nimport plotly.graph_objs as go\\nimport spacy\\nimport xgboost as xgb\\nimport plotly as py\\nimport sklearn\\nfrom sklearn.ensemble import RandomForestRegressor\\nimport matplotlib as mpl\\nimport bokeh\\nfrom sklearn.feature_extraction.text import TfidfVectorizer\\nimport seaborn as sns\\nimport glob\\nimport nltk\\nfrom sklearn.ensemble import GradientBoostingClassifier\\nimport statistics\\nfrom sklearn.model_selection import train_test_split\\nfrom sklearn.manifold import TSNE\\nfrom sklearn import svm\\nimport lightgbm as lgb'); }\n    "
     },
     "metadata": {}
    },
    {
     "output_type": "display_data",
     "data": {
      "text/plain": "<IPython.core.display.Javascript object>",
      "application/javascript": "\n        if (window._pyforest_update_imports_cell) { window._pyforest_update_imports_cell('from sklearn.ensemble import RandomForestClassifier\\nimport datetime as dt\\nfrom pathlib import Path\\nimport gensim\\nfrom sklearn.ensemble import GradientBoostingRegressor\\nfrom dask import dataframe as dd\\nimport plotly.express as px\\nimport tqdm\\nimport pickle\\nfrom openpyxl import load_workbook\\nfrom sklearn.preprocessing import OneHotEncoder\\nimport plotly.graph_objs as go\\nimport spacy\\nimport xgboost as xgb\\nimport plotly as py\\nimport sklearn\\nfrom sklearn.ensemble import RandomForestRegressor\\nimport matplotlib as mpl\\nimport bokeh\\nfrom sklearn.feature_extraction.text import TfidfVectorizer\\nimport seaborn as sns\\nimport glob\\nimport nltk\\nfrom sklearn.ensemble import GradientBoostingClassifier\\nimport statistics\\nfrom sklearn.model_selection import train_test_split\\nfrom sklearn.manifold import TSNE\\nfrom sklearn import svm\\nimport lightgbm as lgb'); }\n    "
     },
     "metadata": {}
    },
    {
     "output_type": "display_data",
     "data": {
      "text/plain": "<IPython.core.display.Javascript object>",
      "application/javascript": "\n        if (window._pyforest_update_imports_cell) { window._pyforest_update_imports_cell('from sklearn.ensemble import RandomForestClassifier\\nimport datetime as dt\\nfrom pathlib import Path\\nimport gensim\\nfrom sklearn.ensemble import GradientBoostingRegressor\\nfrom dask import dataframe as dd\\nimport plotly.express as px\\nimport tqdm\\nimport pickle\\nfrom openpyxl import load_workbook\\nfrom sklearn.preprocessing import OneHotEncoder\\nimport plotly.graph_objs as go\\nimport spacy\\nimport xgboost as xgb\\nimport plotly as py\\nimport sklearn\\nfrom sklearn.ensemble import RandomForestRegressor\\nimport matplotlib as mpl\\nimport bokeh\\nfrom sklearn.feature_extraction.text import TfidfVectorizer\\nimport seaborn as sns\\nimport glob\\nimport nltk\\nfrom sklearn.ensemble import GradientBoostingClassifier\\nimport statistics\\nfrom sklearn.model_selection import train_test_split\\nfrom sklearn.manifold import TSNE\\nfrom sklearn import svm\\nimport lightgbm as lgb'); }\n    "
     },
     "metadata": {}
    },
    {
     "output_type": "display_data",
     "data": {
      "text/plain": "<IPython.core.display.Javascript object>",
      "application/javascript": "\n        if (window._pyforest_update_imports_cell) { window._pyforest_update_imports_cell('from sklearn.ensemble import RandomForestClassifier\\nimport datetime as dt\\nfrom pathlib import Path\\nimport gensim\\nfrom sklearn.ensemble import GradientBoostingRegressor\\nfrom dask import dataframe as dd\\nimport plotly.express as px\\nimport tqdm\\nimport pickle\\nfrom openpyxl import load_workbook\\nfrom sklearn.preprocessing import OneHotEncoder\\nimport plotly.graph_objs as go\\nimport spacy\\nimport xgboost as xgb\\nimport plotly as py\\nimport sklearn\\nfrom sklearn.ensemble import RandomForestRegressor\\nimport matplotlib as mpl\\nimport bokeh\\nfrom sklearn.feature_extraction.text import TfidfVectorizer\\nimport seaborn as sns\\nimport glob\\nimport nltk\\nfrom sklearn.ensemble import GradientBoostingClassifier\\nimport statistics\\nfrom sklearn.model_selection import train_test_split\\nfrom sklearn.manifold import TSNE\\nfrom sklearn import svm\\nimport lightgbm as lgb'); }\n    "
     },
     "metadata": {}
    },
    {
     "output_type": "display_data",
     "data": {
      "text/plain": "<IPython.core.display.Javascript object>",
      "application/javascript": "\n        if (window._pyforest_update_imports_cell) { window._pyforest_update_imports_cell('from sklearn.ensemble import RandomForestClassifier\\nimport datetime as dt\\nfrom pathlib import Path\\nimport gensim\\nfrom sklearn.ensemble import GradientBoostingRegressor\\nfrom dask import dataframe as dd\\nimport plotly.express as px\\nimport tqdm\\nimport pickle\\nfrom openpyxl import load_workbook\\nfrom sklearn.preprocessing import OneHotEncoder\\nimport plotly.graph_objs as go\\nimport spacy\\nimport xgboost as xgb\\nimport plotly as py\\nimport sklearn\\nfrom sklearn.ensemble import RandomForestRegressor\\nimport matplotlib as mpl\\nimport bokeh\\nfrom sklearn.feature_extraction.text import TfidfVectorizer\\nimport seaborn as sns\\nimport glob\\nimport nltk\\nfrom sklearn.ensemble import GradientBoostingClassifier\\nimport statistics\\nfrom sklearn.model_selection import train_test_split\\nfrom sklearn.manifold import TSNE\\nfrom sklearn import svm\\nimport lightgbm as lgb'); }\n    "
     },
     "metadata": {}
    },
    {
     "output_type": "display_data",
     "data": {
      "text/plain": "<IPython.core.display.Javascript object>",
      "application/javascript": "\n        if (window._pyforest_update_imports_cell) { window._pyforest_update_imports_cell('from sklearn.ensemble import RandomForestClassifier\\nimport datetime as dt\\nfrom pathlib import Path\\nimport gensim\\nfrom sklearn.ensemble import GradientBoostingRegressor\\nfrom dask import dataframe as dd\\nimport plotly.express as px\\nimport tqdm\\nimport pickle\\nfrom openpyxl import load_workbook\\nfrom sklearn.preprocessing import OneHotEncoder\\nimport plotly.graph_objs as go\\nimport spacy\\nimport xgboost as xgb\\nimport plotly as py\\nimport sklearn\\nfrom sklearn.ensemble import RandomForestRegressor\\nimport matplotlib as mpl\\nimport bokeh\\nfrom sklearn.feature_extraction.text import TfidfVectorizer\\nimport seaborn as sns\\nimport glob\\nimport nltk\\nfrom sklearn.ensemble import GradientBoostingClassifier\\nimport statistics\\nfrom sklearn.model_selection import train_test_split\\nfrom sklearn.manifold import TSNE\\nfrom sklearn import svm\\nimport lightgbm as lgb'); }\n    "
     },
     "metadata": {}
    },
    {
     "output_type": "display_data",
     "data": {
      "text/plain": "<IPython.core.display.Javascript object>",
      "application/javascript": "\n        if (window._pyforest_update_imports_cell) { window._pyforest_update_imports_cell('from sklearn.ensemble import RandomForestClassifier\\nimport datetime as dt\\nfrom pathlib import Path\\nimport gensim\\nfrom sklearn.ensemble import GradientBoostingRegressor\\nfrom dask import dataframe as dd\\nimport plotly.express as px\\nimport tqdm\\nimport pickle\\nfrom openpyxl import load_workbook\\nfrom sklearn.preprocessing import OneHotEncoder\\nimport plotly.graph_objs as go\\nimport spacy\\nimport xgboost as xgb\\nimport plotly as py\\nimport sklearn\\nfrom sklearn.ensemble import RandomForestRegressor\\nimport matplotlib as mpl\\nimport bokeh\\nfrom sklearn.feature_extraction.text import TfidfVectorizer\\nimport seaborn as sns\\nimport glob\\nimport nltk\\nfrom sklearn.ensemble import GradientBoostingClassifier\\nimport statistics\\nfrom sklearn.model_selection import train_test_split\\nfrom sklearn.manifold import TSNE\\nfrom sklearn import svm\\nimport lightgbm as lgb'); }\n    "
     },
     "metadata": {}
    },
    {
     "output_type": "display_data",
     "data": {
      "text/plain": "<IPython.core.display.Javascript object>",
      "application/javascript": "\n        if (window._pyforest_update_imports_cell) { window._pyforest_update_imports_cell('from sklearn.ensemble import RandomForestClassifier\\nimport datetime as dt\\nfrom pathlib import Path\\nimport gensim\\nfrom sklearn.ensemble import GradientBoostingRegressor\\nfrom dask import dataframe as dd\\nimport plotly.express as px\\nimport tqdm\\nimport pickle\\nfrom openpyxl import load_workbook\\nfrom sklearn.preprocessing import OneHotEncoder\\nimport plotly.graph_objs as go\\nimport spacy\\nimport xgboost as xgb\\nimport plotly as py\\nimport sklearn\\nfrom sklearn.ensemble import RandomForestRegressor\\nimport matplotlib as mpl\\nimport bokeh\\nfrom sklearn.feature_extraction.text import TfidfVectorizer\\nimport seaborn as sns\\nimport glob\\nimport nltk\\nfrom sklearn.ensemble import GradientBoostingClassifier\\nimport statistics\\nfrom sklearn.model_selection import train_test_split\\nfrom sklearn.manifold import TSNE\\nfrom sklearn import svm\\nimport lightgbm as lgb'); }\n    "
     },
     "metadata": {}
    },
    {
     "output_type": "display_data",
     "data": {
      "text/plain": "<IPython.core.display.Javascript object>",
      "application/javascript": "\n        if (window._pyforest_update_imports_cell) { window._pyforest_update_imports_cell('from sklearn.ensemble import RandomForestClassifier\\nimport datetime as dt\\nfrom pathlib import Path\\nimport gensim\\nfrom sklearn.ensemble import GradientBoostingRegressor\\nfrom dask import dataframe as dd\\nimport plotly.express as px\\nimport tqdm\\nimport pickle\\nfrom openpyxl import load_workbook\\nfrom sklearn.preprocessing import OneHotEncoder\\nimport plotly.graph_objs as go\\nimport spacy\\nimport xgboost as xgb\\nimport plotly as py\\nimport sklearn\\nfrom sklearn.ensemble import RandomForestRegressor\\nimport matplotlib as mpl\\nimport bokeh\\nfrom sklearn.feature_extraction.text import TfidfVectorizer\\nimport seaborn as sns\\nimport glob\\nimport nltk\\nfrom sklearn.ensemble import GradientBoostingClassifier\\nimport statistics\\nfrom sklearn.model_selection import train_test_split\\nfrom sklearn.manifold import TSNE\\nfrom sklearn import svm\\nimport lightgbm as lgb'); }\n    "
     },
     "metadata": {}
    },
    {
     "output_type": "display_data",
     "data": {
      "text/plain": "<IPython.core.display.Javascript object>",
      "application/javascript": "\n        if (window._pyforest_update_imports_cell) { window._pyforest_update_imports_cell('from sklearn.ensemble import RandomForestClassifier\\nimport datetime as dt\\nfrom pathlib import Path\\nimport gensim\\nfrom sklearn.ensemble import GradientBoostingRegressor\\nfrom dask import dataframe as dd\\nimport plotly.express as px\\nimport tqdm\\nimport pickle\\nfrom openpyxl import load_workbook\\nfrom sklearn.preprocessing import OneHotEncoder\\nimport plotly.graph_objs as go\\nimport spacy\\nimport xgboost as xgb\\nimport plotly as py\\nimport sklearn\\nfrom sklearn.ensemble import RandomForestRegressor\\nimport matplotlib as mpl\\nimport bokeh\\nfrom sklearn.feature_extraction.text import TfidfVectorizer\\nimport seaborn as sns\\nimport glob\\nimport nltk\\nfrom sklearn.ensemble import GradientBoostingClassifier\\nimport statistics\\nfrom sklearn.model_selection import train_test_split\\nfrom sklearn.manifold import TSNE\\nfrom sklearn import svm\\nimport lightgbm as lgb'); }\n    "
     },
     "metadata": {}
    },
    {
     "output_type": "display_data",
     "data": {
      "text/plain": "<IPython.core.display.Javascript object>",
      "application/javascript": "\n        if (window._pyforest_update_imports_cell) { window._pyforest_update_imports_cell('from sklearn.ensemble import RandomForestClassifier\\nimport datetime as dt\\nfrom pathlib import Path\\nimport gensim\\nfrom sklearn.ensemble import GradientBoostingRegressor\\nfrom dask import dataframe as dd\\nimport plotly.express as px\\nimport tqdm\\nimport pickle\\nfrom openpyxl import load_workbook\\nfrom sklearn.preprocessing import OneHotEncoder\\nimport plotly.graph_objs as go\\nimport spacy\\nimport xgboost as xgb\\nimport plotly as py\\nimport sklearn\\nfrom sklearn.ensemble import RandomForestRegressor\\nimport matplotlib as mpl\\nimport bokeh\\nfrom sklearn.feature_extraction.text import TfidfVectorizer\\nimport seaborn as sns\\nimport glob\\nimport nltk\\nfrom sklearn.ensemble import GradientBoostingClassifier\\nimport statistics\\nfrom sklearn.model_selection import train_test_split\\nfrom sklearn.manifold import TSNE\\nfrom sklearn import svm\\nimport lightgbm as lgb'); }\n    "
     },
     "metadata": {}
    },
    {
     "output_type": "display_data",
     "data": {
      "text/plain": "<IPython.core.display.Javascript object>",
      "application/javascript": "\n        if (window._pyforest_update_imports_cell) { window._pyforest_update_imports_cell('from sklearn.ensemble import RandomForestClassifier\\nimport datetime as dt\\nfrom pathlib import Path\\nimport gensim\\nfrom sklearn.ensemble import GradientBoostingRegressor\\nfrom dask import dataframe as dd\\nimport plotly.express as px\\nimport tqdm\\nimport pickle\\nfrom openpyxl import load_workbook\\nfrom sklearn.preprocessing import OneHotEncoder\\nimport plotly.graph_objs as go\\nimport spacy\\nimport xgboost as xgb\\nimport plotly as py\\nimport sklearn\\nfrom sklearn.ensemble import RandomForestRegressor\\nimport matplotlib as mpl\\nimport bokeh\\nfrom sklearn.feature_extraction.text import TfidfVectorizer\\nimport seaborn as sns\\nimport glob\\nimport nltk\\nfrom sklearn.ensemble import GradientBoostingClassifier\\nimport statistics\\nfrom sklearn.model_selection import train_test_split\\nfrom sklearn.manifold import TSNE\\nfrom sklearn import svm\\nimport lightgbm as lgb'); }\n    "
     },
     "metadata": {}
    },
    {
     "output_type": "display_data",
     "data": {
      "text/plain": "<IPython.core.display.Javascript object>",
      "application/javascript": "\n        if (window._pyforest_update_imports_cell) { window._pyforest_update_imports_cell('from sklearn.ensemble import RandomForestClassifier\\nimport datetime as dt\\nfrom pathlib import Path\\nimport gensim\\nfrom sklearn.ensemble import GradientBoostingRegressor\\nfrom dask import dataframe as dd\\nimport plotly.express as px\\nimport tqdm\\nimport pickle\\nfrom openpyxl import load_workbook\\nfrom sklearn.preprocessing import OneHotEncoder\\nimport plotly.graph_objs as go\\nimport spacy\\nimport xgboost as xgb\\nimport plotly as py\\nimport sklearn\\nfrom sklearn.ensemble import RandomForestRegressor\\nimport matplotlib as mpl\\nimport bokeh\\nfrom sklearn.feature_extraction.text import TfidfVectorizer\\nimport seaborn as sns\\nimport glob\\nimport nltk\\nfrom sklearn.ensemble import GradientBoostingClassifier\\nimport statistics\\nfrom sklearn.model_selection import train_test_split\\nfrom sklearn.manifold import TSNE\\nfrom sklearn import svm\\nimport lightgbm as lgb'); }\n    "
     },
     "metadata": {}
    },
    {
     "output_type": "display_data",
     "data": {
      "text/plain": "<IPython.core.display.Javascript object>",
      "application/javascript": "\n        if (window._pyforest_update_imports_cell) { window._pyforest_update_imports_cell('from sklearn.ensemble import RandomForestClassifier\\nimport datetime as dt\\nfrom pathlib import Path\\nimport gensim\\nfrom sklearn.ensemble import GradientBoostingRegressor\\nfrom dask import dataframe as dd\\nimport plotly.express as px\\nimport tqdm\\nimport pickle\\nfrom openpyxl import load_workbook\\nfrom sklearn.preprocessing import OneHotEncoder\\nimport plotly.graph_objs as go\\nimport spacy\\nimport xgboost as xgb\\nimport plotly as py\\nimport sklearn\\nfrom sklearn.ensemble import RandomForestRegressor\\nimport matplotlib as mpl\\nimport bokeh\\nfrom sklearn.feature_extraction.text import TfidfVectorizer\\nimport seaborn as sns\\nimport glob\\nimport nltk\\nfrom sklearn.ensemble import GradientBoostingClassifier\\nimport statistics\\nfrom sklearn.model_selection import train_test_split\\nfrom sklearn.manifold import TSNE\\nfrom sklearn import svm\\nimport lightgbm as lgb'); }\n    "
     },
     "metadata": {}
    },
    {
     "output_type": "display_data",
     "data": {
      "text/plain": "<IPython.core.display.Javascript object>",
      "application/javascript": "\n        if (window._pyforest_update_imports_cell) { window._pyforest_update_imports_cell('from sklearn.ensemble import RandomForestClassifier\\nimport datetime as dt\\nfrom pathlib import Path\\nimport gensim\\nfrom sklearn.ensemble import GradientBoostingRegressor\\nfrom dask import dataframe as dd\\nimport plotly.express as px\\nimport tqdm\\nimport pickle\\nfrom openpyxl import load_workbook\\nfrom sklearn.preprocessing import OneHotEncoder\\nimport plotly.graph_objs as go\\nimport spacy\\nimport xgboost as xgb\\nimport plotly as py\\nimport sklearn\\nfrom sklearn.ensemble import RandomForestRegressor\\nimport matplotlib as mpl\\nimport bokeh\\nfrom sklearn.feature_extraction.text import TfidfVectorizer\\nimport seaborn as sns\\nimport glob\\nimport nltk\\nfrom sklearn.ensemble import GradientBoostingClassifier\\nimport statistics\\nfrom sklearn.model_selection import train_test_split\\nfrom sklearn.manifold import TSNE\\nfrom sklearn import svm\\nimport lightgbm as lgb'); }\n    "
     },
     "metadata": {}
    },
    {
     "output_type": "display_data",
     "data": {
      "text/plain": "<IPython.core.display.Javascript object>",
      "application/javascript": "\n        if (window._pyforest_update_imports_cell) { window._pyforest_update_imports_cell('from sklearn.ensemble import RandomForestClassifier\\nimport datetime as dt\\nfrom pathlib import Path\\nimport gensim\\nfrom sklearn.ensemble import GradientBoostingRegressor\\nfrom dask import dataframe as dd\\nimport plotly.express as px\\nimport tqdm\\nimport pickle\\nfrom openpyxl import load_workbook\\nfrom sklearn.preprocessing import OneHotEncoder\\nimport plotly.graph_objs as go\\nimport spacy\\nimport xgboost as xgb\\nimport plotly as py\\nimport sklearn\\nfrom sklearn.ensemble import RandomForestRegressor\\nimport matplotlib as mpl\\nimport bokeh\\nfrom sklearn.feature_extraction.text import TfidfVectorizer\\nimport seaborn as sns\\nimport glob\\nimport nltk\\nfrom sklearn.ensemble import GradientBoostingClassifier\\nimport statistics\\nfrom sklearn.model_selection import train_test_split\\nfrom sklearn.manifold import TSNE\\nfrom sklearn import svm\\nimport lightgbm as lgb'); }\n    "
     },
     "metadata": {}
    },
    {
     "output_type": "display_data",
     "data": {
      "text/plain": "<IPython.core.display.Javascript object>",
      "application/javascript": "\n        if (window._pyforest_update_imports_cell) { window._pyforest_update_imports_cell('from sklearn.ensemble import RandomForestClassifier\\nimport datetime as dt\\nfrom pathlib import Path\\nimport gensim\\nfrom sklearn.ensemble import GradientBoostingRegressor\\nfrom dask import dataframe as dd\\nimport plotly.express as px\\nimport tqdm\\nimport pickle\\nfrom openpyxl import load_workbook\\nfrom sklearn.preprocessing import OneHotEncoder\\nimport plotly.graph_objs as go\\nimport spacy\\nimport xgboost as xgb\\nimport plotly as py\\nimport sklearn\\nfrom sklearn.ensemble import RandomForestRegressor\\nimport matplotlib as mpl\\nimport bokeh\\nfrom sklearn.feature_extraction.text import TfidfVectorizer\\nimport seaborn as sns\\nimport glob\\nimport nltk\\nfrom sklearn.ensemble import GradientBoostingClassifier\\nimport statistics\\nfrom sklearn.model_selection import train_test_split\\nfrom sklearn.manifold import TSNE\\nfrom sklearn import svm\\nimport lightgbm as lgb'); }\n    "
     },
     "metadata": {}
    },
    {
     "output_type": "display_data",
     "data": {
      "text/plain": "<IPython.core.display.Javascript object>",
      "application/javascript": "\n        if (window._pyforest_update_imports_cell) { window._pyforest_update_imports_cell('from sklearn.ensemble import RandomForestClassifier\\nimport datetime as dt\\nfrom pathlib import Path\\nimport gensim\\nfrom sklearn.ensemble import GradientBoostingRegressor\\nfrom dask import dataframe as dd\\nimport plotly.express as px\\nimport tqdm\\nimport pickle\\nfrom openpyxl import load_workbook\\nfrom sklearn.preprocessing import OneHotEncoder\\nimport plotly.graph_objs as go\\nimport spacy\\nimport xgboost as xgb\\nimport plotly as py\\nimport sklearn\\nfrom sklearn.ensemble import RandomForestRegressor\\nimport matplotlib as mpl\\nimport bokeh\\nfrom sklearn.feature_extraction.text import TfidfVectorizer\\nimport seaborn as sns\\nimport glob\\nimport nltk\\nfrom sklearn.ensemble import GradientBoostingClassifier\\nimport statistics\\nfrom sklearn.model_selection import train_test_split\\nfrom sklearn.manifold import TSNE\\nfrom sklearn import svm\\nimport lightgbm as lgb'); }\n    "
     },
     "metadata": {}
    },
    {
     "output_type": "display_data",
     "data": {
      "text/plain": "<IPython.core.display.Javascript object>",
      "application/javascript": "\n        if (window._pyforest_update_imports_cell) { window._pyforest_update_imports_cell('from sklearn.ensemble import RandomForestClassifier\\nimport datetime as dt\\nfrom pathlib import Path\\nimport gensim\\nfrom sklearn.ensemble import GradientBoostingRegressor\\nfrom dask import dataframe as dd\\nimport plotly.express as px\\nimport tqdm\\nimport pickle\\nfrom openpyxl import load_workbook\\nfrom sklearn.preprocessing import OneHotEncoder\\nimport plotly.graph_objs as go\\nimport spacy\\nimport xgboost as xgb\\nimport plotly as py\\nimport sklearn\\nfrom sklearn.ensemble import RandomForestRegressor\\nimport matplotlib as mpl\\nimport bokeh\\nfrom sklearn.feature_extraction.text import TfidfVectorizer\\nimport seaborn as sns\\nimport glob\\nimport nltk\\nfrom sklearn.ensemble import GradientBoostingClassifier\\nimport statistics\\nfrom sklearn.model_selection import train_test_split\\nfrom sklearn.manifold import TSNE\\nfrom sklearn import svm\\nimport lightgbm as lgb'); }\n    "
     },
     "metadata": {}
    },
    {
     "output_type": "display_data",
     "data": {
      "text/plain": "<IPython.core.display.Javascript object>",
      "application/javascript": "\n        if (window._pyforest_update_imports_cell) { window._pyforest_update_imports_cell('from sklearn.ensemble import RandomForestClassifier\\nimport datetime as dt\\nfrom pathlib import Path\\nimport gensim\\nfrom sklearn.ensemble import GradientBoostingRegressor\\nfrom dask import dataframe as dd\\nimport plotly.express as px\\nimport tqdm\\nimport pickle\\nfrom openpyxl import load_workbook\\nfrom sklearn.preprocessing import OneHotEncoder\\nimport plotly.graph_objs as go\\nimport spacy\\nimport xgboost as xgb\\nimport plotly as py\\nimport sklearn\\nfrom sklearn.ensemble import RandomForestRegressor\\nimport matplotlib as mpl\\nimport bokeh\\nfrom sklearn.feature_extraction.text import TfidfVectorizer\\nimport seaborn as sns\\nimport glob\\nimport nltk\\nfrom sklearn.ensemble import GradientBoostingClassifier\\nimport statistics\\nfrom sklearn.model_selection import train_test_split\\nfrom sklearn.manifold import TSNE\\nfrom sklearn import svm\\nimport lightgbm as lgb'); }\n    "
     },
     "metadata": {}
    },
    {
     "output_type": "display_data",
     "data": {
      "text/plain": "<IPython.core.display.Javascript object>",
      "application/javascript": "\n        if (window._pyforest_update_imports_cell) { window._pyforest_update_imports_cell('from sklearn.ensemble import RandomForestClassifier\\nimport datetime as dt\\nfrom pathlib import Path\\nimport gensim\\nfrom sklearn.ensemble import GradientBoostingRegressor\\nfrom dask import dataframe as dd\\nimport plotly.express as px\\nimport tqdm\\nimport pickle\\nfrom openpyxl import load_workbook\\nfrom sklearn.preprocessing import OneHotEncoder\\nimport plotly.graph_objs as go\\nimport spacy\\nimport xgboost as xgb\\nimport plotly as py\\nimport sklearn\\nfrom sklearn.ensemble import RandomForestRegressor\\nimport matplotlib as mpl\\nimport bokeh\\nfrom sklearn.feature_extraction.text import TfidfVectorizer\\nimport seaborn as sns\\nimport glob\\nimport nltk\\nfrom sklearn.ensemble import GradientBoostingClassifier\\nimport statistics\\nfrom sklearn.model_selection import train_test_split\\nfrom sklearn.manifold import TSNE\\nfrom sklearn import svm\\nimport lightgbm as lgb'); }\n    "
     },
     "metadata": {}
    },
    {
     "output_type": "display_data",
     "data": {
      "text/plain": "<IPython.core.display.Javascript object>",
      "application/javascript": "\n        if (window._pyforest_update_imports_cell) { window._pyforest_update_imports_cell('from sklearn.ensemble import RandomForestClassifier\\nimport datetime as dt\\nfrom pathlib import Path\\nimport gensim\\nfrom sklearn.ensemble import GradientBoostingRegressor\\nfrom dask import dataframe as dd\\nimport plotly.express as px\\nimport tqdm\\nimport pickle\\nfrom openpyxl import load_workbook\\nfrom sklearn.preprocessing import OneHotEncoder\\nimport plotly.graph_objs as go\\nimport spacy\\nimport xgboost as xgb\\nimport plotly as py\\nimport sklearn\\nfrom sklearn.ensemble import RandomForestRegressor\\nimport matplotlib as mpl\\nimport bokeh\\nfrom sklearn.feature_extraction.text import TfidfVectorizer\\nimport seaborn as sns\\nimport glob\\nimport nltk\\nfrom sklearn.ensemble import GradientBoostingClassifier\\nimport statistics\\nfrom sklearn.model_selection import train_test_split\\nfrom sklearn.manifold import TSNE\\nfrom sklearn import svm\\nimport lightgbm as lgb'); }\n    "
     },
     "metadata": {}
    },
    {
     "output_type": "display_data",
     "data": {
      "text/plain": "<IPython.core.display.Javascript object>",
      "application/javascript": "\n        if (window._pyforest_update_imports_cell) { window._pyforest_update_imports_cell('from sklearn.ensemble import RandomForestClassifier\\nimport datetime as dt\\nfrom pathlib import Path\\nimport gensim\\nfrom sklearn.ensemble import GradientBoostingRegressor\\nfrom dask import dataframe as dd\\nimport plotly.express as px\\nimport tqdm\\nimport pickle\\nfrom openpyxl import load_workbook\\nfrom sklearn.preprocessing import OneHotEncoder\\nimport plotly.graph_objs as go\\nimport spacy\\nimport xgboost as xgb\\nimport plotly as py\\nimport sklearn\\nfrom sklearn.ensemble import RandomForestRegressor\\nimport matplotlib as mpl\\nimport bokeh\\nfrom sklearn.feature_extraction.text import TfidfVectorizer\\nimport seaborn as sns\\nimport glob\\nimport nltk\\nfrom sklearn.ensemble import GradientBoostingClassifier\\nimport statistics\\nfrom sklearn.model_selection import train_test_split\\nfrom sklearn.manifold import TSNE\\nfrom sklearn import svm\\nimport lightgbm as lgb'); }\n    "
     },
     "metadata": {}
    },
    {
     "output_type": "display_data",
     "data": {
      "text/plain": "<IPython.core.display.Javascript object>",
      "application/javascript": "\n        if (window._pyforest_update_imports_cell) { window._pyforest_update_imports_cell('from sklearn.ensemble import RandomForestClassifier\\nimport datetime as dt\\nfrom pathlib import Path\\nimport gensim\\nfrom sklearn.ensemble import GradientBoostingRegressor\\nfrom dask import dataframe as dd\\nimport plotly.express as px\\nimport tqdm\\nimport pickle\\nfrom openpyxl import load_workbook\\nfrom sklearn.preprocessing import OneHotEncoder\\nimport plotly.graph_objs as go\\nimport spacy\\nimport xgboost as xgb\\nimport plotly as py\\nimport sklearn\\nfrom sklearn.ensemble import RandomForestRegressor\\nimport matplotlib as mpl\\nimport bokeh\\nfrom sklearn.feature_extraction.text import TfidfVectorizer\\nimport seaborn as sns\\nimport glob\\nimport nltk\\nfrom sklearn.ensemble import GradientBoostingClassifier\\nimport statistics\\nfrom sklearn.model_selection import train_test_split\\nfrom sklearn.manifold import TSNE\\nfrom sklearn import svm\\nimport lightgbm as lgb'); }\n    "
     },
     "metadata": {}
    },
    {
     "output_type": "display_data",
     "data": {
      "text/plain": "<IPython.core.display.Javascript object>",
      "application/javascript": "\n        if (window._pyforest_update_imports_cell) { window._pyforest_update_imports_cell('from sklearn.ensemble import RandomForestClassifier\\nimport datetime as dt\\nfrom pathlib import Path\\nimport gensim\\nfrom sklearn.ensemble import GradientBoostingRegressor\\nfrom dask import dataframe as dd\\nimport plotly.express as px\\nimport tqdm\\nimport pickle\\nfrom openpyxl import load_workbook\\nfrom sklearn.preprocessing import OneHotEncoder\\nimport plotly.graph_objs as go\\nimport spacy\\nimport xgboost as xgb\\nimport plotly as py\\nimport sklearn\\nfrom sklearn.ensemble import RandomForestRegressor\\nimport matplotlib as mpl\\nimport bokeh\\nfrom sklearn.feature_extraction.text import TfidfVectorizer\\nimport seaborn as sns\\nimport glob\\nimport nltk\\nfrom sklearn.ensemble import GradientBoostingClassifier\\nimport statistics\\nfrom sklearn.model_selection import train_test_split\\nfrom sklearn.manifold import TSNE\\nfrom sklearn import svm\\nimport lightgbm as lgb'); }\n    "
     },
     "metadata": {}
    },
    {
     "output_type": "display_data",
     "data": {
      "text/plain": "<IPython.core.display.Javascript object>",
      "application/javascript": "\n        if (window._pyforest_update_imports_cell) { window._pyforest_update_imports_cell('from sklearn.ensemble import RandomForestClassifier\\nimport datetime as dt\\nfrom pathlib import Path\\nimport gensim\\nfrom sklearn.ensemble import GradientBoostingRegressor\\nfrom dask import dataframe as dd\\nimport plotly.express as px\\nimport tqdm\\nimport pickle\\nfrom openpyxl import load_workbook\\nfrom sklearn.preprocessing import OneHotEncoder\\nimport plotly.graph_objs as go\\nimport spacy\\nimport xgboost as xgb\\nimport plotly as py\\nimport sklearn\\nfrom sklearn.ensemble import RandomForestRegressor\\nimport matplotlib as mpl\\nimport bokeh\\nfrom sklearn.feature_extraction.text import TfidfVectorizer\\nimport seaborn as sns\\nimport glob\\nimport nltk\\nfrom sklearn.ensemble import GradientBoostingClassifier\\nimport statistics\\nfrom sklearn.model_selection import train_test_split\\nfrom sklearn.manifold import TSNE\\nfrom sklearn import svm\\nimport lightgbm as lgb'); }\n    "
     },
     "metadata": {}
    },
    {
     "output_type": "display_data",
     "data": {
      "text/plain": "<IPython.core.display.Javascript object>",
      "application/javascript": "\n        if (window._pyforest_update_imports_cell) { window._pyforest_update_imports_cell('from sklearn.ensemble import RandomForestClassifier\\nimport datetime as dt\\nfrom pathlib import Path\\nimport gensim\\nfrom sklearn.ensemble import GradientBoostingRegressor\\nfrom dask import dataframe as dd\\nimport plotly.express as px\\nimport tqdm\\nimport pickle\\nfrom openpyxl import load_workbook\\nfrom sklearn.preprocessing import OneHotEncoder\\nimport plotly.graph_objs as go\\nimport spacy\\nimport xgboost as xgb\\nimport plotly as py\\nimport sklearn\\nfrom sklearn.ensemble import RandomForestRegressor\\nimport matplotlib as mpl\\nimport bokeh\\nfrom sklearn.feature_extraction.text import TfidfVectorizer\\nimport seaborn as sns\\nimport glob\\nimport nltk\\nfrom sklearn.ensemble import GradientBoostingClassifier\\nimport statistics\\nfrom sklearn.model_selection import train_test_split\\nfrom sklearn.manifold import TSNE\\nfrom sklearn import svm\\nimport lightgbm as lgb'); }\n    "
     },
     "metadata": {}
    },
    {
     "output_type": "display_data",
     "data": {
      "text/plain": "<IPython.core.display.Javascript object>",
      "application/javascript": "\n        if (window._pyforest_update_imports_cell) { window._pyforest_update_imports_cell('from sklearn.ensemble import RandomForestClassifier\\nimport datetime as dt\\nfrom pathlib import Path\\nimport gensim\\nfrom sklearn.ensemble import GradientBoostingRegressor\\nfrom dask import dataframe as dd\\nimport plotly.express as px\\nimport tqdm\\nimport pickle\\nfrom openpyxl import load_workbook\\nfrom sklearn.preprocessing import OneHotEncoder\\nimport plotly.graph_objs as go\\nimport spacy\\nimport xgboost as xgb\\nimport plotly as py\\nimport sklearn\\nfrom sklearn.ensemble import RandomForestRegressor\\nimport matplotlib as mpl\\nimport bokeh\\nfrom sklearn.feature_extraction.text import TfidfVectorizer\\nimport seaborn as sns\\nimport glob\\nimport nltk\\nfrom sklearn.ensemble import GradientBoostingClassifier\\nimport statistics\\nfrom sklearn.model_selection import train_test_split\\nfrom sklearn.manifold import TSNE\\nfrom sklearn import svm\\nimport lightgbm as lgb'); }\n    "
     },
     "metadata": {}
    },
    {
     "output_type": "display_data",
     "data": {
      "text/plain": "<IPython.core.display.Javascript object>",
      "application/javascript": "\n        if (window._pyforest_update_imports_cell) { window._pyforest_update_imports_cell('from sklearn.ensemble import RandomForestClassifier\\nimport datetime as dt\\nfrom pathlib import Path\\nimport gensim\\nfrom sklearn.ensemble import GradientBoostingRegressor\\nfrom dask import dataframe as dd\\nimport plotly.express as px\\nimport tqdm\\nimport pickle\\nfrom openpyxl import load_workbook\\nfrom sklearn.preprocessing import OneHotEncoder\\nimport plotly.graph_objs as go\\nimport spacy\\nimport xgboost as xgb\\nimport plotly as py\\nimport sklearn\\nfrom sklearn.ensemble import RandomForestRegressor\\nimport matplotlib as mpl\\nimport bokeh\\nfrom sklearn.feature_extraction.text import TfidfVectorizer\\nimport seaborn as sns\\nimport glob\\nimport nltk\\nfrom sklearn.ensemble import GradientBoostingClassifier\\nimport statistics\\nfrom sklearn.model_selection import train_test_split\\nfrom sklearn.manifold import TSNE\\nfrom sklearn import svm\\nimport lightgbm as lgb'); }\n    "
     },
     "metadata": {}
    },
    {
     "output_type": "display_data",
     "data": {
      "text/plain": "<IPython.core.display.Javascript object>",
      "application/javascript": "\n        if (window._pyforest_update_imports_cell) { window._pyforest_update_imports_cell('from sklearn.ensemble import RandomForestClassifier\\nimport datetime as dt\\nfrom pathlib import Path\\nimport gensim\\nfrom sklearn.ensemble import GradientBoostingRegressor\\nfrom dask import dataframe as dd\\nimport plotly.express as px\\nimport tqdm\\nimport pickle\\nfrom openpyxl import load_workbook\\nfrom sklearn.preprocessing import OneHotEncoder\\nimport plotly.graph_objs as go\\nimport spacy\\nimport xgboost as xgb\\nimport plotly as py\\nimport sklearn\\nfrom sklearn.ensemble import RandomForestRegressor\\nimport matplotlib as mpl\\nimport bokeh\\nfrom sklearn.feature_extraction.text import TfidfVectorizer\\nimport seaborn as sns\\nimport glob\\nimport nltk\\nfrom sklearn.ensemble import GradientBoostingClassifier\\nimport statistics\\nfrom sklearn.model_selection import train_test_split\\nfrom sklearn.manifold import TSNE\\nfrom sklearn import svm\\nimport lightgbm as lgb'); }\n    "
     },
     "metadata": {}
    },
    {
     "output_type": "display_data",
     "data": {
      "text/plain": "<IPython.core.display.Javascript object>",
      "application/javascript": "\n        if (window._pyforest_update_imports_cell) { window._pyforest_update_imports_cell('from sklearn.ensemble import RandomForestClassifier\\nimport datetime as dt\\nfrom pathlib import Path\\nimport gensim\\nfrom sklearn.ensemble import GradientBoostingRegressor\\nfrom dask import dataframe as dd\\nimport plotly.express as px\\nimport tqdm\\nimport pickle\\nfrom openpyxl import load_workbook\\nfrom sklearn.preprocessing import OneHotEncoder\\nimport plotly.graph_objs as go\\nimport spacy\\nimport xgboost as xgb\\nimport plotly as py\\nimport sklearn\\nfrom sklearn.ensemble import RandomForestRegressor\\nimport matplotlib as mpl\\nimport bokeh\\nfrom sklearn.feature_extraction.text import TfidfVectorizer\\nimport seaborn as sns\\nimport glob\\nimport nltk\\nfrom sklearn.ensemble import GradientBoostingClassifier\\nimport statistics\\nfrom sklearn.model_selection import train_test_split\\nfrom sklearn.manifold import TSNE\\nfrom sklearn import svm\\nimport lightgbm as lgb'); }\n    "
     },
     "metadata": {}
    },
    {
     "output_type": "display_data",
     "data": {
      "text/plain": "<IPython.core.display.Javascript object>",
      "application/javascript": "\n        if (window._pyforest_update_imports_cell) { window._pyforest_update_imports_cell('from sklearn.ensemble import RandomForestClassifier\\nimport datetime as dt\\nfrom pathlib import Path\\nimport gensim\\nfrom sklearn.ensemble import GradientBoostingRegressor\\nfrom dask import dataframe as dd\\nimport plotly.express as px\\nimport tqdm\\nimport pickle\\nfrom openpyxl import load_workbook\\nfrom sklearn.preprocessing import OneHotEncoder\\nimport plotly.graph_objs as go\\nimport spacy\\nimport xgboost as xgb\\nimport plotly as py\\nimport sklearn\\nfrom sklearn.ensemble import RandomForestRegressor\\nimport matplotlib as mpl\\nimport bokeh\\nfrom sklearn.feature_extraction.text import TfidfVectorizer\\nimport seaborn as sns\\nimport glob\\nimport nltk\\nfrom sklearn.ensemble import GradientBoostingClassifier\\nimport statistics\\nfrom sklearn.model_selection import train_test_split\\nfrom sklearn.manifold import TSNE\\nfrom sklearn import svm\\nimport lightgbm as lgb'); }\n    "
     },
     "metadata": {}
    },
    {
     "output_type": "display_data",
     "data": {
      "text/plain": "<IPython.core.display.Javascript object>",
      "application/javascript": "\n        if (window._pyforest_update_imports_cell) { window._pyforest_update_imports_cell('from sklearn.ensemble import RandomForestClassifier\\nimport datetime as dt\\nfrom pathlib import Path\\nimport gensim\\nfrom sklearn.ensemble import GradientBoostingRegressor\\nfrom dask import dataframe as dd\\nimport plotly.express as px\\nimport tqdm\\nimport pickle\\nfrom openpyxl import load_workbook\\nfrom sklearn.preprocessing import OneHotEncoder\\nimport plotly.graph_objs as go\\nimport spacy\\nimport xgboost as xgb\\nimport plotly as py\\nimport sklearn\\nfrom sklearn.ensemble import RandomForestRegressor\\nimport matplotlib as mpl\\nimport bokeh\\nfrom sklearn.feature_extraction.text import TfidfVectorizer\\nimport seaborn as sns\\nimport glob\\nimport nltk\\nfrom sklearn.ensemble import GradientBoostingClassifier\\nimport statistics\\nfrom sklearn.model_selection import train_test_split\\nfrom sklearn.manifold import TSNE\\nfrom sklearn import svm\\nimport lightgbm as lgb'); }\n    "
     },
     "metadata": {}
    },
    {
     "output_type": "display_data",
     "data": {
      "text/plain": "<IPython.core.display.Javascript object>",
      "application/javascript": "\n        if (window._pyforest_update_imports_cell) { window._pyforest_update_imports_cell('from sklearn.ensemble import RandomForestClassifier\\nimport datetime as dt\\nfrom pathlib import Path\\nimport gensim\\nfrom sklearn.ensemble import GradientBoostingRegressor\\nfrom dask import dataframe as dd\\nimport plotly.express as px\\nimport tqdm\\nimport pickle\\nfrom openpyxl import load_workbook\\nfrom sklearn.preprocessing import OneHotEncoder\\nimport plotly.graph_objs as go\\nimport spacy\\nimport xgboost as xgb\\nimport plotly as py\\nimport sklearn\\nfrom sklearn.ensemble import RandomForestRegressor\\nimport matplotlib as mpl\\nimport bokeh\\nfrom sklearn.feature_extraction.text import TfidfVectorizer\\nimport seaborn as sns\\nimport glob\\nimport nltk\\nfrom sklearn.ensemble import GradientBoostingClassifier\\nimport statistics\\nfrom sklearn.model_selection import train_test_split\\nfrom sklearn.manifold import TSNE\\nfrom sklearn import svm\\nimport lightgbm as lgb'); }\n    "
     },
     "metadata": {}
    },
    {
     "output_type": "display_data",
     "data": {
      "text/plain": "<IPython.core.display.Javascript object>",
      "application/javascript": "\n        if (window._pyforest_update_imports_cell) { window._pyforest_update_imports_cell('from sklearn.ensemble import RandomForestClassifier\\nimport datetime as dt\\nfrom pathlib import Path\\nimport gensim\\nfrom sklearn.ensemble import GradientBoostingRegressor\\nfrom dask import dataframe as dd\\nimport plotly.express as px\\nimport tqdm\\nimport pickle\\nfrom openpyxl import load_workbook\\nfrom sklearn.preprocessing import OneHotEncoder\\nimport plotly.graph_objs as go\\nimport spacy\\nimport xgboost as xgb\\nimport plotly as py\\nimport sklearn\\nfrom sklearn.ensemble import RandomForestRegressor\\nimport matplotlib as mpl\\nimport bokeh\\nfrom sklearn.feature_extraction.text import TfidfVectorizer\\nimport seaborn as sns\\nimport glob\\nimport nltk\\nfrom sklearn.ensemble import GradientBoostingClassifier\\nimport statistics\\nfrom sklearn.model_selection import train_test_split\\nfrom sklearn.manifold import TSNE\\nfrom sklearn import svm\\nimport lightgbm as lgb'); }\n    "
     },
     "metadata": {}
    },
    {
     "output_type": "display_data",
     "data": {
      "text/plain": "<IPython.core.display.Javascript object>",
      "application/javascript": "\n        if (window._pyforest_update_imports_cell) { window._pyforest_update_imports_cell('from sklearn.ensemble import RandomForestClassifier\\nimport datetime as dt\\nfrom pathlib import Path\\nimport gensim\\nfrom sklearn.ensemble import GradientBoostingRegressor\\nfrom dask import dataframe as dd\\nimport plotly.express as px\\nimport tqdm\\nimport pickle\\nfrom openpyxl import load_workbook\\nfrom sklearn.preprocessing import OneHotEncoder\\nimport plotly.graph_objs as go\\nimport spacy\\nimport xgboost as xgb\\nimport plotly as py\\nimport sklearn\\nfrom sklearn.ensemble import RandomForestRegressor\\nimport matplotlib as mpl\\nimport bokeh\\nfrom sklearn.feature_extraction.text import TfidfVectorizer\\nimport seaborn as sns\\nimport glob\\nimport nltk\\nfrom sklearn.ensemble import GradientBoostingClassifier\\nimport statistics\\nfrom sklearn.model_selection import train_test_split\\nfrom sklearn.manifold import TSNE\\nfrom sklearn import svm\\nimport lightgbm as lgb'); }\n    "
     },
     "metadata": {}
    },
    {
     "output_type": "display_data",
     "data": {
      "text/plain": "<IPython.core.display.Javascript object>",
      "application/javascript": "\n        if (window._pyforest_update_imports_cell) { window._pyforest_update_imports_cell('from sklearn.ensemble import RandomForestClassifier\\nimport datetime as dt\\nfrom pathlib import Path\\nimport gensim\\nfrom sklearn.ensemble import GradientBoostingRegressor\\nfrom dask import dataframe as dd\\nimport plotly.express as px\\nimport tqdm\\nimport pickle\\nfrom openpyxl import load_workbook\\nfrom sklearn.preprocessing import OneHotEncoder\\nimport plotly.graph_objs as go\\nimport spacy\\nimport xgboost as xgb\\nimport plotly as py\\nimport sklearn\\nfrom sklearn.ensemble import RandomForestRegressor\\nimport matplotlib as mpl\\nimport bokeh\\nfrom sklearn.feature_extraction.text import TfidfVectorizer\\nimport seaborn as sns\\nimport glob\\nimport nltk\\nfrom sklearn.ensemble import GradientBoostingClassifier\\nimport statistics\\nfrom sklearn.model_selection import train_test_split\\nfrom sklearn.manifold import TSNE\\nfrom sklearn import svm\\nimport lightgbm as lgb'); }\n    "
     },
     "metadata": {}
    },
    {
     "output_type": "display_data",
     "data": {
      "text/plain": "<IPython.core.display.Javascript object>",
      "application/javascript": "\n        if (window._pyforest_update_imports_cell) { window._pyforest_update_imports_cell('from sklearn.ensemble import RandomForestClassifier\\nimport datetime as dt\\nfrom pathlib import Path\\nimport gensim\\nfrom sklearn.ensemble import GradientBoostingRegressor\\nfrom dask import dataframe as dd\\nimport plotly.express as px\\nimport tqdm\\nimport pickle\\nfrom openpyxl import load_workbook\\nfrom sklearn.preprocessing import OneHotEncoder\\nimport plotly.graph_objs as go\\nimport spacy\\nimport xgboost as xgb\\nimport plotly as py\\nimport sklearn\\nfrom sklearn.ensemble import RandomForestRegressor\\nimport matplotlib as mpl\\nimport bokeh\\nfrom sklearn.feature_extraction.text import TfidfVectorizer\\nimport seaborn as sns\\nimport glob\\nimport nltk\\nfrom sklearn.ensemble import GradientBoostingClassifier\\nimport statistics\\nfrom sklearn.model_selection import train_test_split\\nfrom sklearn.manifold import TSNE\\nfrom sklearn import svm\\nimport lightgbm as lgb'); }\n    "
     },
     "metadata": {}
    },
    {
     "output_type": "display_data",
     "data": {
      "text/plain": "<IPython.core.display.Javascript object>",
      "application/javascript": "\n        if (window._pyforest_update_imports_cell) { window._pyforest_update_imports_cell('from sklearn.ensemble import RandomForestClassifier\\nimport datetime as dt\\nfrom pathlib import Path\\nimport gensim\\nfrom sklearn.ensemble import GradientBoostingRegressor\\nfrom dask import dataframe as dd\\nimport plotly.express as px\\nimport tqdm\\nimport pickle\\nfrom openpyxl import load_workbook\\nfrom sklearn.preprocessing import OneHotEncoder\\nimport plotly.graph_objs as go\\nimport spacy\\nimport xgboost as xgb\\nimport plotly as py\\nimport sklearn\\nfrom sklearn.ensemble import RandomForestRegressor\\nimport matplotlib as mpl\\nimport bokeh\\nfrom sklearn.feature_extraction.text import TfidfVectorizer\\nimport seaborn as sns\\nimport glob\\nimport nltk\\nfrom sklearn.ensemble import GradientBoostingClassifier\\nimport statistics\\nfrom sklearn.model_selection import train_test_split\\nfrom sklearn.manifold import TSNE\\nfrom sklearn import svm\\nimport lightgbm as lgb'); }\n    "
     },
     "metadata": {}
    },
    {
     "output_type": "display_data",
     "data": {
      "text/plain": "<IPython.core.display.Javascript object>",
      "application/javascript": "\n        if (window._pyforest_update_imports_cell) { window._pyforest_update_imports_cell('from sklearn.ensemble import RandomForestClassifier\\nimport datetime as dt\\nfrom pathlib import Path\\nimport gensim\\nfrom sklearn.ensemble import GradientBoostingRegressor\\nfrom dask import dataframe as dd\\nimport plotly.express as px\\nimport tqdm\\nimport pickle\\nfrom openpyxl import load_workbook\\nfrom sklearn.preprocessing import OneHotEncoder\\nimport plotly.graph_objs as go\\nimport spacy\\nimport xgboost as xgb\\nimport plotly as py\\nimport sklearn\\nfrom sklearn.ensemble import RandomForestRegressor\\nimport matplotlib as mpl\\nimport bokeh\\nfrom sklearn.feature_extraction.text import TfidfVectorizer\\nimport seaborn as sns\\nimport glob\\nimport nltk\\nfrom sklearn.ensemble import GradientBoostingClassifier\\nimport statistics\\nfrom sklearn.model_selection import train_test_split\\nfrom sklearn.manifold import TSNE\\nfrom sklearn import svm\\nimport lightgbm as lgb'); }\n    "
     },
     "metadata": {}
    },
    {
     "output_type": "display_data",
     "data": {
      "text/plain": "<IPython.core.display.Javascript object>",
      "application/javascript": "\n        if (window._pyforest_update_imports_cell) { window._pyforest_update_imports_cell('from sklearn.ensemble import RandomForestClassifier\\nimport datetime as dt\\nfrom pathlib import Path\\nimport gensim\\nfrom sklearn.ensemble import GradientBoostingRegressor\\nfrom dask import dataframe as dd\\nimport plotly.express as px\\nimport tqdm\\nimport pickle\\nfrom openpyxl import load_workbook\\nfrom sklearn.preprocessing import OneHotEncoder\\nimport plotly.graph_objs as go\\nimport spacy\\nimport xgboost as xgb\\nimport plotly as py\\nimport sklearn\\nfrom sklearn.ensemble import RandomForestRegressor\\nimport matplotlib as mpl\\nimport bokeh\\nfrom sklearn.feature_extraction.text import TfidfVectorizer\\nimport seaborn as sns\\nimport glob\\nimport nltk\\nfrom sklearn.ensemble import GradientBoostingClassifier\\nimport statistics\\nfrom sklearn.model_selection import train_test_split\\nfrom sklearn.manifold import TSNE\\nfrom sklearn import svm\\nimport lightgbm as lgb'); }\n    "
     },
     "metadata": {}
    },
    {
     "output_type": "display_data",
     "data": {
      "text/plain": "<IPython.core.display.Javascript object>",
      "application/javascript": "\n        if (window._pyforest_update_imports_cell) { window._pyforest_update_imports_cell('from sklearn.ensemble import RandomForestClassifier\\nimport datetime as dt\\nfrom pathlib import Path\\nimport gensim\\nfrom sklearn.ensemble import GradientBoostingRegressor\\nfrom dask import dataframe as dd\\nimport plotly.express as px\\nimport tqdm\\nimport pickle\\nfrom openpyxl import load_workbook\\nfrom sklearn.preprocessing import OneHotEncoder\\nimport plotly.graph_objs as go\\nimport spacy\\nimport xgboost as xgb\\nimport plotly as py\\nimport sklearn\\nfrom sklearn.ensemble import RandomForestRegressor\\nimport matplotlib as mpl\\nimport bokeh\\nfrom sklearn.feature_extraction.text import TfidfVectorizer\\nimport seaborn as sns\\nimport glob\\nimport nltk\\nfrom sklearn.ensemble import GradientBoostingClassifier\\nimport statistics\\nfrom sklearn.model_selection import train_test_split\\nfrom sklearn.manifold import TSNE\\nfrom sklearn import svm\\nimport lightgbm as lgb'); }\n    "
     },
     "metadata": {}
    },
    {
     "output_type": "display_data",
     "data": {
      "text/plain": "<IPython.core.display.Javascript object>",
      "application/javascript": "\n        if (window._pyforest_update_imports_cell) { window._pyforest_update_imports_cell('from sklearn.ensemble import RandomForestClassifier\\nimport datetime as dt\\nfrom pathlib import Path\\nimport gensim\\nfrom sklearn.ensemble import GradientBoostingRegressor\\nfrom dask import dataframe as dd\\nimport plotly.express as px\\nimport tqdm\\nimport pickle\\nfrom openpyxl import load_workbook\\nfrom sklearn.preprocessing import OneHotEncoder\\nimport plotly.graph_objs as go\\nimport spacy\\nimport xgboost as xgb\\nimport plotly as py\\nimport sklearn\\nfrom sklearn.ensemble import RandomForestRegressor\\nimport matplotlib as mpl\\nimport bokeh\\nfrom sklearn.feature_extraction.text import TfidfVectorizer\\nimport seaborn as sns\\nimport glob\\nimport nltk\\nfrom sklearn.ensemble import GradientBoostingClassifier\\nimport statistics\\nfrom sklearn.model_selection import train_test_split\\nfrom sklearn.manifold import TSNE\\nfrom sklearn import svm\\nimport lightgbm as lgb'); }\n    "
     },
     "metadata": {}
    },
    {
     "output_type": "display_data",
     "data": {
      "text/plain": "<IPython.core.display.Javascript object>",
      "application/javascript": "\n        if (window._pyforest_update_imports_cell) { window._pyforest_update_imports_cell('from sklearn.ensemble import RandomForestClassifier\\nimport datetime as dt\\nfrom pathlib import Path\\nimport gensim\\nfrom sklearn.ensemble import GradientBoostingRegressor\\nfrom dask import dataframe as dd\\nimport plotly.express as px\\nimport tqdm\\nimport pickle\\nfrom openpyxl import load_workbook\\nfrom sklearn.preprocessing import OneHotEncoder\\nimport plotly.graph_objs as go\\nimport spacy\\nimport xgboost as xgb\\nimport plotly as py\\nimport sklearn\\nfrom sklearn.ensemble import RandomForestRegressor\\nimport matplotlib as mpl\\nimport bokeh\\nfrom sklearn.feature_extraction.text import TfidfVectorizer\\nimport seaborn as sns\\nimport glob\\nimport nltk\\nfrom sklearn.ensemble import GradientBoostingClassifier\\nimport statistics\\nfrom sklearn.model_selection import train_test_split\\nfrom sklearn.manifold import TSNE\\nfrom sklearn import svm\\nimport lightgbm as lgb'); }\n    "
     },
     "metadata": {}
    },
    {
     "output_type": "display_data",
     "data": {
      "text/plain": "<IPython.core.display.Javascript object>",
      "application/javascript": "\n        if (window._pyforest_update_imports_cell) { window._pyforest_update_imports_cell('from sklearn.ensemble import RandomForestClassifier\\nimport datetime as dt\\nfrom pathlib import Path\\nimport gensim\\nfrom sklearn.ensemble import GradientBoostingRegressor\\nfrom dask import dataframe as dd\\nimport plotly.express as px\\nimport tqdm\\nimport pickle\\nfrom openpyxl import load_workbook\\nfrom sklearn.preprocessing import OneHotEncoder\\nimport plotly.graph_objs as go\\nimport spacy\\nimport xgboost as xgb\\nimport plotly as py\\nimport sklearn\\nfrom sklearn.ensemble import RandomForestRegressor\\nimport matplotlib as mpl\\nimport bokeh\\nfrom sklearn.feature_extraction.text import TfidfVectorizer\\nimport seaborn as sns\\nimport glob\\nimport nltk\\nfrom sklearn.ensemble import GradientBoostingClassifier\\nimport statistics\\nfrom sklearn.model_selection import train_test_split\\nfrom sklearn.manifold import TSNE\\nfrom sklearn import svm\\nimport lightgbm as lgb'); }\n    "
     },
     "metadata": {}
    },
    {
     "output_type": "display_data",
     "data": {
      "text/plain": "<IPython.core.display.Javascript object>",
      "application/javascript": "\n        if (window._pyforest_update_imports_cell) { window._pyforest_update_imports_cell('from sklearn.ensemble import RandomForestClassifier\\nimport datetime as dt\\nfrom pathlib import Path\\nimport gensim\\nfrom sklearn.ensemble import GradientBoostingRegressor\\nfrom dask import dataframe as dd\\nimport plotly.express as px\\nimport tqdm\\nimport pickle\\nfrom openpyxl import load_workbook\\nfrom sklearn.preprocessing import OneHotEncoder\\nimport plotly.graph_objs as go\\nimport spacy\\nimport xgboost as xgb\\nimport plotly as py\\nimport sklearn\\nfrom sklearn.ensemble import RandomForestRegressor\\nimport matplotlib as mpl\\nimport bokeh\\nfrom sklearn.feature_extraction.text import TfidfVectorizer\\nimport seaborn as sns\\nimport glob\\nimport nltk\\nfrom sklearn.ensemble import GradientBoostingClassifier\\nimport statistics\\nfrom sklearn.model_selection import train_test_split\\nfrom sklearn.manifold import TSNE\\nfrom sklearn import svm\\nimport lightgbm as lgb'); }\n    "
     },
     "metadata": {}
    },
    {
     "output_type": "display_data",
     "data": {
      "text/plain": "<IPython.core.display.Javascript object>",
      "application/javascript": "\n        if (window._pyforest_update_imports_cell) { window._pyforest_update_imports_cell('from sklearn.ensemble import RandomForestClassifier\\nimport datetime as dt\\nfrom pathlib import Path\\nimport gensim\\nfrom sklearn.ensemble import GradientBoostingRegressor\\nfrom dask import dataframe as dd\\nimport plotly.express as px\\nimport tqdm\\nimport pickle\\nfrom openpyxl import load_workbook\\nfrom sklearn.preprocessing import OneHotEncoder\\nimport plotly.graph_objs as go\\nimport spacy\\nimport xgboost as xgb\\nimport plotly as py\\nimport sklearn\\nfrom sklearn.ensemble import RandomForestRegressor\\nimport matplotlib as mpl\\nimport bokeh\\nfrom sklearn.feature_extraction.text import TfidfVectorizer\\nimport seaborn as sns\\nimport glob\\nimport nltk\\nfrom sklearn.ensemble import GradientBoostingClassifier\\nimport statistics\\nfrom sklearn.model_selection import train_test_split\\nfrom sklearn.manifold import TSNE\\nfrom sklearn import svm\\nimport lightgbm as lgb'); }\n    "
     },
     "metadata": {}
    },
    {
     "output_type": "display_data",
     "data": {
      "text/plain": "<IPython.core.display.Javascript object>",
      "application/javascript": "\n        if (window._pyforest_update_imports_cell) { window._pyforest_update_imports_cell('from sklearn.ensemble import RandomForestClassifier\\nimport datetime as dt\\nfrom pathlib import Path\\nimport gensim\\nfrom sklearn.ensemble import GradientBoostingRegressor\\nfrom dask import dataframe as dd\\nimport plotly.express as px\\nimport tqdm\\nimport pickle\\nfrom openpyxl import load_workbook\\nfrom sklearn.preprocessing import OneHotEncoder\\nimport plotly.graph_objs as go\\nimport spacy\\nimport xgboost as xgb\\nimport plotly as py\\nimport sklearn\\nfrom sklearn.ensemble import RandomForestRegressor\\nimport matplotlib as mpl\\nimport bokeh\\nfrom sklearn.feature_extraction.text import TfidfVectorizer\\nimport seaborn as sns\\nimport glob\\nimport nltk\\nfrom sklearn.ensemble import GradientBoostingClassifier\\nimport statistics\\nfrom sklearn.model_selection import train_test_split\\nfrom sklearn.manifold import TSNE\\nfrom sklearn import svm\\nimport lightgbm as lgb'); }\n    "
     },
     "metadata": {}
    },
    {
     "output_type": "display_data",
     "data": {
      "text/plain": "<IPython.core.display.Javascript object>",
      "application/javascript": "\n        if (window._pyforest_update_imports_cell) { window._pyforest_update_imports_cell('from sklearn.ensemble import RandomForestClassifier\\nimport datetime as dt\\nfrom pathlib import Path\\nimport gensim\\nfrom sklearn.ensemble import GradientBoostingRegressor\\nfrom dask import dataframe as dd\\nimport plotly.express as px\\nimport tqdm\\nimport pickle\\nfrom openpyxl import load_workbook\\nfrom sklearn.preprocessing import OneHotEncoder\\nimport plotly.graph_objs as go\\nimport spacy\\nimport xgboost as xgb\\nimport plotly as py\\nimport sklearn\\nfrom sklearn.ensemble import RandomForestRegressor\\nimport matplotlib as mpl\\nimport bokeh\\nfrom sklearn.feature_extraction.text import TfidfVectorizer\\nimport seaborn as sns\\nimport glob\\nimport nltk\\nfrom sklearn.ensemble import GradientBoostingClassifier\\nimport statistics\\nfrom sklearn.model_selection import train_test_split\\nfrom sklearn.manifold import TSNE\\nfrom sklearn import svm\\nimport lightgbm as lgb'); }\n    "
     },
     "metadata": {}
    },
    {
     "output_type": "display_data",
     "data": {
      "text/plain": "<IPython.core.display.Javascript object>",
      "application/javascript": "\n        if (window._pyforest_update_imports_cell) { window._pyforest_update_imports_cell('from sklearn.ensemble import RandomForestClassifier\\nimport datetime as dt\\nfrom pathlib import Path\\nimport gensim\\nfrom sklearn.ensemble import GradientBoostingRegressor\\nfrom dask import dataframe as dd\\nimport plotly.express as px\\nimport tqdm\\nimport pickle\\nfrom openpyxl import load_workbook\\nfrom sklearn.preprocessing import OneHotEncoder\\nimport plotly.graph_objs as go\\nimport spacy\\nimport xgboost as xgb\\nimport plotly as py\\nimport sklearn\\nfrom sklearn.ensemble import RandomForestRegressor\\nimport matplotlib as mpl\\nimport bokeh\\nfrom sklearn.feature_extraction.text import TfidfVectorizer\\nimport seaborn as sns\\nimport glob\\nimport nltk\\nfrom sklearn.ensemble import GradientBoostingClassifier\\nimport statistics\\nfrom sklearn.model_selection import train_test_split\\nfrom sklearn.manifold import TSNE\\nfrom sklearn import svm\\nimport lightgbm as lgb'); }\n    "
     },
     "metadata": {}
    },
    {
     "output_type": "display_data",
     "data": {
      "text/plain": "<IPython.core.display.Javascript object>",
      "application/javascript": "\n        if (window._pyforest_update_imports_cell) { window._pyforest_update_imports_cell('from sklearn.ensemble import RandomForestClassifier\\nimport datetime as dt\\nfrom pathlib import Path\\nimport gensim\\nfrom sklearn.ensemble import GradientBoostingRegressor\\nfrom dask import dataframe as dd\\nimport plotly.express as px\\nimport tqdm\\nimport pickle\\nfrom openpyxl import load_workbook\\nfrom sklearn.preprocessing import OneHotEncoder\\nimport plotly.graph_objs as go\\nimport spacy\\nimport xgboost as xgb\\nimport plotly as py\\nimport sklearn\\nfrom sklearn.ensemble import RandomForestRegressor\\nimport matplotlib as mpl\\nimport bokeh\\nfrom sklearn.feature_extraction.text import TfidfVectorizer\\nimport seaborn as sns\\nimport glob\\nimport nltk\\nfrom sklearn.ensemble import GradientBoostingClassifier\\nimport statistics\\nfrom sklearn.model_selection import train_test_split\\nfrom sklearn.manifold import TSNE\\nfrom sklearn import svm\\nimport lightgbm as lgb'); }\n    "
     },
     "metadata": {}
    },
    {
     "output_type": "display_data",
     "data": {
      "text/plain": "<IPython.core.display.Javascript object>",
      "application/javascript": "\n        if (window._pyforest_update_imports_cell) { window._pyforest_update_imports_cell('from sklearn.ensemble import RandomForestClassifier\\nimport datetime as dt\\nfrom pathlib import Path\\nimport gensim\\nfrom sklearn.ensemble import GradientBoostingRegressor\\nfrom dask import dataframe as dd\\nimport plotly.express as px\\nimport tqdm\\nimport pickle\\nfrom openpyxl import load_workbook\\nfrom sklearn.preprocessing import OneHotEncoder\\nimport plotly.graph_objs as go\\nimport spacy\\nimport xgboost as xgb\\nimport plotly as py\\nimport sklearn\\nfrom sklearn.ensemble import RandomForestRegressor\\nimport matplotlib as mpl\\nimport bokeh\\nfrom sklearn.feature_extraction.text import TfidfVectorizer\\nimport seaborn as sns\\nimport glob\\nimport nltk\\nfrom sklearn.ensemble import GradientBoostingClassifier\\nimport statistics\\nfrom sklearn.model_selection import train_test_split\\nfrom sklearn.manifold import TSNE\\nfrom sklearn import svm\\nimport lightgbm as lgb'); }\n    "
     },
     "metadata": {}
    },
    {
     "output_type": "display_data",
     "data": {
      "text/plain": "<IPython.core.display.Javascript object>",
      "application/javascript": "\n        if (window._pyforest_update_imports_cell) { window._pyforest_update_imports_cell('from sklearn.ensemble import RandomForestClassifier\\nimport datetime as dt\\nfrom pathlib import Path\\nimport gensim\\nfrom sklearn.ensemble import GradientBoostingRegressor\\nfrom dask import dataframe as dd\\nimport plotly.express as px\\nimport tqdm\\nimport pickle\\nfrom openpyxl import load_workbook\\nfrom sklearn.preprocessing import OneHotEncoder\\nimport plotly.graph_objs as go\\nimport spacy\\nimport xgboost as xgb\\nimport plotly as py\\nimport sklearn\\nfrom sklearn.ensemble import RandomForestRegressor\\nimport matplotlib as mpl\\nimport bokeh\\nfrom sklearn.feature_extraction.text import TfidfVectorizer\\nimport seaborn as sns\\nimport glob\\nimport nltk\\nfrom sklearn.ensemble import GradientBoostingClassifier\\nimport statistics\\nfrom sklearn.model_selection import train_test_split\\nfrom sklearn.manifold import TSNE\\nfrom sklearn import svm\\nimport lightgbm as lgb'); }\n    "
     },
     "metadata": {}
    },
    {
     "output_type": "display_data",
     "data": {
      "text/plain": "<IPython.core.display.Javascript object>",
      "application/javascript": "\n        if (window._pyforest_update_imports_cell) { window._pyforest_update_imports_cell('from sklearn.ensemble import RandomForestClassifier\\nimport datetime as dt\\nfrom pathlib import Path\\nimport gensim\\nfrom sklearn.ensemble import GradientBoostingRegressor\\nfrom dask import dataframe as dd\\nimport plotly.express as px\\nimport tqdm\\nimport pickle\\nfrom openpyxl import load_workbook\\nfrom sklearn.preprocessing import OneHotEncoder\\nimport plotly.graph_objs as go\\nimport spacy\\nimport xgboost as xgb\\nimport plotly as py\\nimport sklearn\\nfrom sklearn.ensemble import RandomForestRegressor\\nimport matplotlib as mpl\\nimport bokeh\\nfrom sklearn.feature_extraction.text import TfidfVectorizer\\nimport seaborn as sns\\nimport glob\\nimport nltk\\nfrom sklearn.ensemble import GradientBoostingClassifier\\nimport statistics\\nfrom sklearn.model_selection import train_test_split\\nfrom sklearn.manifold import TSNE\\nfrom sklearn import svm\\nimport lightgbm as lgb'); }\n    "
     },
     "metadata": {}
    },
    {
     "output_type": "display_data",
     "data": {
      "text/plain": "<IPython.core.display.Javascript object>",
      "application/javascript": "\n        if (window._pyforest_update_imports_cell) { window._pyforest_update_imports_cell('from sklearn.ensemble import RandomForestClassifier\\nimport datetime as dt\\nfrom pathlib import Path\\nimport gensim\\nfrom sklearn.ensemble import GradientBoostingRegressor\\nfrom dask import dataframe as dd\\nimport plotly.express as px\\nimport tqdm\\nimport pickle\\nfrom openpyxl import load_workbook\\nfrom sklearn.preprocessing import OneHotEncoder\\nimport plotly.graph_objs as go\\nimport spacy\\nimport xgboost as xgb\\nimport plotly as py\\nimport sklearn\\nfrom sklearn.ensemble import RandomForestRegressor\\nimport matplotlib as mpl\\nimport bokeh\\nfrom sklearn.feature_extraction.text import TfidfVectorizer\\nimport seaborn as sns\\nimport glob\\nimport nltk\\nfrom sklearn.ensemble import GradientBoostingClassifier\\nimport statistics\\nfrom sklearn.model_selection import train_test_split\\nfrom sklearn.manifold import TSNE\\nfrom sklearn import svm\\nimport lightgbm as lgb'); }\n    "
     },
     "metadata": {}
    },
    {
     "output_type": "display_data",
     "data": {
      "text/plain": "<IPython.core.display.Javascript object>",
      "application/javascript": "\n        if (window._pyforest_update_imports_cell) { window._pyforest_update_imports_cell('from sklearn.ensemble import RandomForestClassifier\\nimport datetime as dt\\nfrom pathlib import Path\\nimport gensim\\nfrom sklearn.ensemble import GradientBoostingRegressor\\nfrom dask import dataframe as dd\\nimport plotly.express as px\\nimport tqdm\\nimport pickle\\nfrom openpyxl import load_workbook\\nfrom sklearn.preprocessing import OneHotEncoder\\nimport plotly.graph_objs as go\\nimport spacy\\nimport xgboost as xgb\\nimport plotly as py\\nimport sklearn\\nfrom sklearn.ensemble import RandomForestRegressor\\nimport matplotlib as mpl\\nimport bokeh\\nfrom sklearn.feature_extraction.text import TfidfVectorizer\\nimport seaborn as sns\\nimport glob\\nimport nltk\\nfrom sklearn.ensemble import GradientBoostingClassifier\\nimport statistics\\nfrom sklearn.model_selection import train_test_split\\nfrom sklearn.manifold import TSNE\\nfrom sklearn import svm\\nimport lightgbm as lgb'); }\n    "
     },
     "metadata": {}
    },
    {
     "output_type": "display_data",
     "data": {
      "text/plain": "<IPython.core.display.Javascript object>",
      "application/javascript": "\n        if (window._pyforest_update_imports_cell) { window._pyforest_update_imports_cell('from sklearn.ensemble import RandomForestClassifier\\nimport datetime as dt\\nfrom pathlib import Path\\nimport gensim\\nfrom sklearn.ensemble import GradientBoostingRegressor\\nfrom dask import dataframe as dd\\nimport plotly.express as px\\nimport tqdm\\nimport pickle\\nfrom openpyxl import load_workbook\\nfrom sklearn.preprocessing import OneHotEncoder\\nimport plotly.graph_objs as go\\nimport spacy\\nimport xgboost as xgb\\nimport plotly as py\\nimport sklearn\\nfrom sklearn.ensemble import RandomForestRegressor\\nimport matplotlib as mpl\\nimport bokeh\\nfrom sklearn.feature_extraction.text import TfidfVectorizer\\nimport seaborn as sns\\nimport glob\\nimport nltk\\nfrom sklearn.ensemble import GradientBoostingClassifier\\nimport statistics\\nfrom sklearn.model_selection import train_test_split\\nfrom sklearn.manifold import TSNE\\nfrom sklearn import svm\\nimport lightgbm as lgb'); }\n    "
     },
     "metadata": {}
    },
    {
     "output_type": "display_data",
     "data": {
      "text/plain": "<IPython.core.display.Javascript object>",
      "application/javascript": "\n        if (window._pyforest_update_imports_cell) { window._pyforest_update_imports_cell('from sklearn.ensemble import RandomForestClassifier\\nimport datetime as dt\\nfrom pathlib import Path\\nimport gensim\\nfrom sklearn.ensemble import GradientBoostingRegressor\\nfrom dask import dataframe as dd\\nimport plotly.express as px\\nimport tqdm\\nimport pickle\\nfrom openpyxl import load_workbook\\nfrom sklearn.preprocessing import OneHotEncoder\\nimport plotly.graph_objs as go\\nimport spacy\\nimport xgboost as xgb\\nimport plotly as py\\nimport sklearn\\nfrom sklearn.ensemble import RandomForestRegressor\\nimport matplotlib as mpl\\nimport bokeh\\nfrom sklearn.feature_extraction.text import TfidfVectorizer\\nimport seaborn as sns\\nimport glob\\nimport nltk\\nfrom sklearn.ensemble import GradientBoostingClassifier\\nimport statistics\\nfrom sklearn.model_selection import train_test_split\\nfrom sklearn.manifold import TSNE\\nfrom sklearn import svm\\nimport lightgbm as lgb'); }\n    "
     },
     "metadata": {}
    },
    {
     "output_type": "display_data",
     "data": {
      "text/plain": "<IPython.core.display.Javascript object>",
      "application/javascript": "\n        if (window._pyforest_update_imports_cell) { window._pyforest_update_imports_cell('from sklearn.ensemble import RandomForestClassifier\\nimport datetime as dt\\nfrom pathlib import Path\\nimport gensim\\nfrom sklearn.ensemble import GradientBoostingRegressor\\nfrom dask import dataframe as dd\\nimport plotly.express as px\\nimport tqdm\\nimport pickle\\nfrom openpyxl import load_workbook\\nfrom sklearn.preprocessing import OneHotEncoder\\nimport plotly.graph_objs as go\\nimport spacy\\nimport xgboost as xgb\\nimport plotly as py\\nimport sklearn\\nfrom sklearn.ensemble import RandomForestRegressor\\nimport matplotlib as mpl\\nimport bokeh\\nfrom sklearn.feature_extraction.text import TfidfVectorizer\\nimport seaborn as sns\\nimport glob\\nimport nltk\\nfrom sklearn.ensemble import GradientBoostingClassifier\\nimport statistics\\nfrom sklearn.model_selection import train_test_split\\nfrom sklearn.manifold import TSNE\\nfrom sklearn import svm\\nimport lightgbm as lgb'); }\n    "
     },
     "metadata": {}
    },
    {
     "output_type": "display_data",
     "data": {
      "text/plain": "<IPython.core.display.Javascript object>",
      "application/javascript": "\n        if (window._pyforest_update_imports_cell) { window._pyforest_update_imports_cell('from sklearn.ensemble import RandomForestClassifier\\nimport datetime as dt\\nfrom pathlib import Path\\nimport gensim\\nfrom sklearn.ensemble import GradientBoostingRegressor\\nfrom dask import dataframe as dd\\nimport plotly.express as px\\nimport tqdm\\nimport pickle\\nfrom openpyxl import load_workbook\\nfrom sklearn.preprocessing import OneHotEncoder\\nimport plotly.graph_objs as go\\nimport spacy\\nimport xgboost as xgb\\nimport plotly as py\\nimport sklearn\\nfrom sklearn.ensemble import RandomForestRegressor\\nimport matplotlib as mpl\\nimport bokeh\\nfrom sklearn.feature_extraction.text import TfidfVectorizer\\nimport seaborn as sns\\nimport glob\\nimport nltk\\nfrom sklearn.ensemble import GradientBoostingClassifier\\nimport statistics\\nfrom sklearn.model_selection import train_test_split\\nfrom sklearn.manifold import TSNE\\nfrom sklearn import svm\\nimport lightgbm as lgb'); }\n    "
     },
     "metadata": {}
    },
    {
     "output_type": "display_data",
     "data": {
      "text/plain": "<IPython.core.display.Javascript object>",
      "application/javascript": "\n        if (window._pyforest_update_imports_cell) { window._pyforest_update_imports_cell('from sklearn.ensemble import RandomForestClassifier\\nimport datetime as dt\\nfrom pathlib import Path\\nimport gensim\\nfrom sklearn.ensemble import GradientBoostingRegressor\\nfrom dask import dataframe as dd\\nimport plotly.express as px\\nimport tqdm\\nimport pickle\\nfrom openpyxl import load_workbook\\nfrom sklearn.preprocessing import OneHotEncoder\\nimport plotly.graph_objs as go\\nimport spacy\\nimport xgboost as xgb\\nimport plotly as py\\nimport sklearn\\nfrom sklearn.ensemble import RandomForestRegressor\\nimport matplotlib as mpl\\nimport bokeh\\nfrom sklearn.feature_extraction.text import TfidfVectorizer\\nimport seaborn as sns\\nimport glob\\nimport nltk\\nfrom sklearn.ensemble import GradientBoostingClassifier\\nimport statistics\\nfrom sklearn.model_selection import train_test_split\\nfrom sklearn.manifold import TSNE\\nfrom sklearn import svm\\nimport lightgbm as lgb'); }\n    "
     },
     "metadata": {}
    },
    {
     "output_type": "display_data",
     "data": {
      "text/plain": "<IPython.core.display.Javascript object>",
      "application/javascript": "\n        if (window._pyforest_update_imports_cell) { window._pyforest_update_imports_cell('from sklearn.ensemble import RandomForestClassifier\\nimport datetime as dt\\nfrom pathlib import Path\\nimport gensim\\nfrom sklearn.ensemble import GradientBoostingRegressor\\nfrom dask import dataframe as dd\\nimport plotly.express as px\\nimport tqdm\\nimport pickle\\nfrom openpyxl import load_workbook\\nfrom sklearn.preprocessing import OneHotEncoder\\nimport plotly.graph_objs as go\\nimport spacy\\nimport xgboost as xgb\\nimport plotly as py\\nimport sklearn\\nfrom sklearn.ensemble import RandomForestRegressor\\nimport matplotlib as mpl\\nimport bokeh\\nfrom sklearn.feature_extraction.text import TfidfVectorizer\\nimport seaborn as sns\\nimport glob\\nimport nltk\\nfrom sklearn.ensemble import GradientBoostingClassifier\\nimport statistics\\nfrom sklearn.model_selection import train_test_split\\nfrom sklearn.manifold import TSNE\\nfrom sklearn import svm\\nimport lightgbm as lgb'); }\n    "
     },
     "metadata": {}
    },
    {
     "output_type": "display_data",
     "data": {
      "text/plain": "<IPython.core.display.Javascript object>",
      "application/javascript": "\n        if (window._pyforest_update_imports_cell) { window._pyforest_update_imports_cell('from sklearn.ensemble import RandomForestClassifier\\nimport datetime as dt\\nfrom pathlib import Path\\nimport gensim\\nfrom sklearn.ensemble import GradientBoostingRegressor\\nfrom dask import dataframe as dd\\nimport plotly.express as px\\nimport tqdm\\nimport pickle\\nfrom openpyxl import load_workbook\\nfrom sklearn.preprocessing import OneHotEncoder\\nimport plotly.graph_objs as go\\nimport spacy\\nimport xgboost as xgb\\nimport plotly as py\\nimport sklearn\\nfrom sklearn.ensemble import RandomForestRegressor\\nimport matplotlib as mpl\\nimport bokeh\\nfrom sklearn.feature_extraction.text import TfidfVectorizer\\nimport seaborn as sns\\nimport glob\\nimport nltk\\nfrom sklearn.ensemble import GradientBoostingClassifier\\nimport statistics\\nfrom sklearn.model_selection import train_test_split\\nfrom sklearn.manifold import TSNE\\nfrom sklearn import svm\\nimport lightgbm as lgb'); }\n    "
     },
     "metadata": {}
    },
    {
     "output_type": "display_data",
     "data": {
      "text/plain": "<IPython.core.display.Javascript object>",
      "application/javascript": "\n        if (window._pyforest_update_imports_cell) { window._pyforest_update_imports_cell('from sklearn.ensemble import RandomForestClassifier\\nimport datetime as dt\\nfrom pathlib import Path\\nimport gensim\\nfrom sklearn.ensemble import GradientBoostingRegressor\\nfrom dask import dataframe as dd\\nimport plotly.express as px\\nimport tqdm\\nimport pickle\\nfrom openpyxl import load_workbook\\nfrom sklearn.preprocessing import OneHotEncoder\\nimport plotly.graph_objs as go\\nimport spacy\\nimport xgboost as xgb\\nimport plotly as py\\nimport sklearn\\nfrom sklearn.ensemble import RandomForestRegressor\\nimport matplotlib as mpl\\nimport bokeh\\nfrom sklearn.feature_extraction.text import TfidfVectorizer\\nimport seaborn as sns\\nimport glob\\nimport nltk\\nfrom sklearn.ensemble import GradientBoostingClassifier\\nimport statistics\\nfrom sklearn.model_selection import train_test_split\\nfrom sklearn.manifold import TSNE\\nfrom sklearn import svm\\nimport lightgbm as lgb'); }\n    "
     },
     "metadata": {}
    },
    {
     "output_type": "display_data",
     "data": {
      "text/plain": "<IPython.core.display.Javascript object>",
      "application/javascript": "\n        if (window._pyforest_update_imports_cell) { window._pyforest_update_imports_cell('from sklearn.ensemble import RandomForestClassifier\\nimport datetime as dt\\nfrom pathlib import Path\\nimport gensim\\nfrom sklearn.ensemble import GradientBoostingRegressor\\nfrom dask import dataframe as dd\\nimport plotly.express as px\\nimport tqdm\\nimport pickle\\nfrom openpyxl import load_workbook\\nfrom sklearn.preprocessing import OneHotEncoder\\nimport plotly.graph_objs as go\\nimport spacy\\nimport xgboost as xgb\\nimport plotly as py\\nimport sklearn\\nfrom sklearn.ensemble import RandomForestRegressor\\nimport matplotlib as mpl\\nimport bokeh\\nfrom sklearn.feature_extraction.text import TfidfVectorizer\\nimport seaborn as sns\\nimport glob\\nimport nltk\\nfrom sklearn.ensemble import GradientBoostingClassifier\\nimport statistics\\nfrom sklearn.model_selection import train_test_split\\nfrom sklearn.manifold import TSNE\\nfrom sklearn import svm\\nimport lightgbm as lgb'); }\n    "
     },
     "metadata": {}
    },
    {
     "output_type": "display_data",
     "data": {
      "text/plain": "<IPython.core.display.Javascript object>",
      "application/javascript": "\n        if (window._pyforest_update_imports_cell) { window._pyforest_update_imports_cell('from sklearn.ensemble import RandomForestClassifier\\nimport datetime as dt\\nfrom pathlib import Path\\nimport gensim\\nfrom sklearn.ensemble import GradientBoostingRegressor\\nfrom dask import dataframe as dd\\nimport plotly.express as px\\nimport tqdm\\nimport pickle\\nfrom openpyxl import load_workbook\\nfrom sklearn.preprocessing import OneHotEncoder\\nimport plotly.graph_objs as go\\nimport spacy\\nimport xgboost as xgb\\nimport plotly as py\\nimport sklearn\\nfrom sklearn.ensemble import RandomForestRegressor\\nimport matplotlib as mpl\\nimport bokeh\\nfrom sklearn.feature_extraction.text import TfidfVectorizer\\nimport seaborn as sns\\nimport glob\\nimport nltk\\nfrom sklearn.ensemble import GradientBoostingClassifier\\nimport statistics\\nfrom sklearn.model_selection import train_test_split\\nfrom sklearn.manifold import TSNE\\nfrom sklearn import svm\\nimport lightgbm as lgb'); }\n    "
     },
     "metadata": {}
    },
    {
     "output_type": "display_data",
     "data": {
      "text/plain": "<IPython.core.display.Javascript object>",
      "application/javascript": "\n        if (window._pyforest_update_imports_cell) { window._pyforest_update_imports_cell('from sklearn.ensemble import RandomForestClassifier\\nimport datetime as dt\\nfrom pathlib import Path\\nimport gensim\\nfrom sklearn.ensemble import GradientBoostingRegressor\\nfrom dask import dataframe as dd\\nimport plotly.express as px\\nimport tqdm\\nimport pickle\\nfrom openpyxl import load_workbook\\nfrom sklearn.preprocessing import OneHotEncoder\\nimport plotly.graph_objs as go\\nimport spacy\\nimport xgboost as xgb\\nimport plotly as py\\nimport sklearn\\nfrom sklearn.ensemble import RandomForestRegressor\\nimport matplotlib as mpl\\nimport bokeh\\nfrom sklearn.feature_extraction.text import TfidfVectorizer\\nimport seaborn as sns\\nimport glob\\nimport nltk\\nfrom sklearn.ensemble import GradientBoostingClassifier\\nimport statistics\\nfrom sklearn.model_selection import train_test_split\\nfrom sklearn.manifold import TSNE\\nfrom sklearn import svm\\nimport lightgbm as lgb'); }\n    "
     },
     "metadata": {}
    },
    {
     "output_type": "display_data",
     "data": {
      "text/plain": "<IPython.core.display.Javascript object>",
      "application/javascript": "\n        if (window._pyforest_update_imports_cell) { window._pyforest_update_imports_cell('from sklearn.ensemble import RandomForestClassifier\\nimport datetime as dt\\nfrom pathlib import Path\\nimport gensim\\nfrom sklearn.ensemble import GradientBoostingRegressor\\nfrom dask import dataframe as dd\\nimport plotly.express as px\\nimport tqdm\\nimport pickle\\nfrom openpyxl import load_workbook\\nfrom sklearn.preprocessing import OneHotEncoder\\nimport plotly.graph_objs as go\\nimport spacy\\nimport xgboost as xgb\\nimport plotly as py\\nimport sklearn\\nfrom sklearn.ensemble import RandomForestRegressor\\nimport matplotlib as mpl\\nimport bokeh\\nfrom sklearn.feature_extraction.text import TfidfVectorizer\\nimport seaborn as sns\\nimport glob\\nimport nltk\\nfrom sklearn.ensemble import GradientBoostingClassifier\\nimport statistics\\nfrom sklearn.model_selection import train_test_split\\nfrom sklearn.manifold import TSNE\\nfrom sklearn import svm\\nimport lightgbm as lgb'); }\n    "
     },
     "metadata": {}
    },
    {
     "output_type": "display_data",
     "data": {
      "text/plain": "<IPython.core.display.Javascript object>",
      "application/javascript": "\n        if (window._pyforest_update_imports_cell) { window._pyforest_update_imports_cell('from sklearn.ensemble import RandomForestClassifier\\nimport datetime as dt\\nfrom pathlib import Path\\nimport gensim\\nfrom sklearn.ensemble import GradientBoostingRegressor\\nfrom dask import dataframe as dd\\nimport plotly.express as px\\nimport tqdm\\nimport pickle\\nfrom openpyxl import load_workbook\\nfrom sklearn.preprocessing import OneHotEncoder\\nimport plotly.graph_objs as go\\nimport spacy\\nimport xgboost as xgb\\nimport plotly as py\\nimport sklearn\\nfrom sklearn.ensemble import RandomForestRegressor\\nimport matplotlib as mpl\\nimport bokeh\\nfrom sklearn.feature_extraction.text import TfidfVectorizer\\nimport seaborn as sns\\nimport glob\\nimport nltk\\nfrom sklearn.ensemble import GradientBoostingClassifier\\nimport statistics\\nfrom sklearn.model_selection import train_test_split\\nfrom sklearn.manifold import TSNE\\nfrom sklearn import svm\\nimport lightgbm as lgb'); }\n    "
     },
     "metadata": {}
    },
    {
     "output_type": "display_data",
     "data": {
      "text/plain": "<IPython.core.display.Javascript object>",
      "application/javascript": "\n        if (window._pyforest_update_imports_cell) { window._pyforest_update_imports_cell('from sklearn.ensemble import RandomForestClassifier\\nimport datetime as dt\\nfrom pathlib import Path\\nimport gensim\\nfrom sklearn.ensemble import GradientBoostingRegressor\\nfrom dask import dataframe as dd\\nimport plotly.express as px\\nimport tqdm\\nimport pickle\\nfrom openpyxl import load_workbook\\nfrom sklearn.preprocessing import OneHotEncoder\\nimport plotly.graph_objs as go\\nimport spacy\\nimport xgboost as xgb\\nimport plotly as py\\nimport sklearn\\nfrom sklearn.ensemble import RandomForestRegressor\\nimport matplotlib as mpl\\nimport bokeh\\nfrom sklearn.feature_extraction.text import TfidfVectorizer\\nimport seaborn as sns\\nimport glob\\nimport nltk\\nfrom sklearn.ensemble import GradientBoostingClassifier\\nimport statistics\\nfrom sklearn.model_selection import train_test_split\\nfrom sklearn.manifold import TSNE\\nfrom sklearn import svm\\nimport lightgbm as lgb'); }\n    "
     },
     "metadata": {}
    },
    {
     "output_type": "display_data",
     "data": {
      "text/plain": "<IPython.core.display.Javascript object>",
      "application/javascript": "\n        if (window._pyforest_update_imports_cell) { window._pyforest_update_imports_cell('from sklearn.ensemble import RandomForestClassifier\\nimport datetime as dt\\nfrom pathlib import Path\\nimport gensim\\nfrom sklearn.ensemble import GradientBoostingRegressor\\nfrom dask import dataframe as dd\\nimport plotly.express as px\\nimport tqdm\\nimport pickle\\nfrom openpyxl import load_workbook\\nfrom sklearn.preprocessing import OneHotEncoder\\nimport plotly.graph_objs as go\\nimport spacy\\nimport xgboost as xgb\\nimport plotly as py\\nimport sklearn\\nfrom sklearn.ensemble import RandomForestRegressor\\nimport matplotlib as mpl\\nimport bokeh\\nfrom sklearn.feature_extraction.text import TfidfVectorizer\\nimport seaborn as sns\\nimport glob\\nimport nltk\\nfrom sklearn.ensemble import GradientBoostingClassifier\\nimport statistics\\nfrom sklearn.model_selection import train_test_split\\nfrom sklearn.manifold import TSNE\\nfrom sklearn import svm\\nimport lightgbm as lgb'); }\n    "
     },
     "metadata": {}
    },
    {
     "output_type": "display_data",
     "data": {
      "text/plain": "<IPython.core.display.Javascript object>",
      "application/javascript": "\n        if (window._pyforest_update_imports_cell) { window._pyforest_update_imports_cell('from sklearn.ensemble import RandomForestClassifier\\nimport datetime as dt\\nfrom pathlib import Path\\nimport gensim\\nfrom sklearn.ensemble import GradientBoostingRegressor\\nfrom dask import dataframe as dd\\nimport plotly.express as px\\nimport tqdm\\nimport pickle\\nfrom openpyxl import load_workbook\\nfrom sklearn.preprocessing import OneHotEncoder\\nimport plotly.graph_objs as go\\nimport spacy\\nimport xgboost as xgb\\nimport plotly as py\\nimport sklearn\\nfrom sklearn.ensemble import RandomForestRegressor\\nimport matplotlib as mpl\\nimport bokeh\\nfrom sklearn.feature_extraction.text import TfidfVectorizer\\nimport seaborn as sns\\nimport glob\\nimport nltk\\nfrom sklearn.ensemble import GradientBoostingClassifier\\nimport statistics\\nfrom sklearn.model_selection import train_test_split\\nfrom sklearn.manifold import TSNE\\nfrom sklearn import svm\\nimport lightgbm as lgb'); }\n    "
     },
     "metadata": {}
    },
    {
     "output_type": "display_data",
     "data": {
      "text/plain": "<IPython.core.display.Javascript object>",
      "application/javascript": "\n        if (window._pyforest_update_imports_cell) { window._pyforest_update_imports_cell('from sklearn.ensemble import RandomForestClassifier\\nimport datetime as dt\\nfrom pathlib import Path\\nimport gensim\\nfrom sklearn.ensemble import GradientBoostingRegressor\\nfrom dask import dataframe as dd\\nimport plotly.express as px\\nimport tqdm\\nimport pickle\\nfrom openpyxl import load_workbook\\nfrom sklearn.preprocessing import OneHotEncoder\\nimport plotly.graph_objs as go\\nimport spacy\\nimport xgboost as xgb\\nimport plotly as py\\nimport sklearn\\nfrom sklearn.ensemble import RandomForestRegressor\\nimport matplotlib as mpl\\nimport bokeh\\nfrom sklearn.feature_extraction.text import TfidfVectorizer\\nimport seaborn as sns\\nimport glob\\nimport nltk\\nfrom sklearn.ensemble import GradientBoostingClassifier\\nimport statistics\\nfrom sklearn.model_selection import train_test_split\\nfrom sklearn.manifold import TSNE\\nfrom sklearn import svm\\nimport lightgbm as lgb'); }\n    "
     },
     "metadata": {}
    },
    {
     "output_type": "display_data",
     "data": {
      "text/plain": "<IPython.core.display.Javascript object>",
      "application/javascript": "\n        if (window._pyforest_update_imports_cell) { window._pyforest_update_imports_cell('from sklearn.ensemble import RandomForestClassifier\\nimport datetime as dt\\nfrom pathlib import Path\\nimport gensim\\nfrom sklearn.ensemble import GradientBoostingRegressor\\nfrom dask import dataframe as dd\\nimport plotly.express as px\\nimport tqdm\\nimport pickle\\nfrom openpyxl import load_workbook\\nfrom sklearn.preprocessing import OneHotEncoder\\nimport plotly.graph_objs as go\\nimport spacy\\nimport xgboost as xgb\\nimport plotly as py\\nimport sklearn\\nfrom sklearn.ensemble import RandomForestRegressor\\nimport matplotlib as mpl\\nimport bokeh\\nfrom sklearn.feature_extraction.text import TfidfVectorizer\\nimport seaborn as sns\\nimport glob\\nimport nltk\\nfrom sklearn.ensemble import GradientBoostingClassifier\\nimport statistics\\nfrom sklearn.model_selection import train_test_split\\nfrom sklearn.manifold import TSNE\\nfrom sklearn import svm\\nimport lightgbm as lgb'); }\n    "
     },
     "metadata": {}
    },
    {
     "output_type": "display_data",
     "data": {
      "text/plain": "<IPython.core.display.Javascript object>",
      "application/javascript": "\n        if (window._pyforest_update_imports_cell) { window._pyforest_update_imports_cell('from sklearn.ensemble import RandomForestClassifier\\nimport datetime as dt\\nfrom pathlib import Path\\nimport gensim\\nfrom sklearn.ensemble import GradientBoostingRegressor\\nfrom dask import dataframe as dd\\nimport plotly.express as px\\nimport tqdm\\nimport pickle\\nfrom openpyxl import load_workbook\\nfrom sklearn.preprocessing import OneHotEncoder\\nimport plotly.graph_objs as go\\nimport spacy\\nimport xgboost as xgb\\nimport plotly as py\\nimport sklearn\\nfrom sklearn.ensemble import RandomForestRegressor\\nimport matplotlib as mpl\\nimport bokeh\\nfrom sklearn.feature_extraction.text import TfidfVectorizer\\nimport seaborn as sns\\nimport glob\\nimport nltk\\nfrom sklearn.ensemble import GradientBoostingClassifier\\nimport statistics\\nfrom sklearn.model_selection import train_test_split\\nfrom sklearn.manifold import TSNE\\nfrom sklearn import svm\\nimport lightgbm as lgb'); }\n    "
     },
     "metadata": {}
    },
    {
     "output_type": "display_data",
     "data": {
      "text/plain": "<IPython.core.display.Javascript object>",
      "application/javascript": "\n        if (window._pyforest_update_imports_cell) { window._pyforest_update_imports_cell('from sklearn.ensemble import RandomForestClassifier\\nimport datetime as dt\\nfrom pathlib import Path\\nimport gensim\\nfrom sklearn.ensemble import GradientBoostingRegressor\\nfrom dask import dataframe as dd\\nimport plotly.express as px\\nimport tqdm\\nimport pickle\\nfrom openpyxl import load_workbook\\nfrom sklearn.preprocessing import OneHotEncoder\\nimport plotly.graph_objs as go\\nimport spacy\\nimport xgboost as xgb\\nimport plotly as py\\nimport sklearn\\nfrom sklearn.ensemble import RandomForestRegressor\\nimport matplotlib as mpl\\nimport bokeh\\nfrom sklearn.feature_extraction.text import TfidfVectorizer\\nimport seaborn as sns\\nimport glob\\nimport nltk\\nfrom sklearn.ensemble import GradientBoostingClassifier\\nimport statistics\\nfrom sklearn.model_selection import train_test_split\\nfrom sklearn.manifold import TSNE\\nfrom sklearn import svm\\nimport lightgbm as lgb'); }\n    "
     },
     "metadata": {}
    },
    {
     "output_type": "display_data",
     "data": {
      "text/plain": "<IPython.core.display.Javascript object>",
      "application/javascript": "\n        if (window._pyforest_update_imports_cell) { window._pyforest_update_imports_cell('from sklearn.ensemble import RandomForestClassifier\\nimport datetime as dt\\nfrom pathlib import Path\\nimport gensim\\nfrom sklearn.ensemble import GradientBoostingRegressor\\nfrom dask import dataframe as dd\\nimport plotly.express as px\\nimport tqdm\\nimport pickle\\nfrom openpyxl import load_workbook\\nfrom sklearn.preprocessing import OneHotEncoder\\nimport plotly.graph_objs as go\\nimport spacy\\nimport xgboost as xgb\\nimport plotly as py\\nimport sklearn\\nfrom sklearn.ensemble import RandomForestRegressor\\nimport matplotlib as mpl\\nimport bokeh\\nfrom sklearn.feature_extraction.text import TfidfVectorizer\\nimport seaborn as sns\\nimport glob\\nimport nltk\\nfrom sklearn.ensemble import GradientBoostingClassifier\\nimport statistics\\nfrom sklearn.model_selection import train_test_split\\nfrom sklearn.manifold import TSNE\\nfrom sklearn import svm\\nimport lightgbm as lgb'); }\n    "
     },
     "metadata": {}
    },
    {
     "output_type": "display_data",
     "data": {
      "text/plain": "<IPython.core.display.Javascript object>",
      "application/javascript": "\n        if (window._pyforest_update_imports_cell) { window._pyforest_update_imports_cell('from sklearn.ensemble import RandomForestClassifier\\nimport datetime as dt\\nfrom pathlib import Path\\nimport gensim\\nfrom sklearn.ensemble import GradientBoostingRegressor\\nfrom dask import dataframe as dd\\nimport plotly.express as px\\nimport tqdm\\nimport pickle\\nfrom openpyxl import load_workbook\\nfrom sklearn.preprocessing import OneHotEncoder\\nimport plotly.graph_objs as go\\nimport spacy\\nimport xgboost as xgb\\nimport plotly as py\\nimport sklearn\\nfrom sklearn.ensemble import RandomForestRegressor\\nimport matplotlib as mpl\\nimport bokeh\\nfrom sklearn.feature_extraction.text import TfidfVectorizer\\nimport seaborn as sns\\nimport glob\\nimport nltk\\nfrom sklearn.ensemble import GradientBoostingClassifier\\nimport statistics\\nfrom sklearn.model_selection import train_test_split\\nfrom sklearn.manifold import TSNE\\nfrom sklearn import svm\\nimport lightgbm as lgb'); }\n    "
     },
     "metadata": {}
    },
    {
     "output_type": "display_data",
     "data": {
      "text/plain": "<IPython.core.display.Javascript object>",
      "application/javascript": "\n        if (window._pyforest_update_imports_cell) { window._pyforest_update_imports_cell('from sklearn.ensemble import RandomForestClassifier\\nimport datetime as dt\\nfrom pathlib import Path\\nimport gensim\\nfrom sklearn.ensemble import GradientBoostingRegressor\\nfrom dask import dataframe as dd\\nimport plotly.express as px\\nimport tqdm\\nimport pickle\\nfrom openpyxl import load_workbook\\nfrom sklearn.preprocessing import OneHotEncoder\\nimport plotly.graph_objs as go\\nimport spacy\\nimport xgboost as xgb\\nimport plotly as py\\nimport sklearn\\nfrom sklearn.ensemble import RandomForestRegressor\\nimport matplotlib as mpl\\nimport bokeh\\nfrom sklearn.feature_extraction.text import TfidfVectorizer\\nimport seaborn as sns\\nimport glob\\nimport nltk\\nfrom sklearn.ensemble import GradientBoostingClassifier\\nimport statistics\\nfrom sklearn.model_selection import train_test_split\\nfrom sklearn.manifold import TSNE\\nfrom sklearn import svm\\nimport lightgbm as lgb'); }\n    "
     },
     "metadata": {}
    },
    {
     "output_type": "display_data",
     "data": {
      "text/plain": "<IPython.core.display.Javascript object>",
      "application/javascript": "\n        if (window._pyforest_update_imports_cell) { window._pyforest_update_imports_cell('from sklearn.ensemble import RandomForestClassifier\\nimport datetime as dt\\nfrom pathlib import Path\\nimport gensim\\nfrom sklearn.ensemble import GradientBoostingRegressor\\nfrom dask import dataframe as dd\\nimport plotly.express as px\\nimport tqdm\\nimport pickle\\nfrom openpyxl import load_workbook\\nfrom sklearn.preprocessing import OneHotEncoder\\nimport plotly.graph_objs as go\\nimport spacy\\nimport xgboost as xgb\\nimport plotly as py\\nimport sklearn\\nfrom sklearn.ensemble import RandomForestRegressor\\nimport matplotlib as mpl\\nimport bokeh\\nfrom sklearn.feature_extraction.text import TfidfVectorizer\\nimport seaborn as sns\\nimport glob\\nimport nltk\\nfrom sklearn.ensemble import GradientBoostingClassifier\\nimport statistics\\nfrom sklearn.model_selection import train_test_split\\nfrom sklearn.manifold import TSNE\\nfrom sklearn import svm\\nimport lightgbm as lgb'); }\n    "
     },
     "metadata": {}
    },
    {
     "output_type": "display_data",
     "data": {
      "text/plain": "<IPython.core.display.Javascript object>",
      "application/javascript": "\n        if (window._pyforest_update_imports_cell) { window._pyforest_update_imports_cell('from sklearn.ensemble import RandomForestClassifier\\nimport datetime as dt\\nfrom pathlib import Path\\nimport gensim\\nfrom sklearn.ensemble import GradientBoostingRegressor\\nfrom dask import dataframe as dd\\nimport plotly.express as px\\nimport tqdm\\nimport pickle\\nfrom openpyxl import load_workbook\\nfrom sklearn.preprocessing import OneHotEncoder\\nimport plotly.graph_objs as go\\nimport spacy\\nimport xgboost as xgb\\nimport plotly as py\\nimport sklearn\\nfrom sklearn.ensemble import RandomForestRegressor\\nimport matplotlib as mpl\\nimport bokeh\\nfrom sklearn.feature_extraction.text import TfidfVectorizer\\nimport seaborn as sns\\nimport glob\\nimport nltk\\nfrom sklearn.ensemble import GradientBoostingClassifier\\nimport statistics\\nfrom sklearn.model_selection import train_test_split\\nfrom sklearn.manifold import TSNE\\nfrom sklearn import svm\\nimport lightgbm as lgb'); }\n    "
     },
     "metadata": {}
    },
    {
     "output_type": "display_data",
     "data": {
      "text/plain": "<IPython.core.display.Javascript object>",
      "application/javascript": "\n        if (window._pyforest_update_imports_cell) { window._pyforest_update_imports_cell('from sklearn.ensemble import RandomForestClassifier\\nimport datetime as dt\\nfrom pathlib import Path\\nimport gensim\\nfrom sklearn.ensemble import GradientBoostingRegressor\\nfrom dask import dataframe as dd\\nimport plotly.express as px\\nimport tqdm\\nimport pickle\\nfrom openpyxl import load_workbook\\nfrom sklearn.preprocessing import OneHotEncoder\\nimport plotly.graph_objs as go\\nimport spacy\\nimport xgboost as xgb\\nimport plotly as py\\nimport sklearn\\nfrom sklearn.ensemble import RandomForestRegressor\\nimport matplotlib as mpl\\nimport bokeh\\nfrom sklearn.feature_extraction.text import TfidfVectorizer\\nimport seaborn as sns\\nimport glob\\nimport nltk\\nfrom sklearn.ensemble import GradientBoostingClassifier\\nimport statistics\\nfrom sklearn.model_selection import train_test_split\\nfrom sklearn.manifold import TSNE\\nfrom sklearn import svm\\nimport lightgbm as lgb'); }\n    "
     },
     "metadata": {}
    },
    {
     "output_type": "display_data",
     "data": {
      "text/plain": "<IPython.core.display.Javascript object>",
      "application/javascript": "\n        if (window._pyforest_update_imports_cell) { window._pyforest_update_imports_cell('from sklearn.ensemble import RandomForestClassifier\\nimport datetime as dt\\nfrom pathlib import Path\\nimport gensim\\nfrom sklearn.ensemble import GradientBoostingRegressor\\nfrom dask import dataframe as dd\\nimport plotly.express as px\\nimport tqdm\\nimport pickle\\nfrom openpyxl import load_workbook\\nfrom sklearn.preprocessing import OneHotEncoder\\nimport plotly.graph_objs as go\\nimport spacy\\nimport xgboost as xgb\\nimport plotly as py\\nimport sklearn\\nfrom sklearn.ensemble import RandomForestRegressor\\nimport matplotlib as mpl\\nimport bokeh\\nfrom sklearn.feature_extraction.text import TfidfVectorizer\\nimport seaborn as sns\\nimport glob\\nimport nltk\\nfrom sklearn.ensemble import GradientBoostingClassifier\\nimport statistics\\nfrom sklearn.model_selection import train_test_split\\nfrom sklearn.manifold import TSNE\\nfrom sklearn import svm\\nimport lightgbm as lgb'); }\n    "
     },
     "metadata": {}
    },
    {
     "output_type": "display_data",
     "data": {
      "text/plain": "<IPython.core.display.Javascript object>",
      "application/javascript": "\n        if (window._pyforest_update_imports_cell) { window._pyforest_update_imports_cell('from sklearn.ensemble import RandomForestClassifier\\nimport datetime as dt\\nfrom pathlib import Path\\nimport gensim\\nfrom sklearn.ensemble import GradientBoostingRegressor\\nfrom dask import dataframe as dd\\nimport plotly.express as px\\nimport tqdm\\nimport pickle\\nfrom openpyxl import load_workbook\\nfrom sklearn.preprocessing import OneHotEncoder\\nimport plotly.graph_objs as go\\nimport spacy\\nimport xgboost as xgb\\nimport plotly as py\\nimport sklearn\\nfrom sklearn.ensemble import RandomForestRegressor\\nimport matplotlib as mpl\\nimport bokeh\\nfrom sklearn.feature_extraction.text import TfidfVectorizer\\nimport seaborn as sns\\nimport glob\\nimport nltk\\nfrom sklearn.ensemble import GradientBoostingClassifier\\nimport statistics\\nfrom sklearn.model_selection import train_test_split\\nfrom sklearn.manifold import TSNE\\nfrom sklearn import svm\\nimport lightgbm as lgb'); }\n    "
     },
     "metadata": {}
    },
    {
     "output_type": "display_data",
     "data": {
      "text/plain": "<IPython.core.display.Javascript object>",
      "application/javascript": "\n        if (window._pyforest_update_imports_cell) { window._pyforest_update_imports_cell('from sklearn.ensemble import RandomForestClassifier\\nimport datetime as dt\\nfrom pathlib import Path\\nimport gensim\\nfrom sklearn.ensemble import GradientBoostingRegressor\\nfrom dask import dataframe as dd\\nimport plotly.express as px\\nimport tqdm\\nimport pickle\\nfrom openpyxl import load_workbook\\nfrom sklearn.preprocessing import OneHotEncoder\\nimport plotly.graph_objs as go\\nimport spacy\\nimport xgboost as xgb\\nimport plotly as py\\nimport sklearn\\nfrom sklearn.ensemble import RandomForestRegressor\\nimport matplotlib as mpl\\nimport bokeh\\nfrom sklearn.feature_extraction.text import TfidfVectorizer\\nimport seaborn as sns\\nimport glob\\nimport nltk\\nfrom sklearn.ensemble import GradientBoostingClassifier\\nimport statistics\\nfrom sklearn.model_selection import train_test_split\\nfrom sklearn.manifold import TSNE\\nfrom sklearn import svm\\nimport lightgbm as lgb'); }\n    "
     },
     "metadata": {}
    },
    {
     "output_type": "display_data",
     "data": {
      "text/plain": "<IPython.core.display.Javascript object>",
      "application/javascript": "\n        if (window._pyforest_update_imports_cell) { window._pyforest_update_imports_cell('from sklearn.ensemble import RandomForestClassifier\\nimport datetime as dt\\nfrom pathlib import Path\\nimport gensim\\nfrom sklearn.ensemble import GradientBoostingRegressor\\nfrom dask import dataframe as dd\\nimport plotly.express as px\\nimport tqdm\\nimport pickle\\nfrom openpyxl import load_workbook\\nfrom sklearn.preprocessing import OneHotEncoder\\nimport plotly.graph_objs as go\\nimport spacy\\nimport xgboost as xgb\\nimport plotly as py\\nimport sklearn\\nfrom sklearn.ensemble import RandomForestRegressor\\nimport matplotlib as mpl\\nimport bokeh\\nfrom sklearn.feature_extraction.text import TfidfVectorizer\\nimport seaborn as sns\\nimport glob\\nimport nltk\\nfrom sklearn.ensemble import GradientBoostingClassifier\\nimport statistics\\nfrom sklearn.model_selection import train_test_split\\nfrom sklearn.manifold import TSNE\\nfrom sklearn import svm\\nimport lightgbm as lgb'); }\n    "
     },
     "metadata": {}
    },
    {
     "output_type": "display_data",
     "data": {
      "text/plain": "<IPython.core.display.Javascript object>",
      "application/javascript": "\n        if (window._pyforest_update_imports_cell) { window._pyforest_update_imports_cell('from sklearn.ensemble import RandomForestClassifier\\nimport datetime as dt\\nfrom pathlib import Path\\nimport gensim\\nfrom sklearn.ensemble import GradientBoostingRegressor\\nfrom dask import dataframe as dd\\nimport plotly.express as px\\nimport tqdm\\nimport pickle\\nfrom openpyxl import load_workbook\\nfrom sklearn.preprocessing import OneHotEncoder\\nimport plotly.graph_objs as go\\nimport spacy\\nimport xgboost as xgb\\nimport plotly as py\\nimport sklearn\\nfrom sklearn.ensemble import RandomForestRegressor\\nimport matplotlib as mpl\\nimport bokeh\\nfrom sklearn.feature_extraction.text import TfidfVectorizer\\nimport seaborn as sns\\nimport glob\\nimport nltk\\nfrom sklearn.ensemble import GradientBoostingClassifier\\nimport statistics\\nfrom sklearn.model_selection import train_test_split\\nfrom sklearn.manifold import TSNE\\nfrom sklearn import svm\\nimport lightgbm as lgb'); }\n    "
     },
     "metadata": {}
    },
    {
     "output_type": "display_data",
     "data": {
      "text/plain": "<IPython.core.display.Javascript object>",
      "application/javascript": "\n        if (window._pyforest_update_imports_cell) { window._pyforest_update_imports_cell('from sklearn.ensemble import RandomForestClassifier\\nimport datetime as dt\\nfrom pathlib import Path\\nimport gensim\\nfrom sklearn.ensemble import GradientBoostingRegressor\\nfrom dask import dataframe as dd\\nimport plotly.express as px\\nimport tqdm\\nimport pickle\\nfrom openpyxl import load_workbook\\nfrom sklearn.preprocessing import OneHotEncoder\\nimport plotly.graph_objs as go\\nimport spacy\\nimport xgboost as xgb\\nimport plotly as py\\nimport sklearn\\nfrom sklearn.ensemble import RandomForestRegressor\\nimport matplotlib as mpl\\nimport bokeh\\nfrom sklearn.feature_extraction.text import TfidfVectorizer\\nimport seaborn as sns\\nimport glob\\nimport nltk\\nfrom sklearn.ensemble import GradientBoostingClassifier\\nimport statistics\\nfrom sklearn.model_selection import train_test_split\\nfrom sklearn.manifold import TSNE\\nfrom sklearn import svm\\nimport lightgbm as lgb'); }\n    "
     },
     "metadata": {}
    },
    {
     "output_type": "display_data",
     "data": {
      "text/plain": "<IPython.core.display.Javascript object>",
      "application/javascript": "\n        if (window._pyforest_update_imports_cell) { window._pyforest_update_imports_cell('from sklearn.ensemble import RandomForestClassifier\\nimport datetime as dt\\nfrom pathlib import Path\\nimport gensim\\nfrom sklearn.ensemble import GradientBoostingRegressor\\nfrom dask import dataframe as dd\\nimport plotly.express as px\\nimport tqdm\\nimport pickle\\nfrom openpyxl import load_workbook\\nfrom sklearn.preprocessing import OneHotEncoder\\nimport plotly.graph_objs as go\\nimport spacy\\nimport xgboost as xgb\\nimport plotly as py\\nimport sklearn\\nfrom sklearn.ensemble import RandomForestRegressor\\nimport matplotlib as mpl\\nimport bokeh\\nfrom sklearn.feature_extraction.text import TfidfVectorizer\\nimport seaborn as sns\\nimport glob\\nimport nltk\\nfrom sklearn.ensemble import GradientBoostingClassifier\\nimport statistics\\nfrom sklearn.model_selection import train_test_split\\nfrom sklearn.manifold import TSNE\\nfrom sklearn import svm\\nimport lightgbm as lgb'); }\n    "
     },
     "metadata": {}
    },
    {
     "output_type": "display_data",
     "data": {
      "text/plain": "<IPython.core.display.Javascript object>",
      "application/javascript": "\n        if (window._pyforest_update_imports_cell) { window._pyforest_update_imports_cell('from sklearn.ensemble import RandomForestClassifier\\nimport datetime as dt\\nfrom pathlib import Path\\nimport gensim\\nfrom sklearn.ensemble import GradientBoostingRegressor\\nfrom dask import dataframe as dd\\nimport plotly.express as px\\nimport tqdm\\nimport pickle\\nfrom openpyxl import load_workbook\\nfrom sklearn.preprocessing import OneHotEncoder\\nimport plotly.graph_objs as go\\nimport spacy\\nimport xgboost as xgb\\nimport plotly as py\\nimport sklearn\\nfrom sklearn.ensemble import RandomForestRegressor\\nimport matplotlib as mpl\\nimport bokeh\\nfrom sklearn.feature_extraction.text import TfidfVectorizer\\nimport seaborn as sns\\nimport glob\\nimport nltk\\nfrom sklearn.ensemble import GradientBoostingClassifier\\nimport statistics\\nfrom sklearn.model_selection import train_test_split\\nfrom sklearn.manifold import TSNE\\nfrom sklearn import svm\\nimport lightgbm as lgb'); }\n    "
     },
     "metadata": {}
    },
    {
     "output_type": "display_data",
     "data": {
      "text/plain": "<IPython.core.display.Javascript object>",
      "application/javascript": "\n        if (window._pyforest_update_imports_cell) { window._pyforest_update_imports_cell('from sklearn.ensemble import RandomForestClassifier\\nimport datetime as dt\\nfrom pathlib import Path\\nimport gensim\\nfrom sklearn.ensemble import GradientBoostingRegressor\\nfrom dask import dataframe as dd\\nimport plotly.express as px\\nimport tqdm\\nimport pickle\\nfrom openpyxl import load_workbook\\nfrom sklearn.preprocessing import OneHotEncoder\\nimport plotly.graph_objs as go\\nimport spacy\\nimport xgboost as xgb\\nimport plotly as py\\nimport sklearn\\nfrom sklearn.ensemble import RandomForestRegressor\\nimport matplotlib as mpl\\nimport bokeh\\nfrom sklearn.feature_extraction.text import TfidfVectorizer\\nimport seaborn as sns\\nimport glob\\nimport nltk\\nfrom sklearn.ensemble import GradientBoostingClassifier\\nimport statistics\\nfrom sklearn.model_selection import train_test_split\\nfrom sklearn.manifold import TSNE\\nfrom sklearn import svm\\nimport lightgbm as lgb'); }\n    "
     },
     "metadata": {}
    },
    {
     "output_type": "display_data",
     "data": {
      "text/plain": "<IPython.core.display.Javascript object>",
      "application/javascript": "\n        if (window._pyforest_update_imports_cell) { window._pyforest_update_imports_cell('from sklearn.ensemble import RandomForestClassifier\\nimport datetime as dt\\nfrom pathlib import Path\\nimport gensim\\nfrom sklearn.ensemble import GradientBoostingRegressor\\nfrom dask import dataframe as dd\\nimport plotly.express as px\\nimport tqdm\\nimport pickle\\nfrom openpyxl import load_workbook\\nfrom sklearn.preprocessing import OneHotEncoder\\nimport plotly.graph_objs as go\\nimport spacy\\nimport xgboost as xgb\\nimport plotly as py\\nimport sklearn\\nfrom sklearn.ensemble import RandomForestRegressor\\nimport matplotlib as mpl\\nimport bokeh\\nfrom sklearn.feature_extraction.text import TfidfVectorizer\\nimport seaborn as sns\\nimport glob\\nimport nltk\\nfrom sklearn.ensemble import GradientBoostingClassifier\\nimport statistics\\nfrom sklearn.model_selection import train_test_split\\nfrom sklearn.manifold import TSNE\\nfrom sklearn import svm\\nimport lightgbm as lgb'); }\n    "
     },
     "metadata": {}
    },
    {
     "output_type": "display_data",
     "data": {
      "text/plain": "<IPython.core.display.Javascript object>",
      "application/javascript": "\n        if (window._pyforest_update_imports_cell) { window._pyforest_update_imports_cell('from sklearn.ensemble import RandomForestClassifier\\nimport datetime as dt\\nfrom pathlib import Path\\nimport gensim\\nfrom sklearn.ensemble import GradientBoostingRegressor\\nfrom dask import dataframe as dd\\nimport plotly.express as px\\nimport tqdm\\nimport pickle\\nfrom openpyxl import load_workbook\\nfrom sklearn.preprocessing import OneHotEncoder\\nimport plotly.graph_objs as go\\nimport spacy\\nimport xgboost as xgb\\nimport plotly as py\\nimport sklearn\\nfrom sklearn.ensemble import RandomForestRegressor\\nimport matplotlib as mpl\\nimport bokeh\\nfrom sklearn.feature_extraction.text import TfidfVectorizer\\nimport seaborn as sns\\nimport glob\\nimport nltk\\nfrom sklearn.ensemble import GradientBoostingClassifier\\nimport statistics\\nfrom sklearn.model_selection import train_test_split\\nfrom sklearn.manifold import TSNE\\nfrom sklearn import svm\\nimport lightgbm as lgb'); }\n    "
     },
     "metadata": {}
    },
    {
     "output_type": "display_data",
     "data": {
      "text/plain": "<IPython.core.display.Javascript object>",
      "application/javascript": "\n        if (window._pyforest_update_imports_cell) { window._pyforest_update_imports_cell('from sklearn.ensemble import RandomForestClassifier\\nimport datetime as dt\\nfrom pathlib import Path\\nimport gensim\\nfrom sklearn.ensemble import GradientBoostingRegressor\\nfrom dask import dataframe as dd\\nimport plotly.express as px\\nimport tqdm\\nimport pickle\\nfrom openpyxl import load_workbook\\nfrom sklearn.preprocessing import OneHotEncoder\\nimport plotly.graph_objs as go\\nimport spacy\\nimport xgboost as xgb\\nimport plotly as py\\nimport sklearn\\nfrom sklearn.ensemble import RandomForestRegressor\\nimport matplotlib as mpl\\nimport bokeh\\nfrom sklearn.feature_extraction.text import TfidfVectorizer\\nimport seaborn as sns\\nimport glob\\nimport nltk\\nfrom sklearn.ensemble import GradientBoostingClassifier\\nimport statistics\\nfrom sklearn.model_selection import train_test_split\\nfrom sklearn.manifold import TSNE\\nfrom sklearn import svm\\nimport lightgbm as lgb'); }\n    "
     },
     "metadata": {}
    },
    {
     "output_type": "display_data",
     "data": {
      "text/plain": "<IPython.core.display.Javascript object>",
      "application/javascript": "\n        if (window._pyforest_update_imports_cell) { window._pyforest_update_imports_cell('from sklearn.ensemble import RandomForestClassifier\\nimport datetime as dt\\nfrom pathlib import Path\\nimport gensim\\nfrom sklearn.ensemble import GradientBoostingRegressor\\nfrom dask import dataframe as dd\\nimport plotly.express as px\\nimport tqdm\\nimport pickle\\nfrom openpyxl import load_workbook\\nfrom sklearn.preprocessing import OneHotEncoder\\nimport plotly.graph_objs as go\\nimport spacy\\nimport xgboost as xgb\\nimport plotly as py\\nimport sklearn\\nfrom sklearn.ensemble import RandomForestRegressor\\nimport matplotlib as mpl\\nimport bokeh\\nfrom sklearn.feature_extraction.text import TfidfVectorizer\\nimport seaborn as sns\\nimport glob\\nimport nltk\\nfrom sklearn.ensemble import GradientBoostingClassifier\\nimport statistics\\nfrom sklearn.model_selection import train_test_split\\nfrom sklearn.manifold import TSNE\\nfrom sklearn import svm\\nimport lightgbm as lgb'); }\n    "
     },
     "metadata": {}
    },
    {
     "output_type": "display_data",
     "data": {
      "text/plain": "<IPython.core.display.Javascript object>",
      "application/javascript": "\n        if (window._pyforest_update_imports_cell) { window._pyforest_update_imports_cell('from sklearn.ensemble import RandomForestClassifier\\nimport datetime as dt\\nfrom pathlib import Path\\nimport gensim\\nfrom sklearn.ensemble import GradientBoostingRegressor\\nfrom dask import dataframe as dd\\nimport plotly.express as px\\nimport tqdm\\nimport pickle\\nfrom openpyxl import load_workbook\\nfrom sklearn.preprocessing import OneHotEncoder\\nimport plotly.graph_objs as go\\nimport spacy\\nimport xgboost as xgb\\nimport plotly as py\\nimport sklearn\\nfrom sklearn.ensemble import RandomForestRegressor\\nimport matplotlib as mpl\\nimport bokeh\\nfrom sklearn.feature_extraction.text import TfidfVectorizer\\nimport seaborn as sns\\nimport glob\\nimport nltk\\nfrom sklearn.ensemble import GradientBoostingClassifier\\nimport statistics\\nfrom sklearn.model_selection import train_test_split\\nfrom sklearn.manifold import TSNE\\nfrom sklearn import svm\\nimport lightgbm as lgb'); }\n    "
     },
     "metadata": {}
    },
    {
     "output_type": "display_data",
     "data": {
      "text/plain": "<IPython.core.display.Javascript object>",
      "application/javascript": "\n        if (window._pyforest_update_imports_cell) { window._pyforest_update_imports_cell('from sklearn.ensemble import RandomForestClassifier\\nimport datetime as dt\\nfrom pathlib import Path\\nimport gensim\\nfrom sklearn.ensemble import GradientBoostingRegressor\\nfrom dask import dataframe as dd\\nimport plotly.express as px\\nimport tqdm\\nimport pickle\\nfrom openpyxl import load_workbook\\nfrom sklearn.preprocessing import OneHotEncoder\\nimport plotly.graph_objs as go\\nimport spacy\\nimport xgboost as xgb\\nimport plotly as py\\nimport sklearn\\nfrom sklearn.ensemble import RandomForestRegressor\\nimport matplotlib as mpl\\nimport bokeh\\nfrom sklearn.feature_extraction.text import TfidfVectorizer\\nimport seaborn as sns\\nimport glob\\nimport nltk\\nfrom sklearn.ensemble import GradientBoostingClassifier\\nimport statistics\\nfrom sklearn.model_selection import train_test_split\\nfrom sklearn.manifold import TSNE\\nfrom sklearn import svm\\nimport lightgbm as lgb'); }\n    "
     },
     "metadata": {}
    },
    {
     "output_type": "display_data",
     "data": {
      "text/plain": "<IPython.core.display.Javascript object>",
      "application/javascript": "\n        if (window._pyforest_update_imports_cell) { window._pyforest_update_imports_cell('from sklearn.ensemble import RandomForestClassifier\\nimport datetime as dt\\nfrom pathlib import Path\\nimport gensim\\nfrom sklearn.ensemble import GradientBoostingRegressor\\nfrom dask import dataframe as dd\\nimport plotly.express as px\\nimport tqdm\\nimport pickle\\nfrom openpyxl import load_workbook\\nfrom sklearn.preprocessing import OneHotEncoder\\nimport plotly.graph_objs as go\\nimport spacy\\nimport xgboost as xgb\\nimport plotly as py\\nimport sklearn\\nfrom sklearn.ensemble import RandomForestRegressor\\nimport matplotlib as mpl\\nimport bokeh\\nfrom sklearn.feature_extraction.text import TfidfVectorizer\\nimport seaborn as sns\\nimport glob\\nimport nltk\\nfrom sklearn.ensemble import GradientBoostingClassifier\\nimport statistics\\nfrom sklearn.model_selection import train_test_split\\nfrom sklearn.manifold import TSNE\\nfrom sklearn import svm\\nimport lightgbm as lgb'); }\n    "
     },
     "metadata": {}
    },
    {
     "output_type": "display_data",
     "data": {
      "text/plain": "<IPython.core.display.Javascript object>",
      "application/javascript": "\n        if (window._pyforest_update_imports_cell) { window._pyforest_update_imports_cell('from sklearn.ensemble import RandomForestClassifier\\nimport datetime as dt\\nfrom pathlib import Path\\nimport gensim\\nfrom sklearn.ensemble import GradientBoostingRegressor\\nfrom dask import dataframe as dd\\nimport plotly.express as px\\nimport tqdm\\nimport pickle\\nfrom openpyxl import load_workbook\\nfrom sklearn.preprocessing import OneHotEncoder\\nimport plotly.graph_objs as go\\nimport spacy\\nimport xgboost as xgb\\nimport plotly as py\\nimport sklearn\\nfrom sklearn.ensemble import RandomForestRegressor\\nimport matplotlib as mpl\\nimport bokeh\\nfrom sklearn.feature_extraction.text import TfidfVectorizer\\nimport seaborn as sns\\nimport glob\\nimport nltk\\nfrom sklearn.ensemble import GradientBoostingClassifier\\nimport statistics\\nfrom sklearn.model_selection import train_test_split\\nfrom sklearn.manifold import TSNE\\nfrom sklearn import svm\\nimport lightgbm as lgb'); }\n    "
     },
     "metadata": {}
    },
    {
     "output_type": "display_data",
     "data": {
      "text/plain": "<IPython.core.display.Javascript object>",
      "application/javascript": "\n        if (window._pyforest_update_imports_cell) { window._pyforest_update_imports_cell('from sklearn.ensemble import RandomForestClassifier\\nimport datetime as dt\\nfrom pathlib import Path\\nimport gensim\\nfrom sklearn.ensemble import GradientBoostingRegressor\\nfrom dask import dataframe as dd\\nimport plotly.express as px\\nimport tqdm\\nimport pickle\\nfrom openpyxl import load_workbook\\nfrom sklearn.preprocessing import OneHotEncoder\\nimport plotly.graph_objs as go\\nimport spacy\\nimport xgboost as xgb\\nimport plotly as py\\nimport sklearn\\nfrom sklearn.ensemble import RandomForestRegressor\\nimport matplotlib as mpl\\nimport bokeh\\nfrom sklearn.feature_extraction.text import TfidfVectorizer\\nimport seaborn as sns\\nimport glob\\nimport nltk\\nfrom sklearn.ensemble import GradientBoostingClassifier\\nimport statistics\\nfrom sklearn.model_selection import train_test_split\\nfrom sklearn.manifold import TSNE\\nfrom sklearn import svm\\nimport lightgbm as lgb'); }\n    "
     },
     "metadata": {}
    },
    {
     "output_type": "display_data",
     "data": {
      "text/plain": "<IPython.core.display.Javascript object>",
      "application/javascript": "\n        if (window._pyforest_update_imports_cell) { window._pyforest_update_imports_cell('from sklearn.ensemble import RandomForestClassifier\\nimport datetime as dt\\nfrom pathlib import Path\\nimport gensim\\nfrom sklearn.ensemble import GradientBoostingRegressor\\nfrom dask import dataframe as dd\\nimport plotly.express as px\\nimport tqdm\\nimport pickle\\nfrom openpyxl import load_workbook\\nfrom sklearn.preprocessing import OneHotEncoder\\nimport plotly.graph_objs as go\\nimport spacy\\nimport xgboost as xgb\\nimport plotly as py\\nimport sklearn\\nfrom sklearn.ensemble import RandomForestRegressor\\nimport matplotlib as mpl\\nimport bokeh\\nfrom sklearn.feature_extraction.text import TfidfVectorizer\\nimport seaborn as sns\\nimport glob\\nimport nltk\\nfrom sklearn.ensemble import GradientBoostingClassifier\\nimport statistics\\nfrom sklearn.model_selection import train_test_split\\nfrom sklearn.manifold import TSNE\\nfrom sklearn import svm\\nimport lightgbm as lgb'); }\n    "
     },
     "metadata": {}
    },
    {
     "output_type": "display_data",
     "data": {
      "text/plain": "<IPython.core.display.Javascript object>",
      "application/javascript": "\n        if (window._pyforest_update_imports_cell) { window._pyforest_update_imports_cell('from sklearn.ensemble import RandomForestClassifier\\nimport datetime as dt\\nfrom pathlib import Path\\nimport gensim\\nfrom sklearn.ensemble import GradientBoostingRegressor\\nfrom dask import dataframe as dd\\nimport plotly.express as px\\nimport tqdm\\nimport pickle\\nfrom openpyxl import load_workbook\\nfrom sklearn.preprocessing import OneHotEncoder\\nimport plotly.graph_objs as go\\nimport spacy\\nimport xgboost as xgb\\nimport plotly as py\\nimport sklearn\\nfrom sklearn.ensemble import RandomForestRegressor\\nimport matplotlib as mpl\\nimport bokeh\\nfrom sklearn.feature_extraction.text import TfidfVectorizer\\nimport seaborn as sns\\nimport glob\\nimport nltk\\nfrom sklearn.ensemble import GradientBoostingClassifier\\nimport statistics\\nfrom sklearn.model_selection import train_test_split\\nfrom sklearn.manifold import TSNE\\nfrom sklearn import svm\\nimport lightgbm as lgb'); }\n    "
     },
     "metadata": {}
    },
    {
     "output_type": "display_data",
     "data": {
      "text/plain": "<IPython.core.display.Javascript object>",
      "application/javascript": "\n        if (window._pyforest_update_imports_cell) { window._pyforest_update_imports_cell('from sklearn.ensemble import RandomForestClassifier\\nimport datetime as dt\\nfrom pathlib import Path\\nimport gensim\\nfrom sklearn.ensemble import GradientBoostingRegressor\\nfrom dask import dataframe as dd\\nimport plotly.express as px\\nimport tqdm\\nimport pickle\\nfrom openpyxl import load_workbook\\nfrom sklearn.preprocessing import OneHotEncoder\\nimport plotly.graph_objs as go\\nimport spacy\\nimport xgboost as xgb\\nimport plotly as py\\nimport sklearn\\nfrom sklearn.ensemble import RandomForestRegressor\\nimport matplotlib as mpl\\nimport bokeh\\nfrom sklearn.feature_extraction.text import TfidfVectorizer\\nimport seaborn as sns\\nimport glob\\nimport nltk\\nfrom sklearn.ensemble import GradientBoostingClassifier\\nimport statistics\\nfrom sklearn.model_selection import train_test_split\\nfrom sklearn.manifold import TSNE\\nfrom sklearn import svm\\nimport lightgbm as lgb'); }\n    "
     },
     "metadata": {}
    },
    {
     "output_type": "display_data",
     "data": {
      "text/plain": "<IPython.core.display.Javascript object>",
      "application/javascript": "\n        if (window._pyforest_update_imports_cell) { window._pyforest_update_imports_cell('from sklearn.ensemble import RandomForestClassifier\\nimport datetime as dt\\nfrom pathlib import Path\\nimport gensim\\nfrom sklearn.ensemble import GradientBoostingRegressor\\nfrom dask import dataframe as dd\\nimport plotly.express as px\\nimport tqdm\\nimport pickle\\nfrom openpyxl import load_workbook\\nfrom sklearn.preprocessing import OneHotEncoder\\nimport plotly.graph_objs as go\\nimport spacy\\nimport xgboost as xgb\\nimport plotly as py\\nimport sklearn\\nfrom sklearn.ensemble import RandomForestRegressor\\nimport matplotlib as mpl\\nimport bokeh\\nfrom sklearn.feature_extraction.text import TfidfVectorizer\\nimport seaborn as sns\\nimport glob\\nimport nltk\\nfrom sklearn.ensemble import GradientBoostingClassifier\\nimport statistics\\nfrom sklearn.model_selection import train_test_split\\nfrom sklearn.manifold import TSNE\\nfrom sklearn import svm\\nimport lightgbm as lgb'); }\n    "
     },
     "metadata": {}
    },
    {
     "output_type": "display_data",
     "data": {
      "text/plain": "<IPython.core.display.Javascript object>",
      "application/javascript": "\n        if (window._pyforest_update_imports_cell) { window._pyforest_update_imports_cell('from sklearn.ensemble import RandomForestClassifier\\nimport datetime as dt\\nfrom pathlib import Path\\nimport gensim\\nfrom sklearn.ensemble import GradientBoostingRegressor\\nfrom dask import dataframe as dd\\nimport plotly.express as px\\nimport tqdm\\nimport pickle\\nfrom openpyxl import load_workbook\\nfrom sklearn.preprocessing import OneHotEncoder\\nimport plotly.graph_objs as go\\nimport spacy\\nimport xgboost as xgb\\nimport plotly as py\\nimport sklearn\\nfrom sklearn.ensemble import RandomForestRegressor\\nimport matplotlib as mpl\\nimport bokeh\\nfrom sklearn.feature_extraction.text import TfidfVectorizer\\nimport seaborn as sns\\nimport glob\\nimport nltk\\nfrom sklearn.ensemble import GradientBoostingClassifier\\nimport statistics\\nfrom sklearn.model_selection import train_test_split\\nfrom sklearn.manifold import TSNE\\nfrom sklearn import svm\\nimport lightgbm as lgb'); }\n    "
     },
     "metadata": {}
    },
    {
     "output_type": "display_data",
     "data": {
      "text/plain": "<IPython.core.display.Javascript object>",
      "application/javascript": "\n        if (window._pyforest_update_imports_cell) { window._pyforest_update_imports_cell('from sklearn.ensemble import RandomForestClassifier\\nimport datetime as dt\\nfrom pathlib import Path\\nimport gensim\\nfrom sklearn.ensemble import GradientBoostingRegressor\\nfrom dask import dataframe as dd\\nimport plotly.express as px\\nimport tqdm\\nimport pickle\\nfrom openpyxl import load_workbook\\nfrom sklearn.preprocessing import OneHotEncoder\\nimport plotly.graph_objs as go\\nimport spacy\\nimport xgboost as xgb\\nimport plotly as py\\nimport sklearn\\nfrom sklearn.ensemble import RandomForestRegressor\\nimport matplotlib as mpl\\nimport bokeh\\nfrom sklearn.feature_extraction.text import TfidfVectorizer\\nimport seaborn as sns\\nimport glob\\nimport nltk\\nfrom sklearn.ensemble import GradientBoostingClassifier\\nimport statistics\\nfrom sklearn.model_selection import train_test_split\\nfrom sklearn.manifold import TSNE\\nfrom sklearn import svm\\nimport lightgbm as lgb'); }\n    "
     },
     "metadata": {}
    },
    {
     "output_type": "display_data",
     "data": {
      "text/plain": "<IPython.core.display.Javascript object>",
      "application/javascript": "\n        if (window._pyforest_update_imports_cell) { window._pyforest_update_imports_cell('from sklearn.ensemble import RandomForestClassifier\\nimport datetime as dt\\nfrom pathlib import Path\\nimport gensim\\nfrom sklearn.ensemble import GradientBoostingRegressor\\nfrom dask import dataframe as dd\\nimport plotly.express as px\\nimport tqdm\\nimport pickle\\nfrom openpyxl import load_workbook\\nfrom sklearn.preprocessing import OneHotEncoder\\nimport plotly.graph_objs as go\\nimport spacy\\nimport xgboost as xgb\\nimport plotly as py\\nimport sklearn\\nfrom sklearn.ensemble import RandomForestRegressor\\nimport matplotlib as mpl\\nimport bokeh\\nfrom sklearn.feature_extraction.text import TfidfVectorizer\\nimport seaborn as sns\\nimport glob\\nimport nltk\\nfrom sklearn.ensemble import GradientBoostingClassifier\\nimport statistics\\nfrom sklearn.model_selection import train_test_split\\nfrom sklearn.manifold import TSNE\\nfrom sklearn import svm\\nimport lightgbm as lgb'); }\n    "
     },
     "metadata": {}
    },
    {
     "output_type": "display_data",
     "data": {
      "text/plain": "<IPython.core.display.Javascript object>",
      "application/javascript": "\n        if (window._pyforest_update_imports_cell) { window._pyforest_update_imports_cell('from sklearn.ensemble import RandomForestClassifier\\nimport datetime as dt\\nfrom pathlib import Path\\nimport gensim\\nfrom sklearn.ensemble import GradientBoostingRegressor\\nfrom dask import dataframe as dd\\nimport plotly.express as px\\nimport tqdm\\nimport pickle\\nfrom openpyxl import load_workbook\\nfrom sklearn.preprocessing import OneHotEncoder\\nimport plotly.graph_objs as go\\nimport spacy\\nimport xgboost as xgb\\nimport plotly as py\\nimport sklearn\\nfrom sklearn.ensemble import RandomForestRegressor\\nimport matplotlib as mpl\\nimport bokeh\\nfrom sklearn.feature_extraction.text import TfidfVectorizer\\nimport seaborn as sns\\nimport glob\\nimport nltk\\nfrom sklearn.ensemble import GradientBoostingClassifier\\nimport statistics\\nfrom sklearn.model_selection import train_test_split\\nfrom sklearn.manifold import TSNE\\nfrom sklearn import svm\\nimport lightgbm as lgb'); }\n    "
     },
     "metadata": {}
    },
    {
     "output_type": "display_data",
     "data": {
      "text/plain": "<IPython.core.display.Javascript object>",
      "application/javascript": "\n        if (window._pyforest_update_imports_cell) { window._pyforest_update_imports_cell('from sklearn.ensemble import RandomForestClassifier\\nimport datetime as dt\\nfrom pathlib import Path\\nimport gensim\\nfrom sklearn.ensemble import GradientBoostingRegressor\\nfrom dask import dataframe as dd\\nimport plotly.express as px\\nimport tqdm\\nimport pickle\\nfrom openpyxl import load_workbook\\nfrom sklearn.preprocessing import OneHotEncoder\\nimport plotly.graph_objs as go\\nimport spacy\\nimport xgboost as xgb\\nimport plotly as py\\nimport sklearn\\nfrom sklearn.ensemble import RandomForestRegressor\\nimport matplotlib as mpl\\nimport bokeh\\nfrom sklearn.feature_extraction.text import TfidfVectorizer\\nimport seaborn as sns\\nimport glob\\nimport nltk\\nfrom sklearn.ensemble import GradientBoostingClassifier\\nimport statistics\\nfrom sklearn.model_selection import train_test_split\\nfrom sklearn.manifold import TSNE\\nfrom sklearn import svm\\nimport lightgbm as lgb'); }\n    "
     },
     "metadata": {}
    },
    {
     "output_type": "display_data",
     "data": {
      "text/plain": "<IPython.core.display.Javascript object>",
      "application/javascript": "\n        if (window._pyforest_update_imports_cell) { window._pyforest_update_imports_cell('from sklearn.ensemble import RandomForestClassifier\\nimport datetime as dt\\nfrom pathlib import Path\\nimport gensim\\nfrom sklearn.ensemble import GradientBoostingRegressor\\nfrom dask import dataframe as dd\\nimport plotly.express as px\\nimport tqdm\\nimport pickle\\nfrom openpyxl import load_workbook\\nfrom sklearn.preprocessing import OneHotEncoder\\nimport plotly.graph_objs as go\\nimport spacy\\nimport xgboost as xgb\\nimport plotly as py\\nimport sklearn\\nfrom sklearn.ensemble import RandomForestRegressor\\nimport matplotlib as mpl\\nimport bokeh\\nfrom sklearn.feature_extraction.text import TfidfVectorizer\\nimport seaborn as sns\\nimport glob\\nimport nltk\\nfrom sklearn.ensemble import GradientBoostingClassifier\\nimport statistics\\nfrom sklearn.model_selection import train_test_split\\nfrom sklearn.manifold import TSNE\\nfrom sklearn import svm\\nimport lightgbm as lgb'); }\n    "
     },
     "metadata": {}
    },
    {
     "output_type": "display_data",
     "data": {
      "text/plain": "<IPython.core.display.Javascript object>",
      "application/javascript": "\n        if (window._pyforest_update_imports_cell) { window._pyforest_update_imports_cell('from sklearn.ensemble import RandomForestClassifier\\nimport datetime as dt\\nfrom pathlib import Path\\nimport gensim\\nfrom sklearn.ensemble import GradientBoostingRegressor\\nfrom dask import dataframe as dd\\nimport plotly.express as px\\nimport tqdm\\nimport pickle\\nfrom openpyxl import load_workbook\\nfrom sklearn.preprocessing import OneHotEncoder\\nimport plotly.graph_objs as go\\nimport spacy\\nimport xgboost as xgb\\nimport plotly as py\\nimport sklearn\\nfrom sklearn.ensemble import RandomForestRegressor\\nimport matplotlib as mpl\\nimport bokeh\\nfrom sklearn.feature_extraction.text import TfidfVectorizer\\nimport seaborn as sns\\nimport glob\\nimport nltk\\nfrom sklearn.ensemble import GradientBoostingClassifier\\nimport statistics\\nfrom sklearn.model_selection import train_test_split\\nfrom sklearn.manifold import TSNE\\nfrom sklearn import svm\\nimport lightgbm as lgb'); }\n    "
     },
     "metadata": {}
    },
    {
     "output_type": "display_data",
     "data": {
      "text/plain": "<IPython.core.display.Javascript object>",
      "application/javascript": "\n        if (window._pyforest_update_imports_cell) { window._pyforest_update_imports_cell('from sklearn.ensemble import RandomForestClassifier\\nimport datetime as dt\\nfrom pathlib import Path\\nimport gensim\\nfrom sklearn.ensemble import GradientBoostingRegressor\\nfrom dask import dataframe as dd\\nimport plotly.express as px\\nimport tqdm\\nimport pickle\\nfrom openpyxl import load_workbook\\nfrom sklearn.preprocessing import OneHotEncoder\\nimport plotly.graph_objs as go\\nimport spacy\\nimport xgboost as xgb\\nimport plotly as py\\nimport sklearn\\nfrom sklearn.ensemble import RandomForestRegressor\\nimport matplotlib as mpl\\nimport bokeh\\nfrom sklearn.feature_extraction.text import TfidfVectorizer\\nimport seaborn as sns\\nimport glob\\nimport nltk\\nfrom sklearn.ensemble import GradientBoostingClassifier\\nimport statistics\\nfrom sklearn.model_selection import train_test_split\\nfrom sklearn.manifold import TSNE\\nfrom sklearn import svm\\nimport lightgbm as lgb'); }\n    "
     },
     "metadata": {}
    },
    {
     "output_type": "display_data",
     "data": {
      "text/plain": "<IPython.core.display.Javascript object>",
      "application/javascript": "\n        if (window._pyforest_update_imports_cell) { window._pyforest_update_imports_cell('from sklearn.ensemble import RandomForestClassifier\\nimport datetime as dt\\nfrom pathlib import Path\\nimport gensim\\nfrom sklearn.ensemble import GradientBoostingRegressor\\nfrom dask import dataframe as dd\\nimport plotly.express as px\\nimport tqdm\\nimport pickle\\nfrom openpyxl import load_workbook\\nfrom sklearn.preprocessing import OneHotEncoder\\nimport plotly.graph_objs as go\\nimport spacy\\nimport xgboost as xgb\\nimport plotly as py\\nimport sklearn\\nfrom sklearn.ensemble import RandomForestRegressor\\nimport matplotlib as mpl\\nimport bokeh\\nfrom sklearn.feature_extraction.text import TfidfVectorizer\\nimport seaborn as sns\\nimport glob\\nimport nltk\\nfrom sklearn.ensemble import GradientBoostingClassifier\\nimport statistics\\nfrom sklearn.model_selection import train_test_split\\nfrom sklearn.manifold import TSNE\\nfrom sklearn import svm\\nimport lightgbm as lgb'); }\n    "
     },
     "metadata": {}
    },
    {
     "output_type": "display_data",
     "data": {
      "text/plain": "<IPython.core.display.Javascript object>",
      "application/javascript": "\n        if (window._pyforest_update_imports_cell) { window._pyforest_update_imports_cell('from sklearn.ensemble import RandomForestClassifier\\nimport datetime as dt\\nfrom pathlib import Path\\nimport gensim\\nfrom sklearn.ensemble import GradientBoostingRegressor\\nfrom dask import dataframe as dd\\nimport plotly.express as px\\nimport tqdm\\nimport pickle\\nfrom openpyxl import load_workbook\\nfrom sklearn.preprocessing import OneHotEncoder\\nimport plotly.graph_objs as go\\nimport spacy\\nimport xgboost as xgb\\nimport plotly as py\\nimport sklearn\\nfrom sklearn.ensemble import RandomForestRegressor\\nimport matplotlib as mpl\\nimport bokeh\\nfrom sklearn.feature_extraction.text import TfidfVectorizer\\nimport seaborn as sns\\nimport glob\\nimport nltk\\nfrom sklearn.ensemble import GradientBoostingClassifier\\nimport statistics\\nfrom sklearn.model_selection import train_test_split\\nfrom sklearn.manifold import TSNE\\nfrom sklearn import svm\\nimport lightgbm as lgb'); }\n    "
     },
     "metadata": {}
    },
    {
     "output_type": "display_data",
     "data": {
      "text/plain": "<IPython.core.display.Javascript object>",
      "application/javascript": "\n        if (window._pyforest_update_imports_cell) { window._pyforest_update_imports_cell('from sklearn.ensemble import RandomForestClassifier\\nimport datetime as dt\\nfrom pathlib import Path\\nimport gensim\\nfrom sklearn.ensemble import GradientBoostingRegressor\\nfrom dask import dataframe as dd\\nimport plotly.express as px\\nimport tqdm\\nimport pickle\\nfrom openpyxl import load_workbook\\nfrom sklearn.preprocessing import OneHotEncoder\\nimport plotly.graph_objs as go\\nimport spacy\\nimport xgboost as xgb\\nimport plotly as py\\nimport sklearn\\nfrom sklearn.ensemble import RandomForestRegressor\\nimport matplotlib as mpl\\nimport bokeh\\nfrom sklearn.feature_extraction.text import TfidfVectorizer\\nimport seaborn as sns\\nimport glob\\nimport nltk\\nfrom sklearn.ensemble import GradientBoostingClassifier\\nimport statistics\\nfrom sklearn.model_selection import train_test_split\\nfrom sklearn.manifold import TSNE\\nfrom sklearn import svm\\nimport lightgbm as lgb'); }\n    "
     },
     "metadata": {}
    },
    {
     "output_type": "display_data",
     "data": {
      "text/plain": "<IPython.core.display.Javascript object>",
      "application/javascript": "\n        if (window._pyforest_update_imports_cell) { window._pyforest_update_imports_cell('from sklearn.ensemble import RandomForestClassifier\\nimport datetime as dt\\nfrom pathlib import Path\\nimport gensim\\nfrom sklearn.ensemble import GradientBoostingRegressor\\nfrom dask import dataframe as dd\\nimport plotly.express as px\\nimport tqdm\\nimport pickle\\nfrom openpyxl import load_workbook\\nfrom sklearn.preprocessing import OneHotEncoder\\nimport plotly.graph_objs as go\\nimport spacy\\nimport xgboost as xgb\\nimport plotly as py\\nimport sklearn\\nfrom sklearn.ensemble import RandomForestRegressor\\nimport matplotlib as mpl\\nimport bokeh\\nfrom sklearn.feature_extraction.text import TfidfVectorizer\\nimport seaborn as sns\\nimport glob\\nimport nltk\\nfrom sklearn.ensemble import GradientBoostingClassifier\\nimport statistics\\nfrom sklearn.model_selection import train_test_split\\nfrom sklearn.manifold import TSNE\\nfrom sklearn import svm\\nimport lightgbm as lgb'); }\n    "
     },
     "metadata": {}
    },
    {
     "output_type": "display_data",
     "data": {
      "text/plain": "<IPython.core.display.Javascript object>",
      "application/javascript": "\n        if (window._pyforest_update_imports_cell) { window._pyforest_update_imports_cell('from sklearn.ensemble import RandomForestClassifier\\nimport datetime as dt\\nfrom pathlib import Path\\nimport gensim\\nfrom sklearn.ensemble import GradientBoostingRegressor\\nfrom dask import dataframe as dd\\nimport plotly.express as px\\nimport tqdm\\nimport pickle\\nfrom openpyxl import load_workbook\\nfrom sklearn.preprocessing import OneHotEncoder\\nimport plotly.graph_objs as go\\nimport spacy\\nimport xgboost as xgb\\nimport plotly as py\\nimport sklearn\\nfrom sklearn.ensemble import RandomForestRegressor\\nimport matplotlib as mpl\\nimport bokeh\\nfrom sklearn.feature_extraction.text import TfidfVectorizer\\nimport seaborn as sns\\nimport glob\\nimport nltk\\nfrom sklearn.ensemble import GradientBoostingClassifier\\nimport statistics\\nfrom sklearn.model_selection import train_test_split\\nfrom sklearn.manifold import TSNE\\nfrom sklearn import svm\\nimport lightgbm as lgb'); }\n    "
     },
     "metadata": {}
    },
    {
     "output_type": "display_data",
     "data": {
      "text/plain": "<IPython.core.display.Javascript object>",
      "application/javascript": "\n        if (window._pyforest_update_imports_cell) { window._pyforest_update_imports_cell('from sklearn.ensemble import RandomForestClassifier\\nimport datetime as dt\\nfrom pathlib import Path\\nimport gensim\\nfrom sklearn.ensemble import GradientBoostingRegressor\\nfrom dask import dataframe as dd\\nimport plotly.express as px\\nimport tqdm\\nimport pickle\\nfrom openpyxl import load_workbook\\nfrom sklearn.preprocessing import OneHotEncoder\\nimport plotly.graph_objs as go\\nimport spacy\\nimport xgboost as xgb\\nimport plotly as py\\nimport sklearn\\nfrom sklearn.ensemble import RandomForestRegressor\\nimport matplotlib as mpl\\nimport bokeh\\nfrom sklearn.feature_extraction.text import TfidfVectorizer\\nimport seaborn as sns\\nimport glob\\nimport nltk\\nfrom sklearn.ensemble import GradientBoostingClassifier\\nimport statistics\\nfrom sklearn.model_selection import train_test_split\\nfrom sklearn.manifold import TSNE\\nfrom sklearn import svm\\nimport lightgbm as lgb'); }\n    "
     },
     "metadata": {}
    },
    {
     "output_type": "display_data",
     "data": {
      "text/plain": "<IPython.core.display.Javascript object>",
      "application/javascript": "\n        if (window._pyforest_update_imports_cell) { window._pyforest_update_imports_cell('from sklearn.ensemble import RandomForestClassifier\\nimport datetime as dt\\nfrom pathlib import Path\\nimport gensim\\nfrom sklearn.ensemble import GradientBoostingRegressor\\nfrom dask import dataframe as dd\\nimport plotly.express as px\\nimport tqdm\\nimport pickle\\nfrom openpyxl import load_workbook\\nfrom sklearn.preprocessing import OneHotEncoder\\nimport plotly.graph_objs as go\\nimport spacy\\nimport xgboost as xgb\\nimport plotly as py\\nimport sklearn\\nfrom sklearn.ensemble import RandomForestRegressor\\nimport matplotlib as mpl\\nimport bokeh\\nfrom sklearn.feature_extraction.text import TfidfVectorizer\\nimport seaborn as sns\\nimport glob\\nimport nltk\\nfrom sklearn.ensemble import GradientBoostingClassifier\\nimport statistics\\nfrom sklearn.model_selection import train_test_split\\nfrom sklearn.manifold import TSNE\\nfrom sklearn import svm\\nimport lightgbm as lgb'); }\n    "
     },
     "metadata": {}
    },
    {
     "output_type": "display_data",
     "data": {
      "text/plain": "<IPython.core.display.Javascript object>",
      "application/javascript": "\n        if (window._pyforest_update_imports_cell) { window._pyforest_update_imports_cell('from sklearn.ensemble import RandomForestClassifier\\nimport datetime as dt\\nfrom pathlib import Path\\nimport gensim\\nfrom sklearn.ensemble import GradientBoostingRegressor\\nfrom dask import dataframe as dd\\nimport plotly.express as px\\nimport tqdm\\nimport pickle\\nfrom openpyxl import load_workbook\\nfrom sklearn.preprocessing import OneHotEncoder\\nimport plotly.graph_objs as go\\nimport spacy\\nimport xgboost as xgb\\nimport plotly as py\\nimport sklearn\\nfrom sklearn.ensemble import RandomForestRegressor\\nimport matplotlib as mpl\\nimport bokeh\\nfrom sklearn.feature_extraction.text import TfidfVectorizer\\nimport seaborn as sns\\nimport glob\\nimport nltk\\nfrom sklearn.ensemble import GradientBoostingClassifier\\nimport statistics\\nfrom sklearn.model_selection import train_test_split\\nfrom sklearn.manifold import TSNE\\nfrom sklearn import svm\\nimport lightgbm as lgb'); }\n    "
     },
     "metadata": {}
    },
    {
     "output_type": "display_data",
     "data": {
      "text/plain": "<IPython.core.display.Javascript object>",
      "application/javascript": "\n        if (window._pyforest_update_imports_cell) { window._pyforest_update_imports_cell('from sklearn.ensemble import RandomForestClassifier\\nimport datetime as dt\\nfrom pathlib import Path\\nimport gensim\\nfrom sklearn.ensemble import GradientBoostingRegressor\\nfrom dask import dataframe as dd\\nimport plotly.express as px\\nimport tqdm\\nimport pickle\\nfrom openpyxl import load_workbook\\nfrom sklearn.preprocessing import OneHotEncoder\\nimport plotly.graph_objs as go\\nimport spacy\\nimport xgboost as xgb\\nimport plotly as py\\nimport sklearn\\nfrom sklearn.ensemble import RandomForestRegressor\\nimport matplotlib as mpl\\nimport bokeh\\nfrom sklearn.feature_extraction.text import TfidfVectorizer\\nimport seaborn as sns\\nimport glob\\nimport nltk\\nfrom sklearn.ensemble import GradientBoostingClassifier\\nimport statistics\\nfrom sklearn.model_selection import train_test_split\\nfrom sklearn.manifold import TSNE\\nfrom sklearn import svm\\nimport lightgbm as lgb'); }\n    "
     },
     "metadata": {}
    },
    {
     "output_type": "display_data",
     "data": {
      "text/plain": "<IPython.core.display.Javascript object>",
      "application/javascript": "\n        if (window._pyforest_update_imports_cell) { window._pyforest_update_imports_cell('from sklearn.ensemble import RandomForestClassifier\\nimport datetime as dt\\nfrom pathlib import Path\\nimport gensim\\nfrom sklearn.ensemble import GradientBoostingRegressor\\nfrom dask import dataframe as dd\\nimport plotly.express as px\\nimport tqdm\\nimport pickle\\nfrom openpyxl import load_workbook\\nfrom sklearn.preprocessing import OneHotEncoder\\nimport plotly.graph_objs as go\\nimport spacy\\nimport xgboost as xgb\\nimport plotly as py\\nimport sklearn\\nfrom sklearn.ensemble import RandomForestRegressor\\nimport matplotlib as mpl\\nimport bokeh\\nfrom sklearn.feature_extraction.text import TfidfVectorizer\\nimport seaborn as sns\\nimport glob\\nimport nltk\\nfrom sklearn.ensemble import GradientBoostingClassifier\\nimport statistics\\nfrom sklearn.model_selection import train_test_split\\nfrom sklearn.manifold import TSNE\\nfrom sklearn import svm\\nimport lightgbm as lgb'); }\n    "
     },
     "metadata": {}
    },
    {
     "output_type": "display_data",
     "data": {
      "text/plain": "<IPython.core.display.Javascript object>",
      "application/javascript": "\n        if (window._pyforest_update_imports_cell) { window._pyforest_update_imports_cell('from sklearn.ensemble import RandomForestClassifier\\nimport datetime as dt\\nfrom pathlib import Path\\nimport gensim\\nfrom sklearn.ensemble import GradientBoostingRegressor\\nfrom dask import dataframe as dd\\nimport plotly.express as px\\nimport tqdm\\nimport pickle\\nfrom openpyxl import load_workbook\\nfrom sklearn.preprocessing import OneHotEncoder\\nimport plotly.graph_objs as go\\nimport spacy\\nimport xgboost as xgb\\nimport plotly as py\\nimport sklearn\\nfrom sklearn.ensemble import RandomForestRegressor\\nimport matplotlib as mpl\\nimport bokeh\\nfrom sklearn.feature_extraction.text import TfidfVectorizer\\nimport seaborn as sns\\nimport glob\\nimport nltk\\nfrom sklearn.ensemble import GradientBoostingClassifier\\nimport statistics\\nfrom sklearn.model_selection import train_test_split\\nfrom sklearn.manifold import TSNE\\nfrom sklearn import svm\\nimport lightgbm as lgb'); }\n    "
     },
     "metadata": {}
    },
    {
     "output_type": "display_data",
     "data": {
      "text/plain": "<IPython.core.display.Javascript object>",
      "application/javascript": "\n        if (window._pyforest_update_imports_cell) { window._pyforest_update_imports_cell('from sklearn.ensemble import RandomForestClassifier\\nimport datetime as dt\\nfrom pathlib import Path\\nimport gensim\\nfrom sklearn.ensemble import GradientBoostingRegressor\\nfrom dask import dataframe as dd\\nimport plotly.express as px\\nimport tqdm\\nimport pickle\\nfrom openpyxl import load_workbook\\nfrom sklearn.preprocessing import OneHotEncoder\\nimport plotly.graph_objs as go\\nimport spacy\\nimport xgboost as xgb\\nimport plotly as py\\nimport sklearn\\nfrom sklearn.ensemble import RandomForestRegressor\\nimport matplotlib as mpl\\nimport bokeh\\nfrom sklearn.feature_extraction.text import TfidfVectorizer\\nimport seaborn as sns\\nimport glob\\nimport nltk\\nfrom sklearn.ensemble import GradientBoostingClassifier\\nimport statistics\\nfrom sklearn.model_selection import train_test_split\\nfrom sklearn.manifold import TSNE\\nfrom sklearn import svm\\nimport lightgbm as lgb'); }\n    "
     },
     "metadata": {}
    },
    {
     "output_type": "display_data",
     "data": {
      "text/plain": "<IPython.core.display.Javascript object>",
      "application/javascript": "\n        if (window._pyforest_update_imports_cell) { window._pyforest_update_imports_cell('from sklearn.ensemble import RandomForestClassifier\\nimport datetime as dt\\nfrom pathlib import Path\\nimport gensim\\nfrom sklearn.ensemble import GradientBoostingRegressor\\nfrom dask import dataframe as dd\\nimport plotly.express as px\\nimport tqdm\\nimport pickle\\nfrom openpyxl import load_workbook\\nfrom sklearn.preprocessing import OneHotEncoder\\nimport plotly.graph_objs as go\\nimport spacy\\nimport xgboost as xgb\\nimport plotly as py\\nimport sklearn\\nfrom sklearn.ensemble import RandomForestRegressor\\nimport matplotlib as mpl\\nimport bokeh\\nfrom sklearn.feature_extraction.text import TfidfVectorizer\\nimport seaborn as sns\\nimport glob\\nimport nltk\\nfrom sklearn.ensemble import GradientBoostingClassifier\\nimport statistics\\nfrom sklearn.model_selection import train_test_split\\nfrom sklearn.manifold import TSNE\\nfrom sklearn import svm\\nimport lightgbm as lgb'); }\n    "
     },
     "metadata": {}
    },
    {
     "output_type": "display_data",
     "data": {
      "text/plain": "<IPython.core.display.Javascript object>",
      "application/javascript": "\n        if (window._pyforest_update_imports_cell) { window._pyforest_update_imports_cell('from sklearn.ensemble import RandomForestClassifier\\nimport datetime as dt\\nfrom pathlib import Path\\nimport gensim\\nfrom sklearn.ensemble import GradientBoostingRegressor\\nfrom dask import dataframe as dd\\nimport plotly.express as px\\nimport tqdm\\nimport pickle\\nfrom openpyxl import load_workbook\\nfrom sklearn.preprocessing import OneHotEncoder\\nimport plotly.graph_objs as go\\nimport spacy\\nimport xgboost as xgb\\nimport plotly as py\\nimport sklearn\\nfrom sklearn.ensemble import RandomForestRegressor\\nimport matplotlib as mpl\\nimport bokeh\\nfrom sklearn.feature_extraction.text import TfidfVectorizer\\nimport seaborn as sns\\nimport glob\\nimport nltk\\nfrom sklearn.ensemble import GradientBoostingClassifier\\nimport statistics\\nfrom sklearn.model_selection import train_test_split\\nfrom sklearn.manifold import TSNE\\nfrom sklearn import svm\\nimport lightgbm as lgb'); }\n    "
     },
     "metadata": {}
    },
    {
     "output_type": "display_data",
     "data": {
      "text/plain": "<IPython.core.display.Javascript object>",
      "application/javascript": "\n        if (window._pyforest_update_imports_cell) { window._pyforest_update_imports_cell('from sklearn.ensemble import RandomForestClassifier\\nimport datetime as dt\\nfrom pathlib import Path\\nimport gensim\\nfrom sklearn.ensemble import GradientBoostingRegressor\\nfrom dask import dataframe as dd\\nimport plotly.express as px\\nimport tqdm\\nimport pickle\\nfrom openpyxl import load_workbook\\nfrom sklearn.preprocessing import OneHotEncoder\\nimport plotly.graph_objs as go\\nimport spacy\\nimport xgboost as xgb\\nimport plotly as py\\nimport sklearn\\nfrom sklearn.ensemble import RandomForestRegressor\\nimport matplotlib as mpl\\nimport bokeh\\nfrom sklearn.feature_extraction.text import TfidfVectorizer\\nimport seaborn as sns\\nimport glob\\nimport nltk\\nfrom sklearn.ensemble import GradientBoostingClassifier\\nimport statistics\\nfrom sklearn.model_selection import train_test_split\\nfrom sklearn.manifold import TSNE\\nfrom sklearn import svm\\nimport lightgbm as lgb'); }\n    "
     },
     "metadata": {}
    },
    {
     "output_type": "display_data",
     "data": {
      "text/plain": "<IPython.core.display.Javascript object>",
      "application/javascript": "\n        if (window._pyforest_update_imports_cell) { window._pyforest_update_imports_cell('from sklearn.ensemble import RandomForestClassifier\\nimport datetime as dt\\nfrom pathlib import Path\\nimport gensim\\nfrom sklearn.ensemble import GradientBoostingRegressor\\nfrom dask import dataframe as dd\\nimport plotly.express as px\\nimport tqdm\\nimport pickle\\nfrom openpyxl import load_workbook\\nfrom sklearn.preprocessing import OneHotEncoder\\nimport plotly.graph_objs as go\\nimport spacy\\nimport xgboost as xgb\\nimport plotly as py\\nimport sklearn\\nfrom sklearn.ensemble import RandomForestRegressor\\nimport matplotlib as mpl\\nimport bokeh\\nfrom sklearn.feature_extraction.text import TfidfVectorizer\\nimport seaborn as sns\\nimport glob\\nimport nltk\\nfrom sklearn.ensemble import GradientBoostingClassifier\\nimport statistics\\nfrom sklearn.model_selection import train_test_split\\nfrom sklearn.manifold import TSNE\\nfrom sklearn import svm\\nimport lightgbm as lgb'); }\n    "
     },
     "metadata": {}
    },
    {
     "output_type": "display_data",
     "data": {
      "text/plain": "<IPython.core.display.Javascript object>",
      "application/javascript": "\n        if (window._pyforest_update_imports_cell) { window._pyforest_update_imports_cell('from sklearn.ensemble import RandomForestClassifier\\nimport datetime as dt\\nfrom pathlib import Path\\nimport gensim\\nfrom sklearn.ensemble import GradientBoostingRegressor\\nfrom dask import dataframe as dd\\nimport plotly.express as px\\nimport tqdm\\nimport pickle\\nfrom openpyxl import load_workbook\\nfrom sklearn.preprocessing import OneHotEncoder\\nimport plotly.graph_objs as go\\nimport spacy\\nimport xgboost as xgb\\nimport plotly as py\\nimport sklearn\\nfrom sklearn.ensemble import RandomForestRegressor\\nimport matplotlib as mpl\\nimport bokeh\\nfrom sklearn.feature_extraction.text import TfidfVectorizer\\nimport seaborn as sns\\nimport glob\\nimport nltk\\nfrom sklearn.ensemble import GradientBoostingClassifier\\nimport statistics\\nfrom sklearn.model_selection import train_test_split\\nfrom sklearn.manifold import TSNE\\nfrom sklearn import svm\\nimport lightgbm as lgb'); }\n    "
     },
     "metadata": {}
    },
    {
     "output_type": "display_data",
     "data": {
      "text/plain": "<IPython.core.display.Javascript object>",
      "application/javascript": "\n        if (window._pyforest_update_imports_cell) { window._pyforest_update_imports_cell('from sklearn.ensemble import RandomForestClassifier\\nimport datetime as dt\\nfrom pathlib import Path\\nimport gensim\\nfrom sklearn.ensemble import GradientBoostingRegressor\\nfrom dask import dataframe as dd\\nimport plotly.express as px\\nimport tqdm\\nimport pickle\\nfrom openpyxl import load_workbook\\nfrom sklearn.preprocessing import OneHotEncoder\\nimport plotly.graph_objs as go\\nimport spacy\\nimport xgboost as xgb\\nimport plotly as py\\nimport sklearn\\nfrom sklearn.ensemble import RandomForestRegressor\\nimport matplotlib as mpl\\nimport bokeh\\nfrom sklearn.feature_extraction.text import TfidfVectorizer\\nimport seaborn as sns\\nimport glob\\nimport nltk\\nfrom sklearn.ensemble import GradientBoostingClassifier\\nimport statistics\\nfrom sklearn.model_selection import train_test_split\\nfrom sklearn.manifold import TSNE\\nfrom sklearn import svm\\nimport lightgbm as lgb'); }\n    "
     },
     "metadata": {}
    },
    {
     "output_type": "display_data",
     "data": {
      "text/plain": "<IPython.core.display.Javascript object>",
      "application/javascript": "\n        if (window._pyforest_update_imports_cell) { window._pyforest_update_imports_cell('from sklearn.ensemble import RandomForestClassifier\\nimport datetime as dt\\nfrom pathlib import Path\\nimport gensim\\nfrom sklearn.ensemble import GradientBoostingRegressor\\nfrom dask import dataframe as dd\\nimport plotly.express as px\\nimport tqdm\\nimport pickle\\nfrom openpyxl import load_workbook\\nfrom sklearn.preprocessing import OneHotEncoder\\nimport plotly.graph_objs as go\\nimport spacy\\nimport xgboost as xgb\\nimport plotly as py\\nimport sklearn\\nfrom sklearn.ensemble import RandomForestRegressor\\nimport matplotlib as mpl\\nimport bokeh\\nfrom sklearn.feature_extraction.text import TfidfVectorizer\\nimport seaborn as sns\\nimport glob\\nimport nltk\\nfrom sklearn.ensemble import GradientBoostingClassifier\\nimport statistics\\nfrom sklearn.model_selection import train_test_split\\nfrom sklearn.manifold import TSNE\\nfrom sklearn import svm\\nimport lightgbm as lgb'); }\n    "
     },
     "metadata": {}
    },
    {
     "output_type": "display_data",
     "data": {
      "text/plain": "<IPython.core.display.Javascript object>",
      "application/javascript": "\n        if (window._pyforest_update_imports_cell) { window._pyforest_update_imports_cell('from sklearn.ensemble import RandomForestClassifier\\nimport datetime as dt\\nfrom pathlib import Path\\nimport gensim\\nfrom sklearn.ensemble import GradientBoostingRegressor\\nfrom dask import dataframe as dd\\nimport plotly.express as px\\nimport tqdm\\nimport pickle\\nfrom openpyxl import load_workbook\\nfrom sklearn.preprocessing import OneHotEncoder\\nimport plotly.graph_objs as go\\nimport spacy\\nimport xgboost as xgb\\nimport plotly as py\\nimport sklearn\\nfrom sklearn.ensemble import RandomForestRegressor\\nimport matplotlib as mpl\\nimport bokeh\\nfrom sklearn.feature_extraction.text import TfidfVectorizer\\nimport seaborn as sns\\nimport glob\\nimport nltk\\nfrom sklearn.ensemble import GradientBoostingClassifier\\nimport statistics\\nfrom sklearn.model_selection import train_test_split\\nfrom sklearn.manifold import TSNE\\nfrom sklearn import svm\\nimport lightgbm as lgb'); }\n    "
     },
     "metadata": {}
    },
    {
     "output_type": "display_data",
     "data": {
      "text/plain": "<IPython.core.display.Javascript object>",
      "application/javascript": "\n        if (window._pyforest_update_imports_cell) { window._pyforest_update_imports_cell('from sklearn.ensemble import RandomForestClassifier\\nimport datetime as dt\\nfrom pathlib import Path\\nimport gensim\\nfrom sklearn.ensemble import GradientBoostingRegressor\\nfrom dask import dataframe as dd\\nimport plotly.express as px\\nimport tqdm\\nimport pickle\\nfrom openpyxl import load_workbook\\nfrom sklearn.preprocessing import OneHotEncoder\\nimport plotly.graph_objs as go\\nimport spacy\\nimport xgboost as xgb\\nimport plotly as py\\nimport sklearn\\nfrom sklearn.ensemble import RandomForestRegressor\\nimport matplotlib as mpl\\nimport bokeh\\nfrom sklearn.feature_extraction.text import TfidfVectorizer\\nimport seaborn as sns\\nimport glob\\nimport nltk\\nfrom sklearn.ensemble import GradientBoostingClassifier\\nimport statistics\\nfrom sklearn.model_selection import train_test_split\\nfrom sklearn.manifold import TSNE\\nfrom sklearn import svm\\nimport lightgbm as lgb'); }\n    "
     },
     "metadata": {}
    },
    {
     "output_type": "display_data",
     "data": {
      "text/plain": "<IPython.core.display.Javascript object>",
      "application/javascript": "\n        if (window._pyforest_update_imports_cell) { window._pyforest_update_imports_cell('from sklearn.ensemble import RandomForestClassifier\\nimport datetime as dt\\nfrom pathlib import Path\\nimport gensim\\nfrom sklearn.ensemble import GradientBoostingRegressor\\nfrom dask import dataframe as dd\\nimport plotly.express as px\\nimport tqdm\\nimport pickle\\nfrom openpyxl import load_workbook\\nfrom sklearn.preprocessing import OneHotEncoder\\nimport plotly.graph_objs as go\\nimport spacy\\nimport xgboost as xgb\\nimport plotly as py\\nimport sklearn\\nfrom sklearn.ensemble import RandomForestRegressor\\nimport matplotlib as mpl\\nimport bokeh\\nfrom sklearn.feature_extraction.text import TfidfVectorizer\\nimport seaborn as sns\\nimport glob\\nimport nltk\\nfrom sklearn.ensemble import GradientBoostingClassifier\\nimport statistics\\nfrom sklearn.model_selection import train_test_split\\nfrom sklearn.manifold import TSNE\\nfrom sklearn import svm\\nimport lightgbm as lgb'); }\n    "
     },
     "metadata": {}
    },
    {
     "output_type": "display_data",
     "data": {
      "text/plain": "<IPython.core.display.Javascript object>",
      "application/javascript": "\n        if (window._pyforest_update_imports_cell) { window._pyforest_update_imports_cell('from sklearn.ensemble import RandomForestClassifier\\nimport datetime as dt\\nfrom pathlib import Path\\nimport gensim\\nfrom sklearn.ensemble import GradientBoostingRegressor\\nfrom dask import dataframe as dd\\nimport plotly.express as px\\nimport tqdm\\nimport pickle\\nfrom openpyxl import load_workbook\\nfrom sklearn.preprocessing import OneHotEncoder\\nimport plotly.graph_objs as go\\nimport spacy\\nimport xgboost as xgb\\nimport plotly as py\\nimport sklearn\\nfrom sklearn.ensemble import RandomForestRegressor\\nimport matplotlib as mpl\\nimport bokeh\\nfrom sklearn.feature_extraction.text import TfidfVectorizer\\nimport seaborn as sns\\nimport glob\\nimport nltk\\nfrom sklearn.ensemble import GradientBoostingClassifier\\nimport statistics\\nfrom sklearn.model_selection import train_test_split\\nfrom sklearn.manifold import TSNE\\nfrom sklearn import svm\\nimport lightgbm as lgb'); }\n    "
     },
     "metadata": {}
    },
    {
     "output_type": "display_data",
     "data": {
      "text/plain": "<IPython.core.display.Javascript object>",
      "application/javascript": "\n        if (window._pyforest_update_imports_cell) { window._pyforest_update_imports_cell('from sklearn.ensemble import RandomForestClassifier\\nimport datetime as dt\\nfrom pathlib import Path\\nimport gensim\\nfrom sklearn.ensemble import GradientBoostingRegressor\\nfrom dask import dataframe as dd\\nimport plotly.express as px\\nimport tqdm\\nimport pickle\\nfrom openpyxl import load_workbook\\nfrom sklearn.preprocessing import OneHotEncoder\\nimport plotly.graph_objs as go\\nimport spacy\\nimport xgboost as xgb\\nimport plotly as py\\nimport sklearn\\nfrom sklearn.ensemble import RandomForestRegressor\\nimport matplotlib as mpl\\nimport bokeh\\nfrom sklearn.feature_extraction.text import TfidfVectorizer\\nimport seaborn as sns\\nimport glob\\nimport nltk\\nfrom sklearn.ensemble import GradientBoostingClassifier\\nimport statistics\\nfrom sklearn.model_selection import train_test_split\\nfrom sklearn.manifold import TSNE\\nfrom sklearn import svm\\nimport lightgbm as lgb'); }\n    "
     },
     "metadata": {}
    },
    {
     "output_type": "display_data",
     "data": {
      "text/plain": "<IPython.core.display.Javascript object>",
      "application/javascript": "\n        if (window._pyforest_update_imports_cell) { window._pyforest_update_imports_cell('from sklearn.ensemble import RandomForestClassifier\\nimport datetime as dt\\nfrom pathlib import Path\\nimport gensim\\nfrom sklearn.ensemble import GradientBoostingRegressor\\nfrom dask import dataframe as dd\\nimport plotly.express as px\\nimport tqdm\\nimport pickle\\nfrom openpyxl import load_workbook\\nfrom sklearn.preprocessing import OneHotEncoder\\nimport plotly.graph_objs as go\\nimport spacy\\nimport xgboost as xgb\\nimport plotly as py\\nimport sklearn\\nfrom sklearn.ensemble import RandomForestRegressor\\nimport matplotlib as mpl\\nimport bokeh\\nfrom sklearn.feature_extraction.text import TfidfVectorizer\\nimport seaborn as sns\\nimport glob\\nimport nltk\\nfrom sklearn.ensemble import GradientBoostingClassifier\\nimport statistics\\nfrom sklearn.model_selection import train_test_split\\nfrom sklearn.manifold import TSNE\\nfrom sklearn import svm\\nimport lightgbm as lgb'); }\n    "
     },
     "metadata": {}
    },
    {
     "output_type": "display_data",
     "data": {
      "text/plain": "<IPython.core.display.Javascript object>",
      "application/javascript": "\n        if (window._pyforest_update_imports_cell) { window._pyforest_update_imports_cell('from sklearn.ensemble import RandomForestClassifier\\nimport datetime as dt\\nfrom pathlib import Path\\nimport gensim\\nfrom sklearn.ensemble import GradientBoostingRegressor\\nfrom dask import dataframe as dd\\nimport plotly.express as px\\nimport tqdm\\nimport pickle\\nfrom openpyxl import load_workbook\\nfrom sklearn.preprocessing import OneHotEncoder\\nimport plotly.graph_objs as go\\nimport spacy\\nimport xgboost as xgb\\nimport plotly as py\\nimport sklearn\\nfrom sklearn.ensemble import RandomForestRegressor\\nimport matplotlib as mpl\\nimport bokeh\\nfrom sklearn.feature_extraction.text import TfidfVectorizer\\nimport seaborn as sns\\nimport glob\\nimport nltk\\nfrom sklearn.ensemble import GradientBoostingClassifier\\nimport statistics\\nfrom sklearn.model_selection import train_test_split\\nfrom sklearn.manifold import TSNE\\nfrom sklearn import svm\\nimport lightgbm as lgb'); }\n    "
     },
     "metadata": {}
    },
    {
     "output_type": "display_data",
     "data": {
      "text/plain": "<IPython.core.display.Javascript object>",
      "application/javascript": "\n        if (window._pyforest_update_imports_cell) { window._pyforest_update_imports_cell('from sklearn.ensemble import RandomForestClassifier\\nimport datetime as dt\\nfrom pathlib import Path\\nimport gensim\\nfrom sklearn.ensemble import GradientBoostingRegressor\\nfrom dask import dataframe as dd\\nimport plotly.express as px\\nimport tqdm\\nimport pickle\\nfrom openpyxl import load_workbook\\nfrom sklearn.preprocessing import OneHotEncoder\\nimport plotly.graph_objs as go\\nimport spacy\\nimport xgboost as xgb\\nimport plotly as py\\nimport sklearn\\nfrom sklearn.ensemble import RandomForestRegressor\\nimport matplotlib as mpl\\nimport bokeh\\nfrom sklearn.feature_extraction.text import TfidfVectorizer\\nimport seaborn as sns\\nimport glob\\nimport nltk\\nfrom sklearn.ensemble import GradientBoostingClassifier\\nimport statistics\\nfrom sklearn.model_selection import train_test_split\\nfrom sklearn.manifold import TSNE\\nfrom sklearn import svm\\nimport lightgbm as lgb'); }\n    "
     },
     "metadata": {}
    },
    {
     "output_type": "display_data",
     "data": {
      "text/plain": "<IPython.core.display.Javascript object>",
      "application/javascript": "\n        if (window._pyforest_update_imports_cell) { window._pyforest_update_imports_cell('from sklearn.ensemble import RandomForestClassifier\\nimport datetime as dt\\nfrom pathlib import Path\\nimport gensim\\nfrom sklearn.ensemble import GradientBoostingRegressor\\nfrom dask import dataframe as dd\\nimport plotly.express as px\\nimport tqdm\\nimport pickle\\nfrom openpyxl import load_workbook\\nfrom sklearn.preprocessing import OneHotEncoder\\nimport plotly.graph_objs as go\\nimport spacy\\nimport xgboost as xgb\\nimport plotly as py\\nimport sklearn\\nfrom sklearn.ensemble import RandomForestRegressor\\nimport matplotlib as mpl\\nimport bokeh\\nfrom sklearn.feature_extraction.text import TfidfVectorizer\\nimport seaborn as sns\\nimport glob\\nimport nltk\\nfrom sklearn.ensemble import GradientBoostingClassifier\\nimport statistics\\nfrom sklearn.model_selection import train_test_split\\nfrom sklearn.manifold import TSNE\\nfrom sklearn import svm\\nimport lightgbm as lgb'); }\n    "
     },
     "metadata": {}
    },
    {
     "output_type": "display_data",
     "data": {
      "text/plain": "<IPython.core.display.Javascript object>",
      "application/javascript": "\n        if (window._pyforest_update_imports_cell) { window._pyforest_update_imports_cell('from sklearn.ensemble import RandomForestClassifier\\nimport datetime as dt\\nfrom pathlib import Path\\nimport gensim\\nfrom sklearn.ensemble import GradientBoostingRegressor\\nfrom dask import dataframe as dd\\nimport plotly.express as px\\nimport tqdm\\nimport pickle\\nfrom openpyxl import load_workbook\\nfrom sklearn.preprocessing import OneHotEncoder\\nimport plotly.graph_objs as go\\nimport spacy\\nimport xgboost as xgb\\nimport plotly as py\\nimport sklearn\\nfrom sklearn.ensemble import RandomForestRegressor\\nimport matplotlib as mpl\\nimport bokeh\\nfrom sklearn.feature_extraction.text import TfidfVectorizer\\nimport seaborn as sns\\nimport glob\\nimport nltk\\nfrom sklearn.ensemble import GradientBoostingClassifier\\nimport statistics\\nfrom sklearn.model_selection import train_test_split\\nfrom sklearn.manifold import TSNE\\nfrom sklearn import svm\\nimport lightgbm as lgb'); }\n    "
     },
     "metadata": {}
    },
    {
     "output_type": "display_data",
     "data": {
      "text/plain": "<IPython.core.display.Javascript object>",
      "application/javascript": "\n        if (window._pyforest_update_imports_cell) { window._pyforest_update_imports_cell('from sklearn.ensemble import RandomForestClassifier\\nimport datetime as dt\\nfrom pathlib import Path\\nimport gensim\\nfrom sklearn.ensemble import GradientBoostingRegressor\\nfrom dask import dataframe as dd\\nimport plotly.express as px\\nimport tqdm\\nimport pickle\\nfrom openpyxl import load_workbook\\nfrom sklearn.preprocessing import OneHotEncoder\\nimport plotly.graph_objs as go\\nimport spacy\\nimport xgboost as xgb\\nimport plotly as py\\nimport sklearn\\nfrom sklearn.ensemble import RandomForestRegressor\\nimport matplotlib as mpl\\nimport bokeh\\nfrom sklearn.feature_extraction.text import TfidfVectorizer\\nimport seaborn as sns\\nimport glob\\nimport nltk\\nfrom sklearn.ensemble import GradientBoostingClassifier\\nimport statistics\\nfrom sklearn.model_selection import train_test_split\\nfrom sklearn.manifold import TSNE\\nfrom sklearn import svm\\nimport lightgbm as lgb'); }\n    "
     },
     "metadata": {}
    },
    {
     "output_type": "display_data",
     "data": {
      "text/plain": "<IPython.core.display.Javascript object>",
      "application/javascript": "\n        if (window._pyforest_update_imports_cell) { window._pyforest_update_imports_cell('from sklearn.ensemble import RandomForestClassifier\\nimport datetime as dt\\nfrom pathlib import Path\\nimport gensim\\nfrom sklearn.ensemble import GradientBoostingRegressor\\nfrom dask import dataframe as dd\\nimport plotly.express as px\\nimport tqdm\\nimport pickle\\nfrom openpyxl import load_workbook\\nfrom sklearn.preprocessing import OneHotEncoder\\nimport plotly.graph_objs as go\\nimport spacy\\nimport xgboost as xgb\\nimport plotly as py\\nimport sklearn\\nfrom sklearn.ensemble import RandomForestRegressor\\nimport matplotlib as mpl\\nimport bokeh\\nfrom sklearn.feature_extraction.text import TfidfVectorizer\\nimport seaborn as sns\\nimport glob\\nimport nltk\\nfrom sklearn.ensemble import GradientBoostingClassifier\\nimport statistics\\nfrom sklearn.model_selection import train_test_split\\nfrom sklearn.manifold import TSNE\\nfrom sklearn import svm\\nimport lightgbm as lgb'); }\n    "
     },
     "metadata": {}
    },
    {
     "output_type": "display_data",
     "data": {
      "text/plain": "<IPython.core.display.Javascript object>",
      "application/javascript": "\n        if (window._pyforest_update_imports_cell) { window._pyforest_update_imports_cell('from sklearn.ensemble import RandomForestClassifier\\nimport datetime as dt\\nfrom pathlib import Path\\nimport gensim\\nfrom sklearn.ensemble import GradientBoostingRegressor\\nfrom dask import dataframe as dd\\nimport plotly.express as px\\nimport tqdm\\nimport pickle\\nfrom openpyxl import load_workbook\\nfrom sklearn.preprocessing import OneHotEncoder\\nimport plotly.graph_objs as go\\nimport spacy\\nimport xgboost as xgb\\nimport plotly as py\\nimport sklearn\\nfrom sklearn.ensemble import RandomForestRegressor\\nimport matplotlib as mpl\\nimport bokeh\\nfrom sklearn.feature_extraction.text import TfidfVectorizer\\nimport seaborn as sns\\nimport glob\\nimport nltk\\nfrom sklearn.ensemble import GradientBoostingClassifier\\nimport statistics\\nfrom sklearn.model_selection import train_test_split\\nfrom sklearn.manifold import TSNE\\nfrom sklearn import svm\\nimport lightgbm as lgb'); }\n    "
     },
     "metadata": {}
    },
    {
     "output_type": "display_data",
     "data": {
      "text/plain": "<IPython.core.display.Javascript object>",
      "application/javascript": "\n        if (window._pyforest_update_imports_cell) { window._pyforest_update_imports_cell('from sklearn.ensemble import RandomForestClassifier\\nimport datetime as dt\\nfrom pathlib import Path\\nimport gensim\\nfrom sklearn.ensemble import GradientBoostingRegressor\\nfrom dask import dataframe as dd\\nimport plotly.express as px\\nimport tqdm\\nimport pickle\\nfrom openpyxl import load_workbook\\nfrom sklearn.preprocessing import OneHotEncoder\\nimport plotly.graph_objs as go\\nimport spacy\\nimport xgboost as xgb\\nimport plotly as py\\nimport sklearn\\nfrom sklearn.ensemble import RandomForestRegressor\\nimport matplotlib as mpl\\nimport bokeh\\nfrom sklearn.feature_extraction.text import TfidfVectorizer\\nimport seaborn as sns\\nimport glob\\nimport nltk\\nfrom sklearn.ensemble import GradientBoostingClassifier\\nimport statistics\\nfrom sklearn.model_selection import train_test_split\\nfrom sklearn.manifold import TSNE\\nfrom sklearn import svm\\nimport lightgbm as lgb'); }\n    "
     },
     "metadata": {}
    },
    {
     "output_type": "display_data",
     "data": {
      "text/plain": "<IPython.core.display.Javascript object>",
      "application/javascript": "\n        if (window._pyforest_update_imports_cell) { window._pyforest_update_imports_cell('from sklearn.ensemble import RandomForestClassifier\\nimport datetime as dt\\nfrom pathlib import Path\\nimport gensim\\nfrom sklearn.ensemble import GradientBoostingRegressor\\nfrom dask import dataframe as dd\\nimport plotly.express as px\\nimport tqdm\\nimport pickle\\nfrom openpyxl import load_workbook\\nfrom sklearn.preprocessing import OneHotEncoder\\nimport plotly.graph_objs as go\\nimport spacy\\nimport xgboost as xgb\\nimport plotly as py\\nimport sklearn\\nfrom sklearn.ensemble import RandomForestRegressor\\nimport matplotlib as mpl\\nimport bokeh\\nfrom sklearn.feature_extraction.text import TfidfVectorizer\\nimport seaborn as sns\\nimport glob\\nimport nltk\\nfrom sklearn.ensemble import GradientBoostingClassifier\\nimport statistics\\nfrom sklearn.model_selection import train_test_split\\nfrom sklearn.manifold import TSNE\\nfrom sklearn import svm\\nimport lightgbm as lgb'); }\n    "
     },
     "metadata": {}
    },
    {
     "output_type": "display_data",
     "data": {
      "text/plain": "<IPython.core.display.Javascript object>",
      "application/javascript": "\n        if (window._pyforest_update_imports_cell) { window._pyforest_update_imports_cell('from sklearn.ensemble import RandomForestClassifier\\nimport datetime as dt\\nfrom pathlib import Path\\nimport gensim\\nfrom sklearn.ensemble import GradientBoostingRegressor\\nfrom dask import dataframe as dd\\nimport plotly.express as px\\nimport tqdm\\nimport pickle\\nfrom openpyxl import load_workbook\\nfrom sklearn.preprocessing import OneHotEncoder\\nimport plotly.graph_objs as go\\nimport spacy\\nimport xgboost as xgb\\nimport plotly as py\\nimport sklearn\\nfrom sklearn.ensemble import RandomForestRegressor\\nimport matplotlib as mpl\\nimport bokeh\\nfrom sklearn.feature_extraction.text import TfidfVectorizer\\nimport seaborn as sns\\nimport glob\\nimport nltk\\nfrom sklearn.ensemble import GradientBoostingClassifier\\nimport statistics\\nfrom sklearn.model_selection import train_test_split\\nfrom sklearn.manifold import TSNE\\nfrom sklearn import svm\\nimport lightgbm as lgb'); }\n    "
     },
     "metadata": {}
    },
    {
     "output_type": "display_data",
     "data": {
      "text/plain": "<IPython.core.display.Javascript object>",
      "application/javascript": "\n        if (window._pyforest_update_imports_cell) { window._pyforest_update_imports_cell('from sklearn.ensemble import RandomForestClassifier\\nimport datetime as dt\\nfrom pathlib import Path\\nimport gensim\\nfrom sklearn.ensemble import GradientBoostingRegressor\\nfrom dask import dataframe as dd\\nimport plotly.express as px\\nimport tqdm\\nimport pickle\\nfrom openpyxl import load_workbook\\nfrom sklearn.preprocessing import OneHotEncoder\\nimport plotly.graph_objs as go\\nimport spacy\\nimport xgboost as xgb\\nimport plotly as py\\nimport sklearn\\nfrom sklearn.ensemble import RandomForestRegressor\\nimport matplotlib as mpl\\nimport bokeh\\nfrom sklearn.feature_extraction.text import TfidfVectorizer\\nimport seaborn as sns\\nimport glob\\nimport nltk\\nfrom sklearn.ensemble import GradientBoostingClassifier\\nimport statistics\\nfrom sklearn.model_selection import train_test_split\\nfrom sklearn.manifold import TSNE\\nfrom sklearn import svm\\nimport lightgbm as lgb'); }\n    "
     },
     "metadata": {}
    },
    {
     "output_type": "display_data",
     "data": {
      "text/plain": "<IPython.core.display.Javascript object>",
      "application/javascript": "\n        if (window._pyforest_update_imports_cell) { window._pyforest_update_imports_cell('from sklearn.ensemble import RandomForestClassifier\\nimport datetime as dt\\nfrom pathlib import Path\\nimport gensim\\nfrom sklearn.ensemble import GradientBoostingRegressor\\nfrom dask import dataframe as dd\\nimport plotly.express as px\\nimport tqdm\\nimport pickle\\nfrom openpyxl import load_workbook\\nfrom sklearn.preprocessing import OneHotEncoder\\nimport plotly.graph_objs as go\\nimport spacy\\nimport xgboost as xgb\\nimport plotly as py\\nimport sklearn\\nfrom sklearn.ensemble import RandomForestRegressor\\nimport matplotlib as mpl\\nimport bokeh\\nfrom sklearn.feature_extraction.text import TfidfVectorizer\\nimport seaborn as sns\\nimport glob\\nimport nltk\\nfrom sklearn.ensemble import GradientBoostingClassifier\\nimport statistics\\nfrom sklearn.model_selection import train_test_split\\nfrom sklearn.manifold import TSNE\\nfrom sklearn import svm\\nimport lightgbm as lgb'); }\n    "
     },
     "metadata": {}
    },
    {
     "output_type": "display_data",
     "data": {
      "text/plain": "<IPython.core.display.Javascript object>",
      "application/javascript": "\n        if (window._pyforest_update_imports_cell) { window._pyforest_update_imports_cell('from sklearn.ensemble import RandomForestClassifier\\nimport datetime as dt\\nfrom pathlib import Path\\nimport gensim\\nfrom sklearn.ensemble import GradientBoostingRegressor\\nfrom dask import dataframe as dd\\nimport plotly.express as px\\nimport tqdm\\nimport pickle\\nfrom openpyxl import load_workbook\\nfrom sklearn.preprocessing import OneHotEncoder\\nimport plotly.graph_objs as go\\nimport spacy\\nimport xgboost as xgb\\nimport plotly as py\\nimport sklearn\\nfrom sklearn.ensemble import RandomForestRegressor\\nimport matplotlib as mpl\\nimport bokeh\\nfrom sklearn.feature_extraction.text import TfidfVectorizer\\nimport seaborn as sns\\nimport glob\\nimport nltk\\nfrom sklearn.ensemble import GradientBoostingClassifier\\nimport statistics\\nfrom sklearn.model_selection import train_test_split\\nfrom sklearn.manifold import TSNE\\nfrom sklearn import svm\\nimport lightgbm as lgb'); }\n    "
     },
     "metadata": {}
    },
    {
     "output_type": "display_data",
     "data": {
      "text/plain": "<IPython.core.display.Javascript object>",
      "application/javascript": "\n        if (window._pyforest_update_imports_cell) { window._pyforest_update_imports_cell('from sklearn.ensemble import RandomForestClassifier\\nimport datetime as dt\\nfrom pathlib import Path\\nimport gensim\\nfrom sklearn.ensemble import GradientBoostingRegressor\\nfrom dask import dataframe as dd\\nimport plotly.express as px\\nimport tqdm\\nimport pickle\\nfrom openpyxl import load_workbook\\nfrom sklearn.preprocessing import OneHotEncoder\\nimport plotly.graph_objs as go\\nimport spacy\\nimport xgboost as xgb\\nimport plotly as py\\nimport sklearn\\nfrom sklearn.ensemble import RandomForestRegressor\\nimport matplotlib as mpl\\nimport bokeh\\nfrom sklearn.feature_extraction.text import TfidfVectorizer\\nimport seaborn as sns\\nimport glob\\nimport nltk\\nfrom sklearn.ensemble import GradientBoostingClassifier\\nimport statistics\\nfrom sklearn.model_selection import train_test_split\\nfrom sklearn.manifold import TSNE\\nfrom sklearn import svm\\nimport lightgbm as lgb'); }\n    "
     },
     "metadata": {}
    },
    {
     "output_type": "display_data",
     "data": {
      "text/plain": "<IPython.core.display.Javascript object>",
      "application/javascript": "\n        if (window._pyforest_update_imports_cell) { window._pyforest_update_imports_cell('from sklearn.ensemble import RandomForestClassifier\\nimport datetime as dt\\nfrom pathlib import Path\\nimport gensim\\nfrom sklearn.ensemble import GradientBoostingRegressor\\nfrom dask import dataframe as dd\\nimport plotly.express as px\\nimport tqdm\\nimport pickle\\nfrom openpyxl import load_workbook\\nfrom sklearn.preprocessing import OneHotEncoder\\nimport plotly.graph_objs as go\\nimport spacy\\nimport xgboost as xgb\\nimport plotly as py\\nimport sklearn\\nfrom sklearn.ensemble import RandomForestRegressor\\nimport matplotlib as mpl\\nimport bokeh\\nfrom sklearn.feature_extraction.text import TfidfVectorizer\\nimport seaborn as sns\\nimport glob\\nimport nltk\\nfrom sklearn.ensemble import GradientBoostingClassifier\\nimport statistics\\nfrom sklearn.model_selection import train_test_split\\nfrom sklearn.manifold import TSNE\\nfrom sklearn import svm\\nimport lightgbm as lgb'); }\n    "
     },
     "metadata": {}
    },
    {
     "output_type": "display_data",
     "data": {
      "text/plain": "<IPython.core.display.Javascript object>",
      "application/javascript": "\n        if (window._pyforest_update_imports_cell) { window._pyforest_update_imports_cell('from sklearn.ensemble import RandomForestClassifier\\nimport datetime as dt\\nfrom pathlib import Path\\nimport gensim\\nfrom sklearn.ensemble import GradientBoostingRegressor\\nfrom dask import dataframe as dd\\nimport plotly.express as px\\nimport tqdm\\nimport pickle\\nfrom openpyxl import load_workbook\\nfrom sklearn.preprocessing import OneHotEncoder\\nimport plotly.graph_objs as go\\nimport spacy\\nimport xgboost as xgb\\nimport plotly as py\\nimport sklearn\\nfrom sklearn.ensemble import RandomForestRegressor\\nimport matplotlib as mpl\\nimport bokeh\\nfrom sklearn.feature_extraction.text import TfidfVectorizer\\nimport seaborn as sns\\nimport glob\\nimport nltk\\nfrom sklearn.ensemble import GradientBoostingClassifier\\nimport statistics\\nfrom sklearn.model_selection import train_test_split\\nfrom sklearn.manifold import TSNE\\nfrom sklearn import svm\\nimport lightgbm as lgb'); }\n    "
     },
     "metadata": {}
    },
    {
     "output_type": "display_data",
     "data": {
      "text/plain": "<IPython.core.display.Javascript object>",
      "application/javascript": "\n        if (window._pyforest_update_imports_cell) { window._pyforest_update_imports_cell('from sklearn.ensemble import RandomForestClassifier\\nimport datetime as dt\\nfrom pathlib import Path\\nimport gensim\\nfrom sklearn.ensemble import GradientBoostingRegressor\\nfrom dask import dataframe as dd\\nimport plotly.express as px\\nimport tqdm\\nimport pickle\\nfrom openpyxl import load_workbook\\nfrom sklearn.preprocessing import OneHotEncoder\\nimport plotly.graph_objs as go\\nimport spacy\\nimport xgboost as xgb\\nimport plotly as py\\nimport sklearn\\nfrom sklearn.ensemble import RandomForestRegressor\\nimport matplotlib as mpl\\nimport bokeh\\nfrom sklearn.feature_extraction.text import TfidfVectorizer\\nimport seaborn as sns\\nimport glob\\nimport nltk\\nfrom sklearn.ensemble import GradientBoostingClassifier\\nimport statistics\\nfrom sklearn.model_selection import train_test_split\\nfrom sklearn.manifold import TSNE\\nfrom sklearn import svm\\nimport lightgbm as lgb'); }\n    "
     },
     "metadata": {}
    },
    {
     "output_type": "display_data",
     "data": {
      "text/plain": "<IPython.core.display.Javascript object>",
      "application/javascript": "\n        if (window._pyforest_update_imports_cell) { window._pyforest_update_imports_cell('from sklearn.ensemble import RandomForestClassifier\\nimport datetime as dt\\nfrom pathlib import Path\\nimport gensim\\nfrom sklearn.ensemble import GradientBoostingRegressor\\nfrom dask import dataframe as dd\\nimport plotly.express as px\\nimport tqdm\\nimport pickle\\nfrom openpyxl import load_workbook\\nfrom sklearn.preprocessing import OneHotEncoder\\nimport plotly.graph_objs as go\\nimport spacy\\nimport xgboost as xgb\\nimport plotly as py\\nimport sklearn\\nfrom sklearn.ensemble import RandomForestRegressor\\nimport matplotlib as mpl\\nimport bokeh\\nfrom sklearn.feature_extraction.text import TfidfVectorizer\\nimport seaborn as sns\\nimport glob\\nimport nltk\\nfrom sklearn.ensemble import GradientBoostingClassifier\\nimport statistics\\nfrom sklearn.model_selection import train_test_split\\nfrom sklearn.manifold import TSNE\\nfrom sklearn import svm\\nimport lightgbm as lgb'); }\n    "
     },
     "metadata": {}
    },
    {
     "output_type": "display_data",
     "data": {
      "text/plain": "<IPython.core.display.Javascript object>",
      "application/javascript": "\n        if (window._pyforest_update_imports_cell) { window._pyforest_update_imports_cell('from sklearn.ensemble import RandomForestClassifier\\nimport datetime as dt\\nfrom pathlib import Path\\nimport gensim\\nfrom sklearn.ensemble import GradientBoostingRegressor\\nfrom dask import dataframe as dd\\nimport plotly.express as px\\nimport tqdm\\nimport pickle\\nfrom openpyxl import load_workbook\\nfrom sklearn.preprocessing import OneHotEncoder\\nimport plotly.graph_objs as go\\nimport spacy\\nimport xgboost as xgb\\nimport plotly as py\\nimport sklearn\\nfrom sklearn.ensemble import RandomForestRegressor\\nimport matplotlib as mpl\\nimport bokeh\\nfrom sklearn.feature_extraction.text import TfidfVectorizer\\nimport seaborn as sns\\nimport glob\\nimport nltk\\nfrom sklearn.ensemble import GradientBoostingClassifier\\nimport statistics\\nfrom sklearn.model_selection import train_test_split\\nfrom sklearn.manifold import TSNE\\nfrom sklearn import svm\\nimport lightgbm as lgb'); }\n    "
     },
     "metadata": {}
    },
    {
     "output_type": "display_data",
     "data": {
      "text/plain": "<IPython.core.display.Javascript object>",
      "application/javascript": "\n        if (window._pyforest_update_imports_cell) { window._pyforest_update_imports_cell('from sklearn.ensemble import RandomForestClassifier\\nimport datetime as dt\\nfrom pathlib import Path\\nimport gensim\\nfrom sklearn.ensemble import GradientBoostingRegressor\\nfrom dask import dataframe as dd\\nimport plotly.express as px\\nimport tqdm\\nimport pickle\\nfrom openpyxl import load_workbook\\nfrom sklearn.preprocessing import OneHotEncoder\\nimport plotly.graph_objs as go\\nimport spacy\\nimport xgboost as xgb\\nimport plotly as py\\nimport sklearn\\nfrom sklearn.ensemble import RandomForestRegressor\\nimport matplotlib as mpl\\nimport bokeh\\nfrom sklearn.feature_extraction.text import TfidfVectorizer\\nimport seaborn as sns\\nimport glob\\nimport nltk\\nfrom sklearn.ensemble import GradientBoostingClassifier\\nimport statistics\\nfrom sklearn.model_selection import train_test_split\\nfrom sklearn.manifold import TSNE\\nfrom sklearn import svm\\nimport lightgbm as lgb'); }\n    "
     },
     "metadata": {}
    },
    {
     "output_type": "display_data",
     "data": {
      "text/plain": "<IPython.core.display.Javascript object>",
      "application/javascript": "\n        if (window._pyforest_update_imports_cell) { window._pyforest_update_imports_cell('from sklearn.ensemble import RandomForestClassifier\\nimport datetime as dt\\nfrom pathlib import Path\\nimport gensim\\nfrom sklearn.ensemble import GradientBoostingRegressor\\nfrom dask import dataframe as dd\\nimport plotly.express as px\\nimport tqdm\\nimport pickle\\nfrom openpyxl import load_workbook\\nfrom sklearn.preprocessing import OneHotEncoder\\nimport plotly.graph_objs as go\\nimport spacy\\nimport xgboost as xgb\\nimport plotly as py\\nimport sklearn\\nfrom sklearn.ensemble import RandomForestRegressor\\nimport matplotlib as mpl\\nimport bokeh\\nfrom sklearn.feature_extraction.text import TfidfVectorizer\\nimport seaborn as sns\\nimport glob\\nimport nltk\\nfrom sklearn.ensemble import GradientBoostingClassifier\\nimport statistics\\nfrom sklearn.model_selection import train_test_split\\nfrom sklearn.manifold import TSNE\\nfrom sklearn import svm\\nimport lightgbm as lgb'); }\n    "
     },
     "metadata": {}
    },
    {
     "output_type": "display_data",
     "data": {
      "text/plain": "<IPython.core.display.Javascript object>",
      "application/javascript": "\n        if (window._pyforest_update_imports_cell) { window._pyforest_update_imports_cell('from sklearn.ensemble import RandomForestClassifier\\nimport datetime as dt\\nfrom pathlib import Path\\nimport gensim\\nfrom sklearn.ensemble import GradientBoostingRegressor\\nfrom dask import dataframe as dd\\nimport plotly.express as px\\nimport tqdm\\nimport pickle\\nfrom openpyxl import load_workbook\\nfrom sklearn.preprocessing import OneHotEncoder\\nimport plotly.graph_objs as go\\nimport spacy\\nimport xgboost as xgb\\nimport plotly as py\\nimport sklearn\\nfrom sklearn.ensemble import RandomForestRegressor\\nimport matplotlib as mpl\\nimport bokeh\\nfrom sklearn.feature_extraction.text import TfidfVectorizer\\nimport seaborn as sns\\nimport glob\\nimport nltk\\nfrom sklearn.ensemble import GradientBoostingClassifier\\nimport statistics\\nfrom sklearn.model_selection import train_test_split\\nfrom sklearn.manifold import TSNE\\nfrom sklearn import svm\\nimport lightgbm as lgb'); }\n    "
     },
     "metadata": {}
    },
    {
     "output_type": "display_data",
     "data": {
      "text/plain": "<IPython.core.display.Javascript object>",
      "application/javascript": "\n        if (window._pyforest_update_imports_cell) { window._pyforest_update_imports_cell('from sklearn.ensemble import RandomForestClassifier\\nimport datetime as dt\\nfrom pathlib import Path\\nimport gensim\\nfrom sklearn.ensemble import GradientBoostingRegressor\\nfrom dask import dataframe as dd\\nimport plotly.express as px\\nimport tqdm\\nimport pickle\\nfrom openpyxl import load_workbook\\nfrom sklearn.preprocessing import OneHotEncoder\\nimport plotly.graph_objs as go\\nimport spacy\\nimport xgboost as xgb\\nimport plotly as py\\nimport sklearn\\nfrom sklearn.ensemble import RandomForestRegressor\\nimport matplotlib as mpl\\nimport bokeh\\nfrom sklearn.feature_extraction.text import TfidfVectorizer\\nimport seaborn as sns\\nimport glob\\nimport nltk\\nfrom sklearn.ensemble import GradientBoostingClassifier\\nimport statistics\\nfrom sklearn.model_selection import train_test_split\\nfrom sklearn.manifold import TSNE\\nfrom sklearn import svm\\nimport lightgbm as lgb'); }\n    "
     },
     "metadata": {}
    },
    {
     "output_type": "display_data",
     "data": {
      "text/plain": "<IPython.core.display.Javascript object>",
      "application/javascript": "\n        if (window._pyforest_update_imports_cell) { window._pyforest_update_imports_cell('from sklearn.ensemble import RandomForestClassifier\\nimport datetime as dt\\nfrom pathlib import Path\\nimport gensim\\nfrom sklearn.ensemble import GradientBoostingRegressor\\nfrom dask import dataframe as dd\\nimport plotly.express as px\\nimport tqdm\\nimport pickle\\nfrom openpyxl import load_workbook\\nfrom sklearn.preprocessing import OneHotEncoder\\nimport plotly.graph_objs as go\\nimport spacy\\nimport xgboost as xgb\\nimport plotly as py\\nimport sklearn\\nfrom sklearn.ensemble import RandomForestRegressor\\nimport matplotlib as mpl\\nimport bokeh\\nfrom sklearn.feature_extraction.text import TfidfVectorizer\\nimport seaborn as sns\\nimport glob\\nimport nltk\\nfrom sklearn.ensemble import GradientBoostingClassifier\\nimport statistics\\nfrom sklearn.model_selection import train_test_split\\nfrom sklearn.manifold import TSNE\\nfrom sklearn import svm\\nimport lightgbm as lgb'); }\n    "
     },
     "metadata": {}
    },
    {
     "output_type": "display_data",
     "data": {
      "text/plain": "<IPython.core.display.Javascript object>",
      "application/javascript": "\n        if (window._pyforest_update_imports_cell) { window._pyforest_update_imports_cell('from sklearn.ensemble import RandomForestClassifier\\nimport datetime as dt\\nfrom pathlib import Path\\nimport gensim\\nfrom sklearn.ensemble import GradientBoostingRegressor\\nfrom dask import dataframe as dd\\nimport plotly.express as px\\nimport tqdm\\nimport pickle\\nfrom openpyxl import load_workbook\\nfrom sklearn.preprocessing import OneHotEncoder\\nimport plotly.graph_objs as go\\nimport spacy\\nimport xgboost as xgb\\nimport plotly as py\\nimport sklearn\\nfrom sklearn.ensemble import RandomForestRegressor\\nimport matplotlib as mpl\\nimport bokeh\\nfrom sklearn.feature_extraction.text import TfidfVectorizer\\nimport seaborn as sns\\nimport glob\\nimport nltk\\nfrom sklearn.ensemble import GradientBoostingClassifier\\nimport statistics\\nfrom sklearn.model_selection import train_test_split\\nfrom sklearn.manifold import TSNE\\nfrom sklearn import svm\\nimport lightgbm as lgb'); }\n    "
     },
     "metadata": {}
    },
    {
     "output_type": "display_data",
     "data": {
      "text/plain": "<IPython.core.display.Javascript object>",
      "application/javascript": "\n        if (window._pyforest_update_imports_cell) { window._pyforest_update_imports_cell('from sklearn.ensemble import RandomForestClassifier\\nimport datetime as dt\\nfrom pathlib import Path\\nimport gensim\\nfrom sklearn.ensemble import GradientBoostingRegressor\\nfrom dask import dataframe as dd\\nimport plotly.express as px\\nimport tqdm\\nimport pickle\\nfrom openpyxl import load_workbook\\nfrom sklearn.preprocessing import OneHotEncoder\\nimport plotly.graph_objs as go\\nimport spacy\\nimport xgboost as xgb\\nimport plotly as py\\nimport sklearn\\nfrom sklearn.ensemble import RandomForestRegressor\\nimport matplotlib as mpl\\nimport bokeh\\nfrom sklearn.feature_extraction.text import TfidfVectorizer\\nimport seaborn as sns\\nimport glob\\nimport nltk\\nfrom sklearn.ensemble import GradientBoostingClassifier\\nimport statistics\\nfrom sklearn.model_selection import train_test_split\\nfrom sklearn.manifold import TSNE\\nfrom sklearn import svm\\nimport lightgbm as lgb'); }\n    "
     },
     "metadata": {}
    },
    {
     "output_type": "display_data",
     "data": {
      "text/plain": "<IPython.core.display.Javascript object>",
      "application/javascript": "\n        if (window._pyforest_update_imports_cell) { window._pyforest_update_imports_cell('from sklearn.ensemble import RandomForestClassifier\\nimport datetime as dt\\nfrom pathlib import Path\\nimport gensim\\nfrom sklearn.ensemble import GradientBoostingRegressor\\nfrom dask import dataframe as dd\\nimport plotly.express as px\\nimport tqdm\\nimport pickle\\nfrom openpyxl import load_workbook\\nfrom sklearn.preprocessing import OneHotEncoder\\nimport plotly.graph_objs as go\\nimport spacy\\nimport xgboost as xgb\\nimport plotly as py\\nimport sklearn\\nfrom sklearn.ensemble import RandomForestRegressor\\nimport matplotlib as mpl\\nimport bokeh\\nfrom sklearn.feature_extraction.text import TfidfVectorizer\\nimport seaborn as sns\\nimport glob\\nimport nltk\\nfrom sklearn.ensemble import GradientBoostingClassifier\\nimport statistics\\nfrom sklearn.model_selection import train_test_split\\nfrom sklearn.manifold import TSNE\\nfrom sklearn import svm\\nimport lightgbm as lgb'); }\n    "
     },
     "metadata": {}
    },
    {
     "output_type": "display_data",
     "data": {
      "text/plain": "<IPython.core.display.Javascript object>",
      "application/javascript": "\n        if (window._pyforest_update_imports_cell) { window._pyforest_update_imports_cell('from sklearn.ensemble import RandomForestClassifier\\nimport datetime as dt\\nfrom pathlib import Path\\nimport gensim\\nfrom sklearn.ensemble import GradientBoostingRegressor\\nfrom dask import dataframe as dd\\nimport plotly.express as px\\nimport tqdm\\nimport pickle\\nfrom openpyxl import load_workbook\\nfrom sklearn.preprocessing import OneHotEncoder\\nimport plotly.graph_objs as go\\nimport spacy\\nimport xgboost as xgb\\nimport plotly as py\\nimport sklearn\\nfrom sklearn.ensemble import RandomForestRegressor\\nimport matplotlib as mpl\\nimport bokeh\\nfrom sklearn.feature_extraction.text import TfidfVectorizer\\nimport seaborn as sns\\nimport glob\\nimport nltk\\nfrom sklearn.ensemble import GradientBoostingClassifier\\nimport statistics\\nfrom sklearn.model_selection import train_test_split\\nfrom sklearn.manifold import TSNE\\nfrom sklearn import svm\\nimport lightgbm as lgb'); }\n    "
     },
     "metadata": {}
    },
    {
     "output_type": "display_data",
     "data": {
      "text/plain": "<IPython.core.display.Javascript object>",
      "application/javascript": "\n        if (window._pyforest_update_imports_cell) { window._pyforest_update_imports_cell('from sklearn.ensemble import RandomForestClassifier\\nimport datetime as dt\\nfrom pathlib import Path\\nimport gensim\\nfrom sklearn.ensemble import GradientBoostingRegressor\\nfrom dask import dataframe as dd\\nimport plotly.express as px\\nimport tqdm\\nimport pickle\\nfrom openpyxl import load_workbook\\nfrom sklearn.preprocessing import OneHotEncoder\\nimport plotly.graph_objs as go\\nimport spacy\\nimport xgboost as xgb\\nimport plotly as py\\nimport sklearn\\nfrom sklearn.ensemble import RandomForestRegressor\\nimport matplotlib as mpl\\nimport bokeh\\nfrom sklearn.feature_extraction.text import TfidfVectorizer\\nimport seaborn as sns\\nimport glob\\nimport nltk\\nfrom sklearn.ensemble import GradientBoostingClassifier\\nimport statistics\\nfrom sklearn.model_selection import train_test_split\\nfrom sklearn.manifold import TSNE\\nfrom sklearn import svm\\nimport lightgbm as lgb'); }\n    "
     },
     "metadata": {}
    },
    {
     "output_type": "display_data",
     "data": {
      "text/plain": "<IPython.core.display.Javascript object>",
      "application/javascript": "\n        if (window._pyforest_update_imports_cell) { window._pyforest_update_imports_cell('from sklearn.ensemble import RandomForestClassifier\\nimport datetime as dt\\nfrom pathlib import Path\\nimport gensim\\nfrom sklearn.ensemble import GradientBoostingRegressor\\nfrom dask import dataframe as dd\\nimport plotly.express as px\\nimport tqdm\\nimport pickle\\nfrom openpyxl import load_workbook\\nfrom sklearn.preprocessing import OneHotEncoder\\nimport plotly.graph_objs as go\\nimport spacy\\nimport xgboost as xgb\\nimport plotly as py\\nimport sklearn\\nfrom sklearn.ensemble import RandomForestRegressor\\nimport matplotlib as mpl\\nimport bokeh\\nfrom sklearn.feature_extraction.text import TfidfVectorizer\\nimport seaborn as sns\\nimport glob\\nimport nltk\\nfrom sklearn.ensemble import GradientBoostingClassifier\\nimport statistics\\nfrom sklearn.model_selection import train_test_split\\nfrom sklearn.manifold import TSNE\\nfrom sklearn import svm\\nimport lightgbm as lgb'); }\n    "
     },
     "metadata": {}
    },
    {
     "output_type": "display_data",
     "data": {
      "text/plain": "<IPython.core.display.Javascript object>",
      "application/javascript": "\n        if (window._pyforest_update_imports_cell) { window._pyforest_update_imports_cell('from sklearn.ensemble import RandomForestClassifier\\nimport datetime as dt\\nfrom pathlib import Path\\nimport gensim\\nfrom sklearn.ensemble import GradientBoostingRegressor\\nfrom dask import dataframe as dd\\nimport plotly.express as px\\nimport tqdm\\nimport pickle\\nfrom openpyxl import load_workbook\\nfrom sklearn.preprocessing import OneHotEncoder\\nimport plotly.graph_objs as go\\nimport spacy\\nimport xgboost as xgb\\nimport plotly as py\\nimport sklearn\\nfrom sklearn.ensemble import RandomForestRegressor\\nimport matplotlib as mpl\\nimport bokeh\\nfrom sklearn.feature_extraction.text import TfidfVectorizer\\nimport seaborn as sns\\nimport glob\\nimport nltk\\nfrom sklearn.ensemble import GradientBoostingClassifier\\nimport statistics\\nfrom sklearn.model_selection import train_test_split\\nfrom sklearn.manifold import TSNE\\nfrom sklearn import svm\\nimport lightgbm as lgb'); }\n    "
     },
     "metadata": {}
    },
    {
     "output_type": "display_data",
     "data": {
      "text/plain": "<IPython.core.display.Javascript object>",
      "application/javascript": "\n        if (window._pyforest_update_imports_cell) { window._pyforest_update_imports_cell('from sklearn.ensemble import RandomForestClassifier\\nimport datetime as dt\\nfrom pathlib import Path\\nimport gensim\\nfrom sklearn.ensemble import GradientBoostingRegressor\\nfrom dask import dataframe as dd\\nimport plotly.express as px\\nimport tqdm\\nimport pickle\\nfrom openpyxl import load_workbook\\nfrom sklearn.preprocessing import OneHotEncoder\\nimport plotly.graph_objs as go\\nimport spacy\\nimport xgboost as xgb\\nimport plotly as py\\nimport sklearn\\nfrom sklearn.ensemble import RandomForestRegressor\\nimport matplotlib as mpl\\nimport bokeh\\nfrom sklearn.feature_extraction.text import TfidfVectorizer\\nimport seaborn as sns\\nimport glob\\nimport nltk\\nfrom sklearn.ensemble import GradientBoostingClassifier\\nimport statistics\\nfrom sklearn.model_selection import train_test_split\\nfrom sklearn.manifold import TSNE\\nfrom sklearn import svm\\nimport lightgbm as lgb'); }\n    "
     },
     "metadata": {}
    },
    {
     "output_type": "display_data",
     "data": {
      "text/plain": "<IPython.core.display.Javascript object>",
      "application/javascript": "\n        if (window._pyforest_update_imports_cell) { window._pyforest_update_imports_cell('from sklearn.ensemble import RandomForestClassifier\\nimport datetime as dt\\nfrom pathlib import Path\\nimport gensim\\nfrom sklearn.ensemble import GradientBoostingRegressor\\nfrom dask import dataframe as dd\\nimport plotly.express as px\\nimport tqdm\\nimport pickle\\nfrom openpyxl import load_workbook\\nfrom sklearn.preprocessing import OneHotEncoder\\nimport plotly.graph_objs as go\\nimport spacy\\nimport xgboost as xgb\\nimport plotly as py\\nimport sklearn\\nfrom sklearn.ensemble import RandomForestRegressor\\nimport matplotlib as mpl\\nimport bokeh\\nfrom sklearn.feature_extraction.text import TfidfVectorizer\\nimport seaborn as sns\\nimport glob\\nimport nltk\\nfrom sklearn.ensemble import GradientBoostingClassifier\\nimport statistics\\nfrom sklearn.model_selection import train_test_split\\nfrom sklearn.manifold import TSNE\\nfrom sklearn import svm\\nimport lightgbm as lgb'); }\n    "
     },
     "metadata": {}
    },
    {
     "output_type": "display_data",
     "data": {
      "text/plain": "<IPython.core.display.Javascript object>",
      "application/javascript": "\n        if (window._pyforest_update_imports_cell) { window._pyforest_update_imports_cell('from sklearn.ensemble import RandomForestClassifier\\nimport datetime as dt\\nfrom pathlib import Path\\nimport gensim\\nfrom sklearn.ensemble import GradientBoostingRegressor\\nfrom dask import dataframe as dd\\nimport plotly.express as px\\nimport tqdm\\nimport pickle\\nfrom openpyxl import load_workbook\\nfrom sklearn.preprocessing import OneHotEncoder\\nimport plotly.graph_objs as go\\nimport spacy\\nimport xgboost as xgb\\nimport plotly as py\\nimport sklearn\\nfrom sklearn.ensemble import RandomForestRegressor\\nimport matplotlib as mpl\\nimport bokeh\\nfrom sklearn.feature_extraction.text import TfidfVectorizer\\nimport seaborn as sns\\nimport glob\\nimport nltk\\nfrom sklearn.ensemble import GradientBoostingClassifier\\nimport statistics\\nfrom sklearn.model_selection import train_test_split\\nfrom sklearn.manifold import TSNE\\nfrom sklearn import svm\\nimport lightgbm as lgb'); }\n    "
     },
     "metadata": {}
    },
    {
     "output_type": "display_data",
     "data": {
      "text/plain": "<IPython.core.display.Javascript object>",
      "application/javascript": "\n        if (window._pyforest_update_imports_cell) { window._pyforest_update_imports_cell('from sklearn.ensemble import RandomForestClassifier\\nimport datetime as dt\\nfrom pathlib import Path\\nimport gensim\\nfrom sklearn.ensemble import GradientBoostingRegressor\\nfrom dask import dataframe as dd\\nimport plotly.express as px\\nimport tqdm\\nimport pickle\\nfrom openpyxl import load_workbook\\nfrom sklearn.preprocessing import OneHotEncoder\\nimport plotly.graph_objs as go\\nimport spacy\\nimport xgboost as xgb\\nimport plotly as py\\nimport sklearn\\nfrom sklearn.ensemble import RandomForestRegressor\\nimport matplotlib as mpl\\nimport bokeh\\nfrom sklearn.feature_extraction.text import TfidfVectorizer\\nimport seaborn as sns\\nimport glob\\nimport nltk\\nfrom sklearn.ensemble import GradientBoostingClassifier\\nimport statistics\\nfrom sklearn.model_selection import train_test_split\\nfrom sklearn.manifold import TSNE\\nfrom sklearn import svm\\nimport lightgbm as lgb'); }\n    "
     },
     "metadata": {}
    },
    {
     "output_type": "display_data",
     "data": {
      "text/plain": "<IPython.core.display.Javascript object>",
      "application/javascript": "\n        if (window._pyforest_update_imports_cell) { window._pyforest_update_imports_cell('from sklearn.ensemble import RandomForestClassifier\\nimport datetime as dt\\nfrom pathlib import Path\\nimport gensim\\nfrom sklearn.ensemble import GradientBoostingRegressor\\nfrom dask import dataframe as dd\\nimport plotly.express as px\\nimport tqdm\\nimport pickle\\nfrom openpyxl import load_workbook\\nfrom sklearn.preprocessing import OneHotEncoder\\nimport plotly.graph_objs as go\\nimport spacy\\nimport xgboost as xgb\\nimport plotly as py\\nimport sklearn\\nfrom sklearn.ensemble import RandomForestRegressor\\nimport matplotlib as mpl\\nimport bokeh\\nfrom sklearn.feature_extraction.text import TfidfVectorizer\\nimport seaborn as sns\\nimport glob\\nimport nltk\\nfrom sklearn.ensemble import GradientBoostingClassifier\\nimport statistics\\nfrom sklearn.model_selection import train_test_split\\nfrom sklearn.manifold import TSNE\\nfrom sklearn import svm\\nimport lightgbm as lgb'); }\n    "
     },
     "metadata": {}
    },
    {
     "output_type": "display_data",
     "data": {
      "text/plain": "<IPython.core.display.Javascript object>",
      "application/javascript": "\n        if (window._pyforest_update_imports_cell) { window._pyforest_update_imports_cell('from sklearn.ensemble import RandomForestClassifier\\nimport datetime as dt\\nfrom pathlib import Path\\nimport gensim\\nfrom sklearn.ensemble import GradientBoostingRegressor\\nfrom dask import dataframe as dd\\nimport plotly.express as px\\nimport tqdm\\nimport pickle\\nfrom openpyxl import load_workbook\\nfrom sklearn.preprocessing import OneHotEncoder\\nimport plotly.graph_objs as go\\nimport spacy\\nimport xgboost as xgb\\nimport plotly as py\\nimport sklearn\\nfrom sklearn.ensemble import RandomForestRegressor\\nimport matplotlib as mpl\\nimport bokeh\\nfrom sklearn.feature_extraction.text import TfidfVectorizer\\nimport seaborn as sns\\nimport glob\\nimport nltk\\nfrom sklearn.ensemble import GradientBoostingClassifier\\nimport statistics\\nfrom sklearn.model_selection import train_test_split\\nfrom sklearn.manifold import TSNE\\nfrom sklearn import svm\\nimport lightgbm as lgb'); }\n    "
     },
     "metadata": {}
    },
    {
     "output_type": "display_data",
     "data": {
      "text/plain": "<IPython.core.display.Javascript object>",
      "application/javascript": "\n        if (window._pyforest_update_imports_cell) { window._pyforest_update_imports_cell('from sklearn.ensemble import RandomForestClassifier\\nimport datetime as dt\\nfrom pathlib import Path\\nimport gensim\\nfrom sklearn.ensemble import GradientBoostingRegressor\\nfrom dask import dataframe as dd\\nimport plotly.express as px\\nimport tqdm\\nimport pickle\\nfrom openpyxl import load_workbook\\nfrom sklearn.preprocessing import OneHotEncoder\\nimport plotly.graph_objs as go\\nimport spacy\\nimport xgboost as xgb\\nimport plotly as py\\nimport sklearn\\nfrom sklearn.ensemble import RandomForestRegressor\\nimport matplotlib as mpl\\nimport bokeh\\nfrom sklearn.feature_extraction.text import TfidfVectorizer\\nimport seaborn as sns\\nimport glob\\nimport nltk\\nfrom sklearn.ensemble import GradientBoostingClassifier\\nimport statistics\\nfrom sklearn.model_selection import train_test_split\\nfrom sklearn.manifold import TSNE\\nfrom sklearn import svm\\nimport lightgbm as lgb'); }\n    "
     },
     "metadata": {}
    },
    {
     "output_type": "display_data",
     "data": {
      "text/plain": "<IPython.core.display.Javascript object>",
      "application/javascript": "\n        if (window._pyforest_update_imports_cell) { window._pyforest_update_imports_cell('from sklearn.ensemble import RandomForestClassifier\\nimport datetime as dt\\nfrom pathlib import Path\\nimport gensim\\nfrom sklearn.ensemble import GradientBoostingRegressor\\nfrom dask import dataframe as dd\\nimport plotly.express as px\\nimport tqdm\\nimport pickle\\nfrom openpyxl import load_workbook\\nfrom sklearn.preprocessing import OneHotEncoder\\nimport plotly.graph_objs as go\\nimport spacy\\nimport xgboost as xgb\\nimport plotly as py\\nimport sklearn\\nfrom sklearn.ensemble import RandomForestRegressor\\nimport matplotlib as mpl\\nimport bokeh\\nfrom sklearn.feature_extraction.text import TfidfVectorizer\\nimport seaborn as sns\\nimport glob\\nimport nltk\\nfrom sklearn.ensemble import GradientBoostingClassifier\\nimport statistics\\nfrom sklearn.model_selection import train_test_split\\nfrom sklearn.manifold import TSNE\\nfrom sklearn import svm\\nimport lightgbm as lgb'); }\n    "
     },
     "metadata": {}
    },
    {
     "output_type": "display_data",
     "data": {
      "text/plain": "<IPython.core.display.Javascript object>",
      "application/javascript": "\n        if (window._pyforest_update_imports_cell) { window._pyforest_update_imports_cell('from sklearn.ensemble import RandomForestClassifier\\nimport datetime as dt\\nfrom pathlib import Path\\nimport gensim\\nfrom sklearn.ensemble import GradientBoostingRegressor\\nfrom dask import dataframe as dd\\nimport plotly.express as px\\nimport tqdm\\nimport pickle\\nfrom openpyxl import load_workbook\\nfrom sklearn.preprocessing import OneHotEncoder\\nimport plotly.graph_objs as go\\nimport spacy\\nimport xgboost as xgb\\nimport plotly as py\\nimport sklearn\\nfrom sklearn.ensemble import RandomForestRegressor\\nimport matplotlib as mpl\\nimport bokeh\\nfrom sklearn.feature_extraction.text import TfidfVectorizer\\nimport seaborn as sns\\nimport glob\\nimport nltk\\nfrom sklearn.ensemble import GradientBoostingClassifier\\nimport statistics\\nfrom sklearn.model_selection import train_test_split\\nfrom sklearn.manifold import TSNE\\nfrom sklearn import svm\\nimport lightgbm as lgb'); }\n    "
     },
     "metadata": {}
    },
    {
     "output_type": "display_data",
     "data": {
      "text/plain": "<IPython.core.display.Javascript object>",
      "application/javascript": "\n        if (window._pyforest_update_imports_cell) { window._pyforest_update_imports_cell('from sklearn.ensemble import RandomForestClassifier\\nimport datetime as dt\\nfrom pathlib import Path\\nimport gensim\\nfrom sklearn.ensemble import GradientBoostingRegressor\\nfrom dask import dataframe as dd\\nimport plotly.express as px\\nimport tqdm\\nimport pickle\\nfrom openpyxl import load_workbook\\nfrom sklearn.preprocessing import OneHotEncoder\\nimport plotly.graph_objs as go\\nimport spacy\\nimport xgboost as xgb\\nimport plotly as py\\nimport sklearn\\nfrom sklearn.ensemble import RandomForestRegressor\\nimport matplotlib as mpl\\nimport bokeh\\nfrom sklearn.feature_extraction.text import TfidfVectorizer\\nimport seaborn as sns\\nimport glob\\nimport nltk\\nfrom sklearn.ensemble import GradientBoostingClassifier\\nimport statistics\\nfrom sklearn.model_selection import train_test_split\\nfrom sklearn.manifold import TSNE\\nfrom sklearn import svm\\nimport lightgbm as lgb'); }\n    "
     },
     "metadata": {}
    },
    {
     "output_type": "display_data",
     "data": {
      "text/plain": "<IPython.core.display.Javascript object>",
      "application/javascript": "\n        if (window._pyforest_update_imports_cell) { window._pyforest_update_imports_cell('from sklearn.ensemble import RandomForestClassifier\\nimport datetime as dt\\nfrom pathlib import Path\\nimport gensim\\nfrom sklearn.ensemble import GradientBoostingRegressor\\nfrom dask import dataframe as dd\\nimport plotly.express as px\\nimport tqdm\\nimport pickle\\nfrom openpyxl import load_workbook\\nfrom sklearn.preprocessing import OneHotEncoder\\nimport plotly.graph_objs as go\\nimport spacy\\nimport xgboost as xgb\\nimport plotly as py\\nimport sklearn\\nfrom sklearn.ensemble import RandomForestRegressor\\nimport matplotlib as mpl\\nimport bokeh\\nfrom sklearn.feature_extraction.text import TfidfVectorizer\\nimport seaborn as sns\\nimport glob\\nimport nltk\\nfrom sklearn.ensemble import GradientBoostingClassifier\\nimport statistics\\nfrom sklearn.model_selection import train_test_split\\nfrom sklearn.manifold import TSNE\\nfrom sklearn import svm\\nimport lightgbm as lgb'); }\n    "
     },
     "metadata": {}
    },
    {
     "output_type": "display_data",
     "data": {
      "text/plain": "<IPython.core.display.Javascript object>",
      "application/javascript": "\n        if (window._pyforest_update_imports_cell) { window._pyforest_update_imports_cell('from sklearn.ensemble import RandomForestClassifier\\nimport datetime as dt\\nfrom pathlib import Path\\nimport gensim\\nfrom sklearn.ensemble import GradientBoostingRegressor\\nfrom dask import dataframe as dd\\nimport plotly.express as px\\nimport tqdm\\nimport pickle\\nfrom openpyxl import load_workbook\\nfrom sklearn.preprocessing import OneHotEncoder\\nimport plotly.graph_objs as go\\nimport spacy\\nimport xgboost as xgb\\nimport plotly as py\\nimport sklearn\\nfrom sklearn.ensemble import RandomForestRegressor\\nimport matplotlib as mpl\\nimport bokeh\\nfrom sklearn.feature_extraction.text import TfidfVectorizer\\nimport seaborn as sns\\nimport glob\\nimport nltk\\nfrom sklearn.ensemble import GradientBoostingClassifier\\nimport statistics\\nfrom sklearn.model_selection import train_test_split\\nfrom sklearn.manifold import TSNE\\nfrom sklearn import svm\\nimport lightgbm as lgb'); }\n    "
     },
     "metadata": {}
    },
    {
     "output_type": "display_data",
     "data": {
      "text/plain": "<IPython.core.display.Javascript object>",
      "application/javascript": "\n        if (window._pyforest_update_imports_cell) { window._pyforest_update_imports_cell('from sklearn.ensemble import RandomForestClassifier\\nimport datetime as dt\\nfrom pathlib import Path\\nimport gensim\\nfrom sklearn.ensemble import GradientBoostingRegressor\\nfrom dask import dataframe as dd\\nimport plotly.express as px\\nimport tqdm\\nimport pickle\\nfrom openpyxl import load_workbook\\nfrom sklearn.preprocessing import OneHotEncoder\\nimport plotly.graph_objs as go\\nimport spacy\\nimport xgboost as xgb\\nimport plotly as py\\nimport sklearn\\nfrom sklearn.ensemble import RandomForestRegressor\\nimport matplotlib as mpl\\nimport bokeh\\nfrom sklearn.feature_extraction.text import TfidfVectorizer\\nimport seaborn as sns\\nimport glob\\nimport nltk\\nfrom sklearn.ensemble import GradientBoostingClassifier\\nimport statistics\\nfrom sklearn.model_selection import train_test_split\\nfrom sklearn.manifold import TSNE\\nfrom sklearn import svm\\nimport lightgbm as lgb'); }\n    "
     },
     "metadata": {}
    },
    {
     "output_type": "display_data",
     "data": {
      "text/plain": "<IPython.core.display.Javascript object>",
      "application/javascript": "\n        if (window._pyforest_update_imports_cell) { window._pyforest_update_imports_cell('from sklearn.ensemble import RandomForestClassifier\\nimport datetime as dt\\nfrom pathlib import Path\\nimport gensim\\nfrom sklearn.ensemble import GradientBoostingRegressor\\nfrom dask import dataframe as dd\\nimport plotly.express as px\\nimport tqdm\\nimport pickle\\nfrom openpyxl import load_workbook\\nfrom sklearn.preprocessing import OneHotEncoder\\nimport plotly.graph_objs as go\\nimport spacy\\nimport xgboost as xgb\\nimport plotly as py\\nimport sklearn\\nfrom sklearn.ensemble import RandomForestRegressor\\nimport matplotlib as mpl\\nimport bokeh\\nfrom sklearn.feature_extraction.text import TfidfVectorizer\\nimport seaborn as sns\\nimport glob\\nimport nltk\\nfrom sklearn.ensemble import GradientBoostingClassifier\\nimport statistics\\nfrom sklearn.model_selection import train_test_split\\nfrom sklearn.manifold import TSNE\\nfrom sklearn import svm\\nimport lightgbm as lgb'); }\n    "
     },
     "metadata": {}
    },
    {
     "output_type": "display_data",
     "data": {
      "text/plain": "<IPython.core.display.Javascript object>",
      "application/javascript": "\n        if (window._pyforest_update_imports_cell) { window._pyforest_update_imports_cell('from sklearn.ensemble import RandomForestClassifier\\nimport datetime as dt\\nfrom pathlib import Path\\nimport gensim\\nfrom sklearn.ensemble import GradientBoostingRegressor\\nfrom dask import dataframe as dd\\nimport plotly.express as px\\nimport tqdm\\nimport pickle\\nfrom openpyxl import load_workbook\\nfrom sklearn.preprocessing import OneHotEncoder\\nimport plotly.graph_objs as go\\nimport spacy\\nimport xgboost as xgb\\nimport plotly as py\\nimport sklearn\\nfrom sklearn.ensemble import RandomForestRegressor\\nimport matplotlib as mpl\\nimport bokeh\\nfrom sklearn.feature_extraction.text import TfidfVectorizer\\nimport seaborn as sns\\nimport glob\\nimport nltk\\nfrom sklearn.ensemble import GradientBoostingClassifier\\nimport statistics\\nfrom sklearn.model_selection import train_test_split\\nfrom sklearn.manifold import TSNE\\nfrom sklearn import svm\\nimport lightgbm as lgb'); }\n    "
     },
     "metadata": {}
    },
    {
     "output_type": "display_data",
     "data": {
      "text/plain": "<IPython.core.display.Javascript object>",
      "application/javascript": "\n        if (window._pyforest_update_imports_cell) { window._pyforest_update_imports_cell('from sklearn.ensemble import RandomForestClassifier\\nimport datetime as dt\\nfrom pathlib import Path\\nimport gensim\\nfrom sklearn.ensemble import GradientBoostingRegressor\\nfrom dask import dataframe as dd\\nimport plotly.express as px\\nimport tqdm\\nimport pickle\\nfrom openpyxl import load_workbook\\nfrom sklearn.preprocessing import OneHotEncoder\\nimport plotly.graph_objs as go\\nimport spacy\\nimport xgboost as xgb\\nimport plotly as py\\nimport sklearn\\nfrom sklearn.ensemble import RandomForestRegressor\\nimport matplotlib as mpl\\nimport bokeh\\nfrom sklearn.feature_extraction.text import TfidfVectorizer\\nimport seaborn as sns\\nimport glob\\nimport nltk\\nfrom sklearn.ensemble import GradientBoostingClassifier\\nimport statistics\\nfrom sklearn.model_selection import train_test_split\\nfrom sklearn.manifold import TSNE\\nfrom sklearn import svm\\nimport lightgbm as lgb'); }\n    "
     },
     "metadata": {}
    },
    {
     "output_type": "display_data",
     "data": {
      "text/plain": "<IPython.core.display.Javascript object>",
      "application/javascript": "\n        if (window._pyforest_update_imports_cell) { window._pyforest_update_imports_cell('from sklearn.ensemble import RandomForestClassifier\\nimport datetime as dt\\nfrom pathlib import Path\\nimport gensim\\nfrom sklearn.ensemble import GradientBoostingRegressor\\nfrom dask import dataframe as dd\\nimport plotly.express as px\\nimport tqdm\\nimport pickle\\nfrom openpyxl import load_workbook\\nfrom sklearn.preprocessing import OneHotEncoder\\nimport plotly.graph_objs as go\\nimport spacy\\nimport xgboost as xgb\\nimport plotly as py\\nimport sklearn\\nfrom sklearn.ensemble import RandomForestRegressor\\nimport matplotlib as mpl\\nimport bokeh\\nfrom sklearn.feature_extraction.text import TfidfVectorizer\\nimport seaborn as sns\\nimport glob\\nimport nltk\\nfrom sklearn.ensemble import GradientBoostingClassifier\\nimport statistics\\nfrom sklearn.model_selection import train_test_split\\nfrom sklearn.manifold import TSNE\\nfrom sklearn import svm\\nimport lightgbm as lgb'); }\n    "
     },
     "metadata": {}
    },
    {
     "output_type": "display_data",
     "data": {
      "text/plain": "<IPython.core.display.Javascript object>",
      "application/javascript": "\n        if (window._pyforest_update_imports_cell) { window._pyforest_update_imports_cell('from sklearn.ensemble import RandomForestClassifier\\nimport datetime as dt\\nfrom pathlib import Path\\nimport gensim\\nfrom sklearn.ensemble import GradientBoostingRegressor\\nfrom dask import dataframe as dd\\nimport plotly.express as px\\nimport tqdm\\nimport pickle\\nfrom openpyxl import load_workbook\\nfrom sklearn.preprocessing import OneHotEncoder\\nimport plotly.graph_objs as go\\nimport spacy\\nimport xgboost as xgb\\nimport plotly as py\\nimport sklearn\\nfrom sklearn.ensemble import RandomForestRegressor\\nimport matplotlib as mpl\\nimport bokeh\\nfrom sklearn.feature_extraction.text import TfidfVectorizer\\nimport seaborn as sns\\nimport glob\\nimport nltk\\nfrom sklearn.ensemble import GradientBoostingClassifier\\nimport statistics\\nfrom sklearn.model_selection import train_test_split\\nfrom sklearn.manifold import TSNE\\nfrom sklearn import svm\\nimport lightgbm as lgb'); }\n    "
     },
     "metadata": {}
    },
    {
     "output_type": "display_data",
     "data": {
      "text/plain": "<IPython.core.display.Javascript object>",
      "application/javascript": "\n        if (window._pyforest_update_imports_cell) { window._pyforest_update_imports_cell('from sklearn.ensemble import RandomForestClassifier\\nimport datetime as dt\\nfrom pathlib import Path\\nimport gensim\\nfrom sklearn.ensemble import GradientBoostingRegressor\\nfrom dask import dataframe as dd\\nimport plotly.express as px\\nimport tqdm\\nimport pickle\\nfrom openpyxl import load_workbook\\nfrom sklearn.preprocessing import OneHotEncoder\\nimport plotly.graph_objs as go\\nimport spacy\\nimport xgboost as xgb\\nimport plotly as py\\nimport sklearn\\nfrom sklearn.ensemble import RandomForestRegressor\\nimport matplotlib as mpl\\nimport bokeh\\nfrom sklearn.feature_extraction.text import TfidfVectorizer\\nimport seaborn as sns\\nimport glob\\nimport nltk\\nfrom sklearn.ensemble import GradientBoostingClassifier\\nimport statistics\\nfrom sklearn.model_selection import train_test_split\\nfrom sklearn.manifold import TSNE\\nfrom sklearn import svm\\nimport lightgbm as lgb'); }\n    "
     },
     "metadata": {}
    },
    {
     "output_type": "display_data",
     "data": {
      "text/plain": "<IPython.core.display.Javascript object>",
      "application/javascript": "\n        if (window._pyforest_update_imports_cell) { window._pyforest_update_imports_cell('from sklearn.ensemble import RandomForestClassifier\\nimport datetime as dt\\nfrom pathlib import Path\\nimport gensim\\nfrom sklearn.ensemble import GradientBoostingRegressor\\nfrom dask import dataframe as dd\\nimport plotly.express as px\\nimport tqdm\\nimport pickle\\nfrom openpyxl import load_workbook\\nfrom sklearn.preprocessing import OneHotEncoder\\nimport plotly.graph_objs as go\\nimport spacy\\nimport xgboost as xgb\\nimport plotly as py\\nimport sklearn\\nfrom sklearn.ensemble import RandomForestRegressor\\nimport matplotlib as mpl\\nimport bokeh\\nfrom sklearn.feature_extraction.text import TfidfVectorizer\\nimport seaborn as sns\\nimport glob\\nimport nltk\\nfrom sklearn.ensemble import GradientBoostingClassifier\\nimport statistics\\nfrom sklearn.model_selection import train_test_split\\nfrom sklearn.manifold import TSNE\\nfrom sklearn import svm\\nimport lightgbm as lgb'); }\n    "
     },
     "metadata": {}
    },
    {
     "output_type": "display_data",
     "data": {
      "text/plain": "<IPython.core.display.Javascript object>",
      "application/javascript": "\n        if (window._pyforest_update_imports_cell) { window._pyforest_update_imports_cell('from sklearn.ensemble import RandomForestClassifier\\nimport datetime as dt\\nfrom pathlib import Path\\nimport gensim\\nfrom sklearn.ensemble import GradientBoostingRegressor\\nfrom dask import dataframe as dd\\nimport plotly.express as px\\nimport tqdm\\nimport pickle\\nfrom openpyxl import load_workbook\\nfrom sklearn.preprocessing import OneHotEncoder\\nimport plotly.graph_objs as go\\nimport spacy\\nimport xgboost as xgb\\nimport plotly as py\\nimport sklearn\\nfrom sklearn.ensemble import RandomForestRegressor\\nimport matplotlib as mpl\\nimport bokeh\\nfrom sklearn.feature_extraction.text import TfidfVectorizer\\nimport seaborn as sns\\nimport glob\\nimport nltk\\nfrom sklearn.ensemble import GradientBoostingClassifier\\nimport statistics\\nfrom sklearn.model_selection import train_test_split\\nfrom sklearn.manifold import TSNE\\nfrom sklearn import svm\\nimport lightgbm as lgb'); }\n    "
     },
     "metadata": {}
    },
    {
     "output_type": "display_data",
     "data": {
      "text/plain": "<IPython.core.display.Javascript object>",
      "application/javascript": "\n        if (window._pyforest_update_imports_cell) { window._pyforest_update_imports_cell('from sklearn.ensemble import RandomForestClassifier\\nimport datetime as dt\\nfrom pathlib import Path\\nimport gensim\\nfrom sklearn.ensemble import GradientBoostingRegressor\\nfrom dask import dataframe as dd\\nimport plotly.express as px\\nimport tqdm\\nimport pickle\\nfrom openpyxl import load_workbook\\nfrom sklearn.preprocessing import OneHotEncoder\\nimport plotly.graph_objs as go\\nimport spacy\\nimport xgboost as xgb\\nimport plotly as py\\nimport sklearn\\nfrom sklearn.ensemble import RandomForestRegressor\\nimport matplotlib as mpl\\nimport bokeh\\nfrom sklearn.feature_extraction.text import TfidfVectorizer\\nimport seaborn as sns\\nimport glob\\nimport nltk\\nfrom sklearn.ensemble import GradientBoostingClassifier\\nimport statistics\\nfrom sklearn.model_selection import train_test_split\\nfrom sklearn.manifold import TSNE\\nfrom sklearn import svm\\nimport lightgbm as lgb'); }\n    "
     },
     "metadata": {}
    },
    {
     "output_type": "display_data",
     "data": {
      "text/plain": "<IPython.core.display.Javascript object>",
      "application/javascript": "\n        if (window._pyforest_update_imports_cell) { window._pyforest_update_imports_cell('from sklearn.ensemble import RandomForestClassifier\\nimport datetime as dt\\nfrom pathlib import Path\\nimport gensim\\nfrom sklearn.ensemble import GradientBoostingRegressor\\nfrom dask import dataframe as dd\\nimport plotly.express as px\\nimport tqdm\\nimport pickle\\nfrom openpyxl import load_workbook\\nfrom sklearn.preprocessing import OneHotEncoder\\nimport plotly.graph_objs as go\\nimport spacy\\nimport xgboost as xgb\\nimport plotly as py\\nimport sklearn\\nfrom sklearn.ensemble import RandomForestRegressor\\nimport matplotlib as mpl\\nimport bokeh\\nfrom sklearn.feature_extraction.text import TfidfVectorizer\\nimport seaborn as sns\\nimport glob\\nimport nltk\\nfrom sklearn.ensemble import GradientBoostingClassifier\\nimport statistics\\nfrom sklearn.model_selection import train_test_split\\nfrom sklearn.manifold import TSNE\\nfrom sklearn import svm\\nimport lightgbm as lgb'); }\n    "
     },
     "metadata": {}
    },
    {
     "output_type": "display_data",
     "data": {
      "text/plain": "<IPython.core.display.Javascript object>",
      "application/javascript": "\n        if (window._pyforest_update_imports_cell) { window._pyforest_update_imports_cell('from sklearn.ensemble import RandomForestClassifier\\nimport datetime as dt\\nfrom pathlib import Path\\nimport gensim\\nfrom sklearn.ensemble import GradientBoostingRegressor\\nfrom dask import dataframe as dd\\nimport plotly.express as px\\nimport tqdm\\nimport pickle\\nfrom openpyxl import load_workbook\\nfrom sklearn.preprocessing import OneHotEncoder\\nimport plotly.graph_objs as go\\nimport spacy\\nimport xgboost as xgb\\nimport plotly as py\\nimport sklearn\\nfrom sklearn.ensemble import RandomForestRegressor\\nimport matplotlib as mpl\\nimport bokeh\\nfrom sklearn.feature_extraction.text import TfidfVectorizer\\nimport seaborn as sns\\nimport glob\\nimport nltk\\nfrom sklearn.ensemble import GradientBoostingClassifier\\nimport statistics\\nfrom sklearn.model_selection import train_test_split\\nfrom sklearn.manifold import TSNE\\nfrom sklearn import svm\\nimport lightgbm as lgb'); }\n    "
     },
     "metadata": {}
    },
    {
     "output_type": "display_data",
     "data": {
      "text/plain": "<IPython.core.display.Javascript object>",
      "application/javascript": "\n        if (window._pyforest_update_imports_cell) { window._pyforest_update_imports_cell('from sklearn.ensemble import RandomForestClassifier\\nimport datetime as dt\\nfrom pathlib import Path\\nimport gensim\\nfrom sklearn.ensemble import GradientBoostingRegressor\\nfrom dask import dataframe as dd\\nimport plotly.express as px\\nimport tqdm\\nimport pickle\\nfrom openpyxl import load_workbook\\nfrom sklearn.preprocessing import OneHotEncoder\\nimport plotly.graph_objs as go\\nimport spacy\\nimport xgboost as xgb\\nimport plotly as py\\nimport sklearn\\nfrom sklearn.ensemble import RandomForestRegressor\\nimport matplotlib as mpl\\nimport bokeh\\nfrom sklearn.feature_extraction.text import TfidfVectorizer\\nimport seaborn as sns\\nimport glob\\nimport nltk\\nfrom sklearn.ensemble import GradientBoostingClassifier\\nimport statistics\\nfrom sklearn.model_selection import train_test_split\\nfrom sklearn.manifold import TSNE\\nfrom sklearn import svm\\nimport lightgbm as lgb'); }\n    "
     },
     "metadata": {}
    },
    {
     "output_type": "display_data",
     "data": {
      "text/plain": "<IPython.core.display.Javascript object>",
      "application/javascript": "\n        if (window._pyforest_update_imports_cell) { window._pyforest_update_imports_cell('from sklearn.ensemble import RandomForestClassifier\\nimport datetime as dt\\nfrom pathlib import Path\\nimport gensim\\nfrom sklearn.ensemble import GradientBoostingRegressor\\nfrom dask import dataframe as dd\\nimport plotly.express as px\\nimport tqdm\\nimport pickle\\nfrom openpyxl import load_workbook\\nfrom sklearn.preprocessing import OneHotEncoder\\nimport plotly.graph_objs as go\\nimport spacy\\nimport xgboost as xgb\\nimport plotly as py\\nimport sklearn\\nfrom sklearn.ensemble import RandomForestRegressor\\nimport matplotlib as mpl\\nimport bokeh\\nfrom sklearn.feature_extraction.text import TfidfVectorizer\\nimport seaborn as sns\\nimport glob\\nimport nltk\\nfrom sklearn.ensemble import GradientBoostingClassifier\\nimport statistics\\nfrom sklearn.model_selection import train_test_split\\nfrom sklearn.manifold import TSNE\\nfrom sklearn import svm\\nimport lightgbm as lgb'); }\n    "
     },
     "metadata": {}
    },
    {
     "output_type": "display_data",
     "data": {
      "text/plain": "<IPython.core.display.Javascript object>",
      "application/javascript": "\n        if (window._pyforest_update_imports_cell) { window._pyforest_update_imports_cell('from sklearn.ensemble import RandomForestClassifier\\nimport datetime as dt\\nfrom pathlib import Path\\nimport gensim\\nfrom sklearn.ensemble import GradientBoostingRegressor\\nfrom dask import dataframe as dd\\nimport plotly.express as px\\nimport tqdm\\nimport pickle\\nfrom openpyxl import load_workbook\\nfrom sklearn.preprocessing import OneHotEncoder\\nimport plotly.graph_objs as go\\nimport spacy\\nimport xgboost as xgb\\nimport plotly as py\\nimport sklearn\\nfrom sklearn.ensemble import RandomForestRegressor\\nimport matplotlib as mpl\\nimport bokeh\\nfrom sklearn.feature_extraction.text import TfidfVectorizer\\nimport seaborn as sns\\nimport glob\\nimport nltk\\nfrom sklearn.ensemble import GradientBoostingClassifier\\nimport statistics\\nfrom sklearn.model_selection import train_test_split\\nfrom sklearn.manifold import TSNE\\nfrom sklearn import svm\\nimport lightgbm as lgb'); }\n    "
     },
     "metadata": {}
    },
    {
     "output_type": "display_data",
     "data": {
      "text/plain": "<IPython.core.display.Javascript object>",
      "application/javascript": "\n        if (window._pyforest_update_imports_cell) { window._pyforest_update_imports_cell('from sklearn.ensemble import RandomForestClassifier\\nimport datetime as dt\\nfrom pathlib import Path\\nimport gensim\\nfrom sklearn.ensemble import GradientBoostingRegressor\\nfrom dask import dataframe as dd\\nimport plotly.express as px\\nimport tqdm\\nimport pickle\\nfrom openpyxl import load_workbook\\nfrom sklearn.preprocessing import OneHotEncoder\\nimport plotly.graph_objs as go\\nimport spacy\\nimport xgboost as xgb\\nimport plotly as py\\nimport sklearn\\nfrom sklearn.ensemble import RandomForestRegressor\\nimport matplotlib as mpl\\nimport bokeh\\nfrom sklearn.feature_extraction.text import TfidfVectorizer\\nimport seaborn as sns\\nimport glob\\nimport nltk\\nfrom sklearn.ensemble import GradientBoostingClassifier\\nimport statistics\\nfrom sklearn.model_selection import train_test_split\\nfrom sklearn.manifold import TSNE\\nfrom sklearn import svm\\nimport lightgbm as lgb'); }\n    "
     },
     "metadata": {}
    },
    {
     "output_type": "display_data",
     "data": {
      "text/plain": "<IPython.core.display.Javascript object>",
      "application/javascript": "\n        if (window._pyforest_update_imports_cell) { window._pyforest_update_imports_cell('from sklearn.ensemble import RandomForestClassifier\\nimport datetime as dt\\nfrom pathlib import Path\\nimport gensim\\nfrom sklearn.ensemble import GradientBoostingRegressor\\nfrom dask import dataframe as dd\\nimport plotly.express as px\\nimport tqdm\\nimport pickle\\nfrom openpyxl import load_workbook\\nfrom sklearn.preprocessing import OneHotEncoder\\nimport plotly.graph_objs as go\\nimport spacy\\nimport xgboost as xgb\\nimport plotly as py\\nimport sklearn\\nfrom sklearn.ensemble import RandomForestRegressor\\nimport matplotlib as mpl\\nimport bokeh\\nfrom sklearn.feature_extraction.text import TfidfVectorizer\\nimport seaborn as sns\\nimport glob\\nimport nltk\\nfrom sklearn.ensemble import GradientBoostingClassifier\\nimport statistics\\nfrom sklearn.model_selection import train_test_split\\nfrom sklearn.manifold import TSNE\\nfrom sklearn import svm\\nimport lightgbm as lgb'); }\n    "
     },
     "metadata": {}
    },
    {
     "output_type": "display_data",
     "data": {
      "text/plain": "<IPython.core.display.Javascript object>",
      "application/javascript": "\n        if (window._pyforest_update_imports_cell) { window._pyforest_update_imports_cell('from sklearn.ensemble import RandomForestClassifier\\nimport datetime as dt\\nfrom pathlib import Path\\nimport gensim\\nfrom sklearn.ensemble import GradientBoostingRegressor\\nfrom dask import dataframe as dd\\nimport plotly.express as px\\nimport tqdm\\nimport pickle\\nfrom openpyxl import load_workbook\\nfrom sklearn.preprocessing import OneHotEncoder\\nimport plotly.graph_objs as go\\nimport spacy\\nimport xgboost as xgb\\nimport plotly as py\\nimport sklearn\\nfrom sklearn.ensemble import RandomForestRegressor\\nimport matplotlib as mpl\\nimport bokeh\\nfrom sklearn.feature_extraction.text import TfidfVectorizer\\nimport seaborn as sns\\nimport glob\\nimport nltk\\nfrom sklearn.ensemble import GradientBoostingClassifier\\nimport statistics\\nfrom sklearn.model_selection import train_test_split\\nfrom sklearn.manifold import TSNE\\nfrom sklearn import svm\\nimport lightgbm as lgb'); }\n    "
     },
     "metadata": {}
    },
    {
     "output_type": "display_data",
     "data": {
      "text/plain": "<IPython.core.display.Javascript object>",
      "application/javascript": "\n        if (window._pyforest_update_imports_cell) { window._pyforest_update_imports_cell('from sklearn.ensemble import RandomForestClassifier\\nimport datetime as dt\\nfrom pathlib import Path\\nimport gensim\\nfrom sklearn.ensemble import GradientBoostingRegressor\\nfrom dask import dataframe as dd\\nimport plotly.express as px\\nimport tqdm\\nimport pickle\\nfrom openpyxl import load_workbook\\nfrom sklearn.preprocessing import OneHotEncoder\\nimport plotly.graph_objs as go\\nimport spacy\\nimport xgboost as xgb\\nimport plotly as py\\nimport sklearn\\nfrom sklearn.ensemble import RandomForestRegressor\\nimport matplotlib as mpl\\nimport bokeh\\nfrom sklearn.feature_extraction.text import TfidfVectorizer\\nimport seaborn as sns\\nimport glob\\nimport nltk\\nfrom sklearn.ensemble import GradientBoostingClassifier\\nimport statistics\\nfrom sklearn.model_selection import train_test_split\\nfrom sklearn.manifold import TSNE\\nfrom sklearn import svm\\nimport lightgbm as lgb'); }\n    "
     },
     "metadata": {}
    },
    {
     "output_type": "display_data",
     "data": {
      "text/plain": "<IPython.core.display.Javascript object>",
      "application/javascript": "\n        if (window._pyforest_update_imports_cell) { window._pyforest_update_imports_cell('from sklearn.ensemble import RandomForestClassifier\\nimport datetime as dt\\nfrom pathlib import Path\\nimport gensim\\nfrom sklearn.ensemble import GradientBoostingRegressor\\nfrom dask import dataframe as dd\\nimport plotly.express as px\\nimport tqdm\\nimport pickle\\nfrom openpyxl import load_workbook\\nfrom sklearn.preprocessing import OneHotEncoder\\nimport plotly.graph_objs as go\\nimport spacy\\nimport xgboost as xgb\\nimport plotly as py\\nimport sklearn\\nfrom sklearn.ensemble import RandomForestRegressor\\nimport matplotlib as mpl\\nimport bokeh\\nfrom sklearn.feature_extraction.text import TfidfVectorizer\\nimport seaborn as sns\\nimport glob\\nimport nltk\\nfrom sklearn.ensemble import GradientBoostingClassifier\\nimport statistics\\nfrom sklearn.model_selection import train_test_split\\nfrom sklearn.manifold import TSNE\\nfrom sklearn import svm\\nimport lightgbm as lgb'); }\n    "
     },
     "metadata": {}
    },
    {
     "output_type": "display_data",
     "data": {
      "text/plain": "<IPython.core.display.Javascript object>",
      "application/javascript": "\n        if (window._pyforest_update_imports_cell) { window._pyforest_update_imports_cell('from sklearn.ensemble import RandomForestClassifier\\nimport datetime as dt\\nfrom pathlib import Path\\nimport gensim\\nfrom sklearn.ensemble import GradientBoostingRegressor\\nfrom dask import dataframe as dd\\nimport plotly.express as px\\nimport tqdm\\nimport pickle\\nfrom openpyxl import load_workbook\\nfrom sklearn.preprocessing import OneHotEncoder\\nimport plotly.graph_objs as go\\nimport spacy\\nimport xgboost as xgb\\nimport plotly as py\\nimport sklearn\\nfrom sklearn.ensemble import RandomForestRegressor\\nimport matplotlib as mpl\\nimport bokeh\\nfrom sklearn.feature_extraction.text import TfidfVectorizer\\nimport seaborn as sns\\nimport glob\\nimport nltk\\nfrom sklearn.ensemble import GradientBoostingClassifier\\nimport statistics\\nfrom sklearn.model_selection import train_test_split\\nfrom sklearn.manifold import TSNE\\nfrom sklearn import svm\\nimport lightgbm as lgb'); }\n    "
     },
     "metadata": {}
    },
    {
     "output_type": "display_data",
     "data": {
      "text/plain": "<IPython.core.display.Javascript object>",
      "application/javascript": "\n        if (window._pyforest_update_imports_cell) { window._pyforest_update_imports_cell('from sklearn.ensemble import RandomForestClassifier\\nimport datetime as dt\\nfrom pathlib import Path\\nimport gensim\\nfrom sklearn.ensemble import GradientBoostingRegressor\\nfrom dask import dataframe as dd\\nimport plotly.express as px\\nimport tqdm\\nimport pickle\\nfrom openpyxl import load_workbook\\nfrom sklearn.preprocessing import OneHotEncoder\\nimport plotly.graph_objs as go\\nimport spacy\\nimport xgboost as xgb\\nimport plotly as py\\nimport sklearn\\nfrom sklearn.ensemble import RandomForestRegressor\\nimport matplotlib as mpl\\nimport bokeh\\nfrom sklearn.feature_extraction.text import TfidfVectorizer\\nimport seaborn as sns\\nimport glob\\nimport nltk\\nfrom sklearn.ensemble import GradientBoostingClassifier\\nimport statistics\\nfrom sklearn.model_selection import train_test_split\\nfrom sklearn.manifold import TSNE\\nfrom sklearn import svm\\nimport lightgbm as lgb'); }\n    "
     },
     "metadata": {}
    },
    {
     "output_type": "display_data",
     "data": {
      "text/plain": "<IPython.core.display.Javascript object>",
      "application/javascript": "\n        if (window._pyforest_update_imports_cell) { window._pyforest_update_imports_cell('from sklearn.ensemble import RandomForestClassifier\\nimport datetime as dt\\nfrom pathlib import Path\\nimport gensim\\nfrom sklearn.ensemble import GradientBoostingRegressor\\nfrom dask import dataframe as dd\\nimport plotly.express as px\\nimport tqdm\\nimport pickle\\nfrom openpyxl import load_workbook\\nfrom sklearn.preprocessing import OneHotEncoder\\nimport plotly.graph_objs as go\\nimport spacy\\nimport xgboost as xgb\\nimport plotly as py\\nimport sklearn\\nfrom sklearn.ensemble import RandomForestRegressor\\nimport matplotlib as mpl\\nimport bokeh\\nfrom sklearn.feature_extraction.text import TfidfVectorizer\\nimport seaborn as sns\\nimport glob\\nimport nltk\\nfrom sklearn.ensemble import GradientBoostingClassifier\\nimport statistics\\nfrom sklearn.model_selection import train_test_split\\nfrom sklearn.manifold import TSNE\\nfrom sklearn import svm\\nimport lightgbm as lgb'); }\n    "
     },
     "metadata": {}
    },
    {
     "output_type": "display_data",
     "data": {
      "text/plain": "<IPython.core.display.Javascript object>",
      "application/javascript": "\n        if (window._pyforest_update_imports_cell) { window._pyforest_update_imports_cell('from sklearn.ensemble import RandomForestClassifier\\nimport datetime as dt\\nfrom pathlib import Path\\nimport gensim\\nfrom sklearn.ensemble import GradientBoostingRegressor\\nfrom dask import dataframe as dd\\nimport plotly.express as px\\nimport tqdm\\nimport pickle\\nfrom openpyxl import load_workbook\\nfrom sklearn.preprocessing import OneHotEncoder\\nimport plotly.graph_objs as go\\nimport spacy\\nimport xgboost as xgb\\nimport plotly as py\\nimport sklearn\\nfrom sklearn.ensemble import RandomForestRegressor\\nimport matplotlib as mpl\\nimport bokeh\\nfrom sklearn.feature_extraction.text import TfidfVectorizer\\nimport seaborn as sns\\nimport glob\\nimport nltk\\nfrom sklearn.ensemble import GradientBoostingClassifier\\nimport statistics\\nfrom sklearn.model_selection import train_test_split\\nfrom sklearn.manifold import TSNE\\nfrom sklearn import svm\\nimport lightgbm as lgb'); }\n    "
     },
     "metadata": {}
    },
    {
     "output_type": "display_data",
     "data": {
      "text/plain": "<IPython.core.display.Javascript object>",
      "application/javascript": "\n        if (window._pyforest_update_imports_cell) { window._pyforest_update_imports_cell('from sklearn.ensemble import RandomForestClassifier\\nimport datetime as dt\\nfrom pathlib import Path\\nimport gensim\\nfrom sklearn.ensemble import GradientBoostingRegressor\\nfrom dask import dataframe as dd\\nimport plotly.express as px\\nimport tqdm\\nimport pickle\\nfrom openpyxl import load_workbook\\nfrom sklearn.preprocessing import OneHotEncoder\\nimport plotly.graph_objs as go\\nimport spacy\\nimport xgboost as xgb\\nimport plotly as py\\nimport sklearn\\nfrom sklearn.ensemble import RandomForestRegressor\\nimport matplotlib as mpl\\nimport bokeh\\nfrom sklearn.feature_extraction.text import TfidfVectorizer\\nimport seaborn as sns\\nimport glob\\nimport nltk\\nfrom sklearn.ensemble import GradientBoostingClassifier\\nimport statistics\\nfrom sklearn.model_selection import train_test_split\\nfrom sklearn.manifold import TSNE\\nfrom sklearn import svm\\nimport lightgbm as lgb'); }\n    "
     },
     "metadata": {}
    },
    {
     "output_type": "display_data",
     "data": {
      "text/plain": "<IPython.core.display.Javascript object>",
      "application/javascript": "\n        if (window._pyforest_update_imports_cell) { window._pyforest_update_imports_cell('from sklearn.ensemble import RandomForestClassifier\\nimport datetime as dt\\nfrom pathlib import Path\\nimport gensim\\nfrom sklearn.ensemble import GradientBoostingRegressor\\nfrom dask import dataframe as dd\\nimport plotly.express as px\\nimport tqdm\\nimport pickle\\nfrom openpyxl import load_workbook\\nfrom sklearn.preprocessing import OneHotEncoder\\nimport plotly.graph_objs as go\\nimport spacy\\nimport xgboost as xgb\\nimport plotly as py\\nimport sklearn\\nfrom sklearn.ensemble import RandomForestRegressor\\nimport matplotlib as mpl\\nimport bokeh\\nfrom sklearn.feature_extraction.text import TfidfVectorizer\\nimport seaborn as sns\\nimport glob\\nimport nltk\\nfrom sklearn.ensemble import GradientBoostingClassifier\\nimport statistics\\nfrom sklearn.model_selection import train_test_split\\nfrom sklearn.manifold import TSNE\\nfrom sklearn import svm\\nimport lightgbm as lgb'); }\n    "
     },
     "metadata": {}
    },
    {
     "output_type": "display_data",
     "data": {
      "text/plain": "<IPython.core.display.Javascript object>",
      "application/javascript": "\n        if (window._pyforest_update_imports_cell) { window._pyforest_update_imports_cell('from sklearn.ensemble import RandomForestClassifier\\nimport datetime as dt\\nfrom pathlib import Path\\nimport gensim\\nfrom sklearn.ensemble import GradientBoostingRegressor\\nfrom dask import dataframe as dd\\nimport plotly.express as px\\nimport tqdm\\nimport pickle\\nfrom openpyxl import load_workbook\\nfrom sklearn.preprocessing import OneHotEncoder\\nimport plotly.graph_objs as go\\nimport spacy\\nimport xgboost as xgb\\nimport plotly as py\\nimport sklearn\\nfrom sklearn.ensemble import RandomForestRegressor\\nimport matplotlib as mpl\\nimport bokeh\\nfrom sklearn.feature_extraction.text import TfidfVectorizer\\nimport seaborn as sns\\nimport glob\\nimport nltk\\nfrom sklearn.ensemble import GradientBoostingClassifier\\nimport statistics\\nfrom sklearn.model_selection import train_test_split\\nfrom sklearn.manifold import TSNE\\nfrom sklearn import svm\\nimport lightgbm as lgb'); }\n    "
     },
     "metadata": {}
    },
    {
     "output_type": "display_data",
     "data": {
      "text/plain": "<IPython.core.display.Javascript object>",
      "application/javascript": "\n        if (window._pyforest_update_imports_cell) { window._pyforest_update_imports_cell('from sklearn.ensemble import RandomForestClassifier\\nimport datetime as dt\\nfrom pathlib import Path\\nimport gensim\\nfrom sklearn.ensemble import GradientBoostingRegressor\\nfrom dask import dataframe as dd\\nimport plotly.express as px\\nimport tqdm\\nimport pickle\\nfrom openpyxl import load_workbook\\nfrom sklearn.preprocessing import OneHotEncoder\\nimport plotly.graph_objs as go\\nimport spacy\\nimport xgboost as xgb\\nimport plotly as py\\nimport sklearn\\nfrom sklearn.ensemble import RandomForestRegressor\\nimport matplotlib as mpl\\nimport bokeh\\nfrom sklearn.feature_extraction.text import TfidfVectorizer\\nimport seaborn as sns\\nimport glob\\nimport nltk\\nfrom sklearn.ensemble import GradientBoostingClassifier\\nimport statistics\\nfrom sklearn.model_selection import train_test_split\\nfrom sklearn.manifold import TSNE\\nfrom sklearn import svm\\nimport lightgbm as lgb'); }\n    "
     },
     "metadata": {}
    },
    {
     "output_type": "display_data",
     "data": {
      "text/plain": "<IPython.core.display.Javascript object>",
      "application/javascript": "\n        if (window._pyforest_update_imports_cell) { window._pyforest_update_imports_cell('from sklearn.ensemble import RandomForestClassifier\\nimport datetime as dt\\nfrom pathlib import Path\\nimport gensim\\nfrom sklearn.ensemble import GradientBoostingRegressor\\nfrom dask import dataframe as dd\\nimport plotly.express as px\\nimport tqdm\\nimport pickle\\nfrom openpyxl import load_workbook\\nfrom sklearn.preprocessing import OneHotEncoder\\nimport plotly.graph_objs as go\\nimport spacy\\nimport xgboost as xgb\\nimport plotly as py\\nimport sklearn\\nfrom sklearn.ensemble import RandomForestRegressor\\nimport matplotlib as mpl\\nimport bokeh\\nfrom sklearn.feature_extraction.text import TfidfVectorizer\\nimport seaborn as sns\\nimport glob\\nimport nltk\\nfrom sklearn.ensemble import GradientBoostingClassifier\\nimport statistics\\nfrom sklearn.model_selection import train_test_split\\nfrom sklearn.manifold import TSNE\\nfrom sklearn import svm\\nimport lightgbm as lgb'); }\n    "
     },
     "metadata": {}
    },
    {
     "output_type": "display_data",
     "data": {
      "text/plain": "<IPython.core.display.Javascript object>",
      "application/javascript": "\n        if (window._pyforest_update_imports_cell) { window._pyforest_update_imports_cell('from sklearn.ensemble import RandomForestClassifier\\nimport datetime as dt\\nfrom pathlib import Path\\nimport gensim\\nfrom sklearn.ensemble import GradientBoostingRegressor\\nfrom dask import dataframe as dd\\nimport plotly.express as px\\nimport tqdm\\nimport pickle\\nfrom openpyxl import load_workbook\\nfrom sklearn.preprocessing import OneHotEncoder\\nimport plotly.graph_objs as go\\nimport spacy\\nimport xgboost as xgb\\nimport plotly as py\\nimport sklearn\\nfrom sklearn.ensemble import RandomForestRegressor\\nimport matplotlib as mpl\\nimport bokeh\\nfrom sklearn.feature_extraction.text import TfidfVectorizer\\nimport seaborn as sns\\nimport glob\\nimport nltk\\nfrom sklearn.ensemble import GradientBoostingClassifier\\nimport statistics\\nfrom sklearn.model_selection import train_test_split\\nfrom sklearn.manifold import TSNE\\nfrom sklearn import svm\\nimport lightgbm as lgb'); }\n    "
     },
     "metadata": {}
    },
    {
     "output_type": "display_data",
     "data": {
      "text/plain": "<IPython.core.display.Javascript object>",
      "application/javascript": "\n        if (window._pyforest_update_imports_cell) { window._pyforest_update_imports_cell('from sklearn.ensemble import RandomForestClassifier\\nimport datetime as dt\\nfrom pathlib import Path\\nimport gensim\\nfrom sklearn.ensemble import GradientBoostingRegressor\\nfrom dask import dataframe as dd\\nimport plotly.express as px\\nimport tqdm\\nimport pickle\\nfrom openpyxl import load_workbook\\nfrom sklearn.preprocessing import OneHotEncoder\\nimport plotly.graph_objs as go\\nimport spacy\\nimport xgboost as xgb\\nimport plotly as py\\nimport sklearn\\nfrom sklearn.ensemble import RandomForestRegressor\\nimport matplotlib as mpl\\nimport bokeh\\nfrom sklearn.feature_extraction.text import TfidfVectorizer\\nimport seaborn as sns\\nimport glob\\nimport nltk\\nfrom sklearn.ensemble import GradientBoostingClassifier\\nimport statistics\\nfrom sklearn.model_selection import train_test_split\\nfrom sklearn.manifold import TSNE\\nfrom sklearn import svm\\nimport lightgbm as lgb'); }\n    "
     },
     "metadata": {}
    },
    {
     "output_type": "display_data",
     "data": {
      "text/plain": "<IPython.core.display.Javascript object>",
      "application/javascript": "\n        if (window._pyforest_update_imports_cell) { window._pyforest_update_imports_cell('from sklearn.ensemble import RandomForestClassifier\\nimport datetime as dt\\nfrom pathlib import Path\\nimport gensim\\nfrom sklearn.ensemble import GradientBoostingRegressor\\nfrom dask import dataframe as dd\\nimport plotly.express as px\\nimport tqdm\\nimport pickle\\nfrom openpyxl import load_workbook\\nfrom sklearn.preprocessing import OneHotEncoder\\nimport plotly.graph_objs as go\\nimport spacy\\nimport xgboost as xgb\\nimport plotly as py\\nimport sklearn\\nfrom sklearn.ensemble import RandomForestRegressor\\nimport matplotlib as mpl\\nimport bokeh\\nfrom sklearn.feature_extraction.text import TfidfVectorizer\\nimport seaborn as sns\\nimport glob\\nimport nltk\\nfrom sklearn.ensemble import GradientBoostingClassifier\\nimport statistics\\nfrom sklearn.model_selection import train_test_split\\nfrom sklearn.manifold import TSNE\\nfrom sklearn import svm\\nimport lightgbm as lgb'); }\n    "
     },
     "metadata": {}
    },
    {
     "output_type": "display_data",
     "data": {
      "text/plain": "<IPython.core.display.Javascript object>",
      "application/javascript": "\n        if (window._pyforest_update_imports_cell) { window._pyforest_update_imports_cell('from sklearn.ensemble import RandomForestClassifier\\nimport datetime as dt\\nfrom pathlib import Path\\nimport gensim\\nfrom sklearn.ensemble import GradientBoostingRegressor\\nfrom dask import dataframe as dd\\nimport plotly.express as px\\nimport tqdm\\nimport pickle\\nfrom openpyxl import load_workbook\\nfrom sklearn.preprocessing import OneHotEncoder\\nimport plotly.graph_objs as go\\nimport spacy\\nimport xgboost as xgb\\nimport plotly as py\\nimport sklearn\\nfrom sklearn.ensemble import RandomForestRegressor\\nimport matplotlib as mpl\\nimport bokeh\\nfrom sklearn.feature_extraction.text import TfidfVectorizer\\nimport seaborn as sns\\nimport glob\\nimport nltk\\nfrom sklearn.ensemble import GradientBoostingClassifier\\nimport statistics\\nfrom sklearn.model_selection import train_test_split\\nfrom sklearn.manifold import TSNE\\nfrom sklearn import svm\\nimport lightgbm as lgb'); }\n    "
     },
     "metadata": {}
    },
    {
     "output_type": "display_data",
     "data": {
      "text/plain": "<IPython.core.display.Javascript object>",
      "application/javascript": "\n        if (window._pyforest_update_imports_cell) { window._pyforest_update_imports_cell('from sklearn.ensemble import RandomForestClassifier\\nimport datetime as dt\\nfrom pathlib import Path\\nimport gensim\\nfrom sklearn.ensemble import GradientBoostingRegressor\\nfrom dask import dataframe as dd\\nimport plotly.express as px\\nimport tqdm\\nimport pickle\\nfrom openpyxl import load_workbook\\nfrom sklearn.preprocessing import OneHotEncoder\\nimport plotly.graph_objs as go\\nimport spacy\\nimport xgboost as xgb\\nimport plotly as py\\nimport sklearn\\nfrom sklearn.ensemble import RandomForestRegressor\\nimport matplotlib as mpl\\nimport bokeh\\nfrom sklearn.feature_extraction.text import TfidfVectorizer\\nimport seaborn as sns\\nimport glob\\nimport nltk\\nfrom sklearn.ensemble import GradientBoostingClassifier\\nimport statistics\\nfrom sklearn.model_selection import train_test_split\\nfrom sklearn.manifold import TSNE\\nfrom sklearn import svm\\nimport lightgbm as lgb'); }\n    "
     },
     "metadata": {}
    },
    {
     "output_type": "display_data",
     "data": {
      "text/plain": "<IPython.core.display.Javascript object>",
      "application/javascript": "\n        if (window._pyforest_update_imports_cell) { window._pyforest_update_imports_cell('from sklearn.ensemble import RandomForestClassifier\\nimport datetime as dt\\nfrom pathlib import Path\\nimport gensim\\nfrom sklearn.ensemble import GradientBoostingRegressor\\nfrom dask import dataframe as dd\\nimport plotly.express as px\\nimport tqdm\\nimport pickle\\nfrom openpyxl import load_workbook\\nfrom sklearn.preprocessing import OneHotEncoder\\nimport plotly.graph_objs as go\\nimport spacy\\nimport xgboost as xgb\\nimport plotly as py\\nimport sklearn\\nfrom sklearn.ensemble import RandomForestRegressor\\nimport matplotlib as mpl\\nimport bokeh\\nfrom sklearn.feature_extraction.text import TfidfVectorizer\\nimport seaborn as sns\\nimport glob\\nimport nltk\\nfrom sklearn.ensemble import GradientBoostingClassifier\\nimport statistics\\nfrom sklearn.model_selection import train_test_split\\nfrom sklearn.manifold import TSNE\\nfrom sklearn import svm\\nimport lightgbm as lgb'); }\n    "
     },
     "metadata": {}
    },
    {
     "output_type": "display_data",
     "data": {
      "text/plain": "<IPython.core.display.Javascript object>",
      "application/javascript": "\n        if (window._pyforest_update_imports_cell) { window._pyforest_update_imports_cell('from sklearn.ensemble import RandomForestClassifier\\nimport datetime as dt\\nfrom pathlib import Path\\nimport gensim\\nfrom sklearn.ensemble import GradientBoostingRegressor\\nfrom dask import dataframe as dd\\nimport plotly.express as px\\nimport tqdm\\nimport pickle\\nfrom openpyxl import load_workbook\\nfrom sklearn.preprocessing import OneHotEncoder\\nimport plotly.graph_objs as go\\nimport spacy\\nimport xgboost as xgb\\nimport plotly as py\\nimport sklearn\\nfrom sklearn.ensemble import RandomForestRegressor\\nimport matplotlib as mpl\\nimport bokeh\\nfrom sklearn.feature_extraction.text import TfidfVectorizer\\nimport seaborn as sns\\nimport glob\\nimport nltk\\nfrom sklearn.ensemble import GradientBoostingClassifier\\nimport statistics\\nfrom sklearn.model_selection import train_test_split\\nfrom sklearn.manifold import TSNE\\nfrom sklearn import svm\\nimport lightgbm as lgb'); }\n    "
     },
     "metadata": {}
    },
    {
     "output_type": "display_data",
     "data": {
      "text/plain": "<IPython.core.display.Javascript object>",
      "application/javascript": "\n        if (window._pyforest_update_imports_cell) { window._pyforest_update_imports_cell('from sklearn.ensemble import RandomForestClassifier\\nimport datetime as dt\\nfrom pathlib import Path\\nimport gensim\\nfrom sklearn.ensemble import GradientBoostingRegressor\\nfrom dask import dataframe as dd\\nimport plotly.express as px\\nimport tqdm\\nimport pickle\\nfrom openpyxl import load_workbook\\nfrom sklearn.preprocessing import OneHotEncoder\\nimport plotly.graph_objs as go\\nimport spacy\\nimport xgboost as xgb\\nimport plotly as py\\nimport sklearn\\nfrom sklearn.ensemble import RandomForestRegressor\\nimport matplotlib as mpl\\nimport bokeh\\nfrom sklearn.feature_extraction.text import TfidfVectorizer\\nimport seaborn as sns\\nimport glob\\nimport nltk\\nfrom sklearn.ensemble import GradientBoostingClassifier\\nimport statistics\\nfrom sklearn.model_selection import train_test_split\\nfrom sklearn.manifold import TSNE\\nfrom sklearn import svm\\nimport lightgbm as lgb'); }\n    "
     },
     "metadata": {}
    },
    {
     "output_type": "display_data",
     "data": {
      "text/plain": "<IPython.core.display.Javascript object>",
      "application/javascript": "\n        if (window._pyforest_update_imports_cell) { window._pyforest_update_imports_cell('from sklearn.ensemble import RandomForestClassifier\\nimport datetime as dt\\nfrom pathlib import Path\\nimport gensim\\nfrom sklearn.ensemble import GradientBoostingRegressor\\nfrom dask import dataframe as dd\\nimport plotly.express as px\\nimport tqdm\\nimport pickle\\nfrom openpyxl import load_workbook\\nfrom sklearn.preprocessing import OneHotEncoder\\nimport plotly.graph_objs as go\\nimport spacy\\nimport xgboost as xgb\\nimport plotly as py\\nimport sklearn\\nfrom sklearn.ensemble import RandomForestRegressor\\nimport matplotlib as mpl\\nimport bokeh\\nfrom sklearn.feature_extraction.text import TfidfVectorizer\\nimport seaborn as sns\\nimport glob\\nimport nltk\\nfrom sklearn.ensemble import GradientBoostingClassifier\\nimport statistics\\nfrom sklearn.model_selection import train_test_split\\nfrom sklearn.manifold import TSNE\\nfrom sklearn import svm\\nimport lightgbm as lgb'); }\n    "
     },
     "metadata": {}
    },
    {
     "output_type": "display_data",
     "data": {
      "text/plain": "<IPython.core.display.Javascript object>",
      "application/javascript": "\n        if (window._pyforest_update_imports_cell) { window._pyforest_update_imports_cell('from sklearn.ensemble import RandomForestClassifier\\nimport datetime as dt\\nfrom pathlib import Path\\nimport gensim\\nfrom sklearn.ensemble import GradientBoostingRegressor\\nfrom dask import dataframe as dd\\nimport plotly.express as px\\nimport tqdm\\nimport pickle\\nfrom openpyxl import load_workbook\\nfrom sklearn.preprocessing import OneHotEncoder\\nimport plotly.graph_objs as go\\nimport spacy\\nimport xgboost as xgb\\nimport plotly as py\\nimport sklearn\\nfrom sklearn.ensemble import RandomForestRegressor\\nimport matplotlib as mpl\\nimport bokeh\\nfrom sklearn.feature_extraction.text import TfidfVectorizer\\nimport seaborn as sns\\nimport glob\\nimport nltk\\nfrom sklearn.ensemble import GradientBoostingClassifier\\nimport statistics\\nfrom sklearn.model_selection import train_test_split\\nfrom sklearn.manifold import TSNE\\nfrom sklearn import svm\\nimport lightgbm as lgb'); }\n    "
     },
     "metadata": {}
    },
    {
     "output_type": "display_data",
     "data": {
      "text/plain": "<IPython.core.display.Javascript object>",
      "application/javascript": "\n        if (window._pyforest_update_imports_cell) { window._pyforest_update_imports_cell('from sklearn.ensemble import RandomForestClassifier\\nimport datetime as dt\\nfrom pathlib import Path\\nimport gensim\\nfrom sklearn.ensemble import GradientBoostingRegressor\\nfrom dask import dataframe as dd\\nimport plotly.express as px\\nimport tqdm\\nimport pickle\\nfrom openpyxl import load_workbook\\nfrom sklearn.preprocessing import OneHotEncoder\\nimport plotly.graph_objs as go\\nimport spacy\\nimport xgboost as xgb\\nimport plotly as py\\nimport sklearn\\nfrom sklearn.ensemble import RandomForestRegressor\\nimport matplotlib as mpl\\nimport bokeh\\nfrom sklearn.feature_extraction.text import TfidfVectorizer\\nimport seaborn as sns\\nimport glob\\nimport nltk\\nfrom sklearn.ensemble import GradientBoostingClassifier\\nimport statistics\\nfrom sklearn.model_selection import train_test_split\\nfrom sklearn.manifold import TSNE\\nfrom sklearn import svm\\nimport lightgbm as lgb'); }\n    "
     },
     "metadata": {}
    },
    {
     "output_type": "display_data",
     "data": {
      "text/plain": "<IPython.core.display.Javascript object>",
      "application/javascript": "\n        if (window._pyforest_update_imports_cell) { window._pyforest_update_imports_cell('from sklearn.ensemble import RandomForestClassifier\\nimport datetime as dt\\nfrom pathlib import Path\\nimport gensim\\nfrom sklearn.ensemble import GradientBoostingRegressor\\nfrom dask import dataframe as dd\\nimport plotly.express as px\\nimport tqdm\\nimport pickle\\nfrom openpyxl import load_workbook\\nfrom sklearn.preprocessing import OneHotEncoder\\nimport plotly.graph_objs as go\\nimport spacy\\nimport xgboost as xgb\\nimport plotly as py\\nimport sklearn\\nfrom sklearn.ensemble import RandomForestRegressor\\nimport matplotlib as mpl\\nimport bokeh\\nfrom sklearn.feature_extraction.text import TfidfVectorizer\\nimport seaborn as sns\\nimport glob\\nimport nltk\\nfrom sklearn.ensemble import GradientBoostingClassifier\\nimport statistics\\nfrom sklearn.model_selection import train_test_split\\nfrom sklearn.manifold import TSNE\\nfrom sklearn import svm\\nimport lightgbm as lgb'); }\n    "
     },
     "metadata": {}
    },
    {
     "output_type": "display_data",
     "data": {
      "text/plain": "<IPython.core.display.Javascript object>",
      "application/javascript": "\n        if (window._pyforest_update_imports_cell) { window._pyforest_update_imports_cell('from sklearn.ensemble import RandomForestClassifier\\nimport datetime as dt\\nfrom pathlib import Path\\nimport gensim\\nfrom sklearn.ensemble import GradientBoostingRegressor\\nfrom dask import dataframe as dd\\nimport plotly.express as px\\nimport tqdm\\nimport pickle\\nfrom openpyxl import load_workbook\\nfrom sklearn.preprocessing import OneHotEncoder\\nimport plotly.graph_objs as go\\nimport spacy\\nimport xgboost as xgb\\nimport plotly as py\\nimport sklearn\\nfrom sklearn.ensemble import RandomForestRegressor\\nimport matplotlib as mpl\\nimport bokeh\\nfrom sklearn.feature_extraction.text import TfidfVectorizer\\nimport seaborn as sns\\nimport glob\\nimport nltk\\nfrom sklearn.ensemble import GradientBoostingClassifier\\nimport statistics\\nfrom sklearn.model_selection import train_test_split\\nfrom sklearn.manifold import TSNE\\nfrom sklearn import svm\\nimport lightgbm as lgb'); }\n    "
     },
     "metadata": {}
    },
    {
     "output_type": "display_data",
     "data": {
      "text/plain": "<IPython.core.display.Javascript object>",
      "application/javascript": "\n        if (window._pyforest_update_imports_cell) { window._pyforest_update_imports_cell('from sklearn.ensemble import RandomForestClassifier\\nimport datetime as dt\\nfrom pathlib import Path\\nimport gensim\\nfrom sklearn.ensemble import GradientBoostingRegressor\\nfrom dask import dataframe as dd\\nimport plotly.express as px\\nimport tqdm\\nimport pickle\\nfrom openpyxl import load_workbook\\nfrom sklearn.preprocessing import OneHotEncoder\\nimport plotly.graph_objs as go\\nimport spacy\\nimport xgboost as xgb\\nimport plotly as py\\nimport sklearn\\nfrom sklearn.ensemble import RandomForestRegressor\\nimport matplotlib as mpl\\nimport bokeh\\nfrom sklearn.feature_extraction.text import TfidfVectorizer\\nimport seaborn as sns\\nimport glob\\nimport nltk\\nfrom sklearn.ensemble import GradientBoostingClassifier\\nimport statistics\\nfrom sklearn.model_selection import train_test_split\\nfrom sklearn.manifold import TSNE\\nfrom sklearn import svm\\nimport lightgbm as lgb'); }\n    "
     },
     "metadata": {}
    },
    {
     "output_type": "display_data",
     "data": {
      "text/plain": "<IPython.core.display.Javascript object>",
      "application/javascript": "\n        if (window._pyforest_update_imports_cell) { window._pyforest_update_imports_cell('from sklearn.ensemble import RandomForestClassifier\\nimport datetime as dt\\nfrom pathlib import Path\\nimport gensim\\nfrom sklearn.ensemble import GradientBoostingRegressor\\nfrom dask import dataframe as dd\\nimport plotly.express as px\\nimport tqdm\\nimport pickle\\nfrom openpyxl import load_workbook\\nfrom sklearn.preprocessing import OneHotEncoder\\nimport plotly.graph_objs as go\\nimport spacy\\nimport xgboost as xgb\\nimport plotly as py\\nimport sklearn\\nfrom sklearn.ensemble import RandomForestRegressor\\nimport matplotlib as mpl\\nimport bokeh\\nfrom sklearn.feature_extraction.text import TfidfVectorizer\\nimport seaborn as sns\\nimport glob\\nimport nltk\\nfrom sklearn.ensemble import GradientBoostingClassifier\\nimport statistics\\nfrom sklearn.model_selection import train_test_split\\nfrom sklearn.manifold import TSNE\\nfrom sklearn import svm\\nimport lightgbm as lgb'); }\n    "
     },
     "metadata": {}
    },
    {
     "output_type": "display_data",
     "data": {
      "text/plain": "<IPython.core.display.Javascript object>",
      "application/javascript": "\n        if (window._pyforest_update_imports_cell) { window._pyforest_update_imports_cell('from sklearn.ensemble import RandomForestClassifier\\nimport datetime as dt\\nfrom pathlib import Path\\nimport gensim\\nfrom sklearn.ensemble import GradientBoostingRegressor\\nfrom dask import dataframe as dd\\nimport plotly.express as px\\nimport tqdm\\nimport pickle\\nfrom openpyxl import load_workbook\\nfrom sklearn.preprocessing import OneHotEncoder\\nimport plotly.graph_objs as go\\nimport spacy\\nimport xgboost as xgb\\nimport plotly as py\\nimport sklearn\\nfrom sklearn.ensemble import RandomForestRegressor\\nimport matplotlib as mpl\\nimport bokeh\\nfrom sklearn.feature_extraction.text import TfidfVectorizer\\nimport seaborn as sns\\nimport glob\\nimport nltk\\nfrom sklearn.ensemble import GradientBoostingClassifier\\nimport statistics\\nfrom sklearn.model_selection import train_test_split\\nfrom sklearn.manifold import TSNE\\nfrom sklearn import svm\\nimport lightgbm as lgb'); }\n    "
     },
     "metadata": {}
    },
    {
     "output_type": "display_data",
     "data": {
      "text/plain": "<IPython.core.display.Javascript object>",
      "application/javascript": "\n        if (window._pyforest_update_imports_cell) { window._pyforest_update_imports_cell('from sklearn.ensemble import RandomForestClassifier\\nimport datetime as dt\\nfrom pathlib import Path\\nimport gensim\\nfrom sklearn.ensemble import GradientBoostingRegressor\\nfrom dask import dataframe as dd\\nimport plotly.express as px\\nimport tqdm\\nimport pickle\\nfrom openpyxl import load_workbook\\nfrom sklearn.preprocessing import OneHotEncoder\\nimport plotly.graph_objs as go\\nimport spacy\\nimport xgboost as xgb\\nimport plotly as py\\nimport sklearn\\nfrom sklearn.ensemble import RandomForestRegressor\\nimport matplotlib as mpl\\nimport bokeh\\nfrom sklearn.feature_extraction.text import TfidfVectorizer\\nimport seaborn as sns\\nimport glob\\nimport nltk\\nfrom sklearn.ensemble import GradientBoostingClassifier\\nimport statistics\\nfrom sklearn.model_selection import train_test_split\\nfrom sklearn.manifold import TSNE\\nfrom sklearn import svm\\nimport lightgbm as lgb'); }\n    "
     },
     "metadata": {}
    },
    {
     "output_type": "display_data",
     "data": {
      "text/plain": "<IPython.core.display.Javascript object>",
      "application/javascript": "\n        if (window._pyforest_update_imports_cell) { window._pyforest_update_imports_cell('from sklearn.ensemble import RandomForestClassifier\\nimport datetime as dt\\nfrom pathlib import Path\\nimport gensim\\nfrom sklearn.ensemble import GradientBoostingRegressor\\nfrom dask import dataframe as dd\\nimport plotly.express as px\\nimport tqdm\\nimport pickle\\nfrom openpyxl import load_workbook\\nfrom sklearn.preprocessing import OneHotEncoder\\nimport plotly.graph_objs as go\\nimport spacy\\nimport xgboost as xgb\\nimport plotly as py\\nimport sklearn\\nfrom sklearn.ensemble import RandomForestRegressor\\nimport matplotlib as mpl\\nimport bokeh\\nfrom sklearn.feature_extraction.text import TfidfVectorizer\\nimport seaborn as sns\\nimport glob\\nimport nltk\\nfrom sklearn.ensemble import GradientBoostingClassifier\\nimport statistics\\nfrom sklearn.model_selection import train_test_split\\nfrom sklearn.manifold import TSNE\\nfrom sklearn import svm\\nimport lightgbm as lgb'); }\n    "
     },
     "metadata": {}
    },
    {
     "output_type": "display_data",
     "data": {
      "text/plain": "<IPython.core.display.Javascript object>",
      "application/javascript": "\n        if (window._pyforest_update_imports_cell) { window._pyforest_update_imports_cell('from sklearn.ensemble import RandomForestClassifier\\nimport datetime as dt\\nfrom pathlib import Path\\nimport gensim\\nfrom sklearn.ensemble import GradientBoostingRegressor\\nfrom dask import dataframe as dd\\nimport plotly.express as px\\nimport tqdm\\nimport pickle\\nfrom openpyxl import load_workbook\\nfrom sklearn.preprocessing import OneHotEncoder\\nimport plotly.graph_objs as go\\nimport spacy\\nimport xgboost as xgb\\nimport plotly as py\\nimport sklearn\\nfrom sklearn.ensemble import RandomForestRegressor\\nimport matplotlib as mpl\\nimport bokeh\\nfrom sklearn.feature_extraction.text import TfidfVectorizer\\nimport seaborn as sns\\nimport glob\\nimport nltk\\nfrom sklearn.ensemble import GradientBoostingClassifier\\nimport statistics\\nfrom sklearn.model_selection import train_test_split\\nfrom sklearn.manifold import TSNE\\nfrom sklearn import svm\\nimport lightgbm as lgb'); }\n    "
     },
     "metadata": {}
    },
    {
     "output_type": "display_data",
     "data": {
      "text/plain": "<IPython.core.display.Javascript object>",
      "application/javascript": "\n        if (window._pyforest_update_imports_cell) { window._pyforest_update_imports_cell('from sklearn.ensemble import RandomForestClassifier\\nimport datetime as dt\\nfrom pathlib import Path\\nimport gensim\\nfrom sklearn.ensemble import GradientBoostingRegressor\\nfrom dask import dataframe as dd\\nimport plotly.express as px\\nimport tqdm\\nimport pickle\\nfrom openpyxl import load_workbook\\nfrom sklearn.preprocessing import OneHotEncoder\\nimport plotly.graph_objs as go\\nimport spacy\\nimport xgboost as xgb\\nimport plotly as py\\nimport sklearn\\nfrom sklearn.ensemble import RandomForestRegressor\\nimport matplotlib as mpl\\nimport bokeh\\nfrom sklearn.feature_extraction.text import TfidfVectorizer\\nimport seaborn as sns\\nimport glob\\nimport nltk\\nfrom sklearn.ensemble import GradientBoostingClassifier\\nimport statistics\\nfrom sklearn.model_selection import train_test_split\\nfrom sklearn.manifold import TSNE\\nfrom sklearn import svm\\nimport lightgbm as lgb'); }\n    "
     },
     "metadata": {}
    },
    {
     "output_type": "display_data",
     "data": {
      "text/plain": "<IPython.core.display.Javascript object>",
      "application/javascript": "\n        if (window._pyforest_update_imports_cell) { window._pyforest_update_imports_cell('from sklearn.ensemble import RandomForestClassifier\\nimport datetime as dt\\nfrom pathlib import Path\\nimport gensim\\nfrom sklearn.ensemble import GradientBoostingRegressor\\nfrom dask import dataframe as dd\\nimport plotly.express as px\\nimport tqdm\\nimport pickle\\nfrom openpyxl import load_workbook\\nfrom sklearn.preprocessing import OneHotEncoder\\nimport plotly.graph_objs as go\\nimport spacy\\nimport xgboost as xgb\\nimport plotly as py\\nimport sklearn\\nfrom sklearn.ensemble import RandomForestRegressor\\nimport matplotlib as mpl\\nimport bokeh\\nfrom sklearn.feature_extraction.text import TfidfVectorizer\\nimport seaborn as sns\\nimport glob\\nimport nltk\\nfrom sklearn.ensemble import GradientBoostingClassifier\\nimport statistics\\nfrom sklearn.model_selection import train_test_split\\nfrom sklearn.manifold import TSNE\\nfrom sklearn import svm\\nimport lightgbm as lgb'); }\n    "
     },
     "metadata": {}
    },
    {
     "output_type": "display_data",
     "data": {
      "text/plain": "<IPython.core.display.Javascript object>",
      "application/javascript": "\n        if (window._pyforest_update_imports_cell) { window._pyforest_update_imports_cell('from sklearn.ensemble import RandomForestClassifier\\nimport datetime as dt\\nfrom pathlib import Path\\nimport gensim\\nfrom sklearn.ensemble import GradientBoostingRegressor\\nfrom dask import dataframe as dd\\nimport plotly.express as px\\nimport tqdm\\nimport pickle\\nfrom openpyxl import load_workbook\\nfrom sklearn.preprocessing import OneHotEncoder\\nimport plotly.graph_objs as go\\nimport spacy\\nimport xgboost as xgb\\nimport plotly as py\\nimport sklearn\\nfrom sklearn.ensemble import RandomForestRegressor\\nimport matplotlib as mpl\\nimport bokeh\\nfrom sklearn.feature_extraction.text import TfidfVectorizer\\nimport seaborn as sns\\nimport glob\\nimport nltk\\nfrom sklearn.ensemble import GradientBoostingClassifier\\nimport statistics\\nfrom sklearn.model_selection import train_test_split\\nfrom sklearn.manifold import TSNE\\nfrom sklearn import svm\\nimport lightgbm as lgb'); }\n    "
     },
     "metadata": {}
    },
    {
     "output_type": "display_data",
     "data": {
      "text/plain": "<IPython.core.display.Javascript object>",
      "application/javascript": "\n        if (window._pyforest_update_imports_cell) { window._pyforest_update_imports_cell('from sklearn.ensemble import RandomForestClassifier\\nimport datetime as dt\\nfrom pathlib import Path\\nimport gensim\\nfrom sklearn.ensemble import GradientBoostingRegressor\\nfrom dask import dataframe as dd\\nimport plotly.express as px\\nimport tqdm\\nimport pickle\\nfrom openpyxl import load_workbook\\nfrom sklearn.preprocessing import OneHotEncoder\\nimport plotly.graph_objs as go\\nimport spacy\\nimport xgboost as xgb\\nimport plotly as py\\nimport sklearn\\nfrom sklearn.ensemble import RandomForestRegressor\\nimport matplotlib as mpl\\nimport bokeh\\nfrom sklearn.feature_extraction.text import TfidfVectorizer\\nimport seaborn as sns\\nimport glob\\nimport nltk\\nfrom sklearn.ensemble import GradientBoostingClassifier\\nimport statistics\\nfrom sklearn.model_selection import train_test_split\\nfrom sklearn.manifold import TSNE\\nfrom sklearn import svm\\nimport lightgbm as lgb'); }\n    "
     },
     "metadata": {}
    },
    {
     "output_type": "display_data",
     "data": {
      "text/plain": "<IPython.core.display.Javascript object>",
      "application/javascript": "\n        if (window._pyforest_update_imports_cell) { window._pyforest_update_imports_cell('from sklearn.ensemble import RandomForestClassifier\\nimport datetime as dt\\nfrom pathlib import Path\\nimport gensim\\nfrom sklearn.ensemble import GradientBoostingRegressor\\nfrom dask import dataframe as dd\\nimport plotly.express as px\\nimport tqdm\\nimport pickle\\nfrom openpyxl import load_workbook\\nfrom sklearn.preprocessing import OneHotEncoder\\nimport plotly.graph_objs as go\\nimport spacy\\nimport xgboost as xgb\\nimport plotly as py\\nimport sklearn\\nfrom sklearn.ensemble import RandomForestRegressor\\nimport matplotlib as mpl\\nimport bokeh\\nfrom sklearn.feature_extraction.text import TfidfVectorizer\\nimport seaborn as sns\\nimport glob\\nimport nltk\\nfrom sklearn.ensemble import GradientBoostingClassifier\\nimport statistics\\nfrom sklearn.model_selection import train_test_split\\nfrom sklearn.manifold import TSNE\\nfrom sklearn import svm\\nimport lightgbm as lgb'); }\n    "
     },
     "metadata": {}
    },
    {
     "output_type": "display_data",
     "data": {
      "text/plain": "<IPython.core.display.Javascript object>",
      "application/javascript": "\n        if (window._pyforest_update_imports_cell) { window._pyforest_update_imports_cell('from sklearn.ensemble import RandomForestClassifier\\nimport datetime as dt\\nfrom pathlib import Path\\nimport gensim\\nfrom sklearn.ensemble import GradientBoostingRegressor\\nfrom dask import dataframe as dd\\nimport plotly.express as px\\nimport tqdm\\nimport pickle\\nfrom openpyxl import load_workbook\\nfrom sklearn.preprocessing import OneHotEncoder\\nimport plotly.graph_objs as go\\nimport spacy\\nimport xgboost as xgb\\nimport plotly as py\\nimport sklearn\\nfrom sklearn.ensemble import RandomForestRegressor\\nimport matplotlib as mpl\\nimport bokeh\\nfrom sklearn.feature_extraction.text import TfidfVectorizer\\nimport seaborn as sns\\nimport glob\\nimport nltk\\nfrom sklearn.ensemble import GradientBoostingClassifier\\nimport statistics\\nfrom sklearn.model_selection import train_test_split\\nfrom sklearn.manifold import TSNE\\nfrom sklearn import svm\\nimport lightgbm as lgb'); }\n    "
     },
     "metadata": {}
    },
    {
     "output_type": "display_data",
     "data": {
      "text/plain": "<IPython.core.display.Javascript object>",
      "application/javascript": "\n        if (window._pyforest_update_imports_cell) { window._pyforest_update_imports_cell('from sklearn.ensemble import RandomForestClassifier\\nimport datetime as dt\\nfrom pathlib import Path\\nimport gensim\\nfrom sklearn.ensemble import GradientBoostingRegressor\\nfrom dask import dataframe as dd\\nimport plotly.express as px\\nimport tqdm\\nimport pickle\\nfrom openpyxl import load_workbook\\nfrom sklearn.preprocessing import OneHotEncoder\\nimport plotly.graph_objs as go\\nimport spacy\\nimport xgboost as xgb\\nimport plotly as py\\nimport sklearn\\nfrom sklearn.ensemble import RandomForestRegressor\\nimport matplotlib as mpl\\nimport bokeh\\nfrom sklearn.feature_extraction.text import TfidfVectorizer\\nimport seaborn as sns\\nimport glob\\nimport nltk\\nfrom sklearn.ensemble import GradientBoostingClassifier\\nimport statistics\\nfrom sklearn.model_selection import train_test_split\\nfrom sklearn.manifold import TSNE\\nfrom sklearn import svm\\nimport lightgbm as lgb'); }\n    "
     },
     "metadata": {}
    },
    {
     "output_type": "display_data",
     "data": {
      "text/plain": "<IPython.core.display.Javascript object>",
      "application/javascript": "\n        if (window._pyforest_update_imports_cell) { window._pyforest_update_imports_cell('from sklearn.ensemble import RandomForestClassifier\\nimport datetime as dt\\nfrom pathlib import Path\\nimport gensim\\nfrom sklearn.ensemble import GradientBoostingRegressor\\nfrom dask import dataframe as dd\\nimport plotly.express as px\\nimport tqdm\\nimport pickle\\nfrom openpyxl import load_workbook\\nfrom sklearn.preprocessing import OneHotEncoder\\nimport plotly.graph_objs as go\\nimport spacy\\nimport xgboost as xgb\\nimport plotly as py\\nimport sklearn\\nfrom sklearn.ensemble import RandomForestRegressor\\nimport matplotlib as mpl\\nimport bokeh\\nfrom sklearn.feature_extraction.text import TfidfVectorizer\\nimport seaborn as sns\\nimport glob\\nimport nltk\\nfrom sklearn.ensemble import GradientBoostingClassifier\\nimport statistics\\nfrom sklearn.model_selection import train_test_split\\nfrom sklearn.manifold import TSNE\\nfrom sklearn import svm\\nimport lightgbm as lgb'); }\n    "
     },
     "metadata": {}
    },
    {
     "output_type": "display_data",
     "data": {
      "text/plain": "<IPython.core.display.Javascript object>",
      "application/javascript": "\n        if (window._pyforest_update_imports_cell) { window._pyforest_update_imports_cell('from sklearn.ensemble import RandomForestClassifier\\nimport datetime as dt\\nfrom pathlib import Path\\nimport gensim\\nfrom sklearn.ensemble import GradientBoostingRegressor\\nfrom dask import dataframe as dd\\nimport plotly.express as px\\nimport tqdm\\nimport pickle\\nfrom openpyxl import load_workbook\\nfrom sklearn.preprocessing import OneHotEncoder\\nimport plotly.graph_objs as go\\nimport spacy\\nimport xgboost as xgb\\nimport plotly as py\\nimport sklearn\\nfrom sklearn.ensemble import RandomForestRegressor\\nimport matplotlib as mpl\\nimport bokeh\\nfrom sklearn.feature_extraction.text import TfidfVectorizer\\nimport seaborn as sns\\nimport glob\\nimport nltk\\nfrom sklearn.ensemble import GradientBoostingClassifier\\nimport statistics\\nfrom sklearn.model_selection import train_test_split\\nfrom sklearn.manifold import TSNE\\nfrom sklearn import svm\\nimport lightgbm as lgb'); }\n    "
     },
     "metadata": {}
    },
    {
     "output_type": "display_data",
     "data": {
      "text/plain": "<IPython.core.display.Javascript object>",
      "application/javascript": "\n        if (window._pyforest_update_imports_cell) { window._pyforest_update_imports_cell('from sklearn.ensemble import RandomForestClassifier\\nimport datetime as dt\\nfrom pathlib import Path\\nimport gensim\\nfrom sklearn.ensemble import GradientBoostingRegressor\\nfrom dask import dataframe as dd\\nimport plotly.express as px\\nimport tqdm\\nimport pickle\\nfrom openpyxl import load_workbook\\nfrom sklearn.preprocessing import OneHotEncoder\\nimport plotly.graph_objs as go\\nimport spacy\\nimport xgboost as xgb\\nimport plotly as py\\nimport sklearn\\nfrom sklearn.ensemble import RandomForestRegressor\\nimport matplotlib as mpl\\nimport bokeh\\nfrom sklearn.feature_extraction.text import TfidfVectorizer\\nimport seaborn as sns\\nimport glob\\nimport nltk\\nfrom sklearn.ensemble import GradientBoostingClassifier\\nimport statistics\\nfrom sklearn.model_selection import train_test_split\\nfrom sklearn.manifold import TSNE\\nfrom sklearn import svm\\nimport lightgbm as lgb'); }\n    "
     },
     "metadata": {}
    },
    {
     "output_type": "display_data",
     "data": {
      "text/plain": "<IPython.core.display.Javascript object>",
      "application/javascript": "\n        if (window._pyforest_update_imports_cell) { window._pyforest_update_imports_cell('from sklearn.ensemble import RandomForestClassifier\\nimport datetime as dt\\nfrom pathlib import Path\\nimport gensim\\nfrom sklearn.ensemble import GradientBoostingRegressor\\nfrom dask import dataframe as dd\\nimport plotly.express as px\\nimport tqdm\\nimport pickle\\nfrom openpyxl import load_workbook\\nfrom sklearn.preprocessing import OneHotEncoder\\nimport plotly.graph_objs as go\\nimport spacy\\nimport xgboost as xgb\\nimport plotly as py\\nimport sklearn\\nfrom sklearn.ensemble import RandomForestRegressor\\nimport matplotlib as mpl\\nimport bokeh\\nfrom sklearn.feature_extraction.text import TfidfVectorizer\\nimport seaborn as sns\\nimport glob\\nimport nltk\\nfrom sklearn.ensemble import GradientBoostingClassifier\\nimport statistics\\nfrom sklearn.model_selection import train_test_split\\nfrom sklearn.manifold import TSNE\\nfrom sklearn import svm\\nimport lightgbm as lgb'); }\n    "
     },
     "metadata": {}
    },
    {
     "output_type": "display_data",
     "data": {
      "text/plain": "<IPython.core.display.Javascript object>",
      "application/javascript": "\n        if (window._pyforest_update_imports_cell) { window._pyforest_update_imports_cell('from sklearn.ensemble import RandomForestClassifier\\nimport datetime as dt\\nfrom pathlib import Path\\nimport gensim\\nfrom sklearn.ensemble import GradientBoostingRegressor\\nfrom dask import dataframe as dd\\nimport plotly.express as px\\nimport tqdm\\nimport pickle\\nfrom openpyxl import load_workbook\\nfrom sklearn.preprocessing import OneHotEncoder\\nimport plotly.graph_objs as go\\nimport spacy\\nimport xgboost as xgb\\nimport plotly as py\\nimport sklearn\\nfrom sklearn.ensemble import RandomForestRegressor\\nimport matplotlib as mpl\\nimport bokeh\\nfrom sklearn.feature_extraction.text import TfidfVectorizer\\nimport seaborn as sns\\nimport glob\\nimport nltk\\nfrom sklearn.ensemble import GradientBoostingClassifier\\nimport statistics\\nfrom sklearn.model_selection import train_test_split\\nfrom sklearn.manifold import TSNE\\nfrom sklearn import svm\\nimport lightgbm as lgb'); }\n    "
     },
     "metadata": {}
    },
    {
     "output_type": "display_data",
     "data": {
      "text/plain": "<IPython.core.display.Javascript object>",
      "application/javascript": "\n        if (window._pyforest_update_imports_cell) { window._pyforest_update_imports_cell('from sklearn.ensemble import RandomForestClassifier\\nimport datetime as dt\\nfrom pathlib import Path\\nimport gensim\\nfrom sklearn.ensemble import GradientBoostingRegressor\\nfrom dask import dataframe as dd\\nimport plotly.express as px\\nimport tqdm\\nimport pickle\\nfrom openpyxl import load_workbook\\nfrom sklearn.preprocessing import OneHotEncoder\\nimport plotly.graph_objs as go\\nimport spacy\\nimport xgboost as xgb\\nimport plotly as py\\nimport sklearn\\nfrom sklearn.ensemble import RandomForestRegressor\\nimport matplotlib as mpl\\nimport bokeh\\nfrom sklearn.feature_extraction.text import TfidfVectorizer\\nimport seaborn as sns\\nimport glob\\nimport nltk\\nfrom sklearn.ensemble import GradientBoostingClassifier\\nimport statistics\\nfrom sklearn.model_selection import train_test_split\\nfrom sklearn.manifold import TSNE\\nfrom sklearn import svm\\nimport lightgbm as lgb'); }\n    "
     },
     "metadata": {}
    },
    {
     "output_type": "display_data",
     "data": {
      "text/plain": "<IPython.core.display.Javascript object>",
      "application/javascript": "\n        if (window._pyforest_update_imports_cell) { window._pyforest_update_imports_cell('from sklearn.ensemble import RandomForestClassifier\\nimport datetime as dt\\nfrom pathlib import Path\\nimport gensim\\nfrom sklearn.ensemble import GradientBoostingRegressor\\nfrom dask import dataframe as dd\\nimport plotly.express as px\\nimport tqdm\\nimport pickle\\nfrom openpyxl import load_workbook\\nfrom sklearn.preprocessing import OneHotEncoder\\nimport plotly.graph_objs as go\\nimport spacy\\nimport xgboost as xgb\\nimport plotly as py\\nimport sklearn\\nfrom sklearn.ensemble import RandomForestRegressor\\nimport matplotlib as mpl\\nimport bokeh\\nfrom sklearn.feature_extraction.text import TfidfVectorizer\\nimport seaborn as sns\\nimport glob\\nimport nltk\\nfrom sklearn.ensemble import GradientBoostingClassifier\\nimport statistics\\nfrom sklearn.model_selection import train_test_split\\nfrom sklearn.manifold import TSNE\\nfrom sklearn import svm\\nimport lightgbm as lgb'); }\n    "
     },
     "metadata": {}
    },
    {
     "output_type": "display_data",
     "data": {
      "text/plain": "<IPython.core.display.Javascript object>",
      "application/javascript": "\n        if (window._pyforest_update_imports_cell) { window._pyforest_update_imports_cell('from sklearn.ensemble import RandomForestClassifier\\nimport datetime as dt\\nfrom pathlib import Path\\nimport gensim\\nfrom sklearn.ensemble import GradientBoostingRegressor\\nfrom dask import dataframe as dd\\nimport plotly.express as px\\nimport tqdm\\nimport pickle\\nfrom openpyxl import load_workbook\\nfrom sklearn.preprocessing import OneHotEncoder\\nimport plotly.graph_objs as go\\nimport spacy\\nimport xgboost as xgb\\nimport plotly as py\\nimport sklearn\\nfrom sklearn.ensemble import RandomForestRegressor\\nimport matplotlib as mpl\\nimport bokeh\\nfrom sklearn.feature_extraction.text import TfidfVectorizer\\nimport seaborn as sns\\nimport glob\\nimport nltk\\nfrom sklearn.ensemble import GradientBoostingClassifier\\nimport statistics\\nfrom sklearn.model_selection import train_test_split\\nfrom sklearn.manifold import TSNE\\nfrom sklearn import svm\\nimport lightgbm as lgb'); }\n    "
     },
     "metadata": {}
    },
    {
     "output_type": "display_data",
     "data": {
      "text/plain": "<IPython.core.display.Javascript object>",
      "application/javascript": "\n        if (window._pyforest_update_imports_cell) { window._pyforest_update_imports_cell('from sklearn.ensemble import RandomForestClassifier\\nimport datetime as dt\\nfrom pathlib import Path\\nimport gensim\\nfrom sklearn.ensemble import GradientBoostingRegressor\\nfrom dask import dataframe as dd\\nimport plotly.express as px\\nimport tqdm\\nimport pickle\\nfrom openpyxl import load_workbook\\nfrom sklearn.preprocessing import OneHotEncoder\\nimport plotly.graph_objs as go\\nimport spacy\\nimport xgboost as xgb\\nimport plotly as py\\nimport sklearn\\nfrom sklearn.ensemble import RandomForestRegressor\\nimport matplotlib as mpl\\nimport bokeh\\nfrom sklearn.feature_extraction.text import TfidfVectorizer\\nimport seaborn as sns\\nimport glob\\nimport nltk\\nfrom sklearn.ensemble import GradientBoostingClassifier\\nimport statistics\\nfrom sklearn.model_selection import train_test_split\\nfrom sklearn.manifold import TSNE\\nfrom sklearn import svm\\nimport lightgbm as lgb'); }\n    "
     },
     "metadata": {}
    },
    {
     "output_type": "display_data",
     "data": {
      "text/plain": "<IPython.core.display.Javascript object>",
      "application/javascript": "\n        if (window._pyforest_update_imports_cell) { window._pyforest_update_imports_cell('from sklearn.ensemble import RandomForestClassifier\\nimport datetime as dt\\nfrom pathlib import Path\\nimport gensim\\nfrom sklearn.ensemble import GradientBoostingRegressor\\nfrom dask import dataframe as dd\\nimport plotly.express as px\\nimport tqdm\\nimport pickle\\nfrom openpyxl import load_workbook\\nfrom sklearn.preprocessing import OneHotEncoder\\nimport plotly.graph_objs as go\\nimport spacy\\nimport xgboost as xgb\\nimport plotly as py\\nimport sklearn\\nfrom sklearn.ensemble import RandomForestRegressor\\nimport matplotlib as mpl\\nimport bokeh\\nfrom sklearn.feature_extraction.text import TfidfVectorizer\\nimport seaborn as sns\\nimport glob\\nimport nltk\\nfrom sklearn.ensemble import GradientBoostingClassifier\\nimport statistics\\nfrom sklearn.model_selection import train_test_split\\nfrom sklearn.manifold import TSNE\\nfrom sklearn import svm\\nimport lightgbm as lgb'); }\n    "
     },
     "metadata": {}
    },
    {
     "output_type": "display_data",
     "data": {
      "text/plain": "<IPython.core.display.Javascript object>",
      "application/javascript": "\n        if (window._pyforest_update_imports_cell) { window._pyforest_update_imports_cell('from sklearn.ensemble import RandomForestClassifier\\nimport datetime as dt\\nfrom pathlib import Path\\nimport gensim\\nfrom sklearn.ensemble import GradientBoostingRegressor\\nfrom dask import dataframe as dd\\nimport plotly.express as px\\nimport tqdm\\nimport pickle\\nfrom openpyxl import load_workbook\\nfrom sklearn.preprocessing import OneHotEncoder\\nimport plotly.graph_objs as go\\nimport spacy\\nimport xgboost as xgb\\nimport plotly as py\\nimport sklearn\\nfrom sklearn.ensemble import RandomForestRegressor\\nimport matplotlib as mpl\\nimport bokeh\\nfrom sklearn.feature_extraction.text import TfidfVectorizer\\nimport seaborn as sns\\nimport glob\\nimport nltk\\nfrom sklearn.ensemble import GradientBoostingClassifier\\nimport statistics\\nfrom sklearn.model_selection import train_test_split\\nfrom sklearn.manifold import TSNE\\nfrom sklearn import svm\\nimport lightgbm as lgb'); }\n    "
     },
     "metadata": {}
    },
    {
     "output_type": "display_data",
     "data": {
      "text/plain": "<IPython.core.display.Javascript object>",
      "application/javascript": "\n        if (window._pyforest_update_imports_cell) { window._pyforest_update_imports_cell('from sklearn.ensemble import RandomForestClassifier\\nimport datetime as dt\\nfrom pathlib import Path\\nimport gensim\\nfrom sklearn.ensemble import GradientBoostingRegressor\\nfrom dask import dataframe as dd\\nimport plotly.express as px\\nimport tqdm\\nimport pickle\\nfrom openpyxl import load_workbook\\nfrom sklearn.preprocessing import OneHotEncoder\\nimport plotly.graph_objs as go\\nimport spacy\\nimport xgboost as xgb\\nimport plotly as py\\nimport sklearn\\nfrom sklearn.ensemble import RandomForestRegressor\\nimport matplotlib as mpl\\nimport bokeh\\nfrom sklearn.feature_extraction.text import TfidfVectorizer\\nimport seaborn as sns\\nimport glob\\nimport nltk\\nfrom sklearn.ensemble import GradientBoostingClassifier\\nimport statistics\\nfrom sklearn.model_selection import train_test_split\\nfrom sklearn.manifold import TSNE\\nfrom sklearn import svm\\nimport lightgbm as lgb'); }\n    "
     },
     "metadata": {}
    },
    {
     "output_type": "display_data",
     "data": {
      "text/plain": "<IPython.core.display.Javascript object>",
      "application/javascript": "\n        if (window._pyforest_update_imports_cell) { window._pyforest_update_imports_cell('from sklearn.ensemble import RandomForestClassifier\\nimport datetime as dt\\nfrom pathlib import Path\\nimport gensim\\nfrom sklearn.ensemble import GradientBoostingRegressor\\nfrom dask import dataframe as dd\\nimport plotly.express as px\\nimport tqdm\\nimport pickle\\nfrom openpyxl import load_workbook\\nfrom sklearn.preprocessing import OneHotEncoder\\nimport plotly.graph_objs as go\\nimport spacy\\nimport xgboost as xgb\\nimport plotly as py\\nimport sklearn\\nfrom sklearn.ensemble import RandomForestRegressor\\nimport matplotlib as mpl\\nimport bokeh\\nfrom sklearn.feature_extraction.text import TfidfVectorizer\\nimport seaborn as sns\\nimport glob\\nimport nltk\\nfrom sklearn.ensemble import GradientBoostingClassifier\\nimport statistics\\nfrom sklearn.model_selection import train_test_split\\nfrom sklearn.manifold import TSNE\\nfrom sklearn import svm\\nimport lightgbm as lgb'); }\n    "
     },
     "metadata": {}
    },
    {
     "output_type": "display_data",
     "data": {
      "text/plain": "<IPython.core.display.Javascript object>",
      "application/javascript": "\n        if (window._pyforest_update_imports_cell) { window._pyforest_update_imports_cell('from sklearn.ensemble import RandomForestClassifier\\nimport datetime as dt\\nfrom pathlib import Path\\nimport gensim\\nfrom sklearn.ensemble import GradientBoostingRegressor\\nfrom dask import dataframe as dd\\nimport plotly.express as px\\nimport tqdm\\nimport pickle\\nfrom openpyxl import load_workbook\\nfrom sklearn.preprocessing import OneHotEncoder\\nimport plotly.graph_objs as go\\nimport spacy\\nimport xgboost as xgb\\nimport plotly as py\\nimport sklearn\\nfrom sklearn.ensemble import RandomForestRegressor\\nimport matplotlib as mpl\\nimport bokeh\\nfrom sklearn.feature_extraction.text import TfidfVectorizer\\nimport seaborn as sns\\nimport glob\\nimport nltk\\nfrom sklearn.ensemble import GradientBoostingClassifier\\nimport statistics\\nfrom sklearn.model_selection import train_test_split\\nfrom sklearn.manifold import TSNE\\nfrom sklearn import svm\\nimport lightgbm as lgb'); }\n    "
     },
     "metadata": {}
    },
    {
     "output_type": "display_data",
     "data": {
      "text/plain": "<IPython.core.display.Javascript object>",
      "application/javascript": "\n        if (window._pyforest_update_imports_cell) { window._pyforest_update_imports_cell('from sklearn.ensemble import RandomForestClassifier\\nimport datetime as dt\\nfrom pathlib import Path\\nimport gensim\\nfrom sklearn.ensemble import GradientBoostingRegressor\\nfrom dask import dataframe as dd\\nimport plotly.express as px\\nimport tqdm\\nimport pickle\\nfrom openpyxl import load_workbook\\nfrom sklearn.preprocessing import OneHotEncoder\\nimport plotly.graph_objs as go\\nimport spacy\\nimport xgboost as xgb\\nimport plotly as py\\nimport sklearn\\nfrom sklearn.ensemble import RandomForestRegressor\\nimport matplotlib as mpl\\nimport bokeh\\nfrom sklearn.feature_extraction.text import TfidfVectorizer\\nimport seaborn as sns\\nimport glob\\nimport nltk\\nfrom sklearn.ensemble import GradientBoostingClassifier\\nimport statistics\\nfrom sklearn.model_selection import train_test_split\\nfrom sklearn.manifold import TSNE\\nfrom sklearn import svm\\nimport lightgbm as lgb'); }\n    "
     },
     "metadata": {}
    },
    {
     "output_type": "display_data",
     "data": {
      "text/plain": "<IPython.core.display.Javascript object>",
      "application/javascript": "\n        if (window._pyforest_update_imports_cell) { window._pyforest_update_imports_cell('from sklearn.ensemble import RandomForestClassifier\\nimport datetime as dt\\nfrom pathlib import Path\\nimport gensim\\nfrom sklearn.ensemble import GradientBoostingRegressor\\nfrom dask import dataframe as dd\\nimport plotly.express as px\\nimport tqdm\\nimport pickle\\nfrom openpyxl import load_workbook\\nfrom sklearn.preprocessing import OneHotEncoder\\nimport plotly.graph_objs as go\\nimport spacy\\nimport xgboost as xgb\\nimport plotly as py\\nimport sklearn\\nfrom sklearn.ensemble import RandomForestRegressor\\nimport matplotlib as mpl\\nimport bokeh\\nfrom sklearn.feature_extraction.text import TfidfVectorizer\\nimport seaborn as sns\\nimport glob\\nimport nltk\\nfrom sklearn.ensemble import GradientBoostingClassifier\\nimport statistics\\nfrom sklearn.model_selection import train_test_split\\nfrom sklearn.manifold import TSNE\\nfrom sklearn import svm\\nimport lightgbm as lgb'); }\n    "
     },
     "metadata": {}
    },
    {
     "output_type": "display_data",
     "data": {
      "text/plain": "<IPython.core.display.Javascript object>",
      "application/javascript": "\n        if (window._pyforest_update_imports_cell) { window._pyforest_update_imports_cell('from sklearn.ensemble import RandomForestClassifier\\nimport datetime as dt\\nfrom pathlib import Path\\nimport gensim\\nfrom sklearn.ensemble import GradientBoostingRegressor\\nfrom dask import dataframe as dd\\nimport plotly.express as px\\nimport tqdm\\nimport pickle\\nfrom openpyxl import load_workbook\\nfrom sklearn.preprocessing import OneHotEncoder\\nimport plotly.graph_objs as go\\nimport spacy\\nimport xgboost as xgb\\nimport plotly as py\\nimport sklearn\\nfrom sklearn.ensemble import RandomForestRegressor\\nimport matplotlib as mpl\\nimport bokeh\\nfrom sklearn.feature_extraction.text import TfidfVectorizer\\nimport seaborn as sns\\nimport glob\\nimport nltk\\nfrom sklearn.ensemble import GradientBoostingClassifier\\nimport statistics\\nfrom sklearn.model_selection import train_test_split\\nfrom sklearn.manifold import TSNE\\nfrom sklearn import svm\\nimport lightgbm as lgb'); }\n    "
     },
     "metadata": {}
    },
    {
     "output_type": "display_data",
     "data": {
      "text/plain": "<IPython.core.display.Javascript object>",
      "application/javascript": "\n        if (window._pyforest_update_imports_cell) { window._pyforest_update_imports_cell('from sklearn.ensemble import RandomForestClassifier\\nimport datetime as dt\\nfrom pathlib import Path\\nimport gensim\\nfrom sklearn.ensemble import GradientBoostingRegressor\\nfrom dask import dataframe as dd\\nimport plotly.express as px\\nimport tqdm\\nimport pickle\\nfrom openpyxl import load_workbook\\nfrom sklearn.preprocessing import OneHotEncoder\\nimport plotly.graph_objs as go\\nimport spacy\\nimport xgboost as xgb\\nimport plotly as py\\nimport sklearn\\nfrom sklearn.ensemble import RandomForestRegressor\\nimport matplotlib as mpl\\nimport bokeh\\nfrom sklearn.feature_extraction.text import TfidfVectorizer\\nimport seaborn as sns\\nimport glob\\nimport nltk\\nfrom sklearn.ensemble import GradientBoostingClassifier\\nimport statistics\\nfrom sklearn.model_selection import train_test_split\\nfrom sklearn.manifold import TSNE\\nfrom sklearn import svm\\nimport lightgbm as lgb'); }\n    "
     },
     "metadata": {}
    },
    {
     "output_type": "display_data",
     "data": {
      "text/plain": "<IPython.core.display.Javascript object>",
      "application/javascript": "\n        if (window._pyforest_update_imports_cell) { window._pyforest_update_imports_cell('from sklearn.ensemble import RandomForestClassifier\\nimport datetime as dt\\nfrom pathlib import Path\\nimport gensim\\nfrom sklearn.ensemble import GradientBoostingRegressor\\nfrom dask import dataframe as dd\\nimport plotly.express as px\\nimport tqdm\\nimport pickle\\nfrom openpyxl import load_workbook\\nfrom sklearn.preprocessing import OneHotEncoder\\nimport plotly.graph_objs as go\\nimport spacy\\nimport xgboost as xgb\\nimport plotly as py\\nimport sklearn\\nfrom sklearn.ensemble import RandomForestRegressor\\nimport matplotlib as mpl\\nimport bokeh\\nfrom sklearn.feature_extraction.text import TfidfVectorizer\\nimport seaborn as sns\\nimport glob\\nimport nltk\\nfrom sklearn.ensemble import GradientBoostingClassifier\\nimport statistics\\nfrom sklearn.model_selection import train_test_split\\nfrom sklearn.manifold import TSNE\\nfrom sklearn import svm\\nimport lightgbm as lgb'); }\n    "
     },
     "metadata": {}
    },
    {
     "output_type": "display_data",
     "data": {
      "text/plain": "<IPython.core.display.Javascript object>",
      "application/javascript": "\n        if (window._pyforest_update_imports_cell) { window._pyforest_update_imports_cell('from sklearn.ensemble import RandomForestClassifier\\nimport datetime as dt\\nfrom pathlib import Path\\nimport gensim\\nfrom sklearn.ensemble import GradientBoostingRegressor\\nfrom dask import dataframe as dd\\nimport plotly.express as px\\nimport tqdm\\nimport pickle\\nfrom openpyxl import load_workbook\\nfrom sklearn.preprocessing import OneHotEncoder\\nimport plotly.graph_objs as go\\nimport spacy\\nimport xgboost as xgb\\nimport plotly as py\\nimport sklearn\\nfrom sklearn.ensemble import RandomForestRegressor\\nimport matplotlib as mpl\\nimport bokeh\\nfrom sklearn.feature_extraction.text import TfidfVectorizer\\nimport seaborn as sns\\nimport glob\\nimport nltk\\nfrom sklearn.ensemble import GradientBoostingClassifier\\nimport statistics\\nfrom sklearn.model_selection import train_test_split\\nfrom sklearn.manifold import TSNE\\nfrom sklearn import svm\\nimport lightgbm as lgb'); }\n    "
     },
     "metadata": {}
    },
    {
     "output_type": "display_data",
     "data": {
      "text/plain": "<IPython.core.display.Javascript object>",
      "application/javascript": "\n        if (window._pyforest_update_imports_cell) { window._pyforest_update_imports_cell('from sklearn.ensemble import RandomForestClassifier\\nimport datetime as dt\\nfrom pathlib import Path\\nimport gensim\\nfrom sklearn.ensemble import GradientBoostingRegressor\\nfrom dask import dataframe as dd\\nimport plotly.express as px\\nimport tqdm\\nimport pickle\\nfrom openpyxl import load_workbook\\nfrom sklearn.preprocessing import OneHotEncoder\\nimport plotly.graph_objs as go\\nimport spacy\\nimport xgboost as xgb\\nimport plotly as py\\nimport sklearn\\nfrom sklearn.ensemble import RandomForestRegressor\\nimport matplotlib as mpl\\nimport bokeh\\nfrom sklearn.feature_extraction.text import TfidfVectorizer\\nimport seaborn as sns\\nimport glob\\nimport nltk\\nfrom sklearn.ensemble import GradientBoostingClassifier\\nimport statistics\\nfrom sklearn.model_selection import train_test_split\\nfrom sklearn.manifold import TSNE\\nfrom sklearn import svm\\nimport lightgbm as lgb'); }\n    "
     },
     "metadata": {}
    },
    {
     "output_type": "display_data",
     "data": {
      "text/plain": "<IPython.core.display.Javascript object>",
      "application/javascript": "\n        if (window._pyforest_update_imports_cell) { window._pyforest_update_imports_cell('from sklearn.ensemble import RandomForestClassifier\\nimport datetime as dt\\nfrom pathlib import Path\\nimport gensim\\nfrom sklearn.ensemble import GradientBoostingRegressor\\nfrom dask import dataframe as dd\\nimport plotly.express as px\\nimport tqdm\\nimport pickle\\nfrom openpyxl import load_workbook\\nfrom sklearn.preprocessing import OneHotEncoder\\nimport plotly.graph_objs as go\\nimport spacy\\nimport xgboost as xgb\\nimport plotly as py\\nimport sklearn\\nfrom sklearn.ensemble import RandomForestRegressor\\nimport matplotlib as mpl\\nimport bokeh\\nfrom sklearn.feature_extraction.text import TfidfVectorizer\\nimport seaborn as sns\\nimport glob\\nimport nltk\\nfrom sklearn.ensemble import GradientBoostingClassifier\\nimport statistics\\nfrom sklearn.model_selection import train_test_split\\nfrom sklearn.manifold import TSNE\\nfrom sklearn import svm\\nimport lightgbm as lgb'); }\n    "
     },
     "metadata": {}
    },
    {
     "output_type": "display_data",
     "data": {
      "text/plain": "<IPython.core.display.Javascript object>",
      "application/javascript": "\n        if (window._pyforest_update_imports_cell) { window._pyforest_update_imports_cell('from sklearn.ensemble import RandomForestClassifier\\nimport datetime as dt\\nfrom pathlib import Path\\nimport gensim\\nfrom sklearn.ensemble import GradientBoostingRegressor\\nfrom dask import dataframe as dd\\nimport plotly.express as px\\nimport tqdm\\nimport pickle\\nfrom openpyxl import load_workbook\\nfrom sklearn.preprocessing import OneHotEncoder\\nimport plotly.graph_objs as go\\nimport spacy\\nimport xgboost as xgb\\nimport plotly as py\\nimport sklearn\\nfrom sklearn.ensemble import RandomForestRegressor\\nimport matplotlib as mpl\\nimport bokeh\\nfrom sklearn.feature_extraction.text import TfidfVectorizer\\nimport seaborn as sns\\nimport glob\\nimport nltk\\nfrom sklearn.ensemble import GradientBoostingClassifier\\nimport statistics\\nfrom sklearn.model_selection import train_test_split\\nfrom sklearn.manifold import TSNE\\nfrom sklearn import svm\\nimport lightgbm as lgb'); }\n    "
     },
     "metadata": {}
    },
    {
     "output_type": "display_data",
     "data": {
      "text/plain": "<IPython.core.display.Javascript object>",
      "application/javascript": "\n        if (window._pyforest_update_imports_cell) { window._pyforest_update_imports_cell('from sklearn.ensemble import RandomForestClassifier\\nimport datetime as dt\\nfrom pathlib import Path\\nimport gensim\\nfrom sklearn.ensemble import GradientBoostingRegressor\\nfrom dask import dataframe as dd\\nimport plotly.express as px\\nimport tqdm\\nimport pickle\\nfrom openpyxl import load_workbook\\nfrom sklearn.preprocessing import OneHotEncoder\\nimport plotly.graph_objs as go\\nimport spacy\\nimport xgboost as xgb\\nimport plotly as py\\nimport sklearn\\nfrom sklearn.ensemble import RandomForestRegressor\\nimport matplotlib as mpl\\nimport bokeh\\nfrom sklearn.feature_extraction.text import TfidfVectorizer\\nimport seaborn as sns\\nimport glob\\nimport nltk\\nfrom sklearn.ensemble import GradientBoostingClassifier\\nimport statistics\\nfrom sklearn.model_selection import train_test_split\\nfrom sklearn.manifold import TSNE\\nfrom sklearn import svm\\nimport lightgbm as lgb'); }\n    "
     },
     "metadata": {}
    },
    {
     "output_type": "display_data",
     "data": {
      "text/plain": "<IPython.core.display.Javascript object>",
      "application/javascript": "\n        if (window._pyforest_update_imports_cell) { window._pyforest_update_imports_cell('from sklearn.ensemble import RandomForestClassifier\\nimport datetime as dt\\nfrom pathlib import Path\\nimport gensim\\nfrom sklearn.ensemble import GradientBoostingRegressor\\nfrom dask import dataframe as dd\\nimport plotly.express as px\\nimport tqdm\\nimport pickle\\nfrom openpyxl import load_workbook\\nfrom sklearn.preprocessing import OneHotEncoder\\nimport plotly.graph_objs as go\\nimport spacy\\nimport xgboost as xgb\\nimport plotly as py\\nimport sklearn\\nfrom sklearn.ensemble import RandomForestRegressor\\nimport matplotlib as mpl\\nimport bokeh\\nfrom sklearn.feature_extraction.text import TfidfVectorizer\\nimport seaborn as sns\\nimport glob\\nimport nltk\\nfrom sklearn.ensemble import GradientBoostingClassifier\\nimport statistics\\nfrom sklearn.model_selection import train_test_split\\nfrom sklearn.manifold import TSNE\\nfrom sklearn import svm\\nimport lightgbm as lgb'); }\n    "
     },
     "metadata": {}
    },
    {
     "output_type": "display_data",
     "data": {
      "text/plain": "<IPython.core.display.Javascript object>",
      "application/javascript": "\n        if (window._pyforest_update_imports_cell) { window._pyforest_update_imports_cell('from sklearn.ensemble import RandomForestClassifier\\nimport datetime as dt\\nfrom pathlib import Path\\nimport gensim\\nfrom sklearn.ensemble import GradientBoostingRegressor\\nfrom dask import dataframe as dd\\nimport plotly.express as px\\nimport tqdm\\nimport pickle\\nfrom openpyxl import load_workbook\\nfrom sklearn.preprocessing import OneHotEncoder\\nimport plotly.graph_objs as go\\nimport spacy\\nimport xgboost as xgb\\nimport plotly as py\\nimport sklearn\\nfrom sklearn.ensemble import RandomForestRegressor\\nimport matplotlib as mpl\\nimport bokeh\\nfrom sklearn.feature_extraction.text import TfidfVectorizer\\nimport seaborn as sns\\nimport glob\\nimport nltk\\nfrom sklearn.ensemble import GradientBoostingClassifier\\nimport statistics\\nfrom sklearn.model_selection import train_test_split\\nfrom sklearn.manifold import TSNE\\nfrom sklearn import svm\\nimport lightgbm as lgb'); }\n    "
     },
     "metadata": {}
    },
    {
     "output_type": "display_data",
     "data": {
      "text/plain": "<IPython.core.display.Javascript object>",
      "application/javascript": "\n        if (window._pyforest_update_imports_cell) { window._pyforest_update_imports_cell('from sklearn.ensemble import RandomForestClassifier\\nimport datetime as dt\\nfrom pathlib import Path\\nimport gensim\\nfrom sklearn.ensemble import GradientBoostingRegressor\\nfrom dask import dataframe as dd\\nimport plotly.express as px\\nimport tqdm\\nimport pickle\\nfrom openpyxl import load_workbook\\nfrom sklearn.preprocessing import OneHotEncoder\\nimport plotly.graph_objs as go\\nimport spacy\\nimport xgboost as xgb\\nimport plotly as py\\nimport sklearn\\nfrom sklearn.ensemble import RandomForestRegressor\\nimport matplotlib as mpl\\nimport bokeh\\nfrom sklearn.feature_extraction.text import TfidfVectorizer\\nimport seaborn as sns\\nimport glob\\nimport nltk\\nfrom sklearn.ensemble import GradientBoostingClassifier\\nimport statistics\\nfrom sklearn.model_selection import train_test_split\\nfrom sklearn.manifold import TSNE\\nfrom sklearn import svm\\nimport lightgbm as lgb'); }\n    "
     },
     "metadata": {}
    },
    {
     "output_type": "display_data",
     "data": {
      "text/plain": "<IPython.core.display.Javascript object>",
      "application/javascript": "\n        if (window._pyforest_update_imports_cell) { window._pyforest_update_imports_cell('from sklearn.ensemble import RandomForestClassifier\\nimport datetime as dt\\nfrom pathlib import Path\\nimport gensim\\nfrom sklearn.ensemble import GradientBoostingRegressor\\nfrom dask import dataframe as dd\\nimport plotly.express as px\\nimport tqdm\\nimport pickle\\nfrom openpyxl import load_workbook\\nfrom sklearn.preprocessing import OneHotEncoder\\nimport plotly.graph_objs as go\\nimport spacy\\nimport xgboost as xgb\\nimport plotly as py\\nimport sklearn\\nfrom sklearn.ensemble import RandomForestRegressor\\nimport matplotlib as mpl\\nimport bokeh\\nfrom sklearn.feature_extraction.text import TfidfVectorizer\\nimport seaborn as sns\\nimport glob\\nimport nltk\\nfrom sklearn.ensemble import GradientBoostingClassifier\\nimport statistics\\nfrom sklearn.model_selection import train_test_split\\nfrom sklearn.manifold import TSNE\\nfrom sklearn import svm\\nimport lightgbm as lgb'); }\n    "
     },
     "metadata": {}
    },
    {
     "output_type": "display_data",
     "data": {
      "text/plain": "<IPython.core.display.Javascript object>",
      "application/javascript": "\n        if (window._pyforest_update_imports_cell) { window._pyforest_update_imports_cell('from sklearn.ensemble import RandomForestClassifier\\nimport datetime as dt\\nfrom pathlib import Path\\nimport gensim\\nfrom sklearn.ensemble import GradientBoostingRegressor\\nfrom dask import dataframe as dd\\nimport plotly.express as px\\nimport tqdm\\nimport pickle\\nfrom openpyxl import load_workbook\\nfrom sklearn.preprocessing import OneHotEncoder\\nimport plotly.graph_objs as go\\nimport spacy\\nimport xgboost as xgb\\nimport plotly as py\\nimport sklearn\\nfrom sklearn.ensemble import RandomForestRegressor\\nimport matplotlib as mpl\\nimport bokeh\\nfrom sklearn.feature_extraction.text import TfidfVectorizer\\nimport seaborn as sns\\nimport glob\\nimport nltk\\nfrom sklearn.ensemble import GradientBoostingClassifier\\nimport statistics\\nfrom sklearn.model_selection import train_test_split\\nfrom sklearn.manifold import TSNE\\nfrom sklearn import svm\\nimport lightgbm as lgb'); }\n    "
     },
     "metadata": {}
    },
    {
     "output_type": "display_data",
     "data": {
      "text/plain": "<IPython.core.display.Javascript object>",
      "application/javascript": "\n        if (window._pyforest_update_imports_cell) { window._pyforest_update_imports_cell('from sklearn.ensemble import RandomForestClassifier\\nimport datetime as dt\\nfrom pathlib import Path\\nimport gensim\\nfrom sklearn.ensemble import GradientBoostingRegressor\\nfrom dask import dataframe as dd\\nimport plotly.express as px\\nimport tqdm\\nimport pickle\\nfrom openpyxl import load_workbook\\nfrom sklearn.preprocessing import OneHotEncoder\\nimport plotly.graph_objs as go\\nimport spacy\\nimport xgboost as xgb\\nimport plotly as py\\nimport sklearn\\nfrom sklearn.ensemble import RandomForestRegressor\\nimport matplotlib as mpl\\nimport bokeh\\nfrom sklearn.feature_extraction.text import TfidfVectorizer\\nimport seaborn as sns\\nimport glob\\nimport nltk\\nfrom sklearn.ensemble import GradientBoostingClassifier\\nimport statistics\\nfrom sklearn.model_selection import train_test_split\\nfrom sklearn.manifold import TSNE\\nfrom sklearn import svm\\nimport lightgbm as lgb'); }\n    "
     },
     "metadata": {}
    },
    {
     "output_type": "display_data",
     "data": {
      "text/plain": "<IPython.core.display.Javascript object>",
      "application/javascript": "\n        if (window._pyforest_update_imports_cell) { window._pyforest_update_imports_cell('from sklearn.ensemble import RandomForestClassifier\\nimport datetime as dt\\nfrom pathlib import Path\\nimport gensim\\nfrom sklearn.ensemble import GradientBoostingRegressor\\nfrom dask import dataframe as dd\\nimport plotly.express as px\\nimport tqdm\\nimport pickle\\nfrom openpyxl import load_workbook\\nfrom sklearn.preprocessing import OneHotEncoder\\nimport plotly.graph_objs as go\\nimport spacy\\nimport xgboost as xgb\\nimport plotly as py\\nimport sklearn\\nfrom sklearn.ensemble import RandomForestRegressor\\nimport matplotlib as mpl\\nimport bokeh\\nfrom sklearn.feature_extraction.text import TfidfVectorizer\\nimport seaborn as sns\\nimport glob\\nimport nltk\\nfrom sklearn.ensemble import GradientBoostingClassifier\\nimport statistics\\nfrom sklearn.model_selection import train_test_split\\nfrom sklearn.manifold import TSNE\\nfrom sklearn import svm\\nimport lightgbm as lgb'); }\n    "
     },
     "metadata": {}
    },
    {
     "output_type": "display_data",
     "data": {
      "text/plain": "<IPython.core.display.Javascript object>",
      "application/javascript": "\n        if (window._pyforest_update_imports_cell) { window._pyforest_update_imports_cell('from sklearn.ensemble import RandomForestClassifier\\nimport datetime as dt\\nfrom pathlib import Path\\nimport gensim\\nfrom sklearn.ensemble import GradientBoostingRegressor\\nfrom dask import dataframe as dd\\nimport plotly.express as px\\nimport tqdm\\nimport pickle\\nfrom openpyxl import load_workbook\\nfrom sklearn.preprocessing import OneHotEncoder\\nimport plotly.graph_objs as go\\nimport spacy\\nimport xgboost as xgb\\nimport plotly as py\\nimport sklearn\\nfrom sklearn.ensemble import RandomForestRegressor\\nimport matplotlib as mpl\\nimport bokeh\\nfrom sklearn.feature_extraction.text import TfidfVectorizer\\nimport seaborn as sns\\nimport glob\\nimport nltk\\nfrom sklearn.ensemble import GradientBoostingClassifier\\nimport statistics\\nfrom sklearn.model_selection import train_test_split\\nfrom sklearn.manifold import TSNE\\nfrom sklearn import svm\\nimport lightgbm as lgb'); }\n    "
     },
     "metadata": {}
    },
    {
     "output_type": "display_data",
     "data": {
      "text/plain": "<IPython.core.display.Javascript object>",
      "application/javascript": "\n        if (window._pyforest_update_imports_cell) { window._pyforest_update_imports_cell('from sklearn.ensemble import RandomForestClassifier\\nimport datetime as dt\\nfrom pathlib import Path\\nimport gensim\\nfrom sklearn.ensemble import GradientBoostingRegressor\\nfrom dask import dataframe as dd\\nimport plotly.express as px\\nimport tqdm\\nimport pickle\\nfrom openpyxl import load_workbook\\nfrom sklearn.preprocessing import OneHotEncoder\\nimport plotly.graph_objs as go\\nimport spacy\\nimport xgboost as xgb\\nimport plotly as py\\nimport sklearn\\nfrom sklearn.ensemble import RandomForestRegressor\\nimport matplotlib as mpl\\nimport bokeh\\nfrom sklearn.feature_extraction.text import TfidfVectorizer\\nimport seaborn as sns\\nimport glob\\nimport nltk\\nfrom sklearn.ensemble import GradientBoostingClassifier\\nimport statistics\\nfrom sklearn.model_selection import train_test_split\\nfrom sklearn.manifold import TSNE\\nfrom sklearn import svm\\nimport lightgbm as lgb'); }\n    "
     },
     "metadata": {}
    },
    {
     "output_type": "display_data",
     "data": {
      "text/plain": "<IPython.core.display.Javascript object>",
      "application/javascript": "\n        if (window._pyforest_update_imports_cell) { window._pyforest_update_imports_cell('from sklearn.ensemble import RandomForestClassifier\\nimport datetime as dt\\nfrom pathlib import Path\\nimport gensim\\nfrom sklearn.ensemble import GradientBoostingRegressor\\nfrom dask import dataframe as dd\\nimport plotly.express as px\\nimport tqdm\\nimport pickle\\nfrom openpyxl import load_workbook\\nfrom sklearn.preprocessing import OneHotEncoder\\nimport plotly.graph_objs as go\\nimport spacy\\nimport xgboost as xgb\\nimport plotly as py\\nimport sklearn\\nfrom sklearn.ensemble import RandomForestRegressor\\nimport matplotlib as mpl\\nimport bokeh\\nfrom sklearn.feature_extraction.text import TfidfVectorizer\\nimport seaborn as sns\\nimport glob\\nimport nltk\\nfrom sklearn.ensemble import GradientBoostingClassifier\\nimport statistics\\nfrom sklearn.model_selection import train_test_split\\nfrom sklearn.manifold import TSNE\\nfrom sklearn import svm\\nimport lightgbm as lgb'); }\n    "
     },
     "metadata": {}
    },
    {
     "output_type": "display_data",
     "data": {
      "text/plain": "<IPython.core.display.Javascript object>",
      "application/javascript": "\n        if (window._pyforest_update_imports_cell) { window._pyforest_update_imports_cell('from sklearn.ensemble import RandomForestClassifier\\nimport datetime as dt\\nfrom pathlib import Path\\nimport gensim\\nfrom sklearn.ensemble import GradientBoostingRegressor\\nfrom dask import dataframe as dd\\nimport plotly.express as px\\nimport tqdm\\nimport pickle\\nfrom openpyxl import load_workbook\\nfrom sklearn.preprocessing import OneHotEncoder\\nimport plotly.graph_objs as go\\nimport spacy\\nimport xgboost as xgb\\nimport plotly as py\\nimport sklearn\\nfrom sklearn.ensemble import RandomForestRegressor\\nimport matplotlib as mpl\\nimport bokeh\\nfrom sklearn.feature_extraction.text import TfidfVectorizer\\nimport seaborn as sns\\nimport glob\\nimport nltk\\nfrom sklearn.ensemble import GradientBoostingClassifier\\nimport statistics\\nfrom sklearn.model_selection import train_test_split\\nfrom sklearn.manifold import TSNE\\nfrom sklearn import svm\\nimport lightgbm as lgb'); }\n    "
     },
     "metadata": {}
    },
    {
     "output_type": "display_data",
     "data": {
      "text/plain": "<IPython.core.display.Javascript object>",
      "application/javascript": "\n        if (window._pyforest_update_imports_cell) { window._pyforest_update_imports_cell('from sklearn.ensemble import RandomForestClassifier\\nimport datetime as dt\\nfrom pathlib import Path\\nimport gensim\\nfrom sklearn.ensemble import GradientBoostingRegressor\\nfrom dask import dataframe as dd\\nimport plotly.express as px\\nimport tqdm\\nimport pickle\\nfrom openpyxl import load_workbook\\nfrom sklearn.preprocessing import OneHotEncoder\\nimport plotly.graph_objs as go\\nimport spacy\\nimport xgboost as xgb\\nimport plotly as py\\nimport sklearn\\nfrom sklearn.ensemble import RandomForestRegressor\\nimport matplotlib as mpl\\nimport bokeh\\nfrom sklearn.feature_extraction.text import TfidfVectorizer\\nimport seaborn as sns\\nimport glob\\nimport nltk\\nfrom sklearn.ensemble import GradientBoostingClassifier\\nimport statistics\\nfrom sklearn.model_selection import train_test_split\\nfrom sklearn.manifold import TSNE\\nfrom sklearn import svm\\nimport lightgbm as lgb'); }\n    "
     },
     "metadata": {}
    },
    {
     "output_type": "display_data",
     "data": {
      "text/plain": "<IPython.core.display.Javascript object>",
      "application/javascript": "\n        if (window._pyforest_update_imports_cell) { window._pyforest_update_imports_cell('from sklearn.ensemble import RandomForestClassifier\\nimport datetime as dt\\nfrom pathlib import Path\\nimport gensim\\nfrom sklearn.ensemble import GradientBoostingRegressor\\nfrom dask import dataframe as dd\\nimport plotly.express as px\\nimport tqdm\\nimport pickle\\nfrom openpyxl import load_workbook\\nfrom sklearn.preprocessing import OneHotEncoder\\nimport plotly.graph_objs as go\\nimport spacy\\nimport xgboost as xgb\\nimport plotly as py\\nimport sklearn\\nfrom sklearn.ensemble import RandomForestRegressor\\nimport matplotlib as mpl\\nimport bokeh\\nfrom sklearn.feature_extraction.text import TfidfVectorizer\\nimport seaborn as sns\\nimport glob\\nimport nltk\\nfrom sklearn.ensemble import GradientBoostingClassifier\\nimport statistics\\nfrom sklearn.model_selection import train_test_split\\nfrom sklearn.manifold import TSNE\\nfrom sklearn import svm\\nimport lightgbm as lgb'); }\n    "
     },
     "metadata": {}
    },
    {
     "output_type": "display_data",
     "data": {
      "text/plain": "<IPython.core.display.Javascript object>",
      "application/javascript": "\n        if (window._pyforest_update_imports_cell) { window._pyforest_update_imports_cell('from sklearn.ensemble import RandomForestClassifier\\nimport datetime as dt\\nfrom pathlib import Path\\nimport gensim\\nfrom sklearn.ensemble import GradientBoostingRegressor\\nfrom dask import dataframe as dd\\nimport plotly.express as px\\nimport tqdm\\nimport pickle\\nfrom openpyxl import load_workbook\\nfrom sklearn.preprocessing import OneHotEncoder\\nimport plotly.graph_objs as go\\nimport spacy\\nimport xgboost as xgb\\nimport plotly as py\\nimport sklearn\\nfrom sklearn.ensemble import RandomForestRegressor\\nimport matplotlib as mpl\\nimport bokeh\\nfrom sklearn.feature_extraction.text import TfidfVectorizer\\nimport seaborn as sns\\nimport glob\\nimport nltk\\nfrom sklearn.ensemble import GradientBoostingClassifier\\nimport statistics\\nfrom sklearn.model_selection import train_test_split\\nfrom sklearn.manifold import TSNE\\nfrom sklearn import svm\\nimport lightgbm as lgb'); }\n    "
     },
     "metadata": {}
    },
    {
     "output_type": "display_data",
     "data": {
      "text/plain": "<IPython.core.display.Javascript object>",
      "application/javascript": "\n        if (window._pyforest_update_imports_cell) { window._pyforest_update_imports_cell('from sklearn.ensemble import RandomForestClassifier\\nimport datetime as dt\\nfrom pathlib import Path\\nimport gensim\\nfrom sklearn.ensemble import GradientBoostingRegressor\\nfrom dask import dataframe as dd\\nimport plotly.express as px\\nimport tqdm\\nimport pickle\\nfrom openpyxl import load_workbook\\nfrom sklearn.preprocessing import OneHotEncoder\\nimport plotly.graph_objs as go\\nimport spacy\\nimport xgboost as xgb\\nimport plotly as py\\nimport sklearn\\nfrom sklearn.ensemble import RandomForestRegressor\\nimport matplotlib as mpl\\nimport bokeh\\nfrom sklearn.feature_extraction.text import TfidfVectorizer\\nimport seaborn as sns\\nimport glob\\nimport nltk\\nfrom sklearn.ensemble import GradientBoostingClassifier\\nimport statistics\\nfrom sklearn.model_selection import train_test_split\\nfrom sklearn.manifold import TSNE\\nfrom sklearn import svm\\nimport lightgbm as lgb'); }\n    "
     },
     "metadata": {}
    },
    {
     "output_type": "display_data",
     "data": {
      "text/plain": "<IPython.core.display.Javascript object>",
      "application/javascript": "\n        if (window._pyforest_update_imports_cell) { window._pyforest_update_imports_cell('from sklearn.ensemble import RandomForestClassifier\\nimport datetime as dt\\nfrom pathlib import Path\\nimport gensim\\nfrom sklearn.ensemble import GradientBoostingRegressor\\nfrom dask import dataframe as dd\\nimport plotly.express as px\\nimport tqdm\\nimport pickle\\nfrom openpyxl import load_workbook\\nfrom sklearn.preprocessing import OneHotEncoder\\nimport plotly.graph_objs as go\\nimport spacy\\nimport xgboost as xgb\\nimport plotly as py\\nimport sklearn\\nfrom sklearn.ensemble import RandomForestRegressor\\nimport matplotlib as mpl\\nimport bokeh\\nfrom sklearn.feature_extraction.text import TfidfVectorizer\\nimport seaborn as sns\\nimport glob\\nimport nltk\\nfrom sklearn.ensemble import GradientBoostingClassifier\\nimport statistics\\nfrom sklearn.model_selection import train_test_split\\nfrom sklearn.manifold import TSNE\\nfrom sklearn import svm\\nimport lightgbm as lgb'); }\n    "
     },
     "metadata": {}
    },
    {
     "output_type": "display_data",
     "data": {
      "text/plain": "<IPython.core.display.Javascript object>",
      "application/javascript": "\n        if (window._pyforest_update_imports_cell) { window._pyforest_update_imports_cell('from sklearn.ensemble import RandomForestClassifier\\nimport datetime as dt\\nfrom pathlib import Path\\nimport gensim\\nfrom sklearn.ensemble import GradientBoostingRegressor\\nfrom dask import dataframe as dd\\nimport plotly.express as px\\nimport tqdm\\nimport pickle\\nfrom openpyxl import load_workbook\\nfrom sklearn.preprocessing import OneHotEncoder\\nimport plotly.graph_objs as go\\nimport spacy\\nimport xgboost as xgb\\nimport plotly as py\\nimport sklearn\\nfrom sklearn.ensemble import RandomForestRegressor\\nimport matplotlib as mpl\\nimport bokeh\\nfrom sklearn.feature_extraction.text import TfidfVectorizer\\nimport seaborn as sns\\nimport glob\\nimport nltk\\nfrom sklearn.ensemble import GradientBoostingClassifier\\nimport statistics\\nfrom sklearn.model_selection import train_test_split\\nfrom sklearn.manifold import TSNE\\nfrom sklearn import svm\\nimport lightgbm as lgb'); }\n    "
     },
     "metadata": {}
    },
    {
     "output_type": "display_data",
     "data": {
      "text/plain": "<IPython.core.display.Javascript object>",
      "application/javascript": "\n        if (window._pyforest_update_imports_cell) { window._pyforest_update_imports_cell('from sklearn.ensemble import RandomForestClassifier\\nimport datetime as dt\\nfrom pathlib import Path\\nimport gensim\\nfrom sklearn.ensemble import GradientBoostingRegressor\\nfrom dask import dataframe as dd\\nimport plotly.express as px\\nimport tqdm\\nimport pickle\\nfrom openpyxl import load_workbook\\nfrom sklearn.preprocessing import OneHotEncoder\\nimport plotly.graph_objs as go\\nimport spacy\\nimport xgboost as xgb\\nimport plotly as py\\nimport sklearn\\nfrom sklearn.ensemble import RandomForestRegressor\\nimport matplotlib as mpl\\nimport bokeh\\nfrom sklearn.feature_extraction.text import TfidfVectorizer\\nimport seaborn as sns\\nimport glob\\nimport nltk\\nfrom sklearn.ensemble import GradientBoostingClassifier\\nimport statistics\\nfrom sklearn.model_selection import train_test_split\\nfrom sklearn.manifold import TSNE\\nfrom sklearn import svm\\nimport lightgbm as lgb'); }\n    "
     },
     "metadata": {}
    },
    {
     "output_type": "display_data",
     "data": {
      "text/plain": "<IPython.core.display.Javascript object>",
      "application/javascript": "\n        if (window._pyforest_update_imports_cell) { window._pyforest_update_imports_cell('from sklearn.ensemble import RandomForestClassifier\\nimport datetime as dt\\nfrom pathlib import Path\\nimport gensim\\nfrom sklearn.ensemble import GradientBoostingRegressor\\nfrom dask import dataframe as dd\\nimport plotly.express as px\\nimport tqdm\\nimport pickle\\nfrom openpyxl import load_workbook\\nfrom sklearn.preprocessing import OneHotEncoder\\nimport plotly.graph_objs as go\\nimport spacy\\nimport xgboost as xgb\\nimport plotly as py\\nimport sklearn\\nfrom sklearn.ensemble import RandomForestRegressor\\nimport matplotlib as mpl\\nimport bokeh\\nfrom sklearn.feature_extraction.text import TfidfVectorizer\\nimport seaborn as sns\\nimport glob\\nimport nltk\\nfrom sklearn.ensemble import GradientBoostingClassifier\\nimport statistics\\nfrom sklearn.model_selection import train_test_split\\nfrom sklearn.manifold import TSNE\\nfrom sklearn import svm\\nimport lightgbm as lgb'); }\n    "
     },
     "metadata": {}
    },
    {
     "output_type": "display_data",
     "data": {
      "text/plain": "<IPython.core.display.Javascript object>",
      "application/javascript": "\n        if (window._pyforest_update_imports_cell) { window._pyforest_update_imports_cell('from sklearn.ensemble import RandomForestClassifier\\nimport datetime as dt\\nfrom pathlib import Path\\nimport gensim\\nfrom sklearn.ensemble import GradientBoostingRegressor\\nfrom dask import dataframe as dd\\nimport plotly.express as px\\nimport tqdm\\nimport pickle\\nfrom openpyxl import load_workbook\\nfrom sklearn.preprocessing import OneHotEncoder\\nimport plotly.graph_objs as go\\nimport spacy\\nimport xgboost as xgb\\nimport plotly as py\\nimport sklearn\\nfrom sklearn.ensemble import RandomForestRegressor\\nimport matplotlib as mpl\\nimport bokeh\\nfrom sklearn.feature_extraction.text import TfidfVectorizer\\nimport seaborn as sns\\nimport glob\\nimport nltk\\nfrom sklearn.ensemble import GradientBoostingClassifier\\nimport statistics\\nfrom sklearn.model_selection import train_test_split\\nfrom sklearn.manifold import TSNE\\nfrom sklearn import svm\\nimport lightgbm as lgb'); }\n    "
     },
     "metadata": {}
    },
    {
     "output_type": "display_data",
     "data": {
      "text/plain": "<IPython.core.display.Javascript object>",
      "application/javascript": "\n        if (window._pyforest_update_imports_cell) { window._pyforest_update_imports_cell('from sklearn.ensemble import RandomForestClassifier\\nimport datetime as dt\\nfrom pathlib import Path\\nimport gensim\\nfrom sklearn.ensemble import GradientBoostingRegressor\\nfrom dask import dataframe as dd\\nimport plotly.express as px\\nimport tqdm\\nimport pickle\\nfrom openpyxl import load_workbook\\nfrom sklearn.preprocessing import OneHotEncoder\\nimport plotly.graph_objs as go\\nimport spacy\\nimport xgboost as xgb\\nimport plotly as py\\nimport sklearn\\nfrom sklearn.ensemble import RandomForestRegressor\\nimport matplotlib as mpl\\nimport bokeh\\nfrom sklearn.feature_extraction.text import TfidfVectorizer\\nimport seaborn as sns\\nimport glob\\nimport nltk\\nfrom sklearn.ensemble import GradientBoostingClassifier\\nimport statistics\\nfrom sklearn.model_selection import train_test_split\\nfrom sklearn.manifold import TSNE\\nfrom sklearn import svm\\nimport lightgbm as lgb'); }\n    "
     },
     "metadata": {}
    },
    {
     "output_type": "display_data",
     "data": {
      "text/plain": "<IPython.core.display.Javascript object>",
      "application/javascript": "\n        if (window._pyforest_update_imports_cell) { window._pyforest_update_imports_cell('from sklearn.ensemble import RandomForestClassifier\\nimport datetime as dt\\nfrom pathlib import Path\\nimport gensim\\nfrom sklearn.ensemble import GradientBoostingRegressor\\nfrom dask import dataframe as dd\\nimport plotly.express as px\\nimport tqdm\\nimport pickle\\nfrom openpyxl import load_workbook\\nfrom sklearn.preprocessing import OneHotEncoder\\nimport plotly.graph_objs as go\\nimport spacy\\nimport xgboost as xgb\\nimport plotly as py\\nimport sklearn\\nfrom sklearn.ensemble import RandomForestRegressor\\nimport matplotlib as mpl\\nimport bokeh\\nfrom sklearn.feature_extraction.text import TfidfVectorizer\\nimport seaborn as sns\\nimport glob\\nimport nltk\\nfrom sklearn.ensemble import GradientBoostingClassifier\\nimport statistics\\nfrom sklearn.model_selection import train_test_split\\nfrom sklearn.manifold import TSNE\\nfrom sklearn import svm\\nimport lightgbm as lgb'); }\n    "
     },
     "metadata": {}
    },
    {
     "output_type": "display_data",
     "data": {
      "text/plain": "<IPython.core.display.Javascript object>",
      "application/javascript": "\n        if (window._pyforest_update_imports_cell) { window._pyforest_update_imports_cell('from sklearn.ensemble import RandomForestClassifier\\nimport datetime as dt\\nfrom pathlib import Path\\nimport gensim\\nfrom sklearn.ensemble import GradientBoostingRegressor\\nfrom dask import dataframe as dd\\nimport plotly.express as px\\nimport tqdm\\nimport pickle\\nfrom openpyxl import load_workbook\\nfrom sklearn.preprocessing import OneHotEncoder\\nimport plotly.graph_objs as go\\nimport spacy\\nimport xgboost as xgb\\nimport plotly as py\\nimport sklearn\\nfrom sklearn.ensemble import RandomForestRegressor\\nimport matplotlib as mpl\\nimport bokeh\\nfrom sklearn.feature_extraction.text import TfidfVectorizer\\nimport seaborn as sns\\nimport glob\\nimport nltk\\nfrom sklearn.ensemble import GradientBoostingClassifier\\nimport statistics\\nfrom sklearn.model_selection import train_test_split\\nfrom sklearn.manifold import TSNE\\nfrom sklearn import svm\\nimport lightgbm as lgb'); }\n    "
     },
     "metadata": {}
    },
    {
     "output_type": "display_data",
     "data": {
      "text/plain": "<IPython.core.display.Javascript object>",
      "application/javascript": "\n        if (window._pyforest_update_imports_cell) { window._pyforest_update_imports_cell('from sklearn.ensemble import RandomForestClassifier\\nimport datetime as dt\\nfrom pathlib import Path\\nimport gensim\\nfrom sklearn.ensemble import GradientBoostingRegressor\\nfrom dask import dataframe as dd\\nimport plotly.express as px\\nimport tqdm\\nimport pickle\\nfrom openpyxl import load_workbook\\nfrom sklearn.preprocessing import OneHotEncoder\\nimport plotly.graph_objs as go\\nimport spacy\\nimport xgboost as xgb\\nimport plotly as py\\nimport sklearn\\nfrom sklearn.ensemble import RandomForestRegressor\\nimport matplotlib as mpl\\nimport bokeh\\nfrom sklearn.feature_extraction.text import TfidfVectorizer\\nimport seaborn as sns\\nimport glob\\nimport nltk\\nfrom sklearn.ensemble import GradientBoostingClassifier\\nimport statistics\\nfrom sklearn.model_selection import train_test_split\\nfrom sklearn.manifold import TSNE\\nfrom sklearn import svm\\nimport lightgbm as lgb'); }\n    "
     },
     "metadata": {}
    },
    {
     "output_type": "display_data",
     "data": {
      "text/plain": "<IPython.core.display.Javascript object>",
      "application/javascript": "\n        if (window._pyforest_update_imports_cell) { window._pyforest_update_imports_cell('from sklearn.ensemble import RandomForestClassifier\\nimport datetime as dt\\nfrom pathlib import Path\\nimport gensim\\nfrom sklearn.ensemble import GradientBoostingRegressor\\nfrom dask import dataframe as dd\\nimport plotly.express as px\\nimport tqdm\\nimport pickle\\nfrom openpyxl import load_workbook\\nfrom sklearn.preprocessing import OneHotEncoder\\nimport plotly.graph_objs as go\\nimport spacy\\nimport xgboost as xgb\\nimport plotly as py\\nimport sklearn\\nfrom sklearn.ensemble import RandomForestRegressor\\nimport matplotlib as mpl\\nimport bokeh\\nfrom sklearn.feature_extraction.text import TfidfVectorizer\\nimport seaborn as sns\\nimport glob\\nimport nltk\\nfrom sklearn.ensemble import GradientBoostingClassifier\\nimport statistics\\nfrom sklearn.model_selection import train_test_split\\nfrom sklearn.manifold import TSNE\\nfrom sklearn import svm\\nimport lightgbm as lgb'); }\n    "
     },
     "metadata": {}
    },
    {
     "output_type": "display_data",
     "data": {
      "text/plain": "<IPython.core.display.Javascript object>",
      "application/javascript": "\n        if (window._pyforest_update_imports_cell) { window._pyforest_update_imports_cell('from sklearn.ensemble import RandomForestClassifier\\nimport datetime as dt\\nfrom pathlib import Path\\nimport gensim\\nfrom sklearn.ensemble import GradientBoostingRegressor\\nfrom dask import dataframe as dd\\nimport plotly.express as px\\nimport tqdm\\nimport pickle\\nfrom openpyxl import load_workbook\\nfrom sklearn.preprocessing import OneHotEncoder\\nimport plotly.graph_objs as go\\nimport spacy\\nimport xgboost as xgb\\nimport plotly as py\\nimport sklearn\\nfrom sklearn.ensemble import RandomForestRegressor\\nimport matplotlib as mpl\\nimport bokeh\\nfrom sklearn.feature_extraction.text import TfidfVectorizer\\nimport seaborn as sns\\nimport glob\\nimport nltk\\nfrom sklearn.ensemble import GradientBoostingClassifier\\nimport statistics\\nfrom sklearn.model_selection import train_test_split\\nfrom sklearn.manifold import TSNE\\nfrom sklearn import svm\\nimport lightgbm as lgb'); }\n    "
     },
     "metadata": {}
    },
    {
     "output_type": "display_data",
     "data": {
      "text/plain": "<IPython.core.display.Javascript object>",
      "application/javascript": "\n        if (window._pyforest_update_imports_cell) { window._pyforest_update_imports_cell('from sklearn.ensemble import RandomForestClassifier\\nimport datetime as dt\\nfrom pathlib import Path\\nimport gensim\\nfrom sklearn.ensemble import GradientBoostingRegressor\\nfrom dask import dataframe as dd\\nimport plotly.express as px\\nimport tqdm\\nimport pickle\\nfrom openpyxl import load_workbook\\nfrom sklearn.preprocessing import OneHotEncoder\\nimport plotly.graph_objs as go\\nimport spacy\\nimport xgboost as xgb\\nimport plotly as py\\nimport sklearn\\nfrom sklearn.ensemble import RandomForestRegressor\\nimport matplotlib as mpl\\nimport bokeh\\nfrom sklearn.feature_extraction.text import TfidfVectorizer\\nimport seaborn as sns\\nimport glob\\nimport nltk\\nfrom sklearn.ensemble import GradientBoostingClassifier\\nimport statistics\\nfrom sklearn.model_selection import train_test_split\\nfrom sklearn.manifold import TSNE\\nfrom sklearn import svm\\nimport lightgbm as lgb'); }\n    "
     },
     "metadata": {}
    },
    {
     "output_type": "display_data",
     "data": {
      "text/plain": "<IPython.core.display.Javascript object>",
      "application/javascript": "\n        if (window._pyforest_update_imports_cell) { window._pyforest_update_imports_cell('from sklearn.ensemble import RandomForestClassifier\\nimport datetime as dt\\nfrom pathlib import Path\\nimport gensim\\nfrom sklearn.ensemble import GradientBoostingRegressor\\nfrom dask import dataframe as dd\\nimport plotly.express as px\\nimport tqdm\\nimport pickle\\nfrom openpyxl import load_workbook\\nfrom sklearn.preprocessing import OneHotEncoder\\nimport plotly.graph_objs as go\\nimport spacy\\nimport xgboost as xgb\\nimport plotly as py\\nimport sklearn\\nfrom sklearn.ensemble import RandomForestRegressor\\nimport matplotlib as mpl\\nimport bokeh\\nfrom sklearn.feature_extraction.text import TfidfVectorizer\\nimport seaborn as sns\\nimport glob\\nimport nltk\\nfrom sklearn.ensemble import GradientBoostingClassifier\\nimport statistics\\nfrom sklearn.model_selection import train_test_split\\nfrom sklearn.manifold import TSNE\\nfrom sklearn import svm\\nimport lightgbm as lgb'); }\n    "
     },
     "metadata": {}
    },
    {
     "output_type": "display_data",
     "data": {
      "text/plain": "<IPython.core.display.Javascript object>",
      "application/javascript": "\n        if (window._pyforest_update_imports_cell) { window._pyforest_update_imports_cell('from sklearn.ensemble import RandomForestClassifier\\nimport datetime as dt\\nfrom pathlib import Path\\nimport gensim\\nfrom sklearn.ensemble import GradientBoostingRegressor\\nfrom dask import dataframe as dd\\nimport plotly.express as px\\nimport tqdm\\nimport pickle\\nfrom openpyxl import load_workbook\\nfrom sklearn.preprocessing import OneHotEncoder\\nimport plotly.graph_objs as go\\nimport spacy\\nimport xgboost as xgb\\nimport plotly as py\\nimport sklearn\\nfrom sklearn.ensemble import RandomForestRegressor\\nimport matplotlib as mpl\\nimport bokeh\\nfrom sklearn.feature_extraction.text import TfidfVectorizer\\nimport seaborn as sns\\nimport glob\\nimport nltk\\nfrom sklearn.ensemble import GradientBoostingClassifier\\nimport statistics\\nfrom sklearn.model_selection import train_test_split\\nfrom sklearn.manifold import TSNE\\nfrom sklearn import svm\\nimport lightgbm as lgb'); }\n    "
     },
     "metadata": {}
    },
    {
     "output_type": "display_data",
     "data": {
      "text/plain": "<IPython.core.display.Javascript object>",
      "application/javascript": "\n        if (window._pyforest_update_imports_cell) { window._pyforest_update_imports_cell('from sklearn.ensemble import RandomForestClassifier\\nimport datetime as dt\\nfrom pathlib import Path\\nimport gensim\\nfrom sklearn.ensemble import GradientBoostingRegressor\\nfrom dask import dataframe as dd\\nimport plotly.express as px\\nimport tqdm\\nimport pickle\\nfrom openpyxl import load_workbook\\nfrom sklearn.preprocessing import OneHotEncoder\\nimport plotly.graph_objs as go\\nimport spacy\\nimport xgboost as xgb\\nimport plotly as py\\nimport sklearn\\nfrom sklearn.ensemble import RandomForestRegressor\\nimport matplotlib as mpl\\nimport bokeh\\nfrom sklearn.feature_extraction.text import TfidfVectorizer\\nimport seaborn as sns\\nimport glob\\nimport nltk\\nfrom sklearn.ensemble import GradientBoostingClassifier\\nimport statistics\\nfrom sklearn.model_selection import train_test_split\\nfrom sklearn.manifold import TSNE\\nfrom sklearn import svm\\nimport lightgbm as lgb'); }\n    "
     },
     "metadata": {}
    },
    {
     "output_type": "display_data",
     "data": {
      "text/plain": "<IPython.core.display.Javascript object>",
      "application/javascript": "\n        if (window._pyforest_update_imports_cell) { window._pyforest_update_imports_cell('from sklearn.ensemble import RandomForestClassifier\\nimport datetime as dt\\nfrom pathlib import Path\\nimport gensim\\nfrom sklearn.ensemble import GradientBoostingRegressor\\nfrom dask import dataframe as dd\\nimport plotly.express as px\\nimport tqdm\\nimport pickle\\nfrom openpyxl import load_workbook\\nfrom sklearn.preprocessing import OneHotEncoder\\nimport plotly.graph_objs as go\\nimport spacy\\nimport xgboost as xgb\\nimport plotly as py\\nimport sklearn\\nfrom sklearn.ensemble import RandomForestRegressor\\nimport matplotlib as mpl\\nimport bokeh\\nfrom sklearn.feature_extraction.text import TfidfVectorizer\\nimport seaborn as sns\\nimport glob\\nimport nltk\\nfrom sklearn.ensemble import GradientBoostingClassifier\\nimport statistics\\nfrom sklearn.model_selection import train_test_split\\nfrom sklearn.manifold import TSNE\\nfrom sklearn import svm\\nimport lightgbm as lgb'); }\n    "
     },
     "metadata": {}
    },
    {
     "output_type": "display_data",
     "data": {
      "text/plain": "<IPython.core.display.Javascript object>",
      "application/javascript": "\n        if (window._pyforest_update_imports_cell) { window._pyforest_update_imports_cell('from sklearn.ensemble import RandomForestClassifier\\nimport datetime as dt\\nfrom pathlib import Path\\nimport gensim\\nfrom sklearn.ensemble import GradientBoostingRegressor\\nfrom dask import dataframe as dd\\nimport plotly.express as px\\nimport tqdm\\nimport pickle\\nfrom openpyxl import load_workbook\\nfrom sklearn.preprocessing import OneHotEncoder\\nimport plotly.graph_objs as go\\nimport spacy\\nimport xgboost as xgb\\nimport plotly as py\\nimport sklearn\\nfrom sklearn.ensemble import RandomForestRegressor\\nimport matplotlib as mpl\\nimport bokeh\\nfrom sklearn.feature_extraction.text import TfidfVectorizer\\nimport seaborn as sns\\nimport glob\\nimport nltk\\nfrom sklearn.ensemble import GradientBoostingClassifier\\nimport statistics\\nfrom sklearn.model_selection import train_test_split\\nfrom sklearn.manifold import TSNE\\nfrom sklearn import svm\\nimport lightgbm as lgb'); }\n    "
     },
     "metadata": {}
    },
    {
     "output_type": "display_data",
     "data": {
      "text/plain": "<IPython.core.display.Javascript object>",
      "application/javascript": "\n        if (window._pyforest_update_imports_cell) { window._pyforest_update_imports_cell('from sklearn.ensemble import RandomForestClassifier\\nimport datetime as dt\\nfrom pathlib import Path\\nimport gensim\\nfrom sklearn.ensemble import GradientBoostingRegressor\\nfrom dask import dataframe as dd\\nimport plotly.express as px\\nimport tqdm\\nimport pickle\\nfrom openpyxl import load_workbook\\nfrom sklearn.preprocessing import OneHotEncoder\\nimport plotly.graph_objs as go\\nimport spacy\\nimport xgboost as xgb\\nimport plotly as py\\nimport sklearn\\nfrom sklearn.ensemble import RandomForestRegressor\\nimport matplotlib as mpl\\nimport bokeh\\nfrom sklearn.feature_extraction.text import TfidfVectorizer\\nimport seaborn as sns\\nimport glob\\nimport nltk\\nfrom sklearn.ensemble import GradientBoostingClassifier\\nimport statistics\\nfrom sklearn.model_selection import train_test_split\\nfrom sklearn.manifold import TSNE\\nfrom sklearn import svm\\nimport lightgbm as lgb'); }\n    "
     },
     "metadata": {}
    },
    {
     "output_type": "display_data",
     "data": {
      "text/plain": "<IPython.core.display.Javascript object>",
      "application/javascript": "\n        if (window._pyforest_update_imports_cell) { window._pyforest_update_imports_cell('from sklearn.ensemble import RandomForestClassifier\\nimport datetime as dt\\nfrom pathlib import Path\\nimport gensim\\nfrom sklearn.ensemble import GradientBoostingRegressor\\nfrom dask import dataframe as dd\\nimport plotly.express as px\\nimport tqdm\\nimport pickle\\nfrom openpyxl import load_workbook\\nfrom sklearn.preprocessing import OneHotEncoder\\nimport plotly.graph_objs as go\\nimport spacy\\nimport xgboost as xgb\\nimport plotly as py\\nimport sklearn\\nfrom sklearn.ensemble import RandomForestRegressor\\nimport matplotlib as mpl\\nimport bokeh\\nfrom sklearn.feature_extraction.text import TfidfVectorizer\\nimport seaborn as sns\\nimport glob\\nimport nltk\\nfrom sklearn.ensemble import GradientBoostingClassifier\\nimport statistics\\nfrom sklearn.model_selection import train_test_split\\nfrom sklearn.manifold import TSNE\\nfrom sklearn import svm\\nimport lightgbm as lgb'); }\n    "
     },
     "metadata": {}
    },
    {
     "output_type": "display_data",
     "data": {
      "text/plain": "<IPython.core.display.Javascript object>",
      "application/javascript": "\n        if (window._pyforest_update_imports_cell) { window._pyforest_update_imports_cell('from sklearn.ensemble import RandomForestClassifier\\nimport datetime as dt\\nfrom pathlib import Path\\nimport gensim\\nfrom sklearn.ensemble import GradientBoostingRegressor\\nfrom dask import dataframe as dd\\nimport plotly.express as px\\nimport tqdm\\nimport pickle\\nfrom openpyxl import load_workbook\\nfrom sklearn.preprocessing import OneHotEncoder\\nimport plotly.graph_objs as go\\nimport spacy\\nimport xgboost as xgb\\nimport plotly as py\\nimport sklearn\\nfrom sklearn.ensemble import RandomForestRegressor\\nimport matplotlib as mpl\\nimport bokeh\\nfrom sklearn.feature_extraction.text import TfidfVectorizer\\nimport seaborn as sns\\nimport glob\\nimport nltk\\nfrom sklearn.ensemble import GradientBoostingClassifier\\nimport statistics\\nfrom sklearn.model_selection import train_test_split\\nfrom sklearn.manifold import TSNE\\nfrom sklearn import svm\\nimport lightgbm as lgb'); }\n    "
     },
     "metadata": {}
    },
    {
     "output_type": "display_data",
     "data": {
      "text/plain": "<IPython.core.display.Javascript object>",
      "application/javascript": "\n        if (window._pyforest_update_imports_cell) { window._pyforest_update_imports_cell('from sklearn.ensemble import RandomForestClassifier\\nimport datetime as dt\\nfrom pathlib import Path\\nimport gensim\\nfrom sklearn.ensemble import GradientBoostingRegressor\\nfrom dask import dataframe as dd\\nimport plotly.express as px\\nimport tqdm\\nimport pickle\\nfrom openpyxl import load_workbook\\nfrom sklearn.preprocessing import OneHotEncoder\\nimport plotly.graph_objs as go\\nimport spacy\\nimport xgboost as xgb\\nimport plotly as py\\nimport sklearn\\nfrom sklearn.ensemble import RandomForestRegressor\\nimport matplotlib as mpl\\nimport bokeh\\nfrom sklearn.feature_extraction.text import TfidfVectorizer\\nimport seaborn as sns\\nimport glob\\nimport nltk\\nfrom sklearn.ensemble import GradientBoostingClassifier\\nimport statistics\\nfrom sklearn.model_selection import train_test_split\\nfrom sklearn.manifold import TSNE\\nfrom sklearn import svm\\nimport lightgbm as lgb'); }\n    "
     },
     "metadata": {}
    },
    {
     "output_type": "display_data",
     "data": {
      "text/plain": "<IPython.core.display.Javascript object>",
      "application/javascript": "\n        if (window._pyforest_update_imports_cell) { window._pyforest_update_imports_cell('from sklearn.ensemble import RandomForestClassifier\\nimport datetime as dt\\nfrom pathlib import Path\\nimport gensim\\nfrom sklearn.ensemble import GradientBoostingRegressor\\nfrom dask import dataframe as dd\\nimport plotly.express as px\\nimport tqdm\\nimport pickle\\nfrom openpyxl import load_workbook\\nfrom sklearn.preprocessing import OneHotEncoder\\nimport plotly.graph_objs as go\\nimport spacy\\nimport xgboost as xgb\\nimport plotly as py\\nimport sklearn\\nfrom sklearn.ensemble import RandomForestRegressor\\nimport matplotlib as mpl\\nimport bokeh\\nfrom sklearn.feature_extraction.text import TfidfVectorizer\\nimport seaborn as sns\\nimport glob\\nimport nltk\\nfrom sklearn.ensemble import GradientBoostingClassifier\\nimport statistics\\nfrom sklearn.model_selection import train_test_split\\nfrom sklearn.manifold import TSNE\\nfrom sklearn import svm\\nimport lightgbm as lgb'); }\n    "
     },
     "metadata": {}
    },
    {
     "output_type": "display_data",
     "data": {
      "text/plain": "<IPython.core.display.Javascript object>",
      "application/javascript": "\n        if (window._pyforest_update_imports_cell) { window._pyforest_update_imports_cell('from sklearn.ensemble import RandomForestClassifier\\nimport datetime as dt\\nfrom pathlib import Path\\nimport gensim\\nfrom sklearn.ensemble import GradientBoostingRegressor\\nfrom dask import dataframe as dd\\nimport plotly.express as px\\nimport tqdm\\nimport pickle\\nfrom openpyxl import load_workbook\\nfrom sklearn.preprocessing import OneHotEncoder\\nimport plotly.graph_objs as go\\nimport spacy\\nimport xgboost as xgb\\nimport plotly as py\\nimport sklearn\\nfrom sklearn.ensemble import RandomForestRegressor\\nimport matplotlib as mpl\\nimport bokeh\\nfrom sklearn.feature_extraction.text import TfidfVectorizer\\nimport seaborn as sns\\nimport glob\\nimport nltk\\nfrom sklearn.ensemble import GradientBoostingClassifier\\nimport statistics\\nfrom sklearn.model_selection import train_test_split\\nfrom sklearn.manifold import TSNE\\nfrom sklearn import svm\\nimport lightgbm as lgb'); }\n    "
     },
     "metadata": {}
    },
    {
     "output_type": "display_data",
     "data": {
      "text/plain": "<IPython.core.display.Javascript object>",
      "application/javascript": "\n        if (window._pyforest_update_imports_cell) { window._pyforest_update_imports_cell('from sklearn.ensemble import RandomForestClassifier\\nimport datetime as dt\\nfrom pathlib import Path\\nimport gensim\\nfrom sklearn.ensemble import GradientBoostingRegressor\\nfrom dask import dataframe as dd\\nimport plotly.express as px\\nimport tqdm\\nimport pickle\\nfrom openpyxl import load_workbook\\nfrom sklearn.preprocessing import OneHotEncoder\\nimport plotly.graph_objs as go\\nimport spacy\\nimport xgboost as xgb\\nimport plotly as py\\nimport sklearn\\nfrom sklearn.ensemble import RandomForestRegressor\\nimport matplotlib as mpl\\nimport bokeh\\nfrom sklearn.feature_extraction.text import TfidfVectorizer\\nimport seaborn as sns\\nimport glob\\nimport nltk\\nfrom sklearn.ensemble import GradientBoostingClassifier\\nimport statistics\\nfrom sklearn.model_selection import train_test_split\\nfrom sklearn.manifold import TSNE\\nfrom sklearn import svm\\nimport lightgbm as lgb'); }\n    "
     },
     "metadata": {}
    },
    {
     "output_type": "display_data",
     "data": {
      "text/plain": "<IPython.core.display.Javascript object>",
      "application/javascript": "\n        if (window._pyforest_update_imports_cell) { window._pyforest_update_imports_cell('from sklearn.ensemble import RandomForestClassifier\\nimport datetime as dt\\nfrom pathlib import Path\\nimport gensim\\nfrom sklearn.ensemble import GradientBoostingRegressor\\nfrom dask import dataframe as dd\\nimport plotly.express as px\\nimport tqdm\\nimport pickle\\nfrom openpyxl import load_workbook\\nfrom sklearn.preprocessing import OneHotEncoder\\nimport plotly.graph_objs as go\\nimport spacy\\nimport xgboost as xgb\\nimport plotly as py\\nimport sklearn\\nfrom sklearn.ensemble import RandomForestRegressor\\nimport matplotlib as mpl\\nimport bokeh\\nfrom sklearn.feature_extraction.text import TfidfVectorizer\\nimport seaborn as sns\\nimport glob\\nimport nltk\\nfrom sklearn.ensemble import GradientBoostingClassifier\\nimport statistics\\nfrom sklearn.model_selection import train_test_split\\nfrom sklearn.manifold import TSNE\\nfrom sklearn import svm\\nimport lightgbm as lgb'); }\n    "
     },
     "metadata": {}
    },
    {
     "output_type": "display_data",
     "data": {
      "text/plain": "<IPython.core.display.Javascript object>",
      "application/javascript": "\n        if (window._pyforest_update_imports_cell) { window._pyforest_update_imports_cell('from sklearn.ensemble import RandomForestClassifier\\nimport datetime as dt\\nfrom pathlib import Path\\nimport gensim\\nfrom sklearn.ensemble import GradientBoostingRegressor\\nfrom dask import dataframe as dd\\nimport plotly.express as px\\nimport tqdm\\nimport pickle\\nfrom openpyxl import load_workbook\\nfrom sklearn.preprocessing import OneHotEncoder\\nimport plotly.graph_objs as go\\nimport spacy\\nimport xgboost as xgb\\nimport plotly as py\\nimport sklearn\\nfrom sklearn.ensemble import RandomForestRegressor\\nimport matplotlib as mpl\\nimport bokeh\\nfrom sklearn.feature_extraction.text import TfidfVectorizer\\nimport seaborn as sns\\nimport glob\\nimport nltk\\nfrom sklearn.ensemble import GradientBoostingClassifier\\nimport statistics\\nfrom sklearn.model_selection import train_test_split\\nfrom sklearn.manifold import TSNE\\nfrom sklearn import svm\\nimport lightgbm as lgb'); }\n    "
     },
     "metadata": {}
    },
    {
     "output_type": "display_data",
     "data": {
      "text/plain": "<IPython.core.display.Javascript object>",
      "application/javascript": "\n        if (window._pyforest_update_imports_cell) { window._pyforest_update_imports_cell('from sklearn.ensemble import RandomForestClassifier\\nimport datetime as dt\\nfrom pathlib import Path\\nimport gensim\\nfrom sklearn.ensemble import GradientBoostingRegressor\\nfrom dask import dataframe as dd\\nimport plotly.express as px\\nimport tqdm\\nimport pickle\\nfrom openpyxl import load_workbook\\nfrom sklearn.preprocessing import OneHotEncoder\\nimport plotly.graph_objs as go\\nimport spacy\\nimport xgboost as xgb\\nimport plotly as py\\nimport sklearn\\nfrom sklearn.ensemble import RandomForestRegressor\\nimport matplotlib as mpl\\nimport bokeh\\nfrom sklearn.feature_extraction.text import TfidfVectorizer\\nimport seaborn as sns\\nimport glob\\nimport nltk\\nfrom sklearn.ensemble import GradientBoostingClassifier\\nimport statistics\\nfrom sklearn.model_selection import train_test_split\\nfrom sklearn.manifold import TSNE\\nfrom sklearn import svm\\nimport lightgbm as lgb'); }\n    "
     },
     "metadata": {}
    },
    {
     "output_type": "display_data",
     "data": {
      "text/plain": "<IPython.core.display.Javascript object>",
      "application/javascript": "\n        if (window._pyforest_update_imports_cell) { window._pyforest_update_imports_cell('from sklearn.ensemble import RandomForestClassifier\\nimport datetime as dt\\nfrom pathlib import Path\\nimport gensim\\nfrom sklearn.ensemble import GradientBoostingRegressor\\nfrom dask import dataframe as dd\\nimport plotly.express as px\\nimport tqdm\\nimport pickle\\nfrom openpyxl import load_workbook\\nfrom sklearn.preprocessing import OneHotEncoder\\nimport plotly.graph_objs as go\\nimport spacy\\nimport xgboost as xgb\\nimport plotly as py\\nimport sklearn\\nfrom sklearn.ensemble import RandomForestRegressor\\nimport matplotlib as mpl\\nimport bokeh\\nfrom sklearn.feature_extraction.text import TfidfVectorizer\\nimport seaborn as sns\\nimport glob\\nimport nltk\\nfrom sklearn.ensemble import GradientBoostingClassifier\\nimport statistics\\nfrom sklearn.model_selection import train_test_split\\nfrom sklearn.manifold import TSNE\\nfrom sklearn import svm\\nimport lightgbm as lgb'); }\n    "
     },
     "metadata": {}
    },
    {
     "output_type": "display_data",
     "data": {
      "text/plain": "<IPython.core.display.Javascript object>",
      "application/javascript": "\n        if (window._pyforest_update_imports_cell) { window._pyforest_update_imports_cell('from sklearn.ensemble import RandomForestClassifier\\nimport datetime as dt\\nfrom pathlib import Path\\nimport gensim\\nfrom sklearn.ensemble import GradientBoostingRegressor\\nfrom dask import dataframe as dd\\nimport plotly.express as px\\nimport tqdm\\nimport pickle\\nfrom openpyxl import load_workbook\\nfrom sklearn.preprocessing import OneHotEncoder\\nimport plotly.graph_objs as go\\nimport spacy\\nimport xgboost as xgb\\nimport plotly as py\\nimport sklearn\\nfrom sklearn.ensemble import RandomForestRegressor\\nimport matplotlib as mpl\\nimport bokeh\\nfrom sklearn.feature_extraction.text import TfidfVectorizer\\nimport seaborn as sns\\nimport glob\\nimport nltk\\nfrom sklearn.ensemble import GradientBoostingClassifier\\nimport statistics\\nfrom sklearn.model_selection import train_test_split\\nfrom sklearn.manifold import TSNE\\nfrom sklearn import svm\\nimport lightgbm as lgb'); }\n    "
     },
     "metadata": {}
    },
    {
     "output_type": "display_data",
     "data": {
      "text/plain": "<IPython.core.display.Javascript object>",
      "application/javascript": "\n        if (window._pyforest_update_imports_cell) { window._pyforest_update_imports_cell('from sklearn.ensemble import RandomForestClassifier\\nimport datetime as dt\\nfrom pathlib import Path\\nimport gensim\\nfrom sklearn.ensemble import GradientBoostingRegressor\\nfrom dask import dataframe as dd\\nimport plotly.express as px\\nimport tqdm\\nimport pickle\\nfrom openpyxl import load_workbook\\nfrom sklearn.preprocessing import OneHotEncoder\\nimport plotly.graph_objs as go\\nimport spacy\\nimport xgboost as xgb\\nimport plotly as py\\nimport sklearn\\nfrom sklearn.ensemble import RandomForestRegressor\\nimport matplotlib as mpl\\nimport bokeh\\nfrom sklearn.feature_extraction.text import TfidfVectorizer\\nimport seaborn as sns\\nimport glob\\nimport nltk\\nfrom sklearn.ensemble import GradientBoostingClassifier\\nimport statistics\\nfrom sklearn.model_selection import train_test_split\\nfrom sklearn.manifold import TSNE\\nfrom sklearn import svm\\nimport lightgbm as lgb'); }\n    "
     },
     "metadata": {}
    },
    {
     "output_type": "display_data",
     "data": {
      "text/plain": "<IPython.core.display.Javascript object>",
      "application/javascript": "\n        if (window._pyforest_update_imports_cell) { window._pyforest_update_imports_cell('from sklearn.ensemble import RandomForestClassifier\\nimport datetime as dt\\nfrom pathlib import Path\\nimport gensim\\nfrom sklearn.ensemble import GradientBoostingRegressor\\nfrom dask import dataframe as dd\\nimport plotly.express as px\\nimport tqdm\\nimport pickle\\nfrom openpyxl import load_workbook\\nfrom sklearn.preprocessing import OneHotEncoder\\nimport plotly.graph_objs as go\\nimport spacy\\nimport xgboost as xgb\\nimport plotly as py\\nimport sklearn\\nfrom sklearn.ensemble import RandomForestRegressor\\nimport matplotlib as mpl\\nimport bokeh\\nfrom sklearn.feature_extraction.text import TfidfVectorizer\\nimport seaborn as sns\\nimport glob\\nimport nltk\\nfrom sklearn.ensemble import GradientBoostingClassifier\\nimport statistics\\nfrom sklearn.model_selection import train_test_split\\nfrom sklearn.manifold import TSNE\\nfrom sklearn import svm\\nimport lightgbm as lgb'); }\n    "
     },
     "metadata": {}
    },
    {
     "output_type": "display_data",
     "data": {
      "text/plain": "<IPython.core.display.Javascript object>",
      "application/javascript": "\n        if (window._pyforest_update_imports_cell) { window._pyforest_update_imports_cell('from sklearn.ensemble import RandomForestClassifier\\nimport datetime as dt\\nfrom pathlib import Path\\nimport gensim\\nfrom sklearn.ensemble import GradientBoostingRegressor\\nfrom dask import dataframe as dd\\nimport plotly.express as px\\nimport tqdm\\nimport pickle\\nfrom openpyxl import load_workbook\\nfrom sklearn.preprocessing import OneHotEncoder\\nimport plotly.graph_objs as go\\nimport spacy\\nimport xgboost as xgb\\nimport plotly as py\\nimport sklearn\\nfrom sklearn.ensemble import RandomForestRegressor\\nimport matplotlib as mpl\\nimport bokeh\\nfrom sklearn.feature_extraction.text import TfidfVectorizer\\nimport seaborn as sns\\nimport glob\\nimport nltk\\nfrom sklearn.ensemble import GradientBoostingClassifier\\nimport statistics\\nfrom sklearn.model_selection import train_test_split\\nfrom sklearn.manifold import TSNE\\nfrom sklearn import svm\\nimport lightgbm as lgb'); }\n    "
     },
     "metadata": {}
    },
    {
     "output_type": "display_data",
     "data": {
      "text/plain": "<IPython.core.display.Javascript object>",
      "application/javascript": "\n        if (window._pyforest_update_imports_cell) { window._pyforest_update_imports_cell('from sklearn.ensemble import RandomForestClassifier\\nimport datetime as dt\\nfrom pathlib import Path\\nimport gensim\\nfrom sklearn.ensemble import GradientBoostingRegressor\\nfrom dask import dataframe as dd\\nimport plotly.express as px\\nimport tqdm\\nimport pickle\\nfrom openpyxl import load_workbook\\nfrom sklearn.preprocessing import OneHotEncoder\\nimport plotly.graph_objs as go\\nimport spacy\\nimport xgboost as xgb\\nimport plotly as py\\nimport sklearn\\nfrom sklearn.ensemble import RandomForestRegressor\\nimport matplotlib as mpl\\nimport bokeh\\nfrom sklearn.feature_extraction.text import TfidfVectorizer\\nimport seaborn as sns\\nimport glob\\nimport nltk\\nfrom sklearn.ensemble import GradientBoostingClassifier\\nimport statistics\\nfrom sklearn.model_selection import train_test_split\\nfrom sklearn.manifold import TSNE\\nfrom sklearn import svm\\nimport lightgbm as lgb'); }\n    "
     },
     "metadata": {}
    },
    {
     "output_type": "display_data",
     "data": {
      "text/plain": "<IPython.core.display.Javascript object>",
      "application/javascript": "\n        if (window._pyforest_update_imports_cell) { window._pyforest_update_imports_cell('from sklearn.ensemble import RandomForestClassifier\\nimport datetime as dt\\nfrom pathlib import Path\\nimport gensim\\nfrom sklearn.ensemble import GradientBoostingRegressor\\nfrom dask import dataframe as dd\\nimport plotly.express as px\\nimport tqdm\\nimport pickle\\nfrom openpyxl import load_workbook\\nfrom sklearn.preprocessing import OneHotEncoder\\nimport plotly.graph_objs as go\\nimport spacy\\nimport xgboost as xgb\\nimport plotly as py\\nimport sklearn\\nfrom sklearn.ensemble import RandomForestRegressor\\nimport matplotlib as mpl\\nimport bokeh\\nfrom sklearn.feature_extraction.text import TfidfVectorizer\\nimport seaborn as sns\\nimport glob\\nimport nltk\\nfrom sklearn.ensemble import GradientBoostingClassifier\\nimport statistics\\nfrom sklearn.model_selection import train_test_split\\nfrom sklearn.manifold import TSNE\\nfrom sklearn import svm\\nimport lightgbm as lgb'); }\n    "
     },
     "metadata": {}
    },
    {
     "output_type": "display_data",
     "data": {
      "text/plain": "<IPython.core.display.Javascript object>",
      "application/javascript": "\n        if (window._pyforest_update_imports_cell) { window._pyforest_update_imports_cell('from sklearn.ensemble import RandomForestClassifier\\nimport datetime as dt\\nfrom pathlib import Path\\nimport gensim\\nfrom sklearn.ensemble import GradientBoostingRegressor\\nfrom dask import dataframe as dd\\nimport plotly.express as px\\nimport tqdm\\nimport pickle\\nfrom openpyxl import load_workbook\\nfrom sklearn.preprocessing import OneHotEncoder\\nimport plotly.graph_objs as go\\nimport spacy\\nimport xgboost as xgb\\nimport plotly as py\\nimport sklearn\\nfrom sklearn.ensemble import RandomForestRegressor\\nimport matplotlib as mpl\\nimport bokeh\\nfrom sklearn.feature_extraction.text import TfidfVectorizer\\nimport seaborn as sns\\nimport glob\\nimport nltk\\nfrom sklearn.ensemble import GradientBoostingClassifier\\nimport statistics\\nfrom sklearn.model_selection import train_test_split\\nfrom sklearn.manifold import TSNE\\nfrom sklearn import svm\\nimport lightgbm as lgb'); }\n    "
     },
     "metadata": {}
    },
    {
     "output_type": "display_data",
     "data": {
      "text/plain": "<IPython.core.display.Javascript object>",
      "application/javascript": "\n        if (window._pyforest_update_imports_cell) { window._pyforest_update_imports_cell('from sklearn.ensemble import RandomForestClassifier\\nimport datetime as dt\\nfrom pathlib import Path\\nimport gensim\\nfrom sklearn.ensemble import GradientBoostingRegressor\\nfrom dask import dataframe as dd\\nimport plotly.express as px\\nimport tqdm\\nimport pickle\\nfrom openpyxl import load_workbook\\nfrom sklearn.preprocessing import OneHotEncoder\\nimport plotly.graph_objs as go\\nimport spacy\\nimport xgboost as xgb\\nimport plotly as py\\nimport sklearn\\nfrom sklearn.ensemble import RandomForestRegressor\\nimport matplotlib as mpl\\nimport bokeh\\nfrom sklearn.feature_extraction.text import TfidfVectorizer\\nimport seaborn as sns\\nimport glob\\nimport nltk\\nfrom sklearn.ensemble import GradientBoostingClassifier\\nimport statistics\\nfrom sklearn.model_selection import train_test_split\\nfrom sklearn.manifold import TSNE\\nfrom sklearn import svm\\nimport lightgbm as lgb'); }\n    "
     },
     "metadata": {}
    },
    {
     "output_type": "display_data",
     "data": {
      "text/plain": "<IPython.core.display.Javascript object>",
      "application/javascript": "\n        if (window._pyforest_update_imports_cell) { window._pyforest_update_imports_cell('from sklearn.ensemble import RandomForestClassifier\\nimport datetime as dt\\nfrom pathlib import Path\\nimport gensim\\nfrom sklearn.ensemble import GradientBoostingRegressor\\nfrom dask import dataframe as dd\\nimport plotly.express as px\\nimport tqdm\\nimport pickle\\nfrom openpyxl import load_workbook\\nfrom sklearn.preprocessing import OneHotEncoder\\nimport plotly.graph_objs as go\\nimport spacy\\nimport xgboost as xgb\\nimport plotly as py\\nimport sklearn\\nfrom sklearn.ensemble import RandomForestRegressor\\nimport matplotlib as mpl\\nimport bokeh\\nfrom sklearn.feature_extraction.text import TfidfVectorizer\\nimport seaborn as sns\\nimport glob\\nimport nltk\\nfrom sklearn.ensemble import GradientBoostingClassifier\\nimport statistics\\nfrom sklearn.model_selection import train_test_split\\nfrom sklearn.manifold import TSNE\\nfrom sklearn import svm\\nimport lightgbm as lgb'); }\n    "
     },
     "metadata": {}
    },
    {
     "output_type": "display_data",
     "data": {
      "text/plain": "<IPython.core.display.Javascript object>",
      "application/javascript": "\n        if (window._pyforest_update_imports_cell) { window._pyforest_update_imports_cell('from sklearn.ensemble import RandomForestClassifier\\nimport datetime as dt\\nfrom pathlib import Path\\nimport gensim\\nfrom sklearn.ensemble import GradientBoostingRegressor\\nfrom dask import dataframe as dd\\nimport plotly.express as px\\nimport tqdm\\nimport pickle\\nfrom openpyxl import load_workbook\\nfrom sklearn.preprocessing import OneHotEncoder\\nimport plotly.graph_objs as go\\nimport spacy\\nimport xgboost as xgb\\nimport plotly as py\\nimport sklearn\\nfrom sklearn.ensemble import RandomForestRegressor\\nimport matplotlib as mpl\\nimport bokeh\\nfrom sklearn.feature_extraction.text import TfidfVectorizer\\nimport seaborn as sns\\nimport glob\\nimport nltk\\nfrom sklearn.ensemble import GradientBoostingClassifier\\nimport statistics\\nfrom sklearn.model_selection import train_test_split\\nfrom sklearn.manifold import TSNE\\nfrom sklearn import svm\\nimport lightgbm as lgb'); }\n    "
     },
     "metadata": {}
    },
    {
     "output_type": "display_data",
     "data": {
      "text/plain": "<IPython.core.display.Javascript object>",
      "application/javascript": "\n        if (window._pyforest_update_imports_cell) { window._pyforest_update_imports_cell('from sklearn.ensemble import RandomForestClassifier\\nimport datetime as dt\\nfrom pathlib import Path\\nimport gensim\\nfrom sklearn.ensemble import GradientBoostingRegressor\\nfrom dask import dataframe as dd\\nimport plotly.express as px\\nimport tqdm\\nimport pickle\\nfrom openpyxl import load_workbook\\nfrom sklearn.preprocessing import OneHotEncoder\\nimport plotly.graph_objs as go\\nimport spacy\\nimport xgboost as xgb\\nimport plotly as py\\nimport sklearn\\nfrom sklearn.ensemble import RandomForestRegressor\\nimport matplotlib as mpl\\nimport bokeh\\nfrom sklearn.feature_extraction.text import TfidfVectorizer\\nimport seaborn as sns\\nimport glob\\nimport nltk\\nfrom sklearn.ensemble import GradientBoostingClassifier\\nimport statistics\\nfrom sklearn.model_selection import train_test_split\\nfrom sklearn.manifold import TSNE\\nfrom sklearn import svm\\nimport lightgbm as lgb'); }\n    "
     },
     "metadata": {}
    },
    {
     "output_type": "display_data",
     "data": {
      "text/plain": "<IPython.core.display.Javascript object>",
      "application/javascript": "\n        if (window._pyforest_update_imports_cell) { window._pyforest_update_imports_cell('from sklearn.ensemble import RandomForestClassifier\\nimport datetime as dt\\nfrom pathlib import Path\\nimport gensim\\nfrom sklearn.ensemble import GradientBoostingRegressor\\nfrom dask import dataframe as dd\\nimport plotly.express as px\\nimport tqdm\\nimport pickle\\nfrom openpyxl import load_workbook\\nfrom sklearn.preprocessing import OneHotEncoder\\nimport plotly.graph_objs as go\\nimport spacy\\nimport xgboost as xgb\\nimport plotly as py\\nimport sklearn\\nfrom sklearn.ensemble import RandomForestRegressor\\nimport matplotlib as mpl\\nimport bokeh\\nfrom sklearn.feature_extraction.text import TfidfVectorizer\\nimport seaborn as sns\\nimport glob\\nimport nltk\\nfrom sklearn.ensemble import GradientBoostingClassifier\\nimport statistics\\nfrom sklearn.model_selection import train_test_split\\nfrom sklearn.manifold import TSNE\\nfrom sklearn import svm\\nimport lightgbm as lgb'); }\n    "
     },
     "metadata": {}
    },
    {
     "output_type": "display_data",
     "data": {
      "text/plain": "<IPython.core.display.Javascript object>",
      "application/javascript": "\n        if (window._pyforest_update_imports_cell) { window._pyforest_update_imports_cell('from sklearn.ensemble import RandomForestClassifier\\nimport datetime as dt\\nfrom pathlib import Path\\nimport gensim\\nfrom sklearn.ensemble import GradientBoostingRegressor\\nfrom dask import dataframe as dd\\nimport plotly.express as px\\nimport tqdm\\nimport pickle\\nfrom openpyxl import load_workbook\\nfrom sklearn.preprocessing import OneHotEncoder\\nimport plotly.graph_objs as go\\nimport spacy\\nimport xgboost as xgb\\nimport plotly as py\\nimport sklearn\\nfrom sklearn.ensemble import RandomForestRegressor\\nimport matplotlib as mpl\\nimport bokeh\\nfrom sklearn.feature_extraction.text import TfidfVectorizer\\nimport seaborn as sns\\nimport glob\\nimport nltk\\nfrom sklearn.ensemble import GradientBoostingClassifier\\nimport statistics\\nfrom sklearn.model_selection import train_test_split\\nfrom sklearn.manifold import TSNE\\nfrom sklearn import svm\\nimport lightgbm as lgb'); }\n    "
     },
     "metadata": {}
    },
    {
     "output_type": "display_data",
     "data": {
      "text/plain": "<IPython.core.display.Javascript object>",
      "application/javascript": "\n        if (window._pyforest_update_imports_cell) { window._pyforest_update_imports_cell('from sklearn.ensemble import RandomForestClassifier\\nimport datetime as dt\\nfrom pathlib import Path\\nimport gensim\\nfrom sklearn.ensemble import GradientBoostingRegressor\\nfrom dask import dataframe as dd\\nimport plotly.express as px\\nimport tqdm\\nimport pickle\\nfrom openpyxl import load_workbook\\nfrom sklearn.preprocessing import OneHotEncoder\\nimport plotly.graph_objs as go\\nimport spacy\\nimport xgboost as xgb\\nimport plotly as py\\nimport sklearn\\nfrom sklearn.ensemble import RandomForestRegressor\\nimport matplotlib as mpl\\nimport bokeh\\nfrom sklearn.feature_extraction.text import TfidfVectorizer\\nimport seaborn as sns\\nimport glob\\nimport nltk\\nfrom sklearn.ensemble import GradientBoostingClassifier\\nimport statistics\\nfrom sklearn.model_selection import train_test_split\\nfrom sklearn.manifold import TSNE\\nfrom sklearn import svm\\nimport lightgbm as lgb'); }\n    "
     },
     "metadata": {}
    },
    {
     "output_type": "display_data",
     "data": {
      "text/plain": "<IPython.core.display.Javascript object>",
      "application/javascript": "\n        if (window._pyforest_update_imports_cell) { window._pyforest_update_imports_cell('from sklearn.ensemble import RandomForestClassifier\\nimport datetime as dt\\nfrom pathlib import Path\\nimport gensim\\nfrom sklearn.ensemble import GradientBoostingRegressor\\nfrom dask import dataframe as dd\\nimport plotly.express as px\\nimport tqdm\\nimport pickle\\nfrom openpyxl import load_workbook\\nfrom sklearn.preprocessing import OneHotEncoder\\nimport plotly.graph_objs as go\\nimport spacy\\nimport xgboost as xgb\\nimport plotly as py\\nimport sklearn\\nfrom sklearn.ensemble import RandomForestRegressor\\nimport matplotlib as mpl\\nimport bokeh\\nfrom sklearn.feature_extraction.text import TfidfVectorizer\\nimport seaborn as sns\\nimport glob\\nimport nltk\\nfrom sklearn.ensemble import GradientBoostingClassifier\\nimport statistics\\nfrom sklearn.model_selection import train_test_split\\nfrom sklearn.manifold import TSNE\\nfrom sklearn import svm\\nimport lightgbm as lgb'); }\n    "
     },
     "metadata": {}
    },
    {
     "output_type": "display_data",
     "data": {
      "text/plain": "<IPython.core.display.Javascript object>",
      "application/javascript": "\n        if (window._pyforest_update_imports_cell) { window._pyforest_update_imports_cell('from sklearn.ensemble import RandomForestClassifier\\nimport datetime as dt\\nfrom pathlib import Path\\nimport gensim\\nfrom sklearn.ensemble import GradientBoostingRegressor\\nfrom dask import dataframe as dd\\nimport plotly.express as px\\nimport tqdm\\nimport pickle\\nfrom openpyxl import load_workbook\\nfrom sklearn.preprocessing import OneHotEncoder\\nimport plotly.graph_objs as go\\nimport spacy\\nimport xgboost as xgb\\nimport plotly as py\\nimport sklearn\\nfrom sklearn.ensemble import RandomForestRegressor\\nimport matplotlib as mpl\\nimport bokeh\\nfrom sklearn.feature_extraction.text import TfidfVectorizer\\nimport seaborn as sns\\nimport glob\\nimport nltk\\nfrom sklearn.ensemble import GradientBoostingClassifier\\nimport statistics\\nfrom sklearn.model_selection import train_test_split\\nfrom sklearn.manifold import TSNE\\nfrom sklearn import svm\\nimport lightgbm as lgb'); }\n    "
     },
     "metadata": {}
    },
    {
     "output_type": "display_data",
     "data": {
      "text/plain": "<IPython.core.display.Javascript object>",
      "application/javascript": "\n        if (window._pyforest_update_imports_cell) { window._pyforest_update_imports_cell('from sklearn.ensemble import RandomForestClassifier\\nimport datetime as dt\\nfrom pathlib import Path\\nimport gensim\\nfrom sklearn.ensemble import GradientBoostingRegressor\\nfrom dask import dataframe as dd\\nimport plotly.express as px\\nimport tqdm\\nimport pickle\\nfrom openpyxl import load_workbook\\nfrom sklearn.preprocessing import OneHotEncoder\\nimport plotly.graph_objs as go\\nimport spacy\\nimport xgboost as xgb\\nimport plotly as py\\nimport sklearn\\nfrom sklearn.ensemble import RandomForestRegressor\\nimport matplotlib as mpl\\nimport bokeh\\nfrom sklearn.feature_extraction.text import TfidfVectorizer\\nimport seaborn as sns\\nimport glob\\nimport nltk\\nfrom sklearn.ensemble import GradientBoostingClassifier\\nimport statistics\\nfrom sklearn.model_selection import train_test_split\\nfrom sklearn.manifold import TSNE\\nfrom sklearn import svm\\nimport lightgbm as lgb'); }\n    "
     },
     "metadata": {}
    },
    {
     "output_type": "display_data",
     "data": {
      "text/plain": "<IPython.core.display.Javascript object>",
      "application/javascript": "\n        if (window._pyforest_update_imports_cell) { window._pyforest_update_imports_cell('from sklearn.ensemble import RandomForestClassifier\\nimport datetime as dt\\nfrom pathlib import Path\\nimport gensim\\nfrom sklearn.ensemble import GradientBoostingRegressor\\nfrom dask import dataframe as dd\\nimport plotly.express as px\\nimport tqdm\\nimport pickle\\nfrom openpyxl import load_workbook\\nfrom sklearn.preprocessing import OneHotEncoder\\nimport plotly.graph_objs as go\\nimport spacy\\nimport xgboost as xgb\\nimport plotly as py\\nimport sklearn\\nfrom sklearn.ensemble import RandomForestRegressor\\nimport matplotlib as mpl\\nimport bokeh\\nfrom sklearn.feature_extraction.text import TfidfVectorizer\\nimport seaborn as sns\\nimport glob\\nimport nltk\\nfrom sklearn.ensemble import GradientBoostingClassifier\\nimport statistics\\nfrom sklearn.model_selection import train_test_split\\nfrom sklearn.manifold import TSNE\\nfrom sklearn import svm\\nimport lightgbm as lgb'); }\n    "
     },
     "metadata": {}
    },
    {
     "output_type": "display_data",
     "data": {
      "text/plain": "<IPython.core.display.Javascript object>",
      "application/javascript": "\n        if (window._pyforest_update_imports_cell) { window._pyforest_update_imports_cell('from sklearn.ensemble import RandomForestClassifier\\nimport datetime as dt\\nfrom pathlib import Path\\nimport gensim\\nfrom sklearn.ensemble import GradientBoostingRegressor\\nfrom dask import dataframe as dd\\nimport plotly.express as px\\nimport tqdm\\nimport pickle\\nfrom openpyxl import load_workbook\\nfrom sklearn.preprocessing import OneHotEncoder\\nimport plotly.graph_objs as go\\nimport spacy\\nimport xgboost as xgb\\nimport plotly as py\\nimport sklearn\\nfrom sklearn.ensemble import RandomForestRegressor\\nimport matplotlib as mpl\\nimport bokeh\\nfrom sklearn.feature_extraction.text import TfidfVectorizer\\nimport seaborn as sns\\nimport glob\\nimport nltk\\nfrom sklearn.ensemble import GradientBoostingClassifier\\nimport statistics\\nfrom sklearn.model_selection import train_test_split\\nfrom sklearn.manifold import TSNE\\nfrom sklearn import svm\\nimport lightgbm as lgb'); }\n    "
     },
     "metadata": {}
    },
    {
     "output_type": "display_data",
     "data": {
      "text/plain": "<IPython.core.display.Javascript object>",
      "application/javascript": "\n        if (window._pyforest_update_imports_cell) { window._pyforest_update_imports_cell('from sklearn.ensemble import RandomForestClassifier\\nimport datetime as dt\\nfrom pathlib import Path\\nimport gensim\\nfrom sklearn.ensemble import GradientBoostingRegressor\\nfrom dask import dataframe as dd\\nimport plotly.express as px\\nimport tqdm\\nimport pickle\\nfrom openpyxl import load_workbook\\nfrom sklearn.preprocessing import OneHotEncoder\\nimport plotly.graph_objs as go\\nimport spacy\\nimport xgboost as xgb\\nimport plotly as py\\nimport sklearn\\nfrom sklearn.ensemble import RandomForestRegressor\\nimport matplotlib as mpl\\nimport bokeh\\nfrom sklearn.feature_extraction.text import TfidfVectorizer\\nimport seaborn as sns\\nimport glob\\nimport nltk\\nfrom sklearn.ensemble import GradientBoostingClassifier\\nimport statistics\\nfrom sklearn.model_selection import train_test_split\\nfrom sklearn.manifold import TSNE\\nfrom sklearn import svm\\nimport lightgbm as lgb'); }\n    "
     },
     "metadata": {}
    },
    {
     "output_type": "display_data",
     "data": {
      "text/plain": "<IPython.core.display.Javascript object>",
      "application/javascript": "\n        if (window._pyforest_update_imports_cell) { window._pyforest_update_imports_cell('from sklearn.ensemble import RandomForestClassifier\\nimport datetime as dt\\nfrom pathlib import Path\\nimport gensim\\nfrom sklearn.ensemble import GradientBoostingRegressor\\nfrom dask import dataframe as dd\\nimport plotly.express as px\\nimport tqdm\\nimport pickle\\nfrom openpyxl import load_workbook\\nfrom sklearn.preprocessing import OneHotEncoder\\nimport plotly.graph_objs as go\\nimport spacy\\nimport xgboost as xgb\\nimport plotly as py\\nimport sklearn\\nfrom sklearn.ensemble import RandomForestRegressor\\nimport matplotlib as mpl\\nimport bokeh\\nfrom sklearn.feature_extraction.text import TfidfVectorizer\\nimport seaborn as sns\\nimport glob\\nimport nltk\\nfrom sklearn.ensemble import GradientBoostingClassifier\\nimport statistics\\nfrom sklearn.model_selection import train_test_split\\nfrom sklearn.manifold import TSNE\\nfrom sklearn import svm\\nimport lightgbm as lgb'); }\n    "
     },
     "metadata": {}
    },
    {
     "output_type": "display_data",
     "data": {
      "text/plain": "<IPython.core.display.Javascript object>",
      "application/javascript": "\n        if (window._pyforest_update_imports_cell) { window._pyforest_update_imports_cell('from sklearn.ensemble import RandomForestClassifier\\nimport datetime as dt\\nfrom pathlib import Path\\nimport gensim\\nfrom sklearn.ensemble import GradientBoostingRegressor\\nfrom dask import dataframe as dd\\nimport plotly.express as px\\nimport tqdm\\nimport pickle\\nfrom openpyxl import load_workbook\\nfrom sklearn.preprocessing import OneHotEncoder\\nimport plotly.graph_objs as go\\nimport spacy\\nimport xgboost as xgb\\nimport plotly as py\\nimport sklearn\\nfrom sklearn.ensemble import RandomForestRegressor\\nimport matplotlib as mpl\\nimport bokeh\\nfrom sklearn.feature_extraction.text import TfidfVectorizer\\nimport seaborn as sns\\nimport glob\\nimport nltk\\nfrom sklearn.ensemble import GradientBoostingClassifier\\nimport statistics\\nfrom sklearn.model_selection import train_test_split\\nfrom sklearn.manifold import TSNE\\nfrom sklearn import svm\\nimport lightgbm as lgb'); }\n    "
     },
     "metadata": {}
    },
    {
     "output_type": "display_data",
     "data": {
      "text/plain": "<IPython.core.display.Javascript object>",
      "application/javascript": "\n        if (window._pyforest_update_imports_cell) { window._pyforest_update_imports_cell('from sklearn.ensemble import RandomForestClassifier\\nimport datetime as dt\\nfrom pathlib import Path\\nimport gensim\\nfrom sklearn.ensemble import GradientBoostingRegressor\\nfrom dask import dataframe as dd\\nimport plotly.express as px\\nimport tqdm\\nimport pickle\\nfrom openpyxl import load_workbook\\nfrom sklearn.preprocessing import OneHotEncoder\\nimport plotly.graph_objs as go\\nimport spacy\\nimport xgboost as xgb\\nimport plotly as py\\nimport sklearn\\nfrom sklearn.ensemble import RandomForestRegressor\\nimport matplotlib as mpl\\nimport bokeh\\nfrom sklearn.feature_extraction.text import TfidfVectorizer\\nimport seaborn as sns\\nimport glob\\nimport nltk\\nfrom sklearn.ensemble import GradientBoostingClassifier\\nimport statistics\\nfrom sklearn.model_selection import train_test_split\\nfrom sklearn.manifold import TSNE\\nfrom sklearn import svm\\nimport lightgbm as lgb'); }\n    "
     },
     "metadata": {}
    },
    {
     "output_type": "display_data",
     "data": {
      "text/plain": "<IPython.core.display.Javascript object>",
      "application/javascript": "\n        if (window._pyforest_update_imports_cell) { window._pyforest_update_imports_cell('from sklearn.ensemble import RandomForestClassifier\\nimport datetime as dt\\nfrom pathlib import Path\\nimport gensim\\nfrom sklearn.ensemble import GradientBoostingRegressor\\nfrom dask import dataframe as dd\\nimport plotly.express as px\\nimport tqdm\\nimport pickle\\nfrom openpyxl import load_workbook\\nfrom sklearn.preprocessing import OneHotEncoder\\nimport plotly.graph_objs as go\\nimport spacy\\nimport xgboost as xgb\\nimport plotly as py\\nimport sklearn\\nfrom sklearn.ensemble import RandomForestRegressor\\nimport matplotlib as mpl\\nimport bokeh\\nfrom sklearn.feature_extraction.text import TfidfVectorizer\\nimport seaborn as sns\\nimport glob\\nimport nltk\\nfrom sklearn.ensemble import GradientBoostingClassifier\\nimport statistics\\nfrom sklearn.model_selection import train_test_split\\nfrom sklearn.manifold import TSNE\\nfrom sklearn import svm\\nimport lightgbm as lgb'); }\n    "
     },
     "metadata": {}
    },
    {
     "output_type": "display_data",
     "data": {
      "text/plain": "<IPython.core.display.Javascript object>",
      "application/javascript": "\n        if (window._pyforest_update_imports_cell) { window._pyforest_update_imports_cell('from sklearn.ensemble import RandomForestClassifier\\nimport datetime as dt\\nfrom pathlib import Path\\nimport gensim\\nfrom sklearn.ensemble import GradientBoostingRegressor\\nfrom dask import dataframe as dd\\nimport plotly.express as px\\nimport tqdm\\nimport pickle\\nfrom openpyxl import load_workbook\\nfrom sklearn.preprocessing import OneHotEncoder\\nimport plotly.graph_objs as go\\nimport spacy\\nimport xgboost as xgb\\nimport plotly as py\\nimport sklearn\\nfrom sklearn.ensemble import RandomForestRegressor\\nimport matplotlib as mpl\\nimport bokeh\\nfrom sklearn.feature_extraction.text import TfidfVectorizer\\nimport seaborn as sns\\nimport glob\\nimport nltk\\nfrom sklearn.ensemble import GradientBoostingClassifier\\nimport statistics\\nfrom sklearn.model_selection import train_test_split\\nfrom sklearn.manifold import TSNE\\nfrom sklearn import svm\\nimport lightgbm as lgb'); }\n    "
     },
     "metadata": {}
    },
    {
     "output_type": "display_data",
     "data": {
      "text/plain": "<IPython.core.display.Javascript object>",
      "application/javascript": "\n        if (window._pyforest_update_imports_cell) { window._pyforest_update_imports_cell('from sklearn.ensemble import RandomForestClassifier\\nimport datetime as dt\\nfrom pathlib import Path\\nimport gensim\\nfrom sklearn.ensemble import GradientBoostingRegressor\\nfrom dask import dataframe as dd\\nimport plotly.express as px\\nimport tqdm\\nimport pickle\\nfrom openpyxl import load_workbook\\nfrom sklearn.preprocessing import OneHotEncoder\\nimport plotly.graph_objs as go\\nimport spacy\\nimport xgboost as xgb\\nimport plotly as py\\nimport sklearn\\nfrom sklearn.ensemble import RandomForestRegressor\\nimport matplotlib as mpl\\nimport bokeh\\nfrom sklearn.feature_extraction.text import TfidfVectorizer\\nimport seaborn as sns\\nimport glob\\nimport nltk\\nfrom sklearn.ensemble import GradientBoostingClassifier\\nimport statistics\\nfrom sklearn.model_selection import train_test_split\\nfrom sklearn.manifold import TSNE\\nfrom sklearn import svm\\nimport lightgbm as lgb'); }\n    "
     },
     "metadata": {}
    },
    {
     "output_type": "display_data",
     "data": {
      "text/plain": "<IPython.core.display.Javascript object>",
      "application/javascript": "\n        if (window._pyforest_update_imports_cell) { window._pyforest_update_imports_cell('from sklearn.ensemble import RandomForestClassifier\\nimport datetime as dt\\nfrom pathlib import Path\\nimport gensim\\nfrom sklearn.ensemble import GradientBoostingRegressor\\nfrom dask import dataframe as dd\\nimport plotly.express as px\\nimport tqdm\\nimport pickle\\nfrom openpyxl import load_workbook\\nfrom sklearn.preprocessing import OneHotEncoder\\nimport plotly.graph_objs as go\\nimport spacy\\nimport xgboost as xgb\\nimport plotly as py\\nimport sklearn\\nfrom sklearn.ensemble import RandomForestRegressor\\nimport matplotlib as mpl\\nimport bokeh\\nfrom sklearn.feature_extraction.text import TfidfVectorizer\\nimport seaborn as sns\\nimport glob\\nimport nltk\\nfrom sklearn.ensemble import GradientBoostingClassifier\\nimport statistics\\nfrom sklearn.model_selection import train_test_split\\nfrom sklearn.manifold import TSNE\\nfrom sklearn import svm\\nimport lightgbm as lgb'); }\n    "
     },
     "metadata": {}
    },
    {
     "output_type": "display_data",
     "data": {
      "text/plain": "<IPython.core.display.Javascript object>",
      "application/javascript": "\n        if (window._pyforest_update_imports_cell) { window._pyforest_update_imports_cell('from sklearn.ensemble import RandomForestClassifier\\nimport datetime as dt\\nfrom pathlib import Path\\nimport gensim\\nfrom sklearn.ensemble import GradientBoostingRegressor\\nfrom dask import dataframe as dd\\nimport plotly.express as px\\nimport tqdm\\nimport pickle\\nfrom openpyxl import load_workbook\\nfrom sklearn.preprocessing import OneHotEncoder\\nimport plotly.graph_objs as go\\nimport spacy\\nimport xgboost as xgb\\nimport plotly as py\\nimport sklearn\\nfrom sklearn.ensemble import RandomForestRegressor\\nimport matplotlib as mpl\\nimport bokeh\\nfrom sklearn.feature_extraction.text import TfidfVectorizer\\nimport seaborn as sns\\nimport glob\\nimport nltk\\nfrom sklearn.ensemble import GradientBoostingClassifier\\nimport statistics\\nfrom sklearn.model_selection import train_test_split\\nfrom sklearn.manifold import TSNE\\nfrom sklearn import svm\\nimport lightgbm as lgb'); }\n    "
     },
     "metadata": {}
    },
    {
     "output_type": "display_data",
     "data": {
      "text/plain": "<IPython.core.display.Javascript object>",
      "application/javascript": "\n        if (window._pyforest_update_imports_cell) { window._pyforest_update_imports_cell('from sklearn.ensemble import RandomForestClassifier\\nimport datetime as dt\\nfrom pathlib import Path\\nimport gensim\\nfrom sklearn.ensemble import GradientBoostingRegressor\\nfrom dask import dataframe as dd\\nimport plotly.express as px\\nimport tqdm\\nimport pickle\\nfrom openpyxl import load_workbook\\nfrom sklearn.preprocessing import OneHotEncoder\\nimport plotly.graph_objs as go\\nimport spacy\\nimport xgboost as xgb\\nimport plotly as py\\nimport sklearn\\nfrom sklearn.ensemble import RandomForestRegressor\\nimport matplotlib as mpl\\nimport bokeh\\nfrom sklearn.feature_extraction.text import TfidfVectorizer\\nimport seaborn as sns\\nimport glob\\nimport nltk\\nfrom sklearn.ensemble import GradientBoostingClassifier\\nimport statistics\\nfrom sklearn.model_selection import train_test_split\\nfrom sklearn.manifold import TSNE\\nfrom sklearn import svm\\nimport lightgbm as lgb'); }\n    "
     },
     "metadata": {}
    },
    {
     "output_type": "display_data",
     "data": {
      "text/plain": "<IPython.core.display.Javascript object>",
      "application/javascript": "\n        if (window._pyforest_update_imports_cell) { window._pyforest_update_imports_cell('from sklearn.ensemble import RandomForestClassifier\\nimport datetime as dt\\nfrom pathlib import Path\\nimport gensim\\nfrom sklearn.ensemble import GradientBoostingRegressor\\nfrom dask import dataframe as dd\\nimport plotly.express as px\\nimport tqdm\\nimport pickle\\nfrom openpyxl import load_workbook\\nfrom sklearn.preprocessing import OneHotEncoder\\nimport plotly.graph_objs as go\\nimport spacy\\nimport xgboost as xgb\\nimport plotly as py\\nimport sklearn\\nfrom sklearn.ensemble import RandomForestRegressor\\nimport matplotlib as mpl\\nimport bokeh\\nfrom sklearn.feature_extraction.text import TfidfVectorizer\\nimport seaborn as sns\\nimport glob\\nimport nltk\\nfrom sklearn.ensemble import GradientBoostingClassifier\\nimport statistics\\nfrom sklearn.model_selection import train_test_split\\nfrom sklearn.manifold import TSNE\\nfrom sklearn import svm\\nimport lightgbm as lgb'); }\n    "
     },
     "metadata": {}
    },
    {
     "output_type": "display_data",
     "data": {
      "text/plain": "<IPython.core.display.Javascript object>",
      "application/javascript": "\n        if (window._pyforest_update_imports_cell) { window._pyforest_update_imports_cell('from sklearn.ensemble import RandomForestClassifier\\nimport datetime as dt\\nfrom pathlib import Path\\nimport gensim\\nfrom sklearn.ensemble import GradientBoostingRegressor\\nfrom dask import dataframe as dd\\nimport plotly.express as px\\nimport tqdm\\nimport pickle\\nfrom openpyxl import load_workbook\\nfrom sklearn.preprocessing import OneHotEncoder\\nimport plotly.graph_objs as go\\nimport spacy\\nimport xgboost as xgb\\nimport plotly as py\\nimport sklearn\\nfrom sklearn.ensemble import RandomForestRegressor\\nimport matplotlib as mpl\\nimport bokeh\\nfrom sklearn.feature_extraction.text import TfidfVectorizer\\nimport seaborn as sns\\nimport glob\\nimport nltk\\nfrom sklearn.ensemble import GradientBoostingClassifier\\nimport statistics\\nfrom sklearn.model_selection import train_test_split\\nfrom sklearn.manifold import TSNE\\nfrom sklearn import svm\\nimport lightgbm as lgb'); }\n    "
     },
     "metadata": {}
    },
    {
     "output_type": "display_data",
     "data": {
      "text/plain": "<IPython.core.display.Javascript object>",
      "application/javascript": "\n        if (window._pyforest_update_imports_cell) { window._pyforest_update_imports_cell('from sklearn.ensemble import RandomForestClassifier\\nimport datetime as dt\\nfrom pathlib import Path\\nimport gensim\\nfrom sklearn.ensemble import GradientBoostingRegressor\\nfrom dask import dataframe as dd\\nimport plotly.express as px\\nimport tqdm\\nimport pickle\\nfrom openpyxl import load_workbook\\nfrom sklearn.preprocessing import OneHotEncoder\\nimport plotly.graph_objs as go\\nimport spacy\\nimport xgboost as xgb\\nimport plotly as py\\nimport sklearn\\nfrom sklearn.ensemble import RandomForestRegressor\\nimport matplotlib as mpl\\nimport bokeh\\nfrom sklearn.feature_extraction.text import TfidfVectorizer\\nimport seaborn as sns\\nimport glob\\nimport nltk\\nfrom sklearn.ensemble import GradientBoostingClassifier\\nimport statistics\\nfrom sklearn.model_selection import train_test_split\\nfrom sklearn.manifold import TSNE\\nfrom sklearn import svm\\nimport lightgbm as lgb'); }\n    "
     },
     "metadata": {}
    },
    {
     "output_type": "display_data",
     "data": {
      "text/plain": "<IPython.core.display.Javascript object>",
      "application/javascript": "\n        if (window._pyforest_update_imports_cell) { window._pyforest_update_imports_cell('from sklearn.ensemble import RandomForestClassifier\\nimport datetime as dt\\nfrom pathlib import Path\\nimport gensim\\nfrom sklearn.ensemble import GradientBoostingRegressor\\nfrom dask import dataframe as dd\\nimport plotly.express as px\\nimport tqdm\\nimport pickle\\nfrom openpyxl import load_workbook\\nfrom sklearn.preprocessing import OneHotEncoder\\nimport plotly.graph_objs as go\\nimport spacy\\nimport xgboost as xgb\\nimport plotly as py\\nimport sklearn\\nfrom sklearn.ensemble import RandomForestRegressor\\nimport matplotlib as mpl\\nimport bokeh\\nfrom sklearn.feature_extraction.text import TfidfVectorizer\\nimport seaborn as sns\\nimport glob\\nimport nltk\\nfrom sklearn.ensemble import GradientBoostingClassifier\\nimport statistics\\nfrom sklearn.model_selection import train_test_split\\nfrom sklearn.manifold import TSNE\\nfrom sklearn import svm\\nimport lightgbm as lgb'); }\n    "
     },
     "metadata": {}
    },
    {
     "output_type": "display_data",
     "data": {
      "text/plain": "<IPython.core.display.Javascript object>",
      "application/javascript": "\n        if (window._pyforest_update_imports_cell) { window._pyforest_update_imports_cell('from sklearn.ensemble import RandomForestClassifier\\nimport datetime as dt\\nfrom pathlib import Path\\nimport gensim\\nfrom sklearn.ensemble import GradientBoostingRegressor\\nfrom dask import dataframe as dd\\nimport plotly.express as px\\nimport tqdm\\nimport pickle\\nfrom openpyxl import load_workbook\\nfrom sklearn.preprocessing import OneHotEncoder\\nimport plotly.graph_objs as go\\nimport spacy\\nimport xgboost as xgb\\nimport plotly as py\\nimport sklearn\\nfrom sklearn.ensemble import RandomForestRegressor\\nimport matplotlib as mpl\\nimport bokeh\\nfrom sklearn.feature_extraction.text import TfidfVectorizer\\nimport seaborn as sns\\nimport glob\\nimport nltk\\nfrom sklearn.ensemble import GradientBoostingClassifier\\nimport statistics\\nfrom sklearn.model_selection import train_test_split\\nfrom sklearn.manifold import TSNE\\nfrom sklearn import svm\\nimport lightgbm as lgb'); }\n    "
     },
     "metadata": {}
    },
    {
     "output_type": "display_data",
     "data": {
      "text/plain": "<IPython.core.display.Javascript object>",
      "application/javascript": "\n        if (window._pyforest_update_imports_cell) { window._pyforest_update_imports_cell('from sklearn.ensemble import RandomForestClassifier\\nimport datetime as dt\\nfrom pathlib import Path\\nimport gensim\\nfrom sklearn.ensemble import GradientBoostingRegressor\\nfrom dask import dataframe as dd\\nimport plotly.express as px\\nimport tqdm\\nimport pickle\\nfrom openpyxl import load_workbook\\nfrom sklearn.preprocessing import OneHotEncoder\\nimport plotly.graph_objs as go\\nimport spacy\\nimport xgboost as xgb\\nimport plotly as py\\nimport sklearn\\nfrom sklearn.ensemble import RandomForestRegressor\\nimport matplotlib as mpl\\nimport bokeh\\nfrom sklearn.feature_extraction.text import TfidfVectorizer\\nimport seaborn as sns\\nimport glob\\nimport nltk\\nfrom sklearn.ensemble import GradientBoostingClassifier\\nimport statistics\\nfrom sklearn.model_selection import train_test_split\\nfrom sklearn.manifold import TSNE\\nfrom sklearn import svm\\nimport lightgbm as lgb'); }\n    "
     },
     "metadata": {}
    },
    {
     "output_type": "display_data",
     "data": {
      "text/plain": "<IPython.core.display.Javascript object>",
      "application/javascript": "\n        if (window._pyforest_update_imports_cell) { window._pyforest_update_imports_cell('from sklearn.ensemble import RandomForestClassifier\\nimport datetime as dt\\nfrom pathlib import Path\\nimport gensim\\nfrom sklearn.ensemble import GradientBoostingRegressor\\nfrom dask import dataframe as dd\\nimport plotly.express as px\\nimport tqdm\\nimport pickle\\nfrom openpyxl import load_workbook\\nfrom sklearn.preprocessing import OneHotEncoder\\nimport plotly.graph_objs as go\\nimport spacy\\nimport xgboost as xgb\\nimport plotly as py\\nimport sklearn\\nfrom sklearn.ensemble import RandomForestRegressor\\nimport matplotlib as mpl\\nimport bokeh\\nfrom sklearn.feature_extraction.text import TfidfVectorizer\\nimport seaborn as sns\\nimport glob\\nimport nltk\\nfrom sklearn.ensemble import GradientBoostingClassifier\\nimport statistics\\nfrom sklearn.model_selection import train_test_split\\nfrom sklearn.manifold import TSNE\\nfrom sklearn import svm\\nimport lightgbm as lgb'); }\n    "
     },
     "metadata": {}
    },
    {
     "output_type": "display_data",
     "data": {
      "text/plain": "<IPython.core.display.Javascript object>",
      "application/javascript": "\n        if (window._pyforest_update_imports_cell) { window._pyforest_update_imports_cell('from sklearn.ensemble import RandomForestClassifier\\nimport datetime as dt\\nfrom pathlib import Path\\nimport gensim\\nfrom sklearn.ensemble import GradientBoostingRegressor\\nfrom dask import dataframe as dd\\nimport plotly.express as px\\nimport tqdm\\nimport pickle\\nfrom openpyxl import load_workbook\\nfrom sklearn.preprocessing import OneHotEncoder\\nimport plotly.graph_objs as go\\nimport spacy\\nimport xgboost as xgb\\nimport plotly as py\\nimport sklearn\\nfrom sklearn.ensemble import RandomForestRegressor\\nimport matplotlib as mpl\\nimport bokeh\\nfrom sklearn.feature_extraction.text import TfidfVectorizer\\nimport seaborn as sns\\nimport glob\\nimport nltk\\nfrom sklearn.ensemble import GradientBoostingClassifier\\nimport statistics\\nfrom sklearn.model_selection import train_test_split\\nfrom sklearn.manifold import TSNE\\nfrom sklearn import svm\\nimport lightgbm as lgb'); }\n    "
     },
     "metadata": {}
    },
    {
     "output_type": "display_data",
     "data": {
      "text/plain": "<IPython.core.display.Javascript object>",
      "application/javascript": "\n        if (window._pyforest_update_imports_cell) { window._pyforest_update_imports_cell('from sklearn.ensemble import RandomForestClassifier\\nimport datetime as dt\\nfrom pathlib import Path\\nimport gensim\\nfrom sklearn.ensemble import GradientBoostingRegressor\\nfrom dask import dataframe as dd\\nimport plotly.express as px\\nimport tqdm\\nimport pickle\\nfrom openpyxl import load_workbook\\nfrom sklearn.preprocessing import OneHotEncoder\\nimport plotly.graph_objs as go\\nimport spacy\\nimport xgboost as xgb\\nimport plotly as py\\nimport sklearn\\nfrom sklearn.ensemble import RandomForestRegressor\\nimport matplotlib as mpl\\nimport bokeh\\nfrom sklearn.feature_extraction.text import TfidfVectorizer\\nimport seaborn as sns\\nimport glob\\nimport nltk\\nfrom sklearn.ensemble import GradientBoostingClassifier\\nimport statistics\\nfrom sklearn.model_selection import train_test_split\\nfrom sklearn.manifold import TSNE\\nfrom sklearn import svm\\nimport lightgbm as lgb'); }\n    "
     },
     "metadata": {}
    },
    {
     "output_type": "display_data",
     "data": {
      "text/plain": "<IPython.core.display.Javascript object>",
      "application/javascript": "\n        if (window._pyforest_update_imports_cell) { window._pyforest_update_imports_cell('from sklearn.ensemble import RandomForestClassifier\\nimport datetime as dt\\nfrom pathlib import Path\\nimport gensim\\nfrom sklearn.ensemble import GradientBoostingRegressor\\nfrom dask import dataframe as dd\\nimport plotly.express as px\\nimport tqdm\\nimport pickle\\nfrom openpyxl import load_workbook\\nfrom sklearn.preprocessing import OneHotEncoder\\nimport plotly.graph_objs as go\\nimport spacy\\nimport xgboost as xgb\\nimport plotly as py\\nimport sklearn\\nfrom sklearn.ensemble import RandomForestRegressor\\nimport matplotlib as mpl\\nimport bokeh\\nfrom sklearn.feature_extraction.text import TfidfVectorizer\\nimport seaborn as sns\\nimport glob\\nimport nltk\\nfrom sklearn.ensemble import GradientBoostingClassifier\\nimport statistics\\nfrom sklearn.model_selection import train_test_split\\nfrom sklearn.manifold import TSNE\\nfrom sklearn import svm\\nimport lightgbm as lgb'); }\n    "
     },
     "metadata": {}
    },
    {
     "output_type": "display_data",
     "data": {
      "text/plain": "<IPython.core.display.Javascript object>",
      "application/javascript": "\n        if (window._pyforest_update_imports_cell) { window._pyforest_update_imports_cell('from sklearn.ensemble import RandomForestClassifier\\nimport datetime as dt\\nfrom pathlib import Path\\nimport gensim\\nfrom sklearn.ensemble import GradientBoostingRegressor\\nfrom dask import dataframe as dd\\nimport plotly.express as px\\nimport tqdm\\nimport pickle\\nfrom openpyxl import load_workbook\\nfrom sklearn.preprocessing import OneHotEncoder\\nimport plotly.graph_objs as go\\nimport spacy\\nimport xgboost as xgb\\nimport plotly as py\\nimport sklearn\\nfrom sklearn.ensemble import RandomForestRegressor\\nimport matplotlib as mpl\\nimport bokeh\\nfrom sklearn.feature_extraction.text import TfidfVectorizer\\nimport seaborn as sns\\nimport glob\\nimport nltk\\nfrom sklearn.ensemble import GradientBoostingClassifier\\nimport statistics\\nfrom sklearn.model_selection import train_test_split\\nfrom sklearn.manifold import TSNE\\nfrom sklearn import svm\\nimport lightgbm as lgb'); }\n    "
     },
     "metadata": {}
    },
    {
     "output_type": "display_data",
     "data": {
      "text/plain": "<IPython.core.display.Javascript object>",
      "application/javascript": "\n        if (window._pyforest_update_imports_cell) { window._pyforest_update_imports_cell('from sklearn.ensemble import RandomForestClassifier\\nimport datetime as dt\\nfrom pathlib import Path\\nimport gensim\\nfrom sklearn.ensemble import GradientBoostingRegressor\\nfrom dask import dataframe as dd\\nimport plotly.express as px\\nimport tqdm\\nimport pickle\\nfrom openpyxl import load_workbook\\nfrom sklearn.preprocessing import OneHotEncoder\\nimport plotly.graph_objs as go\\nimport spacy\\nimport xgboost as xgb\\nimport plotly as py\\nimport sklearn\\nfrom sklearn.ensemble import RandomForestRegressor\\nimport matplotlib as mpl\\nimport bokeh\\nfrom sklearn.feature_extraction.text import TfidfVectorizer\\nimport seaborn as sns\\nimport glob\\nimport nltk\\nfrom sklearn.ensemble import GradientBoostingClassifier\\nimport statistics\\nfrom sklearn.model_selection import train_test_split\\nfrom sklearn.manifold import TSNE\\nfrom sklearn import svm\\nimport lightgbm as lgb'); }\n    "
     },
     "metadata": {}
    },
    {
     "output_type": "display_data",
     "data": {
      "text/plain": "<IPython.core.display.Javascript object>",
      "application/javascript": "\n        if (window._pyforest_update_imports_cell) { window._pyforest_update_imports_cell('from sklearn.ensemble import RandomForestClassifier\\nimport datetime as dt\\nfrom pathlib import Path\\nimport gensim\\nfrom sklearn.ensemble import GradientBoostingRegressor\\nfrom dask import dataframe as dd\\nimport plotly.express as px\\nimport tqdm\\nimport pickle\\nfrom openpyxl import load_workbook\\nfrom sklearn.preprocessing import OneHotEncoder\\nimport plotly.graph_objs as go\\nimport spacy\\nimport xgboost as xgb\\nimport plotly as py\\nimport sklearn\\nfrom sklearn.ensemble import RandomForestRegressor\\nimport matplotlib as mpl\\nimport bokeh\\nfrom sklearn.feature_extraction.text import TfidfVectorizer\\nimport seaborn as sns\\nimport glob\\nimport nltk\\nfrom sklearn.ensemble import GradientBoostingClassifier\\nimport statistics\\nfrom sklearn.model_selection import train_test_split\\nfrom sklearn.manifold import TSNE\\nfrom sklearn import svm\\nimport lightgbm as lgb'); }\n    "
     },
     "metadata": {}
    },
    {
     "output_type": "display_data",
     "data": {
      "text/plain": "<IPython.core.display.Javascript object>",
      "application/javascript": "\n        if (window._pyforest_update_imports_cell) { window._pyforest_update_imports_cell('from sklearn.ensemble import RandomForestClassifier\\nimport datetime as dt\\nfrom pathlib import Path\\nimport gensim\\nfrom sklearn.ensemble import GradientBoostingRegressor\\nfrom dask import dataframe as dd\\nimport plotly.express as px\\nimport tqdm\\nimport pickle\\nfrom openpyxl import load_workbook\\nfrom sklearn.preprocessing import OneHotEncoder\\nimport plotly.graph_objs as go\\nimport spacy\\nimport xgboost as xgb\\nimport plotly as py\\nimport sklearn\\nfrom sklearn.ensemble import RandomForestRegressor\\nimport matplotlib as mpl\\nimport bokeh\\nfrom sklearn.feature_extraction.text import TfidfVectorizer\\nimport seaborn as sns\\nimport glob\\nimport nltk\\nfrom sklearn.ensemble import GradientBoostingClassifier\\nimport statistics\\nfrom sklearn.model_selection import train_test_split\\nfrom sklearn.manifold import TSNE\\nfrom sklearn import svm\\nimport lightgbm as lgb'); }\n    "
     },
     "metadata": {}
    },
    {
     "output_type": "display_data",
     "data": {
      "text/plain": "<IPython.core.display.Javascript object>",
      "application/javascript": "\n        if (window._pyforest_update_imports_cell) { window._pyforest_update_imports_cell('from sklearn.ensemble import RandomForestClassifier\\nimport datetime as dt\\nfrom pathlib import Path\\nimport gensim\\nfrom sklearn.ensemble import GradientBoostingRegressor\\nfrom dask import dataframe as dd\\nimport plotly.express as px\\nimport tqdm\\nimport pickle\\nfrom openpyxl import load_workbook\\nfrom sklearn.preprocessing import OneHotEncoder\\nimport plotly.graph_objs as go\\nimport spacy\\nimport xgboost as xgb\\nimport plotly as py\\nimport sklearn\\nfrom sklearn.ensemble import RandomForestRegressor\\nimport matplotlib as mpl\\nimport bokeh\\nfrom sklearn.feature_extraction.text import TfidfVectorizer\\nimport seaborn as sns\\nimport glob\\nimport nltk\\nfrom sklearn.ensemble import GradientBoostingClassifier\\nimport statistics\\nfrom sklearn.model_selection import train_test_split\\nfrom sklearn.manifold import TSNE\\nfrom sklearn import svm\\nimport lightgbm as lgb'); }\n    "
     },
     "metadata": {}
    },
    {
     "output_type": "display_data",
     "data": {
      "text/plain": "<IPython.core.display.Javascript object>",
      "application/javascript": "\n        if (window._pyforest_update_imports_cell) { window._pyforest_update_imports_cell('from sklearn.ensemble import RandomForestClassifier\\nimport datetime as dt\\nfrom pathlib import Path\\nimport gensim\\nfrom sklearn.ensemble import GradientBoostingRegressor\\nfrom dask import dataframe as dd\\nimport plotly.express as px\\nimport tqdm\\nimport pickle\\nfrom openpyxl import load_workbook\\nfrom sklearn.preprocessing import OneHotEncoder\\nimport plotly.graph_objs as go\\nimport spacy\\nimport xgboost as xgb\\nimport plotly as py\\nimport sklearn\\nfrom sklearn.ensemble import RandomForestRegressor\\nimport matplotlib as mpl\\nimport bokeh\\nfrom sklearn.feature_extraction.text import TfidfVectorizer\\nimport seaborn as sns\\nimport glob\\nimport nltk\\nfrom sklearn.ensemble import GradientBoostingClassifier\\nimport statistics\\nfrom sklearn.model_selection import train_test_split\\nfrom sklearn.manifold import TSNE\\nfrom sklearn import svm\\nimport lightgbm as lgb'); }\n    "
     },
     "metadata": {}
    },
    {
     "output_type": "display_data",
     "data": {
      "text/plain": "<IPython.core.display.Javascript object>",
      "application/javascript": "\n        if (window._pyforest_update_imports_cell) { window._pyforest_update_imports_cell('from sklearn.ensemble import RandomForestClassifier\\nimport datetime as dt\\nfrom pathlib import Path\\nimport gensim\\nfrom sklearn.ensemble import GradientBoostingRegressor\\nfrom dask import dataframe as dd\\nimport plotly.express as px\\nimport tqdm\\nimport pickle\\nfrom openpyxl import load_workbook\\nfrom sklearn.preprocessing import OneHotEncoder\\nimport plotly.graph_objs as go\\nimport spacy\\nimport xgboost as xgb\\nimport plotly as py\\nimport sklearn\\nfrom sklearn.ensemble import RandomForestRegressor\\nimport matplotlib as mpl\\nimport bokeh\\nfrom sklearn.feature_extraction.text import TfidfVectorizer\\nimport seaborn as sns\\nimport glob\\nimport nltk\\nfrom sklearn.ensemble import GradientBoostingClassifier\\nimport statistics\\nfrom sklearn.model_selection import train_test_split\\nfrom sklearn.manifold import TSNE\\nfrom sklearn import svm\\nimport lightgbm as lgb'); }\n    "
     },
     "metadata": {}
    },
    {
     "output_type": "display_data",
     "data": {
      "text/plain": "<IPython.core.display.Javascript object>",
      "application/javascript": "\n        if (window._pyforest_update_imports_cell) { window._pyforest_update_imports_cell('from sklearn.ensemble import RandomForestClassifier\\nimport datetime as dt\\nfrom pathlib import Path\\nimport gensim\\nfrom sklearn.ensemble import GradientBoostingRegressor\\nfrom dask import dataframe as dd\\nimport plotly.express as px\\nimport tqdm\\nimport pickle\\nfrom openpyxl import load_workbook\\nfrom sklearn.preprocessing import OneHotEncoder\\nimport plotly.graph_objs as go\\nimport spacy\\nimport xgboost as xgb\\nimport plotly as py\\nimport sklearn\\nfrom sklearn.ensemble import RandomForestRegressor\\nimport matplotlib as mpl\\nimport bokeh\\nfrom sklearn.feature_extraction.text import TfidfVectorizer\\nimport seaborn as sns\\nimport glob\\nimport nltk\\nfrom sklearn.ensemble import GradientBoostingClassifier\\nimport statistics\\nfrom sklearn.model_selection import train_test_split\\nfrom sklearn.manifold import TSNE\\nfrom sklearn import svm\\nimport lightgbm as lgb'); }\n    "
     },
     "metadata": {}
    },
    {
     "output_type": "display_data",
     "data": {
      "text/plain": "<IPython.core.display.Javascript object>",
      "application/javascript": "\n        if (window._pyforest_update_imports_cell) { window._pyforest_update_imports_cell('from sklearn.ensemble import RandomForestClassifier\\nimport datetime as dt\\nfrom pathlib import Path\\nimport gensim\\nfrom sklearn.ensemble import GradientBoostingRegressor\\nfrom dask import dataframe as dd\\nimport plotly.express as px\\nimport tqdm\\nimport pickle\\nfrom openpyxl import load_workbook\\nfrom sklearn.preprocessing import OneHotEncoder\\nimport plotly.graph_objs as go\\nimport spacy\\nimport xgboost as xgb\\nimport plotly as py\\nimport sklearn\\nfrom sklearn.ensemble import RandomForestRegressor\\nimport matplotlib as mpl\\nimport bokeh\\nfrom sklearn.feature_extraction.text import TfidfVectorizer\\nimport seaborn as sns\\nimport glob\\nimport nltk\\nfrom sklearn.ensemble import GradientBoostingClassifier\\nimport statistics\\nfrom sklearn.model_selection import train_test_split\\nfrom sklearn.manifold import TSNE\\nfrom sklearn import svm\\nimport lightgbm as lgb'); }\n    "
     },
     "metadata": {}
    },
    {
     "output_type": "display_data",
     "data": {
      "text/plain": "<IPython.core.display.Javascript object>",
      "application/javascript": "\n        if (window._pyforest_update_imports_cell) { window._pyforest_update_imports_cell('from sklearn.ensemble import RandomForestClassifier\\nimport datetime as dt\\nfrom pathlib import Path\\nimport gensim\\nfrom sklearn.ensemble import GradientBoostingRegressor\\nfrom dask import dataframe as dd\\nimport plotly.express as px\\nimport tqdm\\nimport pickle\\nfrom openpyxl import load_workbook\\nfrom sklearn.preprocessing import OneHotEncoder\\nimport plotly.graph_objs as go\\nimport spacy\\nimport xgboost as xgb\\nimport plotly as py\\nimport sklearn\\nfrom sklearn.ensemble import RandomForestRegressor\\nimport matplotlib as mpl\\nimport bokeh\\nfrom sklearn.feature_extraction.text import TfidfVectorizer\\nimport seaborn as sns\\nimport glob\\nimport nltk\\nfrom sklearn.ensemble import GradientBoostingClassifier\\nimport statistics\\nfrom sklearn.model_selection import train_test_split\\nfrom sklearn.manifold import TSNE\\nfrom sklearn import svm\\nimport lightgbm as lgb'); }\n    "
     },
     "metadata": {}
    },
    {
     "output_type": "display_data",
     "data": {
      "text/plain": "<IPython.core.display.Javascript object>",
      "application/javascript": "\n        if (window._pyforest_update_imports_cell) { window._pyforest_update_imports_cell('from sklearn.ensemble import RandomForestClassifier\\nimport datetime as dt\\nfrom pathlib import Path\\nimport gensim\\nfrom sklearn.ensemble import GradientBoostingRegressor\\nfrom dask import dataframe as dd\\nimport plotly.express as px\\nimport tqdm\\nimport pickle\\nfrom openpyxl import load_workbook\\nfrom sklearn.preprocessing import OneHotEncoder\\nimport plotly.graph_objs as go\\nimport spacy\\nimport xgboost as xgb\\nimport plotly as py\\nimport sklearn\\nfrom sklearn.ensemble import RandomForestRegressor\\nimport matplotlib as mpl\\nimport bokeh\\nfrom sklearn.feature_extraction.text import TfidfVectorizer\\nimport seaborn as sns\\nimport glob\\nimport nltk\\nfrom sklearn.ensemble import GradientBoostingClassifier\\nimport statistics\\nfrom sklearn.model_selection import train_test_split\\nfrom sklearn.manifold import TSNE\\nfrom sklearn import svm\\nimport lightgbm as lgb'); }\n    "
     },
     "metadata": {}
    },
    {
     "output_type": "display_data",
     "data": {
      "text/plain": "<IPython.core.display.Javascript object>",
      "application/javascript": "\n        if (window._pyforest_update_imports_cell) { window._pyforest_update_imports_cell('from sklearn.ensemble import RandomForestClassifier\\nimport datetime as dt\\nfrom pathlib import Path\\nimport gensim\\nfrom sklearn.ensemble import GradientBoostingRegressor\\nfrom dask import dataframe as dd\\nimport plotly.express as px\\nimport tqdm\\nimport pickle\\nfrom openpyxl import load_workbook\\nfrom sklearn.preprocessing import OneHotEncoder\\nimport plotly.graph_objs as go\\nimport spacy\\nimport xgboost as xgb\\nimport plotly as py\\nimport sklearn\\nfrom sklearn.ensemble import RandomForestRegressor\\nimport matplotlib as mpl\\nimport bokeh\\nfrom sklearn.feature_extraction.text import TfidfVectorizer\\nimport seaborn as sns\\nimport glob\\nimport nltk\\nfrom sklearn.ensemble import GradientBoostingClassifier\\nimport statistics\\nfrom sklearn.model_selection import train_test_split\\nfrom sklearn.manifold import TSNE\\nfrom sklearn import svm\\nimport lightgbm as lgb'); }\n    "
     },
     "metadata": {}
    },
    {
     "output_type": "display_data",
     "data": {
      "text/plain": "<IPython.core.display.Javascript object>",
      "application/javascript": "\n        if (window._pyforest_update_imports_cell) { window._pyforest_update_imports_cell('from sklearn.ensemble import RandomForestClassifier\\nimport datetime as dt\\nfrom pathlib import Path\\nimport gensim\\nfrom sklearn.ensemble import GradientBoostingRegressor\\nfrom dask import dataframe as dd\\nimport plotly.express as px\\nimport tqdm\\nimport pickle\\nfrom openpyxl import load_workbook\\nfrom sklearn.preprocessing import OneHotEncoder\\nimport plotly.graph_objs as go\\nimport spacy\\nimport xgboost as xgb\\nimport plotly as py\\nimport sklearn\\nfrom sklearn.ensemble import RandomForestRegressor\\nimport matplotlib as mpl\\nimport bokeh\\nfrom sklearn.feature_extraction.text import TfidfVectorizer\\nimport seaborn as sns\\nimport glob\\nimport nltk\\nfrom sklearn.ensemble import GradientBoostingClassifier\\nimport statistics\\nfrom sklearn.model_selection import train_test_split\\nfrom sklearn.manifold import TSNE\\nfrom sklearn import svm\\nimport lightgbm as lgb'); }\n    "
     },
     "metadata": {}
    },
    {
     "output_type": "display_data",
     "data": {
      "text/plain": "<IPython.core.display.Javascript object>",
      "application/javascript": "\n        if (window._pyforest_update_imports_cell) { window._pyforest_update_imports_cell('from sklearn.ensemble import RandomForestClassifier\\nimport datetime as dt\\nfrom pathlib import Path\\nimport gensim\\nfrom sklearn.ensemble import GradientBoostingRegressor\\nfrom dask import dataframe as dd\\nimport plotly.express as px\\nimport tqdm\\nimport pickle\\nfrom openpyxl import load_workbook\\nfrom sklearn.preprocessing import OneHotEncoder\\nimport plotly.graph_objs as go\\nimport spacy\\nimport xgboost as xgb\\nimport plotly as py\\nimport sklearn\\nfrom sklearn.ensemble import RandomForestRegressor\\nimport matplotlib as mpl\\nimport bokeh\\nfrom sklearn.feature_extraction.text import TfidfVectorizer\\nimport seaborn as sns\\nimport glob\\nimport nltk\\nfrom sklearn.ensemble import GradientBoostingClassifier\\nimport statistics\\nfrom sklearn.model_selection import train_test_split\\nfrom sklearn.manifold import TSNE\\nfrom sklearn import svm\\nimport lightgbm as lgb'); }\n    "
     },
     "metadata": {}
    },
    {
     "output_type": "display_data",
     "data": {
      "text/plain": "<IPython.core.display.Javascript object>",
      "application/javascript": "\n        if (window._pyforest_update_imports_cell) { window._pyforest_update_imports_cell('from sklearn.ensemble import RandomForestClassifier\\nimport datetime as dt\\nfrom pathlib import Path\\nimport gensim\\nfrom sklearn.ensemble import GradientBoostingRegressor\\nfrom dask import dataframe as dd\\nimport plotly.express as px\\nimport tqdm\\nimport pickle\\nfrom openpyxl import load_workbook\\nfrom sklearn.preprocessing import OneHotEncoder\\nimport plotly.graph_objs as go\\nimport spacy\\nimport xgboost as xgb\\nimport plotly as py\\nimport sklearn\\nfrom sklearn.ensemble import RandomForestRegressor\\nimport matplotlib as mpl\\nimport bokeh\\nfrom sklearn.feature_extraction.text import TfidfVectorizer\\nimport seaborn as sns\\nimport glob\\nimport nltk\\nfrom sklearn.ensemble import GradientBoostingClassifier\\nimport statistics\\nfrom sklearn.model_selection import train_test_split\\nfrom sklearn.manifold import TSNE\\nfrom sklearn import svm\\nimport lightgbm as lgb'); }\n    "
     },
     "metadata": {}
    },
    {
     "output_type": "display_data",
     "data": {
      "text/plain": "<IPython.core.display.Javascript object>",
      "application/javascript": "\n        if (window._pyforest_update_imports_cell) { window._pyforest_update_imports_cell('from sklearn.ensemble import RandomForestClassifier\\nimport datetime as dt\\nfrom pathlib import Path\\nimport gensim\\nfrom sklearn.ensemble import GradientBoostingRegressor\\nfrom dask import dataframe as dd\\nimport plotly.express as px\\nimport tqdm\\nimport pickle\\nfrom openpyxl import load_workbook\\nfrom sklearn.preprocessing import OneHotEncoder\\nimport plotly.graph_objs as go\\nimport spacy\\nimport xgboost as xgb\\nimport plotly as py\\nimport sklearn\\nfrom sklearn.ensemble import RandomForestRegressor\\nimport matplotlib as mpl\\nimport bokeh\\nfrom sklearn.feature_extraction.text import TfidfVectorizer\\nimport seaborn as sns\\nimport glob\\nimport nltk\\nfrom sklearn.ensemble import GradientBoostingClassifier\\nimport statistics\\nfrom sklearn.model_selection import train_test_split\\nfrom sklearn.manifold import TSNE\\nfrom sklearn import svm\\nimport lightgbm as lgb'); }\n    "
     },
     "metadata": {}
    },
    {
     "output_type": "display_data",
     "data": {
      "text/plain": "<IPython.core.display.Javascript object>",
      "application/javascript": "\n        if (window._pyforest_update_imports_cell) { window._pyforest_update_imports_cell('from sklearn.ensemble import RandomForestClassifier\\nimport datetime as dt\\nfrom pathlib import Path\\nimport gensim\\nfrom sklearn.ensemble import GradientBoostingRegressor\\nfrom dask import dataframe as dd\\nimport plotly.express as px\\nimport tqdm\\nimport pickle\\nfrom openpyxl import load_workbook\\nfrom sklearn.preprocessing import OneHotEncoder\\nimport plotly.graph_objs as go\\nimport spacy\\nimport xgboost as xgb\\nimport plotly as py\\nimport sklearn\\nfrom sklearn.ensemble import RandomForestRegressor\\nimport matplotlib as mpl\\nimport bokeh\\nfrom sklearn.feature_extraction.text import TfidfVectorizer\\nimport seaborn as sns\\nimport glob\\nimport nltk\\nfrom sklearn.ensemble import GradientBoostingClassifier\\nimport statistics\\nfrom sklearn.model_selection import train_test_split\\nfrom sklearn.manifold import TSNE\\nfrom sklearn import svm\\nimport lightgbm as lgb'); }\n    "
     },
     "metadata": {}
    },
    {
     "output_type": "display_data",
     "data": {
      "text/plain": "<IPython.core.display.Javascript object>",
      "application/javascript": "\n        if (window._pyforest_update_imports_cell) { window._pyforest_update_imports_cell('from sklearn.ensemble import RandomForestClassifier\\nimport datetime as dt\\nfrom pathlib import Path\\nimport gensim\\nfrom sklearn.ensemble import GradientBoostingRegressor\\nfrom dask import dataframe as dd\\nimport plotly.express as px\\nimport tqdm\\nimport pickle\\nfrom openpyxl import load_workbook\\nfrom sklearn.preprocessing import OneHotEncoder\\nimport plotly.graph_objs as go\\nimport spacy\\nimport xgboost as xgb\\nimport plotly as py\\nimport sklearn\\nfrom sklearn.ensemble import RandomForestRegressor\\nimport matplotlib as mpl\\nimport bokeh\\nfrom sklearn.feature_extraction.text import TfidfVectorizer\\nimport seaborn as sns\\nimport glob\\nimport nltk\\nfrom sklearn.ensemble import GradientBoostingClassifier\\nimport statistics\\nfrom sklearn.model_selection import train_test_split\\nfrom sklearn.manifold import TSNE\\nfrom sklearn import svm\\nimport lightgbm as lgb'); }\n    "
     },
     "metadata": {}
    },
    {
     "output_type": "display_data",
     "data": {
      "text/plain": "<IPython.core.display.Javascript object>",
      "application/javascript": "\n        if (window._pyforest_update_imports_cell) { window._pyforest_update_imports_cell('from sklearn.ensemble import RandomForestClassifier\\nimport datetime as dt\\nfrom pathlib import Path\\nimport gensim\\nfrom sklearn.ensemble import GradientBoostingRegressor\\nfrom dask import dataframe as dd\\nimport plotly.express as px\\nimport tqdm\\nimport pickle\\nfrom openpyxl import load_workbook\\nfrom sklearn.preprocessing import OneHotEncoder\\nimport plotly.graph_objs as go\\nimport spacy\\nimport xgboost as xgb\\nimport plotly as py\\nimport sklearn\\nfrom sklearn.ensemble import RandomForestRegressor\\nimport matplotlib as mpl\\nimport bokeh\\nfrom sklearn.feature_extraction.text import TfidfVectorizer\\nimport seaborn as sns\\nimport glob\\nimport nltk\\nfrom sklearn.ensemble import GradientBoostingClassifier\\nimport statistics\\nfrom sklearn.model_selection import train_test_split\\nfrom sklearn.manifold import TSNE\\nfrom sklearn import svm\\nimport lightgbm as lgb'); }\n    "
     },
     "metadata": {}
    },
    {
     "output_type": "display_data",
     "data": {
      "text/plain": "<IPython.core.display.Javascript object>",
      "application/javascript": "\n        if (window._pyforest_update_imports_cell) { window._pyforest_update_imports_cell('from sklearn.ensemble import RandomForestClassifier\\nimport datetime as dt\\nfrom pathlib import Path\\nimport gensim\\nfrom sklearn.ensemble import GradientBoostingRegressor\\nfrom dask import dataframe as dd\\nimport plotly.express as px\\nimport tqdm\\nimport pickle\\nfrom openpyxl import load_workbook\\nfrom sklearn.preprocessing import OneHotEncoder\\nimport plotly.graph_objs as go\\nimport spacy\\nimport xgboost as xgb\\nimport plotly as py\\nimport sklearn\\nfrom sklearn.ensemble import RandomForestRegressor\\nimport matplotlib as mpl\\nimport bokeh\\nfrom sklearn.feature_extraction.text import TfidfVectorizer\\nimport seaborn as sns\\nimport glob\\nimport nltk\\nfrom sklearn.ensemble import GradientBoostingClassifier\\nimport statistics\\nfrom sklearn.model_selection import train_test_split\\nfrom sklearn.manifold import TSNE\\nfrom sklearn import svm\\nimport lightgbm as lgb'); }\n    "
     },
     "metadata": {}
    },
    {
     "output_type": "display_data",
     "data": {
      "text/plain": "<IPython.core.display.Javascript object>",
      "application/javascript": "\n        if (window._pyforest_update_imports_cell) { window._pyforest_update_imports_cell('from sklearn.ensemble import RandomForestClassifier\\nimport datetime as dt\\nfrom pathlib import Path\\nimport gensim\\nfrom sklearn.ensemble import GradientBoostingRegressor\\nfrom dask import dataframe as dd\\nimport plotly.express as px\\nimport tqdm\\nimport pickle\\nfrom openpyxl import load_workbook\\nfrom sklearn.preprocessing import OneHotEncoder\\nimport plotly.graph_objs as go\\nimport spacy\\nimport xgboost as xgb\\nimport plotly as py\\nimport sklearn\\nfrom sklearn.ensemble import RandomForestRegressor\\nimport matplotlib as mpl\\nimport bokeh\\nfrom sklearn.feature_extraction.text import TfidfVectorizer\\nimport seaborn as sns\\nimport glob\\nimport nltk\\nfrom sklearn.ensemble import GradientBoostingClassifier\\nimport statistics\\nfrom sklearn.model_selection import train_test_split\\nfrom sklearn.manifold import TSNE\\nfrom sklearn import svm\\nimport lightgbm as lgb'); }\n    "
     },
     "metadata": {}
    },
    {
     "output_type": "display_data",
     "data": {
      "text/plain": "<IPython.core.display.Javascript object>",
      "application/javascript": "\n        if (window._pyforest_update_imports_cell) { window._pyforest_update_imports_cell('from sklearn.ensemble import RandomForestClassifier\\nimport datetime as dt\\nfrom pathlib import Path\\nimport gensim\\nfrom sklearn.ensemble import GradientBoostingRegressor\\nfrom dask import dataframe as dd\\nimport plotly.express as px\\nimport tqdm\\nimport pickle\\nfrom openpyxl import load_workbook\\nfrom sklearn.preprocessing import OneHotEncoder\\nimport plotly.graph_objs as go\\nimport spacy\\nimport xgboost as xgb\\nimport plotly as py\\nimport sklearn\\nfrom sklearn.ensemble import RandomForestRegressor\\nimport matplotlib as mpl\\nimport bokeh\\nfrom sklearn.feature_extraction.text import TfidfVectorizer\\nimport seaborn as sns\\nimport glob\\nimport nltk\\nfrom sklearn.ensemble import GradientBoostingClassifier\\nimport statistics\\nfrom sklearn.model_selection import train_test_split\\nfrom sklearn.manifold import TSNE\\nfrom sklearn import svm\\nimport lightgbm as lgb'); }\n    "
     },
     "metadata": {}
    },
    {
     "output_type": "display_data",
     "data": {
      "text/plain": "<IPython.core.display.Javascript object>",
      "application/javascript": "\n        if (window._pyforest_update_imports_cell) { window._pyforest_update_imports_cell('from sklearn.ensemble import RandomForestClassifier\\nimport datetime as dt\\nfrom pathlib import Path\\nimport gensim\\nfrom sklearn.ensemble import GradientBoostingRegressor\\nfrom dask import dataframe as dd\\nimport plotly.express as px\\nimport tqdm\\nimport pickle\\nfrom openpyxl import load_workbook\\nfrom sklearn.preprocessing import OneHotEncoder\\nimport plotly.graph_objs as go\\nimport spacy\\nimport xgboost as xgb\\nimport plotly as py\\nimport sklearn\\nfrom sklearn.ensemble import RandomForestRegressor\\nimport matplotlib as mpl\\nimport bokeh\\nfrom sklearn.feature_extraction.text import TfidfVectorizer\\nimport seaborn as sns\\nimport glob\\nimport nltk\\nfrom sklearn.ensemble import GradientBoostingClassifier\\nimport statistics\\nfrom sklearn.model_selection import train_test_split\\nfrom sklearn.manifold import TSNE\\nfrom sklearn import svm\\nimport lightgbm as lgb'); }\n    "
     },
     "metadata": {}
    },
    {
     "output_type": "display_data",
     "data": {
      "text/plain": "<IPython.core.display.Javascript object>",
      "application/javascript": "\n        if (window._pyforest_update_imports_cell) { window._pyforest_update_imports_cell('from sklearn.ensemble import RandomForestClassifier\\nimport datetime as dt\\nfrom pathlib import Path\\nimport gensim\\nfrom sklearn.ensemble import GradientBoostingRegressor\\nfrom dask import dataframe as dd\\nimport plotly.express as px\\nimport tqdm\\nimport pickle\\nfrom openpyxl import load_workbook\\nfrom sklearn.preprocessing import OneHotEncoder\\nimport plotly.graph_objs as go\\nimport spacy\\nimport xgboost as xgb\\nimport plotly as py\\nimport sklearn\\nfrom sklearn.ensemble import RandomForestRegressor\\nimport matplotlib as mpl\\nimport bokeh\\nfrom sklearn.feature_extraction.text import TfidfVectorizer\\nimport seaborn as sns\\nimport glob\\nimport nltk\\nfrom sklearn.ensemble import GradientBoostingClassifier\\nimport statistics\\nfrom sklearn.model_selection import train_test_split\\nfrom sklearn.manifold import TSNE\\nfrom sklearn import svm\\nimport lightgbm as lgb'); }\n    "
     },
     "metadata": {}
    },
    {
     "output_type": "display_data",
     "data": {
      "text/plain": "<IPython.core.display.Javascript object>",
      "application/javascript": "\n        if (window._pyforest_update_imports_cell) { window._pyforest_update_imports_cell('from sklearn.ensemble import RandomForestClassifier\\nimport datetime as dt\\nfrom pathlib import Path\\nimport gensim\\nfrom sklearn.ensemble import GradientBoostingRegressor\\nfrom dask import dataframe as dd\\nimport plotly.express as px\\nimport tqdm\\nimport pickle\\nfrom openpyxl import load_workbook\\nfrom sklearn.preprocessing import OneHotEncoder\\nimport plotly.graph_objs as go\\nimport spacy\\nimport xgboost as xgb\\nimport plotly as py\\nimport sklearn\\nfrom sklearn.ensemble import RandomForestRegressor\\nimport matplotlib as mpl\\nimport bokeh\\nfrom sklearn.feature_extraction.text import TfidfVectorizer\\nimport seaborn as sns\\nimport glob\\nimport nltk\\nfrom sklearn.ensemble import GradientBoostingClassifier\\nimport statistics\\nfrom sklearn.model_selection import train_test_split\\nfrom sklearn.manifold import TSNE\\nfrom sklearn import svm\\nimport lightgbm as lgb'); }\n    "
     },
     "metadata": {}
    },
    {
     "output_type": "display_data",
     "data": {
      "text/plain": "<IPython.core.display.Javascript object>",
      "application/javascript": "\n        if (window._pyforest_update_imports_cell) { window._pyforest_update_imports_cell('from sklearn.ensemble import RandomForestClassifier\\nimport datetime as dt\\nfrom pathlib import Path\\nimport gensim\\nfrom sklearn.ensemble import GradientBoostingRegressor\\nfrom dask import dataframe as dd\\nimport plotly.express as px\\nimport tqdm\\nimport pickle\\nfrom openpyxl import load_workbook\\nfrom sklearn.preprocessing import OneHotEncoder\\nimport plotly.graph_objs as go\\nimport spacy\\nimport xgboost as xgb\\nimport plotly as py\\nimport sklearn\\nfrom sklearn.ensemble import RandomForestRegressor\\nimport matplotlib as mpl\\nimport bokeh\\nfrom sklearn.feature_extraction.text import TfidfVectorizer\\nimport seaborn as sns\\nimport glob\\nimport nltk\\nfrom sklearn.ensemble import GradientBoostingClassifier\\nimport statistics\\nfrom sklearn.model_selection import train_test_split\\nfrom sklearn.manifold import TSNE\\nfrom sklearn import svm\\nimport lightgbm as lgb'); }\n    "
     },
     "metadata": {}
    },
    {
     "output_type": "display_data",
     "data": {
      "text/plain": "<IPython.core.display.Javascript object>",
      "application/javascript": "\n        if (window._pyforest_update_imports_cell) { window._pyforest_update_imports_cell('from sklearn.ensemble import RandomForestClassifier\\nimport datetime as dt\\nfrom pathlib import Path\\nimport gensim\\nfrom sklearn.ensemble import GradientBoostingRegressor\\nfrom dask import dataframe as dd\\nimport plotly.express as px\\nimport tqdm\\nimport pickle\\nfrom openpyxl import load_workbook\\nfrom sklearn.preprocessing import OneHotEncoder\\nimport plotly.graph_objs as go\\nimport spacy\\nimport xgboost as xgb\\nimport plotly as py\\nimport sklearn\\nfrom sklearn.ensemble import RandomForestRegressor\\nimport matplotlib as mpl\\nimport bokeh\\nfrom sklearn.feature_extraction.text import TfidfVectorizer\\nimport seaborn as sns\\nimport glob\\nimport nltk\\nfrom sklearn.ensemble import GradientBoostingClassifier\\nimport statistics\\nfrom sklearn.model_selection import train_test_split\\nfrom sklearn.manifold import TSNE\\nfrom sklearn import svm\\nimport lightgbm as lgb'); }\n    "
     },
     "metadata": {}
    },
    {
     "output_type": "display_data",
     "data": {
      "text/plain": "<IPython.core.display.Javascript object>",
      "application/javascript": "\n        if (window._pyforest_update_imports_cell) { window._pyforest_update_imports_cell('from sklearn.ensemble import RandomForestClassifier\\nimport datetime as dt\\nfrom pathlib import Path\\nimport gensim\\nfrom sklearn.ensemble import GradientBoostingRegressor\\nfrom dask import dataframe as dd\\nimport plotly.express as px\\nimport tqdm\\nimport pickle\\nfrom openpyxl import load_workbook\\nfrom sklearn.preprocessing import OneHotEncoder\\nimport plotly.graph_objs as go\\nimport spacy\\nimport xgboost as xgb\\nimport plotly as py\\nimport sklearn\\nfrom sklearn.ensemble import RandomForestRegressor\\nimport matplotlib as mpl\\nimport bokeh\\nfrom sklearn.feature_extraction.text import TfidfVectorizer\\nimport seaborn as sns\\nimport glob\\nimport nltk\\nfrom sklearn.ensemble import GradientBoostingClassifier\\nimport statistics\\nfrom sklearn.model_selection import train_test_split\\nfrom sklearn.manifold import TSNE\\nfrom sklearn import svm\\nimport lightgbm as lgb'); }\n    "
     },
     "metadata": {}
    },
    {
     "output_type": "display_data",
     "data": {
      "text/plain": "<IPython.core.display.Javascript object>",
      "application/javascript": "\n        if (window._pyforest_update_imports_cell) { window._pyforest_update_imports_cell('from sklearn.ensemble import RandomForestClassifier\\nimport datetime as dt\\nfrom pathlib import Path\\nimport gensim\\nfrom sklearn.ensemble import GradientBoostingRegressor\\nfrom dask import dataframe as dd\\nimport plotly.express as px\\nimport tqdm\\nimport pickle\\nfrom openpyxl import load_workbook\\nfrom sklearn.preprocessing import OneHotEncoder\\nimport plotly.graph_objs as go\\nimport spacy\\nimport xgboost as xgb\\nimport plotly as py\\nimport sklearn\\nfrom sklearn.ensemble import RandomForestRegressor\\nimport matplotlib as mpl\\nimport bokeh\\nfrom sklearn.feature_extraction.text import TfidfVectorizer\\nimport seaborn as sns\\nimport glob\\nimport nltk\\nfrom sklearn.ensemble import GradientBoostingClassifier\\nimport statistics\\nfrom sklearn.model_selection import train_test_split\\nfrom sklearn.manifold import TSNE\\nfrom sklearn import svm\\nimport lightgbm as lgb'); }\n    "
     },
     "metadata": {}
    },
    {
     "output_type": "display_data",
     "data": {
      "text/plain": "<IPython.core.display.Javascript object>",
      "application/javascript": "\n        if (window._pyforest_update_imports_cell) { window._pyforest_update_imports_cell('from sklearn.ensemble import RandomForestClassifier\\nimport datetime as dt\\nfrom pathlib import Path\\nimport gensim\\nfrom sklearn.ensemble import GradientBoostingRegressor\\nfrom dask import dataframe as dd\\nimport plotly.express as px\\nimport tqdm\\nimport pickle\\nfrom openpyxl import load_workbook\\nfrom sklearn.preprocessing import OneHotEncoder\\nimport plotly.graph_objs as go\\nimport spacy\\nimport xgboost as xgb\\nimport plotly as py\\nimport sklearn\\nfrom sklearn.ensemble import RandomForestRegressor\\nimport matplotlib as mpl\\nimport bokeh\\nfrom sklearn.feature_extraction.text import TfidfVectorizer\\nimport seaborn as sns\\nimport glob\\nimport nltk\\nfrom sklearn.ensemble import GradientBoostingClassifier\\nimport statistics\\nfrom sklearn.model_selection import train_test_split\\nfrom sklearn.manifold import TSNE\\nfrom sklearn import svm\\nimport lightgbm as lgb'); }\n    "
     },
     "metadata": {}
    },
    {
     "output_type": "display_data",
     "data": {
      "text/plain": "<IPython.core.display.Javascript object>",
      "application/javascript": "\n        if (window._pyforest_update_imports_cell) { window._pyforest_update_imports_cell('from sklearn.ensemble import RandomForestClassifier\\nimport datetime as dt\\nfrom pathlib import Path\\nimport gensim\\nfrom sklearn.ensemble import GradientBoostingRegressor\\nfrom dask import dataframe as dd\\nimport plotly.express as px\\nimport tqdm\\nimport pickle\\nfrom openpyxl import load_workbook\\nfrom sklearn.preprocessing import OneHotEncoder\\nimport plotly.graph_objs as go\\nimport spacy\\nimport xgboost as xgb\\nimport plotly as py\\nimport sklearn\\nfrom sklearn.ensemble import RandomForestRegressor\\nimport matplotlib as mpl\\nimport bokeh\\nfrom sklearn.feature_extraction.text import TfidfVectorizer\\nimport seaborn as sns\\nimport glob\\nimport nltk\\nfrom sklearn.ensemble import GradientBoostingClassifier\\nimport statistics\\nfrom sklearn.model_selection import train_test_split\\nfrom sklearn.manifold import TSNE\\nfrom sklearn import svm\\nimport lightgbm as lgb'); }\n    "
     },
     "metadata": {}
    },
    {
     "output_type": "display_data",
     "data": {
      "text/plain": "<IPython.core.display.Javascript object>",
      "application/javascript": "\n        if (window._pyforest_update_imports_cell) { window._pyforest_update_imports_cell('from sklearn.ensemble import RandomForestClassifier\\nimport datetime as dt\\nfrom pathlib import Path\\nimport gensim\\nfrom sklearn.ensemble import GradientBoostingRegressor\\nfrom dask import dataframe as dd\\nimport plotly.express as px\\nimport tqdm\\nimport pickle\\nfrom openpyxl import load_workbook\\nfrom sklearn.preprocessing import OneHotEncoder\\nimport plotly.graph_objs as go\\nimport spacy\\nimport xgboost as xgb\\nimport plotly as py\\nimport sklearn\\nfrom sklearn.ensemble import RandomForestRegressor\\nimport matplotlib as mpl\\nimport bokeh\\nfrom sklearn.feature_extraction.text import TfidfVectorizer\\nimport seaborn as sns\\nimport glob\\nimport nltk\\nfrom sklearn.ensemble import GradientBoostingClassifier\\nimport statistics\\nfrom sklearn.model_selection import train_test_split\\nfrom sklearn.manifold import TSNE\\nfrom sklearn import svm\\nimport lightgbm as lgb'); }\n    "
     },
     "metadata": {}
    },
    {
     "output_type": "display_data",
     "data": {
      "text/plain": "<IPython.core.display.Javascript object>",
      "application/javascript": "\n        if (window._pyforest_update_imports_cell) { window._pyforest_update_imports_cell('from sklearn.ensemble import RandomForestClassifier\\nimport datetime as dt\\nfrom pathlib import Path\\nimport gensim\\nfrom sklearn.ensemble import GradientBoostingRegressor\\nfrom dask import dataframe as dd\\nimport plotly.express as px\\nimport tqdm\\nimport pickle\\nfrom openpyxl import load_workbook\\nfrom sklearn.preprocessing import OneHotEncoder\\nimport plotly.graph_objs as go\\nimport spacy\\nimport xgboost as xgb\\nimport plotly as py\\nimport sklearn\\nfrom sklearn.ensemble import RandomForestRegressor\\nimport matplotlib as mpl\\nimport bokeh\\nfrom sklearn.feature_extraction.text import TfidfVectorizer\\nimport seaborn as sns\\nimport glob\\nimport nltk\\nfrom sklearn.ensemble import GradientBoostingClassifier\\nimport statistics\\nfrom sklearn.model_selection import train_test_split\\nfrom sklearn.manifold import TSNE\\nfrom sklearn import svm\\nimport lightgbm as lgb'); }\n    "
     },
     "metadata": {}
    },
    {
     "output_type": "display_data",
     "data": {
      "text/plain": "<IPython.core.display.Javascript object>",
      "application/javascript": "\n        if (window._pyforest_update_imports_cell) { window._pyforest_update_imports_cell('from sklearn.ensemble import RandomForestClassifier\\nimport datetime as dt\\nfrom pathlib import Path\\nimport gensim\\nfrom sklearn.ensemble import GradientBoostingRegressor\\nfrom dask import dataframe as dd\\nimport plotly.express as px\\nimport tqdm\\nimport pickle\\nfrom openpyxl import load_workbook\\nfrom sklearn.preprocessing import OneHotEncoder\\nimport plotly.graph_objs as go\\nimport spacy\\nimport xgboost as xgb\\nimport plotly as py\\nimport sklearn\\nfrom sklearn.ensemble import RandomForestRegressor\\nimport matplotlib as mpl\\nimport bokeh\\nfrom sklearn.feature_extraction.text import TfidfVectorizer\\nimport seaborn as sns\\nimport glob\\nimport nltk\\nfrom sklearn.ensemble import GradientBoostingClassifier\\nimport statistics\\nfrom sklearn.model_selection import train_test_split\\nfrom sklearn.manifold import TSNE\\nfrom sklearn import svm\\nimport lightgbm as lgb'); }\n    "
     },
     "metadata": {}
    },
    {
     "output_type": "display_data",
     "data": {
      "text/plain": "<IPython.core.display.Javascript object>",
      "application/javascript": "\n        if (window._pyforest_update_imports_cell) { window._pyforest_update_imports_cell('from sklearn.ensemble import RandomForestClassifier\\nimport datetime as dt\\nfrom pathlib import Path\\nimport gensim\\nfrom sklearn.ensemble import GradientBoostingRegressor\\nfrom dask import dataframe as dd\\nimport plotly.express as px\\nimport tqdm\\nimport pickle\\nfrom openpyxl import load_workbook\\nfrom sklearn.preprocessing import OneHotEncoder\\nimport plotly.graph_objs as go\\nimport spacy\\nimport xgboost as xgb\\nimport plotly as py\\nimport sklearn\\nfrom sklearn.ensemble import RandomForestRegressor\\nimport matplotlib as mpl\\nimport bokeh\\nfrom sklearn.feature_extraction.text import TfidfVectorizer\\nimport seaborn as sns\\nimport glob\\nimport nltk\\nfrom sklearn.ensemble import GradientBoostingClassifier\\nimport statistics\\nfrom sklearn.model_selection import train_test_split\\nfrom sklearn.manifold import TSNE\\nfrom sklearn import svm\\nimport lightgbm as lgb'); }\n    "
     },
     "metadata": {}
    },
    {
     "output_type": "display_data",
     "data": {
      "text/plain": "<IPython.core.display.Javascript object>",
      "application/javascript": "\n        if (window._pyforest_update_imports_cell) { window._pyforest_update_imports_cell('from sklearn.ensemble import RandomForestClassifier\\nimport datetime as dt\\nfrom pathlib import Path\\nimport gensim\\nfrom sklearn.ensemble import GradientBoostingRegressor\\nfrom dask import dataframe as dd\\nimport plotly.express as px\\nimport tqdm\\nimport pickle\\nfrom openpyxl import load_workbook\\nfrom sklearn.preprocessing import OneHotEncoder\\nimport plotly.graph_objs as go\\nimport spacy\\nimport xgboost as xgb\\nimport plotly as py\\nimport sklearn\\nfrom sklearn.ensemble import RandomForestRegressor\\nimport matplotlib as mpl\\nimport bokeh\\nfrom sklearn.feature_extraction.text import TfidfVectorizer\\nimport seaborn as sns\\nimport glob\\nimport nltk\\nfrom sklearn.ensemble import GradientBoostingClassifier\\nimport statistics\\nfrom sklearn.model_selection import train_test_split\\nfrom sklearn.manifold import TSNE\\nfrom sklearn import svm\\nimport lightgbm as lgb'); }\n    "
     },
     "metadata": {}
    },
    {
     "output_type": "display_data",
     "data": {
      "text/plain": "<IPython.core.display.Javascript object>",
      "application/javascript": "\n        if (window._pyforest_update_imports_cell) { window._pyforest_update_imports_cell('from sklearn.ensemble import RandomForestClassifier\\nimport datetime as dt\\nfrom pathlib import Path\\nimport gensim\\nfrom sklearn.ensemble import GradientBoostingRegressor\\nfrom dask import dataframe as dd\\nimport plotly.express as px\\nimport tqdm\\nimport pickle\\nfrom openpyxl import load_workbook\\nfrom sklearn.preprocessing import OneHotEncoder\\nimport plotly.graph_objs as go\\nimport spacy\\nimport xgboost as xgb\\nimport plotly as py\\nimport sklearn\\nfrom sklearn.ensemble import RandomForestRegressor\\nimport matplotlib as mpl\\nimport bokeh\\nfrom sklearn.feature_extraction.text import TfidfVectorizer\\nimport seaborn as sns\\nimport glob\\nimport nltk\\nfrom sklearn.ensemble import GradientBoostingClassifier\\nimport statistics\\nfrom sklearn.model_selection import train_test_split\\nfrom sklearn.manifold import TSNE\\nfrom sklearn import svm\\nimport lightgbm as lgb'); }\n    "
     },
     "metadata": {}
    },
    {
     "output_type": "display_data",
     "data": {
      "text/plain": "<IPython.core.display.Javascript object>",
      "application/javascript": "\n        if (window._pyforest_update_imports_cell) { window._pyforest_update_imports_cell('from sklearn.ensemble import RandomForestClassifier\\nimport datetime as dt\\nfrom pathlib import Path\\nimport gensim\\nfrom sklearn.ensemble import GradientBoostingRegressor\\nfrom dask import dataframe as dd\\nimport plotly.express as px\\nimport tqdm\\nimport pickle\\nfrom openpyxl import load_workbook\\nfrom sklearn.preprocessing import OneHotEncoder\\nimport plotly.graph_objs as go\\nimport spacy\\nimport xgboost as xgb\\nimport plotly as py\\nimport sklearn\\nfrom sklearn.ensemble import RandomForestRegressor\\nimport matplotlib as mpl\\nimport bokeh\\nfrom sklearn.feature_extraction.text import TfidfVectorizer\\nimport seaborn as sns\\nimport glob\\nimport nltk\\nfrom sklearn.ensemble import GradientBoostingClassifier\\nimport statistics\\nfrom sklearn.model_selection import train_test_split\\nfrom sklearn.manifold import TSNE\\nfrom sklearn import svm\\nimport lightgbm as lgb'); }\n    "
     },
     "metadata": {}
    },
    {
     "output_type": "display_data",
     "data": {
      "text/plain": "<IPython.core.display.Javascript object>",
      "application/javascript": "\n        if (window._pyforest_update_imports_cell) { window._pyforest_update_imports_cell('from sklearn.ensemble import RandomForestClassifier\\nimport datetime as dt\\nfrom pathlib import Path\\nimport gensim\\nfrom sklearn.ensemble import GradientBoostingRegressor\\nfrom dask import dataframe as dd\\nimport plotly.express as px\\nimport tqdm\\nimport pickle\\nfrom openpyxl import load_workbook\\nfrom sklearn.preprocessing import OneHotEncoder\\nimport plotly.graph_objs as go\\nimport spacy\\nimport xgboost as xgb\\nimport plotly as py\\nimport sklearn\\nfrom sklearn.ensemble import RandomForestRegressor\\nimport matplotlib as mpl\\nimport bokeh\\nfrom sklearn.feature_extraction.text import TfidfVectorizer\\nimport seaborn as sns\\nimport glob\\nimport nltk\\nfrom sklearn.ensemble import GradientBoostingClassifier\\nimport statistics\\nfrom sklearn.model_selection import train_test_split\\nfrom sklearn.manifold import TSNE\\nfrom sklearn import svm\\nimport lightgbm as lgb'); }\n    "
     },
     "metadata": {}
    },
    {
     "output_type": "display_data",
     "data": {
      "text/plain": "<IPython.core.display.Javascript object>",
      "application/javascript": "\n        if (window._pyforest_update_imports_cell) { window._pyforest_update_imports_cell('from sklearn.ensemble import RandomForestClassifier\\nimport datetime as dt\\nfrom pathlib import Path\\nimport gensim\\nfrom sklearn.ensemble import GradientBoostingRegressor\\nfrom dask import dataframe as dd\\nimport plotly.express as px\\nimport tqdm\\nimport pickle\\nfrom openpyxl import load_workbook\\nfrom sklearn.preprocessing import OneHotEncoder\\nimport plotly.graph_objs as go\\nimport spacy\\nimport xgboost as xgb\\nimport plotly as py\\nimport sklearn\\nfrom sklearn.ensemble import RandomForestRegressor\\nimport matplotlib as mpl\\nimport bokeh\\nfrom sklearn.feature_extraction.text import TfidfVectorizer\\nimport seaborn as sns\\nimport glob\\nimport nltk\\nfrom sklearn.ensemble import GradientBoostingClassifier\\nimport statistics\\nfrom sklearn.model_selection import train_test_split\\nfrom sklearn.manifold import TSNE\\nfrom sklearn import svm\\nimport lightgbm as lgb'); }\n    "
     },
     "metadata": {}
    },
    {
     "output_type": "display_data",
     "data": {
      "text/plain": "<IPython.core.display.Javascript object>",
      "application/javascript": "\n        if (window._pyforest_update_imports_cell) { window._pyforest_update_imports_cell('from sklearn.ensemble import RandomForestClassifier\\nimport datetime as dt\\nfrom pathlib import Path\\nimport gensim\\nfrom sklearn.ensemble import GradientBoostingRegressor\\nfrom dask import dataframe as dd\\nimport plotly.express as px\\nimport tqdm\\nimport pickle\\nfrom openpyxl import load_workbook\\nfrom sklearn.preprocessing import OneHotEncoder\\nimport plotly.graph_objs as go\\nimport spacy\\nimport xgboost as xgb\\nimport plotly as py\\nimport sklearn\\nfrom sklearn.ensemble import RandomForestRegressor\\nimport matplotlib as mpl\\nimport bokeh\\nfrom sklearn.feature_extraction.text import TfidfVectorizer\\nimport seaborn as sns\\nimport glob\\nimport nltk\\nfrom sklearn.ensemble import GradientBoostingClassifier\\nimport statistics\\nfrom sklearn.model_selection import train_test_split\\nfrom sklearn.manifold import TSNE\\nfrom sklearn import svm\\nimport lightgbm as lgb'); }\n    "
     },
     "metadata": {}
    },
    {
     "output_type": "display_data",
     "data": {
      "text/plain": "<IPython.core.display.Javascript object>",
      "application/javascript": "\n        if (window._pyforest_update_imports_cell) { window._pyforest_update_imports_cell('from sklearn.ensemble import RandomForestClassifier\\nimport datetime as dt\\nfrom pathlib import Path\\nimport gensim\\nfrom sklearn.ensemble import GradientBoostingRegressor\\nfrom dask import dataframe as dd\\nimport plotly.express as px\\nimport tqdm\\nimport pickle\\nfrom openpyxl import load_workbook\\nfrom sklearn.preprocessing import OneHotEncoder\\nimport plotly.graph_objs as go\\nimport spacy\\nimport xgboost as xgb\\nimport plotly as py\\nimport sklearn\\nfrom sklearn.ensemble import RandomForestRegressor\\nimport matplotlib as mpl\\nimport bokeh\\nfrom sklearn.feature_extraction.text import TfidfVectorizer\\nimport seaborn as sns\\nimport glob\\nimport nltk\\nfrom sklearn.ensemble import GradientBoostingClassifier\\nimport statistics\\nfrom sklearn.model_selection import train_test_split\\nfrom sklearn.manifold import TSNE\\nfrom sklearn import svm\\nimport lightgbm as lgb'); }\n    "
     },
     "metadata": {}
    },
    {
     "output_type": "display_data",
     "data": {
      "text/plain": "<IPython.core.display.Javascript object>",
      "application/javascript": "\n        if (window._pyforest_update_imports_cell) { window._pyforest_update_imports_cell('from sklearn.ensemble import RandomForestClassifier\\nimport datetime as dt\\nfrom pathlib import Path\\nimport gensim\\nfrom sklearn.ensemble import GradientBoostingRegressor\\nfrom dask import dataframe as dd\\nimport plotly.express as px\\nimport tqdm\\nimport pickle\\nfrom openpyxl import load_workbook\\nfrom sklearn.preprocessing import OneHotEncoder\\nimport plotly.graph_objs as go\\nimport spacy\\nimport xgboost as xgb\\nimport plotly as py\\nimport sklearn\\nfrom sklearn.ensemble import RandomForestRegressor\\nimport matplotlib as mpl\\nimport bokeh\\nfrom sklearn.feature_extraction.text import TfidfVectorizer\\nimport seaborn as sns\\nimport glob\\nimport nltk\\nfrom sklearn.ensemble import GradientBoostingClassifier\\nimport statistics\\nfrom sklearn.model_selection import train_test_split\\nfrom sklearn.manifold import TSNE\\nfrom sklearn import svm\\nimport lightgbm as lgb'); }\n    "
     },
     "metadata": {}
    },
    {
     "output_type": "display_data",
     "data": {
      "text/plain": "<IPython.core.display.Javascript object>",
      "application/javascript": "\n        if (window._pyforest_update_imports_cell) { window._pyforest_update_imports_cell('from sklearn.ensemble import RandomForestClassifier\\nimport datetime as dt\\nfrom pathlib import Path\\nimport gensim\\nfrom sklearn.ensemble import GradientBoostingRegressor\\nfrom dask import dataframe as dd\\nimport plotly.express as px\\nimport tqdm\\nimport pickle\\nfrom openpyxl import load_workbook\\nfrom sklearn.preprocessing import OneHotEncoder\\nimport plotly.graph_objs as go\\nimport spacy\\nimport xgboost as xgb\\nimport plotly as py\\nimport sklearn\\nfrom sklearn.ensemble import RandomForestRegressor\\nimport matplotlib as mpl\\nimport bokeh\\nfrom sklearn.feature_extraction.text import TfidfVectorizer\\nimport seaborn as sns\\nimport glob\\nimport nltk\\nfrom sklearn.ensemble import GradientBoostingClassifier\\nimport statistics\\nfrom sklearn.model_selection import train_test_split\\nfrom sklearn.manifold import TSNE\\nfrom sklearn import svm\\nimport lightgbm as lgb'); }\n    "
     },
     "metadata": {}
    },
    {
     "output_type": "display_data",
     "data": {
      "text/plain": "<IPython.core.display.Javascript object>",
      "application/javascript": "\n        if (window._pyforest_update_imports_cell) { window._pyforest_update_imports_cell('from sklearn.ensemble import RandomForestClassifier\\nimport datetime as dt\\nfrom pathlib import Path\\nimport gensim\\nfrom sklearn.ensemble import GradientBoostingRegressor\\nfrom dask import dataframe as dd\\nimport plotly.express as px\\nimport tqdm\\nimport pickle\\nfrom openpyxl import load_workbook\\nfrom sklearn.preprocessing import OneHotEncoder\\nimport plotly.graph_objs as go\\nimport spacy\\nimport xgboost as xgb\\nimport plotly as py\\nimport sklearn\\nfrom sklearn.ensemble import RandomForestRegressor\\nimport matplotlib as mpl\\nimport bokeh\\nfrom sklearn.feature_extraction.text import TfidfVectorizer\\nimport seaborn as sns\\nimport glob\\nimport nltk\\nfrom sklearn.ensemble import GradientBoostingClassifier\\nimport statistics\\nfrom sklearn.model_selection import train_test_split\\nfrom sklearn.manifold import TSNE\\nfrom sklearn import svm\\nimport lightgbm as lgb'); }\n    "
     },
     "metadata": {}
    },
    {
     "output_type": "display_data",
     "data": {
      "text/plain": "<IPython.core.display.Javascript object>",
      "application/javascript": "\n        if (window._pyforest_update_imports_cell) { window._pyforest_update_imports_cell('from sklearn.ensemble import RandomForestClassifier\\nimport datetime as dt\\nfrom pathlib import Path\\nimport gensim\\nfrom sklearn.ensemble import GradientBoostingRegressor\\nfrom dask import dataframe as dd\\nimport plotly.express as px\\nimport tqdm\\nimport pickle\\nfrom openpyxl import load_workbook\\nfrom sklearn.preprocessing import OneHotEncoder\\nimport plotly.graph_objs as go\\nimport spacy\\nimport xgboost as xgb\\nimport plotly as py\\nimport sklearn\\nfrom sklearn.ensemble import RandomForestRegressor\\nimport matplotlib as mpl\\nimport bokeh\\nfrom sklearn.feature_extraction.text import TfidfVectorizer\\nimport seaborn as sns\\nimport glob\\nimport nltk\\nfrom sklearn.ensemble import GradientBoostingClassifier\\nimport statistics\\nfrom sklearn.model_selection import train_test_split\\nfrom sklearn.manifold import TSNE\\nfrom sklearn import svm\\nimport lightgbm as lgb'); }\n    "
     },
     "metadata": {}
    },
    {
     "output_type": "display_data",
     "data": {
      "text/plain": "<IPython.core.display.Javascript object>",
      "application/javascript": "\n        if (window._pyforest_update_imports_cell) { window._pyforest_update_imports_cell('from sklearn.ensemble import RandomForestClassifier\\nimport datetime as dt\\nfrom pathlib import Path\\nimport gensim\\nfrom sklearn.ensemble import GradientBoostingRegressor\\nfrom dask import dataframe as dd\\nimport plotly.express as px\\nimport tqdm\\nimport pickle\\nfrom openpyxl import load_workbook\\nfrom sklearn.preprocessing import OneHotEncoder\\nimport plotly.graph_objs as go\\nimport spacy\\nimport xgboost as xgb\\nimport plotly as py\\nimport sklearn\\nfrom sklearn.ensemble import RandomForestRegressor\\nimport matplotlib as mpl\\nimport bokeh\\nfrom sklearn.feature_extraction.text import TfidfVectorizer\\nimport seaborn as sns\\nimport glob\\nimport nltk\\nfrom sklearn.ensemble import GradientBoostingClassifier\\nimport statistics\\nfrom sklearn.model_selection import train_test_split\\nfrom sklearn.manifold import TSNE\\nfrom sklearn import svm\\nimport lightgbm as lgb'); }\n    "
     },
     "metadata": {}
    },
    {
     "output_type": "display_data",
     "data": {
      "text/plain": "<IPython.core.display.Javascript object>",
      "application/javascript": "\n        if (window._pyforest_update_imports_cell) { window._pyforest_update_imports_cell('from sklearn.ensemble import RandomForestClassifier\\nimport datetime as dt\\nfrom pathlib import Path\\nimport gensim\\nfrom sklearn.ensemble import GradientBoostingRegressor\\nfrom dask import dataframe as dd\\nimport plotly.express as px\\nimport tqdm\\nimport pickle\\nfrom openpyxl import load_workbook\\nfrom sklearn.preprocessing import OneHotEncoder\\nimport plotly.graph_objs as go\\nimport spacy\\nimport xgboost as xgb\\nimport plotly as py\\nimport sklearn\\nfrom sklearn.ensemble import RandomForestRegressor\\nimport matplotlib as mpl\\nimport bokeh\\nfrom sklearn.feature_extraction.text import TfidfVectorizer\\nimport seaborn as sns\\nimport glob\\nimport nltk\\nfrom sklearn.ensemble import GradientBoostingClassifier\\nimport statistics\\nfrom sklearn.model_selection import train_test_split\\nfrom sklearn.manifold import TSNE\\nfrom sklearn import svm\\nimport lightgbm as lgb'); }\n    "
     },
     "metadata": {}
    },
    {
     "output_type": "display_data",
     "data": {
      "text/plain": "<IPython.core.display.Javascript object>",
      "application/javascript": "\n        if (window._pyforest_update_imports_cell) { window._pyforest_update_imports_cell('from sklearn.ensemble import RandomForestClassifier\\nimport datetime as dt\\nfrom pathlib import Path\\nimport gensim\\nfrom sklearn.ensemble import GradientBoostingRegressor\\nfrom dask import dataframe as dd\\nimport plotly.express as px\\nimport tqdm\\nimport pickle\\nfrom openpyxl import load_workbook\\nfrom sklearn.preprocessing import OneHotEncoder\\nimport plotly.graph_objs as go\\nimport spacy\\nimport xgboost as xgb\\nimport plotly as py\\nimport sklearn\\nfrom sklearn.ensemble import RandomForestRegressor\\nimport matplotlib as mpl\\nimport bokeh\\nfrom sklearn.feature_extraction.text import TfidfVectorizer\\nimport seaborn as sns\\nimport glob\\nimport nltk\\nfrom sklearn.ensemble import GradientBoostingClassifier\\nimport statistics\\nfrom sklearn.model_selection import train_test_split\\nfrom sklearn.manifold import TSNE\\nfrom sklearn import svm\\nimport lightgbm as lgb'); }\n    "
     },
     "metadata": {}
    },
    {
     "output_type": "display_data",
     "data": {
      "text/plain": "<IPython.core.display.Javascript object>",
      "application/javascript": "\n        if (window._pyforest_update_imports_cell) { window._pyforest_update_imports_cell('from sklearn.ensemble import RandomForestClassifier\\nimport datetime as dt\\nfrom pathlib import Path\\nimport gensim\\nfrom sklearn.ensemble import GradientBoostingRegressor\\nfrom dask import dataframe as dd\\nimport plotly.express as px\\nimport tqdm\\nimport pickle\\nfrom openpyxl import load_workbook\\nfrom sklearn.preprocessing import OneHotEncoder\\nimport plotly.graph_objs as go\\nimport spacy\\nimport xgboost as xgb\\nimport plotly as py\\nimport sklearn\\nfrom sklearn.ensemble import RandomForestRegressor\\nimport matplotlib as mpl\\nimport bokeh\\nfrom sklearn.feature_extraction.text import TfidfVectorizer\\nimport seaborn as sns\\nimport glob\\nimport nltk\\nfrom sklearn.ensemble import GradientBoostingClassifier\\nimport statistics\\nfrom sklearn.model_selection import train_test_split\\nfrom sklearn.manifold import TSNE\\nfrom sklearn import svm\\nimport lightgbm as lgb'); }\n    "
     },
     "metadata": {}
    },
    {
     "output_type": "display_data",
     "data": {
      "text/plain": "<IPython.core.display.Javascript object>",
      "application/javascript": "\n        if (window._pyforest_update_imports_cell) { window._pyforest_update_imports_cell('from sklearn.ensemble import RandomForestClassifier\\nimport datetime as dt\\nfrom pathlib import Path\\nimport gensim\\nfrom sklearn.ensemble import GradientBoostingRegressor\\nfrom dask import dataframe as dd\\nimport plotly.express as px\\nimport tqdm\\nimport pickle\\nfrom openpyxl import load_workbook\\nfrom sklearn.preprocessing import OneHotEncoder\\nimport plotly.graph_objs as go\\nimport spacy\\nimport xgboost as xgb\\nimport plotly as py\\nimport sklearn\\nfrom sklearn.ensemble import RandomForestRegressor\\nimport matplotlib as mpl\\nimport bokeh\\nfrom sklearn.feature_extraction.text import TfidfVectorizer\\nimport seaborn as sns\\nimport glob\\nimport nltk\\nfrom sklearn.ensemble import GradientBoostingClassifier\\nimport statistics\\nfrom sklearn.model_selection import train_test_split\\nfrom sklearn.manifold import TSNE\\nfrom sklearn import svm\\nimport lightgbm as lgb'); }\n    "
     },
     "metadata": {}
    },
    {
     "output_type": "display_data",
     "data": {
      "text/plain": "<IPython.core.display.Javascript object>",
      "application/javascript": "\n        if (window._pyforest_update_imports_cell) { window._pyforest_update_imports_cell('from sklearn.ensemble import RandomForestClassifier\\nimport datetime as dt\\nfrom pathlib import Path\\nimport gensim\\nfrom sklearn.ensemble import GradientBoostingRegressor\\nfrom dask import dataframe as dd\\nimport plotly.express as px\\nimport tqdm\\nimport pickle\\nfrom openpyxl import load_workbook\\nfrom sklearn.preprocessing import OneHotEncoder\\nimport plotly.graph_objs as go\\nimport spacy\\nimport xgboost as xgb\\nimport plotly as py\\nimport sklearn\\nfrom sklearn.ensemble import RandomForestRegressor\\nimport matplotlib as mpl\\nimport bokeh\\nfrom sklearn.feature_extraction.text import TfidfVectorizer\\nimport seaborn as sns\\nimport glob\\nimport nltk\\nfrom sklearn.ensemble import GradientBoostingClassifier\\nimport statistics\\nfrom sklearn.model_selection import train_test_split\\nfrom sklearn.manifold import TSNE\\nfrom sklearn import svm\\nimport lightgbm as lgb'); }\n    "
     },
     "metadata": {}
    },
    {
     "output_type": "display_data",
     "data": {
      "text/plain": "<IPython.core.display.Javascript object>",
      "application/javascript": "\n        if (window._pyforest_update_imports_cell) { window._pyforest_update_imports_cell('from sklearn.ensemble import RandomForestClassifier\\nimport datetime as dt\\nfrom pathlib import Path\\nimport gensim\\nfrom sklearn.ensemble import GradientBoostingRegressor\\nfrom dask import dataframe as dd\\nimport plotly.express as px\\nimport tqdm\\nimport pickle\\nfrom openpyxl import load_workbook\\nfrom sklearn.preprocessing import OneHotEncoder\\nimport plotly.graph_objs as go\\nimport spacy\\nimport xgboost as xgb\\nimport plotly as py\\nimport sklearn\\nfrom sklearn.ensemble import RandomForestRegressor\\nimport matplotlib as mpl\\nimport bokeh\\nfrom sklearn.feature_extraction.text import TfidfVectorizer\\nimport seaborn as sns\\nimport glob\\nimport nltk\\nfrom sklearn.ensemble import GradientBoostingClassifier\\nimport statistics\\nfrom sklearn.model_selection import train_test_split\\nfrom sklearn.manifold import TSNE\\nfrom sklearn import svm\\nimport lightgbm as lgb'); }\n    "
     },
     "metadata": {}
    },
    {
     "output_type": "display_data",
     "data": {
      "text/plain": "<IPython.core.display.Javascript object>",
      "application/javascript": "\n        if (window._pyforest_update_imports_cell) { window._pyforest_update_imports_cell('from sklearn.ensemble import RandomForestClassifier\\nimport datetime as dt\\nfrom pathlib import Path\\nimport gensim\\nfrom sklearn.ensemble import GradientBoostingRegressor\\nfrom dask import dataframe as dd\\nimport plotly.express as px\\nimport tqdm\\nimport pickle\\nfrom openpyxl import load_workbook\\nfrom sklearn.preprocessing import OneHotEncoder\\nimport plotly.graph_objs as go\\nimport spacy\\nimport xgboost as xgb\\nimport plotly as py\\nimport sklearn\\nfrom sklearn.ensemble import RandomForestRegressor\\nimport matplotlib as mpl\\nimport bokeh\\nfrom sklearn.feature_extraction.text import TfidfVectorizer\\nimport seaborn as sns\\nimport glob\\nimport nltk\\nfrom sklearn.ensemble import GradientBoostingClassifier\\nimport statistics\\nfrom sklearn.model_selection import train_test_split\\nfrom sklearn.manifold import TSNE\\nfrom sklearn import svm\\nimport lightgbm as lgb'); }\n    "
     },
     "metadata": {}
    },
    {
     "output_type": "display_data",
     "data": {
      "text/plain": "<IPython.core.display.Javascript object>",
      "application/javascript": "\n        if (window._pyforest_update_imports_cell) { window._pyforest_update_imports_cell('from sklearn.ensemble import RandomForestClassifier\\nimport datetime as dt\\nfrom pathlib import Path\\nimport gensim\\nfrom sklearn.ensemble import GradientBoostingRegressor\\nfrom dask import dataframe as dd\\nimport plotly.express as px\\nimport tqdm\\nimport pickle\\nfrom openpyxl import load_workbook\\nfrom sklearn.preprocessing import OneHotEncoder\\nimport plotly.graph_objs as go\\nimport spacy\\nimport xgboost as xgb\\nimport plotly as py\\nimport sklearn\\nfrom sklearn.ensemble import RandomForestRegressor\\nimport matplotlib as mpl\\nimport bokeh\\nfrom sklearn.feature_extraction.text import TfidfVectorizer\\nimport seaborn as sns\\nimport glob\\nimport nltk\\nfrom sklearn.ensemble import GradientBoostingClassifier\\nimport statistics\\nfrom sklearn.model_selection import train_test_split\\nfrom sklearn.manifold import TSNE\\nfrom sklearn import svm\\nimport lightgbm as lgb'); }\n    "
     },
     "metadata": {}
    },
    {
     "output_type": "display_data",
     "data": {
      "text/plain": "<IPython.core.display.Javascript object>",
      "application/javascript": "\n        if (window._pyforest_update_imports_cell) { window._pyforest_update_imports_cell('from sklearn.ensemble import RandomForestClassifier\\nimport datetime as dt\\nfrom pathlib import Path\\nimport gensim\\nfrom sklearn.ensemble import GradientBoostingRegressor\\nfrom dask import dataframe as dd\\nimport plotly.express as px\\nimport tqdm\\nimport pickle\\nfrom openpyxl import load_workbook\\nfrom sklearn.preprocessing import OneHotEncoder\\nimport plotly.graph_objs as go\\nimport spacy\\nimport xgboost as xgb\\nimport plotly as py\\nimport sklearn\\nfrom sklearn.ensemble import RandomForestRegressor\\nimport matplotlib as mpl\\nimport bokeh\\nfrom sklearn.feature_extraction.text import TfidfVectorizer\\nimport seaborn as sns\\nimport glob\\nimport nltk\\nfrom sklearn.ensemble import GradientBoostingClassifier\\nimport statistics\\nfrom sklearn.model_selection import train_test_split\\nfrom sklearn.manifold import TSNE\\nfrom sklearn import svm\\nimport lightgbm as lgb'); }\n    "
     },
     "metadata": {}
    },
    {
     "output_type": "display_data",
     "data": {
      "text/plain": "<IPython.core.display.Javascript object>",
      "application/javascript": "\n        if (window._pyforest_update_imports_cell) { window._pyforest_update_imports_cell('from sklearn.ensemble import RandomForestClassifier\\nimport datetime as dt\\nfrom pathlib import Path\\nimport gensim\\nfrom sklearn.ensemble import GradientBoostingRegressor\\nfrom dask import dataframe as dd\\nimport plotly.express as px\\nimport tqdm\\nimport pickle\\nfrom openpyxl import load_workbook\\nfrom sklearn.preprocessing import OneHotEncoder\\nimport plotly.graph_objs as go\\nimport spacy\\nimport xgboost as xgb\\nimport plotly as py\\nimport sklearn\\nfrom sklearn.ensemble import RandomForestRegressor\\nimport matplotlib as mpl\\nimport bokeh\\nfrom sklearn.feature_extraction.text import TfidfVectorizer\\nimport seaborn as sns\\nimport glob\\nimport nltk\\nfrom sklearn.ensemble import GradientBoostingClassifier\\nimport statistics\\nfrom sklearn.model_selection import train_test_split\\nfrom sklearn.manifold import TSNE\\nfrom sklearn import svm\\nimport lightgbm as lgb'); }\n    "
     },
     "metadata": {}
    },
    {
     "output_type": "display_data",
     "data": {
      "text/plain": "<IPython.core.display.Javascript object>",
      "application/javascript": "\n        if (window._pyforest_update_imports_cell) { window._pyforest_update_imports_cell('from sklearn.ensemble import RandomForestClassifier\\nimport datetime as dt\\nfrom pathlib import Path\\nimport gensim\\nfrom sklearn.ensemble import GradientBoostingRegressor\\nfrom dask import dataframe as dd\\nimport plotly.express as px\\nimport tqdm\\nimport pickle\\nfrom openpyxl import load_workbook\\nfrom sklearn.preprocessing import OneHotEncoder\\nimport plotly.graph_objs as go\\nimport spacy\\nimport xgboost as xgb\\nimport plotly as py\\nimport sklearn\\nfrom sklearn.ensemble import RandomForestRegressor\\nimport matplotlib as mpl\\nimport bokeh\\nfrom sklearn.feature_extraction.text import TfidfVectorizer\\nimport seaborn as sns\\nimport glob\\nimport nltk\\nfrom sklearn.ensemble import GradientBoostingClassifier\\nimport statistics\\nfrom sklearn.model_selection import train_test_split\\nfrom sklearn.manifold import TSNE\\nfrom sklearn import svm\\nimport lightgbm as lgb'); }\n    "
     },
     "metadata": {}
    },
    {
     "output_type": "display_data",
     "data": {
      "text/plain": "<IPython.core.display.Javascript object>",
      "application/javascript": "\n        if (window._pyforest_update_imports_cell) { window._pyforest_update_imports_cell('from sklearn.ensemble import RandomForestClassifier\\nimport datetime as dt\\nfrom pathlib import Path\\nimport gensim\\nfrom sklearn.ensemble import GradientBoostingRegressor\\nfrom dask import dataframe as dd\\nimport plotly.express as px\\nimport tqdm\\nimport pickle\\nfrom openpyxl import load_workbook\\nfrom sklearn.preprocessing import OneHotEncoder\\nimport plotly.graph_objs as go\\nimport spacy\\nimport xgboost as xgb\\nimport plotly as py\\nimport sklearn\\nfrom sklearn.ensemble import RandomForestRegressor\\nimport matplotlib as mpl\\nimport bokeh\\nfrom sklearn.feature_extraction.text import TfidfVectorizer\\nimport seaborn as sns\\nimport glob\\nimport nltk\\nfrom sklearn.ensemble import GradientBoostingClassifier\\nimport statistics\\nfrom sklearn.model_selection import train_test_split\\nfrom sklearn.manifold import TSNE\\nfrom sklearn import svm\\nimport lightgbm as lgb'); }\n    "
     },
     "metadata": {}
    },
    {
     "output_type": "display_data",
     "data": {
      "text/plain": "<IPython.core.display.Javascript object>",
      "application/javascript": "\n        if (window._pyforest_update_imports_cell) { window._pyforest_update_imports_cell('from sklearn.ensemble import RandomForestClassifier\\nimport datetime as dt\\nfrom pathlib import Path\\nimport gensim\\nfrom sklearn.ensemble import GradientBoostingRegressor\\nfrom dask import dataframe as dd\\nimport plotly.express as px\\nimport tqdm\\nimport pickle\\nfrom openpyxl import load_workbook\\nfrom sklearn.preprocessing import OneHotEncoder\\nimport plotly.graph_objs as go\\nimport spacy\\nimport xgboost as xgb\\nimport plotly as py\\nimport sklearn\\nfrom sklearn.ensemble import RandomForestRegressor\\nimport matplotlib as mpl\\nimport bokeh\\nfrom sklearn.feature_extraction.text import TfidfVectorizer\\nimport seaborn as sns\\nimport glob\\nimport nltk\\nfrom sklearn.ensemble import GradientBoostingClassifier\\nimport statistics\\nfrom sklearn.model_selection import train_test_split\\nfrom sklearn.manifold import TSNE\\nfrom sklearn import svm\\nimport lightgbm as lgb'); }\n    "
     },
     "metadata": {}
    },
    {
     "output_type": "display_data",
     "data": {
      "text/plain": "<IPython.core.display.Javascript object>",
      "application/javascript": "\n        if (window._pyforest_update_imports_cell) { window._pyforest_update_imports_cell('from sklearn.ensemble import RandomForestClassifier\\nimport datetime as dt\\nfrom pathlib import Path\\nimport gensim\\nfrom sklearn.ensemble import GradientBoostingRegressor\\nfrom dask import dataframe as dd\\nimport plotly.express as px\\nimport tqdm\\nimport pickle\\nfrom openpyxl import load_workbook\\nfrom sklearn.preprocessing import OneHotEncoder\\nimport plotly.graph_objs as go\\nimport spacy\\nimport xgboost as xgb\\nimport plotly as py\\nimport sklearn\\nfrom sklearn.ensemble import RandomForestRegressor\\nimport matplotlib as mpl\\nimport bokeh\\nfrom sklearn.feature_extraction.text import TfidfVectorizer\\nimport seaborn as sns\\nimport glob\\nimport nltk\\nfrom sklearn.ensemble import GradientBoostingClassifier\\nimport statistics\\nfrom sklearn.model_selection import train_test_split\\nfrom sklearn.manifold import TSNE\\nfrom sklearn import svm\\nimport lightgbm as lgb'); }\n    "
     },
     "metadata": {}
    },
    {
     "output_type": "display_data",
     "data": {
      "text/plain": "<IPython.core.display.Javascript object>",
      "application/javascript": "\n        if (window._pyforest_update_imports_cell) { window._pyforest_update_imports_cell('from sklearn.ensemble import RandomForestClassifier\\nimport datetime as dt\\nfrom pathlib import Path\\nimport gensim\\nfrom sklearn.ensemble import GradientBoostingRegressor\\nfrom dask import dataframe as dd\\nimport plotly.express as px\\nimport tqdm\\nimport pickle\\nfrom openpyxl import load_workbook\\nfrom sklearn.preprocessing import OneHotEncoder\\nimport plotly.graph_objs as go\\nimport spacy\\nimport xgboost as xgb\\nimport plotly as py\\nimport sklearn\\nfrom sklearn.ensemble import RandomForestRegressor\\nimport matplotlib as mpl\\nimport bokeh\\nfrom sklearn.feature_extraction.text import TfidfVectorizer\\nimport seaborn as sns\\nimport glob\\nimport nltk\\nfrom sklearn.ensemble import GradientBoostingClassifier\\nimport statistics\\nfrom sklearn.model_selection import train_test_split\\nfrom sklearn.manifold import TSNE\\nfrom sklearn import svm\\nimport lightgbm as lgb'); }\n    "
     },
     "metadata": {}
    },
    {
     "output_type": "display_data",
     "data": {
      "text/plain": "<IPython.core.display.Javascript object>",
      "application/javascript": "\n        if (window._pyforest_update_imports_cell) { window._pyforest_update_imports_cell('from sklearn.ensemble import RandomForestClassifier\\nimport datetime as dt\\nfrom pathlib import Path\\nimport gensim\\nfrom sklearn.ensemble import GradientBoostingRegressor\\nfrom dask import dataframe as dd\\nimport plotly.express as px\\nimport tqdm\\nimport pickle\\nfrom openpyxl import load_workbook\\nfrom sklearn.preprocessing import OneHotEncoder\\nimport plotly.graph_objs as go\\nimport spacy\\nimport xgboost as xgb\\nimport plotly as py\\nimport sklearn\\nfrom sklearn.ensemble import RandomForestRegressor\\nimport matplotlib as mpl\\nimport bokeh\\nfrom sklearn.feature_extraction.text import TfidfVectorizer\\nimport seaborn as sns\\nimport glob\\nimport nltk\\nfrom sklearn.ensemble import GradientBoostingClassifier\\nimport statistics\\nfrom sklearn.model_selection import train_test_split\\nfrom sklearn.manifold import TSNE\\nfrom sklearn import svm\\nimport lightgbm as lgb'); }\n    "
     },
     "metadata": {}
    },
    {
     "output_type": "display_data",
     "data": {
      "text/plain": "<IPython.core.display.Javascript object>",
      "application/javascript": "\n        if (window._pyforest_update_imports_cell) { window._pyforest_update_imports_cell('from sklearn.ensemble import RandomForestClassifier\\nimport datetime as dt\\nfrom pathlib import Path\\nimport gensim\\nfrom sklearn.ensemble import GradientBoostingRegressor\\nfrom dask import dataframe as dd\\nimport plotly.express as px\\nimport tqdm\\nimport pickle\\nfrom openpyxl import load_workbook\\nfrom sklearn.preprocessing import OneHotEncoder\\nimport plotly.graph_objs as go\\nimport spacy\\nimport xgboost as xgb\\nimport plotly as py\\nimport sklearn\\nfrom sklearn.ensemble import RandomForestRegressor\\nimport matplotlib as mpl\\nimport bokeh\\nfrom sklearn.feature_extraction.text import TfidfVectorizer\\nimport seaborn as sns\\nimport glob\\nimport nltk\\nfrom sklearn.ensemble import GradientBoostingClassifier\\nimport statistics\\nfrom sklearn.model_selection import train_test_split\\nfrom sklearn.manifold import TSNE\\nfrom sklearn import svm\\nimport lightgbm as lgb'); }\n    "
     },
     "metadata": {}
    },
    {
     "output_type": "display_data",
     "data": {
      "text/plain": "<IPython.core.display.Javascript object>",
      "application/javascript": "\n        if (window._pyforest_update_imports_cell) { window._pyforest_update_imports_cell('from sklearn.ensemble import RandomForestClassifier\\nimport datetime as dt\\nfrom pathlib import Path\\nimport gensim\\nfrom sklearn.ensemble import GradientBoostingRegressor\\nfrom dask import dataframe as dd\\nimport plotly.express as px\\nimport tqdm\\nimport pickle\\nfrom openpyxl import load_workbook\\nfrom sklearn.preprocessing import OneHotEncoder\\nimport plotly.graph_objs as go\\nimport spacy\\nimport xgboost as xgb\\nimport plotly as py\\nimport sklearn\\nfrom sklearn.ensemble import RandomForestRegressor\\nimport matplotlib as mpl\\nimport bokeh\\nfrom sklearn.feature_extraction.text import TfidfVectorizer\\nimport seaborn as sns\\nimport glob\\nimport nltk\\nfrom sklearn.ensemble import GradientBoostingClassifier\\nimport statistics\\nfrom sklearn.model_selection import train_test_split\\nfrom sklearn.manifold import TSNE\\nfrom sklearn import svm\\nimport lightgbm as lgb'); }\n    "
     },
     "metadata": {}
    },
    {
     "output_type": "display_data",
     "data": {
      "text/plain": "<IPython.core.display.Javascript object>",
      "application/javascript": "\n        if (window._pyforest_update_imports_cell) { window._pyforest_update_imports_cell('from sklearn.ensemble import RandomForestClassifier\\nimport datetime as dt\\nfrom pathlib import Path\\nimport gensim\\nfrom sklearn.ensemble import GradientBoostingRegressor\\nfrom dask import dataframe as dd\\nimport plotly.express as px\\nimport tqdm\\nimport pickle\\nfrom openpyxl import load_workbook\\nfrom sklearn.preprocessing import OneHotEncoder\\nimport plotly.graph_objs as go\\nimport spacy\\nimport xgboost as xgb\\nimport plotly as py\\nimport sklearn\\nfrom sklearn.ensemble import RandomForestRegressor\\nimport matplotlib as mpl\\nimport bokeh\\nfrom sklearn.feature_extraction.text import TfidfVectorizer\\nimport seaborn as sns\\nimport glob\\nimport nltk\\nfrom sklearn.ensemble import GradientBoostingClassifier\\nimport statistics\\nfrom sklearn.model_selection import train_test_split\\nfrom sklearn.manifold import TSNE\\nfrom sklearn import svm\\nimport lightgbm as lgb'); }\n    "
     },
     "metadata": {}
    },
    {
     "output_type": "display_data",
     "data": {
      "text/plain": "<IPython.core.display.Javascript object>",
      "application/javascript": "\n        if (window._pyforest_update_imports_cell) { window._pyforest_update_imports_cell('from sklearn.ensemble import RandomForestClassifier\\nimport datetime as dt\\nfrom pathlib import Path\\nimport gensim\\nfrom sklearn.ensemble import GradientBoostingRegressor\\nfrom dask import dataframe as dd\\nimport plotly.express as px\\nimport tqdm\\nimport pickle\\nfrom openpyxl import load_workbook\\nfrom sklearn.preprocessing import OneHotEncoder\\nimport plotly.graph_objs as go\\nimport spacy\\nimport xgboost as xgb\\nimport plotly as py\\nimport sklearn\\nfrom sklearn.ensemble import RandomForestRegressor\\nimport matplotlib as mpl\\nimport bokeh\\nfrom sklearn.feature_extraction.text import TfidfVectorizer\\nimport seaborn as sns\\nimport glob\\nimport nltk\\nfrom sklearn.ensemble import GradientBoostingClassifier\\nimport statistics\\nfrom sklearn.model_selection import train_test_split\\nfrom sklearn.manifold import TSNE\\nfrom sklearn import svm\\nimport lightgbm as lgb'); }\n    "
     },
     "metadata": {}
    },
    {
     "output_type": "display_data",
     "data": {
      "text/plain": "<IPython.core.display.Javascript object>",
      "application/javascript": "\n        if (window._pyforest_update_imports_cell) { window._pyforest_update_imports_cell('from sklearn.ensemble import RandomForestClassifier\\nimport datetime as dt\\nfrom pathlib import Path\\nimport gensim\\nfrom sklearn.ensemble import GradientBoostingRegressor\\nfrom dask import dataframe as dd\\nimport plotly.express as px\\nimport tqdm\\nimport pickle\\nfrom openpyxl import load_workbook\\nfrom sklearn.preprocessing import OneHotEncoder\\nimport plotly.graph_objs as go\\nimport spacy\\nimport xgboost as xgb\\nimport plotly as py\\nimport sklearn\\nfrom sklearn.ensemble import RandomForestRegressor\\nimport matplotlib as mpl\\nimport bokeh\\nfrom sklearn.feature_extraction.text import TfidfVectorizer\\nimport seaborn as sns\\nimport glob\\nimport nltk\\nfrom sklearn.ensemble import GradientBoostingClassifier\\nimport statistics\\nfrom sklearn.model_selection import train_test_split\\nfrom sklearn.manifold import TSNE\\nfrom sklearn import svm\\nimport lightgbm as lgb'); }\n    "
     },
     "metadata": {}
    },
    {
     "output_type": "display_data",
     "data": {
      "text/plain": "<IPython.core.display.Javascript object>",
      "application/javascript": "\n        if (window._pyforest_update_imports_cell) { window._pyforest_update_imports_cell('from sklearn.ensemble import RandomForestClassifier\\nimport datetime as dt\\nfrom pathlib import Path\\nimport gensim\\nfrom sklearn.ensemble import GradientBoostingRegressor\\nfrom dask import dataframe as dd\\nimport plotly.express as px\\nimport tqdm\\nimport pickle\\nfrom openpyxl import load_workbook\\nfrom sklearn.preprocessing import OneHotEncoder\\nimport plotly.graph_objs as go\\nimport spacy\\nimport xgboost as xgb\\nimport plotly as py\\nimport sklearn\\nfrom sklearn.ensemble import RandomForestRegressor\\nimport matplotlib as mpl\\nimport bokeh\\nfrom sklearn.feature_extraction.text import TfidfVectorizer\\nimport seaborn as sns\\nimport glob\\nimport nltk\\nfrom sklearn.ensemble import GradientBoostingClassifier\\nimport statistics\\nfrom sklearn.model_selection import train_test_split\\nfrom sklearn.manifold import TSNE\\nfrom sklearn import svm\\nimport lightgbm as lgb'); }\n    "
     },
     "metadata": {}
    },
    {
     "output_type": "display_data",
     "data": {
      "text/plain": "<IPython.core.display.Javascript object>",
      "application/javascript": "\n        if (window._pyforest_update_imports_cell) { window._pyforest_update_imports_cell('from sklearn.ensemble import RandomForestClassifier\\nimport datetime as dt\\nfrom pathlib import Path\\nimport gensim\\nfrom sklearn.ensemble import GradientBoostingRegressor\\nfrom dask import dataframe as dd\\nimport plotly.express as px\\nimport tqdm\\nimport pickle\\nfrom openpyxl import load_workbook\\nfrom sklearn.preprocessing import OneHotEncoder\\nimport plotly.graph_objs as go\\nimport spacy\\nimport xgboost as xgb\\nimport plotly as py\\nimport sklearn\\nfrom sklearn.ensemble import RandomForestRegressor\\nimport matplotlib as mpl\\nimport bokeh\\nfrom sklearn.feature_extraction.text import TfidfVectorizer\\nimport seaborn as sns\\nimport glob\\nimport nltk\\nfrom sklearn.ensemble import GradientBoostingClassifier\\nimport statistics\\nfrom sklearn.model_selection import train_test_split\\nfrom sklearn.manifold import TSNE\\nfrom sklearn import svm\\nimport lightgbm as lgb'); }\n    "
     },
     "metadata": {}
    },
    {
     "output_type": "display_data",
     "data": {
      "text/plain": "<IPython.core.display.Javascript object>",
      "application/javascript": "\n        if (window._pyforest_update_imports_cell) { window._pyforest_update_imports_cell('from sklearn.ensemble import RandomForestClassifier\\nimport datetime as dt\\nfrom pathlib import Path\\nimport gensim\\nfrom sklearn.ensemble import GradientBoostingRegressor\\nfrom dask import dataframe as dd\\nimport plotly.express as px\\nimport tqdm\\nimport pickle\\nfrom openpyxl import load_workbook\\nfrom sklearn.preprocessing import OneHotEncoder\\nimport plotly.graph_objs as go\\nimport spacy\\nimport xgboost as xgb\\nimport plotly as py\\nimport sklearn\\nfrom sklearn.ensemble import RandomForestRegressor\\nimport matplotlib as mpl\\nimport bokeh\\nfrom sklearn.feature_extraction.text import TfidfVectorizer\\nimport seaborn as sns\\nimport glob\\nimport nltk\\nfrom sklearn.ensemble import GradientBoostingClassifier\\nimport statistics\\nfrom sklearn.model_selection import train_test_split\\nfrom sklearn.manifold import TSNE\\nfrom sklearn import svm\\nimport lightgbm as lgb'); }\n    "
     },
     "metadata": {}
    },
    {
     "output_type": "display_data",
     "data": {
      "text/plain": "<IPython.core.display.Javascript object>",
      "application/javascript": "\n        if (window._pyforest_update_imports_cell) { window._pyforest_update_imports_cell('from sklearn.ensemble import RandomForestClassifier\\nimport datetime as dt\\nfrom pathlib import Path\\nimport gensim\\nfrom sklearn.ensemble import GradientBoostingRegressor\\nfrom dask import dataframe as dd\\nimport plotly.express as px\\nimport tqdm\\nimport pickle\\nfrom openpyxl import load_workbook\\nfrom sklearn.preprocessing import OneHotEncoder\\nimport plotly.graph_objs as go\\nimport spacy\\nimport xgboost as xgb\\nimport plotly as py\\nimport sklearn\\nfrom sklearn.ensemble import RandomForestRegressor\\nimport matplotlib as mpl\\nimport bokeh\\nfrom sklearn.feature_extraction.text import TfidfVectorizer\\nimport seaborn as sns\\nimport glob\\nimport nltk\\nfrom sklearn.ensemble import GradientBoostingClassifier\\nimport statistics\\nfrom sklearn.model_selection import train_test_split\\nfrom sklearn.manifold import TSNE\\nfrom sklearn import svm\\nimport lightgbm as lgb'); }\n    "
     },
     "metadata": {}
    },
    {
     "output_type": "display_data",
     "data": {
      "text/plain": "<IPython.core.display.Javascript object>",
      "application/javascript": "\n        if (window._pyforest_update_imports_cell) { window._pyforest_update_imports_cell('from sklearn.ensemble import RandomForestClassifier\\nimport datetime as dt\\nfrom pathlib import Path\\nimport gensim\\nfrom sklearn.ensemble import GradientBoostingRegressor\\nfrom dask import dataframe as dd\\nimport plotly.express as px\\nimport tqdm\\nimport pickle\\nfrom openpyxl import load_workbook\\nfrom sklearn.preprocessing import OneHotEncoder\\nimport plotly.graph_objs as go\\nimport spacy\\nimport xgboost as xgb\\nimport plotly as py\\nimport sklearn\\nfrom sklearn.ensemble import RandomForestRegressor\\nimport matplotlib as mpl\\nimport bokeh\\nfrom sklearn.feature_extraction.text import TfidfVectorizer\\nimport seaborn as sns\\nimport glob\\nimport nltk\\nfrom sklearn.ensemble import GradientBoostingClassifier\\nimport statistics\\nfrom sklearn.model_selection import train_test_split\\nfrom sklearn.manifold import TSNE\\nfrom sklearn import svm\\nimport lightgbm as lgb'); }\n    "
     },
     "metadata": {}
    },
    {
     "output_type": "display_data",
     "data": {
      "text/plain": "<IPython.core.display.Javascript object>",
      "application/javascript": "\n        if (window._pyforest_update_imports_cell) { window._pyforest_update_imports_cell('from sklearn.ensemble import RandomForestClassifier\\nimport datetime as dt\\nfrom pathlib import Path\\nimport gensim\\nfrom sklearn.ensemble import GradientBoostingRegressor\\nfrom dask import dataframe as dd\\nimport plotly.express as px\\nimport tqdm\\nimport pickle\\nfrom openpyxl import load_workbook\\nfrom sklearn.preprocessing import OneHotEncoder\\nimport plotly.graph_objs as go\\nimport spacy\\nimport xgboost as xgb\\nimport plotly as py\\nimport sklearn\\nfrom sklearn.ensemble import RandomForestRegressor\\nimport matplotlib as mpl\\nimport bokeh\\nfrom sklearn.feature_extraction.text import TfidfVectorizer\\nimport seaborn as sns\\nimport glob\\nimport nltk\\nfrom sklearn.ensemble import GradientBoostingClassifier\\nimport statistics\\nfrom sklearn.model_selection import train_test_split\\nfrom sklearn.manifold import TSNE\\nfrom sklearn import svm\\nimport lightgbm as lgb'); }\n    "
     },
     "metadata": {}
    },
    {
     "output_type": "display_data",
     "data": {
      "text/plain": "<IPython.core.display.Javascript object>",
      "application/javascript": "\n        if (window._pyforest_update_imports_cell) { window._pyforest_update_imports_cell('from sklearn.ensemble import RandomForestClassifier\\nimport datetime as dt\\nfrom pathlib import Path\\nimport gensim\\nfrom sklearn.ensemble import GradientBoostingRegressor\\nfrom dask import dataframe as dd\\nimport plotly.express as px\\nimport tqdm\\nimport pickle\\nfrom openpyxl import load_workbook\\nfrom sklearn.preprocessing import OneHotEncoder\\nimport plotly.graph_objs as go\\nimport spacy\\nimport xgboost as xgb\\nimport plotly as py\\nimport sklearn\\nfrom sklearn.ensemble import RandomForestRegressor\\nimport matplotlib as mpl\\nimport bokeh\\nfrom sklearn.feature_extraction.text import TfidfVectorizer\\nimport seaborn as sns\\nimport glob\\nimport nltk\\nfrom sklearn.ensemble import GradientBoostingClassifier\\nimport statistics\\nfrom sklearn.model_selection import train_test_split\\nfrom sklearn.manifold import TSNE\\nfrom sklearn import svm\\nimport lightgbm as lgb'); }\n    "
     },
     "metadata": {}
    },
    {
     "output_type": "display_data",
     "data": {
      "text/plain": "<IPython.core.display.Javascript object>",
      "application/javascript": "\n        if (window._pyforest_update_imports_cell) { window._pyforest_update_imports_cell('from sklearn.ensemble import RandomForestClassifier\\nimport datetime as dt\\nfrom pathlib import Path\\nimport gensim\\nfrom sklearn.ensemble import GradientBoostingRegressor\\nfrom dask import dataframe as dd\\nimport plotly.express as px\\nimport tqdm\\nimport pickle\\nfrom openpyxl import load_workbook\\nfrom sklearn.preprocessing import OneHotEncoder\\nimport plotly.graph_objs as go\\nimport spacy\\nimport xgboost as xgb\\nimport plotly as py\\nimport sklearn\\nfrom sklearn.ensemble import RandomForestRegressor\\nimport matplotlib as mpl\\nimport bokeh\\nfrom sklearn.feature_extraction.text import TfidfVectorizer\\nimport seaborn as sns\\nimport glob\\nimport nltk\\nfrom sklearn.ensemble import GradientBoostingClassifier\\nimport statistics\\nfrom sklearn.model_selection import train_test_split\\nfrom sklearn.manifold import TSNE\\nfrom sklearn import svm\\nimport lightgbm as lgb'); }\n    "
     },
     "metadata": {}
    },
    {
     "output_type": "display_data",
     "data": {
      "text/plain": "<IPython.core.display.Javascript object>",
      "application/javascript": "\n        if (window._pyforest_update_imports_cell) { window._pyforest_update_imports_cell('from sklearn.ensemble import RandomForestClassifier\\nimport datetime as dt\\nfrom pathlib import Path\\nimport gensim\\nfrom sklearn.ensemble import GradientBoostingRegressor\\nfrom dask import dataframe as dd\\nimport plotly.express as px\\nimport tqdm\\nimport pickle\\nfrom openpyxl import load_workbook\\nfrom sklearn.preprocessing import OneHotEncoder\\nimport plotly.graph_objs as go\\nimport spacy\\nimport xgboost as xgb\\nimport plotly as py\\nimport sklearn\\nfrom sklearn.ensemble import RandomForestRegressor\\nimport matplotlib as mpl\\nimport bokeh\\nfrom sklearn.feature_extraction.text import TfidfVectorizer\\nimport seaborn as sns\\nimport glob\\nimport nltk\\nfrom sklearn.ensemble import GradientBoostingClassifier\\nimport statistics\\nfrom sklearn.model_selection import train_test_split\\nfrom sklearn.manifold import TSNE\\nfrom sklearn import svm\\nimport lightgbm as lgb'); }\n    "
     },
     "metadata": {}
    },
    {
     "output_type": "display_data",
     "data": {
      "text/plain": "<IPython.core.display.Javascript object>",
      "application/javascript": "\n        if (window._pyforest_update_imports_cell) { window._pyforest_update_imports_cell('from sklearn.ensemble import RandomForestClassifier\\nimport datetime as dt\\nfrom pathlib import Path\\nimport gensim\\nfrom sklearn.ensemble import GradientBoostingRegressor\\nfrom dask import dataframe as dd\\nimport plotly.express as px\\nimport tqdm\\nimport pickle\\nfrom openpyxl import load_workbook\\nfrom sklearn.preprocessing import OneHotEncoder\\nimport plotly.graph_objs as go\\nimport spacy\\nimport xgboost as xgb\\nimport plotly as py\\nimport sklearn\\nfrom sklearn.ensemble import RandomForestRegressor\\nimport matplotlib as mpl\\nimport bokeh\\nfrom sklearn.feature_extraction.text import TfidfVectorizer\\nimport seaborn as sns\\nimport glob\\nimport nltk\\nfrom sklearn.ensemble import GradientBoostingClassifier\\nimport statistics\\nfrom sklearn.model_selection import train_test_split\\nfrom sklearn.manifold import TSNE\\nfrom sklearn import svm\\nimport lightgbm as lgb'); }\n    "
     },
     "metadata": {}
    },
    {
     "output_type": "display_data",
     "data": {
      "text/plain": "<IPython.core.display.Javascript object>",
      "application/javascript": "\n        if (window._pyforest_update_imports_cell) { window._pyforest_update_imports_cell('from sklearn.ensemble import RandomForestClassifier\\nimport datetime as dt\\nfrom pathlib import Path\\nimport gensim\\nfrom sklearn.ensemble import GradientBoostingRegressor\\nfrom dask import dataframe as dd\\nimport plotly.express as px\\nimport tqdm\\nimport pickle\\nfrom openpyxl import load_workbook\\nfrom sklearn.preprocessing import OneHotEncoder\\nimport plotly.graph_objs as go\\nimport spacy\\nimport xgboost as xgb\\nimport plotly as py\\nimport sklearn\\nfrom sklearn.ensemble import RandomForestRegressor\\nimport matplotlib as mpl\\nimport bokeh\\nfrom sklearn.feature_extraction.text import TfidfVectorizer\\nimport seaborn as sns\\nimport glob\\nimport nltk\\nfrom sklearn.ensemble import GradientBoostingClassifier\\nimport statistics\\nfrom sklearn.model_selection import train_test_split\\nfrom sklearn.manifold import TSNE\\nfrom sklearn import svm\\nimport lightgbm as lgb'); }\n    "
     },
     "metadata": {}
    },
    {
     "output_type": "display_data",
     "data": {
      "text/plain": "<IPython.core.display.Javascript object>",
      "application/javascript": "\n        if (window._pyforest_update_imports_cell) { window._pyforest_update_imports_cell('from sklearn.ensemble import RandomForestClassifier\\nimport datetime as dt\\nfrom pathlib import Path\\nimport gensim\\nfrom sklearn.ensemble import GradientBoostingRegressor\\nfrom dask import dataframe as dd\\nimport plotly.express as px\\nimport tqdm\\nimport pickle\\nfrom openpyxl import load_workbook\\nfrom sklearn.preprocessing import OneHotEncoder\\nimport plotly.graph_objs as go\\nimport spacy\\nimport xgboost as xgb\\nimport plotly as py\\nimport sklearn\\nfrom sklearn.ensemble import RandomForestRegressor\\nimport matplotlib as mpl\\nimport bokeh\\nfrom sklearn.feature_extraction.text import TfidfVectorizer\\nimport seaborn as sns\\nimport glob\\nimport nltk\\nfrom sklearn.ensemble import GradientBoostingClassifier\\nimport statistics\\nfrom sklearn.model_selection import train_test_split\\nfrom sklearn.manifold import TSNE\\nfrom sklearn import svm\\nimport lightgbm as lgb'); }\n    "
     },
     "metadata": {}
    },
    {
     "output_type": "display_data",
     "data": {
      "text/plain": "<IPython.core.display.Javascript object>",
      "application/javascript": "\n        if (window._pyforest_update_imports_cell) { window._pyforest_update_imports_cell('from sklearn.ensemble import RandomForestClassifier\\nimport datetime as dt\\nfrom pathlib import Path\\nimport gensim\\nfrom sklearn.ensemble import GradientBoostingRegressor\\nfrom dask import dataframe as dd\\nimport plotly.express as px\\nimport tqdm\\nimport pickle\\nfrom openpyxl import load_workbook\\nfrom sklearn.preprocessing import OneHotEncoder\\nimport plotly.graph_objs as go\\nimport spacy\\nimport xgboost as xgb\\nimport plotly as py\\nimport sklearn\\nfrom sklearn.ensemble import RandomForestRegressor\\nimport matplotlib as mpl\\nimport bokeh\\nfrom sklearn.feature_extraction.text import TfidfVectorizer\\nimport seaborn as sns\\nimport glob\\nimport nltk\\nfrom sklearn.ensemble import GradientBoostingClassifier\\nimport statistics\\nfrom sklearn.model_selection import train_test_split\\nfrom sklearn.manifold import TSNE\\nfrom sklearn import svm\\nimport lightgbm as lgb'); }\n    "
     },
     "metadata": {}
    },
    {
     "output_type": "display_data",
     "data": {
      "text/plain": "<IPython.core.display.Javascript object>",
      "application/javascript": "\n        if (window._pyforest_update_imports_cell) { window._pyforest_update_imports_cell('from sklearn.ensemble import RandomForestClassifier\\nimport datetime as dt\\nfrom pathlib import Path\\nimport gensim\\nfrom sklearn.ensemble import GradientBoostingRegressor\\nfrom dask import dataframe as dd\\nimport plotly.express as px\\nimport tqdm\\nimport pickle\\nfrom openpyxl import load_workbook\\nfrom sklearn.preprocessing import OneHotEncoder\\nimport plotly.graph_objs as go\\nimport spacy\\nimport xgboost as xgb\\nimport plotly as py\\nimport sklearn\\nfrom sklearn.ensemble import RandomForestRegressor\\nimport matplotlib as mpl\\nimport bokeh\\nfrom sklearn.feature_extraction.text import TfidfVectorizer\\nimport seaborn as sns\\nimport glob\\nimport nltk\\nfrom sklearn.ensemble import GradientBoostingClassifier\\nimport statistics\\nfrom sklearn.model_selection import train_test_split\\nfrom sklearn.manifold import TSNE\\nfrom sklearn import svm\\nimport lightgbm as lgb'); }\n    "
     },
     "metadata": {}
    },
    {
     "output_type": "display_data",
     "data": {
      "text/plain": "<IPython.core.display.Javascript object>",
      "application/javascript": "\n        if (window._pyforest_update_imports_cell) { window._pyforest_update_imports_cell('from sklearn.ensemble import RandomForestClassifier\\nimport datetime as dt\\nfrom pathlib import Path\\nimport gensim\\nfrom sklearn.ensemble import GradientBoostingRegressor\\nfrom dask import dataframe as dd\\nimport plotly.express as px\\nimport tqdm\\nimport pickle\\nfrom openpyxl import load_workbook\\nfrom sklearn.preprocessing import OneHotEncoder\\nimport plotly.graph_objs as go\\nimport spacy\\nimport xgboost as xgb\\nimport plotly as py\\nimport sklearn\\nfrom sklearn.ensemble import RandomForestRegressor\\nimport matplotlib as mpl\\nimport bokeh\\nfrom sklearn.feature_extraction.text import TfidfVectorizer\\nimport seaborn as sns\\nimport glob\\nimport nltk\\nfrom sklearn.ensemble import GradientBoostingClassifier\\nimport statistics\\nfrom sklearn.model_selection import train_test_split\\nfrom sklearn.manifold import TSNE\\nfrom sklearn import svm\\nimport lightgbm as lgb'); }\n    "
     },
     "metadata": {}
    },
    {
     "output_type": "display_data",
     "data": {
      "text/plain": "<IPython.core.display.Javascript object>",
      "application/javascript": "\n        if (window._pyforest_update_imports_cell) { window._pyforest_update_imports_cell('from sklearn.ensemble import RandomForestClassifier\\nimport datetime as dt\\nfrom pathlib import Path\\nimport gensim\\nfrom sklearn.ensemble import GradientBoostingRegressor\\nfrom dask import dataframe as dd\\nimport plotly.express as px\\nimport tqdm\\nimport pickle\\nfrom openpyxl import load_workbook\\nfrom sklearn.preprocessing import OneHotEncoder\\nimport plotly.graph_objs as go\\nimport spacy\\nimport xgboost as xgb\\nimport plotly as py\\nimport sklearn\\nfrom sklearn.ensemble import RandomForestRegressor\\nimport matplotlib as mpl\\nimport bokeh\\nfrom sklearn.feature_extraction.text import TfidfVectorizer\\nimport seaborn as sns\\nimport glob\\nimport nltk\\nfrom sklearn.ensemble import GradientBoostingClassifier\\nimport statistics\\nfrom sklearn.model_selection import train_test_split\\nfrom sklearn.manifold import TSNE\\nfrom sklearn import svm\\nimport lightgbm as lgb'); }\n    "
     },
     "metadata": {}
    },
    {
     "output_type": "display_data",
     "data": {
      "text/plain": "<IPython.core.display.Javascript object>",
      "application/javascript": "\n        if (window._pyforest_update_imports_cell) { window._pyforest_update_imports_cell('from sklearn.ensemble import RandomForestClassifier\\nimport datetime as dt\\nfrom pathlib import Path\\nimport gensim\\nfrom sklearn.ensemble import GradientBoostingRegressor\\nfrom dask import dataframe as dd\\nimport plotly.express as px\\nimport tqdm\\nimport pickle\\nfrom openpyxl import load_workbook\\nfrom sklearn.preprocessing import OneHotEncoder\\nimport plotly.graph_objs as go\\nimport spacy\\nimport xgboost as xgb\\nimport plotly as py\\nimport sklearn\\nfrom sklearn.ensemble import RandomForestRegressor\\nimport matplotlib as mpl\\nimport bokeh\\nfrom sklearn.feature_extraction.text import TfidfVectorizer\\nimport seaborn as sns\\nimport glob\\nimport nltk\\nfrom sklearn.ensemble import GradientBoostingClassifier\\nimport statistics\\nfrom sklearn.model_selection import train_test_split\\nfrom sklearn.manifold import TSNE\\nfrom sklearn import svm\\nimport lightgbm as lgb'); }\n    "
     },
     "metadata": {}
    },
    {
     "output_type": "display_data",
     "data": {
      "text/plain": "<IPython.core.display.Javascript object>",
      "application/javascript": "\n        if (window._pyforest_update_imports_cell) { window._pyforest_update_imports_cell('from sklearn.ensemble import RandomForestClassifier\\nimport datetime as dt\\nfrom pathlib import Path\\nimport gensim\\nfrom sklearn.ensemble import GradientBoostingRegressor\\nfrom dask import dataframe as dd\\nimport plotly.express as px\\nimport tqdm\\nimport pickle\\nfrom openpyxl import load_workbook\\nfrom sklearn.preprocessing import OneHotEncoder\\nimport plotly.graph_objs as go\\nimport spacy\\nimport xgboost as xgb\\nimport plotly as py\\nimport sklearn\\nfrom sklearn.ensemble import RandomForestRegressor\\nimport matplotlib as mpl\\nimport bokeh\\nfrom sklearn.feature_extraction.text import TfidfVectorizer\\nimport seaborn as sns\\nimport glob\\nimport nltk\\nfrom sklearn.ensemble import GradientBoostingClassifier\\nimport statistics\\nfrom sklearn.model_selection import train_test_split\\nfrom sklearn.manifold import TSNE\\nfrom sklearn import svm\\nimport lightgbm as lgb'); }\n    "
     },
     "metadata": {}
    },
    {
     "output_type": "display_data",
     "data": {
      "text/plain": "<IPython.core.display.Javascript object>",
      "application/javascript": "\n        if (window._pyforest_update_imports_cell) { window._pyforest_update_imports_cell('from sklearn.ensemble import RandomForestClassifier\\nimport datetime as dt\\nfrom pathlib import Path\\nimport gensim\\nfrom sklearn.ensemble import GradientBoostingRegressor\\nfrom dask import dataframe as dd\\nimport plotly.express as px\\nimport tqdm\\nimport pickle\\nfrom openpyxl import load_workbook\\nfrom sklearn.preprocessing import OneHotEncoder\\nimport plotly.graph_objs as go\\nimport spacy\\nimport xgboost as xgb\\nimport plotly as py\\nimport sklearn\\nfrom sklearn.ensemble import RandomForestRegressor\\nimport matplotlib as mpl\\nimport bokeh\\nfrom sklearn.feature_extraction.text import TfidfVectorizer\\nimport seaborn as sns\\nimport glob\\nimport nltk\\nfrom sklearn.ensemble import GradientBoostingClassifier\\nimport statistics\\nfrom sklearn.model_selection import train_test_split\\nfrom sklearn.manifold import TSNE\\nfrom sklearn import svm\\nimport lightgbm as lgb'); }\n    "
     },
     "metadata": {}
    },
    {
     "output_type": "display_data",
     "data": {
      "text/plain": "<IPython.core.display.Javascript object>",
      "application/javascript": "\n        if (window._pyforest_update_imports_cell) { window._pyforest_update_imports_cell('from sklearn.ensemble import RandomForestClassifier\\nimport datetime as dt\\nfrom pathlib import Path\\nimport gensim\\nfrom sklearn.ensemble import GradientBoostingRegressor\\nfrom dask import dataframe as dd\\nimport plotly.express as px\\nimport tqdm\\nimport pickle\\nfrom openpyxl import load_workbook\\nfrom sklearn.preprocessing import OneHotEncoder\\nimport plotly.graph_objs as go\\nimport spacy\\nimport xgboost as xgb\\nimport plotly as py\\nimport sklearn\\nfrom sklearn.ensemble import RandomForestRegressor\\nimport matplotlib as mpl\\nimport bokeh\\nfrom sklearn.feature_extraction.text import TfidfVectorizer\\nimport seaborn as sns\\nimport glob\\nimport nltk\\nfrom sklearn.ensemble import GradientBoostingClassifier\\nimport statistics\\nfrom sklearn.model_selection import train_test_split\\nfrom sklearn.manifold import TSNE\\nfrom sklearn import svm\\nimport lightgbm as lgb'); }\n    "
     },
     "metadata": {}
    },
    {
     "output_type": "display_data",
     "data": {
      "text/plain": "<IPython.core.display.Javascript object>",
      "application/javascript": "\n        if (window._pyforest_update_imports_cell) { window._pyforest_update_imports_cell('from sklearn.ensemble import RandomForestClassifier\\nimport datetime as dt\\nfrom pathlib import Path\\nimport gensim\\nfrom sklearn.ensemble import GradientBoostingRegressor\\nfrom dask import dataframe as dd\\nimport plotly.express as px\\nimport tqdm\\nimport pickle\\nfrom openpyxl import load_workbook\\nfrom sklearn.preprocessing import OneHotEncoder\\nimport plotly.graph_objs as go\\nimport spacy\\nimport xgboost as xgb\\nimport plotly as py\\nimport sklearn\\nfrom sklearn.ensemble import RandomForestRegressor\\nimport matplotlib as mpl\\nimport bokeh\\nfrom sklearn.feature_extraction.text import TfidfVectorizer\\nimport seaborn as sns\\nimport glob\\nimport nltk\\nfrom sklearn.ensemble import GradientBoostingClassifier\\nimport statistics\\nfrom sklearn.model_selection import train_test_split\\nfrom sklearn.manifold import TSNE\\nfrom sklearn import svm\\nimport lightgbm as lgb'); }\n    "
     },
     "metadata": {}
    },
    {
     "output_type": "display_data",
     "data": {
      "text/plain": "<IPython.core.display.Javascript object>",
      "application/javascript": "\n        if (window._pyforest_update_imports_cell) { window._pyforest_update_imports_cell('from sklearn.ensemble import RandomForestClassifier\\nimport datetime as dt\\nfrom pathlib import Path\\nimport gensim\\nfrom sklearn.ensemble import GradientBoostingRegressor\\nfrom dask import dataframe as dd\\nimport plotly.express as px\\nimport tqdm\\nimport pickle\\nfrom openpyxl import load_workbook\\nfrom sklearn.preprocessing import OneHotEncoder\\nimport plotly.graph_objs as go\\nimport spacy\\nimport xgboost as xgb\\nimport plotly as py\\nimport sklearn\\nfrom sklearn.ensemble import RandomForestRegressor\\nimport matplotlib as mpl\\nimport bokeh\\nfrom sklearn.feature_extraction.text import TfidfVectorizer\\nimport seaborn as sns\\nimport glob\\nimport nltk\\nfrom sklearn.ensemble import GradientBoostingClassifier\\nimport statistics\\nfrom sklearn.model_selection import train_test_split\\nfrom sklearn.manifold import TSNE\\nfrom sklearn import svm\\nimport lightgbm as lgb'); }\n    "
     },
     "metadata": {}
    },
    {
     "output_type": "display_data",
     "data": {
      "text/plain": "<IPython.core.display.Javascript object>",
      "application/javascript": "\n        if (window._pyforest_update_imports_cell) { window._pyforest_update_imports_cell('from sklearn.ensemble import RandomForestClassifier\\nimport datetime as dt\\nfrom pathlib import Path\\nimport gensim\\nfrom sklearn.ensemble import GradientBoostingRegressor\\nfrom dask import dataframe as dd\\nimport plotly.express as px\\nimport tqdm\\nimport pickle\\nfrom openpyxl import load_workbook\\nfrom sklearn.preprocessing import OneHotEncoder\\nimport plotly.graph_objs as go\\nimport spacy\\nimport xgboost as xgb\\nimport plotly as py\\nimport sklearn\\nfrom sklearn.ensemble import RandomForestRegressor\\nimport matplotlib as mpl\\nimport bokeh\\nfrom sklearn.feature_extraction.text import TfidfVectorizer\\nimport seaborn as sns\\nimport glob\\nimport nltk\\nfrom sklearn.ensemble import GradientBoostingClassifier\\nimport statistics\\nfrom sklearn.model_selection import train_test_split\\nfrom sklearn.manifold import TSNE\\nfrom sklearn import svm\\nimport lightgbm as lgb'); }\n    "
     },
     "metadata": {}
    },
    {
     "output_type": "display_data",
     "data": {
      "text/plain": "<IPython.core.display.Javascript object>",
      "application/javascript": "\n        if (window._pyforest_update_imports_cell) { window._pyforest_update_imports_cell('from sklearn.ensemble import RandomForestClassifier\\nimport datetime as dt\\nfrom pathlib import Path\\nimport gensim\\nfrom sklearn.ensemble import GradientBoostingRegressor\\nfrom dask import dataframe as dd\\nimport plotly.express as px\\nimport tqdm\\nimport pickle\\nfrom openpyxl import load_workbook\\nfrom sklearn.preprocessing import OneHotEncoder\\nimport plotly.graph_objs as go\\nimport spacy\\nimport xgboost as xgb\\nimport plotly as py\\nimport sklearn\\nfrom sklearn.ensemble import RandomForestRegressor\\nimport matplotlib as mpl\\nimport bokeh\\nfrom sklearn.feature_extraction.text import TfidfVectorizer\\nimport seaborn as sns\\nimport glob\\nimport nltk\\nfrom sklearn.ensemble import GradientBoostingClassifier\\nimport statistics\\nfrom sklearn.model_selection import train_test_split\\nfrom sklearn.manifold import TSNE\\nfrom sklearn import svm\\nimport lightgbm as lgb'); }\n    "
     },
     "metadata": {}
    },
    {
     "output_type": "display_data",
     "data": {
      "text/plain": "<IPython.core.display.Javascript object>",
      "application/javascript": "\n        if (window._pyforest_update_imports_cell) { window._pyforest_update_imports_cell('from sklearn.ensemble import RandomForestClassifier\\nimport datetime as dt\\nfrom pathlib import Path\\nimport gensim\\nfrom sklearn.ensemble import GradientBoostingRegressor\\nfrom dask import dataframe as dd\\nimport plotly.express as px\\nimport tqdm\\nimport pickle\\nfrom openpyxl import load_workbook\\nfrom sklearn.preprocessing import OneHotEncoder\\nimport plotly.graph_objs as go\\nimport spacy\\nimport xgboost as xgb\\nimport plotly as py\\nimport sklearn\\nfrom sklearn.ensemble import RandomForestRegressor\\nimport matplotlib as mpl\\nimport bokeh\\nfrom sklearn.feature_extraction.text import TfidfVectorizer\\nimport seaborn as sns\\nimport glob\\nimport nltk\\nfrom sklearn.ensemble import GradientBoostingClassifier\\nimport statistics\\nfrom sklearn.model_selection import train_test_split\\nfrom sklearn.manifold import TSNE\\nfrom sklearn import svm\\nimport lightgbm as lgb'); }\n    "
     },
     "metadata": {}
    },
    {
     "output_type": "display_data",
     "data": {
      "text/plain": "<IPython.core.display.Javascript object>",
      "application/javascript": "\n        if (window._pyforest_update_imports_cell) { window._pyforest_update_imports_cell('from sklearn.ensemble import RandomForestClassifier\\nimport datetime as dt\\nfrom pathlib import Path\\nimport gensim\\nfrom sklearn.ensemble import GradientBoostingRegressor\\nfrom dask import dataframe as dd\\nimport plotly.express as px\\nimport tqdm\\nimport pickle\\nfrom openpyxl import load_workbook\\nfrom sklearn.preprocessing import OneHotEncoder\\nimport plotly.graph_objs as go\\nimport spacy\\nimport xgboost as xgb\\nimport plotly as py\\nimport sklearn\\nfrom sklearn.ensemble import RandomForestRegressor\\nimport matplotlib as mpl\\nimport bokeh\\nfrom sklearn.feature_extraction.text import TfidfVectorizer\\nimport seaborn as sns\\nimport glob\\nimport nltk\\nfrom sklearn.ensemble import GradientBoostingClassifier\\nimport statistics\\nfrom sklearn.model_selection import train_test_split\\nfrom sklearn.manifold import TSNE\\nfrom sklearn import svm\\nimport lightgbm as lgb'); }\n    "
     },
     "metadata": {}
    },
    {
     "output_type": "display_data",
     "data": {
      "text/plain": "<IPython.core.display.Javascript object>",
      "application/javascript": "\n        if (window._pyforest_update_imports_cell) { window._pyforest_update_imports_cell('from sklearn.ensemble import RandomForestClassifier\\nimport datetime as dt\\nfrom pathlib import Path\\nimport gensim\\nfrom sklearn.ensemble import GradientBoostingRegressor\\nfrom dask import dataframe as dd\\nimport plotly.express as px\\nimport tqdm\\nimport pickle\\nfrom openpyxl import load_workbook\\nfrom sklearn.preprocessing import OneHotEncoder\\nimport plotly.graph_objs as go\\nimport spacy\\nimport xgboost as xgb\\nimport plotly as py\\nimport sklearn\\nfrom sklearn.ensemble import RandomForestRegressor\\nimport matplotlib as mpl\\nimport bokeh\\nfrom sklearn.feature_extraction.text import TfidfVectorizer\\nimport seaborn as sns\\nimport glob\\nimport nltk\\nfrom sklearn.ensemble import GradientBoostingClassifier\\nimport statistics\\nfrom sklearn.model_selection import train_test_split\\nfrom sklearn.manifold import TSNE\\nfrom sklearn import svm\\nimport lightgbm as lgb'); }\n    "
     },
     "metadata": {}
    },
    {
     "output_type": "display_data",
     "data": {
      "text/plain": "<IPython.core.display.Javascript object>",
      "application/javascript": "\n        if (window._pyforest_update_imports_cell) { window._pyforest_update_imports_cell('from sklearn.ensemble import RandomForestClassifier\\nimport datetime as dt\\nfrom pathlib import Path\\nimport gensim\\nfrom sklearn.ensemble import GradientBoostingRegressor\\nfrom dask import dataframe as dd\\nimport plotly.express as px\\nimport tqdm\\nimport pickle\\nfrom openpyxl import load_workbook\\nfrom sklearn.preprocessing import OneHotEncoder\\nimport plotly.graph_objs as go\\nimport spacy\\nimport xgboost as xgb\\nimport plotly as py\\nimport sklearn\\nfrom sklearn.ensemble import RandomForestRegressor\\nimport matplotlib as mpl\\nimport bokeh\\nfrom sklearn.feature_extraction.text import TfidfVectorizer\\nimport seaborn as sns\\nimport glob\\nimport nltk\\nfrom sklearn.ensemble import GradientBoostingClassifier\\nimport statistics\\nfrom sklearn.model_selection import train_test_split\\nfrom sklearn.manifold import TSNE\\nfrom sklearn import svm\\nimport lightgbm as lgb'); }\n    "
     },
     "metadata": {}
    },
    {
     "output_type": "display_data",
     "data": {
      "text/plain": "<IPython.core.display.Javascript object>",
      "application/javascript": "\n        if (window._pyforest_update_imports_cell) { window._pyforest_update_imports_cell('from sklearn.ensemble import RandomForestClassifier\\nimport datetime as dt\\nfrom pathlib import Path\\nimport gensim\\nfrom sklearn.ensemble import GradientBoostingRegressor\\nfrom dask import dataframe as dd\\nimport plotly.express as px\\nimport tqdm\\nimport pickle\\nfrom openpyxl import load_workbook\\nfrom sklearn.preprocessing import OneHotEncoder\\nimport plotly.graph_objs as go\\nimport spacy\\nimport xgboost as xgb\\nimport plotly as py\\nimport sklearn\\nfrom sklearn.ensemble import RandomForestRegressor\\nimport matplotlib as mpl\\nimport bokeh\\nfrom sklearn.feature_extraction.text import TfidfVectorizer\\nimport seaborn as sns\\nimport glob\\nimport nltk\\nfrom sklearn.ensemble import GradientBoostingClassifier\\nimport statistics\\nfrom sklearn.model_selection import train_test_split\\nfrom sklearn.manifold import TSNE\\nfrom sklearn import svm\\nimport lightgbm as lgb'); }\n    "
     },
     "metadata": {}
    },
    {
     "output_type": "display_data",
     "data": {
      "text/plain": "<IPython.core.display.Javascript object>",
      "application/javascript": "\n        if (window._pyforest_update_imports_cell) { window._pyforest_update_imports_cell('from sklearn.ensemble import RandomForestClassifier\\nimport datetime as dt\\nfrom pathlib import Path\\nimport gensim\\nfrom sklearn.ensemble import GradientBoostingRegressor\\nfrom dask import dataframe as dd\\nimport plotly.express as px\\nimport tqdm\\nimport pickle\\nfrom openpyxl import load_workbook\\nfrom sklearn.preprocessing import OneHotEncoder\\nimport plotly.graph_objs as go\\nimport spacy\\nimport xgboost as xgb\\nimport plotly as py\\nimport sklearn\\nfrom sklearn.ensemble import RandomForestRegressor\\nimport matplotlib as mpl\\nimport bokeh\\nfrom sklearn.feature_extraction.text import TfidfVectorizer\\nimport seaborn as sns\\nimport glob\\nimport nltk\\nfrom sklearn.ensemble import GradientBoostingClassifier\\nimport statistics\\nfrom sklearn.model_selection import train_test_split\\nfrom sklearn.manifold import TSNE\\nfrom sklearn import svm\\nimport lightgbm as lgb'); }\n    "
     },
     "metadata": {}
    },
    {
     "output_type": "display_data",
     "data": {
      "text/plain": "<IPython.core.display.Javascript object>",
      "application/javascript": "\n        if (window._pyforest_update_imports_cell) { window._pyforest_update_imports_cell('from sklearn.ensemble import RandomForestClassifier\\nimport datetime as dt\\nfrom pathlib import Path\\nimport gensim\\nfrom sklearn.ensemble import GradientBoostingRegressor\\nfrom dask import dataframe as dd\\nimport plotly.express as px\\nimport tqdm\\nimport pickle\\nfrom openpyxl import load_workbook\\nfrom sklearn.preprocessing import OneHotEncoder\\nimport plotly.graph_objs as go\\nimport spacy\\nimport xgboost as xgb\\nimport plotly as py\\nimport sklearn\\nfrom sklearn.ensemble import RandomForestRegressor\\nimport matplotlib as mpl\\nimport bokeh\\nfrom sklearn.feature_extraction.text import TfidfVectorizer\\nimport seaborn as sns\\nimport glob\\nimport nltk\\nfrom sklearn.ensemble import GradientBoostingClassifier\\nimport statistics\\nfrom sklearn.model_selection import train_test_split\\nfrom sklearn.manifold import TSNE\\nfrom sklearn import svm\\nimport lightgbm as lgb'); }\n    "
     },
     "metadata": {}
    },
    {
     "output_type": "display_data",
     "data": {
      "text/plain": "<IPython.core.display.Javascript object>",
      "application/javascript": "\n        if (window._pyforest_update_imports_cell) { window._pyforest_update_imports_cell('from sklearn.ensemble import RandomForestClassifier\\nimport datetime as dt\\nfrom pathlib import Path\\nimport gensim\\nfrom sklearn.ensemble import GradientBoostingRegressor\\nfrom dask import dataframe as dd\\nimport plotly.express as px\\nimport tqdm\\nimport pickle\\nfrom openpyxl import load_workbook\\nfrom sklearn.preprocessing import OneHotEncoder\\nimport plotly.graph_objs as go\\nimport spacy\\nimport xgboost as xgb\\nimport plotly as py\\nimport sklearn\\nfrom sklearn.ensemble import RandomForestRegressor\\nimport matplotlib as mpl\\nimport bokeh\\nfrom sklearn.feature_extraction.text import TfidfVectorizer\\nimport seaborn as sns\\nimport glob\\nimport nltk\\nfrom sklearn.ensemble import GradientBoostingClassifier\\nimport statistics\\nfrom sklearn.model_selection import train_test_split\\nfrom sklearn.manifold import TSNE\\nfrom sklearn import svm\\nimport lightgbm as lgb'); }\n    "
     },
     "metadata": {}
    },
    {
     "output_type": "display_data",
     "data": {
      "text/plain": "<IPython.core.display.Javascript object>",
      "application/javascript": "\n        if (window._pyforest_update_imports_cell) { window._pyforest_update_imports_cell('from sklearn.ensemble import RandomForestClassifier\\nimport datetime as dt\\nfrom pathlib import Path\\nimport gensim\\nfrom sklearn.ensemble import GradientBoostingRegressor\\nfrom dask import dataframe as dd\\nimport plotly.express as px\\nimport tqdm\\nimport pickle\\nfrom openpyxl import load_workbook\\nfrom sklearn.preprocessing import OneHotEncoder\\nimport plotly.graph_objs as go\\nimport spacy\\nimport xgboost as xgb\\nimport plotly as py\\nimport sklearn\\nfrom sklearn.ensemble import RandomForestRegressor\\nimport matplotlib as mpl\\nimport bokeh\\nfrom sklearn.feature_extraction.text import TfidfVectorizer\\nimport seaborn as sns\\nimport glob\\nimport nltk\\nfrom sklearn.ensemble import GradientBoostingClassifier\\nimport statistics\\nfrom sklearn.model_selection import train_test_split\\nfrom sklearn.manifold import TSNE\\nfrom sklearn import svm\\nimport lightgbm as lgb'); }\n    "
     },
     "metadata": {}
    },
    {
     "output_type": "display_data",
     "data": {
      "text/plain": "<IPython.core.display.Javascript object>",
      "application/javascript": "\n        if (window._pyforest_update_imports_cell) { window._pyforest_update_imports_cell('from sklearn.ensemble import RandomForestClassifier\\nimport datetime as dt\\nfrom pathlib import Path\\nimport gensim\\nfrom sklearn.ensemble import GradientBoostingRegressor\\nfrom dask import dataframe as dd\\nimport plotly.express as px\\nimport tqdm\\nimport pickle\\nfrom openpyxl import load_workbook\\nfrom sklearn.preprocessing import OneHotEncoder\\nimport plotly.graph_objs as go\\nimport spacy\\nimport xgboost as xgb\\nimport plotly as py\\nimport sklearn\\nfrom sklearn.ensemble import RandomForestRegressor\\nimport matplotlib as mpl\\nimport bokeh\\nfrom sklearn.feature_extraction.text import TfidfVectorizer\\nimport seaborn as sns\\nimport glob\\nimport nltk\\nfrom sklearn.ensemble import GradientBoostingClassifier\\nimport statistics\\nfrom sklearn.model_selection import train_test_split\\nfrom sklearn.manifold import TSNE\\nfrom sklearn import svm\\nimport lightgbm as lgb'); }\n    "
     },
     "metadata": {}
    },
    {
     "output_type": "display_data",
     "data": {
      "text/plain": "<IPython.core.display.Javascript object>",
      "application/javascript": "\n        if (window._pyforest_update_imports_cell) { window._pyforest_update_imports_cell('from sklearn.ensemble import RandomForestClassifier\\nimport datetime as dt\\nfrom pathlib import Path\\nimport gensim\\nfrom sklearn.ensemble import GradientBoostingRegressor\\nfrom dask import dataframe as dd\\nimport plotly.express as px\\nimport tqdm\\nimport pickle\\nfrom openpyxl import load_workbook\\nfrom sklearn.preprocessing import OneHotEncoder\\nimport plotly.graph_objs as go\\nimport spacy\\nimport xgboost as xgb\\nimport plotly as py\\nimport sklearn\\nfrom sklearn.ensemble import RandomForestRegressor\\nimport matplotlib as mpl\\nimport bokeh\\nfrom sklearn.feature_extraction.text import TfidfVectorizer\\nimport seaborn as sns\\nimport glob\\nimport nltk\\nfrom sklearn.ensemble import GradientBoostingClassifier\\nimport statistics\\nfrom sklearn.model_selection import train_test_split\\nfrom sklearn.manifold import TSNE\\nfrom sklearn import svm\\nimport lightgbm as lgb'); }\n    "
     },
     "metadata": {}
    },
    {
     "output_type": "display_data",
     "data": {
      "text/plain": "<IPython.core.display.Javascript object>",
      "application/javascript": "\n        if (window._pyforest_update_imports_cell) { window._pyforest_update_imports_cell('from sklearn.ensemble import RandomForestClassifier\\nimport datetime as dt\\nfrom pathlib import Path\\nimport gensim\\nfrom sklearn.ensemble import GradientBoostingRegressor\\nfrom dask import dataframe as dd\\nimport plotly.express as px\\nimport tqdm\\nimport pickle\\nfrom openpyxl import load_workbook\\nfrom sklearn.preprocessing import OneHotEncoder\\nimport plotly.graph_objs as go\\nimport spacy\\nimport xgboost as xgb\\nimport plotly as py\\nimport sklearn\\nfrom sklearn.ensemble import RandomForestRegressor\\nimport matplotlib as mpl\\nimport bokeh\\nfrom sklearn.feature_extraction.text import TfidfVectorizer\\nimport seaborn as sns\\nimport glob\\nimport nltk\\nfrom sklearn.ensemble import GradientBoostingClassifier\\nimport statistics\\nfrom sklearn.model_selection import train_test_split\\nfrom sklearn.manifold import TSNE\\nfrom sklearn import svm\\nimport lightgbm as lgb'); }\n    "
     },
     "metadata": {}
    },
    {
     "output_type": "display_data",
     "data": {
      "text/plain": "<IPython.core.display.Javascript object>",
      "application/javascript": "\n        if (window._pyforest_update_imports_cell) { window._pyforest_update_imports_cell('from sklearn.ensemble import RandomForestClassifier\\nimport datetime as dt\\nfrom pathlib import Path\\nimport gensim\\nfrom sklearn.ensemble import GradientBoostingRegressor\\nfrom dask import dataframe as dd\\nimport plotly.express as px\\nimport tqdm\\nimport pickle\\nfrom openpyxl import load_workbook\\nfrom sklearn.preprocessing import OneHotEncoder\\nimport plotly.graph_objs as go\\nimport spacy\\nimport xgboost as xgb\\nimport plotly as py\\nimport sklearn\\nfrom sklearn.ensemble import RandomForestRegressor\\nimport matplotlib as mpl\\nimport bokeh\\nfrom sklearn.feature_extraction.text import TfidfVectorizer\\nimport seaborn as sns\\nimport glob\\nimport nltk\\nfrom sklearn.ensemble import GradientBoostingClassifier\\nimport statistics\\nfrom sklearn.model_selection import train_test_split\\nfrom sklearn.manifold import TSNE\\nfrom sklearn import svm\\nimport lightgbm as lgb'); }\n    "
     },
     "metadata": {}
    },
    {
     "output_type": "display_data",
     "data": {
      "text/plain": "<IPython.core.display.Javascript object>",
      "application/javascript": "\n        if (window._pyforest_update_imports_cell) { window._pyforest_update_imports_cell('from sklearn.ensemble import RandomForestClassifier\\nimport datetime as dt\\nfrom pathlib import Path\\nimport gensim\\nfrom sklearn.ensemble import GradientBoostingRegressor\\nfrom dask import dataframe as dd\\nimport plotly.express as px\\nimport tqdm\\nimport pickle\\nfrom openpyxl import load_workbook\\nfrom sklearn.preprocessing import OneHotEncoder\\nimport plotly.graph_objs as go\\nimport spacy\\nimport xgboost as xgb\\nimport plotly as py\\nimport sklearn\\nfrom sklearn.ensemble import RandomForestRegressor\\nimport matplotlib as mpl\\nimport bokeh\\nfrom sklearn.feature_extraction.text import TfidfVectorizer\\nimport seaborn as sns\\nimport glob\\nimport nltk\\nfrom sklearn.ensemble import GradientBoostingClassifier\\nimport statistics\\nfrom sklearn.model_selection import train_test_split\\nfrom sklearn.manifold import TSNE\\nfrom sklearn import svm\\nimport lightgbm as lgb'); }\n    "
     },
     "metadata": {}
    },
    {
     "output_type": "display_data",
     "data": {
      "text/plain": "<IPython.core.display.Javascript object>",
      "application/javascript": "\n        if (window._pyforest_update_imports_cell) { window._pyforest_update_imports_cell('from sklearn.ensemble import RandomForestClassifier\\nimport datetime as dt\\nfrom pathlib import Path\\nimport gensim\\nfrom sklearn.ensemble import GradientBoostingRegressor\\nfrom dask import dataframe as dd\\nimport plotly.express as px\\nimport tqdm\\nimport pickle\\nfrom openpyxl import load_workbook\\nfrom sklearn.preprocessing import OneHotEncoder\\nimport plotly.graph_objs as go\\nimport spacy\\nimport xgboost as xgb\\nimport plotly as py\\nimport sklearn\\nfrom sklearn.ensemble import RandomForestRegressor\\nimport matplotlib as mpl\\nimport bokeh\\nfrom sklearn.feature_extraction.text import TfidfVectorizer\\nimport seaborn as sns\\nimport glob\\nimport nltk\\nfrom sklearn.ensemble import GradientBoostingClassifier\\nimport statistics\\nfrom sklearn.model_selection import train_test_split\\nfrom sklearn.manifold import TSNE\\nfrom sklearn import svm\\nimport lightgbm as lgb'); }\n    "
     },
     "metadata": {}
    },
    {
     "output_type": "display_data",
     "data": {
      "text/plain": "<IPython.core.display.Javascript object>",
      "application/javascript": "\n        if (window._pyforest_update_imports_cell) { window._pyforest_update_imports_cell('from sklearn.ensemble import RandomForestClassifier\\nimport datetime as dt\\nfrom pathlib import Path\\nimport gensim\\nfrom sklearn.ensemble import GradientBoostingRegressor\\nfrom dask import dataframe as dd\\nimport plotly.express as px\\nimport tqdm\\nimport pickle\\nfrom openpyxl import load_workbook\\nfrom sklearn.preprocessing import OneHotEncoder\\nimport plotly.graph_objs as go\\nimport spacy\\nimport xgboost as xgb\\nimport plotly as py\\nimport sklearn\\nfrom sklearn.ensemble import RandomForestRegressor\\nimport matplotlib as mpl\\nimport bokeh\\nfrom sklearn.feature_extraction.text import TfidfVectorizer\\nimport seaborn as sns\\nimport glob\\nimport nltk\\nfrom sklearn.ensemble import GradientBoostingClassifier\\nimport statistics\\nfrom sklearn.model_selection import train_test_split\\nfrom sklearn.manifold import TSNE\\nfrom sklearn import svm\\nimport lightgbm as lgb'); }\n    "
     },
     "metadata": {}
    },
    {
     "output_type": "display_data",
     "data": {
      "text/plain": "<IPython.core.display.Javascript object>",
      "application/javascript": "\n        if (window._pyforest_update_imports_cell) { window._pyforest_update_imports_cell('from sklearn.ensemble import RandomForestClassifier\\nimport datetime as dt\\nfrom pathlib import Path\\nimport gensim\\nfrom sklearn.ensemble import GradientBoostingRegressor\\nfrom dask import dataframe as dd\\nimport plotly.express as px\\nimport tqdm\\nimport pickle\\nfrom openpyxl import load_workbook\\nfrom sklearn.preprocessing import OneHotEncoder\\nimport plotly.graph_objs as go\\nimport spacy\\nimport xgboost as xgb\\nimport plotly as py\\nimport sklearn\\nfrom sklearn.ensemble import RandomForestRegressor\\nimport matplotlib as mpl\\nimport bokeh\\nfrom sklearn.feature_extraction.text import TfidfVectorizer\\nimport seaborn as sns\\nimport glob\\nimport nltk\\nfrom sklearn.ensemble import GradientBoostingClassifier\\nimport statistics\\nfrom sklearn.model_selection import train_test_split\\nfrom sklearn.manifold import TSNE\\nfrom sklearn import svm\\nimport lightgbm as lgb'); }\n    "
     },
     "metadata": {}
    },
    {
     "output_type": "display_data",
     "data": {
      "text/plain": "<IPython.core.display.Javascript object>",
      "application/javascript": "\n        if (window._pyforest_update_imports_cell) { window._pyforest_update_imports_cell('from sklearn.ensemble import RandomForestClassifier\\nimport datetime as dt\\nfrom pathlib import Path\\nimport gensim\\nfrom sklearn.ensemble import GradientBoostingRegressor\\nfrom dask import dataframe as dd\\nimport plotly.express as px\\nimport tqdm\\nimport pickle\\nfrom openpyxl import load_workbook\\nfrom sklearn.preprocessing import OneHotEncoder\\nimport plotly.graph_objs as go\\nimport spacy\\nimport xgboost as xgb\\nimport plotly as py\\nimport sklearn\\nfrom sklearn.ensemble import RandomForestRegressor\\nimport matplotlib as mpl\\nimport bokeh\\nfrom sklearn.feature_extraction.text import TfidfVectorizer\\nimport seaborn as sns\\nimport glob\\nimport nltk\\nfrom sklearn.ensemble import GradientBoostingClassifier\\nimport statistics\\nfrom sklearn.model_selection import train_test_split\\nfrom sklearn.manifold import TSNE\\nfrom sklearn import svm\\nimport lightgbm as lgb'); }\n    "
     },
     "metadata": {}
    },
    {
     "output_type": "display_data",
     "data": {
      "text/plain": "<IPython.core.display.Javascript object>",
      "application/javascript": "\n        if (window._pyforest_update_imports_cell) { window._pyforest_update_imports_cell('from sklearn.ensemble import RandomForestClassifier\\nimport datetime as dt\\nfrom pathlib import Path\\nimport gensim\\nfrom sklearn.ensemble import GradientBoostingRegressor\\nfrom dask import dataframe as dd\\nimport plotly.express as px\\nimport tqdm\\nimport pickle\\nfrom openpyxl import load_workbook\\nfrom sklearn.preprocessing import OneHotEncoder\\nimport plotly.graph_objs as go\\nimport spacy\\nimport xgboost as xgb\\nimport plotly as py\\nimport sklearn\\nfrom sklearn.ensemble import RandomForestRegressor\\nimport matplotlib as mpl\\nimport bokeh\\nfrom sklearn.feature_extraction.text import TfidfVectorizer\\nimport seaborn as sns\\nimport glob\\nimport nltk\\nfrom sklearn.ensemble import GradientBoostingClassifier\\nimport statistics\\nfrom sklearn.model_selection import train_test_split\\nfrom sklearn.manifold import TSNE\\nfrom sklearn import svm\\nimport lightgbm as lgb'); }\n    "
     },
     "metadata": {}
    },
    {
     "output_type": "display_data",
     "data": {
      "text/plain": "<IPython.core.display.Javascript object>",
      "application/javascript": "\n        if (window._pyforest_update_imports_cell) { window._pyforest_update_imports_cell('from sklearn.ensemble import RandomForestClassifier\\nimport datetime as dt\\nfrom pathlib import Path\\nimport gensim\\nfrom sklearn.ensemble import GradientBoostingRegressor\\nfrom dask import dataframe as dd\\nimport plotly.express as px\\nimport tqdm\\nimport pickle\\nfrom openpyxl import load_workbook\\nfrom sklearn.preprocessing import OneHotEncoder\\nimport plotly.graph_objs as go\\nimport spacy\\nimport xgboost as xgb\\nimport plotly as py\\nimport sklearn\\nfrom sklearn.ensemble import RandomForestRegressor\\nimport matplotlib as mpl\\nimport bokeh\\nfrom sklearn.feature_extraction.text import TfidfVectorizer\\nimport seaborn as sns\\nimport glob\\nimport nltk\\nfrom sklearn.ensemble import GradientBoostingClassifier\\nimport statistics\\nfrom sklearn.model_selection import train_test_split\\nfrom sklearn.manifold import TSNE\\nfrom sklearn import svm\\nimport lightgbm as lgb'); }\n    "
     },
     "metadata": {}
    },
    {
     "output_type": "display_data",
     "data": {
      "text/plain": "<IPython.core.display.Javascript object>",
      "application/javascript": "\n        if (window._pyforest_update_imports_cell) { window._pyforest_update_imports_cell('from sklearn.ensemble import RandomForestClassifier\\nimport datetime as dt\\nfrom pathlib import Path\\nimport gensim\\nfrom sklearn.ensemble import GradientBoostingRegressor\\nfrom dask import dataframe as dd\\nimport plotly.express as px\\nimport tqdm\\nimport pickle\\nfrom openpyxl import load_workbook\\nfrom sklearn.preprocessing import OneHotEncoder\\nimport plotly.graph_objs as go\\nimport spacy\\nimport xgboost as xgb\\nimport plotly as py\\nimport sklearn\\nfrom sklearn.ensemble import RandomForestRegressor\\nimport matplotlib as mpl\\nimport bokeh\\nfrom sklearn.feature_extraction.text import TfidfVectorizer\\nimport seaborn as sns\\nimport glob\\nimport nltk\\nfrom sklearn.ensemble import GradientBoostingClassifier\\nimport statistics\\nfrom sklearn.model_selection import train_test_split\\nfrom sklearn.manifold import TSNE\\nfrom sklearn import svm\\nimport lightgbm as lgb'); }\n    "
     },
     "metadata": {}
    },
    {
     "output_type": "display_data",
     "data": {
      "text/plain": "<IPython.core.display.Javascript object>",
      "application/javascript": "\n        if (window._pyforest_update_imports_cell) { window._pyforest_update_imports_cell('from sklearn.ensemble import RandomForestClassifier\\nimport datetime as dt\\nfrom pathlib import Path\\nimport gensim\\nfrom sklearn.ensemble import GradientBoostingRegressor\\nfrom dask import dataframe as dd\\nimport plotly.express as px\\nimport tqdm\\nimport pickle\\nfrom openpyxl import load_workbook\\nfrom sklearn.preprocessing import OneHotEncoder\\nimport plotly.graph_objs as go\\nimport spacy\\nimport xgboost as xgb\\nimport plotly as py\\nimport sklearn\\nfrom sklearn.ensemble import RandomForestRegressor\\nimport matplotlib as mpl\\nimport bokeh\\nfrom sklearn.feature_extraction.text import TfidfVectorizer\\nimport seaborn as sns\\nimport glob\\nimport nltk\\nfrom sklearn.ensemble import GradientBoostingClassifier\\nimport statistics\\nfrom sklearn.model_selection import train_test_split\\nfrom sklearn.manifold import TSNE\\nfrom sklearn import svm\\nimport lightgbm as lgb'); }\n    "
     },
     "metadata": {}
    },
    {
     "output_type": "display_data",
     "data": {
      "text/plain": "<IPython.core.display.Javascript object>",
      "application/javascript": "\n        if (window._pyforest_update_imports_cell) { window._pyforest_update_imports_cell('from sklearn.ensemble import RandomForestClassifier\\nimport datetime as dt\\nfrom pathlib import Path\\nimport gensim\\nfrom sklearn.ensemble import GradientBoostingRegressor\\nfrom dask import dataframe as dd\\nimport plotly.express as px\\nimport tqdm\\nimport pickle\\nfrom openpyxl import load_workbook\\nfrom sklearn.preprocessing import OneHotEncoder\\nimport plotly.graph_objs as go\\nimport spacy\\nimport xgboost as xgb\\nimport plotly as py\\nimport sklearn\\nfrom sklearn.ensemble import RandomForestRegressor\\nimport matplotlib as mpl\\nimport bokeh\\nfrom sklearn.feature_extraction.text import TfidfVectorizer\\nimport seaborn as sns\\nimport glob\\nimport nltk\\nfrom sklearn.ensemble import GradientBoostingClassifier\\nimport statistics\\nfrom sklearn.model_selection import train_test_split\\nfrom sklearn.manifold import TSNE\\nfrom sklearn import svm\\nimport lightgbm as lgb'); }\n    "
     },
     "metadata": {}
    },
    {
     "output_type": "display_data",
     "data": {
      "text/plain": "<IPython.core.display.Javascript object>",
      "application/javascript": "\n        if (window._pyforest_update_imports_cell) { window._pyforest_update_imports_cell('from sklearn.ensemble import RandomForestClassifier\\nimport datetime as dt\\nfrom pathlib import Path\\nimport gensim\\nfrom sklearn.ensemble import GradientBoostingRegressor\\nfrom dask import dataframe as dd\\nimport plotly.express as px\\nimport tqdm\\nimport pickle\\nfrom openpyxl import load_workbook\\nfrom sklearn.preprocessing import OneHotEncoder\\nimport plotly.graph_objs as go\\nimport spacy\\nimport xgboost as xgb\\nimport plotly as py\\nimport sklearn\\nfrom sklearn.ensemble import RandomForestRegressor\\nimport matplotlib as mpl\\nimport bokeh\\nfrom sklearn.feature_extraction.text import TfidfVectorizer\\nimport seaborn as sns\\nimport glob\\nimport nltk\\nfrom sklearn.ensemble import GradientBoostingClassifier\\nimport statistics\\nfrom sklearn.model_selection import train_test_split\\nfrom sklearn.manifold import TSNE\\nfrom sklearn import svm\\nimport lightgbm as lgb'); }\n    "
     },
     "metadata": {}
    },
    {
     "output_type": "display_data",
     "data": {
      "text/plain": "<IPython.core.display.Javascript object>",
      "application/javascript": "\n        if (window._pyforest_update_imports_cell) { window._pyforest_update_imports_cell('from sklearn.ensemble import RandomForestClassifier\\nimport datetime as dt\\nfrom pathlib import Path\\nimport gensim\\nfrom sklearn.ensemble import GradientBoostingRegressor\\nfrom dask import dataframe as dd\\nimport plotly.express as px\\nimport tqdm\\nimport pickle\\nfrom openpyxl import load_workbook\\nfrom sklearn.preprocessing import OneHotEncoder\\nimport plotly.graph_objs as go\\nimport spacy\\nimport xgboost as xgb\\nimport plotly as py\\nimport sklearn\\nfrom sklearn.ensemble import RandomForestRegressor\\nimport matplotlib as mpl\\nimport bokeh\\nfrom sklearn.feature_extraction.text import TfidfVectorizer\\nimport seaborn as sns\\nimport glob\\nimport nltk\\nfrom sklearn.ensemble import GradientBoostingClassifier\\nimport statistics\\nfrom sklearn.model_selection import train_test_split\\nfrom sklearn.manifold import TSNE\\nfrom sklearn import svm\\nimport lightgbm as lgb'); }\n    "
     },
     "metadata": {}
    },
    {
     "output_type": "display_data",
     "data": {
      "text/plain": "<IPython.core.display.Javascript object>",
      "application/javascript": "\n        if (window._pyforest_update_imports_cell) { window._pyforest_update_imports_cell('from sklearn.ensemble import RandomForestClassifier\\nimport datetime as dt\\nfrom pathlib import Path\\nimport gensim\\nfrom sklearn.ensemble import GradientBoostingRegressor\\nfrom dask import dataframe as dd\\nimport plotly.express as px\\nimport tqdm\\nimport pickle\\nfrom openpyxl import load_workbook\\nfrom sklearn.preprocessing import OneHotEncoder\\nimport plotly.graph_objs as go\\nimport spacy\\nimport xgboost as xgb\\nimport plotly as py\\nimport sklearn\\nfrom sklearn.ensemble import RandomForestRegressor\\nimport matplotlib as mpl\\nimport bokeh\\nfrom sklearn.feature_extraction.text import TfidfVectorizer\\nimport seaborn as sns\\nimport glob\\nimport nltk\\nfrom sklearn.ensemble import GradientBoostingClassifier\\nimport statistics\\nfrom sklearn.model_selection import train_test_split\\nfrom sklearn.manifold import TSNE\\nfrom sklearn import svm\\nimport lightgbm as lgb'); }\n    "
     },
     "metadata": {}
    },
    {
     "output_type": "display_data",
     "data": {
      "text/plain": "<IPython.core.display.Javascript object>",
      "application/javascript": "\n        if (window._pyforest_update_imports_cell) { window._pyforest_update_imports_cell('from sklearn.ensemble import RandomForestClassifier\\nimport datetime as dt\\nfrom pathlib import Path\\nimport gensim\\nfrom sklearn.ensemble import GradientBoostingRegressor\\nfrom dask import dataframe as dd\\nimport plotly.express as px\\nimport tqdm\\nimport pickle\\nfrom openpyxl import load_workbook\\nfrom sklearn.preprocessing import OneHotEncoder\\nimport plotly.graph_objs as go\\nimport spacy\\nimport xgboost as xgb\\nimport plotly as py\\nimport sklearn\\nfrom sklearn.ensemble import RandomForestRegressor\\nimport matplotlib as mpl\\nimport bokeh\\nfrom sklearn.feature_extraction.text import TfidfVectorizer\\nimport seaborn as sns\\nimport glob\\nimport nltk\\nfrom sklearn.ensemble import GradientBoostingClassifier\\nimport statistics\\nfrom sklearn.model_selection import train_test_split\\nfrom sklearn.manifold import TSNE\\nfrom sklearn import svm\\nimport lightgbm as lgb'); }\n    "
     },
     "metadata": {}
    },
    {
     "output_type": "display_data",
     "data": {
      "text/plain": "<IPython.core.display.Javascript object>",
      "application/javascript": "\n        if (window._pyforest_update_imports_cell) { window._pyforest_update_imports_cell('from sklearn.ensemble import RandomForestClassifier\\nimport datetime as dt\\nfrom pathlib import Path\\nimport gensim\\nfrom sklearn.ensemble import GradientBoostingRegressor\\nfrom dask import dataframe as dd\\nimport plotly.express as px\\nimport tqdm\\nimport pickle\\nfrom openpyxl import load_workbook\\nfrom sklearn.preprocessing import OneHotEncoder\\nimport plotly.graph_objs as go\\nimport spacy\\nimport xgboost as xgb\\nimport plotly as py\\nimport sklearn\\nfrom sklearn.ensemble import RandomForestRegressor\\nimport matplotlib as mpl\\nimport bokeh\\nfrom sklearn.feature_extraction.text import TfidfVectorizer\\nimport seaborn as sns\\nimport glob\\nimport nltk\\nfrom sklearn.ensemble import GradientBoostingClassifier\\nimport statistics\\nfrom sklearn.model_selection import train_test_split\\nfrom sklearn.manifold import TSNE\\nfrom sklearn import svm\\nimport lightgbm as lgb'); }\n    "
     },
     "metadata": {}
    },
    {
     "output_type": "display_data",
     "data": {
      "text/plain": "<IPython.core.display.Javascript object>",
      "application/javascript": "\n        if (window._pyforest_update_imports_cell) { window._pyforest_update_imports_cell('from sklearn.ensemble import RandomForestClassifier\\nimport datetime as dt\\nfrom pathlib import Path\\nimport gensim\\nfrom sklearn.ensemble import GradientBoostingRegressor\\nfrom dask import dataframe as dd\\nimport plotly.express as px\\nimport tqdm\\nimport pickle\\nfrom openpyxl import load_workbook\\nfrom sklearn.preprocessing import OneHotEncoder\\nimport plotly.graph_objs as go\\nimport spacy\\nimport xgboost as xgb\\nimport plotly as py\\nimport sklearn\\nfrom sklearn.ensemble import RandomForestRegressor\\nimport matplotlib as mpl\\nimport bokeh\\nfrom sklearn.feature_extraction.text import TfidfVectorizer\\nimport seaborn as sns\\nimport glob\\nimport nltk\\nfrom sklearn.ensemble import GradientBoostingClassifier\\nimport statistics\\nfrom sklearn.model_selection import train_test_split\\nfrom sklearn.manifold import TSNE\\nfrom sklearn import svm\\nimport lightgbm as lgb'); }\n    "
     },
     "metadata": {}
    },
    {
     "output_type": "display_data",
     "data": {
      "text/plain": "<IPython.core.display.Javascript object>",
      "application/javascript": "\n        if (window._pyforest_update_imports_cell) { window._pyforest_update_imports_cell('from sklearn.ensemble import RandomForestClassifier\\nimport datetime as dt\\nfrom pathlib import Path\\nimport gensim\\nfrom sklearn.ensemble import GradientBoostingRegressor\\nfrom dask import dataframe as dd\\nimport plotly.express as px\\nimport tqdm\\nimport pickle\\nfrom openpyxl import load_workbook\\nfrom sklearn.preprocessing import OneHotEncoder\\nimport plotly.graph_objs as go\\nimport spacy\\nimport xgboost as xgb\\nimport plotly as py\\nimport sklearn\\nfrom sklearn.ensemble import RandomForestRegressor\\nimport matplotlib as mpl\\nimport bokeh\\nfrom sklearn.feature_extraction.text import TfidfVectorizer\\nimport seaborn as sns\\nimport glob\\nimport nltk\\nfrom sklearn.ensemble import GradientBoostingClassifier\\nimport statistics\\nfrom sklearn.model_selection import train_test_split\\nfrom sklearn.manifold import TSNE\\nfrom sklearn import svm\\nimport lightgbm as lgb'); }\n    "
     },
     "metadata": {}
    },
    {
     "output_type": "display_data",
     "data": {
      "text/plain": "<IPython.core.display.Javascript object>",
      "application/javascript": "\n        if (window._pyforest_update_imports_cell) { window._pyforest_update_imports_cell('from sklearn.ensemble import RandomForestClassifier\\nimport datetime as dt\\nfrom pathlib import Path\\nimport gensim\\nfrom sklearn.ensemble import GradientBoostingRegressor\\nfrom dask import dataframe as dd\\nimport plotly.express as px\\nimport tqdm\\nimport pickle\\nfrom openpyxl import load_workbook\\nfrom sklearn.preprocessing import OneHotEncoder\\nimport plotly.graph_objs as go\\nimport spacy\\nimport xgboost as xgb\\nimport plotly as py\\nimport sklearn\\nfrom sklearn.ensemble import RandomForestRegressor\\nimport matplotlib as mpl\\nimport bokeh\\nfrom sklearn.feature_extraction.text import TfidfVectorizer\\nimport seaborn as sns\\nimport glob\\nimport nltk\\nfrom sklearn.ensemble import GradientBoostingClassifier\\nimport statistics\\nfrom sklearn.model_selection import train_test_split\\nfrom sklearn.manifold import TSNE\\nfrom sklearn import svm\\nimport lightgbm as lgb'); }\n    "
     },
     "metadata": {}
    },
    {
     "output_type": "display_data",
     "data": {
      "text/plain": "<IPython.core.display.Javascript object>",
      "application/javascript": "\n        if (window._pyforest_update_imports_cell) { window._pyforest_update_imports_cell('from sklearn.ensemble import RandomForestClassifier\\nimport datetime as dt\\nfrom pathlib import Path\\nimport gensim\\nfrom sklearn.ensemble import GradientBoostingRegressor\\nfrom dask import dataframe as dd\\nimport plotly.express as px\\nimport tqdm\\nimport pickle\\nfrom openpyxl import load_workbook\\nfrom sklearn.preprocessing import OneHotEncoder\\nimport plotly.graph_objs as go\\nimport spacy\\nimport xgboost as xgb\\nimport plotly as py\\nimport sklearn\\nfrom sklearn.ensemble import RandomForestRegressor\\nimport matplotlib as mpl\\nimport bokeh\\nfrom sklearn.feature_extraction.text import TfidfVectorizer\\nimport seaborn as sns\\nimport glob\\nimport nltk\\nfrom sklearn.ensemble import GradientBoostingClassifier\\nimport statistics\\nfrom sklearn.model_selection import train_test_split\\nfrom sklearn.manifold import TSNE\\nfrom sklearn import svm\\nimport lightgbm as lgb'); }\n    "
     },
     "metadata": {}
    },
    {
     "output_type": "display_data",
     "data": {
      "text/plain": "<IPython.core.display.Javascript object>",
      "application/javascript": "\n        if (window._pyforest_update_imports_cell) { window._pyforest_update_imports_cell('from sklearn.ensemble import RandomForestClassifier\\nimport datetime as dt\\nfrom pathlib import Path\\nimport gensim\\nfrom sklearn.ensemble import GradientBoostingRegressor\\nfrom dask import dataframe as dd\\nimport plotly.express as px\\nimport tqdm\\nimport pickle\\nfrom openpyxl import load_workbook\\nfrom sklearn.preprocessing import OneHotEncoder\\nimport plotly.graph_objs as go\\nimport spacy\\nimport xgboost as xgb\\nimport plotly as py\\nimport sklearn\\nfrom sklearn.ensemble import RandomForestRegressor\\nimport matplotlib as mpl\\nimport bokeh\\nfrom sklearn.feature_extraction.text import TfidfVectorizer\\nimport seaborn as sns\\nimport glob\\nimport nltk\\nfrom sklearn.ensemble import GradientBoostingClassifier\\nimport statistics\\nfrom sklearn.model_selection import train_test_split\\nfrom sklearn.manifold import TSNE\\nfrom sklearn import svm\\nimport lightgbm as lgb'); }\n    "
     },
     "metadata": {}
    },
    {
     "output_type": "display_data",
     "data": {
      "text/plain": "<IPython.core.display.Javascript object>",
      "application/javascript": "\n        if (window._pyforest_update_imports_cell) { window._pyforest_update_imports_cell('from sklearn.ensemble import RandomForestClassifier\\nimport datetime as dt\\nfrom pathlib import Path\\nimport gensim\\nfrom sklearn.ensemble import GradientBoostingRegressor\\nfrom dask import dataframe as dd\\nimport plotly.express as px\\nimport tqdm\\nimport pickle\\nfrom openpyxl import load_workbook\\nfrom sklearn.preprocessing import OneHotEncoder\\nimport plotly.graph_objs as go\\nimport spacy\\nimport xgboost as xgb\\nimport plotly as py\\nimport sklearn\\nfrom sklearn.ensemble import RandomForestRegressor\\nimport matplotlib as mpl\\nimport bokeh\\nfrom sklearn.feature_extraction.text import TfidfVectorizer\\nimport seaborn as sns\\nimport glob\\nimport nltk\\nfrom sklearn.ensemble import GradientBoostingClassifier\\nimport statistics\\nfrom sklearn.model_selection import train_test_split\\nfrom sklearn.manifold import TSNE\\nfrom sklearn import svm\\nimport lightgbm as lgb'); }\n    "
     },
     "metadata": {}
    },
    {
     "output_type": "display_data",
     "data": {
      "text/plain": "<IPython.core.display.Javascript object>",
      "application/javascript": "\n        if (window._pyforest_update_imports_cell) { window._pyforest_update_imports_cell('from sklearn.ensemble import RandomForestClassifier\\nimport datetime as dt\\nfrom pathlib import Path\\nimport gensim\\nfrom sklearn.ensemble import GradientBoostingRegressor\\nfrom dask import dataframe as dd\\nimport plotly.express as px\\nimport tqdm\\nimport pickle\\nfrom openpyxl import load_workbook\\nfrom sklearn.preprocessing import OneHotEncoder\\nimport plotly.graph_objs as go\\nimport spacy\\nimport xgboost as xgb\\nimport plotly as py\\nimport sklearn\\nfrom sklearn.ensemble import RandomForestRegressor\\nimport matplotlib as mpl\\nimport bokeh\\nfrom sklearn.feature_extraction.text import TfidfVectorizer\\nimport seaborn as sns\\nimport glob\\nimport nltk\\nfrom sklearn.ensemble import GradientBoostingClassifier\\nimport statistics\\nfrom sklearn.model_selection import train_test_split\\nfrom sklearn.manifold import TSNE\\nfrom sklearn import svm\\nimport lightgbm as lgb'); }\n    "
     },
     "metadata": {}
    },
    {
     "output_type": "display_data",
     "data": {
      "text/plain": "<IPython.core.display.Javascript object>",
      "application/javascript": "\n        if (window._pyforest_update_imports_cell) { window._pyforest_update_imports_cell('from sklearn.ensemble import RandomForestClassifier\\nimport datetime as dt\\nfrom pathlib import Path\\nimport gensim\\nfrom sklearn.ensemble import GradientBoostingRegressor\\nfrom dask import dataframe as dd\\nimport plotly.express as px\\nimport tqdm\\nimport pickle\\nfrom openpyxl import load_workbook\\nfrom sklearn.preprocessing import OneHotEncoder\\nimport plotly.graph_objs as go\\nimport spacy\\nimport xgboost as xgb\\nimport plotly as py\\nimport sklearn\\nfrom sklearn.ensemble import RandomForestRegressor\\nimport matplotlib as mpl\\nimport bokeh\\nfrom sklearn.feature_extraction.text import TfidfVectorizer\\nimport seaborn as sns\\nimport glob\\nimport nltk\\nfrom sklearn.ensemble import GradientBoostingClassifier\\nimport statistics\\nfrom sklearn.model_selection import train_test_split\\nfrom sklearn.manifold import TSNE\\nfrom sklearn import svm\\nimport lightgbm as lgb'); }\n    "
     },
     "metadata": {}
    },
    {
     "output_type": "display_data",
     "data": {
      "text/plain": "<IPython.core.display.Javascript object>",
      "application/javascript": "\n        if (window._pyforest_update_imports_cell) { window._pyforest_update_imports_cell('from sklearn.ensemble import RandomForestClassifier\\nimport datetime as dt\\nfrom pathlib import Path\\nimport gensim\\nfrom sklearn.ensemble import GradientBoostingRegressor\\nfrom dask import dataframe as dd\\nimport plotly.express as px\\nimport tqdm\\nimport pickle\\nfrom openpyxl import load_workbook\\nfrom sklearn.preprocessing import OneHotEncoder\\nimport plotly.graph_objs as go\\nimport spacy\\nimport xgboost as xgb\\nimport plotly as py\\nimport sklearn\\nfrom sklearn.ensemble import RandomForestRegressor\\nimport matplotlib as mpl\\nimport bokeh\\nfrom sklearn.feature_extraction.text import TfidfVectorizer\\nimport seaborn as sns\\nimport glob\\nimport nltk\\nfrom sklearn.ensemble import GradientBoostingClassifier\\nimport statistics\\nfrom sklearn.model_selection import train_test_split\\nfrom sklearn.manifold import TSNE\\nfrom sklearn import svm\\nimport lightgbm as lgb'); }\n    "
     },
     "metadata": {}
    },
    {
     "output_type": "display_data",
     "data": {
      "text/plain": "<IPython.core.display.Javascript object>",
      "application/javascript": "\n        if (window._pyforest_update_imports_cell) { window._pyforest_update_imports_cell('from sklearn.ensemble import RandomForestClassifier\\nimport datetime as dt\\nfrom pathlib import Path\\nimport gensim\\nfrom sklearn.ensemble import GradientBoostingRegressor\\nfrom dask import dataframe as dd\\nimport plotly.express as px\\nimport tqdm\\nimport pickle\\nfrom openpyxl import load_workbook\\nfrom sklearn.preprocessing import OneHotEncoder\\nimport plotly.graph_objs as go\\nimport spacy\\nimport xgboost as xgb\\nimport plotly as py\\nimport sklearn\\nfrom sklearn.ensemble import RandomForestRegressor\\nimport matplotlib as mpl\\nimport bokeh\\nfrom sklearn.feature_extraction.text import TfidfVectorizer\\nimport seaborn as sns\\nimport glob\\nimport nltk\\nfrom sklearn.ensemble import GradientBoostingClassifier\\nimport statistics\\nfrom sklearn.model_selection import train_test_split\\nfrom sklearn.manifold import TSNE\\nfrom sklearn import svm\\nimport lightgbm as lgb'); }\n    "
     },
     "metadata": {}
    },
    {
     "output_type": "display_data",
     "data": {
      "text/plain": "<IPython.core.display.Javascript object>",
      "application/javascript": "\n        if (window._pyforest_update_imports_cell) { window._pyforest_update_imports_cell('from sklearn.ensemble import RandomForestClassifier\\nimport datetime as dt\\nfrom pathlib import Path\\nimport gensim\\nfrom sklearn.ensemble import GradientBoostingRegressor\\nfrom dask import dataframe as dd\\nimport plotly.express as px\\nimport tqdm\\nimport pickle\\nfrom openpyxl import load_workbook\\nfrom sklearn.preprocessing import OneHotEncoder\\nimport plotly.graph_objs as go\\nimport spacy\\nimport xgboost as xgb\\nimport plotly as py\\nimport sklearn\\nfrom sklearn.ensemble import RandomForestRegressor\\nimport matplotlib as mpl\\nimport bokeh\\nfrom sklearn.feature_extraction.text import TfidfVectorizer\\nimport seaborn as sns\\nimport glob\\nimport nltk\\nfrom sklearn.ensemble import GradientBoostingClassifier\\nimport statistics\\nfrom sklearn.model_selection import train_test_split\\nfrom sklearn.manifold import TSNE\\nfrom sklearn import svm\\nimport lightgbm as lgb'); }\n    "
     },
     "metadata": {}
    },
    {
     "output_type": "display_data",
     "data": {
      "text/plain": "<IPython.core.display.Javascript object>",
      "application/javascript": "\n        if (window._pyforest_update_imports_cell) { window._pyforest_update_imports_cell('from sklearn.ensemble import RandomForestClassifier\\nimport datetime as dt\\nfrom pathlib import Path\\nimport gensim\\nfrom sklearn.ensemble import GradientBoostingRegressor\\nfrom dask import dataframe as dd\\nimport plotly.express as px\\nimport tqdm\\nimport pickle\\nfrom openpyxl import load_workbook\\nfrom sklearn.preprocessing import OneHotEncoder\\nimport plotly.graph_objs as go\\nimport spacy\\nimport xgboost as xgb\\nimport plotly as py\\nimport sklearn\\nfrom sklearn.ensemble import RandomForestRegressor\\nimport matplotlib as mpl\\nimport bokeh\\nfrom sklearn.feature_extraction.text import TfidfVectorizer\\nimport seaborn as sns\\nimport glob\\nimport nltk\\nfrom sklearn.ensemble import GradientBoostingClassifier\\nimport statistics\\nfrom sklearn.model_selection import train_test_split\\nfrom sklearn.manifold import TSNE\\nfrom sklearn import svm\\nimport lightgbm as lgb'); }\n    "
     },
     "metadata": {}
    },
    {
     "output_type": "display_data",
     "data": {
      "text/plain": "<IPython.core.display.Javascript object>",
      "application/javascript": "\n        if (window._pyforest_update_imports_cell) { window._pyforest_update_imports_cell('from sklearn.ensemble import RandomForestClassifier\\nimport datetime as dt\\nfrom pathlib import Path\\nimport gensim\\nfrom sklearn.ensemble import GradientBoostingRegressor\\nfrom dask import dataframe as dd\\nimport plotly.express as px\\nimport tqdm\\nimport pickle\\nfrom openpyxl import load_workbook\\nfrom sklearn.preprocessing import OneHotEncoder\\nimport plotly.graph_objs as go\\nimport spacy\\nimport xgboost as xgb\\nimport plotly as py\\nimport sklearn\\nfrom sklearn.ensemble import RandomForestRegressor\\nimport matplotlib as mpl\\nimport bokeh\\nfrom sklearn.feature_extraction.text import TfidfVectorizer\\nimport seaborn as sns\\nimport glob\\nimport nltk\\nfrom sklearn.ensemble import GradientBoostingClassifier\\nimport statistics\\nfrom sklearn.model_selection import train_test_split\\nfrom sklearn.manifold import TSNE\\nfrom sklearn import svm\\nimport lightgbm as lgb'); }\n    "
     },
     "metadata": {}
    },
    {
     "output_type": "display_data",
     "data": {
      "text/plain": "<IPython.core.display.Javascript object>",
      "application/javascript": "\n        if (window._pyforest_update_imports_cell) { window._pyforest_update_imports_cell('from sklearn.ensemble import RandomForestClassifier\\nimport datetime as dt\\nfrom pathlib import Path\\nimport gensim\\nfrom sklearn.ensemble import GradientBoostingRegressor\\nfrom dask import dataframe as dd\\nimport plotly.express as px\\nimport tqdm\\nimport pickle\\nfrom openpyxl import load_workbook\\nfrom sklearn.preprocessing import OneHotEncoder\\nimport plotly.graph_objs as go\\nimport spacy\\nimport xgboost as xgb\\nimport plotly as py\\nimport sklearn\\nfrom sklearn.ensemble import RandomForestRegressor\\nimport matplotlib as mpl\\nimport bokeh\\nfrom sklearn.feature_extraction.text import TfidfVectorizer\\nimport seaborn as sns\\nimport glob\\nimport nltk\\nfrom sklearn.ensemble import GradientBoostingClassifier\\nimport statistics\\nfrom sklearn.model_selection import train_test_split\\nfrom sklearn.manifold import TSNE\\nfrom sklearn import svm\\nimport lightgbm as lgb'); }\n    "
     },
     "metadata": {}
    },
    {
     "output_type": "display_data",
     "data": {
      "text/plain": "<IPython.core.display.Javascript object>",
      "application/javascript": "\n        if (window._pyforest_update_imports_cell) { window._pyforest_update_imports_cell('from sklearn.ensemble import RandomForestClassifier\\nimport datetime as dt\\nfrom pathlib import Path\\nimport gensim\\nfrom sklearn.ensemble import GradientBoostingRegressor\\nfrom dask import dataframe as dd\\nimport plotly.express as px\\nimport tqdm\\nimport pickle\\nfrom openpyxl import load_workbook\\nfrom sklearn.preprocessing import OneHotEncoder\\nimport plotly.graph_objs as go\\nimport spacy\\nimport xgboost as xgb\\nimport plotly as py\\nimport sklearn\\nfrom sklearn.ensemble import RandomForestRegressor\\nimport matplotlib as mpl\\nimport bokeh\\nfrom sklearn.feature_extraction.text import TfidfVectorizer\\nimport seaborn as sns\\nimport glob\\nimport nltk\\nfrom sklearn.ensemble import GradientBoostingClassifier\\nimport statistics\\nfrom sklearn.model_selection import train_test_split\\nfrom sklearn.manifold import TSNE\\nfrom sklearn import svm\\nimport lightgbm as lgb'); }\n    "
     },
     "metadata": {}
    },
    {
     "output_type": "display_data",
     "data": {
      "text/plain": "<IPython.core.display.Javascript object>",
      "application/javascript": "\n        if (window._pyforest_update_imports_cell) { window._pyforest_update_imports_cell('from sklearn.ensemble import RandomForestClassifier\\nimport datetime as dt\\nfrom pathlib import Path\\nimport gensim\\nfrom sklearn.ensemble import GradientBoostingRegressor\\nfrom dask import dataframe as dd\\nimport plotly.express as px\\nimport tqdm\\nimport pickle\\nfrom openpyxl import load_workbook\\nfrom sklearn.preprocessing import OneHotEncoder\\nimport plotly.graph_objs as go\\nimport spacy\\nimport xgboost as xgb\\nimport plotly as py\\nimport sklearn\\nfrom sklearn.ensemble import RandomForestRegressor\\nimport matplotlib as mpl\\nimport bokeh\\nfrom sklearn.feature_extraction.text import TfidfVectorizer\\nimport seaborn as sns\\nimport glob\\nimport nltk\\nfrom sklearn.ensemble import GradientBoostingClassifier\\nimport statistics\\nfrom sklearn.model_selection import train_test_split\\nfrom sklearn.manifold import TSNE\\nfrom sklearn import svm\\nimport lightgbm as lgb'); }\n    "
     },
     "metadata": {}
    },
    {
     "output_type": "display_data",
     "data": {
      "text/plain": "<IPython.core.display.Javascript object>",
      "application/javascript": "\n        if (window._pyforest_update_imports_cell) { window._pyforest_update_imports_cell('from sklearn.ensemble import RandomForestClassifier\\nimport datetime as dt\\nfrom pathlib import Path\\nimport gensim\\nfrom sklearn.ensemble import GradientBoostingRegressor\\nfrom dask import dataframe as dd\\nimport plotly.express as px\\nimport tqdm\\nimport pickle\\nfrom openpyxl import load_workbook\\nfrom sklearn.preprocessing import OneHotEncoder\\nimport plotly.graph_objs as go\\nimport spacy\\nimport xgboost as xgb\\nimport plotly as py\\nimport sklearn\\nfrom sklearn.ensemble import RandomForestRegressor\\nimport matplotlib as mpl\\nimport bokeh\\nfrom sklearn.feature_extraction.text import TfidfVectorizer\\nimport seaborn as sns\\nimport glob\\nimport nltk\\nfrom sklearn.ensemble import GradientBoostingClassifier\\nimport statistics\\nfrom sklearn.model_selection import train_test_split\\nfrom sklearn.manifold import TSNE\\nfrom sklearn import svm\\nimport lightgbm as lgb'); }\n    "
     },
     "metadata": {}
    },
    {
     "output_type": "display_data",
     "data": {
      "text/plain": "<IPython.core.display.Javascript object>",
      "application/javascript": "\n        if (window._pyforest_update_imports_cell) { window._pyforest_update_imports_cell('from sklearn.ensemble import RandomForestClassifier\\nimport datetime as dt\\nfrom pathlib import Path\\nimport gensim\\nfrom sklearn.ensemble import GradientBoostingRegressor\\nfrom dask import dataframe as dd\\nimport plotly.express as px\\nimport tqdm\\nimport pickle\\nfrom openpyxl import load_workbook\\nfrom sklearn.preprocessing import OneHotEncoder\\nimport plotly.graph_objs as go\\nimport spacy\\nimport xgboost as xgb\\nimport plotly as py\\nimport sklearn\\nfrom sklearn.ensemble import RandomForestRegressor\\nimport matplotlib as mpl\\nimport bokeh\\nfrom sklearn.feature_extraction.text import TfidfVectorizer\\nimport seaborn as sns\\nimport glob\\nimport nltk\\nfrom sklearn.ensemble import GradientBoostingClassifier\\nimport statistics\\nfrom sklearn.model_selection import train_test_split\\nfrom sklearn.manifold import TSNE\\nfrom sklearn import svm\\nimport lightgbm as lgb'); }\n    "
     },
     "metadata": {}
    },
    {
     "output_type": "display_data",
     "data": {
      "text/plain": "<IPython.core.display.Javascript object>",
      "application/javascript": "\n        if (window._pyforest_update_imports_cell) { window._pyforest_update_imports_cell('from sklearn.ensemble import RandomForestClassifier\\nimport datetime as dt\\nfrom pathlib import Path\\nimport gensim\\nfrom sklearn.ensemble import GradientBoostingRegressor\\nfrom dask import dataframe as dd\\nimport plotly.express as px\\nimport tqdm\\nimport pickle\\nfrom openpyxl import load_workbook\\nfrom sklearn.preprocessing import OneHotEncoder\\nimport plotly.graph_objs as go\\nimport spacy\\nimport xgboost as xgb\\nimport plotly as py\\nimport sklearn\\nfrom sklearn.ensemble import RandomForestRegressor\\nimport matplotlib as mpl\\nimport bokeh\\nfrom sklearn.feature_extraction.text import TfidfVectorizer\\nimport seaborn as sns\\nimport glob\\nimport nltk\\nfrom sklearn.ensemble import GradientBoostingClassifier\\nimport statistics\\nfrom sklearn.model_selection import train_test_split\\nfrom sklearn.manifold import TSNE\\nfrom sklearn import svm\\nimport lightgbm as lgb'); }\n    "
     },
     "metadata": {}
    },
    {
     "output_type": "display_data",
     "data": {
      "text/plain": "<IPython.core.display.Javascript object>",
      "application/javascript": "\n        if (window._pyforest_update_imports_cell) { window._pyforest_update_imports_cell('from sklearn.ensemble import RandomForestClassifier\\nimport datetime as dt\\nfrom pathlib import Path\\nimport gensim\\nfrom sklearn.ensemble import GradientBoostingRegressor\\nfrom dask import dataframe as dd\\nimport plotly.express as px\\nimport tqdm\\nimport pickle\\nfrom openpyxl import load_workbook\\nfrom sklearn.preprocessing import OneHotEncoder\\nimport plotly.graph_objs as go\\nimport spacy\\nimport xgboost as xgb\\nimport plotly as py\\nimport sklearn\\nfrom sklearn.ensemble import RandomForestRegressor\\nimport matplotlib as mpl\\nimport bokeh\\nfrom sklearn.feature_extraction.text import TfidfVectorizer\\nimport seaborn as sns\\nimport glob\\nimport nltk\\nfrom sklearn.ensemble import GradientBoostingClassifier\\nimport statistics\\nfrom sklearn.model_selection import train_test_split\\nfrom sklearn.manifold import TSNE\\nfrom sklearn import svm\\nimport lightgbm as lgb'); }\n    "
     },
     "metadata": {}
    },
    {
     "output_type": "display_data",
     "data": {
      "text/plain": "<IPython.core.display.Javascript object>",
      "application/javascript": "\n        if (window._pyforest_update_imports_cell) { window._pyforest_update_imports_cell('from sklearn.ensemble import RandomForestClassifier\\nimport datetime as dt\\nfrom pathlib import Path\\nimport gensim\\nfrom sklearn.ensemble import GradientBoostingRegressor\\nfrom dask import dataframe as dd\\nimport plotly.express as px\\nimport tqdm\\nimport pickle\\nfrom openpyxl import load_workbook\\nfrom sklearn.preprocessing import OneHotEncoder\\nimport plotly.graph_objs as go\\nimport spacy\\nimport xgboost as xgb\\nimport plotly as py\\nimport sklearn\\nfrom sklearn.ensemble import RandomForestRegressor\\nimport matplotlib as mpl\\nimport bokeh\\nfrom sklearn.feature_extraction.text import TfidfVectorizer\\nimport seaborn as sns\\nimport glob\\nimport nltk\\nfrom sklearn.ensemble import GradientBoostingClassifier\\nimport statistics\\nfrom sklearn.model_selection import train_test_split\\nfrom sklearn.manifold import TSNE\\nfrom sklearn import svm\\nimport lightgbm as lgb'); }\n    "
     },
     "metadata": {}
    },
    {
     "output_type": "display_data",
     "data": {
      "text/plain": "<IPython.core.display.Javascript object>",
      "application/javascript": "\n        if (window._pyforest_update_imports_cell) { window._pyforest_update_imports_cell('from sklearn.ensemble import RandomForestClassifier\\nimport datetime as dt\\nfrom pathlib import Path\\nimport gensim\\nfrom sklearn.ensemble import GradientBoostingRegressor\\nfrom dask import dataframe as dd\\nimport plotly.express as px\\nimport tqdm\\nimport pickle\\nfrom openpyxl import load_workbook\\nfrom sklearn.preprocessing import OneHotEncoder\\nimport plotly.graph_objs as go\\nimport spacy\\nimport xgboost as xgb\\nimport plotly as py\\nimport sklearn\\nfrom sklearn.ensemble import RandomForestRegressor\\nimport matplotlib as mpl\\nimport bokeh\\nfrom sklearn.feature_extraction.text import TfidfVectorizer\\nimport seaborn as sns\\nimport glob\\nimport nltk\\nfrom sklearn.ensemble import GradientBoostingClassifier\\nimport statistics\\nfrom sklearn.model_selection import train_test_split\\nfrom sklearn.manifold import TSNE\\nfrom sklearn import svm\\nimport lightgbm as lgb'); }\n    "
     },
     "metadata": {}
    },
    {
     "output_type": "display_data",
     "data": {
      "text/plain": "<IPython.core.display.Javascript object>",
      "application/javascript": "\n        if (window._pyforest_update_imports_cell) { window._pyforest_update_imports_cell('from sklearn.ensemble import RandomForestClassifier\\nimport datetime as dt\\nfrom pathlib import Path\\nimport gensim\\nfrom sklearn.ensemble import GradientBoostingRegressor\\nfrom dask import dataframe as dd\\nimport plotly.express as px\\nimport tqdm\\nimport pickle\\nfrom openpyxl import load_workbook\\nfrom sklearn.preprocessing import OneHotEncoder\\nimport plotly.graph_objs as go\\nimport spacy\\nimport xgboost as xgb\\nimport plotly as py\\nimport sklearn\\nfrom sklearn.ensemble import RandomForestRegressor\\nimport matplotlib as mpl\\nimport bokeh\\nfrom sklearn.feature_extraction.text import TfidfVectorizer\\nimport seaborn as sns\\nimport glob\\nimport nltk\\nfrom sklearn.ensemble import GradientBoostingClassifier\\nimport statistics\\nfrom sklearn.model_selection import train_test_split\\nfrom sklearn.manifold import TSNE\\nfrom sklearn import svm\\nimport lightgbm as lgb'); }\n    "
     },
     "metadata": {}
    },
    {
     "output_type": "display_data",
     "data": {
      "text/plain": "<IPython.core.display.Javascript object>",
      "application/javascript": "\n        if (window._pyforest_update_imports_cell) { window._pyforest_update_imports_cell('from sklearn.ensemble import RandomForestClassifier\\nimport datetime as dt\\nfrom pathlib import Path\\nimport gensim\\nfrom sklearn.ensemble import GradientBoostingRegressor\\nfrom dask import dataframe as dd\\nimport plotly.express as px\\nimport tqdm\\nimport pickle\\nfrom openpyxl import load_workbook\\nfrom sklearn.preprocessing import OneHotEncoder\\nimport plotly.graph_objs as go\\nimport spacy\\nimport xgboost as xgb\\nimport plotly as py\\nimport sklearn\\nfrom sklearn.ensemble import RandomForestRegressor\\nimport matplotlib as mpl\\nimport bokeh\\nfrom sklearn.feature_extraction.text import TfidfVectorizer\\nimport seaborn as sns\\nimport glob\\nimport nltk\\nfrom sklearn.ensemble import GradientBoostingClassifier\\nimport statistics\\nfrom sklearn.model_selection import train_test_split\\nfrom sklearn.manifold import TSNE\\nfrom sklearn import svm\\nimport lightgbm as lgb'); }\n    "
     },
     "metadata": {}
    },
    {
     "output_type": "display_data",
     "data": {
      "text/plain": "<IPython.core.display.Javascript object>",
      "application/javascript": "\n        if (window._pyforest_update_imports_cell) { window._pyforest_update_imports_cell('from sklearn.ensemble import RandomForestClassifier\\nimport datetime as dt\\nfrom pathlib import Path\\nimport gensim\\nfrom sklearn.ensemble import GradientBoostingRegressor\\nfrom dask import dataframe as dd\\nimport plotly.express as px\\nimport tqdm\\nimport pickle\\nfrom openpyxl import load_workbook\\nfrom sklearn.preprocessing import OneHotEncoder\\nimport plotly.graph_objs as go\\nimport spacy\\nimport xgboost as xgb\\nimport plotly as py\\nimport sklearn\\nfrom sklearn.ensemble import RandomForestRegressor\\nimport matplotlib as mpl\\nimport bokeh\\nfrom sklearn.feature_extraction.text import TfidfVectorizer\\nimport seaborn as sns\\nimport glob\\nimport nltk\\nfrom sklearn.ensemble import GradientBoostingClassifier\\nimport statistics\\nfrom sklearn.model_selection import train_test_split\\nfrom sklearn.manifold import TSNE\\nfrom sklearn import svm\\nimport lightgbm as lgb'); }\n    "
     },
     "metadata": {}
    },
    {
     "output_type": "display_data",
     "data": {
      "text/plain": "<IPython.core.display.Javascript object>",
      "application/javascript": "\n        if (window._pyforest_update_imports_cell) { window._pyforest_update_imports_cell('from sklearn.ensemble import RandomForestClassifier\\nimport datetime as dt\\nfrom pathlib import Path\\nimport gensim\\nfrom sklearn.ensemble import GradientBoostingRegressor\\nfrom dask import dataframe as dd\\nimport plotly.express as px\\nimport tqdm\\nimport pickle\\nfrom openpyxl import load_workbook\\nfrom sklearn.preprocessing import OneHotEncoder\\nimport plotly.graph_objs as go\\nimport spacy\\nimport xgboost as xgb\\nimport plotly as py\\nimport sklearn\\nfrom sklearn.ensemble import RandomForestRegressor\\nimport matplotlib as mpl\\nimport bokeh\\nfrom sklearn.feature_extraction.text import TfidfVectorizer\\nimport seaborn as sns\\nimport glob\\nimport nltk\\nfrom sklearn.ensemble import GradientBoostingClassifier\\nimport statistics\\nfrom sklearn.model_selection import train_test_split\\nfrom sklearn.manifold import TSNE\\nfrom sklearn import svm\\nimport lightgbm as lgb'); }\n    "
     },
     "metadata": {}
    },
    {
     "output_type": "display_data",
     "data": {
      "text/plain": "<IPython.core.display.Javascript object>",
      "application/javascript": "\n        if (window._pyforest_update_imports_cell) { window._pyforest_update_imports_cell('from sklearn.ensemble import RandomForestClassifier\\nimport datetime as dt\\nfrom pathlib import Path\\nimport gensim\\nfrom sklearn.ensemble import GradientBoostingRegressor\\nfrom dask import dataframe as dd\\nimport plotly.express as px\\nimport tqdm\\nimport pickle\\nfrom openpyxl import load_workbook\\nfrom sklearn.preprocessing import OneHotEncoder\\nimport plotly.graph_objs as go\\nimport spacy\\nimport xgboost as xgb\\nimport plotly as py\\nimport sklearn\\nfrom sklearn.ensemble import RandomForestRegressor\\nimport matplotlib as mpl\\nimport bokeh\\nfrom sklearn.feature_extraction.text import TfidfVectorizer\\nimport seaborn as sns\\nimport glob\\nimport nltk\\nfrom sklearn.ensemble import GradientBoostingClassifier\\nimport statistics\\nfrom sklearn.model_selection import train_test_split\\nfrom sklearn.manifold import TSNE\\nfrom sklearn import svm\\nimport lightgbm as lgb'); }\n    "
     },
     "metadata": {}
    },
    {
     "output_type": "display_data",
     "data": {
      "text/plain": "<IPython.core.display.Javascript object>",
      "application/javascript": "\n        if (window._pyforest_update_imports_cell) { window._pyforest_update_imports_cell('from sklearn.ensemble import RandomForestClassifier\\nimport datetime as dt\\nfrom pathlib import Path\\nimport gensim\\nfrom sklearn.ensemble import GradientBoostingRegressor\\nfrom dask import dataframe as dd\\nimport plotly.express as px\\nimport tqdm\\nimport pickle\\nfrom openpyxl import load_workbook\\nfrom sklearn.preprocessing import OneHotEncoder\\nimport plotly.graph_objs as go\\nimport spacy\\nimport xgboost as xgb\\nimport plotly as py\\nimport sklearn\\nfrom sklearn.ensemble import RandomForestRegressor\\nimport matplotlib as mpl\\nimport bokeh\\nfrom sklearn.feature_extraction.text import TfidfVectorizer\\nimport seaborn as sns\\nimport glob\\nimport nltk\\nfrom sklearn.ensemble import GradientBoostingClassifier\\nimport statistics\\nfrom sklearn.model_selection import train_test_split\\nfrom sklearn.manifold import TSNE\\nfrom sklearn import svm\\nimport lightgbm as lgb'); }\n    "
     },
     "metadata": {}
    },
    {
     "output_type": "display_data",
     "data": {
      "text/plain": "<IPython.core.display.Javascript object>",
      "application/javascript": "\n        if (window._pyforest_update_imports_cell) { window._pyforest_update_imports_cell('from sklearn.ensemble import RandomForestClassifier\\nimport datetime as dt\\nfrom pathlib import Path\\nimport gensim\\nfrom sklearn.ensemble import GradientBoostingRegressor\\nfrom dask import dataframe as dd\\nimport plotly.express as px\\nimport tqdm\\nimport pickle\\nfrom openpyxl import load_workbook\\nfrom sklearn.preprocessing import OneHotEncoder\\nimport plotly.graph_objs as go\\nimport spacy\\nimport xgboost as xgb\\nimport plotly as py\\nimport sklearn\\nfrom sklearn.ensemble import RandomForestRegressor\\nimport matplotlib as mpl\\nimport bokeh\\nfrom sklearn.feature_extraction.text import TfidfVectorizer\\nimport seaborn as sns\\nimport glob\\nimport nltk\\nfrom sklearn.ensemble import GradientBoostingClassifier\\nimport statistics\\nfrom sklearn.model_selection import train_test_split\\nfrom sklearn.manifold import TSNE\\nfrom sklearn import svm\\nimport lightgbm as lgb'); }\n    "
     },
     "metadata": {}
    },
    {
     "output_type": "display_data",
     "data": {
      "text/plain": "<IPython.core.display.Javascript object>",
      "application/javascript": "\n        if (window._pyforest_update_imports_cell) { window._pyforest_update_imports_cell('from sklearn.ensemble import RandomForestClassifier\\nimport datetime as dt\\nfrom pathlib import Path\\nimport gensim\\nfrom sklearn.ensemble import GradientBoostingRegressor\\nfrom dask import dataframe as dd\\nimport plotly.express as px\\nimport tqdm\\nimport pickle\\nfrom openpyxl import load_workbook\\nfrom sklearn.preprocessing import OneHotEncoder\\nimport plotly.graph_objs as go\\nimport spacy\\nimport xgboost as xgb\\nimport plotly as py\\nimport sklearn\\nfrom sklearn.ensemble import RandomForestRegressor\\nimport matplotlib as mpl\\nimport bokeh\\nfrom sklearn.feature_extraction.text import TfidfVectorizer\\nimport seaborn as sns\\nimport glob\\nimport nltk\\nfrom sklearn.ensemble import GradientBoostingClassifier\\nimport statistics\\nfrom sklearn.model_selection import train_test_split\\nfrom sklearn.manifold import TSNE\\nfrom sklearn import svm\\nimport lightgbm as lgb'); }\n    "
     },
     "metadata": {}
    },
    {
     "output_type": "display_data",
     "data": {
      "text/plain": "<IPython.core.display.Javascript object>",
      "application/javascript": "\n        if (window._pyforest_update_imports_cell) { window._pyforest_update_imports_cell('from sklearn.ensemble import RandomForestClassifier\\nimport datetime as dt\\nfrom pathlib import Path\\nimport gensim\\nfrom sklearn.ensemble import GradientBoostingRegressor\\nfrom dask import dataframe as dd\\nimport plotly.express as px\\nimport tqdm\\nimport pickle\\nfrom openpyxl import load_workbook\\nfrom sklearn.preprocessing import OneHotEncoder\\nimport plotly.graph_objs as go\\nimport spacy\\nimport xgboost as xgb\\nimport plotly as py\\nimport sklearn\\nfrom sklearn.ensemble import RandomForestRegressor\\nimport matplotlib as mpl\\nimport bokeh\\nfrom sklearn.feature_extraction.text import TfidfVectorizer\\nimport seaborn as sns\\nimport glob\\nimport nltk\\nfrom sklearn.ensemble import GradientBoostingClassifier\\nimport statistics\\nfrom sklearn.model_selection import train_test_split\\nfrom sklearn.manifold import TSNE\\nfrom sklearn import svm\\nimport lightgbm as lgb'); }\n    "
     },
     "metadata": {}
    },
    {
     "output_type": "display_data",
     "data": {
      "text/plain": "<IPython.core.display.Javascript object>",
      "application/javascript": "\n        if (window._pyforest_update_imports_cell) { window._pyforest_update_imports_cell('from sklearn.ensemble import RandomForestClassifier\\nimport datetime as dt\\nfrom pathlib import Path\\nimport gensim\\nfrom sklearn.ensemble import GradientBoostingRegressor\\nfrom dask import dataframe as dd\\nimport plotly.express as px\\nimport tqdm\\nimport pickle\\nfrom openpyxl import load_workbook\\nfrom sklearn.preprocessing import OneHotEncoder\\nimport plotly.graph_objs as go\\nimport spacy\\nimport xgboost as xgb\\nimport plotly as py\\nimport sklearn\\nfrom sklearn.ensemble import RandomForestRegressor\\nimport matplotlib as mpl\\nimport bokeh\\nfrom sklearn.feature_extraction.text import TfidfVectorizer\\nimport seaborn as sns\\nimport glob\\nimport nltk\\nfrom sklearn.ensemble import GradientBoostingClassifier\\nimport statistics\\nfrom sklearn.model_selection import train_test_split\\nfrom sklearn.manifold import TSNE\\nfrom sklearn import svm\\nimport lightgbm as lgb'); }\n    "
     },
     "metadata": {}
    },
    {
     "output_type": "display_data",
     "data": {
      "text/plain": "<IPython.core.display.Javascript object>",
      "application/javascript": "\n        if (window._pyforest_update_imports_cell) { window._pyforest_update_imports_cell('from sklearn.ensemble import RandomForestClassifier\\nimport datetime as dt\\nfrom pathlib import Path\\nimport gensim\\nfrom sklearn.ensemble import GradientBoostingRegressor\\nfrom dask import dataframe as dd\\nimport plotly.express as px\\nimport tqdm\\nimport pickle\\nfrom openpyxl import load_workbook\\nfrom sklearn.preprocessing import OneHotEncoder\\nimport plotly.graph_objs as go\\nimport spacy\\nimport xgboost as xgb\\nimport plotly as py\\nimport sklearn\\nfrom sklearn.ensemble import RandomForestRegressor\\nimport matplotlib as mpl\\nimport bokeh\\nfrom sklearn.feature_extraction.text import TfidfVectorizer\\nimport seaborn as sns\\nimport glob\\nimport nltk\\nfrom sklearn.ensemble import GradientBoostingClassifier\\nimport statistics\\nfrom sklearn.model_selection import train_test_split\\nfrom sklearn.manifold import TSNE\\nfrom sklearn import svm\\nimport lightgbm as lgb'); }\n    "
     },
     "metadata": {}
    },
    {
     "output_type": "display_data",
     "data": {
      "text/plain": "<IPython.core.display.Javascript object>",
      "application/javascript": "\n        if (window._pyforest_update_imports_cell) { window._pyforest_update_imports_cell('from sklearn.ensemble import RandomForestClassifier\\nimport datetime as dt\\nfrom pathlib import Path\\nimport gensim\\nfrom sklearn.ensemble import GradientBoostingRegressor\\nfrom dask import dataframe as dd\\nimport plotly.express as px\\nimport tqdm\\nimport pickle\\nfrom openpyxl import load_workbook\\nfrom sklearn.preprocessing import OneHotEncoder\\nimport plotly.graph_objs as go\\nimport spacy\\nimport xgboost as xgb\\nimport plotly as py\\nimport sklearn\\nfrom sklearn.ensemble import RandomForestRegressor\\nimport matplotlib as mpl\\nimport bokeh\\nfrom sklearn.feature_extraction.text import TfidfVectorizer\\nimport seaborn as sns\\nimport glob\\nimport nltk\\nfrom sklearn.ensemble import GradientBoostingClassifier\\nimport statistics\\nfrom sklearn.model_selection import train_test_split\\nfrom sklearn.manifold import TSNE\\nfrom sklearn import svm\\nimport lightgbm as lgb'); }\n    "
     },
     "metadata": {}
    },
    {
     "output_type": "display_data",
     "data": {
      "text/plain": "<IPython.core.display.Javascript object>",
      "application/javascript": "\n        if (window._pyforest_update_imports_cell) { window._pyforest_update_imports_cell('from sklearn.ensemble import RandomForestClassifier\\nimport datetime as dt\\nfrom pathlib import Path\\nimport gensim\\nfrom sklearn.ensemble import GradientBoostingRegressor\\nfrom dask import dataframe as dd\\nimport plotly.express as px\\nimport tqdm\\nimport pickle\\nfrom openpyxl import load_workbook\\nfrom sklearn.preprocessing import OneHotEncoder\\nimport plotly.graph_objs as go\\nimport spacy\\nimport xgboost as xgb\\nimport plotly as py\\nimport sklearn\\nfrom sklearn.ensemble import RandomForestRegressor\\nimport matplotlib as mpl\\nimport bokeh\\nfrom sklearn.feature_extraction.text import TfidfVectorizer\\nimport seaborn as sns\\nimport glob\\nimport nltk\\nfrom sklearn.ensemble import GradientBoostingClassifier\\nimport statistics\\nfrom sklearn.model_selection import train_test_split\\nfrom sklearn.manifold import TSNE\\nfrom sklearn import svm\\nimport lightgbm as lgb'); }\n    "
     },
     "metadata": {}
    },
    {
     "output_type": "display_data",
     "data": {
      "text/plain": "<IPython.core.display.Javascript object>",
      "application/javascript": "\n        if (window._pyforest_update_imports_cell) { window._pyforest_update_imports_cell('from sklearn.ensemble import RandomForestClassifier\\nimport datetime as dt\\nfrom pathlib import Path\\nimport gensim\\nfrom sklearn.ensemble import GradientBoostingRegressor\\nfrom dask import dataframe as dd\\nimport plotly.express as px\\nimport tqdm\\nimport pickle\\nfrom openpyxl import load_workbook\\nfrom sklearn.preprocessing import OneHotEncoder\\nimport plotly.graph_objs as go\\nimport spacy\\nimport xgboost as xgb\\nimport plotly as py\\nimport sklearn\\nfrom sklearn.ensemble import RandomForestRegressor\\nimport matplotlib as mpl\\nimport bokeh\\nfrom sklearn.feature_extraction.text import TfidfVectorizer\\nimport seaborn as sns\\nimport glob\\nimport nltk\\nfrom sklearn.ensemble import GradientBoostingClassifier\\nimport statistics\\nfrom sklearn.model_selection import train_test_split\\nfrom sklearn.manifold import TSNE\\nfrom sklearn import svm\\nimport lightgbm as lgb'); }\n    "
     },
     "metadata": {}
    },
    {
     "output_type": "display_data",
     "data": {
      "text/plain": "<IPython.core.display.Javascript object>",
      "application/javascript": "\n        if (window._pyforest_update_imports_cell) { window._pyforest_update_imports_cell('from sklearn.ensemble import RandomForestClassifier\\nimport datetime as dt\\nfrom pathlib import Path\\nimport gensim\\nfrom sklearn.ensemble import GradientBoostingRegressor\\nfrom dask import dataframe as dd\\nimport plotly.express as px\\nimport tqdm\\nimport pickle\\nfrom openpyxl import load_workbook\\nfrom sklearn.preprocessing import OneHotEncoder\\nimport plotly.graph_objs as go\\nimport spacy\\nimport xgboost as xgb\\nimport plotly as py\\nimport sklearn\\nfrom sklearn.ensemble import RandomForestRegressor\\nimport matplotlib as mpl\\nimport bokeh\\nfrom sklearn.feature_extraction.text import TfidfVectorizer\\nimport seaborn as sns\\nimport glob\\nimport nltk\\nfrom sklearn.ensemble import GradientBoostingClassifier\\nimport statistics\\nfrom sklearn.model_selection import train_test_split\\nfrom sklearn.manifold import TSNE\\nfrom sklearn import svm\\nimport lightgbm as lgb'); }\n    "
     },
     "metadata": {}
    },
    {
     "output_type": "display_data",
     "data": {
      "text/plain": "<IPython.core.display.Javascript object>",
      "application/javascript": "\n        if (window._pyforest_update_imports_cell) { window._pyforest_update_imports_cell('from sklearn.ensemble import RandomForestClassifier\\nimport datetime as dt\\nfrom pathlib import Path\\nimport gensim\\nfrom sklearn.ensemble import GradientBoostingRegressor\\nfrom dask import dataframe as dd\\nimport plotly.express as px\\nimport tqdm\\nimport pickle\\nfrom openpyxl import load_workbook\\nfrom sklearn.preprocessing import OneHotEncoder\\nimport plotly.graph_objs as go\\nimport spacy\\nimport xgboost as xgb\\nimport plotly as py\\nimport sklearn\\nfrom sklearn.ensemble import RandomForestRegressor\\nimport matplotlib as mpl\\nimport bokeh\\nfrom sklearn.feature_extraction.text import TfidfVectorizer\\nimport seaborn as sns\\nimport glob\\nimport nltk\\nfrom sklearn.ensemble import GradientBoostingClassifier\\nimport statistics\\nfrom sklearn.model_selection import train_test_split\\nfrom sklearn.manifold import TSNE\\nfrom sklearn import svm\\nimport lightgbm as lgb'); }\n    "
     },
     "metadata": {}
    },
    {
     "output_type": "display_data",
     "data": {
      "text/plain": "<IPython.core.display.Javascript object>",
      "application/javascript": "\n        if (window._pyforest_update_imports_cell) { window._pyforest_update_imports_cell('from sklearn.ensemble import RandomForestClassifier\\nimport datetime as dt\\nfrom pathlib import Path\\nimport gensim\\nfrom sklearn.ensemble import GradientBoostingRegressor\\nfrom dask import dataframe as dd\\nimport plotly.express as px\\nimport tqdm\\nimport pickle\\nfrom openpyxl import load_workbook\\nfrom sklearn.preprocessing import OneHotEncoder\\nimport plotly.graph_objs as go\\nimport spacy\\nimport xgboost as xgb\\nimport plotly as py\\nimport sklearn\\nfrom sklearn.ensemble import RandomForestRegressor\\nimport matplotlib as mpl\\nimport bokeh\\nfrom sklearn.feature_extraction.text import TfidfVectorizer\\nimport seaborn as sns\\nimport glob\\nimport nltk\\nfrom sklearn.ensemble import GradientBoostingClassifier\\nimport statistics\\nfrom sklearn.model_selection import train_test_split\\nfrom sklearn.manifold import TSNE\\nfrom sklearn import svm\\nimport lightgbm as lgb'); }\n    "
     },
     "metadata": {}
    },
    {
     "output_type": "display_data",
     "data": {
      "text/plain": "<IPython.core.display.Javascript object>",
      "application/javascript": "\n        if (window._pyforest_update_imports_cell) { window._pyforest_update_imports_cell('from sklearn.ensemble import RandomForestClassifier\\nimport datetime as dt\\nfrom pathlib import Path\\nimport gensim\\nfrom sklearn.ensemble import GradientBoostingRegressor\\nfrom dask import dataframe as dd\\nimport plotly.express as px\\nimport tqdm\\nimport pickle\\nfrom openpyxl import load_workbook\\nfrom sklearn.preprocessing import OneHotEncoder\\nimport plotly.graph_objs as go\\nimport spacy\\nimport xgboost as xgb\\nimport plotly as py\\nimport sklearn\\nfrom sklearn.ensemble import RandomForestRegressor\\nimport matplotlib as mpl\\nimport bokeh\\nfrom sklearn.feature_extraction.text import TfidfVectorizer\\nimport seaborn as sns\\nimport glob\\nimport nltk\\nfrom sklearn.ensemble import GradientBoostingClassifier\\nimport statistics\\nfrom sklearn.model_selection import train_test_split\\nfrom sklearn.manifold import TSNE\\nfrom sklearn import svm\\nimport lightgbm as lgb'); }\n    "
     },
     "metadata": {}
    },
    {
     "output_type": "display_data",
     "data": {
      "text/plain": "<IPython.core.display.Javascript object>",
      "application/javascript": "\n        if (window._pyforest_update_imports_cell) { window._pyforest_update_imports_cell('from sklearn.ensemble import RandomForestClassifier\\nimport datetime as dt\\nfrom pathlib import Path\\nimport gensim\\nfrom sklearn.ensemble import GradientBoostingRegressor\\nfrom dask import dataframe as dd\\nimport plotly.express as px\\nimport tqdm\\nimport pickle\\nfrom openpyxl import load_workbook\\nfrom sklearn.preprocessing import OneHotEncoder\\nimport plotly.graph_objs as go\\nimport spacy\\nimport xgboost as xgb\\nimport plotly as py\\nimport sklearn\\nfrom sklearn.ensemble import RandomForestRegressor\\nimport matplotlib as mpl\\nimport bokeh\\nfrom sklearn.feature_extraction.text import TfidfVectorizer\\nimport seaborn as sns\\nimport glob\\nimport nltk\\nfrom sklearn.ensemble import GradientBoostingClassifier\\nimport statistics\\nfrom sklearn.model_selection import train_test_split\\nfrom sklearn.manifold import TSNE\\nfrom sklearn import svm\\nimport lightgbm as lgb'); }\n    "
     },
     "metadata": {}
    },
    {
     "output_type": "display_data",
     "data": {
      "text/plain": "<IPython.core.display.Javascript object>",
      "application/javascript": "\n        if (window._pyforest_update_imports_cell) { window._pyforest_update_imports_cell('from sklearn.ensemble import RandomForestClassifier\\nimport datetime as dt\\nfrom pathlib import Path\\nimport gensim\\nfrom sklearn.ensemble import GradientBoostingRegressor\\nfrom dask import dataframe as dd\\nimport plotly.express as px\\nimport tqdm\\nimport pickle\\nfrom openpyxl import load_workbook\\nfrom sklearn.preprocessing import OneHotEncoder\\nimport plotly.graph_objs as go\\nimport spacy\\nimport xgboost as xgb\\nimport plotly as py\\nimport sklearn\\nfrom sklearn.ensemble import RandomForestRegressor\\nimport matplotlib as mpl\\nimport bokeh\\nfrom sklearn.feature_extraction.text import TfidfVectorizer\\nimport seaborn as sns\\nimport glob\\nimport nltk\\nfrom sklearn.ensemble import GradientBoostingClassifier\\nimport statistics\\nfrom sklearn.model_selection import train_test_split\\nfrom sklearn.manifold import TSNE\\nfrom sklearn import svm\\nimport lightgbm as lgb'); }\n    "
     },
     "metadata": {}
    },
    {
     "output_type": "display_data",
     "data": {
      "text/plain": "<IPython.core.display.Javascript object>",
      "application/javascript": "\n        if (window._pyforest_update_imports_cell) { window._pyforest_update_imports_cell('from sklearn.ensemble import RandomForestClassifier\\nimport datetime as dt\\nfrom pathlib import Path\\nimport gensim\\nfrom sklearn.ensemble import GradientBoostingRegressor\\nfrom dask import dataframe as dd\\nimport plotly.express as px\\nimport tqdm\\nimport pickle\\nfrom openpyxl import load_workbook\\nfrom sklearn.preprocessing import OneHotEncoder\\nimport plotly.graph_objs as go\\nimport spacy\\nimport xgboost as xgb\\nimport plotly as py\\nimport sklearn\\nfrom sklearn.ensemble import RandomForestRegressor\\nimport matplotlib as mpl\\nimport bokeh\\nfrom sklearn.feature_extraction.text import TfidfVectorizer\\nimport seaborn as sns\\nimport glob\\nimport nltk\\nfrom sklearn.ensemble import GradientBoostingClassifier\\nimport statistics\\nfrom sklearn.model_selection import train_test_split\\nfrom sklearn.manifold import TSNE\\nfrom sklearn import svm\\nimport lightgbm as lgb'); }\n    "
     },
     "metadata": {}
    },
    {
     "output_type": "display_data",
     "data": {
      "text/plain": "<IPython.core.display.Javascript object>",
      "application/javascript": "\n        if (window._pyforest_update_imports_cell) { window._pyforest_update_imports_cell('from sklearn.ensemble import RandomForestClassifier\\nimport datetime as dt\\nfrom pathlib import Path\\nimport gensim\\nfrom sklearn.ensemble import GradientBoostingRegressor\\nfrom dask import dataframe as dd\\nimport plotly.express as px\\nimport tqdm\\nimport pickle\\nfrom openpyxl import load_workbook\\nfrom sklearn.preprocessing import OneHotEncoder\\nimport plotly.graph_objs as go\\nimport spacy\\nimport xgboost as xgb\\nimport plotly as py\\nimport sklearn\\nfrom sklearn.ensemble import RandomForestRegressor\\nimport matplotlib as mpl\\nimport bokeh\\nfrom sklearn.feature_extraction.text import TfidfVectorizer\\nimport seaborn as sns\\nimport glob\\nimport nltk\\nfrom sklearn.ensemble import GradientBoostingClassifier\\nimport statistics\\nfrom sklearn.model_selection import train_test_split\\nfrom sklearn.manifold import TSNE\\nfrom sklearn import svm\\nimport lightgbm as lgb'); }\n    "
     },
     "metadata": {}
    },
    {
     "output_type": "display_data",
     "data": {
      "text/plain": "<IPython.core.display.Javascript object>",
      "application/javascript": "\n        if (window._pyforest_update_imports_cell) { window._pyforest_update_imports_cell('from sklearn.ensemble import RandomForestClassifier\\nimport datetime as dt\\nfrom pathlib import Path\\nimport gensim\\nfrom sklearn.ensemble import GradientBoostingRegressor\\nfrom dask import dataframe as dd\\nimport plotly.express as px\\nimport tqdm\\nimport pickle\\nfrom openpyxl import load_workbook\\nfrom sklearn.preprocessing import OneHotEncoder\\nimport plotly.graph_objs as go\\nimport spacy\\nimport xgboost as xgb\\nimport plotly as py\\nimport sklearn\\nfrom sklearn.ensemble import RandomForestRegressor\\nimport matplotlib as mpl\\nimport bokeh\\nfrom sklearn.feature_extraction.text import TfidfVectorizer\\nimport seaborn as sns\\nimport glob\\nimport nltk\\nfrom sklearn.ensemble import GradientBoostingClassifier\\nimport statistics\\nfrom sklearn.model_selection import train_test_split\\nfrom sklearn.manifold import TSNE\\nfrom sklearn import svm\\nimport lightgbm as lgb'); }\n    "
     },
     "metadata": {}
    },
    {
     "output_type": "display_data",
     "data": {
      "text/plain": "<IPython.core.display.Javascript object>",
      "application/javascript": "\n        if (window._pyforest_update_imports_cell) { window._pyforest_update_imports_cell('from sklearn.ensemble import RandomForestClassifier\\nimport datetime as dt\\nfrom pathlib import Path\\nimport gensim\\nfrom sklearn.ensemble import GradientBoostingRegressor\\nfrom dask import dataframe as dd\\nimport plotly.express as px\\nimport tqdm\\nimport pickle\\nfrom openpyxl import load_workbook\\nfrom sklearn.preprocessing import OneHotEncoder\\nimport plotly.graph_objs as go\\nimport spacy\\nimport xgboost as xgb\\nimport plotly as py\\nimport sklearn\\nfrom sklearn.ensemble import RandomForestRegressor\\nimport matplotlib as mpl\\nimport bokeh\\nfrom sklearn.feature_extraction.text import TfidfVectorizer\\nimport seaborn as sns\\nimport glob\\nimport nltk\\nfrom sklearn.ensemble import GradientBoostingClassifier\\nimport statistics\\nfrom sklearn.model_selection import train_test_split\\nfrom sklearn.manifold import TSNE\\nfrom sklearn import svm\\nimport lightgbm as lgb'); }\n    "
     },
     "metadata": {}
    },
    {
     "output_type": "display_data",
     "data": {
      "text/plain": "<IPython.core.display.Javascript object>",
      "application/javascript": "\n        if (window._pyforest_update_imports_cell) { window._pyforest_update_imports_cell('from sklearn.ensemble import RandomForestClassifier\\nimport datetime as dt\\nfrom pathlib import Path\\nimport gensim\\nfrom sklearn.ensemble import GradientBoostingRegressor\\nfrom dask import dataframe as dd\\nimport plotly.express as px\\nimport tqdm\\nimport pickle\\nfrom openpyxl import load_workbook\\nfrom sklearn.preprocessing import OneHotEncoder\\nimport plotly.graph_objs as go\\nimport spacy\\nimport xgboost as xgb\\nimport plotly as py\\nimport sklearn\\nfrom sklearn.ensemble import RandomForestRegressor\\nimport matplotlib as mpl\\nimport bokeh\\nfrom sklearn.feature_extraction.text import TfidfVectorizer\\nimport seaborn as sns\\nimport glob\\nimport nltk\\nfrom sklearn.ensemble import GradientBoostingClassifier\\nimport statistics\\nfrom sklearn.model_selection import train_test_split\\nfrom sklearn.manifold import TSNE\\nfrom sklearn import svm\\nimport lightgbm as lgb'); }\n    "
     },
     "metadata": {}
    },
    {
     "output_type": "display_data",
     "data": {
      "text/plain": "<IPython.core.display.Javascript object>",
      "application/javascript": "\n        if (window._pyforest_update_imports_cell) { window._pyforest_update_imports_cell('from sklearn.ensemble import RandomForestClassifier\\nimport datetime as dt\\nfrom pathlib import Path\\nimport gensim\\nfrom sklearn.ensemble import GradientBoostingRegressor\\nfrom dask import dataframe as dd\\nimport plotly.express as px\\nimport tqdm\\nimport pickle\\nfrom openpyxl import load_workbook\\nfrom sklearn.preprocessing import OneHotEncoder\\nimport plotly.graph_objs as go\\nimport spacy\\nimport xgboost as xgb\\nimport plotly as py\\nimport sklearn\\nfrom sklearn.ensemble import RandomForestRegressor\\nimport matplotlib as mpl\\nimport bokeh\\nfrom sklearn.feature_extraction.text import TfidfVectorizer\\nimport seaborn as sns\\nimport glob\\nimport nltk\\nfrom sklearn.ensemble import GradientBoostingClassifier\\nimport statistics\\nfrom sklearn.model_selection import train_test_split\\nfrom sklearn.manifold import TSNE\\nfrom sklearn import svm\\nimport lightgbm as lgb'); }\n    "
     },
     "metadata": {}
    },
    {
     "output_type": "display_data",
     "data": {
      "text/plain": "<IPython.core.display.Javascript object>",
      "application/javascript": "\n        if (window._pyforest_update_imports_cell) { window._pyforest_update_imports_cell('from sklearn.ensemble import RandomForestClassifier\\nimport datetime as dt\\nfrom pathlib import Path\\nimport gensim\\nfrom sklearn.ensemble import GradientBoostingRegressor\\nfrom dask import dataframe as dd\\nimport plotly.express as px\\nimport tqdm\\nimport pickle\\nfrom openpyxl import load_workbook\\nfrom sklearn.preprocessing import OneHotEncoder\\nimport plotly.graph_objs as go\\nimport spacy\\nimport xgboost as xgb\\nimport plotly as py\\nimport sklearn\\nfrom sklearn.ensemble import RandomForestRegressor\\nimport matplotlib as mpl\\nimport bokeh\\nfrom sklearn.feature_extraction.text import TfidfVectorizer\\nimport seaborn as sns\\nimport glob\\nimport nltk\\nfrom sklearn.ensemble import GradientBoostingClassifier\\nimport statistics\\nfrom sklearn.model_selection import train_test_split\\nfrom sklearn.manifold import TSNE\\nfrom sklearn import svm\\nimport lightgbm as lgb'); }\n    "
     },
     "metadata": {}
    },
    {
     "output_type": "display_data",
     "data": {
      "text/plain": "<IPython.core.display.Javascript object>",
      "application/javascript": "\n        if (window._pyforest_update_imports_cell) { window._pyforest_update_imports_cell('from sklearn.ensemble import RandomForestClassifier\\nimport datetime as dt\\nfrom pathlib import Path\\nimport gensim\\nfrom sklearn.ensemble import GradientBoostingRegressor\\nfrom dask import dataframe as dd\\nimport plotly.express as px\\nimport tqdm\\nimport pickle\\nfrom openpyxl import load_workbook\\nfrom sklearn.preprocessing import OneHotEncoder\\nimport plotly.graph_objs as go\\nimport spacy\\nimport xgboost as xgb\\nimport plotly as py\\nimport sklearn\\nfrom sklearn.ensemble import RandomForestRegressor\\nimport matplotlib as mpl\\nimport bokeh\\nfrom sklearn.feature_extraction.text import TfidfVectorizer\\nimport seaborn as sns\\nimport glob\\nimport nltk\\nfrom sklearn.ensemble import GradientBoostingClassifier\\nimport statistics\\nfrom sklearn.model_selection import train_test_split\\nfrom sklearn.manifold import TSNE\\nfrom sklearn import svm\\nimport lightgbm as lgb'); }\n    "
     },
     "metadata": {}
    },
    {
     "output_type": "display_data",
     "data": {
      "text/plain": "<IPython.core.display.Javascript object>",
      "application/javascript": "\n        if (window._pyforest_update_imports_cell) { window._pyforest_update_imports_cell('from sklearn.ensemble import RandomForestClassifier\\nimport datetime as dt\\nfrom pathlib import Path\\nimport gensim\\nfrom sklearn.ensemble import GradientBoostingRegressor\\nfrom dask import dataframe as dd\\nimport plotly.express as px\\nimport tqdm\\nimport pickle\\nfrom openpyxl import load_workbook\\nfrom sklearn.preprocessing import OneHotEncoder\\nimport plotly.graph_objs as go\\nimport spacy\\nimport xgboost as xgb\\nimport plotly as py\\nimport sklearn\\nfrom sklearn.ensemble import RandomForestRegressor\\nimport matplotlib as mpl\\nimport bokeh\\nfrom sklearn.feature_extraction.text import TfidfVectorizer\\nimport seaborn as sns\\nimport glob\\nimport nltk\\nfrom sklearn.ensemble import GradientBoostingClassifier\\nimport statistics\\nfrom sklearn.model_selection import train_test_split\\nfrom sklearn.manifold import TSNE\\nfrom sklearn import svm\\nimport lightgbm as lgb'); }\n    "
     },
     "metadata": {}
    },
    {
     "output_type": "display_data",
     "data": {
      "text/plain": "<IPython.core.display.Javascript object>",
      "application/javascript": "\n        if (window._pyforest_update_imports_cell) { window._pyforest_update_imports_cell('from sklearn.ensemble import RandomForestClassifier\\nimport datetime as dt\\nfrom pathlib import Path\\nimport gensim\\nfrom sklearn.ensemble import GradientBoostingRegressor\\nfrom dask import dataframe as dd\\nimport plotly.express as px\\nimport tqdm\\nimport pickle\\nfrom openpyxl import load_workbook\\nfrom sklearn.preprocessing import OneHotEncoder\\nimport plotly.graph_objs as go\\nimport spacy\\nimport xgboost as xgb\\nimport plotly as py\\nimport sklearn\\nfrom sklearn.ensemble import RandomForestRegressor\\nimport matplotlib as mpl\\nimport bokeh\\nfrom sklearn.feature_extraction.text import TfidfVectorizer\\nimport seaborn as sns\\nimport glob\\nimport nltk\\nfrom sklearn.ensemble import GradientBoostingClassifier\\nimport statistics\\nfrom sklearn.model_selection import train_test_split\\nfrom sklearn.manifold import TSNE\\nfrom sklearn import svm\\nimport lightgbm as lgb'); }\n    "
     },
     "metadata": {}
    },
    {
     "output_type": "display_data",
     "data": {
      "text/plain": "<IPython.core.display.Javascript object>",
      "application/javascript": "\n        if (window._pyforest_update_imports_cell) { window._pyforest_update_imports_cell('from sklearn.ensemble import RandomForestClassifier\\nimport datetime as dt\\nfrom pathlib import Path\\nimport gensim\\nfrom sklearn.ensemble import GradientBoostingRegressor\\nfrom dask import dataframe as dd\\nimport plotly.express as px\\nimport tqdm\\nimport pickle\\nfrom openpyxl import load_workbook\\nfrom sklearn.preprocessing import OneHotEncoder\\nimport plotly.graph_objs as go\\nimport spacy\\nimport xgboost as xgb\\nimport plotly as py\\nimport sklearn\\nfrom sklearn.ensemble import RandomForestRegressor\\nimport matplotlib as mpl\\nimport bokeh\\nfrom sklearn.feature_extraction.text import TfidfVectorizer\\nimport seaborn as sns\\nimport glob\\nimport nltk\\nfrom sklearn.ensemble import GradientBoostingClassifier\\nimport statistics\\nfrom sklearn.model_selection import train_test_split\\nfrom sklearn.manifold import TSNE\\nfrom sklearn import svm\\nimport lightgbm as lgb'); }\n    "
     },
     "metadata": {}
    },
    {
     "output_type": "display_data",
     "data": {
      "text/plain": "<IPython.core.display.Javascript object>",
      "application/javascript": "\n        if (window._pyforest_update_imports_cell) { window._pyforest_update_imports_cell('from sklearn.ensemble import RandomForestClassifier\\nimport datetime as dt\\nfrom pathlib import Path\\nimport gensim\\nfrom sklearn.ensemble import GradientBoostingRegressor\\nfrom dask import dataframe as dd\\nimport plotly.express as px\\nimport tqdm\\nimport pickle\\nfrom openpyxl import load_workbook\\nfrom sklearn.preprocessing import OneHotEncoder\\nimport plotly.graph_objs as go\\nimport spacy\\nimport xgboost as xgb\\nimport plotly as py\\nimport sklearn\\nfrom sklearn.ensemble import RandomForestRegressor\\nimport matplotlib as mpl\\nimport bokeh\\nfrom sklearn.feature_extraction.text import TfidfVectorizer\\nimport seaborn as sns\\nimport glob\\nimport nltk\\nfrom sklearn.ensemble import GradientBoostingClassifier\\nimport statistics\\nfrom sklearn.model_selection import train_test_split\\nfrom sklearn.manifold import TSNE\\nfrom sklearn import svm\\nimport lightgbm as lgb'); }\n    "
     },
     "metadata": {}
    },
    {
     "output_type": "display_data",
     "data": {
      "text/plain": "<IPython.core.display.Javascript object>",
      "application/javascript": "\n        if (window._pyforest_update_imports_cell) { window._pyforest_update_imports_cell('from sklearn.ensemble import RandomForestClassifier\\nimport datetime as dt\\nfrom pathlib import Path\\nimport gensim\\nfrom sklearn.ensemble import GradientBoostingRegressor\\nfrom dask import dataframe as dd\\nimport plotly.express as px\\nimport tqdm\\nimport pickle\\nfrom openpyxl import load_workbook\\nfrom sklearn.preprocessing import OneHotEncoder\\nimport plotly.graph_objs as go\\nimport spacy\\nimport xgboost as xgb\\nimport plotly as py\\nimport sklearn\\nfrom sklearn.ensemble import RandomForestRegressor\\nimport matplotlib as mpl\\nimport bokeh\\nfrom sklearn.feature_extraction.text import TfidfVectorizer\\nimport seaborn as sns\\nimport glob\\nimport nltk\\nfrom sklearn.ensemble import GradientBoostingClassifier\\nimport statistics\\nfrom sklearn.model_selection import train_test_split\\nfrom sklearn.manifold import TSNE\\nfrom sklearn import svm\\nimport lightgbm as lgb'); }\n    "
     },
     "metadata": {}
    },
    {
     "output_type": "display_data",
     "data": {
      "text/plain": "<IPython.core.display.Javascript object>",
      "application/javascript": "\n        if (window._pyforest_update_imports_cell) { window._pyforest_update_imports_cell('from sklearn.ensemble import RandomForestClassifier\\nimport datetime as dt\\nfrom pathlib import Path\\nimport gensim\\nfrom sklearn.ensemble import GradientBoostingRegressor\\nfrom dask import dataframe as dd\\nimport plotly.express as px\\nimport tqdm\\nimport pickle\\nfrom openpyxl import load_workbook\\nfrom sklearn.preprocessing import OneHotEncoder\\nimport plotly.graph_objs as go\\nimport spacy\\nimport xgboost as xgb\\nimport plotly as py\\nimport sklearn\\nfrom sklearn.ensemble import RandomForestRegressor\\nimport matplotlib as mpl\\nimport bokeh\\nfrom sklearn.feature_extraction.text import TfidfVectorizer\\nimport seaborn as sns\\nimport glob\\nimport nltk\\nfrom sklearn.ensemble import GradientBoostingClassifier\\nimport statistics\\nfrom sklearn.model_selection import train_test_split\\nfrom sklearn.manifold import TSNE\\nfrom sklearn import svm\\nimport lightgbm as lgb'); }\n    "
     },
     "metadata": {}
    },
    {
     "output_type": "display_data",
     "data": {
      "text/plain": "<IPython.core.display.Javascript object>",
      "application/javascript": "\n        if (window._pyforest_update_imports_cell) { window._pyforest_update_imports_cell('from sklearn.ensemble import RandomForestClassifier\\nimport datetime as dt\\nfrom pathlib import Path\\nimport gensim\\nfrom sklearn.ensemble import GradientBoostingRegressor\\nfrom dask import dataframe as dd\\nimport plotly.express as px\\nimport tqdm\\nimport pickle\\nfrom openpyxl import load_workbook\\nfrom sklearn.preprocessing import OneHotEncoder\\nimport plotly.graph_objs as go\\nimport spacy\\nimport xgboost as xgb\\nimport plotly as py\\nimport sklearn\\nfrom sklearn.ensemble import RandomForestRegressor\\nimport matplotlib as mpl\\nimport bokeh\\nfrom sklearn.feature_extraction.text import TfidfVectorizer\\nimport seaborn as sns\\nimport glob\\nimport nltk\\nfrom sklearn.ensemble import GradientBoostingClassifier\\nimport statistics\\nfrom sklearn.model_selection import train_test_split\\nfrom sklearn.manifold import TSNE\\nfrom sklearn import svm\\nimport lightgbm as lgb'); }\n    "
     },
     "metadata": {}
    },
    {
     "output_type": "display_data",
     "data": {
      "text/plain": "<IPython.core.display.Javascript object>",
      "application/javascript": "\n        if (window._pyforest_update_imports_cell) { window._pyforest_update_imports_cell('from sklearn.ensemble import RandomForestClassifier\\nimport datetime as dt\\nfrom pathlib import Path\\nimport gensim\\nfrom sklearn.ensemble import GradientBoostingRegressor\\nfrom dask import dataframe as dd\\nimport plotly.express as px\\nimport tqdm\\nimport pickle\\nfrom openpyxl import load_workbook\\nfrom sklearn.preprocessing import OneHotEncoder\\nimport plotly.graph_objs as go\\nimport spacy\\nimport xgboost as xgb\\nimport plotly as py\\nimport sklearn\\nfrom sklearn.ensemble import RandomForestRegressor\\nimport matplotlib as mpl\\nimport bokeh\\nfrom sklearn.feature_extraction.text import TfidfVectorizer\\nimport seaborn as sns\\nimport glob\\nimport nltk\\nfrom sklearn.ensemble import GradientBoostingClassifier\\nimport statistics\\nfrom sklearn.model_selection import train_test_split\\nfrom sklearn.manifold import TSNE\\nfrom sklearn import svm\\nimport lightgbm as lgb'); }\n    "
     },
     "metadata": {}
    },
    {
     "output_type": "display_data",
     "data": {
      "text/plain": "<IPython.core.display.Javascript object>",
      "application/javascript": "\n        if (window._pyforest_update_imports_cell) { window._pyforest_update_imports_cell('from sklearn.ensemble import RandomForestClassifier\\nimport datetime as dt\\nfrom pathlib import Path\\nimport gensim\\nfrom sklearn.ensemble import GradientBoostingRegressor\\nfrom dask import dataframe as dd\\nimport plotly.express as px\\nimport tqdm\\nimport pickle\\nfrom openpyxl import load_workbook\\nfrom sklearn.preprocessing import OneHotEncoder\\nimport plotly.graph_objs as go\\nimport spacy\\nimport xgboost as xgb\\nimport plotly as py\\nimport sklearn\\nfrom sklearn.ensemble import RandomForestRegressor\\nimport matplotlib as mpl\\nimport bokeh\\nfrom sklearn.feature_extraction.text import TfidfVectorizer\\nimport seaborn as sns\\nimport glob\\nimport nltk\\nfrom sklearn.ensemble import GradientBoostingClassifier\\nimport statistics\\nfrom sklearn.model_selection import train_test_split\\nfrom sklearn.manifold import TSNE\\nfrom sklearn import svm\\nimport lightgbm as lgb'); }\n    "
     },
     "metadata": {}
    },
    {
     "output_type": "display_data",
     "data": {
      "text/plain": "<IPython.core.display.Javascript object>",
      "application/javascript": "\n        if (window._pyforest_update_imports_cell) { window._pyforest_update_imports_cell('from sklearn.ensemble import RandomForestClassifier\\nimport datetime as dt\\nfrom pathlib import Path\\nimport gensim\\nfrom sklearn.ensemble import GradientBoostingRegressor\\nfrom dask import dataframe as dd\\nimport plotly.express as px\\nimport tqdm\\nimport pickle\\nfrom openpyxl import load_workbook\\nfrom sklearn.preprocessing import OneHotEncoder\\nimport plotly.graph_objs as go\\nimport spacy\\nimport xgboost as xgb\\nimport plotly as py\\nimport sklearn\\nfrom sklearn.ensemble import RandomForestRegressor\\nimport matplotlib as mpl\\nimport bokeh\\nfrom sklearn.feature_extraction.text import TfidfVectorizer\\nimport seaborn as sns\\nimport glob\\nimport nltk\\nfrom sklearn.ensemble import GradientBoostingClassifier\\nimport statistics\\nfrom sklearn.model_selection import train_test_split\\nfrom sklearn.manifold import TSNE\\nfrom sklearn import svm\\nimport lightgbm as lgb'); }\n    "
     },
     "metadata": {}
    },
    {
     "output_type": "display_data",
     "data": {
      "text/plain": "<IPython.core.display.Javascript object>",
      "application/javascript": "\n        if (window._pyforest_update_imports_cell) { window._pyforest_update_imports_cell('from sklearn.ensemble import RandomForestClassifier\\nimport datetime as dt\\nfrom pathlib import Path\\nimport gensim\\nfrom sklearn.ensemble import GradientBoostingRegressor\\nfrom dask import dataframe as dd\\nimport plotly.express as px\\nimport tqdm\\nimport pickle\\nfrom openpyxl import load_workbook\\nfrom sklearn.preprocessing import OneHotEncoder\\nimport plotly.graph_objs as go\\nimport spacy\\nimport xgboost as xgb\\nimport plotly as py\\nimport sklearn\\nfrom sklearn.ensemble import RandomForestRegressor\\nimport matplotlib as mpl\\nimport bokeh\\nfrom sklearn.feature_extraction.text import TfidfVectorizer\\nimport seaborn as sns\\nimport glob\\nimport nltk\\nfrom sklearn.ensemble import GradientBoostingClassifier\\nimport statistics\\nfrom sklearn.model_selection import train_test_split\\nfrom sklearn.manifold import TSNE\\nfrom sklearn import svm\\nimport lightgbm as lgb'); }\n    "
     },
     "metadata": {}
    },
    {
     "output_type": "display_data",
     "data": {
      "text/plain": "<IPython.core.display.Javascript object>",
      "application/javascript": "\n        if (window._pyforest_update_imports_cell) { window._pyforest_update_imports_cell('from sklearn.ensemble import RandomForestClassifier\\nimport datetime as dt\\nfrom pathlib import Path\\nimport gensim\\nfrom sklearn.ensemble import GradientBoostingRegressor\\nfrom dask import dataframe as dd\\nimport plotly.express as px\\nimport tqdm\\nimport pickle\\nfrom openpyxl import load_workbook\\nfrom sklearn.preprocessing import OneHotEncoder\\nimport plotly.graph_objs as go\\nimport spacy\\nimport xgboost as xgb\\nimport plotly as py\\nimport sklearn\\nfrom sklearn.ensemble import RandomForestRegressor\\nimport matplotlib as mpl\\nimport bokeh\\nfrom sklearn.feature_extraction.text import TfidfVectorizer\\nimport seaborn as sns\\nimport glob\\nimport nltk\\nfrom sklearn.ensemble import GradientBoostingClassifier\\nimport statistics\\nfrom sklearn.model_selection import train_test_split\\nfrom sklearn.manifold import TSNE\\nfrom sklearn import svm\\nimport lightgbm as lgb'); }\n    "
     },
     "metadata": {}
    },
    {
     "output_type": "display_data",
     "data": {
      "text/plain": "<IPython.core.display.Javascript object>",
      "application/javascript": "\n        if (window._pyforest_update_imports_cell) { window._pyforest_update_imports_cell('from sklearn.ensemble import RandomForestClassifier\\nimport datetime as dt\\nfrom pathlib import Path\\nimport gensim\\nfrom sklearn.ensemble import GradientBoostingRegressor\\nfrom dask import dataframe as dd\\nimport plotly.express as px\\nimport tqdm\\nimport pickle\\nfrom openpyxl import load_workbook\\nfrom sklearn.preprocessing import OneHotEncoder\\nimport plotly.graph_objs as go\\nimport spacy\\nimport xgboost as xgb\\nimport plotly as py\\nimport sklearn\\nfrom sklearn.ensemble import RandomForestRegressor\\nimport matplotlib as mpl\\nimport bokeh\\nfrom sklearn.feature_extraction.text import TfidfVectorizer\\nimport seaborn as sns\\nimport glob\\nimport nltk\\nfrom sklearn.ensemble import GradientBoostingClassifier\\nimport statistics\\nfrom sklearn.model_selection import train_test_split\\nfrom sklearn.manifold import TSNE\\nfrom sklearn import svm\\nimport lightgbm as lgb'); }\n    "
     },
     "metadata": {}
    },
    {
     "output_type": "display_data",
     "data": {
      "text/plain": "<IPython.core.display.Javascript object>",
      "application/javascript": "\n        if (window._pyforest_update_imports_cell) { window._pyforest_update_imports_cell('from sklearn.ensemble import RandomForestClassifier\\nimport datetime as dt\\nfrom pathlib import Path\\nimport gensim\\nfrom sklearn.ensemble import GradientBoostingRegressor\\nfrom dask import dataframe as dd\\nimport plotly.express as px\\nimport tqdm\\nimport pickle\\nfrom openpyxl import load_workbook\\nfrom sklearn.preprocessing import OneHotEncoder\\nimport plotly.graph_objs as go\\nimport spacy\\nimport xgboost as xgb\\nimport plotly as py\\nimport sklearn\\nfrom sklearn.ensemble import RandomForestRegressor\\nimport matplotlib as mpl\\nimport bokeh\\nfrom sklearn.feature_extraction.text import TfidfVectorizer\\nimport seaborn as sns\\nimport glob\\nimport nltk\\nfrom sklearn.ensemble import GradientBoostingClassifier\\nimport statistics\\nfrom sklearn.model_selection import train_test_split\\nfrom sklearn.manifold import TSNE\\nfrom sklearn import svm\\nimport lightgbm as lgb'); }\n    "
     },
     "metadata": {}
    },
    {
     "output_type": "display_data",
     "data": {
      "text/plain": "<IPython.core.display.Javascript object>",
      "application/javascript": "\n        if (window._pyforest_update_imports_cell) { window._pyforest_update_imports_cell('from sklearn.ensemble import RandomForestClassifier\\nimport datetime as dt\\nfrom pathlib import Path\\nimport gensim\\nfrom sklearn.ensemble import GradientBoostingRegressor\\nfrom dask import dataframe as dd\\nimport plotly.express as px\\nimport tqdm\\nimport pickle\\nfrom openpyxl import load_workbook\\nfrom sklearn.preprocessing import OneHotEncoder\\nimport plotly.graph_objs as go\\nimport spacy\\nimport xgboost as xgb\\nimport plotly as py\\nimport sklearn\\nfrom sklearn.ensemble import RandomForestRegressor\\nimport matplotlib as mpl\\nimport bokeh\\nfrom sklearn.feature_extraction.text import TfidfVectorizer\\nimport seaborn as sns\\nimport glob\\nimport nltk\\nfrom sklearn.ensemble import GradientBoostingClassifier\\nimport statistics\\nfrom sklearn.model_selection import train_test_split\\nfrom sklearn.manifold import TSNE\\nfrom sklearn import svm\\nimport lightgbm as lgb'); }\n    "
     },
     "metadata": {}
    },
    {
     "output_type": "display_data",
     "data": {
      "text/plain": "<IPython.core.display.Javascript object>",
      "application/javascript": "\n        if (window._pyforest_update_imports_cell) { window._pyforest_update_imports_cell('from sklearn.ensemble import RandomForestClassifier\\nimport datetime as dt\\nfrom pathlib import Path\\nimport gensim\\nfrom sklearn.ensemble import GradientBoostingRegressor\\nfrom dask import dataframe as dd\\nimport plotly.express as px\\nimport tqdm\\nimport pickle\\nfrom openpyxl import load_workbook\\nfrom sklearn.preprocessing import OneHotEncoder\\nimport plotly.graph_objs as go\\nimport spacy\\nimport xgboost as xgb\\nimport plotly as py\\nimport sklearn\\nfrom sklearn.ensemble import RandomForestRegressor\\nimport matplotlib as mpl\\nimport bokeh\\nfrom sklearn.feature_extraction.text import TfidfVectorizer\\nimport seaborn as sns\\nimport glob\\nimport nltk\\nfrom sklearn.ensemble import GradientBoostingClassifier\\nimport statistics\\nfrom sklearn.model_selection import train_test_split\\nfrom sklearn.manifold import TSNE\\nfrom sklearn import svm\\nimport lightgbm as lgb'); }\n    "
     },
     "metadata": {}
    },
    {
     "output_type": "display_data",
     "data": {
      "text/plain": "<IPython.core.display.Javascript object>",
      "application/javascript": "\n        if (window._pyforest_update_imports_cell) { window._pyforest_update_imports_cell('from sklearn.ensemble import RandomForestClassifier\\nimport datetime as dt\\nfrom pathlib import Path\\nimport gensim\\nfrom sklearn.ensemble import GradientBoostingRegressor\\nfrom dask import dataframe as dd\\nimport plotly.express as px\\nimport tqdm\\nimport pickle\\nfrom openpyxl import load_workbook\\nfrom sklearn.preprocessing import OneHotEncoder\\nimport plotly.graph_objs as go\\nimport spacy\\nimport xgboost as xgb\\nimport plotly as py\\nimport sklearn\\nfrom sklearn.ensemble import RandomForestRegressor\\nimport matplotlib as mpl\\nimport bokeh\\nfrom sklearn.feature_extraction.text import TfidfVectorizer\\nimport seaborn as sns\\nimport glob\\nimport nltk\\nfrom sklearn.ensemble import GradientBoostingClassifier\\nimport statistics\\nfrom sklearn.model_selection import train_test_split\\nfrom sklearn.manifold import TSNE\\nfrom sklearn import svm\\nimport lightgbm as lgb'); }\n    "
     },
     "metadata": {}
    },
    {
     "output_type": "display_data",
     "data": {
      "text/plain": "<IPython.core.display.Javascript object>",
      "application/javascript": "\n        if (window._pyforest_update_imports_cell) { window._pyforest_update_imports_cell('from sklearn.ensemble import RandomForestClassifier\\nimport datetime as dt\\nfrom pathlib import Path\\nimport gensim\\nfrom sklearn.ensemble import GradientBoostingRegressor\\nfrom dask import dataframe as dd\\nimport plotly.express as px\\nimport tqdm\\nimport pickle\\nfrom openpyxl import load_workbook\\nfrom sklearn.preprocessing import OneHotEncoder\\nimport plotly.graph_objs as go\\nimport spacy\\nimport xgboost as xgb\\nimport plotly as py\\nimport sklearn\\nfrom sklearn.ensemble import RandomForestRegressor\\nimport matplotlib as mpl\\nimport bokeh\\nfrom sklearn.feature_extraction.text import TfidfVectorizer\\nimport seaborn as sns\\nimport glob\\nimport nltk\\nfrom sklearn.ensemble import GradientBoostingClassifier\\nimport statistics\\nfrom sklearn.model_selection import train_test_split\\nfrom sklearn.manifold import TSNE\\nfrom sklearn import svm\\nimport lightgbm as lgb'); }\n    "
     },
     "metadata": {}
    },
    {
     "output_type": "display_data",
     "data": {
      "text/plain": "<IPython.core.display.Javascript object>",
      "application/javascript": "\n        if (window._pyforest_update_imports_cell) { window._pyforest_update_imports_cell('from sklearn.ensemble import RandomForestClassifier\\nimport datetime as dt\\nfrom pathlib import Path\\nimport gensim\\nfrom sklearn.ensemble import GradientBoostingRegressor\\nfrom dask import dataframe as dd\\nimport plotly.express as px\\nimport tqdm\\nimport pickle\\nfrom openpyxl import load_workbook\\nfrom sklearn.preprocessing import OneHotEncoder\\nimport plotly.graph_objs as go\\nimport spacy\\nimport xgboost as xgb\\nimport plotly as py\\nimport sklearn\\nfrom sklearn.ensemble import RandomForestRegressor\\nimport matplotlib as mpl\\nimport bokeh\\nfrom sklearn.feature_extraction.text import TfidfVectorizer\\nimport seaborn as sns\\nimport glob\\nimport nltk\\nfrom sklearn.ensemble import GradientBoostingClassifier\\nimport statistics\\nfrom sklearn.model_selection import train_test_split\\nfrom sklearn.manifold import TSNE\\nfrom sklearn import svm\\nimport lightgbm as lgb'); }\n    "
     },
     "metadata": {}
    },
    {
     "output_type": "display_data",
     "data": {
      "text/plain": "<IPython.core.display.Javascript object>",
      "application/javascript": "\n        if (window._pyforest_update_imports_cell) { window._pyforest_update_imports_cell('from sklearn.ensemble import RandomForestClassifier\\nimport datetime as dt\\nfrom pathlib import Path\\nimport gensim\\nfrom sklearn.ensemble import GradientBoostingRegressor\\nfrom dask import dataframe as dd\\nimport plotly.express as px\\nimport tqdm\\nimport pickle\\nfrom openpyxl import load_workbook\\nfrom sklearn.preprocessing import OneHotEncoder\\nimport plotly.graph_objs as go\\nimport spacy\\nimport xgboost as xgb\\nimport plotly as py\\nimport sklearn\\nfrom sklearn.ensemble import RandomForestRegressor\\nimport matplotlib as mpl\\nimport bokeh\\nfrom sklearn.feature_extraction.text import TfidfVectorizer\\nimport seaborn as sns\\nimport glob\\nimport nltk\\nfrom sklearn.ensemble import GradientBoostingClassifier\\nimport statistics\\nfrom sklearn.model_selection import train_test_split\\nfrom sklearn.manifold import TSNE\\nfrom sklearn import svm\\nimport lightgbm as lgb'); }\n    "
     },
     "metadata": {}
    },
    {
     "output_type": "display_data",
     "data": {
      "text/plain": "<IPython.core.display.Javascript object>",
      "application/javascript": "\n        if (window._pyforest_update_imports_cell) { window._pyforest_update_imports_cell('from sklearn.ensemble import RandomForestClassifier\\nimport datetime as dt\\nfrom pathlib import Path\\nimport gensim\\nfrom sklearn.ensemble import GradientBoostingRegressor\\nfrom dask import dataframe as dd\\nimport plotly.express as px\\nimport tqdm\\nimport pickle\\nfrom openpyxl import load_workbook\\nfrom sklearn.preprocessing import OneHotEncoder\\nimport plotly.graph_objs as go\\nimport spacy\\nimport xgboost as xgb\\nimport plotly as py\\nimport sklearn\\nfrom sklearn.ensemble import RandomForestRegressor\\nimport matplotlib as mpl\\nimport bokeh\\nfrom sklearn.feature_extraction.text import TfidfVectorizer\\nimport seaborn as sns\\nimport glob\\nimport nltk\\nfrom sklearn.ensemble import GradientBoostingClassifier\\nimport statistics\\nfrom sklearn.model_selection import train_test_split\\nfrom sklearn.manifold import TSNE\\nfrom sklearn import svm\\nimport lightgbm as lgb'); }\n    "
     },
     "metadata": {}
    },
    {
     "output_type": "display_data",
     "data": {
      "text/plain": "<IPython.core.display.Javascript object>",
      "application/javascript": "\n        if (window._pyforest_update_imports_cell) { window._pyforest_update_imports_cell('from sklearn.ensemble import RandomForestClassifier\\nimport datetime as dt\\nfrom pathlib import Path\\nimport gensim\\nfrom sklearn.ensemble import GradientBoostingRegressor\\nfrom dask import dataframe as dd\\nimport plotly.express as px\\nimport tqdm\\nimport pickle\\nfrom openpyxl import load_workbook\\nfrom sklearn.preprocessing import OneHotEncoder\\nimport plotly.graph_objs as go\\nimport spacy\\nimport xgboost as xgb\\nimport plotly as py\\nimport sklearn\\nfrom sklearn.ensemble import RandomForestRegressor\\nimport matplotlib as mpl\\nimport bokeh\\nfrom sklearn.feature_extraction.text import TfidfVectorizer\\nimport seaborn as sns\\nimport glob\\nimport nltk\\nfrom sklearn.ensemble import GradientBoostingClassifier\\nimport statistics\\nfrom sklearn.model_selection import train_test_split\\nfrom sklearn.manifold import TSNE\\nfrom sklearn import svm\\nimport lightgbm as lgb'); }\n    "
     },
     "metadata": {}
    },
    {
     "output_type": "display_data",
     "data": {
      "text/plain": "<IPython.core.display.Javascript object>",
      "application/javascript": "\n        if (window._pyforest_update_imports_cell) { window._pyforest_update_imports_cell('from sklearn.ensemble import RandomForestClassifier\\nimport datetime as dt\\nfrom pathlib import Path\\nimport gensim\\nfrom sklearn.ensemble import GradientBoostingRegressor\\nfrom dask import dataframe as dd\\nimport plotly.express as px\\nimport tqdm\\nimport pickle\\nfrom openpyxl import load_workbook\\nfrom sklearn.preprocessing import OneHotEncoder\\nimport plotly.graph_objs as go\\nimport spacy\\nimport xgboost as xgb\\nimport plotly as py\\nimport sklearn\\nfrom sklearn.ensemble import RandomForestRegressor\\nimport matplotlib as mpl\\nimport bokeh\\nfrom sklearn.feature_extraction.text import TfidfVectorizer\\nimport seaborn as sns\\nimport glob\\nimport nltk\\nfrom sklearn.ensemble import GradientBoostingClassifier\\nimport statistics\\nfrom sklearn.model_selection import train_test_split\\nfrom sklearn.manifold import TSNE\\nfrom sklearn import svm\\nimport lightgbm as lgb'); }\n    "
     },
     "metadata": {}
    },
    {
     "output_type": "display_data",
     "data": {
      "text/plain": "<IPython.core.display.Javascript object>",
      "application/javascript": "\n        if (window._pyforest_update_imports_cell) { window._pyforest_update_imports_cell('from sklearn.ensemble import RandomForestClassifier\\nimport datetime as dt\\nfrom pathlib import Path\\nimport gensim\\nfrom sklearn.ensemble import GradientBoostingRegressor\\nfrom dask import dataframe as dd\\nimport plotly.express as px\\nimport tqdm\\nimport pickle\\nfrom openpyxl import load_workbook\\nfrom sklearn.preprocessing import OneHotEncoder\\nimport plotly.graph_objs as go\\nimport spacy\\nimport xgboost as xgb\\nimport plotly as py\\nimport sklearn\\nfrom sklearn.ensemble import RandomForestRegressor\\nimport matplotlib as mpl\\nimport bokeh\\nfrom sklearn.feature_extraction.text import TfidfVectorizer\\nimport seaborn as sns\\nimport glob\\nimport nltk\\nfrom sklearn.ensemble import GradientBoostingClassifier\\nimport statistics\\nfrom sklearn.model_selection import train_test_split\\nfrom sklearn.manifold import TSNE\\nfrom sklearn import svm\\nimport lightgbm as lgb'); }\n    "
     },
     "metadata": {}
    },
    {
     "output_type": "display_data",
     "data": {
      "text/plain": "<IPython.core.display.Javascript object>",
      "application/javascript": "\n        if (window._pyforest_update_imports_cell) { window._pyforest_update_imports_cell('from sklearn.ensemble import RandomForestClassifier\\nimport datetime as dt\\nfrom pathlib import Path\\nimport gensim\\nfrom sklearn.ensemble import GradientBoostingRegressor\\nfrom dask import dataframe as dd\\nimport plotly.express as px\\nimport tqdm\\nimport pickle\\nfrom openpyxl import load_workbook\\nfrom sklearn.preprocessing import OneHotEncoder\\nimport plotly.graph_objs as go\\nimport spacy\\nimport xgboost as xgb\\nimport plotly as py\\nimport sklearn\\nfrom sklearn.ensemble import RandomForestRegressor\\nimport matplotlib as mpl\\nimport bokeh\\nfrom sklearn.feature_extraction.text import TfidfVectorizer\\nimport seaborn as sns\\nimport glob\\nimport nltk\\nfrom sklearn.ensemble import GradientBoostingClassifier\\nimport statistics\\nfrom sklearn.model_selection import train_test_split\\nfrom sklearn.manifold import TSNE\\nfrom sklearn import svm\\nimport lightgbm as lgb'); }\n    "
     },
     "metadata": {}
    },
    {
     "output_type": "display_data",
     "data": {
      "text/plain": "<IPython.core.display.Javascript object>",
      "application/javascript": "\n        if (window._pyforest_update_imports_cell) { window._pyforest_update_imports_cell('from sklearn.ensemble import RandomForestClassifier\\nimport datetime as dt\\nfrom pathlib import Path\\nimport gensim\\nfrom sklearn.ensemble import GradientBoostingRegressor\\nfrom dask import dataframe as dd\\nimport plotly.express as px\\nimport tqdm\\nimport pickle\\nfrom openpyxl import load_workbook\\nfrom sklearn.preprocessing import OneHotEncoder\\nimport plotly.graph_objs as go\\nimport spacy\\nimport xgboost as xgb\\nimport plotly as py\\nimport sklearn\\nfrom sklearn.ensemble import RandomForestRegressor\\nimport matplotlib as mpl\\nimport bokeh\\nfrom sklearn.feature_extraction.text import TfidfVectorizer\\nimport seaborn as sns\\nimport glob\\nimport nltk\\nfrom sklearn.ensemble import GradientBoostingClassifier\\nimport statistics\\nfrom sklearn.model_selection import train_test_split\\nfrom sklearn.manifold import TSNE\\nfrom sklearn import svm\\nimport lightgbm as lgb'); }\n    "
     },
     "metadata": {}
    },
    {
     "output_type": "display_data",
     "data": {
      "text/plain": "<IPython.core.display.Javascript object>",
      "application/javascript": "\n        if (window._pyforest_update_imports_cell) { window._pyforest_update_imports_cell('from sklearn.ensemble import RandomForestClassifier\\nimport datetime as dt\\nfrom pathlib import Path\\nimport gensim\\nfrom sklearn.ensemble import GradientBoostingRegressor\\nfrom dask import dataframe as dd\\nimport plotly.express as px\\nimport tqdm\\nimport pickle\\nfrom openpyxl import load_workbook\\nfrom sklearn.preprocessing import OneHotEncoder\\nimport plotly.graph_objs as go\\nimport spacy\\nimport xgboost as xgb\\nimport plotly as py\\nimport sklearn\\nfrom sklearn.ensemble import RandomForestRegressor\\nimport matplotlib as mpl\\nimport bokeh\\nfrom sklearn.feature_extraction.text import TfidfVectorizer\\nimport seaborn as sns\\nimport glob\\nimport nltk\\nfrom sklearn.ensemble import GradientBoostingClassifier\\nimport statistics\\nfrom sklearn.model_selection import train_test_split\\nfrom sklearn.manifold import TSNE\\nfrom sklearn import svm\\nimport lightgbm as lgb'); }\n    "
     },
     "metadata": {}
    },
    {
     "output_type": "display_data",
     "data": {
      "text/plain": "<IPython.core.display.Javascript object>",
      "application/javascript": "\n        if (window._pyforest_update_imports_cell) { window._pyforest_update_imports_cell('from sklearn.ensemble import RandomForestClassifier\\nimport datetime as dt\\nfrom pathlib import Path\\nimport gensim\\nfrom sklearn.ensemble import GradientBoostingRegressor\\nfrom dask import dataframe as dd\\nimport plotly.express as px\\nimport tqdm\\nimport pickle\\nfrom openpyxl import load_workbook\\nfrom sklearn.preprocessing import OneHotEncoder\\nimport plotly.graph_objs as go\\nimport spacy\\nimport xgboost as xgb\\nimport plotly as py\\nimport sklearn\\nfrom sklearn.ensemble import RandomForestRegressor\\nimport matplotlib as mpl\\nimport bokeh\\nfrom sklearn.feature_extraction.text import TfidfVectorizer\\nimport seaborn as sns\\nimport glob\\nimport nltk\\nfrom sklearn.ensemble import GradientBoostingClassifier\\nimport statistics\\nfrom sklearn.model_selection import train_test_split\\nfrom sklearn.manifold import TSNE\\nfrom sklearn import svm\\nimport lightgbm as lgb'); }\n    "
     },
     "metadata": {}
    },
    {
     "output_type": "display_data",
     "data": {
      "text/plain": "<IPython.core.display.Javascript object>",
      "application/javascript": "\n        if (window._pyforest_update_imports_cell) { window._pyforest_update_imports_cell('from sklearn.ensemble import RandomForestClassifier\\nimport datetime as dt\\nfrom pathlib import Path\\nimport gensim\\nfrom sklearn.ensemble import GradientBoostingRegressor\\nfrom dask import dataframe as dd\\nimport plotly.express as px\\nimport tqdm\\nimport pickle\\nfrom openpyxl import load_workbook\\nfrom sklearn.preprocessing import OneHotEncoder\\nimport plotly.graph_objs as go\\nimport spacy\\nimport xgboost as xgb\\nimport plotly as py\\nimport sklearn\\nfrom sklearn.ensemble import RandomForestRegressor\\nimport matplotlib as mpl\\nimport bokeh\\nfrom sklearn.feature_extraction.text import TfidfVectorizer\\nimport seaborn as sns\\nimport glob\\nimport nltk\\nfrom sklearn.ensemble import GradientBoostingClassifier\\nimport statistics\\nfrom sklearn.model_selection import train_test_split\\nfrom sklearn.manifold import TSNE\\nfrom sklearn import svm\\nimport lightgbm as lgb'); }\n    "
     },
     "metadata": {}
    },
    {
     "output_type": "display_data",
     "data": {
      "text/plain": "<IPython.core.display.Javascript object>",
      "application/javascript": "\n        if (window._pyforest_update_imports_cell) { window._pyforest_update_imports_cell('from sklearn.ensemble import RandomForestClassifier\\nimport datetime as dt\\nfrom pathlib import Path\\nimport gensim\\nfrom sklearn.ensemble import GradientBoostingRegressor\\nfrom dask import dataframe as dd\\nimport plotly.express as px\\nimport tqdm\\nimport pickle\\nfrom openpyxl import load_workbook\\nfrom sklearn.preprocessing import OneHotEncoder\\nimport plotly.graph_objs as go\\nimport spacy\\nimport xgboost as xgb\\nimport plotly as py\\nimport sklearn\\nfrom sklearn.ensemble import RandomForestRegressor\\nimport matplotlib as mpl\\nimport bokeh\\nfrom sklearn.feature_extraction.text import TfidfVectorizer\\nimport seaborn as sns\\nimport glob\\nimport nltk\\nfrom sklearn.ensemble import GradientBoostingClassifier\\nimport statistics\\nfrom sklearn.model_selection import train_test_split\\nfrom sklearn.manifold import TSNE\\nfrom sklearn import svm\\nimport lightgbm as lgb'); }\n    "
     },
     "metadata": {}
    },
    {
     "output_type": "display_data",
     "data": {
      "text/plain": "<IPython.core.display.Javascript object>",
      "application/javascript": "\n        if (window._pyforest_update_imports_cell) { window._pyforest_update_imports_cell('from sklearn.ensemble import RandomForestClassifier\\nimport datetime as dt\\nfrom pathlib import Path\\nimport gensim\\nfrom sklearn.ensemble import GradientBoostingRegressor\\nfrom dask import dataframe as dd\\nimport plotly.express as px\\nimport tqdm\\nimport pickle\\nfrom openpyxl import load_workbook\\nfrom sklearn.preprocessing import OneHotEncoder\\nimport plotly.graph_objs as go\\nimport spacy\\nimport xgboost as xgb\\nimport plotly as py\\nimport sklearn\\nfrom sklearn.ensemble import RandomForestRegressor\\nimport matplotlib as mpl\\nimport bokeh\\nfrom sklearn.feature_extraction.text import TfidfVectorizer\\nimport seaborn as sns\\nimport glob\\nimport nltk\\nfrom sklearn.ensemble import GradientBoostingClassifier\\nimport statistics\\nfrom sklearn.model_selection import train_test_split\\nfrom sklearn.manifold import TSNE\\nfrom sklearn import svm\\nimport lightgbm as lgb'); }\n    "
     },
     "metadata": {}
    },
    {
     "output_type": "display_data",
     "data": {
      "text/plain": "<IPython.core.display.Javascript object>",
      "application/javascript": "\n        if (window._pyforest_update_imports_cell) { window._pyforest_update_imports_cell('from sklearn.ensemble import RandomForestClassifier\\nimport datetime as dt\\nfrom pathlib import Path\\nimport gensim\\nfrom sklearn.ensemble import GradientBoostingRegressor\\nfrom dask import dataframe as dd\\nimport plotly.express as px\\nimport tqdm\\nimport pickle\\nfrom openpyxl import load_workbook\\nfrom sklearn.preprocessing import OneHotEncoder\\nimport plotly.graph_objs as go\\nimport spacy\\nimport xgboost as xgb\\nimport plotly as py\\nimport sklearn\\nfrom sklearn.ensemble import RandomForestRegressor\\nimport matplotlib as mpl\\nimport bokeh\\nfrom sklearn.feature_extraction.text import TfidfVectorizer\\nimport seaborn as sns\\nimport glob\\nimport nltk\\nfrom sklearn.ensemble import GradientBoostingClassifier\\nimport statistics\\nfrom sklearn.model_selection import train_test_split\\nfrom sklearn.manifold import TSNE\\nfrom sklearn import svm\\nimport lightgbm as lgb'); }\n    "
     },
     "metadata": {}
    },
    {
     "output_type": "display_data",
     "data": {
      "text/plain": "<IPython.core.display.Javascript object>",
      "application/javascript": "\n        if (window._pyforest_update_imports_cell) { window._pyforest_update_imports_cell('from sklearn.ensemble import RandomForestClassifier\\nimport datetime as dt\\nfrom pathlib import Path\\nimport gensim\\nfrom sklearn.ensemble import GradientBoostingRegressor\\nfrom dask import dataframe as dd\\nimport plotly.express as px\\nimport tqdm\\nimport pickle\\nfrom openpyxl import load_workbook\\nfrom sklearn.preprocessing import OneHotEncoder\\nimport plotly.graph_objs as go\\nimport spacy\\nimport xgboost as xgb\\nimport plotly as py\\nimport sklearn\\nfrom sklearn.ensemble import RandomForestRegressor\\nimport matplotlib as mpl\\nimport bokeh\\nfrom sklearn.feature_extraction.text import TfidfVectorizer\\nimport seaborn as sns\\nimport glob\\nimport nltk\\nfrom sklearn.ensemble import GradientBoostingClassifier\\nimport statistics\\nfrom sklearn.model_selection import train_test_split\\nfrom sklearn.manifold import TSNE\\nfrom sklearn import svm\\nimport lightgbm as lgb'); }\n    "
     },
     "metadata": {}
    },
    {
     "output_type": "display_data",
     "data": {
      "text/plain": "<IPython.core.display.Javascript object>",
      "application/javascript": "\n        if (window._pyforest_update_imports_cell) { window._pyforest_update_imports_cell('from sklearn.ensemble import RandomForestClassifier\\nimport datetime as dt\\nfrom pathlib import Path\\nimport gensim\\nfrom sklearn.ensemble import GradientBoostingRegressor\\nfrom dask import dataframe as dd\\nimport plotly.express as px\\nimport tqdm\\nimport pickle\\nfrom openpyxl import load_workbook\\nfrom sklearn.preprocessing import OneHotEncoder\\nimport plotly.graph_objs as go\\nimport spacy\\nimport xgboost as xgb\\nimport plotly as py\\nimport sklearn\\nfrom sklearn.ensemble import RandomForestRegressor\\nimport matplotlib as mpl\\nimport bokeh\\nfrom sklearn.feature_extraction.text import TfidfVectorizer\\nimport seaborn as sns\\nimport glob\\nimport nltk\\nfrom sklearn.ensemble import GradientBoostingClassifier\\nimport statistics\\nfrom sklearn.model_selection import train_test_split\\nfrom sklearn.manifold import TSNE\\nfrom sklearn import svm\\nimport lightgbm as lgb'); }\n    "
     },
     "metadata": {}
    },
    {
     "output_type": "display_data",
     "data": {
      "text/plain": "<IPython.core.display.Javascript object>",
      "application/javascript": "\n        if (window._pyforest_update_imports_cell) { window._pyforest_update_imports_cell('from sklearn.ensemble import RandomForestClassifier\\nimport datetime as dt\\nfrom pathlib import Path\\nimport gensim\\nfrom sklearn.ensemble import GradientBoostingRegressor\\nfrom dask import dataframe as dd\\nimport plotly.express as px\\nimport tqdm\\nimport pickle\\nfrom openpyxl import load_workbook\\nfrom sklearn.preprocessing import OneHotEncoder\\nimport plotly.graph_objs as go\\nimport spacy\\nimport xgboost as xgb\\nimport plotly as py\\nimport sklearn\\nfrom sklearn.ensemble import RandomForestRegressor\\nimport matplotlib as mpl\\nimport bokeh\\nfrom sklearn.feature_extraction.text import TfidfVectorizer\\nimport seaborn as sns\\nimport glob\\nimport nltk\\nfrom sklearn.ensemble import GradientBoostingClassifier\\nimport statistics\\nfrom sklearn.model_selection import train_test_split\\nfrom sklearn.manifold import TSNE\\nfrom sklearn import svm\\nimport lightgbm as lgb'); }\n    "
     },
     "metadata": {}
    },
    {
     "output_type": "display_data",
     "data": {
      "text/plain": "<IPython.core.display.Javascript object>",
      "application/javascript": "\n        if (window._pyforest_update_imports_cell) { window._pyforest_update_imports_cell('from sklearn.ensemble import RandomForestClassifier\\nimport datetime as dt\\nfrom pathlib import Path\\nimport gensim\\nfrom sklearn.ensemble import GradientBoostingRegressor\\nfrom dask import dataframe as dd\\nimport plotly.express as px\\nimport tqdm\\nimport pickle\\nfrom openpyxl import load_workbook\\nfrom sklearn.preprocessing import OneHotEncoder\\nimport plotly.graph_objs as go\\nimport spacy\\nimport xgboost as xgb\\nimport plotly as py\\nimport sklearn\\nfrom sklearn.ensemble import RandomForestRegressor\\nimport matplotlib as mpl\\nimport bokeh\\nfrom sklearn.feature_extraction.text import TfidfVectorizer\\nimport seaborn as sns\\nimport glob\\nimport nltk\\nfrom sklearn.ensemble import GradientBoostingClassifier\\nimport statistics\\nfrom sklearn.model_selection import train_test_split\\nfrom sklearn.manifold import TSNE\\nfrom sklearn import svm\\nimport lightgbm as lgb'); }\n    "
     },
     "metadata": {}
    },
    {
     "output_type": "display_data",
     "data": {
      "text/plain": "<IPython.core.display.Javascript object>",
      "application/javascript": "\n        if (window._pyforest_update_imports_cell) { window._pyforest_update_imports_cell('from sklearn.ensemble import RandomForestClassifier\\nimport datetime as dt\\nfrom pathlib import Path\\nimport gensim\\nfrom sklearn.ensemble import GradientBoostingRegressor\\nfrom dask import dataframe as dd\\nimport plotly.express as px\\nimport tqdm\\nimport pickle\\nfrom openpyxl import load_workbook\\nfrom sklearn.preprocessing import OneHotEncoder\\nimport plotly.graph_objs as go\\nimport spacy\\nimport xgboost as xgb\\nimport plotly as py\\nimport sklearn\\nfrom sklearn.ensemble import RandomForestRegressor\\nimport matplotlib as mpl\\nimport bokeh\\nfrom sklearn.feature_extraction.text import TfidfVectorizer\\nimport seaborn as sns\\nimport glob\\nimport nltk\\nfrom sklearn.ensemble import GradientBoostingClassifier\\nimport statistics\\nfrom sklearn.model_selection import train_test_split\\nfrom sklearn.manifold import TSNE\\nfrom sklearn import svm\\nimport lightgbm as lgb'); }\n    "
     },
     "metadata": {}
    },
    {
     "output_type": "display_data",
     "data": {
      "text/plain": "<IPython.core.display.Javascript object>",
      "application/javascript": "\n        if (window._pyforest_update_imports_cell) { window._pyforest_update_imports_cell('from sklearn.ensemble import RandomForestClassifier\\nimport datetime as dt\\nfrom pathlib import Path\\nimport gensim\\nfrom sklearn.ensemble import GradientBoostingRegressor\\nfrom dask import dataframe as dd\\nimport plotly.express as px\\nimport tqdm\\nimport pickle\\nfrom openpyxl import load_workbook\\nfrom sklearn.preprocessing import OneHotEncoder\\nimport plotly.graph_objs as go\\nimport spacy\\nimport xgboost as xgb\\nimport plotly as py\\nimport sklearn\\nfrom sklearn.ensemble import RandomForestRegressor\\nimport matplotlib as mpl\\nimport bokeh\\nfrom sklearn.feature_extraction.text import TfidfVectorizer\\nimport seaborn as sns\\nimport glob\\nimport nltk\\nfrom sklearn.ensemble import GradientBoostingClassifier\\nimport statistics\\nfrom sklearn.model_selection import train_test_split\\nfrom sklearn.manifold import TSNE\\nfrom sklearn import svm\\nimport lightgbm as lgb'); }\n    "
     },
     "metadata": {}
    },
    {
     "output_type": "display_data",
     "data": {
      "text/plain": "<IPython.core.display.Javascript object>",
      "application/javascript": "\n        if (window._pyforest_update_imports_cell) { window._pyforest_update_imports_cell('from sklearn.ensemble import RandomForestClassifier\\nimport datetime as dt\\nfrom pathlib import Path\\nimport gensim\\nfrom sklearn.ensemble import GradientBoostingRegressor\\nfrom dask import dataframe as dd\\nimport plotly.express as px\\nimport tqdm\\nimport pickle\\nfrom openpyxl import load_workbook\\nfrom sklearn.preprocessing import OneHotEncoder\\nimport plotly.graph_objs as go\\nimport spacy\\nimport xgboost as xgb\\nimport plotly as py\\nimport sklearn\\nfrom sklearn.ensemble import RandomForestRegressor\\nimport matplotlib as mpl\\nimport bokeh\\nfrom sklearn.feature_extraction.text import TfidfVectorizer\\nimport seaborn as sns\\nimport glob\\nimport nltk\\nfrom sklearn.ensemble import GradientBoostingClassifier\\nimport statistics\\nfrom sklearn.model_selection import train_test_split\\nfrom sklearn.manifold import TSNE\\nfrom sklearn import svm\\nimport lightgbm as lgb'); }\n    "
     },
     "metadata": {}
    },
    {
     "output_type": "display_data",
     "data": {
      "text/plain": "<IPython.core.display.Javascript object>",
      "application/javascript": "\n        if (window._pyforest_update_imports_cell) { window._pyforest_update_imports_cell('from sklearn.ensemble import RandomForestClassifier\\nimport datetime as dt\\nfrom pathlib import Path\\nimport gensim\\nfrom sklearn.ensemble import GradientBoostingRegressor\\nfrom dask import dataframe as dd\\nimport plotly.express as px\\nimport tqdm\\nimport pickle\\nfrom openpyxl import load_workbook\\nfrom sklearn.preprocessing import OneHotEncoder\\nimport plotly.graph_objs as go\\nimport spacy\\nimport xgboost as xgb\\nimport plotly as py\\nimport sklearn\\nfrom sklearn.ensemble import RandomForestRegressor\\nimport matplotlib as mpl\\nimport bokeh\\nfrom sklearn.feature_extraction.text import TfidfVectorizer\\nimport seaborn as sns\\nimport glob\\nimport nltk\\nfrom sklearn.ensemble import GradientBoostingClassifier\\nimport statistics\\nfrom sklearn.model_selection import train_test_split\\nfrom sklearn.manifold import TSNE\\nfrom sklearn import svm\\nimport lightgbm as lgb'); }\n    "
     },
     "metadata": {}
    },
    {
     "output_type": "display_data",
     "data": {
      "text/plain": "<IPython.core.display.Javascript object>",
      "application/javascript": "\n        if (window._pyforest_update_imports_cell) { window._pyforest_update_imports_cell('from sklearn.ensemble import RandomForestClassifier\\nimport datetime as dt\\nfrom pathlib import Path\\nimport gensim\\nfrom sklearn.ensemble import GradientBoostingRegressor\\nfrom dask import dataframe as dd\\nimport plotly.express as px\\nimport tqdm\\nimport pickle\\nfrom openpyxl import load_workbook\\nfrom sklearn.preprocessing import OneHotEncoder\\nimport plotly.graph_objs as go\\nimport spacy\\nimport xgboost as xgb\\nimport plotly as py\\nimport sklearn\\nfrom sklearn.ensemble import RandomForestRegressor\\nimport matplotlib as mpl\\nimport bokeh\\nfrom sklearn.feature_extraction.text import TfidfVectorizer\\nimport seaborn as sns\\nimport glob\\nimport nltk\\nfrom sklearn.ensemble import GradientBoostingClassifier\\nimport statistics\\nfrom sklearn.model_selection import train_test_split\\nfrom sklearn.manifold import TSNE\\nfrom sklearn import svm\\nimport lightgbm as lgb'); }\n    "
     },
     "metadata": {}
    },
    {
     "output_type": "display_data",
     "data": {
      "text/plain": "<IPython.core.display.Javascript object>",
      "application/javascript": "\n        if (window._pyforest_update_imports_cell) { window._pyforest_update_imports_cell('from sklearn.ensemble import RandomForestClassifier\\nimport datetime as dt\\nfrom pathlib import Path\\nimport gensim\\nfrom sklearn.ensemble import GradientBoostingRegressor\\nfrom dask import dataframe as dd\\nimport plotly.express as px\\nimport tqdm\\nimport pickle\\nfrom openpyxl import load_workbook\\nfrom sklearn.preprocessing import OneHotEncoder\\nimport plotly.graph_objs as go\\nimport spacy\\nimport xgboost as xgb\\nimport plotly as py\\nimport sklearn\\nfrom sklearn.ensemble import RandomForestRegressor\\nimport matplotlib as mpl\\nimport bokeh\\nfrom sklearn.feature_extraction.text import TfidfVectorizer\\nimport seaborn as sns\\nimport glob\\nimport nltk\\nfrom sklearn.ensemble import GradientBoostingClassifier\\nimport statistics\\nfrom sklearn.model_selection import train_test_split\\nfrom sklearn.manifold import TSNE\\nfrom sklearn import svm\\nimport lightgbm as lgb'); }\n    "
     },
     "metadata": {}
    },
    {
     "output_type": "display_data",
     "data": {
      "text/plain": "<IPython.core.display.Javascript object>",
      "application/javascript": "\n        if (window._pyforest_update_imports_cell) { window._pyforest_update_imports_cell('from sklearn.ensemble import RandomForestClassifier\\nimport datetime as dt\\nfrom pathlib import Path\\nimport gensim\\nfrom sklearn.ensemble import GradientBoostingRegressor\\nfrom dask import dataframe as dd\\nimport plotly.express as px\\nimport tqdm\\nimport pickle\\nfrom openpyxl import load_workbook\\nfrom sklearn.preprocessing import OneHotEncoder\\nimport plotly.graph_objs as go\\nimport spacy\\nimport xgboost as xgb\\nimport plotly as py\\nimport sklearn\\nfrom sklearn.ensemble import RandomForestRegressor\\nimport matplotlib as mpl\\nimport bokeh\\nfrom sklearn.feature_extraction.text import TfidfVectorizer\\nimport seaborn as sns\\nimport glob\\nimport nltk\\nfrom sklearn.ensemble import GradientBoostingClassifier\\nimport statistics\\nfrom sklearn.model_selection import train_test_split\\nfrom sklearn.manifold import TSNE\\nfrom sklearn import svm\\nimport lightgbm as lgb'); }\n    "
     },
     "metadata": {}
    },
    {
     "output_type": "display_data",
     "data": {
      "text/plain": "<IPython.core.display.Javascript object>",
      "application/javascript": "\n        if (window._pyforest_update_imports_cell) { window._pyforest_update_imports_cell('from sklearn.ensemble import RandomForestClassifier\\nimport datetime as dt\\nfrom pathlib import Path\\nimport gensim\\nfrom sklearn.ensemble import GradientBoostingRegressor\\nfrom dask import dataframe as dd\\nimport plotly.express as px\\nimport tqdm\\nimport pickle\\nfrom openpyxl import load_workbook\\nfrom sklearn.preprocessing import OneHotEncoder\\nimport plotly.graph_objs as go\\nimport spacy\\nimport xgboost as xgb\\nimport plotly as py\\nimport sklearn\\nfrom sklearn.ensemble import RandomForestRegressor\\nimport matplotlib as mpl\\nimport bokeh\\nfrom sklearn.feature_extraction.text import TfidfVectorizer\\nimport seaborn as sns\\nimport glob\\nimport nltk\\nfrom sklearn.ensemble import GradientBoostingClassifier\\nimport statistics\\nfrom sklearn.model_selection import train_test_split\\nfrom sklearn.manifold import TSNE\\nfrom sklearn import svm\\nimport lightgbm as lgb'); }\n    "
     },
     "metadata": {}
    },
    {
     "output_type": "display_data",
     "data": {
      "text/plain": "<IPython.core.display.Javascript object>",
      "application/javascript": "\n        if (window._pyforest_update_imports_cell) { window._pyforest_update_imports_cell('from sklearn.ensemble import RandomForestClassifier\\nimport datetime as dt\\nfrom pathlib import Path\\nimport gensim\\nfrom sklearn.ensemble import GradientBoostingRegressor\\nfrom dask import dataframe as dd\\nimport plotly.express as px\\nimport tqdm\\nimport pickle\\nfrom openpyxl import load_workbook\\nfrom sklearn.preprocessing import OneHotEncoder\\nimport plotly.graph_objs as go\\nimport spacy\\nimport xgboost as xgb\\nimport plotly as py\\nimport sklearn\\nfrom sklearn.ensemble import RandomForestRegressor\\nimport matplotlib as mpl\\nimport bokeh\\nfrom sklearn.feature_extraction.text import TfidfVectorizer\\nimport seaborn as sns\\nimport glob\\nimport nltk\\nfrom sklearn.ensemble import GradientBoostingClassifier\\nimport statistics\\nfrom sklearn.model_selection import train_test_split\\nfrom sklearn.manifold import TSNE\\nfrom sklearn import svm\\nimport lightgbm as lgb'); }\n    "
     },
     "metadata": {}
    },
    {
     "output_type": "display_data",
     "data": {
      "text/plain": "<IPython.core.display.Javascript object>",
      "application/javascript": "\n        if (window._pyforest_update_imports_cell) { window._pyforest_update_imports_cell('from sklearn.ensemble import RandomForestClassifier\\nimport datetime as dt\\nfrom pathlib import Path\\nimport gensim\\nfrom sklearn.ensemble import GradientBoostingRegressor\\nfrom dask import dataframe as dd\\nimport plotly.express as px\\nimport tqdm\\nimport pickle\\nfrom openpyxl import load_workbook\\nfrom sklearn.preprocessing import OneHotEncoder\\nimport plotly.graph_objs as go\\nimport spacy\\nimport xgboost as xgb\\nimport plotly as py\\nimport sklearn\\nfrom sklearn.ensemble import RandomForestRegressor\\nimport matplotlib as mpl\\nimport bokeh\\nfrom sklearn.feature_extraction.text import TfidfVectorizer\\nimport seaborn as sns\\nimport glob\\nimport nltk\\nfrom sklearn.ensemble import GradientBoostingClassifier\\nimport statistics\\nfrom sklearn.model_selection import train_test_split\\nfrom sklearn.manifold import TSNE\\nfrom sklearn import svm\\nimport lightgbm as lgb'); }\n    "
     },
     "metadata": {}
    },
    {
     "output_type": "display_data",
     "data": {
      "text/plain": "<IPython.core.display.Javascript object>",
      "application/javascript": "\n        if (window._pyforest_update_imports_cell) { window._pyforest_update_imports_cell('from sklearn.ensemble import RandomForestClassifier\\nimport datetime as dt\\nfrom pathlib import Path\\nimport gensim\\nfrom sklearn.ensemble import GradientBoostingRegressor\\nfrom dask import dataframe as dd\\nimport plotly.express as px\\nimport tqdm\\nimport pickle\\nfrom openpyxl import load_workbook\\nfrom sklearn.preprocessing import OneHotEncoder\\nimport plotly.graph_objs as go\\nimport spacy\\nimport xgboost as xgb\\nimport plotly as py\\nimport sklearn\\nfrom sklearn.ensemble import RandomForestRegressor\\nimport matplotlib as mpl\\nimport bokeh\\nfrom sklearn.feature_extraction.text import TfidfVectorizer\\nimport seaborn as sns\\nimport glob\\nimport nltk\\nfrom sklearn.ensemble import GradientBoostingClassifier\\nimport statistics\\nfrom sklearn.model_selection import train_test_split\\nfrom sklearn.manifold import TSNE\\nfrom sklearn import svm\\nimport lightgbm as lgb'); }\n    "
     },
     "metadata": {}
    },
    {
     "output_type": "display_data",
     "data": {
      "text/plain": "<IPython.core.display.Javascript object>",
      "application/javascript": "\n        if (window._pyforest_update_imports_cell) { window._pyforest_update_imports_cell('from sklearn.ensemble import RandomForestClassifier\\nimport datetime as dt\\nfrom pathlib import Path\\nimport gensim\\nfrom sklearn.ensemble import GradientBoostingRegressor\\nfrom dask import dataframe as dd\\nimport plotly.express as px\\nimport tqdm\\nimport pickle\\nfrom openpyxl import load_workbook\\nfrom sklearn.preprocessing import OneHotEncoder\\nimport plotly.graph_objs as go\\nimport spacy\\nimport xgboost as xgb\\nimport plotly as py\\nimport sklearn\\nfrom sklearn.ensemble import RandomForestRegressor\\nimport matplotlib as mpl\\nimport bokeh\\nfrom sklearn.feature_extraction.text import TfidfVectorizer\\nimport seaborn as sns\\nimport glob\\nimport nltk\\nfrom sklearn.ensemble import GradientBoostingClassifier\\nimport statistics\\nfrom sklearn.model_selection import train_test_split\\nfrom sklearn.manifold import TSNE\\nfrom sklearn import svm\\nimport lightgbm as lgb'); }\n    "
     },
     "metadata": {}
    },
    {
     "output_type": "display_data",
     "data": {
      "text/plain": "<IPython.core.display.Javascript object>",
      "application/javascript": "\n        if (window._pyforest_update_imports_cell) { window._pyforest_update_imports_cell('from sklearn.ensemble import RandomForestClassifier\\nimport datetime as dt\\nfrom pathlib import Path\\nimport gensim\\nfrom sklearn.ensemble import GradientBoostingRegressor\\nfrom dask import dataframe as dd\\nimport plotly.express as px\\nimport tqdm\\nimport pickle\\nfrom openpyxl import load_workbook\\nfrom sklearn.preprocessing import OneHotEncoder\\nimport plotly.graph_objs as go\\nimport spacy\\nimport xgboost as xgb\\nimport plotly as py\\nimport sklearn\\nfrom sklearn.ensemble import RandomForestRegressor\\nimport matplotlib as mpl\\nimport bokeh\\nfrom sklearn.feature_extraction.text import TfidfVectorizer\\nimport seaborn as sns\\nimport glob\\nimport nltk\\nfrom sklearn.ensemble import GradientBoostingClassifier\\nimport statistics\\nfrom sklearn.model_selection import train_test_split\\nfrom sklearn.manifold import TSNE\\nfrom sklearn import svm\\nimport lightgbm as lgb'); }\n    "
     },
     "metadata": {}
    },
    {
     "output_type": "display_data",
     "data": {
      "text/plain": "<IPython.core.display.Javascript object>",
      "application/javascript": "\n        if (window._pyforest_update_imports_cell) { window._pyforest_update_imports_cell('from sklearn.ensemble import RandomForestClassifier\\nimport datetime as dt\\nfrom pathlib import Path\\nimport gensim\\nfrom sklearn.ensemble import GradientBoostingRegressor\\nfrom dask import dataframe as dd\\nimport plotly.express as px\\nimport tqdm\\nimport pickle\\nfrom openpyxl import load_workbook\\nfrom sklearn.preprocessing import OneHotEncoder\\nimport plotly.graph_objs as go\\nimport spacy\\nimport xgboost as xgb\\nimport plotly as py\\nimport sklearn\\nfrom sklearn.ensemble import RandomForestRegressor\\nimport matplotlib as mpl\\nimport bokeh\\nfrom sklearn.feature_extraction.text import TfidfVectorizer\\nimport seaborn as sns\\nimport glob\\nimport nltk\\nfrom sklearn.ensemble import GradientBoostingClassifier\\nimport statistics\\nfrom sklearn.model_selection import train_test_split\\nfrom sklearn.manifold import TSNE\\nfrom sklearn import svm\\nimport lightgbm as lgb'); }\n    "
     },
     "metadata": {}
    },
    {
     "output_type": "display_data",
     "data": {
      "text/plain": "<IPython.core.display.Javascript object>",
      "application/javascript": "\n        if (window._pyforest_update_imports_cell) { window._pyforest_update_imports_cell('from sklearn.ensemble import RandomForestClassifier\\nimport datetime as dt\\nfrom pathlib import Path\\nimport gensim\\nfrom sklearn.ensemble import GradientBoostingRegressor\\nfrom dask import dataframe as dd\\nimport plotly.express as px\\nimport tqdm\\nimport pickle\\nfrom openpyxl import load_workbook\\nfrom sklearn.preprocessing import OneHotEncoder\\nimport plotly.graph_objs as go\\nimport spacy\\nimport xgboost as xgb\\nimport plotly as py\\nimport sklearn\\nfrom sklearn.ensemble import RandomForestRegressor\\nimport matplotlib as mpl\\nimport bokeh\\nfrom sklearn.feature_extraction.text import TfidfVectorizer\\nimport seaborn as sns\\nimport glob\\nimport nltk\\nfrom sklearn.ensemble import GradientBoostingClassifier\\nimport statistics\\nfrom sklearn.model_selection import train_test_split\\nfrom sklearn.manifold import TSNE\\nfrom sklearn import svm\\nimport lightgbm as lgb'); }\n    "
     },
     "metadata": {}
    },
    {
     "output_type": "display_data",
     "data": {
      "text/plain": "<IPython.core.display.Javascript object>",
      "application/javascript": "\n        if (window._pyforest_update_imports_cell) { window._pyforest_update_imports_cell('from sklearn.ensemble import RandomForestClassifier\\nimport datetime as dt\\nfrom pathlib import Path\\nimport gensim\\nfrom sklearn.ensemble import GradientBoostingRegressor\\nfrom dask import dataframe as dd\\nimport plotly.express as px\\nimport tqdm\\nimport pickle\\nfrom openpyxl import load_workbook\\nfrom sklearn.preprocessing import OneHotEncoder\\nimport plotly.graph_objs as go\\nimport spacy\\nimport xgboost as xgb\\nimport plotly as py\\nimport sklearn\\nfrom sklearn.ensemble import RandomForestRegressor\\nimport matplotlib as mpl\\nimport bokeh\\nfrom sklearn.feature_extraction.text import TfidfVectorizer\\nimport seaborn as sns\\nimport glob\\nimport nltk\\nfrom sklearn.ensemble import GradientBoostingClassifier\\nimport statistics\\nfrom sklearn.model_selection import train_test_split\\nfrom sklearn.manifold import TSNE\\nfrom sklearn import svm\\nimport lightgbm as lgb'); }\n    "
     },
     "metadata": {}
    },
    {
     "output_type": "display_data",
     "data": {
      "text/plain": "<IPython.core.display.Javascript object>",
      "application/javascript": "\n        if (window._pyforest_update_imports_cell) { window._pyforest_update_imports_cell('from sklearn.ensemble import RandomForestClassifier\\nimport datetime as dt\\nfrom pathlib import Path\\nimport gensim\\nfrom sklearn.ensemble import GradientBoostingRegressor\\nfrom dask import dataframe as dd\\nimport plotly.express as px\\nimport tqdm\\nimport pickle\\nfrom openpyxl import load_workbook\\nfrom sklearn.preprocessing import OneHotEncoder\\nimport plotly.graph_objs as go\\nimport spacy\\nimport xgboost as xgb\\nimport plotly as py\\nimport sklearn\\nfrom sklearn.ensemble import RandomForestRegressor\\nimport matplotlib as mpl\\nimport bokeh\\nfrom sklearn.feature_extraction.text import TfidfVectorizer\\nimport seaborn as sns\\nimport glob\\nimport nltk\\nfrom sklearn.ensemble import GradientBoostingClassifier\\nimport statistics\\nfrom sklearn.model_selection import train_test_split\\nfrom sklearn.manifold import TSNE\\nfrom sklearn import svm\\nimport lightgbm as lgb'); }\n    "
     },
     "metadata": {}
    },
    {
     "output_type": "display_data",
     "data": {
      "text/plain": "<IPython.core.display.Javascript object>",
      "application/javascript": "\n        if (window._pyforest_update_imports_cell) { window._pyforest_update_imports_cell('from sklearn.ensemble import RandomForestClassifier\\nimport datetime as dt\\nfrom pathlib import Path\\nimport gensim\\nfrom sklearn.ensemble import GradientBoostingRegressor\\nfrom dask import dataframe as dd\\nimport plotly.express as px\\nimport tqdm\\nimport pickle\\nfrom openpyxl import load_workbook\\nfrom sklearn.preprocessing import OneHotEncoder\\nimport plotly.graph_objs as go\\nimport spacy\\nimport xgboost as xgb\\nimport plotly as py\\nimport sklearn\\nfrom sklearn.ensemble import RandomForestRegressor\\nimport matplotlib as mpl\\nimport bokeh\\nfrom sklearn.feature_extraction.text import TfidfVectorizer\\nimport seaborn as sns\\nimport glob\\nimport nltk\\nfrom sklearn.ensemble import GradientBoostingClassifier\\nimport statistics\\nfrom sklearn.model_selection import train_test_split\\nfrom sklearn.manifold import TSNE\\nfrom sklearn import svm\\nimport lightgbm as lgb'); }\n    "
     },
     "metadata": {}
    },
    {
     "output_type": "display_data",
     "data": {
      "text/plain": "<IPython.core.display.Javascript object>",
      "application/javascript": "\n        if (window._pyforest_update_imports_cell) { window._pyforest_update_imports_cell('from sklearn.ensemble import RandomForestClassifier\\nimport datetime as dt\\nfrom pathlib import Path\\nimport gensim\\nfrom sklearn.ensemble import GradientBoostingRegressor\\nfrom dask import dataframe as dd\\nimport plotly.express as px\\nimport tqdm\\nimport pickle\\nfrom openpyxl import load_workbook\\nfrom sklearn.preprocessing import OneHotEncoder\\nimport plotly.graph_objs as go\\nimport spacy\\nimport xgboost as xgb\\nimport plotly as py\\nimport sklearn\\nfrom sklearn.ensemble import RandomForestRegressor\\nimport matplotlib as mpl\\nimport bokeh\\nfrom sklearn.feature_extraction.text import TfidfVectorizer\\nimport seaborn as sns\\nimport glob\\nimport nltk\\nfrom sklearn.ensemble import GradientBoostingClassifier\\nimport statistics\\nfrom sklearn.model_selection import train_test_split\\nfrom sklearn.manifold import TSNE\\nfrom sklearn import svm\\nimport lightgbm as lgb'); }\n    "
     },
     "metadata": {}
    },
    {
     "output_type": "display_data",
     "data": {
      "text/plain": "<IPython.core.display.Javascript object>",
      "application/javascript": "\n        if (window._pyforest_update_imports_cell) { window._pyforest_update_imports_cell('from sklearn.ensemble import RandomForestClassifier\\nimport datetime as dt\\nfrom pathlib import Path\\nimport gensim\\nfrom sklearn.ensemble import GradientBoostingRegressor\\nfrom dask import dataframe as dd\\nimport plotly.express as px\\nimport tqdm\\nimport pickle\\nfrom openpyxl import load_workbook\\nfrom sklearn.preprocessing import OneHotEncoder\\nimport plotly.graph_objs as go\\nimport spacy\\nimport xgboost as xgb\\nimport plotly as py\\nimport sklearn\\nfrom sklearn.ensemble import RandomForestRegressor\\nimport matplotlib as mpl\\nimport bokeh\\nfrom sklearn.feature_extraction.text import TfidfVectorizer\\nimport seaborn as sns\\nimport glob\\nimport nltk\\nfrom sklearn.ensemble import GradientBoostingClassifier\\nimport statistics\\nfrom sklearn.model_selection import train_test_split\\nfrom sklearn.manifold import TSNE\\nfrom sklearn import svm\\nimport lightgbm as lgb'); }\n    "
     },
     "metadata": {}
    },
    {
     "output_type": "display_data",
     "data": {
      "text/plain": "<IPython.core.display.Javascript object>",
      "application/javascript": "\n        if (window._pyforest_update_imports_cell) { window._pyforest_update_imports_cell('from sklearn.ensemble import RandomForestClassifier\\nimport datetime as dt\\nfrom pathlib import Path\\nimport gensim\\nfrom sklearn.ensemble import GradientBoostingRegressor\\nfrom dask import dataframe as dd\\nimport plotly.express as px\\nimport tqdm\\nimport pickle\\nfrom openpyxl import load_workbook\\nfrom sklearn.preprocessing import OneHotEncoder\\nimport plotly.graph_objs as go\\nimport spacy\\nimport xgboost as xgb\\nimport plotly as py\\nimport sklearn\\nfrom sklearn.ensemble import RandomForestRegressor\\nimport matplotlib as mpl\\nimport bokeh\\nfrom sklearn.feature_extraction.text import TfidfVectorizer\\nimport seaborn as sns\\nimport glob\\nimport nltk\\nfrom sklearn.ensemble import GradientBoostingClassifier\\nimport statistics\\nfrom sklearn.model_selection import train_test_split\\nfrom sklearn.manifold import TSNE\\nfrom sklearn import svm\\nimport lightgbm as lgb'); }\n    "
     },
     "metadata": {}
    },
    {
     "output_type": "display_data",
     "data": {
      "text/plain": "<IPython.core.display.Javascript object>",
      "application/javascript": "\n        if (window._pyforest_update_imports_cell) { window._pyforest_update_imports_cell('from sklearn.ensemble import RandomForestClassifier\\nimport datetime as dt\\nfrom pathlib import Path\\nimport gensim\\nfrom sklearn.ensemble import GradientBoostingRegressor\\nfrom dask import dataframe as dd\\nimport plotly.express as px\\nimport tqdm\\nimport pickle\\nfrom openpyxl import load_workbook\\nfrom sklearn.preprocessing import OneHotEncoder\\nimport plotly.graph_objs as go\\nimport spacy\\nimport xgboost as xgb\\nimport plotly as py\\nimport sklearn\\nfrom sklearn.ensemble import RandomForestRegressor\\nimport matplotlib as mpl\\nimport bokeh\\nfrom sklearn.feature_extraction.text import TfidfVectorizer\\nimport seaborn as sns\\nimport glob\\nimport nltk\\nfrom sklearn.ensemble import GradientBoostingClassifier\\nimport statistics\\nfrom sklearn.model_selection import train_test_split\\nfrom sklearn.manifold import TSNE\\nfrom sklearn import svm\\nimport lightgbm as lgb'); }\n    "
     },
     "metadata": {}
    },
    {
     "output_type": "display_data",
     "data": {
      "text/plain": "<IPython.core.display.Javascript object>",
      "application/javascript": "\n        if (window._pyforest_update_imports_cell) { window._pyforest_update_imports_cell('from sklearn.ensemble import RandomForestClassifier\\nimport datetime as dt\\nfrom pathlib import Path\\nimport gensim\\nfrom sklearn.ensemble import GradientBoostingRegressor\\nfrom dask import dataframe as dd\\nimport plotly.express as px\\nimport tqdm\\nimport pickle\\nfrom openpyxl import load_workbook\\nfrom sklearn.preprocessing import OneHotEncoder\\nimport plotly.graph_objs as go\\nimport spacy\\nimport xgboost as xgb\\nimport plotly as py\\nimport sklearn\\nfrom sklearn.ensemble import RandomForestRegressor\\nimport matplotlib as mpl\\nimport bokeh\\nfrom sklearn.feature_extraction.text import TfidfVectorizer\\nimport seaborn as sns\\nimport glob\\nimport nltk\\nfrom sklearn.ensemble import GradientBoostingClassifier\\nimport statistics\\nfrom sklearn.model_selection import train_test_split\\nfrom sklearn.manifold import TSNE\\nfrom sklearn import svm\\nimport lightgbm as lgb'); }\n    "
     },
     "metadata": {}
    },
    {
     "output_type": "display_data",
     "data": {
      "text/plain": "<IPython.core.display.Javascript object>",
      "application/javascript": "\n        if (window._pyforest_update_imports_cell) { window._pyforest_update_imports_cell('from sklearn.ensemble import RandomForestClassifier\\nimport datetime as dt\\nfrom pathlib import Path\\nimport gensim\\nfrom sklearn.ensemble import GradientBoostingRegressor\\nfrom dask import dataframe as dd\\nimport plotly.express as px\\nimport tqdm\\nimport pickle\\nfrom openpyxl import load_workbook\\nfrom sklearn.preprocessing import OneHotEncoder\\nimport plotly.graph_objs as go\\nimport spacy\\nimport xgboost as xgb\\nimport plotly as py\\nimport sklearn\\nfrom sklearn.ensemble import RandomForestRegressor\\nimport matplotlib as mpl\\nimport bokeh\\nfrom sklearn.feature_extraction.text import TfidfVectorizer\\nimport seaborn as sns\\nimport glob\\nimport nltk\\nfrom sklearn.ensemble import GradientBoostingClassifier\\nimport statistics\\nfrom sklearn.model_selection import train_test_split\\nfrom sklearn.manifold import TSNE\\nfrom sklearn import svm\\nimport lightgbm as lgb'); }\n    "
     },
     "metadata": {}
    },
    {
     "output_type": "display_data",
     "data": {
      "text/plain": "<IPython.core.display.Javascript object>",
      "application/javascript": "\n        if (window._pyforest_update_imports_cell) { window._pyforest_update_imports_cell('from sklearn.ensemble import RandomForestClassifier\\nimport datetime as dt\\nfrom pathlib import Path\\nimport gensim\\nfrom sklearn.ensemble import GradientBoostingRegressor\\nfrom dask import dataframe as dd\\nimport plotly.express as px\\nimport tqdm\\nimport pickle\\nfrom openpyxl import load_workbook\\nfrom sklearn.preprocessing import OneHotEncoder\\nimport plotly.graph_objs as go\\nimport spacy\\nimport xgboost as xgb\\nimport plotly as py\\nimport sklearn\\nfrom sklearn.ensemble import RandomForestRegressor\\nimport matplotlib as mpl\\nimport bokeh\\nfrom sklearn.feature_extraction.text import TfidfVectorizer\\nimport seaborn as sns\\nimport glob\\nimport nltk\\nfrom sklearn.ensemble import GradientBoostingClassifier\\nimport statistics\\nfrom sklearn.model_selection import train_test_split\\nfrom sklearn.manifold import TSNE\\nfrom sklearn import svm\\nimport lightgbm as lgb'); }\n    "
     },
     "metadata": {}
    },
    {
     "output_type": "display_data",
     "data": {
      "text/plain": "<IPython.core.display.Javascript object>",
      "application/javascript": "\n        if (window._pyforest_update_imports_cell) { window._pyforest_update_imports_cell('from sklearn.ensemble import RandomForestClassifier\\nimport datetime as dt\\nfrom pathlib import Path\\nimport gensim\\nfrom sklearn.ensemble import GradientBoostingRegressor\\nfrom dask import dataframe as dd\\nimport plotly.express as px\\nimport tqdm\\nimport pickle\\nfrom openpyxl import load_workbook\\nfrom sklearn.preprocessing import OneHotEncoder\\nimport plotly.graph_objs as go\\nimport spacy\\nimport xgboost as xgb\\nimport plotly as py\\nimport sklearn\\nfrom sklearn.ensemble import RandomForestRegressor\\nimport matplotlib as mpl\\nimport bokeh\\nfrom sklearn.feature_extraction.text import TfidfVectorizer\\nimport seaborn as sns\\nimport glob\\nimport nltk\\nfrom sklearn.ensemble import GradientBoostingClassifier\\nimport statistics\\nfrom sklearn.model_selection import train_test_split\\nfrom sklearn.manifold import TSNE\\nfrom sklearn import svm\\nimport lightgbm as lgb'); }\n    "
     },
     "metadata": {}
    },
    {
     "output_type": "display_data",
     "data": {
      "text/plain": "<IPython.core.display.Javascript object>",
      "application/javascript": "\n        if (window._pyforest_update_imports_cell) { window._pyforest_update_imports_cell('from sklearn.ensemble import RandomForestClassifier\\nimport datetime as dt\\nfrom pathlib import Path\\nimport gensim\\nfrom sklearn.ensemble import GradientBoostingRegressor\\nfrom dask import dataframe as dd\\nimport plotly.express as px\\nimport tqdm\\nimport pickle\\nfrom openpyxl import load_workbook\\nfrom sklearn.preprocessing import OneHotEncoder\\nimport plotly.graph_objs as go\\nimport spacy\\nimport xgboost as xgb\\nimport plotly as py\\nimport sklearn\\nfrom sklearn.ensemble import RandomForestRegressor\\nimport matplotlib as mpl\\nimport bokeh\\nfrom sklearn.feature_extraction.text import TfidfVectorizer\\nimport seaborn as sns\\nimport glob\\nimport nltk\\nfrom sklearn.ensemble import GradientBoostingClassifier\\nimport statistics\\nfrom sklearn.model_selection import train_test_split\\nfrom sklearn.manifold import TSNE\\nfrom sklearn import svm\\nimport lightgbm as lgb'); }\n    "
     },
     "metadata": {}
    },
    {
     "output_type": "display_data",
     "data": {
      "text/plain": "<IPython.core.display.Javascript object>",
      "application/javascript": "\n        if (window._pyforest_update_imports_cell) { window._pyforest_update_imports_cell('from sklearn.ensemble import RandomForestClassifier\\nimport datetime as dt\\nfrom pathlib import Path\\nimport gensim\\nfrom sklearn.ensemble import GradientBoostingRegressor\\nfrom dask import dataframe as dd\\nimport plotly.express as px\\nimport tqdm\\nimport pickle\\nfrom openpyxl import load_workbook\\nfrom sklearn.preprocessing import OneHotEncoder\\nimport plotly.graph_objs as go\\nimport spacy\\nimport xgboost as xgb\\nimport plotly as py\\nimport sklearn\\nfrom sklearn.ensemble import RandomForestRegressor\\nimport matplotlib as mpl\\nimport bokeh\\nfrom sklearn.feature_extraction.text import TfidfVectorizer\\nimport seaborn as sns\\nimport glob\\nimport nltk\\nfrom sklearn.ensemble import GradientBoostingClassifier\\nimport statistics\\nfrom sklearn.model_selection import train_test_split\\nfrom sklearn.manifold import TSNE\\nfrom sklearn import svm\\nimport lightgbm as lgb'); }\n    "
     },
     "metadata": {}
    },
    {
     "output_type": "display_data",
     "data": {
      "text/plain": "<IPython.core.display.Javascript object>",
      "application/javascript": "\n        if (window._pyforest_update_imports_cell) { window._pyforest_update_imports_cell('from sklearn.ensemble import RandomForestClassifier\\nimport datetime as dt\\nfrom pathlib import Path\\nimport gensim\\nfrom sklearn.ensemble import GradientBoostingRegressor\\nfrom dask import dataframe as dd\\nimport plotly.express as px\\nimport tqdm\\nimport pickle\\nfrom openpyxl import load_workbook\\nfrom sklearn.preprocessing import OneHotEncoder\\nimport plotly.graph_objs as go\\nimport spacy\\nimport xgboost as xgb\\nimport plotly as py\\nimport sklearn\\nfrom sklearn.ensemble import RandomForestRegressor\\nimport matplotlib as mpl\\nimport bokeh\\nfrom sklearn.feature_extraction.text import TfidfVectorizer\\nimport seaborn as sns\\nimport glob\\nimport nltk\\nfrom sklearn.ensemble import GradientBoostingClassifier\\nimport statistics\\nfrom sklearn.model_selection import train_test_split\\nfrom sklearn.manifold import TSNE\\nfrom sklearn import svm\\nimport lightgbm as lgb'); }\n    "
     },
     "metadata": {}
    },
    {
     "output_type": "display_data",
     "data": {
      "text/plain": "<IPython.core.display.Javascript object>",
      "application/javascript": "\n        if (window._pyforest_update_imports_cell) { window._pyforest_update_imports_cell('from sklearn.ensemble import RandomForestClassifier\\nimport datetime as dt\\nfrom pathlib import Path\\nimport gensim\\nfrom sklearn.ensemble import GradientBoostingRegressor\\nfrom dask import dataframe as dd\\nimport plotly.express as px\\nimport tqdm\\nimport pickle\\nfrom openpyxl import load_workbook\\nfrom sklearn.preprocessing import OneHotEncoder\\nimport plotly.graph_objs as go\\nimport spacy\\nimport xgboost as xgb\\nimport plotly as py\\nimport sklearn\\nfrom sklearn.ensemble import RandomForestRegressor\\nimport matplotlib as mpl\\nimport bokeh\\nfrom sklearn.feature_extraction.text import TfidfVectorizer\\nimport seaborn as sns\\nimport glob\\nimport nltk\\nfrom sklearn.ensemble import GradientBoostingClassifier\\nimport statistics\\nfrom sklearn.model_selection import train_test_split\\nfrom sklearn.manifold import TSNE\\nfrom sklearn import svm\\nimport lightgbm as lgb'); }\n    "
     },
     "metadata": {}
    },
    {
     "output_type": "display_data",
     "data": {
      "text/plain": "<IPython.core.display.Javascript object>",
      "application/javascript": "\n        if (window._pyforest_update_imports_cell) { window._pyforest_update_imports_cell('from sklearn.ensemble import RandomForestClassifier\\nimport datetime as dt\\nfrom pathlib import Path\\nimport gensim\\nfrom sklearn.ensemble import GradientBoostingRegressor\\nfrom dask import dataframe as dd\\nimport plotly.express as px\\nimport tqdm\\nimport pickle\\nfrom openpyxl import load_workbook\\nfrom sklearn.preprocessing import OneHotEncoder\\nimport plotly.graph_objs as go\\nimport spacy\\nimport xgboost as xgb\\nimport plotly as py\\nimport sklearn\\nfrom sklearn.ensemble import RandomForestRegressor\\nimport matplotlib as mpl\\nimport bokeh\\nfrom sklearn.feature_extraction.text import TfidfVectorizer\\nimport seaborn as sns\\nimport glob\\nimport nltk\\nfrom sklearn.ensemble import GradientBoostingClassifier\\nimport statistics\\nfrom sklearn.model_selection import train_test_split\\nfrom sklearn.manifold import TSNE\\nfrom sklearn import svm\\nimport lightgbm as lgb'); }\n    "
     },
     "metadata": {}
    },
    {
     "output_type": "display_data",
     "data": {
      "text/plain": "<IPython.core.display.Javascript object>",
      "application/javascript": "\n        if (window._pyforest_update_imports_cell) { window._pyforest_update_imports_cell('from sklearn.ensemble import RandomForestClassifier\\nimport datetime as dt\\nfrom pathlib import Path\\nimport gensim\\nfrom sklearn.ensemble import GradientBoostingRegressor\\nfrom dask import dataframe as dd\\nimport plotly.express as px\\nimport tqdm\\nimport pickle\\nfrom openpyxl import load_workbook\\nfrom sklearn.preprocessing import OneHotEncoder\\nimport plotly.graph_objs as go\\nimport spacy\\nimport xgboost as xgb\\nimport plotly as py\\nimport sklearn\\nfrom sklearn.ensemble import RandomForestRegressor\\nimport matplotlib as mpl\\nimport bokeh\\nfrom sklearn.feature_extraction.text import TfidfVectorizer\\nimport seaborn as sns\\nimport glob\\nimport nltk\\nfrom sklearn.ensemble import GradientBoostingClassifier\\nimport statistics\\nfrom sklearn.model_selection import train_test_split\\nfrom sklearn.manifold import TSNE\\nfrom sklearn import svm\\nimport lightgbm as lgb'); }\n    "
     },
     "metadata": {}
    },
    {
     "output_type": "display_data",
     "data": {
      "text/plain": "<IPython.core.display.Javascript object>",
      "application/javascript": "\n        if (window._pyforest_update_imports_cell) { window._pyforest_update_imports_cell('from sklearn.ensemble import RandomForestClassifier\\nimport datetime as dt\\nfrom pathlib import Path\\nimport gensim\\nfrom sklearn.ensemble import GradientBoostingRegressor\\nfrom dask import dataframe as dd\\nimport plotly.express as px\\nimport tqdm\\nimport pickle\\nfrom openpyxl import load_workbook\\nfrom sklearn.preprocessing import OneHotEncoder\\nimport plotly.graph_objs as go\\nimport spacy\\nimport xgboost as xgb\\nimport plotly as py\\nimport sklearn\\nfrom sklearn.ensemble import RandomForestRegressor\\nimport matplotlib as mpl\\nimport bokeh\\nfrom sklearn.feature_extraction.text import TfidfVectorizer\\nimport seaborn as sns\\nimport glob\\nimport nltk\\nfrom sklearn.ensemble import GradientBoostingClassifier\\nimport statistics\\nfrom sklearn.model_selection import train_test_split\\nfrom sklearn.manifold import TSNE\\nfrom sklearn import svm\\nimport lightgbm as lgb'); }\n    "
     },
     "metadata": {}
    },
    {
     "output_type": "display_data",
     "data": {
      "text/plain": "<IPython.core.display.Javascript object>",
      "application/javascript": "\n        if (window._pyforest_update_imports_cell) { window._pyforest_update_imports_cell('from sklearn.ensemble import RandomForestClassifier\\nimport datetime as dt\\nfrom pathlib import Path\\nimport gensim\\nfrom sklearn.ensemble import GradientBoostingRegressor\\nfrom dask import dataframe as dd\\nimport plotly.express as px\\nimport tqdm\\nimport pickle\\nfrom openpyxl import load_workbook\\nfrom sklearn.preprocessing import OneHotEncoder\\nimport plotly.graph_objs as go\\nimport spacy\\nimport xgboost as xgb\\nimport plotly as py\\nimport sklearn\\nfrom sklearn.ensemble import RandomForestRegressor\\nimport matplotlib as mpl\\nimport bokeh\\nfrom sklearn.feature_extraction.text import TfidfVectorizer\\nimport seaborn as sns\\nimport glob\\nimport nltk\\nfrom sklearn.ensemble import GradientBoostingClassifier\\nimport statistics\\nfrom sklearn.model_selection import train_test_split\\nfrom sklearn.manifold import TSNE\\nfrom sklearn import svm\\nimport lightgbm as lgb'); }\n    "
     },
     "metadata": {}
    },
    {
     "output_type": "stream",
     "name": "stderr",
     "text": [
      "ERROR:root:Internal Python error in the inspect module.\n",
      "Below is the traceback from this internal error.\n",
      "\n",
      "\n",
      "KeyboardInterrupt\n",
      "\n"
     ]
    }
   ],
   "source": [
    "nov_month=train_day_df_A[train_day_df_A['month']==11]\n",
    "nov_month_18=nov_month[nov_month['year']==2018][['WKD_TYP_CD','amount']].reset_index(drop=True)\n",
    "nov_month_19=nov_month[nov_month['year']==2019][['WKD_TYP_CD','amount']].reset_index(drop=True)\n",
    "nov_month_18['amount']/=np.sum(nov_month_18['amount'])\n",
    "nov_month_19['amount']/=np.sum(nov_month_19['amount'])\n",
    "nov_month_18['amount'].plot()\n",
    "nov_month_19['amount'].plot()\n",
    "print(nov_month_18[nov_month_18['WKD_TYP_CD']==0]['amount'].mean())\n",
    "print(nov_month_19[nov_month_19['WKD_TYP_CD']==0]['amount'].mean())\n",
    "print(nov_month_18[nov_month_18['WKD_TYP_CD']==1]['amount'].mean())\n",
    "print(nov_month_19[nov_month_19['WKD_TYP_CD']==1]['amount'].mean())"
   ]
  },
  {
   "source": [
    "## 结果\n",
    "0.03926397564658053  \n",
    "0.0415190392097041  \n",
    "0.017024066971903562  \n",
    "0.014233352955134861  \n",
    "所以如果得到20年11月份的总业务量nov_2020  \n",
    "nov_2020*(0.039+0.041)/2 if 当前day的WKD_TYP_CD==0  \n",
    "nov_2020*(0.017+0.014)/2 if 当前day的WKD_TYP_CD==1\n"
   ],
   "cell_type": "markdown",
   "metadata": {}
  },
  {
   "source": [
    "## 规则法建模\n",
    "\n",
    "经过上面的分析其实可以看出来数据规律性极强，辅以一定简单的模型和规则就可以取得很好的效果，这里点到为止咯，大家自己项怎么利用数据的规律\n",
    "。目前利用**数据规律+一定的规则**可以得到的分数:\n",
    "- 任务一: 0.09\n",
    "- 任务二: 0.23"
   ],
   "cell_type": "markdown",
   "metadata": {}
  }
 ],
 "metadata": {
  "kernelspec": {
   "name": "python385jvsc74a57bd008219d2bbc1c592f5b0f3e7ef2f80ca28b4165954bedf59d72785e9fc87d14de",
   "display_name": "Python 3.8.5 64-bit ('base': conda)"
  },
  "language_info": {
   "codemirror_mode": {
    "name": "ipython",
    "version": 3
   },
   "file_extension": ".py",
   "mimetype": "text/x-python",
   "name": "python",
   "nbconvert_exporter": "python",
   "pygments_lexer": "ipython3",
   "version": "3.8.5"
  }
 },
 "nbformat": 4,
 "nbformat_minor": 4
}